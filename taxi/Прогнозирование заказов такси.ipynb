{
 "cells": [
  {
   "cell_type": "code",
   "execution_count": 1,
   "metadata": {},
   "outputs": [],
   "source": [
    "!pip install optuna -q\n",
    "!pip install optuna-integration[sklearn] -q\n",
    "!pip install phik -q\n",
    "!pip install scikit-learn==1.2.2 imbalanced-learn==0.11.0 -q"
   ]
  },
  {
   "cell_type": "code",
   "execution_count": 2,
   "metadata": {},
   "outputs": [],
   "source": [
    "import numpy as np\n",
    "import pandas as pd\n",
    "import seaborn as sns\n",
    "import matplotlib.pyplot as plt\n",
    "from IPython.display import display\n",
    "from sklearn.model_selection import (train_test_split, RandomizedSearchCV,\n",
    "                                     GridSearchCV, cross_val_score, TimeSeriesSplit)\n",
    "\n",
    "from sklearn.preprocessing import (OneHotEncoder, LabelEncoder, OrdinalEncoder,\n",
    "                                   StandardScaler, MinMaxScaler)\n",
    "from sklearn.model_selection import cross_validate\n",
    "from sklearn.ensemble import RandomForestRegressor\n",
    "from lightgbm import LGBMRegressor\n",
    "from sklearn.neighbors import KNeighborsRegressor\n",
    "from sklearn.tree import DecisionTreeRegressor\n",
    "from sklearn.linear_model import LinearRegression, Ridge, Lasso\n",
    "from sklearn.tree import DecisionTreeRegressor\n",
    "from catboost import CatBoostRegressor\n",
    "\n",
    "from sklearn.metrics import (mean_absolute_error, r2_score, mean_squared_error,\n",
    "                             accuracy_score, roc_auc_score, confusion_matrix,\n",
    "                             recall_score, precision_score, make_scorer)\n",
    "\n",
    "from sklearn.impute import SimpleImputer\n",
    "from sklearn.compose import ColumnTransformer\n",
    "from sklearn.pipeline import Pipeline\n",
    "\n",
    "from sklearn.feature_selection import (SelectKBest, mutual_info_regression,\n",
    "                                       mutual_info_classif)\n",
    "\n",
    "from statsmodels.tsa.seasonal import seasonal_decompose\n",
    "\n",
    "import warnings\n",
    "warnings.filterwarnings(\"ignore\", category=FutureWarning)\n",
    "\n",
    "\n",
    "RANDOM_STATE = 42"
   ]
  },
  {
   "cell_type": "markdown",
   "metadata": {
    "toc": true
   },
   "source": [
    "<h1>Содержание<span class=\"tocSkip\"></span></h1>\n",
    "<div class=\"toc\"><ul class=\"toc-item\"><li><span><a href=\"#Загрузка-данных-и-подготовка\" data-toc-modified-id=\"Загрузка-данных-и-подготовка-1\"><span class=\"toc-item-num\">1&nbsp;&nbsp;</span>Загрузка данных и подготовка</a></span></li><li><span><a href=\"#Анализ\" data-toc-modified-id=\"Анализ-2\"><span class=\"toc-item-num\">2&nbsp;&nbsp;</span>Анализ</a></span><ul class=\"toc-item\"><li><span><a href=\"#Вывод\" data-toc-modified-id=\"Вывод-2.1\"><span class=\"toc-item-num\">2.1&nbsp;&nbsp;</span>Вывод</a></span></li></ul></li><li><span><a href=\"#Создание-новый-признаков\" data-toc-modified-id=\"Создание-новый-признаков-3\"><span class=\"toc-item-num\">3&nbsp;&nbsp;</span>Создание новый признаков</a></span></li><li><span><a href=\"#Обучение\" data-toc-modified-id=\"Обучение-4\"><span class=\"toc-item-num\">4&nbsp;&nbsp;</span>Обучение</a></span><ul class=\"toc-item\"><li><span><a href=\"#Создание-пайплайна\" data-toc-modified-id=\"Создание-пайплайна-4.1\"><span class=\"toc-item-num\">4.1&nbsp;&nbsp;</span>Создание пайплайна</a></span></li><li><span><a href=\"#Обучение-моеделй\" data-toc-modified-id=\"Обучение-моеделй-4.2\"><span class=\"toc-item-num\">4.2&nbsp;&nbsp;</span>Обучение моеделй</a></span></li><li><span><a href=\"#Обучение-модели-LightGBM\" data-toc-modified-id=\"Обучение-модели-LightGBM-4.3\"><span class=\"toc-item-num\">4.3&nbsp;&nbsp;</span>Обучение модели LightGBM</a></span></li><li><span><a href=\"#Обучение-модели-CatBoost\" data-toc-modified-id=\"Обучение-модели-CatBoost-4.4\"><span class=\"toc-item-num\">4.4&nbsp;&nbsp;</span>Обучение модели CatBoost</a></span></li><li><span><a href=\"#Подбор-гиперпараметров-для-небустинговых-моделей\" data-toc-modified-id=\"Подбор-гиперпараметров-для-небустинговых-моделей-4.5\"><span class=\"toc-item-num\">4.5&nbsp;&nbsp;</span>Подбор гиперпараметров для небустинговых моделей</a></span></li></ul></li><li><span><a href=\"#Тестирование\" data-toc-modified-id=\"Тестирование-5\"><span class=\"toc-item-num\">5&nbsp;&nbsp;</span>Тестирование</a></span><ul class=\"toc-item\"><li><span><a href=\"#Анализ-остатков\" data-toc-modified-id=\"Анализ-остатков-5.1\"><span class=\"toc-item-num\">5.1&nbsp;&nbsp;</span>Анализ остатков</a></span></li></ul></li><li><span><a href=\"#Вывод\" data-toc-modified-id=\"Вывод-6\"><span class=\"toc-item-num\">6&nbsp;&nbsp;</span>Вывод</a></span></li></ul></div>"
   ]
  },
  {
   "cell_type": "markdown",
   "metadata": {},
   "source": [
    "#  Прогнозирование заказов такси"
   ]
  },
  {
   "cell_type": "markdown",
   "metadata": {},
   "source": [
    "Компания «Чётенькое такси» собрала исторические данные о заказах такси в аэропортах. Чтобы привлекать больше водителей в период пиковой нагрузки, нужно спрогнозировать количество заказов такси на следующий час. Постройте модель для такого предсказания.\n",
    "\n",
    "Значение метрики *RMSE* на тестовой выборке должно быть не больше 48.\n",
    "\n",
    "Вам нужно:\n",
    "\n",
    "1. Загрузить данные и выполнить их ресемплирование по одному часу.\n",
    "2. Проанализировать данные.\n",
    "3. Обучить разные модели с различными гиперпараметрами. Сделать тестовую выборку размером 10% от исходных данных.\n",
    "4. Проверить данные на тестовой выборке и сделать выводы.\n",
    "\n",
    "\n",
    "Данные лежат в файле `taxi.csv`. Количество заказов находится в столбце `num_orders` (от англ. *number of orders*, «число заказов»)."
   ]
  },
  {
   "cell_type": "markdown",
   "metadata": {},
   "source": [
    "**Этапы работы**\n",
    "\n",
    "**1. Загрузка и подготовка данных**  \n",
    "- Получение данных из файла `/datasets/taxi.csv`.  \n",
    "- Ознакомление со структурой данных.  \n",
    "- Преобразование формата данных и ресемплирование по одному часу.  \n",
    "\n",
    "**2. Анализ данных**  \n",
    "- Исследование распределения количества заказов.  \n",
    "- Выявление трендов и сезонности.  \n",
    "- Поиск выбросов и аномалий.  \n",
    "\n",
    "**3. Создание признаков**  \n",
    "- Добавление временных признаков (день недели, час, месяц и др.).  \n",
    "- Разработка лаговых признаков.  \n",
    "- Создание скользящих средних.  \n",
    "\n",
    "**4. Разделение данных**  \n",
    "- Разделение на обучающую и тестовую выборки (10% от исходных данных).   \n",
    "\n",
    "**5. Обучение и оценка моделей**  \n",
    "- Тестирование различных моделей машинного обучения (линейные модели, градиентный бустинг, случайный лес и др.).  \n",
    "- Настройка гиперпараметров для улучшения качества модели.  \n",
    "- Оценка качества моделей с использованием кросс-валидации.  \n",
    "\n",
    "**6. Проверка модели на тестовой выборке**  \n",
    "- Прогнозирование количества заказов на тестовых данных.  \n",
    "- Расчёт RMSE и сравнение с целевым значением (≤ 48).  \n",
    "- Анализ ошибок модели.   "
   ]
  },
  {
   "cell_type": "markdown",
   "metadata": {},
   "source": [
    "## Загрузка данных и подготовка"
   ]
  },
  {
   "cell_type": "code",
   "execution_count": 3,
   "metadata": {},
   "outputs": [],
   "source": [
    "data = pd.read_csv('/datasets/taxi.csv', parse_dates=['datetime'], index_col='datetime')"
   ]
  },
  {
   "cell_type": "code",
   "execution_count": 4,
   "metadata": {},
   "outputs": [],
   "source": [
    "def data_info(dataset):\n",
    "    print(\"Первые строки датафрейма\")\n",
    "    display(dataset.head())\n",
    "    print('\\n\\nПервичная информация')\n",
    "    dataset.info()\n",
    "    print('-' * 50)\n",
    "    print('\\n\\n')"
   ]
  },
  {
   "cell_type": "code",
   "execution_count": 5,
   "metadata": {},
   "outputs": [
    {
     "name": "stdout",
     "output_type": "stream",
     "text": [
      "Первые строки датафрейма\n"
     ]
    },
    {
     "data": {
      "text/html": [
       "<div>\n",
       "<style scoped>\n",
       "    .dataframe tbody tr th:only-of-type {\n",
       "        vertical-align: middle;\n",
       "    }\n",
       "\n",
       "    .dataframe tbody tr th {\n",
       "        vertical-align: top;\n",
       "    }\n",
       "\n",
       "    .dataframe thead th {\n",
       "        text-align: right;\n",
       "    }\n",
       "</style>\n",
       "<table border=\"1\" class=\"dataframe\">\n",
       "  <thead>\n",
       "    <tr style=\"text-align: right;\">\n",
       "      <th></th>\n",
       "      <th>num_orders</th>\n",
       "    </tr>\n",
       "    <tr>\n",
       "      <th>datetime</th>\n",
       "      <th></th>\n",
       "    </tr>\n",
       "  </thead>\n",
       "  <tbody>\n",
       "    <tr>\n",
       "      <th>2018-03-01 00:00:00</th>\n",
       "      <td>9</td>\n",
       "    </tr>\n",
       "    <tr>\n",
       "      <th>2018-03-01 00:10:00</th>\n",
       "      <td>14</td>\n",
       "    </tr>\n",
       "    <tr>\n",
       "      <th>2018-03-01 00:20:00</th>\n",
       "      <td>28</td>\n",
       "    </tr>\n",
       "    <tr>\n",
       "      <th>2018-03-01 00:30:00</th>\n",
       "      <td>20</td>\n",
       "    </tr>\n",
       "    <tr>\n",
       "      <th>2018-03-01 00:40:00</th>\n",
       "      <td>32</td>\n",
       "    </tr>\n",
       "  </tbody>\n",
       "</table>\n",
       "</div>"
      ],
      "text/plain": [
       "                     num_orders\n",
       "datetime                       \n",
       "2018-03-01 00:00:00           9\n",
       "2018-03-01 00:10:00          14\n",
       "2018-03-01 00:20:00          28\n",
       "2018-03-01 00:30:00          20\n",
       "2018-03-01 00:40:00          32"
      ]
     },
     "metadata": {},
     "output_type": "display_data"
    },
    {
     "name": "stdout",
     "output_type": "stream",
     "text": [
      "\n",
      "\n",
      "Первичная информация\n",
      "<class 'pandas.core.frame.DataFrame'>\n",
      "DatetimeIndex: 26496 entries, 2018-03-01 00:00:00 to 2018-08-31 23:50:00\n",
      "Data columns (total 1 columns):\n",
      " #   Column      Non-Null Count  Dtype\n",
      "---  ------      --------------  -----\n",
      " 0   num_orders  26496 non-null  int64\n",
      "dtypes: int64(1)\n",
      "memory usage: 414.0 KB\n",
      "--------------------------------------------------\n",
      "\n",
      "\n",
      "\n"
     ]
    }
   ],
   "source": [
    "data_info(data)"
   ]
  },
  {
   "cell_type": "code",
   "execution_count": 6,
   "metadata": {},
   "outputs": [
    {
     "name": "stdout",
     "output_type": "stream",
     "text": [
      "Данные собраны с 2018-03-01 по 2018-08-31\n"
     ]
    }
   ],
   "source": [
    "# Проверим за какой промежуток времени собраны данные\n",
    "print(f\"Данные собраны с {data.index.min().strftime('%Y-%m-%d')} по {data.index.max().strftime('%Y-%m-%d')}\")"
   ]
  },
  {
   "cell_type": "code",
   "execution_count": 7,
   "metadata": {},
   "outputs": [
    {
     "name": "stdout",
     "output_type": "stream",
     "text": [
      "Первые строки датафрейма\n"
     ]
    },
    {
     "data": {
      "text/html": [
       "<div>\n",
       "<style scoped>\n",
       "    .dataframe tbody tr th:only-of-type {\n",
       "        vertical-align: middle;\n",
       "    }\n",
       "\n",
       "    .dataframe tbody tr th {\n",
       "        vertical-align: top;\n",
       "    }\n",
       "\n",
       "    .dataframe thead th {\n",
       "        text-align: right;\n",
       "    }\n",
       "</style>\n",
       "<table border=\"1\" class=\"dataframe\">\n",
       "  <thead>\n",
       "    <tr style=\"text-align: right;\">\n",
       "      <th></th>\n",
       "      <th>num_orders</th>\n",
       "    </tr>\n",
       "    <tr>\n",
       "      <th>datetime</th>\n",
       "      <th></th>\n",
       "    </tr>\n",
       "  </thead>\n",
       "  <tbody>\n",
       "    <tr>\n",
       "      <th>2018-03-01 00:00:00</th>\n",
       "      <td>124</td>\n",
       "    </tr>\n",
       "    <tr>\n",
       "      <th>2018-03-01 01:00:00</th>\n",
       "      <td>85</td>\n",
       "    </tr>\n",
       "    <tr>\n",
       "      <th>2018-03-01 02:00:00</th>\n",
       "      <td>71</td>\n",
       "    </tr>\n",
       "    <tr>\n",
       "      <th>2018-03-01 03:00:00</th>\n",
       "      <td>66</td>\n",
       "    </tr>\n",
       "    <tr>\n",
       "      <th>2018-03-01 04:00:00</th>\n",
       "      <td>43</td>\n",
       "    </tr>\n",
       "  </tbody>\n",
       "</table>\n",
       "</div>"
      ],
      "text/plain": [
       "                     num_orders\n",
       "datetime                       \n",
       "2018-03-01 00:00:00         124\n",
       "2018-03-01 01:00:00          85\n",
       "2018-03-01 02:00:00          71\n",
       "2018-03-01 03:00:00          66\n",
       "2018-03-01 04:00:00          43"
      ]
     },
     "metadata": {},
     "output_type": "display_data"
    },
    {
     "name": "stdout",
     "output_type": "stream",
     "text": [
      "\n",
      "\n",
      "Первичная информация\n",
      "<class 'pandas.core.frame.DataFrame'>\n",
      "DatetimeIndex: 4416 entries, 2018-03-01 00:00:00 to 2018-08-31 23:00:00\n",
      "Freq: H\n",
      "Data columns (total 1 columns):\n",
      " #   Column      Non-Null Count  Dtype\n",
      "---  ------      --------------  -----\n",
      " 0   num_orders  4416 non-null   int64\n",
      "dtypes: int64(1)\n",
      "memory usage: 69.0 KB\n",
      "--------------------------------------------------\n",
      "\n",
      "\n",
      "\n"
     ]
    }
   ],
   "source": [
    "# Выполним ресемпирование по одному часу\n",
    "data = data.resample('1H').sum()\n",
    "data_info(data)"
   ]
  },
  {
   "cell_type": "code",
   "execution_count": 8,
   "metadata": {},
   "outputs": [
    {
     "name": "stdout",
     "output_type": "stream",
     "text": [
      "True\n"
     ]
    }
   ],
   "source": [
    "#Проверка, что индекс монотонный\n",
    "print(data.index.is_monotonic)"
   ]
  },
  {
   "cell_type": "markdown",
   "metadata": {},
   "source": [
    "В данных нет пропусков\n",
    "\n",
    "Столбец с датами приведем к формату datetime\n",
    "\n",
    "Проведено ресемплирование по одному часу\n",
    "\n",
    "Даты расположены по возрастанию\n",
    "\n",
    "Данные собраны с 2018-03-01 по 2018-08-31"
   ]
  },
  {
   "cell_type": "markdown",
   "metadata": {},
   "source": [
    "## Анализ"
   ]
  },
  {
   "cell_type": "markdown",
   "metadata": {},
   "source": [
    "Сначала посмотрим на график количества заказов"
   ]
  },
  {
   "cell_type": "code",
   "execution_count": 9,
   "metadata": {},
   "outputs": [
    {
     "data": {
      "image/png": "[encoded data removed]",
      "text/plain": [
       "<Figure size 720x576 with 1 Axes>"
      ]
     },
     "metadata": {
      "needs_background": "light"
     },
     "output_type": "display_data"
    }
   ],
   "source": [
    "# Сначала посмотрим на график количества заказов\n",
    "plt.figure(figsize=(10, 8))\n",
    "data['num_orders'].plot(label='Фактические значения', alpha=0.6)\n",
    "\n",
    "# Скользящее среднее с окном 24 часа\n",
    "data['num_orders'].rolling(24).mean().plot(label='Скользящее среднее (24 часа)', color='red')\n",
    "\n",
    "plt.title(\"Количество заказов такси по времени\")\n",
    "plt.xlabel(\"Дата и время\")\n",
    "plt.ylabel(\"Число заказов\")\n",
    "plt.legend()\n",
    "plt.grid(True)\n",
    "plt.show()"
   ]
  },
  {
   "cell_type": "markdown",
   "metadata": {},
   "source": [
    "Заметим, что среднее количество заказов в день постепенно увеличивается к лету, что может быть связано с тем, компания растет, увеличивается база лояльных клиентов, которые готовы повторно обращаться за услугой"
   ]
  },
  {
   "cell_type": "code",
   "execution_count": 10,
   "metadata": {},
   "outputs": [],
   "source": [
    "# Создаем столбец с месяцами днями и часами и определяем сезоны\n",
    "data['month'] = data.index.month\n",
    "data['day'] = data.index.day\n",
    "data['hour'] = data.index.hour\n",
    "#Создадим признак с днем недели\n",
    "data['day_of_week'] = data.index.dayofweek"
   ]
  },
  {
   "cell_type": "markdown",
   "metadata": {},
   "source": [
    "Разделим данные на тренды и сезонность и посмотрим на всех данных, на данных по кадому времени года, а так же по каждому месяцу"
   ]
  },
  {
   "cell_type": "code",
   "execution_count": 11,
   "metadata": {},
   "outputs": [
    {
     "data": {
      "text/html": [
       "<div>\n",
       "<style scoped>\n",
       "    .dataframe tbody tr th:only-of-type {\n",
       "        vertical-align: middle;\n",
       "    }\n",
       "\n",
       "    .dataframe tbody tr th {\n",
       "        vertical-align: top;\n",
       "    }\n",
       "\n",
       "    .dataframe thead th {\n",
       "        text-align: right;\n",
       "    }\n",
       "</style>\n",
       "<table border=\"1\" class=\"dataframe\">\n",
       "  <thead>\n",
       "    <tr style=\"text-align: right;\">\n",
       "      <th></th>\n",
       "      <th>num_orders</th>\n",
       "      <th>month</th>\n",
       "      <th>day</th>\n",
       "      <th>hour</th>\n",
       "      <th>day_of_week</th>\n",
       "    </tr>\n",
       "    <tr>\n",
       "      <th>datetime</th>\n",
       "      <th></th>\n",
       "      <th></th>\n",
       "      <th></th>\n",
       "      <th></th>\n",
       "      <th></th>\n",
       "    </tr>\n",
       "  </thead>\n",
       "  <tbody>\n",
       "    <tr>\n",
       "      <th>2018-03-01 00:00:00</th>\n",
       "      <td>124</td>\n",
       "      <td>3</td>\n",
       "      <td>1</td>\n",
       "      <td>0</td>\n",
       "      <td>3</td>\n",
       "    </tr>\n",
       "    <tr>\n",
       "      <th>2018-03-01 01:00:00</th>\n",
       "      <td>85</td>\n",
       "      <td>3</td>\n",
       "      <td>1</td>\n",
       "      <td>1</td>\n",
       "      <td>3</td>\n",
       "    </tr>\n",
       "    <tr>\n",
       "      <th>2018-03-01 02:00:00</th>\n",
       "      <td>71</td>\n",
       "      <td>3</td>\n",
       "      <td>1</td>\n",
       "      <td>2</td>\n",
       "      <td>3</td>\n",
       "    </tr>\n",
       "    <tr>\n",
       "      <th>2018-03-01 03:00:00</th>\n",
       "      <td>66</td>\n",
       "      <td>3</td>\n",
       "      <td>1</td>\n",
       "      <td>3</td>\n",
       "      <td>3</td>\n",
       "    </tr>\n",
       "    <tr>\n",
       "      <th>2018-03-01 04:00:00</th>\n",
       "      <td>43</td>\n",
       "      <td>3</td>\n",
       "      <td>1</td>\n",
       "      <td>4</td>\n",
       "      <td>3</td>\n",
       "    </tr>\n",
       "  </tbody>\n",
       "</table>\n",
       "</div>"
      ],
      "text/plain": [
       "                     num_orders  month  day  hour  day_of_week\n",
       "datetime                                                      \n",
       "2018-03-01 00:00:00         124      3    1     0            3\n",
       "2018-03-01 01:00:00          85      3    1     1            3\n",
       "2018-03-01 02:00:00          71      3    1     2            3\n",
       "2018-03-01 03:00:00          66      3    1     3            3\n",
       "2018-03-01 04:00:00          43      3    1     4            3"
      ]
     },
     "execution_count": 11,
     "metadata": {},
     "output_type": "execute_result"
    }
   ],
   "source": [
    "data.head()"
   ]
  },
  {
   "cell_type": "code",
   "execution_count": 12,
   "metadata": {},
   "outputs": [],
   "source": [
    "# Разделяем на тренд и сезонную компоненту\n",
    "decomposed = seasonal_decompose(data['num_orders'])"
   ]
  },
  {
   "cell_type": "code",
   "execution_count": 13,
   "metadata": {
    "scrolled": false
   },
   "outputs": [
    {
     "data": {
      "image/png": "[encoded data removed]",
      "text/plain": [
       "<Figure size 864x720 with 4 Axes>"
      ]
     },
     "metadata": {
      "needs_background": "light"
     },
     "output_type": "display_data"
    }
   ],
   "source": [
    "# Строим графики\n",
    "plt.figure(figsize=(12, 10))\n",
    "\n",
    "plt.subplot(4, 1, 1)\n",
    "plt.plot(data['num_orders'], label=\"Исходные данные\")\n",
    "plt.legend()\n",
    "\n",
    "plt.subplot(4, 1, 2)\n",
    "plt.plot(decomposed.trend, label=\"Тренд\", color='red')\n",
    "plt.legend()\n",
    "\n",
    "plt.subplot(4, 1, 3)\n",
    "plt.plot(decomposed.seasonal, label=\"Сезонность\", color='green')\n",
    "plt.legend()\n",
    "\n",
    "plt.subplot(4, 1, 4)\n",
    "plt.plot(decomposed.resid, label=\"Остатки\", color='gray')\n",
    "plt.legend()\n",
    "\n",
    "plt.tight_layout()\n",
    "plt.show()"
   ]
  },
  {
   "cell_type": "code",
   "execution_count": 14,
   "metadata": {
    "scrolled": false
   },
   "outputs": [
    {
     "data": {
      "image/png": "[encoded data removed]",
      "text/plain": [
       "<Figure size 1080x576 with 6 Axes>"
      ]
     },
     "metadata": {
      "needs_background": "light"
     },
     "output_type": "display_data"
    }
   ],
   "source": [
    "# Тренды и сезонность по месяцам\n",
    "\n",
    "# Сезонность по месяцам не дает никаких нагладных выводов поэтому уберем ее из вывода\n",
    "\n",
    "months = ['Март', 'Апрель', 'Май', 'Июнь', 'Июль', 'Август']\n",
    "fig, axes = plt.subplots(2, 3, figsize=(15, 8))\n",
    "fig.suptitle(\"Тренды по месяцам\", fontsize=16)\n",
    "for i, month in enumerate(sorted(data['month'].unique())):\n",
    "    season_data = data[data['month'] == month]['num_orders']\n",
    "    decomposed = seasonal_decompose(season_data)\n",
    "    \n",
    "    row, col = divmod(i, 3)\n",
    "\n",
    "    axes[row, col].plot(decomposed.trend, label=\"Тренд\", color='red')\n",
    "    axes[row, col].set_title(f\"{months[month - 3]}\")\n",
    "    axes[row, col].tick_params(axis='x', rotation=45)  # Наклон подписей оси X\n",
    "\n",
    "plt.tight_layout() \n",
    "plt.show()"
   ]
  },
  {
   "cell_type": "code",
   "execution_count": 15,
   "metadata": {
    "scrolled": false
   },
   "outputs": [
    {
     "data": {
      "image/png": "[encoded data removed]",
      "text/plain": [
       "<Figure size 720x432 with 1 Axes>"
      ]
     },
     "metadata": {
      "needs_background": "light"
     },
     "output_type": "display_data"
    }
   ],
   "source": [
    "# Посмотрим на первые 2 недели марта, чтобы посмотреть не недельную сезонность\n",
    "march_data = data[data.month == 3].resample('1D').sum()['num_orders']\n",
    "decomposed = seasonal_decompose(march_data)\n",
    "plt.figure(figsize=(10, 6))\n",
    "plt.plot(decomposed.seasonal['2018-03-01':'2018-03-15'], color='green')\n",
    "plt.title(f\"Недельная сезонность по месяцу: {months[0]}\")\n",
    "seasonality = decomposed.seasonal.loc['2018-03-01':'2018-03-15']\n",
    "plt.xticks(seasonality.index, seasonality.index.strftime('%a'), rotation=45)\n",
    "plt.tight_layout()\n",
    "plt.show()\n"
   ]
  },
  {
   "cell_type": "markdown",
   "metadata": {},
   "source": [
    "1. -----------------------\n",
    "\n",
    "График демонстрирует четкую недельную сезонность спроса на такси. В четверг и пятницу наблюдается рост количества заказов, что может быть связано с увеличением числа деловых поездок и началомпутешествий. Воскресенье и понедельник также выделяются повышенным спросом, так как многие возвращаются из поездок, а бизнес-путешественники начинают рабочую неделю. Напротив, во вторник заказы снижаются, что объясняется отсутствием значительных перелетов в этот день\n",
    "\n",
    "2. ---------------\n",
    "\n",
    "Рост спроса с марта по август\n",
    "\n",
    "В марте и апреле среднее количество заказов находится в диапазоне 45–80.\n",
    "\n",
    "В июне и июле спрос повышается (60–130).\n",
    "\n",
    "В августе наблюдается максимальный уровень заказов — до 170 в день"
   ]
  },
  {
   "cell_type": "code",
   "execution_count": 16,
   "metadata": {},
   "outputs": [
    {
     "data": {
      "image/png": "[encoded data removed]",
      "text/plain": [
       "<Figure size 720x432 with 1 Axes>"
      ]
     },
     "metadata": {
      "needs_background": "light"
     },
     "output_type": "display_data"
    }
   ],
   "source": [
    "# Посмотрим на первые 8 дней марта\n",
    "march_data = data[data.month == 3]['num_orders']\n",
    "decomposed = seasonal_decompose(march_data, period = 168)\n",
    "plt.figure(figsize=(10, 6))\n",
    "plt.plot(decomposed.seasonal['2018-03-01':'2018-03-09'], color='green')\n",
    "plt.title(f\"Сезонность по месяцу: {months[0]}\")\n",
    "plt.tight_layout()\n",
    "plt.show()\n"
   ]
  },
  {
   "cell_type": "code",
   "execution_count": 17,
   "metadata": {},
   "outputs": [
    {
     "data": {
      "image/png": "[encoded data removed]",
      "text/plain": [
       "<Figure size 720x432 with 1 Axes>"
      ]
     },
     "metadata": {
      "needs_background": "light"
     },
     "output_type": "display_data"
    }
   ],
   "source": [
    "# Посмотрим на первые 2 дня марта по часам\n",
    "march_data = data[data.month == 3]['num_orders']\n",
    "decomposed = seasonal_decompose(march_data)\n",
    "plt.figure(figsize=(10, 6))\n",
    "plt.plot(decomposed.seasonal['2018-03-01':'2018-03-02'], color='green')\n",
    "plt.title(f\"Сезонность по месяцу: {months[0]}\")\n",
    "# Детализированные метки оси X (по часам)\n",
    "plt.xticks(decomposed.seasonal['2018-03-01':'2018-03-02'].index, \n",
    "           [t.strftime('%H:%M') for t in decomposed.seasonal['2018-03-01':'2018-03-02'].index], \n",
    "           rotation=90)  # Поворот меток для лучшего восприятия\n",
    "\n",
    "plt.tight_layout()\n",
    "plt.show()"
   ]
  },
  {
   "cell_type": "markdown",
   "metadata": {},
   "source": [
    "* Ночью, особенно после полуночи, количество заказов резко падает, так как в это время минимальное число прилетов и вылетов. Около 5-6 утра наблюдается минимум. Затем с 7-8 утра спрос начинает активно расти, отражая прибытие утренних рейсов\n",
    "\n",
    "* В течение дня спрос остается относительно стабильным, с колебаниями, которые могут быть связаны с регулярными волнами прилетов и отлетов. Вечером, особенно ближе к 22-23 часам, фиксируется заметный пик, который может быть вызван завершением рабочих поездок и прибытием вечерних рейсов"
   ]
  },
  {
   "cell_type": "code",
   "execution_count": 18,
   "metadata": {},
   "outputs": [
    {
     "data": {
      "text/html": [
       "<div>\n",
       "<style scoped>\n",
       "    .dataframe tbody tr th:only-of-type {\n",
       "        vertical-align: middle;\n",
       "    }\n",
       "\n",
       "    .dataframe tbody tr th {\n",
       "        vertical-align: top;\n",
       "    }\n",
       "\n",
       "    .dataframe thead th {\n",
       "        text-align: right;\n",
       "    }\n",
       "</style>\n",
       "<table border=\"1\" class=\"dataframe\">\n",
       "  <thead>\n",
       "    <tr style=\"text-align: right;\">\n",
       "      <th></th>\n",
       "      <th>num_orders</th>\n",
       "      <th>month</th>\n",
       "      <th>day</th>\n",
       "      <th>hour</th>\n",
       "      <th>day_of_week</th>\n",
       "    </tr>\n",
       "    <tr>\n",
       "      <th>datetime</th>\n",
       "      <th></th>\n",
       "      <th></th>\n",
       "      <th></th>\n",
       "      <th></th>\n",
       "      <th></th>\n",
       "    </tr>\n",
       "  </thead>\n",
       "  <tbody>\n",
       "    <tr>\n",
       "      <th>2018-03-01 00:00:00</th>\n",
       "      <td>124</td>\n",
       "      <td>3</td>\n",
       "      <td>1</td>\n",
       "      <td>0</td>\n",
       "      <td>3</td>\n",
       "    </tr>\n",
       "    <tr>\n",
       "      <th>2018-03-01 01:00:00</th>\n",
       "      <td>85</td>\n",
       "      <td>3</td>\n",
       "      <td>1</td>\n",
       "      <td>1</td>\n",
       "      <td>3</td>\n",
       "    </tr>\n",
       "    <tr>\n",
       "      <th>2018-03-01 02:00:00</th>\n",
       "      <td>71</td>\n",
       "      <td>3</td>\n",
       "      <td>1</td>\n",
       "      <td>2</td>\n",
       "      <td>3</td>\n",
       "    </tr>\n",
       "    <tr>\n",
       "      <th>2018-03-01 03:00:00</th>\n",
       "      <td>66</td>\n",
       "      <td>3</td>\n",
       "      <td>1</td>\n",
       "      <td>3</td>\n",
       "      <td>3</td>\n",
       "    </tr>\n",
       "    <tr>\n",
       "      <th>2018-03-01 04:00:00</th>\n",
       "      <td>43</td>\n",
       "      <td>3</td>\n",
       "      <td>1</td>\n",
       "      <td>4</td>\n",
       "      <td>3</td>\n",
       "    </tr>\n",
       "  </tbody>\n",
       "</table>\n",
       "</div>"
      ],
      "text/plain": [
       "                     num_orders  month  day  hour  day_of_week\n",
       "datetime                                                      \n",
       "2018-03-01 00:00:00         124      3    1     0            3\n",
       "2018-03-01 01:00:00          85      3    1     1            3\n",
       "2018-03-01 02:00:00          71      3    1     2            3\n",
       "2018-03-01 03:00:00          66      3    1     3            3\n",
       "2018-03-01 04:00:00          43      3    1     4            3"
      ]
     },
     "execution_count": 18,
     "metadata": {},
     "output_type": "execute_result"
    }
   ],
   "source": [
    "data.head()"
   ]
  },
  {
   "cell_type": "code",
   "execution_count": 19,
   "metadata": {},
   "outputs": [
    {
     "data": {
      "image/png": "[encoded data removed]",
      "text/plain": [
       "<Figure size 576x432 with 1 Axes>"
      ]
     },
     "metadata": {
      "needs_background": "light"
     },
     "output_type": "display_data"
    }
   ],
   "source": [
    "#Среднее количество заказов такси за каждый месяц по дням недели\n",
    "mean_week = data.groupby(['day_of_week', 'month'])['num_orders'].mean().reset_index()\n",
    "pivot = mean_week .pivot_table(index='day_of_week', columns='month', values='num_orders')\n",
    "\n",
    "plt.figure(figsize=(8, 6))\n",
    "\n",
    "for month in pivot.columns:\n",
    "    plt.plot(pivot.index, pivot[month], label=f'Месяц {month}')\n",
    "    \n",
    "plt.title('Среднее количество заказов по дням недели за каждый месяц', fontsize=14)\n",
    "plt.xlabel('День недели', fontsize=12)\n",
    "plt.ylabel('Среднее количество заказов', fontsize=12)\n",
    "plt.xticks(ticks=range(7), labels=['Пон', 'Втор', 'Ср', 'Чет', 'Пят', 'Суб', 'Воск'], rotation=45)\n",
    "plt.legend(months, title='Месяцы')\n",
    "plt.grid(True)\n",
    "plt.tight_layout()\n",
    "plt.show()"
   ]
  },
  {
   "cell_type": "code",
   "execution_count": 20,
   "metadata": {},
   "outputs": [
    {
     "data": {
      "image/png": "[encoded data removed]",
      "text/plain": [
       "<Figure size 576x432 with 1 Axes>"
      ]
     },
     "metadata": {
      "needs_background": "light"
     },
     "output_type": "display_data"
    }
   ],
   "source": [
    "# Среднее количество заказов такси за каждый месяц по часам\n",
    "mean_hour = data.groupby(['hour', 'month'])['num_orders'].mean().reset_index()\n",
    "pivot = mean_hour.pivot_table(index='hour', columns='month', values='num_orders')\n",
    "\n",
    "\n",
    "plt.figure(figsize=(8, 6))\n",
    "\n",
    "\n",
    "for month in pivot.columns:\n",
    "    plt.plot(pivot.index, pivot[month], label=f'Месяц {month}')\n",
    "\n",
    "\n",
    "plt.title('Среднее количество заказов по часам за каждый месяц', fontsize=14)\n",
    "plt.xlabel('Час', fontsize=12)\n",
    "plt.ylabel('Среднее количество заказов', fontsize=12)\n",
    "plt.xticks(ticks=range(24), labels=[f'{i}:00' for i in range(24)], rotation=45)\n",
    "plt.legend(months, title='Месяцы')\n",
    "plt.grid(True)\n",
    "plt.tight_layout()\n",
    "plt.show()"
   ]
  },
  {
   "cell_type": "markdown",
   "metadata": {},
   "source": [
    "### Вывод"
   ]
  },
  {
   "cell_type": "markdown",
   "metadata": {},
   "source": [
    "* В течение года спрос растёт с марта по август, достигая пика (до 170 заказов в день) в августе.\n",
    "* Недельная сезонность: Пики заказов в четверг, пятницу, воскресенье и понедельник; минимум во вторник.\n",
    "* Суточная сезонность: Минимум заказов после полуночи, рост с 7-8 утра, пик в 22-23 часа."
   ]
  },
  {
   "cell_type": "markdown",
   "metadata": {},
   "source": [
    "## Создание новый признаков"
   ]
  },
  {
   "cell_type": "code",
   "execution_count": 21,
   "metadata": {},
   "outputs": [],
   "source": [
    "# Добавим лаги до 24, чтобы смоделироват суточную сезонность, а так же добавим лаг 24*7\n",
    "for lag in range(1, 24):\n",
    "        data['lag_{}'.format(lag)] = data['num_orders'].shift(lag)\n",
    "data['lag_168'] = data['num_orders'].shift(168)\n",
    "# Аналогично добавим скользящее среднее с окнами 6, 8, 12, 24 и 24*7\n",
    "data['rolling_mean_6'] = data['num_orders'].shift(1).rolling(6).mean()\n",
    "data['rolling_mean_8'] = data['num_orders'].shift(1).rolling(8).mean()\n",
    "data['rolling_mean_12'] = data['num_orders'].shift(1).rolling(12).mean()\n",
    "data['rolling_mean_24'] = data['num_orders'].shift(1).rolling(24).mean()\n",
    "data['rolling_mean_168'] = data['num_orders'].shift(1).rolling(168).mean()"
   ]
  },
  {
   "cell_type": "markdown",
   "metadata": {},
   "source": [
    "## Обучение"
   ]
  },
  {
   "cell_type": "markdown",
   "metadata": {},
   "source": [
    "Разделим датасет на тренировочную и тестовую выборки"
   ]
  },
  {
   "cell_type": "code",
   "execution_count": 22,
   "metadata": {},
   "outputs": [
    {
     "data": {
      "text/html": [
       "<div>\n",
       "<style scoped>\n",
       "    .dataframe tbody tr th:only-of-type {\n",
       "        vertical-align: middle;\n",
       "    }\n",
       "\n",
       "    .dataframe tbody tr th {\n",
       "        vertical-align: top;\n",
       "    }\n",
       "\n",
       "    .dataframe thead th {\n",
       "        text-align: right;\n",
       "    }\n",
       "</style>\n",
       "<table border=\"1\" class=\"dataframe\">\n",
       "  <thead>\n",
       "    <tr style=\"text-align: right;\">\n",
       "      <th></th>\n",
       "      <th>num_orders</th>\n",
       "      <th>month</th>\n",
       "      <th>day</th>\n",
       "      <th>hour</th>\n",
       "      <th>day_of_week</th>\n",
       "      <th>lag_1</th>\n",
       "      <th>lag_2</th>\n",
       "      <th>lag_3</th>\n",
       "      <th>lag_4</th>\n",
       "      <th>lag_5</th>\n",
       "      <th>...</th>\n",
       "      <th>lag_20</th>\n",
       "      <th>lag_21</th>\n",
       "      <th>lag_22</th>\n",
       "      <th>lag_23</th>\n",
       "      <th>lag_168</th>\n",
       "      <th>rolling_mean_6</th>\n",
       "      <th>rolling_mean_8</th>\n",
       "      <th>rolling_mean_12</th>\n",
       "      <th>rolling_mean_24</th>\n",
       "      <th>rolling_mean_168</th>\n",
       "    </tr>\n",
       "    <tr>\n",
       "      <th>datetime</th>\n",
       "      <th></th>\n",
       "      <th></th>\n",
       "      <th></th>\n",
       "      <th></th>\n",
       "      <th></th>\n",
       "      <th></th>\n",
       "      <th></th>\n",
       "      <th></th>\n",
       "      <th></th>\n",
       "      <th></th>\n",
       "      <th></th>\n",
       "      <th></th>\n",
       "      <th></th>\n",
       "      <th></th>\n",
       "      <th></th>\n",
       "      <th></th>\n",
       "      <th></th>\n",
       "      <th></th>\n",
       "      <th></th>\n",
       "      <th></th>\n",
       "      <th></th>\n",
       "    </tr>\n",
       "  </thead>\n",
       "  <tbody>\n",
       "    <tr>\n",
       "      <th>2018-03-01 00:00:00</th>\n",
       "      <td>124</td>\n",
       "      <td>3</td>\n",
       "      <td>1</td>\n",
       "      <td>0</td>\n",
       "      <td>3</td>\n",
       "      <td>NaN</td>\n",
       "      <td>NaN</td>\n",
       "      <td>NaN</td>\n",
       "      <td>NaN</td>\n",
       "      <td>NaN</td>\n",
       "      <td>...</td>\n",
       "      <td>NaN</td>\n",
       "      <td>NaN</td>\n",
       "      <td>NaN</td>\n",
       "      <td>NaN</td>\n",
       "      <td>NaN</td>\n",
       "      <td>NaN</td>\n",
       "      <td>NaN</td>\n",
       "      <td>NaN</td>\n",
       "      <td>NaN</td>\n",
       "      <td>NaN</td>\n",
       "    </tr>\n",
       "    <tr>\n",
       "      <th>2018-03-01 01:00:00</th>\n",
       "      <td>85</td>\n",
       "      <td>3</td>\n",
       "      <td>1</td>\n",
       "      <td>1</td>\n",
       "      <td>3</td>\n",
       "      <td>124.0</td>\n",
       "      <td>NaN</td>\n",
       "      <td>NaN</td>\n",
       "      <td>NaN</td>\n",
       "      <td>NaN</td>\n",
       "      <td>...</td>\n",
       "      <td>NaN</td>\n",
       "      <td>NaN</td>\n",
       "      <td>NaN</td>\n",
       "      <td>NaN</td>\n",
       "      <td>NaN</td>\n",
       "      <td>NaN</td>\n",
       "      <td>NaN</td>\n",
       "      <td>NaN</td>\n",
       "      <td>NaN</td>\n",
       "      <td>NaN</td>\n",
       "    </tr>\n",
       "    <tr>\n",
       "      <th>2018-03-01 02:00:00</th>\n",
       "      <td>71</td>\n",
       "      <td>3</td>\n",
       "      <td>1</td>\n",
       "      <td>2</td>\n",
       "      <td>3</td>\n",
       "      <td>85.0</td>\n",
       "      <td>124.0</td>\n",
       "      <td>NaN</td>\n",
       "      <td>NaN</td>\n",
       "      <td>NaN</td>\n",
       "      <td>...</td>\n",
       "      <td>NaN</td>\n",
       "      <td>NaN</td>\n",
       "      <td>NaN</td>\n",
       "      <td>NaN</td>\n",
       "      <td>NaN</td>\n",
       "      <td>NaN</td>\n",
       "      <td>NaN</td>\n",
       "      <td>NaN</td>\n",
       "      <td>NaN</td>\n",
       "      <td>NaN</td>\n",
       "    </tr>\n",
       "    <tr>\n",
       "      <th>2018-03-01 03:00:00</th>\n",
       "      <td>66</td>\n",
       "      <td>3</td>\n",
       "      <td>1</td>\n",
       "      <td>3</td>\n",
       "      <td>3</td>\n",
       "      <td>71.0</td>\n",
       "      <td>85.0</td>\n",
       "      <td>124.0</td>\n",
       "      <td>NaN</td>\n",
       "      <td>NaN</td>\n",
       "      <td>...</td>\n",
       "      <td>NaN</td>\n",
       "      <td>NaN</td>\n",
       "      <td>NaN</td>\n",
       "      <td>NaN</td>\n",
       "      <td>NaN</td>\n",
       "      <td>NaN</td>\n",
       "      <td>NaN</td>\n",
       "      <td>NaN</td>\n",
       "      <td>NaN</td>\n",
       "      <td>NaN</td>\n",
       "    </tr>\n",
       "    <tr>\n",
       "      <th>2018-03-01 04:00:00</th>\n",
       "      <td>43</td>\n",
       "      <td>3</td>\n",
       "      <td>1</td>\n",
       "      <td>4</td>\n",
       "      <td>3</td>\n",
       "      <td>66.0</td>\n",
       "      <td>71.0</td>\n",
       "      <td>85.0</td>\n",
       "      <td>124.0</td>\n",
       "      <td>NaN</td>\n",
       "      <td>...</td>\n",
       "      <td>NaN</td>\n",
       "      <td>NaN</td>\n",
       "      <td>NaN</td>\n",
       "      <td>NaN</td>\n",
       "      <td>NaN</td>\n",
       "      <td>NaN</td>\n",
       "      <td>NaN</td>\n",
       "      <td>NaN</td>\n",
       "      <td>NaN</td>\n",
       "      <td>NaN</td>\n",
       "    </tr>\n",
       "  </tbody>\n",
       "</table>\n",
       "<p>5 rows × 34 columns</p>\n",
       "</div>"
      ],
      "text/plain": [
       "                     num_orders  month  day  hour  day_of_week  lag_1  lag_2  \\\n",
       "datetime                                                                       \n",
       "2018-03-01 00:00:00         124      3    1     0            3    NaN    NaN   \n",
       "2018-03-01 01:00:00          85      3    1     1            3  124.0    NaN   \n",
       "2018-03-01 02:00:00          71      3    1     2            3   85.0  124.0   \n",
       "2018-03-01 03:00:00          66      3    1     3            3   71.0   85.0   \n",
       "2018-03-01 04:00:00          43      3    1     4            3   66.0   71.0   \n",
       "\n",
       "                     lag_3  lag_4  lag_5  ...  lag_20  lag_21  lag_22  lag_23  \\\n",
       "datetime                                  ...                                   \n",
       "2018-03-01 00:00:00    NaN    NaN    NaN  ...     NaN     NaN     NaN     NaN   \n",
       "2018-03-01 01:00:00    NaN    NaN    NaN  ...     NaN     NaN     NaN     NaN   \n",
       "2018-03-01 02:00:00    NaN    NaN    NaN  ...     NaN     NaN     NaN     NaN   \n",
       "2018-03-01 03:00:00  124.0    NaN    NaN  ...     NaN     NaN     NaN     NaN   \n",
       "2018-03-01 04:00:00   85.0  124.0    NaN  ...     NaN     NaN     NaN     NaN   \n",
       "\n",
       "                     lag_168  rolling_mean_6  rolling_mean_8  rolling_mean_12  \\\n",
       "datetime                                                                        \n",
       "2018-03-01 00:00:00      NaN             NaN             NaN              NaN   \n",
       "2018-03-01 01:00:00      NaN             NaN             NaN              NaN   \n",
       "2018-03-01 02:00:00      NaN             NaN             NaN              NaN   \n",
       "2018-03-01 03:00:00      NaN             NaN             NaN              NaN   \n",
       "2018-03-01 04:00:00      NaN             NaN             NaN              NaN   \n",
       "\n",
       "                     rolling_mean_24  rolling_mean_168  \n",
       "datetime                                                \n",
       "2018-03-01 00:00:00              NaN               NaN  \n",
       "2018-03-01 01:00:00              NaN               NaN  \n",
       "2018-03-01 02:00:00              NaN               NaN  \n",
       "2018-03-01 03:00:00              NaN               NaN  \n",
       "2018-03-01 04:00:00              NaN               NaN  \n",
       "\n",
       "[5 rows x 34 columns]"
      ]
     },
     "execution_count": 22,
     "metadata": {},
     "output_type": "execute_result"
    }
   ],
   "source": [
    "data.head()"
   ]
  },
  {
   "cell_type": "code",
   "execution_count": 23,
   "metadata": {},
   "outputs": [],
   "source": [
    "train, test = train_test_split(data, shuffle=False, test_size=0.1)\n",
    "train = train.dropna()\n",
    "\n",
    "X_train = train.drop(columns='num_orders')  # Признаки\n",
    "y_train = train['num_orders']  # Целевая переменная\n",
    "X_test = test.drop(columns='num_orders')  # Признаки\n",
    "y_test = test['num_orders']  # Целевая переменная"
   ]
  },
  {
   "cell_type": "code",
   "execution_count": 24,
   "metadata": {},
   "outputs": [
    {
     "data": {
      "text/html": [
       "<div>\n",
       "<style scoped>\n",
       "    .dataframe tbody tr th:only-of-type {\n",
       "        vertical-align: middle;\n",
       "    }\n",
       "\n",
       "    .dataframe tbody tr th {\n",
       "        vertical-align: top;\n",
       "    }\n",
       "\n",
       "    .dataframe thead th {\n",
       "        text-align: right;\n",
       "    }\n",
       "</style>\n",
       "<table border=\"1\" class=\"dataframe\">\n",
       "  <thead>\n",
       "    <tr style=\"text-align: right;\">\n",
       "      <th></th>\n",
       "      <th>num_orders</th>\n",
       "      <th>month</th>\n",
       "      <th>day</th>\n",
       "      <th>hour</th>\n",
       "      <th>day_of_week</th>\n",
       "      <th>lag_1</th>\n",
       "      <th>lag_2</th>\n",
       "      <th>lag_3</th>\n",
       "      <th>lag_4</th>\n",
       "      <th>lag_5</th>\n",
       "      <th>...</th>\n",
       "      <th>lag_20</th>\n",
       "      <th>lag_21</th>\n",
       "      <th>lag_22</th>\n",
       "      <th>lag_23</th>\n",
       "      <th>lag_168</th>\n",
       "      <th>rolling_mean_6</th>\n",
       "      <th>rolling_mean_8</th>\n",
       "      <th>rolling_mean_12</th>\n",
       "      <th>rolling_mean_24</th>\n",
       "      <th>rolling_mean_168</th>\n",
       "    </tr>\n",
       "    <tr>\n",
       "      <th>datetime</th>\n",
       "      <th></th>\n",
       "      <th></th>\n",
       "      <th></th>\n",
       "      <th></th>\n",
       "      <th></th>\n",
       "      <th></th>\n",
       "      <th></th>\n",
       "      <th></th>\n",
       "      <th></th>\n",
       "      <th></th>\n",
       "      <th></th>\n",
       "      <th></th>\n",
       "      <th></th>\n",
       "      <th></th>\n",
       "      <th></th>\n",
       "      <th></th>\n",
       "      <th></th>\n",
       "      <th></th>\n",
       "      <th></th>\n",
       "      <th></th>\n",
       "      <th></th>\n",
       "    </tr>\n",
       "  </thead>\n",
       "  <tbody>\n",
       "    <tr>\n",
       "      <th>2018-03-01 00:00:00</th>\n",
       "      <td>124</td>\n",
       "      <td>3</td>\n",
       "      <td>1</td>\n",
       "      <td>0</td>\n",
       "      <td>3</td>\n",
       "      <td>NaN</td>\n",
       "      <td>NaN</td>\n",
       "      <td>NaN</td>\n",
       "      <td>NaN</td>\n",
       "      <td>NaN</td>\n",
       "      <td>...</td>\n",
       "      <td>NaN</td>\n",
       "      <td>NaN</td>\n",
       "      <td>NaN</td>\n",
       "      <td>NaN</td>\n",
       "      <td>NaN</td>\n",
       "      <td>NaN</td>\n",
       "      <td>NaN</td>\n",
       "      <td>NaN</td>\n",
       "      <td>NaN</td>\n",
       "      <td>NaN</td>\n",
       "    </tr>\n",
       "    <tr>\n",
       "      <th>2018-03-01 01:00:00</th>\n",
       "      <td>85</td>\n",
       "      <td>3</td>\n",
       "      <td>1</td>\n",
       "      <td>1</td>\n",
       "      <td>3</td>\n",
       "      <td>124.0</td>\n",
       "      <td>NaN</td>\n",
       "      <td>NaN</td>\n",
       "      <td>NaN</td>\n",
       "      <td>NaN</td>\n",
       "      <td>...</td>\n",
       "      <td>NaN</td>\n",
       "      <td>NaN</td>\n",
       "      <td>NaN</td>\n",
       "      <td>NaN</td>\n",
       "      <td>NaN</td>\n",
       "      <td>NaN</td>\n",
       "      <td>NaN</td>\n",
       "      <td>NaN</td>\n",
       "      <td>NaN</td>\n",
       "      <td>NaN</td>\n",
       "    </tr>\n",
       "    <tr>\n",
       "      <th>2018-03-01 02:00:00</th>\n",
       "      <td>71</td>\n",
       "      <td>3</td>\n",
       "      <td>1</td>\n",
       "      <td>2</td>\n",
       "      <td>3</td>\n",
       "      <td>85.0</td>\n",
       "      <td>124.0</td>\n",
       "      <td>NaN</td>\n",
       "      <td>NaN</td>\n",
       "      <td>NaN</td>\n",
       "      <td>...</td>\n",
       "      <td>NaN</td>\n",
       "      <td>NaN</td>\n",
       "      <td>NaN</td>\n",
       "      <td>NaN</td>\n",
       "      <td>NaN</td>\n",
       "      <td>NaN</td>\n",
       "      <td>NaN</td>\n",
       "      <td>NaN</td>\n",
       "      <td>NaN</td>\n",
       "      <td>NaN</td>\n",
       "    </tr>\n",
       "    <tr>\n",
       "      <th>2018-03-01 03:00:00</th>\n",
       "      <td>66</td>\n",
       "      <td>3</td>\n",
       "      <td>1</td>\n",
       "      <td>3</td>\n",
       "      <td>3</td>\n",
       "      <td>71.0</td>\n",
       "      <td>85.0</td>\n",
       "      <td>124.0</td>\n",
       "      <td>NaN</td>\n",
       "      <td>NaN</td>\n",
       "      <td>...</td>\n",
       "      <td>NaN</td>\n",
       "      <td>NaN</td>\n",
       "      <td>NaN</td>\n",
       "      <td>NaN</td>\n",
       "      <td>NaN</td>\n",
       "      <td>NaN</td>\n",
       "      <td>NaN</td>\n",
       "      <td>NaN</td>\n",
       "      <td>NaN</td>\n",
       "      <td>NaN</td>\n",
       "    </tr>\n",
       "    <tr>\n",
       "      <th>2018-03-01 04:00:00</th>\n",
       "      <td>43</td>\n",
       "      <td>3</td>\n",
       "      <td>1</td>\n",
       "      <td>4</td>\n",
       "      <td>3</td>\n",
       "      <td>66.0</td>\n",
       "      <td>71.0</td>\n",
       "      <td>85.0</td>\n",
       "      <td>124.0</td>\n",
       "      <td>NaN</td>\n",
       "      <td>...</td>\n",
       "      <td>NaN</td>\n",
       "      <td>NaN</td>\n",
       "      <td>NaN</td>\n",
       "      <td>NaN</td>\n",
       "      <td>NaN</td>\n",
       "      <td>NaN</td>\n",
       "      <td>NaN</td>\n",
       "      <td>NaN</td>\n",
       "      <td>NaN</td>\n",
       "      <td>NaN</td>\n",
       "    </tr>\n",
       "  </tbody>\n",
       "</table>\n",
       "<p>5 rows × 34 columns</p>\n",
       "</div>"
      ],
      "text/plain": [
       "                     num_orders  month  day  hour  day_of_week  lag_1  lag_2  \\\n",
       "datetime                                                                       \n",
       "2018-03-01 00:00:00         124      3    1     0            3    NaN    NaN   \n",
       "2018-03-01 01:00:00          85      3    1     1            3  124.0    NaN   \n",
       "2018-03-01 02:00:00          71      3    1     2            3   85.0  124.0   \n",
       "2018-03-01 03:00:00          66      3    1     3            3   71.0   85.0   \n",
       "2018-03-01 04:00:00          43      3    1     4            3   66.0   71.0   \n",
       "\n",
       "                     lag_3  lag_4  lag_5  ...  lag_20  lag_21  lag_22  lag_23  \\\n",
       "datetime                                  ...                                   \n",
       "2018-03-01 00:00:00    NaN    NaN    NaN  ...     NaN     NaN     NaN     NaN   \n",
       "2018-03-01 01:00:00    NaN    NaN    NaN  ...     NaN     NaN     NaN     NaN   \n",
       "2018-03-01 02:00:00    NaN    NaN    NaN  ...     NaN     NaN     NaN     NaN   \n",
       "2018-03-01 03:00:00  124.0    NaN    NaN  ...     NaN     NaN     NaN     NaN   \n",
       "2018-03-01 04:00:00   85.0  124.0    NaN  ...     NaN     NaN     NaN     NaN   \n",
       "\n",
       "                     lag_168  rolling_mean_6  rolling_mean_8  rolling_mean_12  \\\n",
       "datetime                                                                        \n",
       "2018-03-01 00:00:00      NaN             NaN             NaN              NaN   \n",
       "2018-03-01 01:00:00      NaN             NaN             NaN              NaN   \n",
       "2018-03-01 02:00:00      NaN             NaN             NaN              NaN   \n",
       "2018-03-01 03:00:00      NaN             NaN             NaN              NaN   \n",
       "2018-03-01 04:00:00      NaN             NaN             NaN              NaN   \n",
       "\n",
       "                     rolling_mean_24  rolling_mean_168  \n",
       "datetime                                                \n",
       "2018-03-01 00:00:00              NaN               NaN  \n",
       "2018-03-01 01:00:00              NaN               NaN  \n",
       "2018-03-01 02:00:00              NaN               NaN  \n",
       "2018-03-01 03:00:00              NaN               NaN  \n",
       "2018-03-01 04:00:00              NaN               NaN  \n",
       "\n",
       "[5 rows x 34 columns]"
      ]
     },
     "execution_count": 24,
     "metadata": {},
     "output_type": "execute_result"
    }
   ],
   "source": [
    "data.head()"
   ]
  },
  {
   "cell_type": "markdown",
   "metadata": {},
   "source": [
    "### Создание пайплайна"
   ]
  },
  {
   "cell_type": "code",
   "execution_count": 25,
   "metadata": {},
   "outputs": [],
   "source": [
    "ohe_columns = ['month', 'day', 'hour', 'day_of_week']\n",
    "num_columns = [f'lag_{i}' for i in range(1, 24)] + ['lag_168', 'rolling_mean_6', 'rolling_mean_8', 'rolling_mean_12', 'rolling_mean_24', 'rolling_mean_168']"
   ]
  },
  {
   "cell_type": "code",
   "execution_count": 26,
   "metadata": {},
   "outputs": [],
   "source": [
    "# создаём пайплайн для подготовки признаков из списка ohe_columns OHE-кодирование\n",
    "ohe_pipe = Pipeline(\n",
    "    [('simpleImputer_before_ohe', SimpleImputer(missing_values=np.nan, strategy='most_frequent')),\n",
    "     ('ohe', OneHotEncoder(drop='first', handle_unknown='ignore', sparse=False)),\n",
    "     ('simpleImputer_after_ohe', SimpleImputer(missing_values=np.nan, strategy='most_frequent'))\n",
    "    ]\n",
    "    )\n",
    "\n",
    "# создаём пайплайн для числовых признаков\n",
    "num_pipe = Pipeline([\n",
    "    ('imputer', SimpleImputer(missing_values=np.nan, strategy='mean')),\n",
    "    ('scaler', MinMaxScaler())\n",
    "])\n",
    "\n",
    "# создаём общий пайплайн для подготовки данных\n",
    "data_preprocessor = ColumnTransformer(\n",
    "    [('ohe', ohe_pipe, ohe_columns),\n",
    "     ('num', num_pipe, num_columns)\n",
    "    ], \n",
    "    remainder='passthrough'\n",
    ")\n",
    "\n",
    "# Создаём итоговый пайплайн для Линейной регрессии\n",
    "pipe_final = Pipeline([\n",
    "    ('preprocessor', data_preprocessor),  \n",
    "    ('model', LinearRegression())\n",
    "])"
   ]
  },
  {
   "cell_type": "markdown",
   "metadata": {},
   "source": [
    "### Обучение моеделй"
   ]
  },
  {
   "cell_type": "code",
   "execution_count": 27,
   "metadata": {},
   "outputs": [],
   "source": [
    "param_grid = {\n",
    "    'model': [\n",
    "        DecisionTreeRegressor(random_state=RANDOM_STATE),\n",
    "        LinearRegression(),\n",
    "        Ridge(),\n",
    "        Lasso(),\n",
    "        RandomForestRegressor(random_state=RANDOM_STATE)\n",
    "    ]\n",
    "}\n",
    "tscv = TimeSeriesSplit(n_splits=5)"
   ]
  },
  {
   "cell_type": "code",
   "execution_count": 28,
   "metadata": {},
   "outputs": [
    {
     "name": "stdout",
     "output_type": "stream",
     "text": [
      "CPU times: user 20 µs, sys: 4 µs, total: 24 µs\n",
      "Wall time: 26.7 µs\n"
     ]
    }
   ],
   "source": [
    "%%time\n",
    "gridCV = GridSearchCV(\n",
    "    pipe_final, \n",
    "    param_grid = param_grid, \n",
    "    cv=tscv,\n",
    "    scoring = 'neg_root_mean_squared_error',\n",
    "    n_jobs=-1,\n",
    ")"
   ]
  },
  {
   "cell_type": "code",
   "execution_count": 29,
   "metadata": {
    "scrolled": true
   },
   "outputs": [
    {
     "name": "stderr",
     "output_type": "stream",
     "text": [
      "/opt/conda/lib/python3.9/site-packages/sklearn/preprocessing/_encoders.py:202: UserWarning: Found unknown categories in columns [1] during transform. These unknown categories will be encoded as all zeros\n",
      "  warnings.warn(\n",
      "/opt/conda/lib/python3.9/site-packages/sklearn/preprocessing/_encoders.py:202: UserWarning: Found unknown categories in columns [0] during transform. These unknown categories will be encoded as all zeros\n",
      "  warnings.warn(\n",
      "/opt/conda/lib/python3.9/site-packages/sklearn/preprocessing/_encoders.py:202: UserWarning: Found unknown categories in columns [0] during transform. These unknown categories will be encoded as all zeros\n",
      "  warnings.warn(\n",
      "/opt/conda/lib/python3.9/site-packages/sklearn/preprocessing/_encoders.py:202: UserWarning: Found unknown categories in columns [0] during transform. These unknown categories will be encoded as all zeros\n",
      "  warnings.warn(\n",
      "/opt/conda/lib/python3.9/site-packages/sklearn/preprocessing/_encoders.py:202: UserWarning: Found unknown categories in columns [0] during transform. These unknown categories will be encoded as all zeros\n",
      "  warnings.warn(\n",
      "/opt/conda/lib/python3.9/site-packages/sklearn/preprocessing/_encoders.py:202: UserWarning: Found unknown categories in columns [1] during transform. These unknown categories will be encoded as all zeros\n",
      "  warnings.warn(\n",
      "/opt/conda/lib/python3.9/site-packages/sklearn/preprocessing/_encoders.py:202: UserWarning: Found unknown categories in columns [0] during transform. These unknown categories will be encoded as all zeros\n",
      "  warnings.warn(\n",
      "/opt/conda/lib/python3.9/site-packages/sklearn/preprocessing/_encoders.py:202: UserWarning: Found unknown categories in columns [0] during transform. These unknown categories will be encoded as all zeros\n",
      "  warnings.warn(\n",
      "/opt/conda/lib/python3.9/site-packages/sklearn/preprocessing/_encoders.py:202: UserWarning: Found unknown categories in columns [0] during transform. These unknown categories will be encoded as all zeros\n",
      "  warnings.warn(\n",
      "/opt/conda/lib/python3.9/site-packages/sklearn/preprocessing/_encoders.py:202: UserWarning: Found unknown categories in columns [0] during transform. These unknown categories will be encoded as all zeros\n",
      "  warnings.warn(\n",
      "/opt/conda/lib/python3.9/site-packages/sklearn/preprocessing/_encoders.py:202: UserWarning: Found unknown categories in columns [1] during transform. These unknown categories will be encoded as all zeros\n",
      "  warnings.warn(\n",
      "/opt/conda/lib/python3.9/site-packages/sklearn/preprocessing/_encoders.py:202: UserWarning: Found unknown categories in columns [0] during transform. These unknown categories will be encoded as all zeros\n",
      "  warnings.warn(\n",
      "/opt/conda/lib/python3.9/site-packages/sklearn/preprocessing/_encoders.py:202: UserWarning: Found unknown categories in columns [0] during transform. These unknown categories will be encoded as all zeros\n",
      "  warnings.warn(\n",
      "/opt/conda/lib/python3.9/site-packages/sklearn/preprocessing/_encoders.py:202: UserWarning: Found unknown categories in columns [0] during transform. These unknown categories will be encoded as all zeros\n",
      "  warnings.warn(\n",
      "/opt/conda/lib/python3.9/site-packages/sklearn/preprocessing/_encoders.py:202: UserWarning: Found unknown categories in columns [0] during transform. These unknown categories will be encoded as all zeros\n",
      "  warnings.warn(\n",
      "/opt/conda/lib/python3.9/site-packages/sklearn/preprocessing/_encoders.py:202: UserWarning: Found unknown categories in columns [1] during transform. These unknown categories will be encoded as all zeros\n",
      "  warnings.warn(\n",
      "/opt/conda/lib/python3.9/site-packages/sklearn/preprocessing/_encoders.py:202: UserWarning: Found unknown categories in columns [0] during transform. These unknown categories will be encoded as all zeros\n",
      "  warnings.warn(\n",
      "/opt/conda/lib/python3.9/site-packages/sklearn/preprocessing/_encoders.py:202: UserWarning: Found unknown categories in columns [0] during transform. These unknown categories will be encoded as all zeros\n",
      "  warnings.warn(\n",
      "/opt/conda/lib/python3.9/site-packages/sklearn/preprocessing/_encoders.py:202: UserWarning: Found unknown categories in columns [0] during transform. These unknown categories will be encoded as all zeros\n",
      "  warnings.warn(\n",
      "/opt/conda/lib/python3.9/site-packages/sklearn/preprocessing/_encoders.py:202: UserWarning: Found unknown categories in columns [0] during transform. These unknown categories will be encoded as all zeros\n",
      "  warnings.warn(\n",
      "/opt/conda/lib/python3.9/site-packages/sklearn/preprocessing/_encoders.py:202: UserWarning: Found unknown categories in columns [1] during transform. These unknown categories will be encoded as all zeros\n",
      "  warnings.warn(\n",
      "/opt/conda/lib/python3.9/site-packages/sklearn/preprocessing/_encoders.py:202: UserWarning: Found unknown categories in columns [0] during transform. These unknown categories will be encoded as all zeros\n",
      "  warnings.warn(\n",
      "/opt/conda/lib/python3.9/site-packages/sklearn/preprocessing/_encoders.py:202: UserWarning: Found unknown categories in columns [0] during transform. These unknown categories will be encoded as all zeros\n",
      "  warnings.warn(\n",
      "/opt/conda/lib/python3.9/site-packages/sklearn/preprocessing/_encoders.py:202: UserWarning: Found unknown categories in columns [0] during transform. These unknown categories will be encoded as all zeros\n",
      "  warnings.warn(\n",
      "/opt/conda/lib/python3.9/site-packages/sklearn/preprocessing/_encoders.py:202: UserWarning: Found unknown categories in columns [0] during transform. These unknown categories will be encoded as all zeros\n",
      "  warnings.warn(\n"
     ]
    },
    {
     "name": "stdout",
     "output_type": "stream",
     "text": [
      "CPU times: user 29.5 s, sys: 2.84 s, total: 32.3 s\n",
      "Wall time: 32.6 s\n"
     ]
    },
    {
     "data": {
      "text/html": [
       "<style>#sk-container-id-1 {color: black;background-color: white;}#sk-container-id-1 pre{padding: 0;}#sk-container-id-1 div.sk-toggleable {background-color: white;}#sk-container-id-1 label.sk-toggleable__label {cursor: pointer;display: block;width: 100%;margin-bottom: 0;padding: 0.3em;box-sizing: border-box;text-align: center;}#sk-container-id-1 label.sk-toggleable__label-arrow:before {content: \"▸\";float: left;margin-right: 0.25em;color: #696969;}#sk-container-id-1 label.sk-toggleable__label-arrow:hover:before {color: black;}#sk-container-id-1 div.sk-estimator:hover label.sk-toggleable__label-arrow:before {color: black;}#sk-container-id-1 div.sk-toggleable__content {max-height: 0;max-width: 0;overflow: hidden;text-align: left;background-color: #f0f8ff;}#sk-container-id-1 div.sk-toggleable__content pre {margin: 0.2em;color: black;border-radius: 0.25em;background-color: #f0f8ff;}#sk-container-id-1 input.sk-toggleable__control:checked~div.sk-toggleable__content {max-height: 200px;max-width: 100%;overflow: auto;}#sk-container-id-1 input.sk-toggleable__control:checked~label.sk-toggleable__label-arrow:before {content: \"▾\";}#sk-container-id-1 div.sk-estimator input.sk-toggleable__control:checked~label.sk-toggleable__label {background-color: #d4ebff;}#sk-container-id-1 div.sk-label input.sk-toggleable__control:checked~label.sk-toggleable__label {background-color: #d4ebff;}#sk-container-id-1 input.sk-hidden--visually {border: 0;clip: rect(1px 1px 1px 1px);clip: rect(1px, 1px, 1px, 1px);height: 1px;margin: -1px;overflow: hidden;padding: 0;position: absolute;width: 1px;}#sk-container-id-1 div.sk-estimator {font-family: monospace;background-color: #f0f8ff;border: 1px dotted black;border-radius: 0.25em;box-sizing: border-box;margin-bottom: 0.5em;}#sk-container-id-1 div.sk-estimator:hover {background-color: #d4ebff;}#sk-container-id-1 div.sk-parallel-item::after {content: \"\";width: 100%;border-bottom: 1px solid gray;flex-grow: 1;}#sk-container-id-1 div.sk-label:hover label.sk-toggleable__label {background-color: #d4ebff;}#sk-container-id-1 div.sk-serial::before {content: \"\";position: absolute;border-left: 1px solid gray;box-sizing: border-box;top: 0;bottom: 0;left: 50%;z-index: 0;}#sk-container-id-1 div.sk-serial {display: flex;flex-direction: column;align-items: center;background-color: white;padding-right: 0.2em;padding-left: 0.2em;position: relative;}#sk-container-id-1 div.sk-item {position: relative;z-index: 1;}#sk-container-id-1 div.sk-parallel {display: flex;align-items: stretch;justify-content: center;background-color: white;position: relative;}#sk-container-id-1 div.sk-item::before, #sk-container-id-1 div.sk-parallel-item::before {content: \"\";position: absolute;border-left: 1px solid gray;box-sizing: border-box;top: 0;bottom: 0;left: 50%;z-index: -1;}#sk-container-id-1 div.sk-parallel-item {display: flex;flex-direction: column;z-index: 1;position: relative;background-color: white;}#sk-container-id-1 div.sk-parallel-item:first-child::after {align-self: flex-end;width: 50%;}#sk-container-id-1 div.sk-parallel-item:last-child::after {align-self: flex-start;width: 50%;}#sk-container-id-1 div.sk-parallel-item:only-child::after {width: 0;}#sk-container-id-1 div.sk-dashed-wrapped {border: 1px dashed gray;margin: 0 0.4em 0.5em 0.4em;box-sizing: border-box;padding-bottom: 0.4em;background-color: white;}#sk-container-id-1 div.sk-label label {font-family: monospace;font-weight: bold;display: inline-block;line-height: 1.2em;}#sk-container-id-1 div.sk-label-container {text-align: center;}#sk-container-id-1 div.sk-container {/* jupyter's `normalize.less` sets `[hidden] { display: none; }` but bootstrap.min.css set `[hidden] { display: none !important; }` so we also need the `!important` here to be able to override the default hidden behavior on the sphinx rendered scikit-learn.org. See: https://github.com/scikit-learn/scikit-learn/issues/21755 */display: inline-block !important;position: relative;}#sk-container-id-1 div.sk-text-repr-fallback {display: none;}</style><div id=\"sk-container-id-1\" class=\"sk-top-container\"><div class=\"sk-text-repr-fallback\"><pre>GridSearchCV(cv=TimeSeriesSplit(gap=0, max_train_size=None, n_splits=5, test_size=None),\n",
       "             estimator=Pipeline(steps=[(&#x27;preprocessor&#x27;,\n",
       "                                        ColumnTransformer(remainder=&#x27;passthrough&#x27;,\n",
       "                                                          transformers=[(&#x27;ohe&#x27;,\n",
       "                                                                         Pipeline(steps=[(&#x27;simpleImputer_before_ohe&#x27;,\n",
       "                                                                                          SimpleImputer(strategy=&#x27;most_frequent&#x27;)),\n",
       "                                                                                         (&#x27;ohe&#x27;,\n",
       "                                                                                          OneHotEncoder(drop=&#x27;first&#x27;,\n",
       "                                                                                                        handle_unknown=&#x27;ignore&#x27;,\n",
       "                                                                                                        sparse=False)),\n",
       "                                                                                         (&#x27;...\n",
       "                                                                          &#x27;lag_20&#x27;,\n",
       "                                                                          &#x27;lag_21&#x27;,\n",
       "                                                                          &#x27;lag_22&#x27;,\n",
       "                                                                          &#x27;lag_23&#x27;,\n",
       "                                                                          &#x27;lag_168&#x27;,\n",
       "                                                                          &#x27;rolling_mean_6&#x27;,\n",
       "                                                                          &#x27;rolling_mean_8&#x27;,\n",
       "                                                                          &#x27;rolling_mean_12&#x27;,\n",
       "                                                                          &#x27;rolling_mean_24&#x27;,\n",
       "                                                                          &#x27;rolling_mean_168&#x27;])])),\n",
       "                                       (&#x27;model&#x27;, LinearRegression())]),\n",
       "             n_jobs=-1,\n",
       "             param_grid={&#x27;model&#x27;: [DecisionTreeRegressor(random_state=42),\n",
       "                                   LinearRegression(), Ridge(), Lasso(),\n",
       "                                   RandomForestRegressor(random_state=42)]},\n",
       "             scoring=&#x27;neg_root_mean_squared_error&#x27;)</pre><b>In a Jupyter environment, please rerun this cell to show the HTML representation or trust the notebook. <br />On GitHub, the HTML representation is unable to render, please try loading this page with nbviewer.org.</b></div><div class=\"sk-container\" hidden><div class=\"sk-item sk-dashed-wrapped\"><div class=\"sk-label-container\"><div class=\"sk-label sk-toggleable\"><input class=\"sk-toggleable__control sk-hidden--visually\" id=\"sk-estimator-id-1\" type=\"checkbox\" ><label for=\"sk-estimator-id-1\" class=\"sk-toggleable__label sk-toggleable__label-arrow\">GridSearchCV</label><div class=\"sk-toggleable__content\"><pre>GridSearchCV(cv=TimeSeriesSplit(gap=0, max_train_size=None, n_splits=5, test_size=None),\n",
       "             estimator=Pipeline(steps=[(&#x27;preprocessor&#x27;,\n",
       "                                        ColumnTransformer(remainder=&#x27;passthrough&#x27;,\n",
       "                                                          transformers=[(&#x27;ohe&#x27;,\n",
       "                                                                         Pipeline(steps=[(&#x27;simpleImputer_before_ohe&#x27;,\n",
       "                                                                                          SimpleImputer(strategy=&#x27;most_frequent&#x27;)),\n",
       "                                                                                         (&#x27;ohe&#x27;,\n",
       "                                                                                          OneHotEncoder(drop=&#x27;first&#x27;,\n",
       "                                                                                                        handle_unknown=&#x27;ignore&#x27;,\n",
       "                                                                                                        sparse=False)),\n",
       "                                                                                         (&#x27;...\n",
       "                                                                          &#x27;lag_20&#x27;,\n",
       "                                                                          &#x27;lag_21&#x27;,\n",
       "                                                                          &#x27;lag_22&#x27;,\n",
       "                                                                          &#x27;lag_23&#x27;,\n",
       "                                                                          &#x27;lag_168&#x27;,\n",
       "                                                                          &#x27;rolling_mean_6&#x27;,\n",
       "                                                                          &#x27;rolling_mean_8&#x27;,\n",
       "                                                                          &#x27;rolling_mean_12&#x27;,\n",
       "                                                                          &#x27;rolling_mean_24&#x27;,\n",
       "                                                                          &#x27;rolling_mean_168&#x27;])])),\n",
       "                                       (&#x27;model&#x27;, LinearRegression())]),\n",
       "             n_jobs=-1,\n",
       "             param_grid={&#x27;model&#x27;: [DecisionTreeRegressor(random_state=42),\n",
       "                                   LinearRegression(), Ridge(), Lasso(),\n",
       "                                   RandomForestRegressor(random_state=42)]},\n",
       "             scoring=&#x27;neg_root_mean_squared_error&#x27;)</pre></div></div></div><div class=\"sk-parallel\"><div class=\"sk-parallel-item\"><div class=\"sk-item\"><div class=\"sk-label-container\"><div class=\"sk-label sk-toggleable\"><input class=\"sk-toggleable__control sk-hidden--visually\" id=\"sk-estimator-id-2\" type=\"checkbox\" ><label for=\"sk-estimator-id-2\" class=\"sk-toggleable__label sk-toggleable__label-arrow\">estimator: Pipeline</label><div class=\"sk-toggleable__content\"><pre>Pipeline(steps=[(&#x27;preprocessor&#x27;,\n",
       "                 ColumnTransformer(remainder=&#x27;passthrough&#x27;,\n",
       "                                   transformers=[(&#x27;ohe&#x27;,\n",
       "                                                  Pipeline(steps=[(&#x27;simpleImputer_before_ohe&#x27;,\n",
       "                                                                   SimpleImputer(strategy=&#x27;most_frequent&#x27;)),\n",
       "                                                                  (&#x27;ohe&#x27;,\n",
       "                                                                   OneHotEncoder(drop=&#x27;first&#x27;,\n",
       "                                                                                 handle_unknown=&#x27;ignore&#x27;,\n",
       "                                                                                 sparse=False)),\n",
       "                                                                  (&#x27;simpleImputer_after_ohe&#x27;,\n",
       "                                                                   SimpleImputer(strategy=&#x27;most_frequent&#x27;))]),\n",
       "                                                  [&#x27;month&#x27;, &#x27;day&#x27;, &#x27;hour&#x27;,\n",
       "                                                   &#x27;day_...\n",
       "                                                                   MinMaxScaler())]),\n",
       "                                                  [&#x27;lag_1&#x27;, &#x27;lag_2&#x27;, &#x27;lag_3&#x27;,\n",
       "                                                   &#x27;lag_4&#x27;, &#x27;lag_5&#x27;, &#x27;lag_6&#x27;,\n",
       "                                                   &#x27;lag_7&#x27;, &#x27;lag_8&#x27;, &#x27;lag_9&#x27;,\n",
       "                                                   &#x27;lag_10&#x27;, &#x27;lag_11&#x27;, &#x27;lag_12&#x27;,\n",
       "                                                   &#x27;lag_13&#x27;, &#x27;lag_14&#x27;, &#x27;lag_15&#x27;,\n",
       "                                                   &#x27;lag_16&#x27;, &#x27;lag_17&#x27;, &#x27;lag_18&#x27;,\n",
       "                                                   &#x27;lag_19&#x27;, &#x27;lag_20&#x27;, &#x27;lag_21&#x27;,\n",
       "                                                   &#x27;lag_22&#x27;, &#x27;lag_23&#x27;,\n",
       "                                                   &#x27;lag_168&#x27;, &#x27;rolling_mean_6&#x27;,\n",
       "                                                   &#x27;rolling_mean_8&#x27;,\n",
       "                                                   &#x27;rolling_mean_12&#x27;,\n",
       "                                                   &#x27;rolling_mean_24&#x27;,\n",
       "                                                   &#x27;rolling_mean_168&#x27;])])),\n",
       "                (&#x27;model&#x27;, LinearRegression())])</pre></div></div></div><div class=\"sk-serial\"><div class=\"sk-item\"><div class=\"sk-serial\"><div class=\"sk-item sk-dashed-wrapped\"><div class=\"sk-label-container\"><div class=\"sk-label sk-toggleable\"><input class=\"sk-toggleable__control sk-hidden--visually\" id=\"sk-estimator-id-3\" type=\"checkbox\" ><label for=\"sk-estimator-id-3\" class=\"sk-toggleable__label sk-toggleable__label-arrow\">preprocessor: ColumnTransformer</label><div class=\"sk-toggleable__content\"><pre>ColumnTransformer(remainder=&#x27;passthrough&#x27;,\n",
       "                  transformers=[(&#x27;ohe&#x27;,\n",
       "                                 Pipeline(steps=[(&#x27;simpleImputer_before_ohe&#x27;,\n",
       "                                                  SimpleImputer(strategy=&#x27;most_frequent&#x27;)),\n",
       "                                                 (&#x27;ohe&#x27;,\n",
       "                                                  OneHotEncoder(drop=&#x27;first&#x27;,\n",
       "                                                                handle_unknown=&#x27;ignore&#x27;,\n",
       "                                                                sparse=False)),\n",
       "                                                 (&#x27;simpleImputer_after_ohe&#x27;,\n",
       "                                                  SimpleImputer(strategy=&#x27;most_frequent&#x27;))]),\n",
       "                                 [&#x27;month&#x27;, &#x27;day&#x27;, &#x27;hour&#x27;, &#x27;day_of_week&#x27;]),\n",
       "                                (&#x27;num&#x27;,\n",
       "                                 Pipeline(steps...er&#x27;, SimpleImputer()),\n",
       "                                                 (&#x27;scaler&#x27;, MinMaxScaler())]),\n",
       "                                 [&#x27;lag_1&#x27;, &#x27;lag_2&#x27;, &#x27;lag_3&#x27;, &#x27;lag_4&#x27;, &#x27;lag_5&#x27;,\n",
       "                                  &#x27;lag_6&#x27;, &#x27;lag_7&#x27;, &#x27;lag_8&#x27;, &#x27;lag_9&#x27;, &#x27;lag_10&#x27;,\n",
       "                                  &#x27;lag_11&#x27;, &#x27;lag_12&#x27;, &#x27;lag_13&#x27;, &#x27;lag_14&#x27;,\n",
       "                                  &#x27;lag_15&#x27;, &#x27;lag_16&#x27;, &#x27;lag_17&#x27;, &#x27;lag_18&#x27;,\n",
       "                                  &#x27;lag_19&#x27;, &#x27;lag_20&#x27;, &#x27;lag_21&#x27;, &#x27;lag_22&#x27;,\n",
       "                                  &#x27;lag_23&#x27;, &#x27;lag_168&#x27;, &#x27;rolling_mean_6&#x27;,\n",
       "                                  &#x27;rolling_mean_8&#x27;, &#x27;rolling_mean_12&#x27;,\n",
       "                                  &#x27;rolling_mean_24&#x27;, &#x27;rolling_mean_168&#x27;])])</pre></div></div></div><div class=\"sk-parallel\"><div class=\"sk-parallel-item\"><div class=\"sk-item\"><div class=\"sk-label-container\"><div class=\"sk-label sk-toggleable\"><input class=\"sk-toggleable__control sk-hidden--visually\" id=\"sk-estimator-id-4\" type=\"checkbox\" ><label for=\"sk-estimator-id-4\" class=\"sk-toggleable__label sk-toggleable__label-arrow\">ohe</label><div class=\"sk-toggleable__content\"><pre>[&#x27;month&#x27;, &#x27;day&#x27;, &#x27;hour&#x27;, &#x27;day_of_week&#x27;]</pre></div></div></div><div class=\"sk-serial\"><div class=\"sk-item\"><div class=\"sk-serial\"><div class=\"sk-item\"><div class=\"sk-estimator sk-toggleable\"><input class=\"sk-toggleable__control sk-hidden--visually\" id=\"sk-estimator-id-5\" type=\"checkbox\" ><label for=\"sk-estimator-id-5\" class=\"sk-toggleable__label sk-toggleable__label-arrow\">SimpleImputer</label><div class=\"sk-toggleable__content\"><pre>SimpleImputer(strategy=&#x27;most_frequent&#x27;)</pre></div></div></div><div class=\"sk-item\"><div class=\"sk-estimator sk-toggleable\"><input class=\"sk-toggleable__control sk-hidden--visually\" id=\"sk-estimator-id-6\" type=\"checkbox\" ><label for=\"sk-estimator-id-6\" class=\"sk-toggleable__label sk-toggleable__label-arrow\">OneHotEncoder</label><div class=\"sk-toggleable__content\"><pre>OneHotEncoder(drop=&#x27;first&#x27;, handle_unknown=&#x27;ignore&#x27;, sparse=False)</pre></div></div></div><div class=\"sk-item\"><div class=\"sk-estimator sk-toggleable\"><input class=\"sk-toggleable__control sk-hidden--visually\" id=\"sk-estimator-id-7\" type=\"checkbox\" ><label for=\"sk-estimator-id-7\" class=\"sk-toggleable__label sk-toggleable__label-arrow\">SimpleImputer</label><div class=\"sk-toggleable__content\"><pre>SimpleImputer(strategy=&#x27;most_frequent&#x27;)</pre></div></div></div></div></div></div></div></div><div class=\"sk-parallel-item\"><div class=\"sk-item\"><div class=\"sk-label-container\"><div class=\"sk-label sk-toggleable\"><input class=\"sk-toggleable__control sk-hidden--visually\" id=\"sk-estimator-id-8\" type=\"checkbox\" ><label for=\"sk-estimator-id-8\" class=\"sk-toggleable__label sk-toggleable__label-arrow\">num</label><div class=\"sk-toggleable__content\"><pre>[&#x27;lag_1&#x27;, &#x27;lag_2&#x27;, &#x27;lag_3&#x27;, &#x27;lag_4&#x27;, &#x27;lag_5&#x27;, &#x27;lag_6&#x27;, &#x27;lag_7&#x27;, &#x27;lag_8&#x27;, &#x27;lag_9&#x27;, &#x27;lag_10&#x27;, &#x27;lag_11&#x27;, &#x27;lag_12&#x27;, &#x27;lag_13&#x27;, &#x27;lag_14&#x27;, &#x27;lag_15&#x27;, &#x27;lag_16&#x27;, &#x27;lag_17&#x27;, &#x27;lag_18&#x27;, &#x27;lag_19&#x27;, &#x27;lag_20&#x27;, &#x27;lag_21&#x27;, &#x27;lag_22&#x27;, &#x27;lag_23&#x27;, &#x27;lag_168&#x27;, &#x27;rolling_mean_6&#x27;, &#x27;rolling_mean_8&#x27;, &#x27;rolling_mean_12&#x27;, &#x27;rolling_mean_24&#x27;, &#x27;rolling_mean_168&#x27;]</pre></div></div></div><div class=\"sk-serial\"><div class=\"sk-item\"><div class=\"sk-serial\"><div class=\"sk-item\"><div class=\"sk-estimator sk-toggleable\"><input class=\"sk-toggleable__control sk-hidden--visually\" id=\"sk-estimator-id-9\" type=\"checkbox\" ><label for=\"sk-estimator-id-9\" class=\"sk-toggleable__label sk-toggleable__label-arrow\">SimpleImputer</label><div class=\"sk-toggleable__content\"><pre>SimpleImputer()</pre></div></div></div><div class=\"sk-item\"><div class=\"sk-estimator sk-toggleable\"><input class=\"sk-toggleable__control sk-hidden--visually\" id=\"sk-estimator-id-10\" type=\"checkbox\" ><label for=\"sk-estimator-id-10\" class=\"sk-toggleable__label sk-toggleable__label-arrow\">MinMaxScaler</label><div class=\"sk-toggleable__content\"><pre>MinMaxScaler()</pre></div></div></div></div></div></div></div></div><div class=\"sk-parallel-item\"><div class=\"sk-item\"><div class=\"sk-label-container\"><div class=\"sk-label sk-toggleable\"><input class=\"sk-toggleable__control sk-hidden--visually\" id=\"sk-estimator-id-11\" type=\"checkbox\" ><label for=\"sk-estimator-id-11\" class=\"sk-toggleable__label sk-toggleable__label-arrow\">remainder</label><div class=\"sk-toggleable__content\"><pre></pre></div></div></div><div class=\"sk-serial\"><div class=\"sk-item\"><div class=\"sk-estimator sk-toggleable\"><input class=\"sk-toggleable__control sk-hidden--visually\" id=\"sk-estimator-id-12\" type=\"checkbox\" ><label for=\"sk-estimator-id-12\" class=\"sk-toggleable__label sk-toggleable__label-arrow\">passthrough</label><div class=\"sk-toggleable__content\"><pre>passthrough</pre></div></div></div></div></div></div></div></div><div class=\"sk-item\"><div class=\"sk-estimator sk-toggleable\"><input class=\"sk-toggleable__control sk-hidden--visually\" id=\"sk-estimator-id-13\" type=\"checkbox\" ><label for=\"sk-estimator-id-13\" class=\"sk-toggleable__label sk-toggleable__label-arrow\">LinearRegression</label><div class=\"sk-toggleable__content\"><pre>LinearRegression()</pre></div></div></div></div></div></div></div></div></div></div></div></div>"
      ],
      "text/plain": [
       "GridSearchCV(cv=TimeSeriesSplit(gap=0, max_train_size=None, n_splits=5, test_size=None),\n",
       "             estimator=Pipeline(steps=[('preprocessor',\n",
       "                                        ColumnTransformer(remainder='passthrough',\n",
       "                                                          transformers=[('ohe',\n",
       "                                                                         Pipeline(steps=[('simpleImputer_before_ohe',\n",
       "                                                                                          SimpleImputer(strategy='most_frequent')),\n",
       "                                                                                         ('ohe',\n",
       "                                                                                          OneHotEncoder(drop='first',\n",
       "                                                                                                        handle_unknown='ignore',\n",
       "                                                                                                        sparse=False)),\n",
       "                                                                                         ('...\n",
       "                                                                          'lag_20',\n",
       "                                                                          'lag_21',\n",
       "                                                                          'lag_22',\n",
       "                                                                          'lag_23',\n",
       "                                                                          'lag_168',\n",
       "                                                                          'rolling_mean_6',\n",
       "                                                                          'rolling_mean_8',\n",
       "                                                                          'rolling_mean_12',\n",
       "                                                                          'rolling_mean_24',\n",
       "                                                                          'rolling_mean_168'])])),\n",
       "                                       ('model', LinearRegression())]),\n",
       "             n_jobs=-1,\n",
       "             param_grid={'model': [DecisionTreeRegressor(random_state=42),\n",
       "                                   LinearRegression(), Ridge(), Lasso(),\n",
       "                                   RandomForestRegressor(random_state=42)]},\n",
       "             scoring='neg_root_mean_squared_error')"
      ]
     },
     "execution_count": 29,
     "metadata": {},
     "output_type": "execute_result"
    }
   ],
   "source": [
    "%%time\n",
    "gridCV.fit(X_train, y_train)"
   ]
  },
  {
   "cell_type": "code",
   "execution_count": 30,
   "metadata": {},
   "outputs": [
    {
     "data": {
      "text/html": [
       "<div>\n",
       "<style scoped>\n",
       "    .dataframe tbody tr th:only-of-type {\n",
       "        vertical-align: middle;\n",
       "    }\n",
       "\n",
       "    .dataframe tbody tr th {\n",
       "        vertical-align: top;\n",
       "    }\n",
       "\n",
       "    .dataframe thead th {\n",
       "        text-align: right;\n",
       "    }\n",
       "</style>\n",
       "<table border=\"1\" class=\"dataframe\">\n",
       "  <thead>\n",
       "    <tr style=\"text-align: right;\">\n",
       "      <th></th>\n",
       "      <th>mean_fit_time</th>\n",
       "      <th>std_fit_time</th>\n",
       "      <th>mean_score_time</th>\n",
       "      <th>std_score_time</th>\n",
       "      <th>param_model</th>\n",
       "      <th>params</th>\n",
       "      <th>split0_test_score</th>\n",
       "      <th>split1_test_score</th>\n",
       "      <th>split2_test_score</th>\n",
       "      <th>split3_test_score</th>\n",
       "      <th>split4_test_score</th>\n",
       "      <th>mean_test_score</th>\n",
       "      <th>std_test_score</th>\n",
       "      <th>rank_test_score</th>\n",
       "    </tr>\n",
       "  </thead>\n",
       "  <tbody>\n",
       "    <tr>\n",
       "      <th>4</th>\n",
       "      <td>3.704272</td>\n",
       "      <td>1.717963</td>\n",
       "      <td>0.022373</td>\n",
       "      <td>0.000925</td>\n",
       "      <td>RandomForestRegressor(random_state=42)</td>\n",
       "      <td>{'model': RandomForestRegressor(random_state=42)}</td>\n",
       "      <td>-2.085902e+01</td>\n",
       "      <td>-21.822406</td>\n",
       "      <td>-22.652323</td>\n",
       "      <td>-22.604749</td>\n",
       "      <td>-29.097736</td>\n",
       "      <td>-2.340725e+01</td>\n",
       "      <td>2.918930e+00</td>\n",
       "      <td>1</td>\n",
       "    </tr>\n",
       "    <tr>\n",
       "      <th>2</th>\n",
       "      <td>0.279197</td>\n",
       "      <td>0.059912</td>\n",
       "      <td>0.156759</td>\n",
       "      <td>0.040804</td>\n",
       "      <td>Ridge()</td>\n",
       "      <td>{'model': Ridge()}</td>\n",
       "      <td>-2.448338e+01</td>\n",
       "      <td>-22.702852</td>\n",
       "      <td>-21.893786</td>\n",
       "      <td>-25.991386</td>\n",
       "      <td>-33.252657</td>\n",
       "      <td>-2.566481e+01</td>\n",
       "      <td>4.051461e+00</td>\n",
       "      <td>2</td>\n",
       "    </tr>\n",
       "    <tr>\n",
       "      <th>3</th>\n",
       "      <td>0.169305</td>\n",
       "      <td>0.049622</td>\n",
       "      <td>0.151968</td>\n",
       "      <td>0.043963</td>\n",
       "      <td>Lasso()</td>\n",
       "      <td>{'model': Lasso()}</td>\n",
       "      <td>-2.216031e+01</td>\n",
       "      <td>-25.920182</td>\n",
       "      <td>-24.149955</td>\n",
       "      <td>-26.618537</td>\n",
       "      <td>-33.999345</td>\n",
       "      <td>-2.656967e+01</td>\n",
       "      <td>4.022978e+00</td>\n",
       "      <td>3</td>\n",
       "    </tr>\n",
       "    <tr>\n",
       "      <th>0</th>\n",
       "      <td>0.094223</td>\n",
       "      <td>0.036876</td>\n",
       "      <td>0.008880</td>\n",
       "      <td>0.000319</td>\n",
       "      <td>DecisionTreeRegressor(random_state=42)</td>\n",
       "      <td>{'model': DecisionTreeRegressor(random_state=42)}</td>\n",
       "      <td>-2.793619e+01</td>\n",
       "      <td>-31.314624</td>\n",
       "      <td>-33.739749</td>\n",
       "      <td>-32.531591</td>\n",
       "      <td>-40.323632</td>\n",
       "      <td>-3.316916e+01</td>\n",
       "      <td>4.067968e+00</td>\n",
       "      <td>4</td>\n",
       "    </tr>\n",
       "    <tr>\n",
       "      <th>1</th>\n",
       "      <td>0.258723</td>\n",
       "      <td>0.050410</td>\n",
       "      <td>0.113778</td>\n",
       "      <td>0.044737</td>\n",
       "      <td>LinearRegression()</td>\n",
       "      <td>{'model': LinearRegression()}</td>\n",
       "      <td>-9.641896e+14</td>\n",
       "      <td>-23.083673</td>\n",
       "      <td>-22.496960</td>\n",
       "      <td>-28.749024</td>\n",
       "      <td>-38.202712</td>\n",
       "      <td>-1.928379e+14</td>\n",
       "      <td>3.856758e+14</td>\n",
       "      <td>5</td>\n",
       "    </tr>\n",
       "  </tbody>\n",
       "</table>\n",
       "</div>"
      ],
      "text/plain": [
       "   mean_fit_time  std_fit_time  mean_score_time  std_score_time  \\\n",
       "4       3.704272      1.717963         0.022373        0.000925   \n",
       "2       0.279197      0.059912         0.156759        0.040804   \n",
       "3       0.169305      0.049622         0.151968        0.043963   \n",
       "0       0.094223      0.036876         0.008880        0.000319   \n",
       "1       0.258723      0.050410         0.113778        0.044737   \n",
       "\n",
       "                              param_model  \\\n",
       "4  RandomForestRegressor(random_state=42)   \n",
       "2                                 Ridge()   \n",
       "3                                 Lasso()   \n",
       "0  DecisionTreeRegressor(random_state=42)   \n",
       "1                      LinearRegression()   \n",
       "\n",
       "                                              params  split0_test_score  \\\n",
       "4  {'model': RandomForestRegressor(random_state=42)}      -2.085902e+01   \n",
       "2                                 {'model': Ridge()}      -2.448338e+01   \n",
       "3                                 {'model': Lasso()}      -2.216031e+01   \n",
       "0  {'model': DecisionTreeRegressor(random_state=42)}      -2.793619e+01   \n",
       "1                      {'model': LinearRegression()}      -9.641896e+14   \n",
       "\n",
       "   split1_test_score  split2_test_score  split3_test_score  split4_test_score  \\\n",
       "4         -21.822406         -22.652323         -22.604749         -29.097736   \n",
       "2         -22.702852         -21.893786         -25.991386         -33.252657   \n",
       "3         -25.920182         -24.149955         -26.618537         -33.999345   \n",
       "0         -31.314624         -33.739749         -32.531591         -40.323632   \n",
       "1         -23.083673         -22.496960         -28.749024         -38.202712   \n",
       "\n",
       "   mean_test_score  std_test_score  rank_test_score  \n",
       "4    -2.340725e+01    2.918930e+00                1  \n",
       "2    -2.566481e+01    4.051461e+00                2  \n",
       "3    -2.656967e+01    4.022978e+00                3  \n",
       "0    -3.316916e+01    4.067968e+00                4  \n",
       "1    -1.928379e+14    3.856758e+14                5  "
      ]
     },
     "execution_count": 30,
     "metadata": {},
     "output_type": "execute_result"
    }
   ],
   "source": [
    "# Выводим полную таблицу результатов\n",
    "results_df = pd.DataFrame(gridCV.cv_results_)\n",
    "results_df.sort_values(by = 'rank_test_score')"
   ]
  },
  {
   "cell_type": "markdown",
   "metadata": {},
   "source": [
    "Две модели RandomForestRegressor(random_state=42) и Ridge()\tпоказали очень близкие результаты 22.4 и 22.5 соответственно, но RandomForestRegressor(random_state=42) обучается значительно дольше поэтому выберем Ridge()"
   ]
  },
  {
   "cell_type": "markdown",
   "metadata": {},
   "source": [
    "### Обучение модели LightGBM"
   ]
  },
  {
   "cell_type": "code",
   "execution_count": 31,
   "metadata": {},
   "outputs": [],
   "source": [
    "for col in ohe_columns:\n",
    "    X_train[col] = X_train[col].astype('category')\n",
    "    X_test[col] = X_test[col].astype('category')"
   ]
  },
  {
   "cell_type": "code",
   "execution_count": 32,
   "metadata": {},
   "outputs": [
    {
     "name": "stdout",
     "output_type": "stream",
     "text": [
      "CPU times: user 13.2 s, sys: 186 ms, total: 13.4 s\n",
      "Wall time: 13.4 s\n"
     ]
    },
    {
     "data": {
      "text/html": [
       "<style>#sk-container-id-2 {color: black;background-color: white;}#sk-container-id-2 pre{padding: 0;}#sk-container-id-2 div.sk-toggleable {background-color: white;}#sk-container-id-2 label.sk-toggleable__label {cursor: pointer;display: block;width: 100%;margin-bottom: 0;padding: 0.3em;box-sizing: border-box;text-align: center;}#sk-container-id-2 label.sk-toggleable__label-arrow:before {content: \"▸\";float: left;margin-right: 0.25em;color: #696969;}#sk-container-id-2 label.sk-toggleable__label-arrow:hover:before {color: black;}#sk-container-id-2 div.sk-estimator:hover label.sk-toggleable__label-arrow:before {color: black;}#sk-container-id-2 div.sk-toggleable__content {max-height: 0;max-width: 0;overflow: hidden;text-align: left;background-color: #f0f8ff;}#sk-container-id-2 div.sk-toggleable__content pre {margin: 0.2em;color: black;border-radius: 0.25em;background-color: #f0f8ff;}#sk-container-id-2 input.sk-toggleable__control:checked~div.sk-toggleable__content {max-height: 200px;max-width: 100%;overflow: auto;}#sk-container-id-2 input.sk-toggleable__control:checked~label.sk-toggleable__label-arrow:before {content: \"▾\";}#sk-container-id-2 div.sk-estimator input.sk-toggleable__control:checked~label.sk-toggleable__label {background-color: #d4ebff;}#sk-container-id-2 div.sk-label input.sk-toggleable__control:checked~label.sk-toggleable__label {background-color: #d4ebff;}#sk-container-id-2 input.sk-hidden--visually {border: 0;clip: rect(1px 1px 1px 1px);clip: rect(1px, 1px, 1px, 1px);height: 1px;margin: -1px;overflow: hidden;padding: 0;position: absolute;width: 1px;}#sk-container-id-2 div.sk-estimator {font-family: monospace;background-color: #f0f8ff;border: 1px dotted black;border-radius: 0.25em;box-sizing: border-box;margin-bottom: 0.5em;}#sk-container-id-2 div.sk-estimator:hover {background-color: #d4ebff;}#sk-container-id-2 div.sk-parallel-item::after {content: \"\";width: 100%;border-bottom: 1px solid gray;flex-grow: 1;}#sk-container-id-2 div.sk-label:hover label.sk-toggleable__label {background-color: #d4ebff;}#sk-container-id-2 div.sk-serial::before {content: \"\";position: absolute;border-left: 1px solid gray;box-sizing: border-box;top: 0;bottom: 0;left: 50%;z-index: 0;}#sk-container-id-2 div.sk-serial {display: flex;flex-direction: column;align-items: center;background-color: white;padding-right: 0.2em;padding-left: 0.2em;position: relative;}#sk-container-id-2 div.sk-item {position: relative;z-index: 1;}#sk-container-id-2 div.sk-parallel {display: flex;align-items: stretch;justify-content: center;background-color: white;position: relative;}#sk-container-id-2 div.sk-item::before, #sk-container-id-2 div.sk-parallel-item::before {content: \"\";position: absolute;border-left: 1px solid gray;box-sizing: border-box;top: 0;bottom: 0;left: 50%;z-index: -1;}#sk-container-id-2 div.sk-parallel-item {display: flex;flex-direction: column;z-index: 1;position: relative;background-color: white;}#sk-container-id-2 div.sk-parallel-item:first-child::after {align-self: flex-end;width: 50%;}#sk-container-id-2 div.sk-parallel-item:last-child::after {align-self: flex-start;width: 50%;}#sk-container-id-2 div.sk-parallel-item:only-child::after {width: 0;}#sk-container-id-2 div.sk-dashed-wrapped {border: 1px dashed gray;margin: 0 0.4em 0.5em 0.4em;box-sizing: border-box;padding-bottom: 0.4em;background-color: white;}#sk-container-id-2 div.sk-label label {font-family: monospace;font-weight: bold;display: inline-block;line-height: 1.2em;}#sk-container-id-2 div.sk-label-container {text-align: center;}#sk-container-id-2 div.sk-container {/* jupyter's `normalize.less` sets `[hidden] { display: none; }` but bootstrap.min.css set `[hidden] { display: none !important; }` so we also need the `!important` here to be able to override the default hidden behavior on the sphinx rendered scikit-learn.org. See: https://github.com/scikit-learn/scikit-learn/issues/21755 */display: inline-block !important;position: relative;}#sk-container-id-2 div.sk-text-repr-fallback {display: none;}</style><div id=\"sk-container-id-2\" class=\"sk-top-container\"><div class=\"sk-text-repr-fallback\"><pre>LGBMRegressor(objective=&#x27;rmse&#x27;, random_state=42)</pre><b>In a Jupyter environment, please rerun this cell to show the HTML representation or trust the notebook. <br />On GitHub, the HTML representation is unable to render, please try loading this page with nbviewer.org.</b></div><div class=\"sk-container\" hidden><div class=\"sk-item\"><div class=\"sk-estimator sk-toggleable\"><input class=\"sk-toggleable__control sk-hidden--visually\" id=\"sk-estimator-id-14\" type=\"checkbox\" checked><label for=\"sk-estimator-id-14\" class=\"sk-toggleable__label sk-toggleable__label-arrow\">LGBMRegressor</label><div class=\"sk-toggleable__content\"><pre>LGBMRegressor(objective=&#x27;rmse&#x27;, random_state=42)</pre></div></div></div></div></div>"
      ],
      "text/plain": [
       "LGBMRegressor(objective='rmse', random_state=42)"
      ]
     },
     "execution_count": 32,
     "metadata": {},
     "output_type": "execute_result"
    }
   ],
   "source": [
    "%%time\n",
    "lgbm_test = LGBMRegressor(random_state=RANDOM_STATE, objective='rmse')\n",
    "lgbm_test.fit(X_train, y_train)"
   ]
  },
  {
   "cell_type": "code",
   "execution_count": 33,
   "metadata": {},
   "outputs": [
    {
     "name": "stdout",
     "output_type": "stream",
     "text": [
      "LightGBM RMSE  = 23.757855540569356\n",
      "LightGBM Fit Time  = 13.481538534164429s\n",
      "LightGBM Score Time  = 0.0811694622039795s\n"
     ]
    }
   ],
   "source": [
    "cv_results_lgbm = cross_validate(lgbm_test, X_train, y_train, cv=tscv, scoring='neg_root_mean_squared_error', return_train_score=False)\n",
    "\n",
    "print(f\"LightGBM RMSE  = {-cv_results_lgbm['test_score'].mean()}\")\n",
    "print(f\"LightGBM Fit Time  = {cv_results_lgbm['fit_time'].mean()}s\")\n",
    "print(f\"LightGBM Score Time  = {cv_results_lgbm['score_time'].mean()}s\")"
   ]
  },
  {
   "cell_type": "markdown",
   "metadata": {},
   "source": [
    "### Обучение модели CatBoost"
   ]
  },
  {
   "cell_type": "code",
   "execution_count": 34,
   "metadata": {
    "scrolled": true
   },
   "outputs": [
    {
     "name": "stdout",
     "output_type": "stream",
     "text": [
      "CPU times: user 10.7 s, sys: 197 ms, total: 10.9 s\n",
      "Wall time: 12.3 s\n"
     ]
    },
    {
     "data": {
      "text/plain": [
       "<catboost.core.CatBoostRegressor at 0x7fee7061cca0>"
      ]
     },
     "execution_count": 34,
     "metadata": {},
     "output_type": "execute_result"
    }
   ],
   "source": [
    "%%time\n",
    "catboost_model = CatBoostRegressor(\n",
    "    loss_function='RMSE',\n",
    "    random_seed=RANDOM_STATE,\n",
    "    silent=True\n",
    ")\n",
    "\n",
    "X_train[ohe_columns] = X_train[ohe_columns].astype(str)\n",
    "X_test[ohe_columns] = X_test[ohe_columns].astype(str)\n",
    "\n",
    "\n",
    "catboost_model.fit(X_train, y_train, cat_features = ohe_columns)"
   ]
  },
  {
   "cell_type": "code",
   "execution_count": 35,
   "metadata": {},
   "outputs": [
    {
     "name": "stdout",
     "output_type": "stream",
     "text": [
      "CatBoost RMSE = 23.749612884158125\n",
      "CatBoost Fit Time = 6.701652526855469s\n",
      "CatBoost Score Time = 0.0042645931243896484s\n"
     ]
    }
   ],
   "source": [
    "cv_results_catboost = cross_validate(catboost_model, X_train, y_train, cv=tscv, scoring='neg_root_mean_squared_error', return_train_score=False)\n",
    "\n",
    "print(f\"CatBoost RMSE = {-cv_results_catboost['test_score'].mean()}\")\n",
    "print(f\"CatBoost Fit Time = {cv_results_catboost['fit_time'].mean()}s\")\n",
    "print(f\"CatBoost Score Time = {cv_results_catboost['score_time'].mean()}s\")"
   ]
  },
  {
   "cell_type": "markdown",
   "metadata": {},
   "source": [
    "### Подбор гиперпараметров для небустинговых моделей"
   ]
  },
  {
   "cell_type": "code",
   "execution_count": 36,
   "metadata": {},
   "outputs": [],
   "source": [
    "param_grid = [\n",
    "    {\n",
    "        'model': [Ridge()],\n",
    "        'model__alpha': [0.01, 0.1, 1, 10, 100],  # Регуляризация\n",
    "        'model__solver': ['auto','cholesky', 'saga']  # Алгоритмы оптимизации\n",
    "    }\n",
    "]\n"
   ]
  },
  {
   "cell_type": "code",
   "execution_count": 37,
   "metadata": {},
   "outputs": [
    {
     "name": "stdout",
     "output_type": "stream",
     "text": [
      "CPU times: user 18 µs, sys: 1 µs, total: 19 µs\n",
      "Wall time: 21.2 µs\n"
     ]
    }
   ],
   "source": [
    "%%time\n",
    "gridCV_params = GridSearchCV(\n",
    "    pipe_final, \n",
    "    param_grid = param_grid, \n",
    "    cv=tscv,\n",
    "    scoring = 'neg_root_mean_squared_error',\n",
    "    n_jobs=-1,\n",
    ")"
   ]
  },
  {
   "cell_type": "code",
   "execution_count": 38,
   "metadata": {
    "scrolled": true
   },
   "outputs": [
    {
     "name": "stderr",
     "output_type": "stream",
     "text": [
      "/opt/conda/lib/python3.9/site-packages/sklearn/preprocessing/_encoders.py:202: UserWarning: Found unknown categories in columns [1] during transform. These unknown categories will be encoded as all zeros\n",
      "  warnings.warn(\n",
      "/opt/conda/lib/python3.9/site-packages/sklearn/preprocessing/_encoders.py:202: UserWarning: Found unknown categories in columns [0] during transform. These unknown categories will be encoded as all zeros\n",
      "  warnings.warn(\n",
      "/opt/conda/lib/python3.9/site-packages/sklearn/preprocessing/_encoders.py:202: UserWarning: Found unknown categories in columns [0] during transform. These unknown categories will be encoded as all zeros\n",
      "  warnings.warn(\n",
      "/opt/conda/lib/python3.9/site-packages/sklearn/preprocessing/_encoders.py:202: UserWarning: Found unknown categories in columns [0] during transform. These unknown categories will be encoded as all zeros\n",
      "  warnings.warn(\n",
      "/opt/conda/lib/python3.9/site-packages/sklearn/preprocessing/_encoders.py:202: UserWarning: Found unknown categories in columns [0] during transform. These unknown categories will be encoded as all zeros\n",
      "  warnings.warn(\n",
      "/opt/conda/lib/python3.9/site-packages/sklearn/preprocessing/_encoders.py:202: UserWarning: Found unknown categories in columns [1] during transform. These unknown categories will be encoded as all zeros\n",
      "  warnings.warn(\n",
      "/opt/conda/lib/python3.9/site-packages/sklearn/preprocessing/_encoders.py:202: UserWarning: Found unknown categories in columns [0] during transform. These unknown categories will be encoded as all zeros\n",
      "  warnings.warn(\n",
      "/opt/conda/lib/python3.9/site-packages/sklearn/preprocessing/_encoders.py:202: UserWarning: Found unknown categories in columns [0] during transform. These unknown categories will be encoded as all zeros\n",
      "  warnings.warn(\n",
      "/opt/conda/lib/python3.9/site-packages/sklearn/preprocessing/_encoders.py:202: UserWarning: Found unknown categories in columns [0] during transform. These unknown categories will be encoded as all zeros\n",
      "  warnings.warn(\n",
      "/opt/conda/lib/python3.9/site-packages/sklearn/preprocessing/_encoders.py:202: UserWarning: Found unknown categories in columns [0] during transform. These unknown categories will be encoded as all zeros\n",
      "  warnings.warn(\n",
      "/opt/conda/lib/python3.9/site-packages/sklearn/preprocessing/_encoders.py:202: UserWarning: Found unknown categories in columns [1] during transform. These unknown categories will be encoded as all zeros\n",
      "  warnings.warn(\n",
      "/opt/conda/lib/python3.9/site-packages/sklearn/preprocessing/_encoders.py:202: UserWarning: Found unknown categories in columns [0] during transform. These unknown categories will be encoded as all zeros\n",
      "  warnings.warn(\n",
      "/opt/conda/lib/python3.9/site-packages/sklearn/preprocessing/_encoders.py:202: UserWarning: Found unknown categories in columns [0] during transform. These unknown categories will be encoded as all zeros\n",
      "  warnings.warn(\n",
      "/opt/conda/lib/python3.9/site-packages/sklearn/preprocessing/_encoders.py:202: UserWarning: Found unknown categories in columns [0] during transform. These unknown categories will be encoded as all zeros\n",
      "  warnings.warn(\n",
      "/opt/conda/lib/python3.9/site-packages/sklearn/preprocessing/_encoders.py:202: UserWarning: Found unknown categories in columns [0] during transform. These unknown categories will be encoded as all zeros\n",
      "  warnings.warn(\n",
      "/opt/conda/lib/python3.9/site-packages/sklearn/preprocessing/_encoders.py:202: UserWarning: Found unknown categories in columns [1] during transform. These unknown categories will be encoded as all zeros\n",
      "  warnings.warn(\n",
      "/opt/conda/lib/python3.9/site-packages/sklearn/preprocessing/_encoders.py:202: UserWarning: Found unknown categories in columns [0] during transform. These unknown categories will be encoded as all zeros\n",
      "  warnings.warn(\n",
      "/opt/conda/lib/python3.9/site-packages/sklearn/preprocessing/_encoders.py:202: UserWarning: Found unknown categories in columns [0] during transform. These unknown categories will be encoded as all zeros\n",
      "  warnings.warn(\n",
      "/opt/conda/lib/python3.9/site-packages/sklearn/preprocessing/_encoders.py:202: UserWarning: Found unknown categories in columns [0] during transform. These unknown categories will be encoded as all zeros\n",
      "  warnings.warn(\n",
      "/opt/conda/lib/python3.9/site-packages/sklearn/preprocessing/_encoders.py:202: UserWarning: Found unknown categories in columns [0] during transform. These unknown categories will be encoded as all zeros\n",
      "  warnings.warn(\n",
      "/opt/conda/lib/python3.9/site-packages/sklearn/preprocessing/_encoders.py:202: UserWarning: Found unknown categories in columns [1] during transform. These unknown categories will be encoded as all zeros\n",
      "  warnings.warn(\n",
      "/opt/conda/lib/python3.9/site-packages/sklearn/preprocessing/_encoders.py:202: UserWarning: Found unknown categories in columns [0] during transform. These unknown categories will be encoded as all zeros\n",
      "  warnings.warn(\n",
      "/opt/conda/lib/python3.9/site-packages/sklearn/preprocessing/_encoders.py:202: UserWarning: Found unknown categories in columns [0] during transform. These unknown categories will be encoded as all zeros\n",
      "  warnings.warn(\n",
      "/opt/conda/lib/python3.9/site-packages/sklearn/preprocessing/_encoders.py:202: UserWarning: Found unknown categories in columns [0] during transform. These unknown categories will be encoded as all zeros\n",
      "  warnings.warn(\n",
      "/opt/conda/lib/python3.9/site-packages/sklearn/preprocessing/_encoders.py:202: UserWarning: Found unknown categories in columns [0] during transform. These unknown categories will be encoded as all zeros\n",
      "  warnings.warn(\n",
      "/opt/conda/lib/python3.9/site-packages/sklearn/preprocessing/_encoders.py:202: UserWarning: Found unknown categories in columns [1] during transform. These unknown categories will be encoded as all zeros\n",
      "  warnings.warn(\n",
      "/opt/conda/lib/python3.9/site-packages/sklearn/preprocessing/_encoders.py:202: UserWarning: Found unknown categories in columns [0] during transform. These unknown categories will be encoded as all zeros\n",
      "  warnings.warn(\n",
      "/opt/conda/lib/python3.9/site-packages/sklearn/preprocessing/_encoders.py:202: UserWarning: Found unknown categories in columns [0] during transform. These unknown categories will be encoded as all zeros\n",
      "  warnings.warn(\n",
      "/opt/conda/lib/python3.9/site-packages/sklearn/preprocessing/_encoders.py:202: UserWarning: Found unknown categories in columns [0] during transform. These unknown categories will be encoded as all zeros\n",
      "  warnings.warn(\n",
      "/opt/conda/lib/python3.9/site-packages/sklearn/preprocessing/_encoders.py:202: UserWarning: Found unknown categories in columns [0] during transform. These unknown categories will be encoded as all zeros\n",
      "  warnings.warn(\n",
      "/opt/conda/lib/python3.9/site-packages/sklearn/preprocessing/_encoders.py:202: UserWarning: Found unknown categories in columns [1] during transform. These unknown categories will be encoded as all zeros\n",
      "  warnings.warn(\n",
      "/opt/conda/lib/python3.9/site-packages/sklearn/preprocessing/_encoders.py:202: UserWarning: Found unknown categories in columns [0] during transform. These unknown categories will be encoded as all zeros\n",
      "  warnings.warn(\n",
      "/opt/conda/lib/python3.9/site-packages/sklearn/preprocessing/_encoders.py:202: UserWarning: Found unknown categories in columns [0] during transform. These unknown categories will be encoded as all zeros\n",
      "  warnings.warn(\n",
      "/opt/conda/lib/python3.9/site-packages/sklearn/preprocessing/_encoders.py:202: UserWarning: Found unknown categories in columns [0] during transform. These unknown categories will be encoded as all zeros\n",
      "  warnings.warn(\n",
      "/opt/conda/lib/python3.9/site-packages/sklearn/preprocessing/_encoders.py:202: UserWarning: Found unknown categories in columns [0] during transform. These unknown categories will be encoded as all zeros\n",
      "  warnings.warn(\n",
      "/opt/conda/lib/python3.9/site-packages/sklearn/preprocessing/_encoders.py:202: UserWarning: Found unknown categories in columns [1] during transform. These unknown categories will be encoded as all zeros\n",
      "  warnings.warn(\n",
      "/opt/conda/lib/python3.9/site-packages/sklearn/preprocessing/_encoders.py:202: UserWarning: Found unknown categories in columns [0] during transform. These unknown categories will be encoded as all zeros\n",
      "  warnings.warn(\n",
      "/opt/conda/lib/python3.9/site-packages/sklearn/preprocessing/_encoders.py:202: UserWarning: Found unknown categories in columns [0] during transform. These unknown categories will be encoded as all zeros\n",
      "  warnings.warn(\n",
      "/opt/conda/lib/python3.9/site-packages/sklearn/preprocessing/_encoders.py:202: UserWarning: Found unknown categories in columns [0] during transform. These unknown categories will be encoded as all zeros\n",
      "  warnings.warn(\n",
      "/opt/conda/lib/python3.9/site-packages/sklearn/preprocessing/_encoders.py:202: UserWarning: Found unknown categories in columns [0] during transform. These unknown categories will be encoded as all zeros\n",
      "  warnings.warn(\n",
      "/opt/conda/lib/python3.9/site-packages/sklearn/preprocessing/_encoders.py:202: UserWarning: Found unknown categories in columns [1] during transform. These unknown categories will be encoded as all zeros\n",
      "  warnings.warn(\n",
      "/opt/conda/lib/python3.9/site-packages/sklearn/preprocessing/_encoders.py:202: UserWarning: Found unknown categories in columns [0] during transform. These unknown categories will be encoded as all zeros\n",
      "  warnings.warn(\n",
      "/opt/conda/lib/python3.9/site-packages/sklearn/preprocessing/_encoders.py:202: UserWarning: Found unknown categories in columns [0] during transform. These unknown categories will be encoded as all zeros\n",
      "  warnings.warn(\n",
      "/opt/conda/lib/python3.9/site-packages/sklearn/preprocessing/_encoders.py:202: UserWarning: Found unknown categories in columns [0] during transform. These unknown categories will be encoded as all zeros\n",
      "  warnings.warn(\n",
      "/opt/conda/lib/python3.9/site-packages/sklearn/preprocessing/_encoders.py:202: UserWarning: Found unknown categories in columns [0] during transform. These unknown categories will be encoded as all zeros\n",
      "  warnings.warn(\n",
      "/opt/conda/lib/python3.9/site-packages/sklearn/preprocessing/_encoders.py:202: UserWarning: Found unknown categories in columns [1] during transform. These unknown categories will be encoded as all zeros\n",
      "  warnings.warn(\n",
      "/opt/conda/lib/python3.9/site-packages/sklearn/preprocessing/_encoders.py:202: UserWarning: Found unknown categories in columns [0] during transform. These unknown categories will be encoded as all zeros\n",
      "  warnings.warn(\n",
      "/opt/conda/lib/python3.9/site-packages/sklearn/preprocessing/_encoders.py:202: UserWarning: Found unknown categories in columns [0] during transform. These unknown categories will be encoded as all zeros\n",
      "  warnings.warn(\n",
      "/opt/conda/lib/python3.9/site-packages/sklearn/preprocessing/_encoders.py:202: UserWarning: Found unknown categories in columns [0] during transform. These unknown categories will be encoded as all zeros\n",
      "  warnings.warn(\n",
      "/opt/conda/lib/python3.9/site-packages/sklearn/preprocessing/_encoders.py:202: UserWarning: Found unknown categories in columns [0] during transform. These unknown categories will be encoded as all zeros\n",
      "  warnings.warn(\n",
      "/opt/conda/lib/python3.9/site-packages/sklearn/preprocessing/_encoders.py:202: UserWarning: Found unknown categories in columns [1] during transform. These unknown categories will be encoded as all zeros\n",
      "  warnings.warn(\n",
      "/opt/conda/lib/python3.9/site-packages/sklearn/preprocessing/_encoders.py:202: UserWarning: Found unknown categories in columns [0] during transform. These unknown categories will be encoded as all zeros\n",
      "  warnings.warn(\n",
      "/opt/conda/lib/python3.9/site-packages/sklearn/preprocessing/_encoders.py:202: UserWarning: Found unknown categories in columns [0] during transform. These unknown categories will be encoded as all zeros\n",
      "  warnings.warn(\n",
      "/opt/conda/lib/python3.9/site-packages/sklearn/preprocessing/_encoders.py:202: UserWarning: Found unknown categories in columns [0] during transform. These unknown categories will be encoded as all zeros\n",
      "  warnings.warn(\n",
      "/opt/conda/lib/python3.9/site-packages/sklearn/preprocessing/_encoders.py:202: UserWarning: Found unknown categories in columns [0] during transform. These unknown categories will be encoded as all zeros\n",
      "  warnings.warn(\n",
      "/opt/conda/lib/python3.9/site-packages/sklearn/preprocessing/_encoders.py:202: UserWarning: Found unknown categories in columns [1] during transform. These unknown categories will be encoded as all zeros\n",
      "  warnings.warn(\n",
      "/opt/conda/lib/python3.9/site-packages/sklearn/preprocessing/_encoders.py:202: UserWarning: Found unknown categories in columns [0] during transform. These unknown categories will be encoded as all zeros\n",
      "  warnings.warn(\n",
      "/opt/conda/lib/python3.9/site-packages/sklearn/preprocessing/_encoders.py:202: UserWarning: Found unknown categories in columns [0] during transform. These unknown categories will be encoded as all zeros\n",
      "  warnings.warn(\n",
      "/opt/conda/lib/python3.9/site-packages/sklearn/preprocessing/_encoders.py:202: UserWarning: Found unknown categories in columns [0] during transform. These unknown categories will be encoded as all zeros\n",
      "  warnings.warn(\n",
      "/opt/conda/lib/python3.9/site-packages/sklearn/preprocessing/_encoders.py:202: UserWarning: Found unknown categories in columns [0] during transform. These unknown categories will be encoded as all zeros\n",
      "  warnings.warn(\n",
      "/opt/conda/lib/python3.9/site-packages/sklearn/preprocessing/_encoders.py:202: UserWarning: Found unknown categories in columns [1] during transform. These unknown categories will be encoded as all zeros\n",
      "  warnings.warn(\n",
      "/opt/conda/lib/python3.9/site-packages/sklearn/preprocessing/_encoders.py:202: UserWarning: Found unknown categories in columns [0] during transform. These unknown categories will be encoded as all zeros\n",
      "  warnings.warn(\n",
      "/opt/conda/lib/python3.9/site-packages/sklearn/preprocessing/_encoders.py:202: UserWarning: Found unknown categories in columns [0] during transform. These unknown categories will be encoded as all zeros\n",
      "  warnings.warn(\n",
      "/opt/conda/lib/python3.9/site-packages/sklearn/preprocessing/_encoders.py:202: UserWarning: Found unknown categories in columns [0] during transform. These unknown categories will be encoded as all zeros\n",
      "  warnings.warn(\n",
      "/opt/conda/lib/python3.9/site-packages/sklearn/preprocessing/_encoders.py:202: UserWarning: Found unknown categories in columns [0] during transform. These unknown categories will be encoded as all zeros\n",
      "  warnings.warn(\n",
      "/opt/conda/lib/python3.9/site-packages/sklearn/preprocessing/_encoders.py:202: UserWarning: Found unknown categories in columns [1] during transform. These unknown categories will be encoded as all zeros\n",
      "  warnings.warn(\n",
      "/opt/conda/lib/python3.9/site-packages/sklearn/preprocessing/_encoders.py:202: UserWarning: Found unknown categories in columns [0] during transform. These unknown categories will be encoded as all zeros\n",
      "  warnings.warn(\n",
      "/opt/conda/lib/python3.9/site-packages/sklearn/preprocessing/_encoders.py:202: UserWarning: Found unknown categories in columns [0] during transform. These unknown categories will be encoded as all zeros\n",
      "  warnings.warn(\n",
      "/opt/conda/lib/python3.9/site-packages/sklearn/preprocessing/_encoders.py:202: UserWarning: Found unknown categories in columns [0] during transform. These unknown categories will be encoded as all zeros\n",
      "  warnings.warn(\n",
      "/opt/conda/lib/python3.9/site-packages/sklearn/preprocessing/_encoders.py:202: UserWarning: Found unknown categories in columns [0] during transform. These unknown categories will be encoded as all zeros\n",
      "  warnings.warn(\n",
      "/opt/conda/lib/python3.9/site-packages/sklearn/preprocessing/_encoders.py:202: UserWarning: Found unknown categories in columns [1] during transform. These unknown categories will be encoded as all zeros\n",
      "  warnings.warn(\n",
      "/opt/conda/lib/python3.9/site-packages/sklearn/preprocessing/_encoders.py:202: UserWarning: Found unknown categories in columns [0] during transform. These unknown categories will be encoded as all zeros\n",
      "  warnings.warn(\n",
      "/opt/conda/lib/python3.9/site-packages/sklearn/preprocessing/_encoders.py:202: UserWarning: Found unknown categories in columns [0] during transform. These unknown categories will be encoded as all zeros\n",
      "  warnings.warn(\n",
      "/opt/conda/lib/python3.9/site-packages/sklearn/preprocessing/_encoders.py:202: UserWarning: Found unknown categories in columns [0] during transform. These unknown categories will be encoded as all zeros\n",
      "  warnings.warn(\n",
      "/opt/conda/lib/python3.9/site-packages/sklearn/preprocessing/_encoders.py:202: UserWarning: Found unknown categories in columns [0] during transform. These unknown categories will be encoded as all zeros\n",
      "  warnings.warn(\n"
     ]
    },
    {
     "name": "stdout",
     "output_type": "stream",
     "text": [
      "CPU times: user 17.2 s, sys: 12.1 s, total: 29.3 s\n",
      "Wall time: 29.4 s\n"
     ]
    },
    {
     "data": {
      "text/html": [
       "<style>#sk-container-id-3 {color: black;background-color: white;}#sk-container-id-3 pre{padding: 0;}#sk-container-id-3 div.sk-toggleable {background-color: white;}#sk-container-id-3 label.sk-toggleable__label {cursor: pointer;display: block;width: 100%;margin-bottom: 0;padding: 0.3em;box-sizing: border-box;text-align: center;}#sk-container-id-3 label.sk-toggleable__label-arrow:before {content: \"▸\";float: left;margin-right: 0.25em;color: #696969;}#sk-container-id-3 label.sk-toggleable__label-arrow:hover:before {color: black;}#sk-container-id-3 div.sk-estimator:hover label.sk-toggleable__label-arrow:before {color: black;}#sk-container-id-3 div.sk-toggleable__content {max-height: 0;max-width: 0;overflow: hidden;text-align: left;background-color: #f0f8ff;}#sk-container-id-3 div.sk-toggleable__content pre {margin: 0.2em;color: black;border-radius: 0.25em;background-color: #f0f8ff;}#sk-container-id-3 input.sk-toggleable__control:checked~div.sk-toggleable__content {max-height: 200px;max-width: 100%;overflow: auto;}#sk-container-id-3 input.sk-toggleable__control:checked~label.sk-toggleable__label-arrow:before {content: \"▾\";}#sk-container-id-3 div.sk-estimator input.sk-toggleable__control:checked~label.sk-toggleable__label {background-color: #d4ebff;}#sk-container-id-3 div.sk-label input.sk-toggleable__control:checked~label.sk-toggleable__label {background-color: #d4ebff;}#sk-container-id-3 input.sk-hidden--visually {border: 0;clip: rect(1px 1px 1px 1px);clip: rect(1px, 1px, 1px, 1px);height: 1px;margin: -1px;overflow: hidden;padding: 0;position: absolute;width: 1px;}#sk-container-id-3 div.sk-estimator {font-family: monospace;background-color: #f0f8ff;border: 1px dotted black;border-radius: 0.25em;box-sizing: border-box;margin-bottom: 0.5em;}#sk-container-id-3 div.sk-estimator:hover {background-color: #d4ebff;}#sk-container-id-3 div.sk-parallel-item::after {content: \"\";width: 100%;border-bottom: 1px solid gray;flex-grow: 1;}#sk-container-id-3 div.sk-label:hover label.sk-toggleable__label {background-color: #d4ebff;}#sk-container-id-3 div.sk-serial::before {content: \"\";position: absolute;border-left: 1px solid gray;box-sizing: border-box;top: 0;bottom: 0;left: 50%;z-index: 0;}#sk-container-id-3 div.sk-serial {display: flex;flex-direction: column;align-items: center;background-color: white;padding-right: 0.2em;padding-left: 0.2em;position: relative;}#sk-container-id-3 div.sk-item {position: relative;z-index: 1;}#sk-container-id-3 div.sk-parallel {display: flex;align-items: stretch;justify-content: center;background-color: white;position: relative;}#sk-container-id-3 div.sk-item::before, #sk-container-id-3 div.sk-parallel-item::before {content: \"\";position: absolute;border-left: 1px solid gray;box-sizing: border-box;top: 0;bottom: 0;left: 50%;z-index: -1;}#sk-container-id-3 div.sk-parallel-item {display: flex;flex-direction: column;z-index: 1;position: relative;background-color: white;}#sk-container-id-3 div.sk-parallel-item:first-child::after {align-self: flex-end;width: 50%;}#sk-container-id-3 div.sk-parallel-item:last-child::after {align-self: flex-start;width: 50%;}#sk-container-id-3 div.sk-parallel-item:only-child::after {width: 0;}#sk-container-id-3 div.sk-dashed-wrapped {border: 1px dashed gray;margin: 0 0.4em 0.5em 0.4em;box-sizing: border-box;padding-bottom: 0.4em;background-color: white;}#sk-container-id-3 div.sk-label label {font-family: monospace;font-weight: bold;display: inline-block;line-height: 1.2em;}#sk-container-id-3 div.sk-label-container {text-align: center;}#sk-container-id-3 div.sk-container {/* jupyter's `normalize.less` sets `[hidden] { display: none; }` but bootstrap.min.css set `[hidden] { display: none !important; }` so we also need the `!important` here to be able to override the default hidden behavior on the sphinx rendered scikit-learn.org. See: https://github.com/scikit-learn/scikit-learn/issues/21755 */display: inline-block !important;position: relative;}#sk-container-id-3 div.sk-text-repr-fallback {display: none;}</style><div id=\"sk-container-id-3\" class=\"sk-top-container\"><div class=\"sk-text-repr-fallback\"><pre>GridSearchCV(cv=TimeSeriesSplit(gap=0, max_train_size=None, n_splits=5, test_size=None),\n",
       "             estimator=Pipeline(steps=[(&#x27;preprocessor&#x27;,\n",
       "                                        ColumnTransformer(remainder=&#x27;passthrough&#x27;,\n",
       "                                                          transformers=[(&#x27;ohe&#x27;,\n",
       "                                                                         Pipeline(steps=[(&#x27;simpleImputer_before_ohe&#x27;,\n",
       "                                                                                          SimpleImputer(strategy=&#x27;most_frequent&#x27;)),\n",
       "                                                                                         (&#x27;ohe&#x27;,\n",
       "                                                                                          OneHotEncoder(drop=&#x27;first&#x27;,\n",
       "                                                                                                        handle_unknown=&#x27;ignore&#x27;,\n",
       "                                                                                                        sparse=False)),\n",
       "                                                                                         (&#x27;...\n",
       "                                                                          &#x27;lag_20&#x27;,\n",
       "                                                                          &#x27;lag_21&#x27;,\n",
       "                                                                          &#x27;lag_22&#x27;,\n",
       "                                                                          &#x27;lag_23&#x27;,\n",
       "                                                                          &#x27;lag_168&#x27;,\n",
       "                                                                          &#x27;rolling_mean_6&#x27;,\n",
       "                                                                          &#x27;rolling_mean_8&#x27;,\n",
       "                                                                          &#x27;rolling_mean_12&#x27;,\n",
       "                                                                          &#x27;rolling_mean_24&#x27;,\n",
       "                                                                          &#x27;rolling_mean_168&#x27;])])),\n",
       "                                       (&#x27;model&#x27;, LinearRegression())]),\n",
       "             n_jobs=-1,\n",
       "             param_grid=[{&#x27;model&#x27;: [Ridge(alpha=10, solver=&#x27;saga&#x27;)],\n",
       "                          &#x27;model__alpha&#x27;: [0.01, 0.1, 1, 10, 100],\n",
       "                          &#x27;model__solver&#x27;: [&#x27;auto&#x27;, &#x27;cholesky&#x27;, &#x27;saga&#x27;]}],\n",
       "             scoring=&#x27;neg_root_mean_squared_error&#x27;)</pre><b>In a Jupyter environment, please rerun this cell to show the HTML representation or trust the notebook. <br />On GitHub, the HTML representation is unable to render, please try loading this page with nbviewer.org.</b></div><div class=\"sk-container\" hidden><div class=\"sk-item sk-dashed-wrapped\"><div class=\"sk-label-container\"><div class=\"sk-label sk-toggleable\"><input class=\"sk-toggleable__control sk-hidden--visually\" id=\"sk-estimator-id-15\" type=\"checkbox\" ><label for=\"sk-estimator-id-15\" class=\"sk-toggleable__label sk-toggleable__label-arrow\">GridSearchCV</label><div class=\"sk-toggleable__content\"><pre>GridSearchCV(cv=TimeSeriesSplit(gap=0, max_train_size=None, n_splits=5, test_size=None),\n",
       "             estimator=Pipeline(steps=[(&#x27;preprocessor&#x27;,\n",
       "                                        ColumnTransformer(remainder=&#x27;passthrough&#x27;,\n",
       "                                                          transformers=[(&#x27;ohe&#x27;,\n",
       "                                                                         Pipeline(steps=[(&#x27;simpleImputer_before_ohe&#x27;,\n",
       "                                                                                          SimpleImputer(strategy=&#x27;most_frequent&#x27;)),\n",
       "                                                                                         (&#x27;ohe&#x27;,\n",
       "                                                                                          OneHotEncoder(drop=&#x27;first&#x27;,\n",
       "                                                                                                        handle_unknown=&#x27;ignore&#x27;,\n",
       "                                                                                                        sparse=False)),\n",
       "                                                                                         (&#x27;...\n",
       "                                                                          &#x27;lag_20&#x27;,\n",
       "                                                                          &#x27;lag_21&#x27;,\n",
       "                                                                          &#x27;lag_22&#x27;,\n",
       "                                                                          &#x27;lag_23&#x27;,\n",
       "                                                                          &#x27;lag_168&#x27;,\n",
       "                                                                          &#x27;rolling_mean_6&#x27;,\n",
       "                                                                          &#x27;rolling_mean_8&#x27;,\n",
       "                                                                          &#x27;rolling_mean_12&#x27;,\n",
       "                                                                          &#x27;rolling_mean_24&#x27;,\n",
       "                                                                          &#x27;rolling_mean_168&#x27;])])),\n",
       "                                       (&#x27;model&#x27;, LinearRegression())]),\n",
       "             n_jobs=-1,\n",
       "             param_grid=[{&#x27;model&#x27;: [Ridge(alpha=10, solver=&#x27;saga&#x27;)],\n",
       "                          &#x27;model__alpha&#x27;: [0.01, 0.1, 1, 10, 100],\n",
       "                          &#x27;model__solver&#x27;: [&#x27;auto&#x27;, &#x27;cholesky&#x27;, &#x27;saga&#x27;]}],\n",
       "             scoring=&#x27;neg_root_mean_squared_error&#x27;)</pre></div></div></div><div class=\"sk-parallel\"><div class=\"sk-parallel-item\"><div class=\"sk-item\"><div class=\"sk-label-container\"><div class=\"sk-label sk-toggleable\"><input class=\"sk-toggleable__control sk-hidden--visually\" id=\"sk-estimator-id-16\" type=\"checkbox\" ><label for=\"sk-estimator-id-16\" class=\"sk-toggleable__label sk-toggleable__label-arrow\">estimator: Pipeline</label><div class=\"sk-toggleable__content\"><pre>Pipeline(steps=[(&#x27;preprocessor&#x27;,\n",
       "                 ColumnTransformer(remainder=&#x27;passthrough&#x27;,\n",
       "                                   transformers=[(&#x27;ohe&#x27;,\n",
       "                                                  Pipeline(steps=[(&#x27;simpleImputer_before_ohe&#x27;,\n",
       "                                                                   SimpleImputer(strategy=&#x27;most_frequent&#x27;)),\n",
       "                                                                  (&#x27;ohe&#x27;,\n",
       "                                                                   OneHotEncoder(drop=&#x27;first&#x27;,\n",
       "                                                                                 handle_unknown=&#x27;ignore&#x27;,\n",
       "                                                                                 sparse=False)),\n",
       "                                                                  (&#x27;simpleImputer_after_ohe&#x27;,\n",
       "                                                                   SimpleImputer(strategy=&#x27;most_frequent&#x27;))]),\n",
       "                                                  [&#x27;month&#x27;, &#x27;day&#x27;, &#x27;hour&#x27;,\n",
       "                                                   &#x27;day_...\n",
       "                                                                   MinMaxScaler())]),\n",
       "                                                  [&#x27;lag_1&#x27;, &#x27;lag_2&#x27;, &#x27;lag_3&#x27;,\n",
       "                                                   &#x27;lag_4&#x27;, &#x27;lag_5&#x27;, &#x27;lag_6&#x27;,\n",
       "                                                   &#x27;lag_7&#x27;, &#x27;lag_8&#x27;, &#x27;lag_9&#x27;,\n",
       "                                                   &#x27;lag_10&#x27;, &#x27;lag_11&#x27;, &#x27;lag_12&#x27;,\n",
       "                                                   &#x27;lag_13&#x27;, &#x27;lag_14&#x27;, &#x27;lag_15&#x27;,\n",
       "                                                   &#x27;lag_16&#x27;, &#x27;lag_17&#x27;, &#x27;lag_18&#x27;,\n",
       "                                                   &#x27;lag_19&#x27;, &#x27;lag_20&#x27;, &#x27;lag_21&#x27;,\n",
       "                                                   &#x27;lag_22&#x27;, &#x27;lag_23&#x27;,\n",
       "                                                   &#x27;lag_168&#x27;, &#x27;rolling_mean_6&#x27;,\n",
       "                                                   &#x27;rolling_mean_8&#x27;,\n",
       "                                                   &#x27;rolling_mean_12&#x27;,\n",
       "                                                   &#x27;rolling_mean_24&#x27;,\n",
       "                                                   &#x27;rolling_mean_168&#x27;])])),\n",
       "                (&#x27;model&#x27;, LinearRegression())])</pre></div></div></div><div class=\"sk-serial\"><div class=\"sk-item\"><div class=\"sk-serial\"><div class=\"sk-item sk-dashed-wrapped\"><div class=\"sk-label-container\"><div class=\"sk-label sk-toggleable\"><input class=\"sk-toggleable__control sk-hidden--visually\" id=\"sk-estimator-id-17\" type=\"checkbox\" ><label for=\"sk-estimator-id-17\" class=\"sk-toggleable__label sk-toggleable__label-arrow\">preprocessor: ColumnTransformer</label><div class=\"sk-toggleable__content\"><pre>ColumnTransformer(remainder=&#x27;passthrough&#x27;,\n",
       "                  transformers=[(&#x27;ohe&#x27;,\n",
       "                                 Pipeline(steps=[(&#x27;simpleImputer_before_ohe&#x27;,\n",
       "                                                  SimpleImputer(strategy=&#x27;most_frequent&#x27;)),\n",
       "                                                 (&#x27;ohe&#x27;,\n",
       "                                                  OneHotEncoder(drop=&#x27;first&#x27;,\n",
       "                                                                handle_unknown=&#x27;ignore&#x27;,\n",
       "                                                                sparse=False)),\n",
       "                                                 (&#x27;simpleImputer_after_ohe&#x27;,\n",
       "                                                  SimpleImputer(strategy=&#x27;most_frequent&#x27;))]),\n",
       "                                 [&#x27;month&#x27;, &#x27;day&#x27;, &#x27;hour&#x27;, &#x27;day_of_week&#x27;]),\n",
       "                                (&#x27;num&#x27;,\n",
       "                                 Pipeline(steps...er&#x27;, SimpleImputer()),\n",
       "                                                 (&#x27;scaler&#x27;, MinMaxScaler())]),\n",
       "                                 [&#x27;lag_1&#x27;, &#x27;lag_2&#x27;, &#x27;lag_3&#x27;, &#x27;lag_4&#x27;, &#x27;lag_5&#x27;,\n",
       "                                  &#x27;lag_6&#x27;, &#x27;lag_7&#x27;, &#x27;lag_8&#x27;, &#x27;lag_9&#x27;, &#x27;lag_10&#x27;,\n",
       "                                  &#x27;lag_11&#x27;, &#x27;lag_12&#x27;, &#x27;lag_13&#x27;, &#x27;lag_14&#x27;,\n",
       "                                  &#x27;lag_15&#x27;, &#x27;lag_16&#x27;, &#x27;lag_17&#x27;, &#x27;lag_18&#x27;,\n",
       "                                  &#x27;lag_19&#x27;, &#x27;lag_20&#x27;, &#x27;lag_21&#x27;, &#x27;lag_22&#x27;,\n",
       "                                  &#x27;lag_23&#x27;, &#x27;lag_168&#x27;, &#x27;rolling_mean_6&#x27;,\n",
       "                                  &#x27;rolling_mean_8&#x27;, &#x27;rolling_mean_12&#x27;,\n",
       "                                  &#x27;rolling_mean_24&#x27;, &#x27;rolling_mean_168&#x27;])])</pre></div></div></div><div class=\"sk-parallel\"><div class=\"sk-parallel-item\"><div class=\"sk-item\"><div class=\"sk-label-container\"><div class=\"sk-label sk-toggleable\"><input class=\"sk-toggleable__control sk-hidden--visually\" id=\"sk-estimator-id-18\" type=\"checkbox\" ><label for=\"sk-estimator-id-18\" class=\"sk-toggleable__label sk-toggleable__label-arrow\">ohe</label><div class=\"sk-toggleable__content\"><pre>[&#x27;month&#x27;, &#x27;day&#x27;, &#x27;hour&#x27;, &#x27;day_of_week&#x27;]</pre></div></div></div><div class=\"sk-serial\"><div class=\"sk-item\"><div class=\"sk-serial\"><div class=\"sk-item\"><div class=\"sk-estimator sk-toggleable\"><input class=\"sk-toggleable__control sk-hidden--visually\" id=\"sk-estimator-id-19\" type=\"checkbox\" ><label for=\"sk-estimator-id-19\" class=\"sk-toggleable__label sk-toggleable__label-arrow\">SimpleImputer</label><div class=\"sk-toggleable__content\"><pre>SimpleImputer(strategy=&#x27;most_frequent&#x27;)</pre></div></div></div><div class=\"sk-item\"><div class=\"sk-estimator sk-toggleable\"><input class=\"sk-toggleable__control sk-hidden--visually\" id=\"sk-estimator-id-20\" type=\"checkbox\" ><label for=\"sk-estimator-id-20\" class=\"sk-toggleable__label sk-toggleable__label-arrow\">OneHotEncoder</label><div class=\"sk-toggleable__content\"><pre>OneHotEncoder(drop=&#x27;first&#x27;, handle_unknown=&#x27;ignore&#x27;, sparse=False)</pre></div></div></div><div class=\"sk-item\"><div class=\"sk-estimator sk-toggleable\"><input class=\"sk-toggleable__control sk-hidden--visually\" id=\"sk-estimator-id-21\" type=\"checkbox\" ><label for=\"sk-estimator-id-21\" class=\"sk-toggleable__label sk-toggleable__label-arrow\">SimpleImputer</label><div class=\"sk-toggleable__content\"><pre>SimpleImputer(strategy=&#x27;most_frequent&#x27;)</pre></div></div></div></div></div></div></div></div><div class=\"sk-parallel-item\"><div class=\"sk-item\"><div class=\"sk-label-container\"><div class=\"sk-label sk-toggleable\"><input class=\"sk-toggleable__control sk-hidden--visually\" id=\"sk-estimator-id-22\" type=\"checkbox\" ><label for=\"sk-estimator-id-22\" class=\"sk-toggleable__label sk-toggleable__label-arrow\">num</label><div class=\"sk-toggleable__content\"><pre>[&#x27;lag_1&#x27;, &#x27;lag_2&#x27;, &#x27;lag_3&#x27;, &#x27;lag_4&#x27;, &#x27;lag_5&#x27;, &#x27;lag_6&#x27;, &#x27;lag_7&#x27;, &#x27;lag_8&#x27;, &#x27;lag_9&#x27;, &#x27;lag_10&#x27;, &#x27;lag_11&#x27;, &#x27;lag_12&#x27;, &#x27;lag_13&#x27;, &#x27;lag_14&#x27;, &#x27;lag_15&#x27;, &#x27;lag_16&#x27;, &#x27;lag_17&#x27;, &#x27;lag_18&#x27;, &#x27;lag_19&#x27;, &#x27;lag_20&#x27;, &#x27;lag_21&#x27;, &#x27;lag_22&#x27;, &#x27;lag_23&#x27;, &#x27;lag_168&#x27;, &#x27;rolling_mean_6&#x27;, &#x27;rolling_mean_8&#x27;, &#x27;rolling_mean_12&#x27;, &#x27;rolling_mean_24&#x27;, &#x27;rolling_mean_168&#x27;]</pre></div></div></div><div class=\"sk-serial\"><div class=\"sk-item\"><div class=\"sk-serial\"><div class=\"sk-item\"><div class=\"sk-estimator sk-toggleable\"><input class=\"sk-toggleable__control sk-hidden--visually\" id=\"sk-estimator-id-23\" type=\"checkbox\" ><label for=\"sk-estimator-id-23\" class=\"sk-toggleable__label sk-toggleable__label-arrow\">SimpleImputer</label><div class=\"sk-toggleable__content\"><pre>SimpleImputer()</pre></div></div></div><div class=\"sk-item\"><div class=\"sk-estimator sk-toggleable\"><input class=\"sk-toggleable__control sk-hidden--visually\" id=\"sk-estimator-id-24\" type=\"checkbox\" ><label for=\"sk-estimator-id-24\" class=\"sk-toggleable__label sk-toggleable__label-arrow\">MinMaxScaler</label><div class=\"sk-toggleable__content\"><pre>MinMaxScaler()</pre></div></div></div></div></div></div></div></div><div class=\"sk-parallel-item\"><div class=\"sk-item\"><div class=\"sk-label-container\"><div class=\"sk-label sk-toggleable\"><input class=\"sk-toggleable__control sk-hidden--visually\" id=\"sk-estimator-id-25\" type=\"checkbox\" ><label for=\"sk-estimator-id-25\" class=\"sk-toggleable__label sk-toggleable__label-arrow\">remainder</label><div class=\"sk-toggleable__content\"><pre></pre></div></div></div><div class=\"sk-serial\"><div class=\"sk-item\"><div class=\"sk-estimator sk-toggleable\"><input class=\"sk-toggleable__control sk-hidden--visually\" id=\"sk-estimator-id-26\" type=\"checkbox\" ><label for=\"sk-estimator-id-26\" class=\"sk-toggleable__label sk-toggleable__label-arrow\">passthrough</label><div class=\"sk-toggleable__content\"><pre>passthrough</pre></div></div></div></div></div></div></div></div><div class=\"sk-item\"><div class=\"sk-estimator sk-toggleable\"><input class=\"sk-toggleable__control sk-hidden--visually\" id=\"sk-estimator-id-27\" type=\"checkbox\" ><label for=\"sk-estimator-id-27\" class=\"sk-toggleable__label sk-toggleable__label-arrow\">LinearRegression</label><div class=\"sk-toggleable__content\"><pre>LinearRegression()</pre></div></div></div></div></div></div></div></div></div></div></div></div>"
      ],
      "text/plain": [
       "GridSearchCV(cv=TimeSeriesSplit(gap=0, max_train_size=None, n_splits=5, test_size=None),\n",
       "             estimator=Pipeline(steps=[('preprocessor',\n",
       "                                        ColumnTransformer(remainder='passthrough',\n",
       "                                                          transformers=[('ohe',\n",
       "                                                                         Pipeline(steps=[('simpleImputer_before_ohe',\n",
       "                                                                                          SimpleImputer(strategy='most_frequent')),\n",
       "                                                                                         ('ohe',\n",
       "                                                                                          OneHotEncoder(drop='first',\n",
       "                                                                                                        handle_unknown='ignore',\n",
       "                                                                                                        sparse=False)),\n",
       "                                                                                         ('...\n",
       "                                                                          'lag_20',\n",
       "                                                                          'lag_21',\n",
       "                                                                          'lag_22',\n",
       "                                                                          'lag_23',\n",
       "                                                                          'lag_168',\n",
       "                                                                          'rolling_mean_6',\n",
       "                                                                          'rolling_mean_8',\n",
       "                                                                          'rolling_mean_12',\n",
       "                                                                          'rolling_mean_24',\n",
       "                                                                          'rolling_mean_168'])])),\n",
       "                                       ('model', LinearRegression())]),\n",
       "             n_jobs=-1,\n",
       "             param_grid=[{'model': [Ridge(alpha=10, solver='saga')],\n",
       "                          'model__alpha': [0.01, 0.1, 1, 10, 100],\n",
       "                          'model__solver': ['auto', 'cholesky', 'saga']}],\n",
       "             scoring='neg_root_mean_squared_error')"
      ]
     },
     "execution_count": 38,
     "metadata": {},
     "output_type": "execute_result"
    }
   ],
   "source": [
    "%%time\n",
    "gridCV_params.fit(X_train, y_train)"
   ]
  },
  {
   "cell_type": "code",
   "execution_count": 39,
   "metadata": {},
   "outputs": [
    {
     "data": {
      "text/html": [
       "<div>\n",
       "<style scoped>\n",
       "    .dataframe tbody tr th:only-of-type {\n",
       "        vertical-align: middle;\n",
       "    }\n",
       "\n",
       "    .dataframe tbody tr th {\n",
       "        vertical-align: top;\n",
       "    }\n",
       "\n",
       "    .dataframe thead th {\n",
       "        text-align: right;\n",
       "    }\n",
       "</style>\n",
       "<table border=\"1\" class=\"dataframe\">\n",
       "  <thead>\n",
       "    <tr style=\"text-align: right;\">\n",
       "      <th></th>\n",
       "      <th>mean_fit_time</th>\n",
       "      <th>std_fit_time</th>\n",
       "      <th>mean_score_time</th>\n",
       "      <th>std_score_time</th>\n",
       "      <th>param_model</th>\n",
       "      <th>param_model__alpha</th>\n",
       "      <th>param_model__solver</th>\n",
       "      <th>params</th>\n",
       "      <th>split0_test_score</th>\n",
       "      <th>split1_test_score</th>\n",
       "      <th>split2_test_score</th>\n",
       "      <th>split3_test_score</th>\n",
       "      <th>split4_test_score</th>\n",
       "      <th>mean_test_score</th>\n",
       "      <th>std_test_score</th>\n",
       "      <th>rank_test_score</th>\n",
       "    </tr>\n",
       "  </thead>\n",
       "  <tbody>\n",
       "    <tr>\n",
       "      <th>11</th>\n",
       "      <td>0.187412</td>\n",
       "      <td>0.030844</td>\n",
       "      <td>0.011058</td>\n",
       "      <td>0.004660</td>\n",
       "      <td>Ridge(alpha=10, solver='saga')</td>\n",
       "      <td>10</td>\n",
       "      <td>saga</td>\n",
       "      <td>{'model': Ridge(alpha=10, solver='saga'), 'mod...</td>\n",
       "      <td>-23.253282</td>\n",
       "      <td>-22.413939</td>\n",
       "      <td>-21.935607</td>\n",
       "      <td>-23.716385</td>\n",
       "      <td>-29.740223</td>\n",
       "      <td>-24.211887</td>\n",
       "      <td>2.833408</td>\n",
       "      <td>1</td>\n",
       "    </tr>\n",
       "    <tr>\n",
       "      <th>9</th>\n",
       "      <td>0.260969</td>\n",
       "      <td>0.073247</td>\n",
       "      <td>0.140458</td>\n",
       "      <td>0.041037</td>\n",
       "      <td>Ridge(alpha=10, solver='saga')</td>\n",
       "      <td>10</td>\n",
       "      <td>auto</td>\n",
       "      <td>{'model': Ridge(alpha=10, solver='saga'), 'mod...</td>\n",
       "      <td>-23.253776</td>\n",
       "      <td>-22.414207</td>\n",
       "      <td>-21.935836</td>\n",
       "      <td>-23.716058</td>\n",
       "      <td>-29.740139</td>\n",
       "      <td>-24.212003</td>\n",
       "      <td>2.833283</td>\n",
       "      <td>2</td>\n",
       "    </tr>\n",
       "    <tr>\n",
       "      <th>10</th>\n",
       "      <td>0.192579</td>\n",
       "      <td>0.026601</td>\n",
       "      <td>0.140110</td>\n",
       "      <td>0.050376</td>\n",
       "      <td>Ridge(alpha=10, solver='saga')</td>\n",
       "      <td>10</td>\n",
       "      <td>cholesky</td>\n",
       "      <td>{'model': Ridge(alpha=10, solver='saga'), 'mod...</td>\n",
       "      <td>-23.253776</td>\n",
       "      <td>-22.414207</td>\n",
       "      <td>-21.935836</td>\n",
       "      <td>-23.716058</td>\n",
       "      <td>-29.740139</td>\n",
       "      <td>-24.212003</td>\n",
       "      <td>2.833283</td>\n",
       "      <td>2</td>\n",
       "    </tr>\n",
       "    <tr>\n",
       "      <th>6</th>\n",
       "      <td>0.223586</td>\n",
       "      <td>0.032384</td>\n",
       "      <td>0.175160</td>\n",
       "      <td>0.044876</td>\n",
       "      <td>Ridge(alpha=10, solver='saga')</td>\n",
       "      <td>1</td>\n",
       "      <td>auto</td>\n",
       "      <td>{'model': Ridge(alpha=10, solver='saga'), 'mod...</td>\n",
       "      <td>-24.483380</td>\n",
       "      <td>-22.702852</td>\n",
       "      <td>-21.893786</td>\n",
       "      <td>-25.991386</td>\n",
       "      <td>-33.252657</td>\n",
       "      <td>-25.664812</td>\n",
       "      <td>4.051461</td>\n",
       "      <td>4</td>\n",
       "    </tr>\n",
       "    <tr>\n",
       "      <th>7</th>\n",
       "      <td>0.205523</td>\n",
       "      <td>0.011840</td>\n",
       "      <td>0.154425</td>\n",
       "      <td>0.048170</td>\n",
       "      <td>Ridge(alpha=10, solver='saga')</td>\n",
       "      <td>1</td>\n",
       "      <td>cholesky</td>\n",
       "      <td>{'model': Ridge(alpha=10, solver='saga'), 'mod...</td>\n",
       "      <td>-24.483380</td>\n",
       "      <td>-22.702852</td>\n",
       "      <td>-21.893786</td>\n",
       "      <td>-25.991386</td>\n",
       "      <td>-33.252657</td>\n",
       "      <td>-25.664812</td>\n",
       "      <td>4.051461</td>\n",
       "      <td>4</td>\n",
       "    </tr>\n",
       "  </tbody>\n",
       "</table>\n",
       "</div>"
      ],
      "text/plain": [
       "    mean_fit_time  std_fit_time  mean_score_time  std_score_time  \\\n",
       "11       0.187412      0.030844         0.011058        0.004660   \n",
       "9        0.260969      0.073247         0.140458        0.041037   \n",
       "10       0.192579      0.026601         0.140110        0.050376   \n",
       "6        0.223586      0.032384         0.175160        0.044876   \n",
       "7        0.205523      0.011840         0.154425        0.048170   \n",
       "\n",
       "                       param_model param_model__alpha param_model__solver  \\\n",
       "11  Ridge(alpha=10, solver='saga')                 10                saga   \n",
       "9   Ridge(alpha=10, solver='saga')                 10                auto   \n",
       "10  Ridge(alpha=10, solver='saga')                 10            cholesky   \n",
       "6   Ridge(alpha=10, solver='saga')                  1                auto   \n",
       "7   Ridge(alpha=10, solver='saga')                  1            cholesky   \n",
       "\n",
       "                                               params  split0_test_score  \\\n",
       "11  {'model': Ridge(alpha=10, solver='saga'), 'mod...         -23.253282   \n",
       "9   {'model': Ridge(alpha=10, solver='saga'), 'mod...         -23.253776   \n",
       "10  {'model': Ridge(alpha=10, solver='saga'), 'mod...         -23.253776   \n",
       "6   {'model': Ridge(alpha=10, solver='saga'), 'mod...         -24.483380   \n",
       "7   {'model': Ridge(alpha=10, solver='saga'), 'mod...         -24.483380   \n",
       "\n",
       "    split1_test_score  split2_test_score  split3_test_score  \\\n",
       "11         -22.413939         -21.935607         -23.716385   \n",
       "9          -22.414207         -21.935836         -23.716058   \n",
       "10         -22.414207         -21.935836         -23.716058   \n",
       "6          -22.702852         -21.893786         -25.991386   \n",
       "7          -22.702852         -21.893786         -25.991386   \n",
       "\n",
       "    split4_test_score  mean_test_score  std_test_score  rank_test_score  \n",
       "11         -29.740223       -24.211887        2.833408                1  \n",
       "9          -29.740139       -24.212003        2.833283                2  \n",
       "10         -29.740139       -24.212003        2.833283                2  \n",
       "6          -33.252657       -25.664812        4.051461                4  \n",
       "7          -33.252657       -25.664812        4.051461                4  "
      ]
     },
     "execution_count": 39,
     "metadata": {},
     "output_type": "execute_result"
    }
   ],
   "source": [
    "# Выводим полную таблицу результатов\n",
    "results_df = pd.DataFrame(gridCV_params.cv_results_)\n",
    "results_df.sort_values(by = 'rank_test_score').head()"
   ]
  },
  {
   "cell_type": "markdown",
   "metadata": {},
   "source": [
    "RMSE Уменьшилось но не очень сильно и бустинговые модели все же показали себя лучше"
   ]
  },
  {
   "cell_type": "markdown",
   "metadata": {},
   "source": [
    "## Тестирование"
   ]
  },
  {
   "cell_type": "markdown",
   "metadata": {},
   "source": [
    "Т.к Catboost Показала сея лучше всех с RMSE = 22.1 на кросс валидации , то будем использовать именно эту модель"
   ]
  },
  {
   "cell_type": "code",
   "execution_count": 40,
   "metadata": {},
   "outputs": [
    {
     "name": "stdout",
     "output_type": "stream",
     "text": [
      "CatBoost RMSE: 40.341675515704935\n"
     ]
    }
   ],
   "source": [
    "\n",
    "catboost_pred = catboost_model.predict(X_test)\n",
    "catboost_rmse = mean_squared_error(y_test, catboost_pred, squared=False)\n",
    "print(f\"CatBoost RMSE: {catboost_rmse}\")"
   ]
  },
  {
   "cell_type": "markdown",
   "metadata": {},
   "source": [
    "Лучший результат показала модель CatBoost с RMSE 40 на тестовой выборке"
   ]
  },
  {
   "cell_type": "markdown",
   "metadata": {},
   "source": [
    "### Анализ остатков"
   ]
  },
  {
   "cell_type": "code",
   "execution_count": 41,
   "metadata": {},
   "outputs": [
    {
     "data": {
      "image/png": "[encoded data removed]",
      "text/plain": [
       "<Figure size 720x360 with 1 Axes>"
      ]
     },
     "metadata": {
      "needs_background": "light"
     },
     "output_type": "display_data"
    },
    {
     "data": {
      "image/png": "[encoded data removed]",
      "text/plain": [
       "<Figure size 720x360 with 1 Axes>"
      ]
     },
     "metadata": {
      "needs_background": "light"
     },
     "output_type": "display_data"
    }
   ],
   "source": [
    "residuals = y_test - catboost_rmse  \n",
    "\n",
    "# График остатков\n",
    "plt.figure(figsize=(10, 5))\n",
    "sns.histplot(residuals, bins=50, kde=True)\n",
    "plt.xlabel(\"Остатки\")\n",
    "plt.ylabel(\"Частота\")\n",
    "plt.title(\"Распределение остатков модели CatBoost\")\n",
    "plt.show()\n",
    "\n",
    "# График остатков во времени\n",
    "plt.figure(figsize=(10, 5))\n",
    "plt.plot(residuals, marker='o', linestyle='')\n",
    "plt.axhline(y=0, color='r', linestyle='-')\n",
    "plt.xlabel(\"Время\")\n",
    "plt.ylabel(\"Остатки\")\n",
    "plt.xticks(rotation=45)\n",
    "plt.title(\"График остатков модели CatBoost\")\n",
    "plt.show()"
   ]
  },
  {
   "cell_type": "markdown",
   "metadata": {},
   "source": [
    "* Остатки почти симметричны, но присутствует длинный правый хвост, что указывает на наличие нескольких больших положительных ошибок, когда модель сильно недооценивает реальное значение\n",
    "\n",
    "* Остатки распределены примерно равномерно и хаотично вокруг 0, без явного тренда, однако есть несколько выбросов в положительную сторону"
   ]
  },
  {
   "cell_type": "markdown",
   "metadata": {},
   "source": [
    "## Вывод"
   ]
  },
  {
   "cell_type": "markdown",
   "metadata": {},
   "source": [
    "В рамках проекта была выполнена задача прогнозирования количества заказов такси в аэропортах на ближайший час. Работа включала в себя полный цикл обработки данных: от загрузки и анализа до построения модели и оценки её качества.\n",
    "\n",
    "1. **Предварительная обработка данных** :\n",
    "3. **Обучение моделей** \n",
    "4. **Оценка качества** модели проводилась с использованием метрики RMSE. Модель показала хорошую точность и стабильность на тестовой выборке, уложившись в заданный порог ошибки"
   ]
  },
  {
   "cell_type": "markdown",
   "metadata": {},
   "source": [
    "Ключевые результаты и выводы:\n",
    "\n",
    "1. Анализ остатков модели:\n",
    "\n",
    "* Распределение остатков модели почти симметрично, однако наблюдается длинный правый хвост. Это говорит о том, что в ряде случаев модель значительно недооценивает реальное значение\n",
    "\n",
    "Итог:\n",
    "\n",
    "Разработанная модель успешно решает задачу прогнозирования нагрузки на такси в аэропортах, что может быть использовано для оптимизации количества водителей в часы пик. Это позволит улучшить качество обслуживания клиентов и снизить потери от неудовлетворённого спроса. Анализ важности признаков и остатков подтверждает, что модель учитывает ключевые временные закономерности, однако модель можно доработать"
   ]
  },
  {
   "cell_type": "code",
   "execution_count": null,
   "metadata": {},
   "outputs": [],
   "source": []
  }
 ],
 "metadata": {
  "ExecuteTimeLog": [
   {
    "duration": 76648,
    "start_time": "2025-03-15T14:50:44.898Z"
   },
   {
    "duration": 1430,
    "start_time": "2025-03-15T14:52:01.548Z"
   },
   {
    "duration": 3,
    "start_time": "2025-03-15T16:08:49.792Z"
   },
   {
    "duration": 44,
    "start_time": "2025-03-15T16:09:55.310Z"
   },
   {
    "duration": 32,
    "start_time": "2025-03-15T16:10:09.069Z"
   },
   {
    "duration": 3,
    "start_time": "2025-03-15T16:10:09.219Z"
   },
   {
    "duration": 21,
    "start_time": "2025-03-15T16:10:18.354Z"
   },
   {
    "duration": 119,
    "start_time": "2025-03-15T16:19:05.664Z"
   },
   {
    "duration": 9,
    "start_time": "2025-03-15T16:19:08.603Z"
   },
   {
    "duration": 13,
    "start_time": "2025-03-15T16:19:35.960Z"
   },
   {
    "duration": 36,
    "start_time": "2025-03-15T16:22:28.984Z"
   },
   {
    "duration": 3,
    "start_time": "2025-03-15T16:22:29.770Z"
   },
   {
    "duration": 15,
    "start_time": "2025-03-15T16:22:30.564Z"
   },
   {
    "duration": 15,
    "start_time": "2025-03-15T19:13:56.316Z"
   },
   {
    "duration": 17,
    "start_time": "2025-03-15T19:14:07.236Z"
   },
   {
    "duration": 16,
    "start_time": "2025-03-15T19:16:21.647Z"
   },
   {
    "duration": 24,
    "start_time": "2025-03-15T19:23:05.894Z"
   },
   {
    "duration": 3,
    "start_time": "2025-03-15T19:23:45.027Z"
   },
   {
    "duration": 206,
    "start_time": "2025-03-15T19:38:13.158Z"
   },
   {
    "duration": 197,
    "start_time": "2025-03-15T19:38:44.891Z"
   },
   {
    "duration": 267,
    "start_time": "2025-03-15T19:38:59.626Z"
   },
   {
    "duration": 270,
    "start_time": "2025-03-15T19:39:32.522Z"
   },
   {
    "duration": 227,
    "start_time": "2025-03-15T19:39:39.117Z"
   },
   {
    "duration": 208,
    "start_time": "2025-03-15T19:39:44.873Z"
   },
   {
    "duration": 3,
    "start_time": "2025-03-15T19:42:09.197Z"
   },
   {
    "duration": 46,
    "start_time": "2025-03-15T19:42:14.217Z"
   },
   {
    "duration": 3,
    "start_time": "2025-03-15T19:42:14.370Z"
   },
   {
    "duration": 14,
    "start_time": "2025-03-15T19:42:14.540Z"
   },
   {
    "duration": 3,
    "start_time": "2025-03-15T19:42:15.209Z"
   },
   {
    "duration": 15,
    "start_time": "2025-03-15T19:42:16.093Z"
   },
   {
    "duration": 4,
    "start_time": "2025-03-15T19:42:16.520Z"
   },
   {
    "duration": 273,
    "start_time": "2025-03-15T19:50:46.964Z"
   },
   {
    "duration": 338,
    "start_time": "2025-03-15T19:50:58.576Z"
   },
   {
    "duration": 279,
    "start_time": "2025-03-15T19:51:40.336Z"
   },
   {
    "duration": 278,
    "start_time": "2025-03-15T19:52:18.569Z"
   },
   {
    "duration": 286,
    "start_time": "2025-03-15T19:52:37.863Z"
   },
   {
    "duration": 3,
    "start_time": "2025-03-15T19:54:13.130Z"
   },
   {
    "duration": 7,
    "start_time": "2025-03-15T19:58:16.596Z"
   },
   {
    "duration": 780,
    "start_time": "2025-03-15T19:58:19.297Z"
   },
   {
    "duration": 784,
    "start_time": "2025-03-15T19:59:02.910Z"
   },
   {
    "duration": 6,
    "start_time": "2025-03-15T20:00:43.921Z"
   },
   {
    "duration": 10,
    "start_time": "2025-03-15T20:04:16.692Z"
   },
   {
    "duration": 15,
    "start_time": "2025-03-15T20:04:18.055Z"
   },
   {
    "duration": 702,
    "start_time": "2025-03-15T20:04:18.494Z"
   },
   {
    "duration": 137,
    "start_time": "2025-03-15T20:04:51.692Z"
   },
   {
    "duration": 33,
    "start_time": "2025-03-15T20:05:39.232Z"
   },
   {
    "duration": 3,
    "start_time": "2025-03-15T20:05:39.640Z"
   },
   {
    "duration": 14,
    "start_time": "2025-03-15T20:05:39.775Z"
   },
   {
    "duration": 3,
    "start_time": "2025-03-15T20:05:39.907Z"
   },
   {
    "duration": 17,
    "start_time": "2025-03-15T20:05:40.048Z"
   },
   {
    "duration": 3,
    "start_time": "2025-03-15T20:05:40.201Z"
   },
   {
    "duration": 282,
    "start_time": "2025-03-15T20:05:41.211Z"
   },
   {
    "duration": 9,
    "start_time": "2025-03-15T20:05:42.908Z"
   },
   {
    "duration": 9,
    "start_time": "2025-03-15T20:05:43.953Z"
   },
   {
    "duration": 10,
    "start_time": "2025-03-15T20:06:38.364Z"
   },
   {
    "duration": 733,
    "start_time": "2025-03-15T20:06:39.066Z"
   },
   {
    "duration": 467,
    "start_time": "2025-03-15T20:06:39.801Z"
   },
   {
    "duration": 4,
    "start_time": "2025-03-15T20:07:47.639Z"
   },
   {
    "duration": 7,
    "start_time": "2025-03-15T20:08:01.121Z"
   },
   {
    "duration": 78,
    "start_time": "2025-03-15T20:10:37.600Z"
   },
   {
    "duration": 6,
    "start_time": "2025-03-15T20:10:46.797Z"
   },
   {
    "duration": 8,
    "start_time": "2025-03-15T20:10:52.189Z"
   },
   {
    "duration": 10,
    "start_time": "2025-03-15T20:10:56.277Z"
   },
   {
    "duration": 13,
    "start_time": "2025-03-15T20:11:04.933Z"
   },
   {
    "duration": 6,
    "start_time": "2025-03-15T20:12:21.933Z"
   },
   {
    "duration": 719,
    "start_time": "2025-03-15T20:12:22.953Z"
   },
   {
    "duration": 252,
    "start_time": "2025-03-15T20:13:09.468Z"
   },
   {
    "duration": 963,
    "start_time": "2025-03-15T20:13:36.844Z"
   },
   {
    "duration": 578,
    "start_time": "2025-03-15T20:32:18.645Z"
   },
   {
    "duration": 1767,
    "start_time": "2025-03-15T20:44:06.938Z"
   },
   {
    "duration": 1856,
    "start_time": "2025-03-15T20:44:20.268Z"
   },
   {
    "duration": 1801,
    "start_time": "2025-03-15T20:44:36.705Z"
   },
   {
    "duration": 1870,
    "start_time": "2025-03-15T20:45:57.255Z"
   },
   {
    "duration": 322,
    "start_time": "2025-03-15T20:46:04.308Z"
   },
   {
    "duration": 2711,
    "start_time": "2025-03-15T20:46:14.060Z"
   },
   {
    "duration": 2695,
    "start_time": "2025-03-15T20:46:33.547Z"
   },
   {
    "duration": 2557,
    "start_time": "2025-03-15T20:47:17.409Z"
   },
   {
    "duration": 1807,
    "start_time": "2025-03-15T20:48:38.169Z"
   },
   {
    "duration": 1536,
    "start_time": "2025-03-15T20:48:43.625Z"
   },
   {
    "duration": 1637,
    "start_time": "2025-03-15T20:48:52.159Z"
   },
   {
    "duration": 1313,
    "start_time": "2025-03-15T20:50:30.148Z"
   },
   {
    "duration": 1228,
    "start_time": "2025-03-15T20:51:34.225Z"
   },
   {
    "duration": 1185,
    "start_time": "2025-03-15T21:00:30.022Z"
   },
   {
    "duration": 10197,
    "start_time": "2025-03-15T21:04:24.063Z"
   },
   {
    "duration": 1301,
    "start_time": "2025-03-15T21:04:34.262Z"
   },
   {
    "duration": 37,
    "start_time": "2025-03-15T21:04:35.565Z"
   },
   {
    "duration": 3,
    "start_time": "2025-03-15T21:04:35.604Z"
   },
   {
    "duration": 18,
    "start_time": "2025-03-15T21:04:35.608Z"
   },
   {
    "duration": 9,
    "start_time": "2025-03-15T21:04:35.628Z"
   },
   {
    "duration": 25,
    "start_time": "2025-03-15T21:04:35.638Z"
   },
   {
    "duration": 3,
    "start_time": "2025-03-15T21:04:35.664Z"
   },
   {
    "duration": 4,
    "start_time": "2025-03-15T21:04:35.668Z"
   },
   {
    "duration": 343,
    "start_time": "2025-03-15T21:04:35.673Z"
   },
   {
    "duration": 10,
    "start_time": "2025-03-15T21:04:36.018Z"
   },
   {
    "duration": 7,
    "start_time": "2025-03-15T21:04:36.030Z"
   },
   {
    "duration": 15,
    "start_time": "2025-03-15T21:04:36.039Z"
   },
   {
    "duration": 858,
    "start_time": "2025-03-15T21:04:36.057Z"
   },
   {
    "duration": 591,
    "start_time": "2025-03-15T21:04:36.917Z"
   },
   {
    "duration": 1162,
    "start_time": "2025-03-15T21:04:37.510Z"
   },
   {
    "duration": 10,
    "start_time": "2025-03-15T21:10:44.902Z"
   },
   {
    "duration": 1728,
    "start_time": "2025-03-15T21:15:01.472Z"
   },
   {
    "duration": 1569,
    "start_time": "2025-03-15T21:15:09.403Z"
   },
   {
    "duration": 1692,
    "start_time": "2025-03-15T21:15:22.201Z"
   },
   {
    "duration": 1920,
    "start_time": "2025-03-15T21:15:29.713Z"
   },
   {
    "duration": 1758,
    "start_time": "2025-03-15T21:15:33.127Z"
   },
   {
    "duration": 1729,
    "start_time": "2025-03-15T21:15:50.366Z"
   },
   {
    "duration": 1914,
    "start_time": "2025-03-15T21:15:53.996Z"
   },
   {
    "duration": 1739,
    "start_time": "2025-03-15T21:17:47.759Z"
   },
   {
    "duration": 1836,
    "start_time": "2025-03-15T21:18:30.369Z"
   },
   {
    "duration": 121,
    "start_time": "2025-03-15T21:24:31.211Z"
   },
   {
    "duration": 14,
    "start_time": "2025-03-15T21:24:51.064Z"
   },
   {
    "duration": 169,
    "start_time": "2025-03-15T21:24:59.601Z"
   },
   {
    "duration": 160,
    "start_time": "2025-03-15T21:25:47.344Z"
   },
   {
    "duration": 175,
    "start_time": "2025-03-15T21:25:59.744Z"
   },
   {
    "duration": 162,
    "start_time": "2025-03-15T21:26:15.581Z"
   },
   {
    "duration": 1838,
    "start_time": "2025-03-15T21:26:23.980Z"
   },
   {
    "duration": 1946,
    "start_time": "2025-03-15T21:26:34.868Z"
   },
   {
    "duration": 168,
    "start_time": "2025-03-15T21:26:44.428Z"
   },
   {
    "duration": 334,
    "start_time": "2025-03-15T21:27:36.888Z"
   },
   {
    "duration": 288,
    "start_time": "2025-03-15T21:27:51.423Z"
   },
   {
    "duration": 262,
    "start_time": "2025-03-15T21:32:19.847Z"
   },
   {
    "duration": 558,
    "start_time": "2025-03-15T21:33:51.507Z"
   },
   {
    "duration": 552,
    "start_time": "2025-03-15T21:34:04.066Z"
   },
   {
    "duration": 3,
    "start_time": "2025-03-15T21:35:15.941Z"
   },
   {
    "duration": 319,
    "start_time": "2025-03-15T21:35:16.893Z"
   },
   {
    "duration": 527,
    "start_time": "2025-03-15T21:35:17.586Z"
   },
   {
    "duration": 434,
    "start_time": "2025-03-15T21:36:52.701Z"
   },
   {
    "duration": 1226,
    "start_time": "2025-03-15T21:38:13.982Z"
   },
   {
    "duration": 1354,
    "start_time": "2025-03-15T21:40:10.010Z"
   },
   {
    "duration": 14,
    "start_time": "2025-03-15T21:40:26.838Z"
   },
   {
    "duration": 8,
    "start_time": "2025-03-15T21:40:32.778Z"
   },
   {
    "duration": 202,
    "start_time": "2025-03-15T21:40:42.938Z"
   },
   {
    "duration": 173,
    "start_time": "2025-03-15T21:41:01.630Z"
   },
   {
    "duration": 159,
    "start_time": "2025-03-15T21:41:10.178Z"
   },
   {
    "duration": 166,
    "start_time": "2025-03-15T21:41:13.111Z"
   },
   {
    "duration": 325,
    "start_time": "2025-03-15T21:41:19.982Z"
   },
   {
    "duration": 318,
    "start_time": "2025-03-15T21:46:10.452Z"
   },
   {
    "duration": 532,
    "start_time": "2025-03-15T21:46:10.772Z"
   },
   {
    "duration": 317,
    "start_time": "2025-03-15T21:46:17.782Z"
   },
   {
    "duration": 573,
    "start_time": "2025-03-15T21:46:18.101Z"
   },
   {
    "duration": 1283,
    "start_time": "2025-03-15T21:53:04.556Z"
   },
   {
    "duration": 1144,
    "start_time": "2025-03-15T21:53:26.180Z"
   },
   {
    "duration": 1113,
    "start_time": "2025-03-15T21:53:34.387Z"
   },
   {
    "duration": 1131,
    "start_time": "2025-03-15T21:53:40.756Z"
   },
   {
    "duration": 9,
    "start_time": "2025-03-15T22:00:43.401Z"
   },
   {
    "duration": 13,
    "start_time": "2025-03-15T22:02:14.015Z"
   },
   {
    "duration": 10,
    "start_time": "2025-03-15T22:04:25.735Z"
   },
   {
    "duration": 20,
    "start_time": "2025-03-15T22:04:31.717Z"
   },
   {
    "duration": 22,
    "start_time": "2025-03-15T22:05:10.833Z"
   },
   {
    "duration": 140,
    "start_time": "2025-03-15T22:05:37.432Z"
   },
   {
    "duration": 14,
    "start_time": "2025-03-15T22:06:53.340Z"
   },
   {
    "duration": 306,
    "start_time": "2025-03-15T22:06:58.932Z"
   },
   {
    "duration": 319,
    "start_time": "2025-03-15T22:07:12.953Z"
   },
   {
    "duration": 317,
    "start_time": "2025-03-15T22:12:10.332Z"
   },
   {
    "duration": 349,
    "start_time": "2025-03-15T22:12:32.066Z"
   },
   {
    "duration": 338,
    "start_time": "2025-03-15T22:12:45.284Z"
   },
   {
    "duration": 13,
    "start_time": "2025-03-15T22:13:45.191Z"
   },
   {
    "duration": 18,
    "start_time": "2025-03-15T22:13:49.015Z"
   },
   {
    "duration": 107,
    "start_time": "2025-03-15T22:15:15.914Z"
   },
   {
    "duration": 378,
    "start_time": "2025-03-15T22:15:19.007Z"
   },
   {
    "duration": 349,
    "start_time": "2025-03-15T22:15:24.895Z"
   },
   {
    "duration": 324,
    "start_time": "2025-03-15T22:15:29.117Z"
   },
   {
    "duration": 341,
    "start_time": "2025-03-15T22:16:11.383Z"
   },
   {
    "duration": 336,
    "start_time": "2025-03-15T22:17:52.593Z"
   },
   {
    "duration": 423,
    "start_time": "2025-03-15T22:18:59.172Z"
   },
   {
    "duration": 1365,
    "start_time": "2025-03-15T22:32:58.083Z"
   },
   {
    "duration": 10,
    "start_time": "2025-03-15T22:33:16.583Z"
   },
   {
    "duration": 9,
    "start_time": "2025-03-15T22:35:53.635Z"
   },
   {
    "duration": 168,
    "start_time": "2025-03-15T22:38:01.213Z"
   },
   {
    "duration": 9646,
    "start_time": "2025-03-15T22:38:08.716Z"
   },
   {
    "duration": 1282,
    "start_time": "2025-03-15T22:38:18.364Z"
   },
   {
    "duration": 37,
    "start_time": "2025-03-15T22:38:19.647Z"
   },
   {
    "duration": 37,
    "start_time": "2025-03-15T22:38:19.685Z"
   },
   {
    "duration": 22,
    "start_time": "2025-03-15T22:38:19.724Z"
   },
   {
    "duration": 3,
    "start_time": "2025-03-15T22:38:19.748Z"
   },
   {
    "duration": 19,
    "start_time": "2025-03-15T22:38:19.753Z"
   },
   {
    "duration": 3,
    "start_time": "2025-03-15T22:38:19.773Z"
   },
   {
    "duration": 332,
    "start_time": "2025-03-15T22:38:19.778Z"
   },
   {
    "duration": 25,
    "start_time": "2025-03-15T22:38:20.112Z"
   },
   {
    "duration": 25,
    "start_time": "2025-03-15T22:38:20.139Z"
   },
   {
    "duration": 170,
    "start_time": "2025-03-15T22:38:20.166Z"
   },
   {
    "duration": 0,
    "start_time": "2025-03-15T22:38:20.406Z"
   },
   {
    "duration": 0,
    "start_time": "2025-03-15T22:38:20.407Z"
   },
   {
    "duration": 0,
    "start_time": "2025-03-15T22:38:20.409Z"
   },
   {
    "duration": 0,
    "start_time": "2025-03-15T22:38:20.410Z"
   },
   {
    "duration": 0,
    "start_time": "2025-03-15T22:38:20.412Z"
   },
   {
    "duration": 0,
    "start_time": "2025-03-15T22:38:20.413Z"
   },
   {
    "duration": 0,
    "start_time": "2025-03-15T22:38:20.415Z"
   },
   {
    "duration": 0,
    "start_time": "2025-03-15T22:38:20.436Z"
   },
   {
    "duration": 0,
    "start_time": "2025-03-15T22:38:20.437Z"
   },
   {
    "duration": 1,
    "start_time": "2025-03-15T22:38:20.438Z"
   },
   {
    "duration": 18957,
    "start_time": "2025-03-15T22:42:51.001Z"
   },
   {
    "duration": 2278,
    "start_time": "2025-03-15T22:43:09.962Z"
   },
   {
    "duration": 38,
    "start_time": "2025-03-15T22:43:12.242Z"
   },
   {
    "duration": 54,
    "start_time": "2025-03-15T22:43:12.282Z"
   },
   {
    "duration": 22,
    "start_time": "2025-03-15T22:43:12.340Z"
   },
   {
    "duration": 3,
    "start_time": "2025-03-15T22:43:12.365Z"
   },
   {
    "duration": 81,
    "start_time": "2025-03-15T22:43:12.370Z"
   },
   {
    "duration": 4,
    "start_time": "2025-03-15T22:43:12.453Z"
   },
   {
    "duration": 691,
    "start_time": "2025-03-15T22:43:12.459Z"
   },
   {
    "duration": 13,
    "start_time": "2025-03-15T22:43:13.152Z"
   },
   {
    "duration": 71,
    "start_time": "2025-03-15T22:43:13.166Z"
   },
   {
    "duration": 6,
    "start_time": "2025-03-15T22:43:13.239Z"
   },
   {
    "duration": 1701,
    "start_time": "2025-03-15T22:43:13.247Z"
   },
   {
    "duration": 929,
    "start_time": "2025-03-15T22:43:14.950Z"
   },
   {
    "duration": 2373,
    "start_time": "2025-03-15T22:43:15.881Z"
   },
   {
    "duration": 520,
    "start_time": "2025-03-15T22:43:18.255Z"
   },
   {
    "duration": 990,
    "start_time": "2025-03-15T22:43:18.777Z"
   },
   {
    "duration": 9,
    "start_time": "2025-03-15T22:43:19.768Z"
   },
   {
    "duration": 566,
    "start_time": "2025-03-15T22:43:19.778Z"
   },
   {
    "duration": 915,
    "start_time": "2025-03-15T22:43:20.345Z"
   },
   {
    "duration": 9,
    "start_time": "2025-03-15T22:43:21.262Z"
   },
   {
    "duration": 70,
    "start_time": "2025-03-15T22:43:21.272Z"
   },
   {
    "duration": 223,
    "start_time": "2025-03-15T22:47:18.525Z"
   },
   {
    "duration": 22,
    "start_time": "2025-03-15T22:47:27.679Z"
   },
   {
    "duration": 13,
    "start_time": "2025-03-15T22:47:50.145Z"
   },
   {
    "duration": 5,
    "start_time": "2025-03-15T22:52:08.391Z"
   },
   {
    "duration": 13,
    "start_time": "2025-03-15T22:52:09.080Z"
   },
   {
    "duration": 27,
    "start_time": "2025-03-15T22:52:11.807Z"
   },
   {
    "duration": 24498,
    "start_time": "2025-03-15T22:52:12.758Z"
   },
   {
    "duration": 177,
    "start_time": "2025-03-15T22:52:58.361Z"
   },
   {
    "duration": 55581,
    "start_time": "2025-03-15T22:53:33.969Z"
   },
   {
    "duration": 57446,
    "start_time": "2025-03-15T22:55:04.193Z"
   },
   {
    "duration": 217,
    "start_time": "2025-03-15T22:56:41.825Z"
   },
   {
    "duration": 64700,
    "start_time": "2025-03-15T22:56:48.838Z"
   },
   {
    "duration": 4812,
    "start_time": "2025-03-15T23:04:42.445Z"
   },
   {
    "duration": 37778,
    "start_time": "2025-03-15T23:05:57.247Z"
   },
   {
    "duration": 71,
    "start_time": "2025-03-15T23:07:11.181Z"
   },
   {
    "duration": 17339,
    "start_time": "2025-03-16T20:58:53.276Z"
   },
   {
    "duration": 1388,
    "start_time": "2025-03-16T20:59:10.617Z"
   },
   {
    "duration": 73,
    "start_time": "2025-03-16T20:59:12.007Z"
   },
   {
    "duration": 3,
    "start_time": "2025-03-16T20:59:12.082Z"
   },
   {
    "duration": 71,
    "start_time": "2025-03-16T20:59:12.087Z"
   },
   {
    "duration": 12,
    "start_time": "2025-03-16T20:59:12.160Z"
   },
   {
    "duration": 28,
    "start_time": "2025-03-16T20:59:12.173Z"
   },
   {
    "duration": 3,
    "start_time": "2025-03-16T20:59:12.202Z"
   },
   {
    "duration": 399,
    "start_time": "2025-03-16T20:59:12.206Z"
   },
   {
    "duration": 10,
    "start_time": "2025-03-16T20:59:12.608Z"
   },
   {
    "duration": 9,
    "start_time": "2025-03-16T20:59:12.619Z"
   },
   {
    "duration": 5,
    "start_time": "2025-03-16T20:59:12.629Z"
   },
   {
    "duration": 940,
    "start_time": "2025-03-16T20:59:12.636Z"
   },
   {
    "duration": 597,
    "start_time": "2025-03-16T20:59:13.578Z"
   },
   {
    "duration": 1186,
    "start_time": "2025-03-16T20:59:14.177Z"
   },
   {
    "duration": 775,
    "start_time": "2025-03-16T21:00:19.030Z"
   },
   {
    "duration": 20,
    "start_time": "2025-03-16T21:01:08.175Z"
   },
   {
    "duration": 278,
    "start_time": "2025-03-16T21:03:28.351Z"
   },
   {
    "duration": 282,
    "start_time": "2025-03-16T21:03:47.741Z"
   },
   {
    "duration": 321,
    "start_time": "2025-03-16T21:04:52.801Z"
   },
   {
    "duration": 309,
    "start_time": "2025-03-16T21:05:16.528Z"
   },
   {
    "duration": 285,
    "start_time": "2025-03-16T21:05:29.190Z"
   },
   {
    "duration": 3144,
    "start_time": "2025-03-16T21:06:53.502Z"
   },
   {
    "duration": 294,
    "start_time": "2025-03-16T21:07:27.473Z"
   },
   {
    "duration": 288,
    "start_time": "2025-03-16T21:08:09.728Z"
   },
   {
    "duration": 287,
    "start_time": "2025-03-16T21:08:14.456Z"
   },
   {
    "duration": 311,
    "start_time": "2025-03-16T21:08:49.511Z"
   },
   {
    "duration": 172,
    "start_time": "2025-03-16T21:15:44.312Z"
   },
   {
    "duration": 293,
    "start_time": "2025-03-16T21:16:18.306Z"
   },
   {
    "duration": 162,
    "start_time": "2025-03-16T21:17:06.340Z"
   },
   {
    "duration": 244,
    "start_time": "2025-03-16T21:17:26.963Z"
   },
   {
    "duration": 340,
    "start_time": "2025-03-16T21:18:21.570Z"
   },
   {
    "duration": 288,
    "start_time": "2025-03-16T21:19:41.513Z"
   },
   {
    "duration": 276,
    "start_time": "2025-03-16T21:19:49.850Z"
   },
   {
    "duration": 262,
    "start_time": "2025-03-16T21:20:38.135Z"
   },
   {
    "duration": 264,
    "start_time": "2025-03-16T21:20:58.359Z"
   },
   {
    "duration": 168,
    "start_time": "2025-03-16T21:21:38.031Z"
   },
   {
    "duration": 289,
    "start_time": "2025-03-16T21:22:23.105Z"
   },
   {
    "duration": 35,
    "start_time": "2025-03-16T21:47:56.375Z"
   },
   {
    "duration": 3,
    "start_time": "2025-03-16T21:47:56.437Z"
   },
   {
    "duration": 14,
    "start_time": "2025-03-16T21:47:56.485Z"
   },
   {
    "duration": 3,
    "start_time": "2025-03-16T21:47:56.516Z"
   },
   {
    "duration": 15,
    "start_time": "2025-03-16T21:47:56.535Z"
   },
   {
    "duration": 3,
    "start_time": "2025-03-16T21:47:56.553Z"
   },
   {
    "duration": 282,
    "start_time": "2025-03-16T21:47:56.696Z"
   },
   {
    "duration": 9,
    "start_time": "2025-03-16T21:47:56.980Z"
   },
   {
    "duration": 10,
    "start_time": "2025-03-16T21:47:56.991Z"
   },
   {
    "duration": 12,
    "start_time": "2025-03-16T21:47:57.002Z"
   },
   {
    "duration": 720,
    "start_time": "2025-03-16T21:47:57.015Z"
   },
   {
    "duration": 1279,
    "start_time": "2025-03-16T21:47:57.737Z"
   },
   {
    "duration": 280,
    "start_time": "2025-03-16T21:47:59.017Z"
   },
   {
    "duration": 328,
    "start_time": "2025-03-16T21:47:59.298Z"
   },
   {
    "duration": 579,
    "start_time": "2025-03-16T21:47:59.628Z"
   },
   {
    "duration": 8,
    "start_time": "2025-03-16T21:48:00.209Z"
   },
   {
    "duration": 415,
    "start_time": "2025-03-16T21:48:00.219Z"
   },
   {
    "duration": 435,
    "start_time": "2025-03-16T21:48:00.635Z"
   },
   {
    "duration": 13,
    "start_time": "2025-03-16T21:48:01.071Z"
   },
   {
    "duration": 8,
    "start_time": "2025-03-16T21:48:38.672Z"
   },
   {
    "duration": 13,
    "start_time": "2025-03-16T21:48:40.605Z"
   },
   {
    "duration": 18,
    "start_time": "2025-03-16T21:48:51.582Z"
   },
   {
    "duration": 20,
    "start_time": "2025-03-16T21:48:53.654Z"
   },
   {
    "duration": 13,
    "start_time": "2025-03-16T21:49:14.311Z"
   },
   {
    "duration": 22,
    "start_time": "2025-03-16T21:49:16.039Z"
   },
   {
    "duration": 16,
    "start_time": "2025-03-16T21:50:21.023Z"
   },
   {
    "duration": 16,
    "start_time": "2025-03-16T21:50:27.565Z"
   },
   {
    "duration": 20,
    "start_time": "2025-03-16T22:06:34.311Z"
   },
   {
    "duration": 12,
    "start_time": "2025-03-16T22:10:32.978Z"
   },
   {
    "duration": 80,
    "start_time": "2025-03-16T22:10:36.921Z"
   },
   {
    "duration": 13,
    "start_time": "2025-03-16T22:10:37.154Z"
   },
   {
    "duration": 3,
    "start_time": "2025-03-16T22:10:44.881Z"
   },
   {
    "duration": 4,
    "start_time": "2025-03-16T22:10:45.267Z"
   },
   {
    "duration": 37,
    "start_time": "2025-03-16T22:13:21.284Z"
   },
   {
    "duration": 3,
    "start_time": "2025-03-16T22:13:21.323Z"
   },
   {
    "duration": 20,
    "start_time": "2025-03-16T22:13:21.341Z"
   },
   {
    "duration": 4,
    "start_time": "2025-03-16T22:13:21.373Z"
   },
   {
    "duration": 16,
    "start_time": "2025-03-16T22:13:21.405Z"
   },
   {
    "duration": 3,
    "start_time": "2025-03-16T22:13:21.443Z"
   },
   {
    "duration": 287,
    "start_time": "2025-03-16T22:13:21.603Z"
   },
   {
    "duration": 8,
    "start_time": "2025-03-16T22:13:21.892Z"
   },
   {
    "duration": 8,
    "start_time": "2025-03-16T22:13:22.076Z"
   },
   {
    "duration": 7,
    "start_time": "2025-03-16T22:13:22.227Z"
   },
   {
    "duration": 845,
    "start_time": "2025-03-16T22:13:22.373Z"
   },
   {
    "duration": 1249,
    "start_time": "2025-03-16T22:13:23.220Z"
   },
   {
    "duration": 295,
    "start_time": "2025-03-16T22:13:24.470Z"
   },
   {
    "duration": 296,
    "start_time": "2025-03-16T22:13:24.767Z"
   },
   {
    "duration": 556,
    "start_time": "2025-03-16T22:13:25.065Z"
   },
   {
    "duration": 8,
    "start_time": "2025-03-16T22:13:25.623Z"
   },
   {
    "duration": 336,
    "start_time": "2025-03-16T22:13:25.632Z"
   },
   {
    "duration": 447,
    "start_time": "2025-03-16T22:13:25.969Z"
   },
   {
    "duration": 23,
    "start_time": "2025-03-16T22:13:26.418Z"
   },
   {
    "duration": 55,
    "start_time": "2025-03-16T22:13:26.443Z"
   },
   {
    "duration": 11,
    "start_time": "2025-03-16T22:13:26.500Z"
   },
   {
    "duration": 18,
    "start_time": "2025-03-16T22:13:27.897Z"
   },
   {
    "duration": 3,
    "start_time": "2025-03-16T22:13:29.154Z"
   },
   {
    "duration": 5,
    "start_time": "2025-03-16T22:13:30.206Z"
   },
   {
    "duration": 3,
    "start_time": "2025-03-16T22:13:34.810Z"
   },
   {
    "duration": 4,
    "start_time": "2025-03-16T22:13:35.806Z"
   },
   {
    "duration": 2503,
    "start_time": "2025-03-16T22:13:41.253Z"
   },
   {
    "duration": 10,
    "start_time": "2025-03-16T22:13:45.607Z"
   },
   {
    "duration": 3,
    "start_time": "2025-03-16T22:14:30.985Z"
   },
   {
    "duration": 4,
    "start_time": "2025-03-16T22:14:31.244Z"
   },
   {
    "duration": 3,
    "start_time": "2025-03-16T22:14:31.742Z"
   },
   {
    "duration": 3,
    "start_time": "2025-03-16T22:14:31.969Z"
   },
   {
    "duration": 2309,
    "start_time": "2025-03-16T22:14:33.101Z"
   },
   {
    "duration": 9,
    "start_time": "2025-03-16T22:14:35.412Z"
   },
   {
    "duration": 4,
    "start_time": "2025-03-16T22:15:13.514Z"
   },
   {
    "duration": 5,
    "start_time": "2025-03-16T22:15:13.662Z"
   },
   {
    "duration": 3,
    "start_time": "2025-03-16T22:15:13.977Z"
   },
   {
    "duration": 4,
    "start_time": "2025-03-16T22:15:14.311Z"
   },
   {
    "duration": 2450,
    "start_time": "2025-03-16T22:15:15.469Z"
   },
   {
    "duration": 18,
    "start_time": "2025-03-16T22:15:23.321Z"
   },
   {
    "duration": 10,
    "start_time": "2025-03-16T22:15:23.474Z"
   },
   {
    "duration": 24,
    "start_time": "2025-03-16T22:15:24.272Z"
   },
   {
    "duration": 3,
    "start_time": "2025-03-16T22:15:24.614Z"
   },
   {
    "duration": 5,
    "start_time": "2025-03-16T22:15:25.404Z"
   },
   {
    "duration": 3,
    "start_time": "2025-03-16T22:15:26.782Z"
   },
   {
    "duration": 4,
    "start_time": "2025-03-16T22:15:27.429Z"
   },
   {
    "duration": 2407,
    "start_time": "2025-03-16T22:15:28.515Z"
   },
   {
    "duration": 38,
    "start_time": "2025-03-16T22:16:23.033Z"
   },
   {
    "duration": 3,
    "start_time": "2025-03-16T22:16:23.538Z"
   },
   {
    "duration": 15,
    "start_time": "2025-03-16T22:16:23.600Z"
   },
   {
    "duration": 4,
    "start_time": "2025-03-16T22:16:23.653Z"
   },
   {
    "duration": 18,
    "start_time": "2025-03-16T22:16:23.673Z"
   },
   {
    "duration": 3,
    "start_time": "2025-03-16T22:16:23.695Z"
   },
   {
    "duration": 412,
    "start_time": "2025-03-16T22:16:23.828Z"
   },
   {
    "duration": 15,
    "start_time": "2025-03-16T22:16:24.242Z"
   },
   {
    "duration": 23,
    "start_time": "2025-03-16T22:16:24.259Z"
   },
   {
    "duration": 26,
    "start_time": "2025-03-16T22:16:24.284Z"
   },
   {
    "duration": 802,
    "start_time": "2025-03-16T22:16:24.311Z"
   },
   {
    "duration": 1220,
    "start_time": "2025-03-16T22:16:25.115Z"
   },
   {
    "duration": 273,
    "start_time": "2025-03-16T22:16:26.337Z"
   },
   {
    "duration": 320,
    "start_time": "2025-03-16T22:16:26.611Z"
   },
   {
    "duration": 584,
    "start_time": "2025-03-16T22:16:26.932Z"
   },
   {
    "duration": 7,
    "start_time": "2025-03-16T22:16:27.518Z"
   },
   {
    "duration": 368,
    "start_time": "2025-03-16T22:16:27.527Z"
   },
   {
    "duration": 454,
    "start_time": "2025-03-16T22:16:27.897Z"
   },
   {
    "duration": 25,
    "start_time": "2025-03-16T22:16:28.356Z"
   },
   {
    "duration": 18,
    "start_time": "2025-03-16T22:16:39.015Z"
   },
   {
    "duration": 21,
    "start_time": "2025-03-16T22:16:40.696Z"
   },
   {
    "duration": 13,
    "start_time": "2025-03-16T22:16:40.942Z"
   },
   {
    "duration": 22,
    "start_time": "2025-03-16T22:16:57.213Z"
   },
   {
    "duration": 4,
    "start_time": "2025-03-16T22:17:03.720Z"
   },
   {
    "duration": 5,
    "start_time": "2025-03-16T22:17:04.233Z"
   },
   {
    "duration": 4,
    "start_time": "2025-03-16T22:17:05.028Z"
   },
   {
    "duration": 3,
    "start_time": "2025-03-16T22:17:05.493Z"
   },
   {
    "duration": 23948,
    "start_time": "2025-03-16T22:17:06.301Z"
   },
   {
    "duration": 18,
    "start_time": "2025-03-16T22:17:30.256Z"
   },
   {
    "duration": 4,
    "start_time": "2025-03-16T22:19:32.632Z"
   },
   {
    "duration": 40659,
    "start_time": "2025-03-16T22:19:32.989Z"
   },
   {
    "duration": 20,
    "start_time": "2025-03-16T22:20:13.657Z"
   },
   {
    "duration": 8,
    "start_time": "2025-03-16T22:21:06.274Z"
   },
   {
    "duration": 59434,
    "start_time": "2025-03-16T22:21:06.928Z"
   },
   {
    "duration": 100,
    "start_time": "2025-03-16T22:22:06.364Z"
   },
   {
    "duration": 10720,
    "start_time": "2025-03-16T22:26:06.982Z"
   },
   {
    "duration": 16,
    "start_time": "2025-03-16T22:26:17.703Z"
   },
   {
    "duration": 10796,
    "start_time": "2025-03-16T22:29:55.115Z"
   },
   {
    "duration": 16,
    "start_time": "2025-03-16T22:30:05.912Z"
   },
   {
    "duration": 4,
    "start_time": "2025-03-16T22:32:32.983Z"
   },
   {
    "duration": 4,
    "start_time": "2025-03-16T22:32:33.385Z"
   },
   {
    "duration": 684011,
    "start_time": "2025-03-16T22:32:34.251Z"
   },
   {
    "duration": 10,
    "start_time": "2025-03-16T22:43:58.264Z"
   },
   {
    "duration": 3,
    "start_time": "2025-03-16T22:44:04.703Z"
   },
   {
    "duration": 3,
    "start_time": "2025-03-16T22:44:04.994Z"
   },
   {
    "duration": 175983,
    "start_time": "2025-03-16T22:44:05.835Z"
   },
   {
    "duration": 11,
    "start_time": "2025-03-16T22:47:01.819Z"
   },
   {
    "duration": 3,
    "start_time": "2025-03-16T22:48:02.045Z"
   },
   {
    "duration": 4,
    "start_time": "2025-03-16T22:48:02.811Z"
   },
   {
    "duration": 71925,
    "start_time": "2025-03-16T22:48:03.349Z"
   },
   {
    "duration": 51,
    "start_time": "2025-03-16T22:49:15.276Z"
   },
   {
    "duration": 3,
    "start_time": "2025-03-16T22:50:16.810Z"
   },
   {
    "duration": 3,
    "start_time": "2025-03-16T22:50:17.023Z"
   },
   {
    "duration": 31241,
    "start_time": "2025-03-16T22:50:17.938Z"
   },
   {
    "duration": 29,
    "start_time": "2025-03-16T22:50:49.182Z"
   },
   {
    "duration": 22,
    "start_time": "2025-03-16T22:52:34.001Z"
   },
   {
    "duration": 16,
    "start_time": "2025-03-16T22:55:37.770Z"
   },
   {
    "duration": 23,
    "start_time": "2025-03-16T22:55:56.281Z"
   },
   {
    "duration": 5,
    "start_time": "2025-03-16T22:59:02.874Z"
   },
   {
    "duration": 3,
    "start_time": "2025-03-16T22:59:41.143Z"
   },
   {
    "duration": 3,
    "start_time": "2025-03-16T22:59:43.033Z"
   },
   {
    "duration": 29853,
    "start_time": "2025-03-16T22:59:43.483Z"
   },
   {
    "duration": 26,
    "start_time": "2025-03-16T23:00:13.338Z"
   },
   {
    "duration": 53,
    "start_time": "2025-03-16T23:00:13.366Z"
   },
   {
    "duration": 1149,
    "start_time": "2025-03-16T23:00:13.421Z"
   },
   {
    "duration": 19,
    "start_time": "2025-03-16T23:00:14.657Z"
   },
   {
    "duration": 10756,
    "start_time": "2025-03-16T23:00:14.677Z"
   },
   {
    "duration": 17,
    "start_time": "2025-03-16T23:00:25.435Z"
   },
   {
    "duration": 7,
    "start_time": "2025-03-16T23:00:25.453Z"
   },
   {
    "duration": 8,
    "start_time": "2025-03-16T23:00:25.462Z"
   },
   {
    "duration": 29385,
    "start_time": "2025-03-16T23:00:25.472Z"
   },
   {
    "duration": 19,
    "start_time": "2025-03-16T23:00:54.859Z"
   },
   {
    "duration": 2,
    "start_time": "2025-03-16T23:05:41.906Z"
   },
   {
    "duration": 155,
    "start_time": "2025-03-16T23:05:53.576Z"
   },
   {
    "duration": 197,
    "start_time": "2025-03-16T23:06:14.430Z"
   },
   {
    "duration": 264,
    "start_time": "2025-03-16T23:06:34.869Z"
   },
   {
    "duration": 269,
    "start_time": "2025-03-16T23:06:50.237Z"
   },
   {
    "duration": 272,
    "start_time": "2025-03-16T23:06:55.185Z"
   },
   {
    "duration": 283,
    "start_time": "2025-03-16T23:07:02.100Z"
   },
   {
    "duration": 417,
    "start_time": "2025-03-16T23:07:28.110Z"
   },
   {
    "duration": 518,
    "start_time": "2025-03-16T23:11:29.826Z"
   },
   {
    "duration": 524,
    "start_time": "2025-03-16T23:12:13.832Z"
   },
   {
    "duration": 484,
    "start_time": "2025-03-16T23:18:25.478Z"
   },
   {
    "duration": 1681,
    "start_time": "2025-03-17T20:41:27.457Z"
   },
   {
    "duration": 18228,
    "start_time": "2025-03-17T20:41:38.505Z"
   },
   {
    "duration": 1374,
    "start_time": "2025-03-17T20:41:56.735Z"
   },
   {
    "duration": 48,
    "start_time": "2025-03-17T20:41:58.110Z"
   },
   {
    "duration": 60,
    "start_time": "2025-03-17T20:41:58.160Z"
   },
   {
    "duration": 24,
    "start_time": "2025-03-17T20:41:58.222Z"
   },
   {
    "duration": 7,
    "start_time": "2025-03-17T20:41:58.247Z"
   },
   {
    "duration": 37,
    "start_time": "2025-03-17T20:41:58.255Z"
   },
   {
    "duration": 3,
    "start_time": "2025-03-17T20:41:58.294Z"
   },
   {
    "duration": 357,
    "start_time": "2025-03-17T20:41:58.298Z"
   },
   {
    "duration": 14,
    "start_time": "2025-03-17T20:41:58.657Z"
   },
   {
    "duration": 8,
    "start_time": "2025-03-17T20:41:58.674Z"
   },
   {
    "duration": 16,
    "start_time": "2025-03-17T20:41:58.683Z"
   },
   {
    "duration": 992,
    "start_time": "2025-03-17T20:41:58.701Z"
   },
   {
    "duration": 1347,
    "start_time": "2025-03-17T20:41:59.694Z"
   },
   {
    "duration": 312,
    "start_time": "2025-03-17T20:42:01.043Z"
   },
   {
    "duration": 329,
    "start_time": "2025-03-17T20:42:01.362Z"
   },
   {
    "duration": 609,
    "start_time": "2025-03-17T20:42:01.693Z"
   },
   {
    "duration": 8,
    "start_time": "2025-03-17T20:42:02.304Z"
   },
   {
    "duration": 377,
    "start_time": "2025-03-17T20:42:02.313Z"
   },
   {
    "duration": 467,
    "start_time": "2025-03-17T20:42:02.692Z"
   },
   {
    "duration": 29,
    "start_time": "2025-03-17T20:42:03.160Z"
   },
   {
    "duration": 22,
    "start_time": "2025-03-17T20:42:03.190Z"
   },
   {
    "duration": 10,
    "start_time": "2025-03-17T20:42:03.214Z"
   },
   {
    "duration": 48,
    "start_time": "2025-03-17T20:42:03.226Z"
   },
   {
    "duration": 23,
    "start_time": "2025-03-17T20:42:03.276Z"
   },
   {
    "duration": 6,
    "start_time": "2025-03-17T20:42:03.300Z"
   },
   {
    "duration": 7,
    "start_time": "2025-03-17T20:42:03.307Z"
   },
   {
    "duration": 5,
    "start_time": "2025-03-17T20:42:03.317Z"
   },
   {
    "duration": 32215,
    "start_time": "2025-03-17T20:42:03.323Z"
   },
   {
    "duration": 30,
    "start_time": "2025-03-17T20:42:35.540Z"
   },
   {
    "duration": 22,
    "start_time": "2025-03-17T20:42:35.572Z"
   },
   {
    "duration": 22866,
    "start_time": "2025-03-17T20:42:35.596Z"
   },
   {
    "duration": 103,
    "start_time": "2025-03-17T20:42:58.464Z"
   },
   {
    "duration": 11767,
    "start_time": "2025-03-17T20:42:58.569Z"
   },
   {
    "duration": 18,
    "start_time": "2025-03-17T20:43:10.338Z"
   },
   {
    "duration": 21,
    "start_time": "2025-03-17T20:43:10.358Z"
   },
   {
    "duration": 12,
    "start_time": "2025-03-17T20:43:10.381Z"
   },
   {
    "duration": 29812,
    "start_time": "2025-03-17T20:43:10.395Z"
   },
   {
    "duration": 22,
    "start_time": "2025-03-17T20:43:40.209Z"
   },
   {
    "duration": 86,
    "start_time": "2025-03-17T20:43:40.233Z"
   },
   {
    "duration": 400,
    "start_time": "2025-03-17T20:43:40.320Z"
   },
   {
    "duration": 569,
    "start_time": "2025-03-17T20:43:40.721Z"
   },
   {
    "duration": 17970,
    "start_time": "2025-03-17T20:54:34.420Z"
   },
   {
    "duration": 5,
    "start_time": "2025-03-17T20:54:55.518Z"
   },
   {
    "duration": 12908,
    "start_time": "2025-03-17T20:54:59.066Z"
   },
   {
    "duration": 76214,
    "start_time": "2025-03-17T20:55:11.976Z"
   },
   {
    "duration": 11871,
    "start_time": "2025-03-17T20:57:40.278Z"
   },
   {
    "duration": 69,
    "start_time": "2025-03-17T20:58:31.554Z"
   },
   {
    "duration": 39165,
    "start_time": "2025-03-17T20:58:31.624Z"
   },
   {
    "duration": 12329,
    "start_time": "2025-03-17T21:00:36.105Z"
   },
   {
    "duration": 39808,
    "start_time": "2025-03-17T21:00:48.436Z"
   },
   {
    "duration": 12329,
    "start_time": "2025-03-17T21:03:41.948Z"
   },
   {
    "duration": 39633,
    "start_time": "2025-03-17T21:03:54.279Z"
   },
   {
    "duration": 19,
    "start_time": "2025-03-17T21:05:38.392Z"
   },
   {
    "duration": 36,
    "start_time": "2025-03-17T21:05:46.750Z"
   },
   {
    "duration": 11208,
    "start_time": "2025-03-17T21:05:54.114Z"
   },
   {
    "duration": 1369,
    "start_time": "2025-03-17T21:06:05.325Z"
   },
   {
    "duration": 39,
    "start_time": "2025-03-17T21:06:06.696Z"
   },
   {
    "duration": 3,
    "start_time": "2025-03-17T21:06:06.737Z"
   },
   {
    "duration": 65,
    "start_time": "2025-03-17T21:06:06.741Z"
   },
   {
    "duration": 15,
    "start_time": "2025-03-17T21:06:06.808Z"
   },
   {
    "duration": 24,
    "start_time": "2025-03-17T21:06:06.825Z"
   },
   {
    "duration": 3,
    "start_time": "2025-03-17T21:06:06.851Z"
   },
   {
    "duration": 459,
    "start_time": "2025-03-17T21:06:06.856Z"
   },
   {
    "duration": 8,
    "start_time": "2025-03-17T21:06:07.318Z"
   },
   {
    "duration": 10,
    "start_time": "2025-03-17T21:06:07.327Z"
   },
   {
    "duration": 40,
    "start_time": "2025-03-17T21:06:07.338Z"
   },
   {
    "duration": 1064,
    "start_time": "2025-03-17T21:06:07.383Z"
   },
   {
    "duration": 1373,
    "start_time": "2025-03-17T21:06:08.448Z"
   },
   {
    "duration": 323,
    "start_time": "2025-03-17T21:06:09.822Z"
   },
   {
    "duration": 361,
    "start_time": "2025-03-17T21:06:10.147Z"
   },
   {
    "duration": 615,
    "start_time": "2025-03-17T21:06:10.509Z"
   },
   {
    "duration": 8,
    "start_time": "2025-03-17T21:06:11.126Z"
   },
   {
    "duration": 371,
    "start_time": "2025-03-17T21:06:11.136Z"
   },
   {
    "duration": 480,
    "start_time": "2025-03-17T21:06:11.509Z"
   },
   {
    "duration": 27,
    "start_time": "2025-03-17T21:06:11.991Z"
   },
   {
    "duration": 46,
    "start_time": "2025-03-17T21:06:12.019Z"
   },
   {
    "duration": 23,
    "start_time": "2025-03-17T21:06:12.067Z"
   },
   {
    "duration": 21,
    "start_time": "2025-03-17T21:06:12.092Z"
   },
   {
    "duration": 96,
    "start_time": "2025-03-17T21:06:12.115Z"
   },
   {
    "duration": 15,
    "start_time": "2025-03-17T21:06:12.212Z"
   },
   {
    "duration": 5,
    "start_time": "2025-03-17T21:06:12.229Z"
   },
   {
    "duration": 5,
    "start_time": "2025-03-17T21:06:12.237Z"
   },
   {
    "duration": 4130,
    "start_time": "2025-03-17T21:06:12.243Z"
   },
   {
    "duration": 14,
    "start_time": "2025-03-17T21:06:16.375Z"
   },
   {
    "duration": 0,
    "start_time": "2025-03-17T21:06:16.390Z"
   },
   {
    "duration": 0,
    "start_time": "2025-03-17T21:06:16.393Z"
   },
   {
    "duration": 0,
    "start_time": "2025-03-17T21:06:16.395Z"
   },
   {
    "duration": 0,
    "start_time": "2025-03-17T21:06:16.396Z"
   },
   {
    "duration": 0,
    "start_time": "2025-03-17T21:06:16.397Z"
   },
   {
    "duration": 0,
    "start_time": "2025-03-17T21:06:16.398Z"
   },
   {
    "duration": 0,
    "start_time": "2025-03-17T21:06:16.399Z"
   },
   {
    "duration": 0,
    "start_time": "2025-03-17T21:06:16.399Z"
   },
   {
    "duration": 1,
    "start_time": "2025-03-17T21:06:16.400Z"
   },
   {
    "duration": 0,
    "start_time": "2025-03-17T21:06:16.402Z"
   },
   {
    "duration": 0,
    "start_time": "2025-03-17T21:06:16.404Z"
   },
   {
    "duration": 0,
    "start_time": "2025-03-17T21:06:16.405Z"
   },
   {
    "duration": 10529,
    "start_time": "2025-03-17T21:07:06.433Z"
   },
   {
    "duration": 1362,
    "start_time": "2025-03-17T21:07:16.970Z"
   },
   {
    "duration": 44,
    "start_time": "2025-03-17T21:07:18.334Z"
   },
   {
    "duration": 3,
    "start_time": "2025-03-17T21:07:18.380Z"
   },
   {
    "duration": 43,
    "start_time": "2025-03-17T21:07:18.384Z"
   },
   {
    "duration": 3,
    "start_time": "2025-03-17T21:07:18.429Z"
   },
   {
    "duration": 22,
    "start_time": "2025-03-17T21:07:18.433Z"
   },
   {
    "duration": 3,
    "start_time": "2025-03-17T21:07:18.456Z"
   },
   {
    "duration": 523,
    "start_time": "2025-03-17T21:07:18.460Z"
   },
   {
    "duration": 8,
    "start_time": "2025-03-17T21:07:18.985Z"
   },
   {
    "duration": 7,
    "start_time": "2025-03-17T21:07:18.995Z"
   },
   {
    "duration": 7,
    "start_time": "2025-03-17T21:07:19.004Z"
   },
   {
    "duration": 988,
    "start_time": "2025-03-17T21:07:19.012Z"
   },
   {
    "duration": 1349,
    "start_time": "2025-03-17T21:07:20.002Z"
   },
   {
    "duration": 291,
    "start_time": "2025-03-17T21:07:21.352Z"
   },
   {
    "duration": 327,
    "start_time": "2025-03-17T21:07:21.645Z"
   },
   {
    "duration": 581,
    "start_time": "2025-03-17T21:07:21.974Z"
   },
   {
    "duration": 10,
    "start_time": "2025-03-17T21:07:22.557Z"
   },
   {
    "duration": 419,
    "start_time": "2025-03-17T21:07:22.569Z"
   },
   {
    "duration": 457,
    "start_time": "2025-03-17T21:07:22.990Z"
   },
   {
    "duration": 38,
    "start_time": "2025-03-17T21:07:23.449Z"
   },
   {
    "duration": 20,
    "start_time": "2025-03-17T21:07:23.488Z"
   },
   {
    "duration": 9,
    "start_time": "2025-03-17T21:07:23.510Z"
   },
   {
    "duration": 22,
    "start_time": "2025-03-17T21:07:23.521Z"
   },
   {
    "duration": 38,
    "start_time": "2025-03-17T21:07:23.544Z"
   },
   {
    "duration": 28,
    "start_time": "2025-03-17T21:07:23.584Z"
   },
   {
    "duration": 11,
    "start_time": "2025-03-17T21:07:23.613Z"
   },
   {
    "duration": 16,
    "start_time": "2025-03-17T21:07:23.627Z"
   },
   {
    "duration": 23758,
    "start_time": "2025-03-17T21:07:23.644Z"
   },
   {
    "duration": 22,
    "start_time": "2025-03-17T21:07:47.404Z"
   },
   {
    "duration": 18,
    "start_time": "2025-03-17T21:07:47.428Z"
   },
   {
    "duration": 8923,
    "start_time": "2025-03-17T21:07:47.448Z"
   },
   {
    "duration": 78104,
    "start_time": "2025-03-17T21:07:56.377Z"
   },
   {
    "duration": 12573,
    "start_time": "2025-03-17T21:09:14.484Z"
   },
   {
    "duration": 38245,
    "start_time": "2025-03-17T21:09:27.058Z"
   },
   {
    "duration": 4,
    "start_time": "2025-03-17T21:10:05.305Z"
   },
   {
    "duration": 101,
    "start_time": "2025-03-17T21:10:05.310Z"
   },
   {
    "duration": 28179,
    "start_time": "2025-03-17T21:10:05.412Z"
   },
   {
    "duration": 22,
    "start_time": "2025-03-17T21:10:33.593Z"
   },
   {
    "duration": 51,
    "start_time": "2025-03-17T21:10:33.616Z"
   },
   {
    "duration": 357,
    "start_time": "2025-03-17T21:10:33.670Z"
   },
   {
    "duration": 575,
    "start_time": "2025-03-17T21:10:34.029Z"
   },
   {
    "duration": 11900,
    "start_time": "2025-03-17T21:12:27.395Z"
   },
   {
    "duration": 1310,
    "start_time": "2025-03-17T21:12:39.297Z"
   },
   {
    "duration": 49,
    "start_time": "2025-03-17T21:12:40.609Z"
   },
   {
    "duration": 34,
    "start_time": "2025-03-17T21:12:40.659Z"
   },
   {
    "duration": 49,
    "start_time": "2025-03-17T21:12:40.695Z"
   },
   {
    "duration": 72,
    "start_time": "2025-03-17T21:12:40.746Z"
   },
   {
    "duration": 122,
    "start_time": "2025-03-17T21:12:40.820Z"
   },
   {
    "duration": 46,
    "start_time": "2025-03-17T21:12:40.943Z"
   },
   {
    "duration": 436,
    "start_time": "2025-03-17T21:12:40.991Z"
   },
   {
    "duration": 8,
    "start_time": "2025-03-17T21:12:41.428Z"
   },
   {
    "duration": 119,
    "start_time": "2025-03-17T21:12:41.437Z"
   },
   {
    "duration": 35,
    "start_time": "2025-03-17T21:12:41.558Z"
   },
   {
    "duration": 974,
    "start_time": "2025-03-17T21:12:41.595Z"
   },
   {
    "duration": 1284,
    "start_time": "2025-03-17T21:12:42.574Z"
   },
   {
    "duration": 279,
    "start_time": "2025-03-17T21:12:43.862Z"
   },
   {
    "duration": 10497,
    "start_time": "2025-03-17T21:12:46.858Z"
   },
   {
    "duration": 1377,
    "start_time": "2025-03-17T21:12:57.358Z"
   },
   {
    "duration": 45,
    "start_time": "2025-03-17T21:12:58.737Z"
   },
   {
    "duration": 3,
    "start_time": "2025-03-17T21:12:58.784Z"
   },
   {
    "duration": 22,
    "start_time": "2025-03-17T21:12:58.788Z"
   },
   {
    "duration": 3,
    "start_time": "2025-03-17T21:12:58.812Z"
   },
   {
    "duration": 24,
    "start_time": "2025-03-17T21:12:58.817Z"
   },
   {
    "duration": 3,
    "start_time": "2025-03-17T21:12:58.843Z"
   },
   {
    "duration": 373,
    "start_time": "2025-03-17T21:12:58.866Z"
   },
   {
    "duration": 8,
    "start_time": "2025-03-17T21:12:59.242Z"
   },
   {
    "duration": 8,
    "start_time": "2025-03-17T21:12:59.252Z"
   },
   {
    "duration": 7,
    "start_time": "2025-03-17T21:12:59.261Z"
   },
   {
    "duration": 920,
    "start_time": "2025-03-17T21:12:59.269Z"
   },
   {
    "duration": 1280,
    "start_time": "2025-03-17T21:13:00.190Z"
   },
   {
    "duration": 264,
    "start_time": "2025-03-17T21:13:01.472Z"
   },
   {
    "duration": 351,
    "start_time": "2025-03-17T21:13:01.737Z"
   },
   {
    "duration": 588,
    "start_time": "2025-03-17T21:13:02.090Z"
   },
   {
    "duration": 8,
    "start_time": "2025-03-17T21:13:02.680Z"
   },
   {
    "duration": 389,
    "start_time": "2025-03-17T21:13:02.690Z"
   },
   {
    "duration": 463,
    "start_time": "2025-03-17T21:13:03.080Z"
   },
   {
    "duration": 40,
    "start_time": "2025-03-17T21:13:03.544Z"
   },
   {
    "duration": 47,
    "start_time": "2025-03-17T21:13:03.586Z"
   },
   {
    "duration": 68,
    "start_time": "2025-03-17T21:13:03.635Z"
   },
   {
    "duration": 21,
    "start_time": "2025-03-17T21:13:03.705Z"
   },
   {
    "duration": 4,
    "start_time": "2025-03-17T21:13:03.728Z"
   },
   {
    "duration": 39,
    "start_time": "2025-03-17T21:13:03.734Z"
   },
   {
    "duration": 45,
    "start_time": "2025-03-17T21:13:03.778Z"
   },
   {
    "duration": 59,
    "start_time": "2025-03-17T21:13:03.826Z"
   },
   {
    "duration": 32209,
    "start_time": "2025-03-17T21:13:03.887Z"
   },
   {
    "duration": 20,
    "start_time": "2025-03-17T21:13:36.098Z"
   },
   {
    "duration": 23,
    "start_time": "2025-03-17T21:13:36.119Z"
   },
   {
    "duration": 13133,
    "start_time": "2025-03-17T21:13:36.144Z"
   },
   {
    "duration": 83689,
    "start_time": "2025-03-17T21:13:49.279Z"
   },
   {
    "duration": 11698,
    "start_time": "2025-03-17T21:15:12.972Z"
   },
   {
    "duration": 38549,
    "start_time": "2025-03-17T21:15:24.672Z"
   },
   {
    "duration": 3,
    "start_time": "2025-03-17T21:16:03.222Z"
   },
   {
    "duration": 65,
    "start_time": "2025-03-17T21:16:03.226Z"
   },
   {
    "duration": 29903,
    "start_time": "2025-03-17T21:16:03.293Z"
   },
   {
    "duration": 22,
    "start_time": "2025-03-17T21:16:33.198Z"
   },
   {
    "duration": 64,
    "start_time": "2025-03-17T21:16:33.221Z"
   },
   {
    "duration": 358,
    "start_time": "2025-03-17T21:16:33.287Z"
   },
   {
    "duration": 557,
    "start_time": "2025-03-17T21:16:33.647Z"
   },
   {
    "duration": 9,
    "start_time": "2025-03-17T21:17:36.028Z"
   },
   {
    "duration": 530,
    "start_time": "2025-03-17T21:18:09.625Z"
   },
   {
    "duration": 508,
    "start_time": "2025-03-17T21:18:51.703Z"
   },
   {
    "duration": 10635,
    "start_time": "2025-03-17T21:22:28.261Z"
   },
   {
    "duration": 1284,
    "start_time": "2025-03-17T21:22:38.899Z"
   },
   {
    "duration": 39,
    "start_time": "2025-03-17T21:22:40.185Z"
   },
   {
    "duration": 21,
    "start_time": "2025-03-17T21:22:40.226Z"
   },
   {
    "duration": 26,
    "start_time": "2025-03-17T21:22:40.248Z"
   },
   {
    "duration": 4,
    "start_time": "2025-03-17T21:22:40.276Z"
   },
   {
    "duration": 21,
    "start_time": "2025-03-17T21:22:40.281Z"
   },
   {
    "duration": 3,
    "start_time": "2025-03-17T21:22:40.303Z"
   },
   {
    "duration": 380,
    "start_time": "2025-03-17T21:22:40.307Z"
   },
   {
    "duration": 8,
    "start_time": "2025-03-17T21:22:40.689Z"
   },
   {
    "duration": 7,
    "start_time": "2025-03-17T21:22:40.699Z"
   },
   {
    "duration": 6,
    "start_time": "2025-03-17T21:22:40.708Z"
   },
   {
    "duration": 970,
    "start_time": "2025-03-17T21:22:40.716Z"
   },
   {
    "duration": 1342,
    "start_time": "2025-03-17T21:22:41.688Z"
   },
   {
    "duration": 309,
    "start_time": "2025-03-17T21:22:43.032Z"
   },
   {
    "duration": 355,
    "start_time": "2025-03-17T21:22:43.343Z"
   },
   {
    "duration": 598,
    "start_time": "2025-03-17T21:22:43.700Z"
   },
   {
    "duration": 9,
    "start_time": "2025-03-17T21:22:44.300Z"
   },
   {
    "duration": 379,
    "start_time": "2025-03-17T21:22:44.311Z"
   },
   {
    "duration": 458,
    "start_time": "2025-03-17T21:22:44.692Z"
   },
   {
    "duration": 34,
    "start_time": "2025-03-17T21:22:45.152Z"
   },
   {
    "duration": 55,
    "start_time": "2025-03-17T21:22:45.187Z"
   },
   {
    "duration": 80,
    "start_time": "2025-03-17T21:22:45.244Z"
   },
   {
    "duration": 119,
    "start_time": "2025-03-17T21:22:45.326Z"
   },
   {
    "duration": 29,
    "start_time": "2025-03-17T21:22:45.447Z"
   },
   {
    "duration": 42,
    "start_time": "2025-03-17T21:22:45.478Z"
   },
   {
    "duration": 25,
    "start_time": "2025-03-17T21:22:45.522Z"
   },
   {
    "duration": 21,
    "start_time": "2025-03-17T21:22:45.550Z"
   },
   {
    "duration": 32715,
    "start_time": "2025-03-17T21:22:45.573Z"
   },
   {
    "duration": 21,
    "start_time": "2025-03-17T21:23:18.290Z"
   },
   {
    "duration": 9,
    "start_time": "2025-03-17T21:23:18.313Z"
   },
   {
    "duration": 13459,
    "start_time": "2025-03-17T21:23:18.323Z"
   },
   {
    "duration": 67898,
    "start_time": "2025-03-17T21:23:31.873Z"
   },
   {
    "duration": 12267,
    "start_time": "2025-03-17T21:24:39.773Z"
   },
   {
    "duration": 33541,
    "start_time": "2025-03-17T21:24:52.042Z"
   },
   {
    "duration": 4,
    "start_time": "2025-03-17T21:25:25.585Z"
   },
   {
    "duration": 36,
    "start_time": "2025-03-17T21:25:25.590Z"
   },
   {
    "duration": 29568,
    "start_time": "2025-03-17T21:25:25.628Z"
   },
   {
    "duration": 22,
    "start_time": "2025-03-17T21:25:55.198Z"
   },
   {
    "duration": 12,
    "start_time": "2025-03-17T21:25:55.221Z"
   },
   {
    "duration": 568,
    "start_time": "2025-03-17T21:25:55.234Z"
   }
  ],
  "kernelspec": {
   "display_name": "Python 3 (ipykernel)",
   "language": "python",
   "name": "python3"
  },
  "language_info": {
   "codemirror_mode": {
    "name": "ipython",
    "version": 3
   },
   "file_extension": ".py",
   "mimetype": "text/x-python",
   "name": "python",
   "nbconvert_exporter": "python",
   "pygments_lexer": "ipython3",
   "version": "3.9.21"
  },
  "toc": {
   "base_numbering": 1,
   "nav_menu": {},
   "number_sections": true,
   "sideBar": true,
   "skip_h1_title": true,
   "title_cell": "Содержание",
   "title_sidebar": "Contents",
   "toc_cell": true,
   "toc_position": {
    "height": "calc(100% - 180px)",
    "left": "10px",
    "top": "150px",
    "width": "284.75px"
   },
   "toc_section_display": true,
   "toc_window_display": true
  }
 },
 "nbformat": 4,
 "nbformat_minor": 2
}
