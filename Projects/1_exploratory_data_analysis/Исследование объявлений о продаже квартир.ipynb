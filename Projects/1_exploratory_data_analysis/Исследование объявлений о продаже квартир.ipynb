{
 "cells": [
  {
   "cell_type": "markdown",
   "metadata": {
    "id": "-VFbjcb3Awb7"
   },
   "source": [
    "# Исследование объявлений о продаже квартир\n",
    "\n",
    "В вашем распоряжении данные сервиса Яндекс Недвижимость — архив объявлений о продаже квартир в Санкт-Петербурге и соседних населённых пунктах за несколько лет. Вам нужно научиться определять рыночную стоимость объектов недвижимости. Для этого проведите исследовательский анализ данных и установите параметры, влияющие на цену объектов. Это позволит построить автоматизированную систему: она отследит аномалии и мошенническую деятельность.\n",
    "\n",
    "По каждой квартире на продажу доступны два вида данных. Первые вписаны пользователем, вторые — получены автоматически на основе картографических данных. Например, расстояние до центра, аэропорта и других объектов — эти данные автоматически получены из геосервисов. Количество парков и водоёмов также заполняется без участия пользователя."
   ]
  },
  {
   "cell_type": "markdown",
   "metadata": {
    "id": "aeFLH07FAwb9"
   },
   "source": [
    "### Откройте файл с данными и изучите общую информацию"
   ]
  },
  {
   "cell_type": "code",
   "execution_count": 2,
   "metadata": {
    "id": "7MZxY65pAwb9"
   },
   "outputs": [],
   "source": [
    "import pandas as pd\n",
    "import matplotlib.pyplot as plt"
   ]
  },
  {
   "cell_type": "markdown",
   "metadata": {},
   "source": [
    "#### Считаем датасет и вывеем его первые строки"
   ]
  },
  {
   "cell_type": "code",
   "execution_count": 3,
   "metadata": {},
   "outputs": [
    {
     "data": {
      "text/html": [
       "<div>\n",
       "<style scoped>\n",
       "    .dataframe tbody tr th:only-of-type {\n",
       "        vertical-align: middle;\n",
       "    }\n",
       "\n",
       "    .dataframe tbody tr th {\n",
       "        vertical-align: top;\n",
       "    }\n",
       "\n",
       "    .dataframe thead th {\n",
       "        text-align: right;\n",
       "    }\n",
       "</style>\n",
       "<table border=\"1\" class=\"dataframe\">\n",
       "  <thead>\n",
       "    <tr style=\"text-align: right;\">\n",
       "      <th></th>\n",
       "      <th>total_images</th>\n",
       "      <th>last_price</th>\n",
       "      <th>total_area</th>\n",
       "      <th>first_day_exposition</th>\n",
       "      <th>rooms</th>\n",
       "      <th>ceiling_height</th>\n",
       "      <th>floors_total</th>\n",
       "      <th>living_area</th>\n",
       "      <th>floor</th>\n",
       "      <th>is_apartment</th>\n",
       "      <th>...</th>\n",
       "      <th>kitchen_area</th>\n",
       "      <th>balcony</th>\n",
       "      <th>locality_name</th>\n",
       "      <th>airports_nearest</th>\n",
       "      <th>cityCenters_nearest</th>\n",
       "      <th>parks_around3000</th>\n",
       "      <th>parks_nearest</th>\n",
       "      <th>ponds_around3000</th>\n",
       "      <th>ponds_nearest</th>\n",
       "      <th>days_exposition</th>\n",
       "    </tr>\n",
       "  </thead>\n",
       "  <tbody>\n",
       "    <tr>\n",
       "      <th>0</th>\n",
       "      <td>20</td>\n",
       "      <td>13000000.0</td>\n",
       "      <td>108.0</td>\n",
       "      <td>2019-03-07T00:00:00</td>\n",
       "      <td>3</td>\n",
       "      <td>2.70</td>\n",
       "      <td>16.0</td>\n",
       "      <td>51.0</td>\n",
       "      <td>8</td>\n",
       "      <td>NaN</td>\n",
       "      <td>...</td>\n",
       "      <td>25.0</td>\n",
       "      <td>NaN</td>\n",
       "      <td>Санкт-Петербург</td>\n",
       "      <td>18863.0</td>\n",
       "      <td>16028.0</td>\n",
       "      <td>1.0</td>\n",
       "      <td>482.0</td>\n",
       "      <td>2.0</td>\n",
       "      <td>755.0</td>\n",
       "      <td>NaN</td>\n",
       "    </tr>\n",
       "    <tr>\n",
       "      <th>1</th>\n",
       "      <td>7</td>\n",
       "      <td>3350000.0</td>\n",
       "      <td>40.4</td>\n",
       "      <td>2018-12-04T00:00:00</td>\n",
       "      <td>1</td>\n",
       "      <td>NaN</td>\n",
       "      <td>11.0</td>\n",
       "      <td>18.6</td>\n",
       "      <td>1</td>\n",
       "      <td>NaN</td>\n",
       "      <td>...</td>\n",
       "      <td>11.0</td>\n",
       "      <td>2.0</td>\n",
       "      <td>посёлок Шушары</td>\n",
       "      <td>12817.0</td>\n",
       "      <td>18603.0</td>\n",
       "      <td>0.0</td>\n",
       "      <td>NaN</td>\n",
       "      <td>0.0</td>\n",
       "      <td>NaN</td>\n",
       "      <td>81.0</td>\n",
       "    </tr>\n",
       "    <tr>\n",
       "      <th>2</th>\n",
       "      <td>10</td>\n",
       "      <td>5196000.0</td>\n",
       "      <td>56.0</td>\n",
       "      <td>2015-08-20T00:00:00</td>\n",
       "      <td>2</td>\n",
       "      <td>NaN</td>\n",
       "      <td>5.0</td>\n",
       "      <td>34.3</td>\n",
       "      <td>4</td>\n",
       "      <td>NaN</td>\n",
       "      <td>...</td>\n",
       "      <td>8.3</td>\n",
       "      <td>0.0</td>\n",
       "      <td>Санкт-Петербург</td>\n",
       "      <td>21741.0</td>\n",
       "      <td>13933.0</td>\n",
       "      <td>1.0</td>\n",
       "      <td>90.0</td>\n",
       "      <td>2.0</td>\n",
       "      <td>574.0</td>\n",
       "      <td>558.0</td>\n",
       "    </tr>\n",
       "    <tr>\n",
       "      <th>3</th>\n",
       "      <td>0</td>\n",
       "      <td>64900000.0</td>\n",
       "      <td>159.0</td>\n",
       "      <td>2015-07-24T00:00:00</td>\n",
       "      <td>3</td>\n",
       "      <td>NaN</td>\n",
       "      <td>14.0</td>\n",
       "      <td>NaN</td>\n",
       "      <td>9</td>\n",
       "      <td>NaN</td>\n",
       "      <td>...</td>\n",
       "      <td>NaN</td>\n",
       "      <td>0.0</td>\n",
       "      <td>Санкт-Петербург</td>\n",
       "      <td>28098.0</td>\n",
       "      <td>6800.0</td>\n",
       "      <td>2.0</td>\n",
       "      <td>84.0</td>\n",
       "      <td>3.0</td>\n",
       "      <td>234.0</td>\n",
       "      <td>424.0</td>\n",
       "    </tr>\n",
       "    <tr>\n",
       "      <th>4</th>\n",
       "      <td>2</td>\n",
       "      <td>10000000.0</td>\n",
       "      <td>100.0</td>\n",
       "      <td>2018-06-19T00:00:00</td>\n",
       "      <td>2</td>\n",
       "      <td>3.03</td>\n",
       "      <td>14.0</td>\n",
       "      <td>32.0</td>\n",
       "      <td>13</td>\n",
       "      <td>NaN</td>\n",
       "      <td>...</td>\n",
       "      <td>41.0</td>\n",
       "      <td>NaN</td>\n",
       "      <td>Санкт-Петербург</td>\n",
       "      <td>31856.0</td>\n",
       "      <td>8098.0</td>\n",
       "      <td>2.0</td>\n",
       "      <td>112.0</td>\n",
       "      <td>1.0</td>\n",
       "      <td>48.0</td>\n",
       "      <td>121.0</td>\n",
       "    </tr>\n",
       "  </tbody>\n",
       "</table>\n",
       "<p>5 rows × 22 columns</p>\n",
       "</div>"
      ],
      "text/plain": [
       "   total_images  last_price  total_area first_day_exposition  rooms  \\\n",
       "0            20  13000000.0       108.0  2019-03-07T00:00:00      3   \n",
       "1             7   3350000.0        40.4  2018-12-04T00:00:00      1   \n",
       "2            10   5196000.0        56.0  2015-08-20T00:00:00      2   \n",
       "3             0  64900000.0       159.0  2015-07-24T00:00:00      3   \n",
       "4             2  10000000.0       100.0  2018-06-19T00:00:00      2   \n",
       "\n",
       "   ceiling_height  floors_total  living_area  floor is_apartment  ...  \\\n",
       "0            2.70          16.0         51.0      8          NaN  ...   \n",
       "1             NaN          11.0         18.6      1          NaN  ...   \n",
       "2             NaN           5.0         34.3      4          NaN  ...   \n",
       "3             NaN          14.0          NaN      9          NaN  ...   \n",
       "4            3.03          14.0         32.0     13          NaN  ...   \n",
       "\n",
       "   kitchen_area  balcony    locality_name  airports_nearest  \\\n",
       "0          25.0      NaN  Санкт-Петербург           18863.0   \n",
       "1          11.0      2.0   посёлок Шушары           12817.0   \n",
       "2           8.3      0.0  Санкт-Петербург           21741.0   \n",
       "3           NaN      0.0  Санкт-Петербург           28098.0   \n",
       "4          41.0      NaN  Санкт-Петербург           31856.0   \n",
       "\n",
       "  cityCenters_nearest  parks_around3000  parks_nearest  ponds_around3000  \\\n",
       "0             16028.0               1.0          482.0               2.0   \n",
       "1             18603.0               0.0            NaN               0.0   \n",
       "2             13933.0               1.0           90.0               2.0   \n",
       "3              6800.0               2.0           84.0               3.0   \n",
       "4              8098.0               2.0          112.0               1.0   \n",
       "\n",
       "   ponds_nearest  days_exposition  \n",
       "0          755.0              NaN  \n",
       "1            NaN             81.0  \n",
       "2          574.0            558.0  \n",
       "3          234.0            424.0  \n",
       "4           48.0            121.0  \n",
       "\n",
       "[5 rows x 22 columns]"
      ]
     },
     "execution_count": 3,
     "metadata": {},
     "output_type": "execute_result"
    }
   ],
   "source": [
    "data = pd.read_csv('real_estate_data.csv', sep = '\\t')\n",
    "data.head()"
   ]
  },
  {
   "cell_type": "markdown",
   "metadata": {},
   "source": [
    "#### УЗнаем ощую информацию про датасет"
   ]
  },
  {
   "cell_type": "code",
   "execution_count": 4,
   "metadata": {},
   "outputs": [
    {
     "name": "stdout",
     "output_type": "stream",
     "text": [
      "<class 'pandas.core.frame.DataFrame'>\n",
      "RangeIndex: 23699 entries, 0 to 23698\n",
      "Data columns (total 22 columns):\n",
      " #   Column                Non-Null Count  Dtype  \n",
      "---  ------                --------------  -----  \n",
      " 0   total_images          23699 non-null  int64  \n",
      " 1   last_price            23699 non-null  float64\n",
      " 2   total_area            23699 non-null  float64\n",
      " 3   first_day_exposition  23699 non-null  object \n",
      " 4   rooms                 23699 non-null  int64  \n",
      " 5   ceiling_height        14504 non-null  float64\n",
      " 6   floors_total          23613 non-null  float64\n",
      " 7   living_area           21796 non-null  float64\n",
      " 8   floor                 23699 non-null  int64  \n",
      " 9   is_apartment          2775 non-null   object \n",
      " 10  studio                23699 non-null  bool   \n",
      " 11  open_plan             23699 non-null  bool   \n",
      " 12  kitchen_area          21421 non-null  float64\n",
      " 13  balcony               12180 non-null  float64\n",
      " 14  locality_name         23650 non-null  object \n",
      " 15  airports_nearest      18157 non-null  float64\n",
      " 16  cityCenters_nearest   18180 non-null  float64\n",
      " 17  parks_around3000      18181 non-null  float64\n",
      " 18  parks_nearest         8079 non-null   float64\n",
      " 19  ponds_around3000      18181 non-null  float64\n",
      " 20  ponds_nearest         9110 non-null   float64\n",
      " 21  days_exposition       20518 non-null  float64\n",
      "dtypes: bool(2), float64(14), int64(3), object(3)\n",
      "memory usage: 3.7+ MB\n"
     ]
    }
   ],
   "source": [
    "data.info()"
   ]
  },
  {
   "cell_type": "markdown",
   "metadata": {},
   "source": [
    "Из общей информации видно, что столбцы **ceiling_height**, **living_area**, **is_apartment**, **kitchen_area**, **balcony**, **airports_nearest**, **cityCenters_nearest**, **parks_around3000**, **parks_nearest**, **ponds_around3000**, **ponds_nearest**, **days_exposition** имеют пропуски "
   ]
  },
  {
   "cell_type": "markdown",
   "metadata": {},
   "source": [
    "#### Построим гистограмму для числовых значений *data*"
   ]
  },
  {
   "cell_type": "code",
   "execution_count": 4,
   "metadata": {},
   "outputs": [
    {
     "data": {
      "text/plain": [
       "array([[<AxesSubplot:title={'center':'total_images'}>,\n",
       "        <AxesSubplot:title={'center':'last_price'}>,\n",
       "        <AxesSubplot:title={'center':'total_area'}>,\n",
       "        <AxesSubplot:title={'center':'rooms'}>],\n",
       "       [<AxesSubplot:title={'center':'ceiling_height'}>,\n",
       "        <AxesSubplot:title={'center':'floors_total'}>,\n",
       "        <AxesSubplot:title={'center':'living_area'}>,\n",
       "        <AxesSubplot:title={'center':'floor'}>],\n",
       "       [<AxesSubplot:title={'center':'kitchen_area'}>,\n",
       "        <AxesSubplot:title={'center':'balcony'}>,\n",
       "        <AxesSubplot:title={'center':'airports_nearest'}>,\n",
       "        <AxesSubplot:title={'center':'cityCenters_nearest'}>],\n",
       "       [<AxesSubplot:title={'center':'parks_around3000'}>,\n",
       "        <AxesSubplot:title={'center':'parks_nearest'}>,\n",
       "        <AxesSubplot:title={'center':'ponds_around3000'}>,\n",
       "        <AxesSubplot:title={'center':'ponds_nearest'}>],\n",
       "       [<AxesSubplot:title={'center':'days_exposition'}>, <AxesSubplot:>,\n",
       "        <AxesSubplot:>, <AxesSubplot:>]], dtype=object)"
      ]
     },
     "execution_count": 4,
     "metadata": {},
     "output_type": "execute_result"
    },
    {
     "data": {
      "image/png": "[encoded data removed]",
      "text/plain": [
       "<Figure size 1080x1440 with 20 Axes>"
      ]
     },
     "metadata": {
      "needs_background": "light"
     },
     "output_type": "display_data"
    }
   ],
   "source": [
    "data.hist(figsize=(15, 20))"
   ]
  },
  {
   "cell_type": "markdown",
   "metadata": {},
   "source": [
    "Заметим, что в некоторых данных, например, *last_price*, *total_area*, *ceiling_height*, *living_area*, *kitchen_area* есть сразу заметные выбросы и аномалии\n",
    "\n",
    "А переменные *ponds_around3000*, *parks_around*, *balcony* являются категориальными переменными, тюкю принимают ограниченное количество значений"
   ]
  },
  {
   "cell_type": "markdown",
   "metadata": {
    "id": "-O5NtivEAwb9"
   },
   "source": [
    "### Выполните предобработку данных"
   ]
  },
  {
   "cell_type": "markdown",
   "metadata": {},
   "source": [
    "#### Работа с неявными дубликатами"
   ]
  },
  {
   "cell_type": "markdown",
   "metadata": {},
   "source": [
    "Расмотрим названия насленных пунктов "
   ]
  },
  {
   "cell_type": "code",
   "execution_count": 5,
   "metadata": {
    "scrolled": true
   },
   "outputs": [
    {
     "data": {
      "text/plain": [
       "array(['Санкт-Петербург', 'посёлок Шушары', 'городской посёлок Янино-1',\n",
       "       'посёлок Парголово', 'посёлок Мурино', 'Ломоносов', 'Сертолово',\n",
       "       'Петергоф', 'Пушкин', 'деревня Кудрово', 'Коммунар', 'Колпино',\n",
       "       'поселок городского типа Красный Бор', 'Гатчина', 'поселок Мурино',\n",
       "       'деревня Фёдоровское', 'Выборг', 'Кронштадт', 'Кировск',\n",
       "       'деревня Новое Девяткино', 'посёлок Металлострой',\n",
       "       'посёлок городского типа Лебяжье',\n",
       "       'посёлок городского типа Сиверский', 'поселок Молодцово',\n",
       "       'поселок городского типа Кузьмоловский',\n",
       "       'садовое товарищество Новая Ропша', 'Павловск',\n",
       "       'деревня Пикколово', 'Всеволожск', 'Волхов', 'Кингисепп',\n",
       "       'Приозерск', 'Сестрорецк', 'деревня Куттузи', 'посёлок Аннино',\n",
       "       'поселок городского типа Ефимовский', 'посёлок Плодовое',\n",
       "       'деревня Заклинье', 'поселок Торковичи', 'поселок Первомайское',\n",
       "       'Красное Село', 'посёлок Понтонный', 'Сясьстрой', 'деревня Старая',\n",
       "       'деревня Лесколово', 'посёлок Новый Свет', 'Сланцы',\n",
       "       'село Путилово', 'Ивангород', 'Мурино', 'Шлиссельбург',\n",
       "       'Никольское', 'Зеленогорск', 'Сосновый Бор', 'поселок Новый Свет',\n",
       "       'деревня Оржицы', 'деревня Кальтино', 'Кудрово',\n",
       "       'поселок Романовка', 'посёлок Бугры', 'поселок Бугры',\n",
       "       'поселок городского типа Рощино', 'Кириши', 'Луга', 'Волосово',\n",
       "       'Отрадное', 'село Павлово', 'поселок Оредеж', 'село Копорье',\n",
       "       'посёлок городского типа Красный Бор', 'посёлок Молодёжное',\n",
       "       'Тихвин', 'посёлок Победа', 'деревня Нурма',\n",
       "       'поселок городского типа Синявино', 'Тосно',\n",
       "       'посёлок городского типа Кузьмоловский', 'посёлок Стрельна',\n",
       "       'Бокситогорск', 'посёлок Александровская', 'деревня Лопухинка',\n",
       "       'Пикалёво', 'поселок Терволово',\n",
       "       'поселок городского типа Советский', 'Подпорожье',\n",
       "       'посёлок Петровское', 'посёлок городского типа Токсово',\n",
       "       'поселок Сельцо', 'посёлок городского типа Вырица',\n",
       "       'деревня Кипень', 'деревня Келози', 'деревня Вартемяги',\n",
       "       'посёлок Тельмана', 'поселок Севастьяново',\n",
       "       'городской поселок Большая Ижора', nan,\n",
       "       'городской посёлок Павлово', 'деревня Агалатово',\n",
       "       'посёлок Новогорелово', 'городской посёлок Лесогорский',\n",
       "       'деревня Лаголово', 'поселок Цвелодубово',\n",
       "       'поселок городского типа Рахья', 'поселок городского типа Вырица',\n",
       "       'деревня Белогорка', 'поселок Заводской',\n",
       "       'городской посёлок Новоселье', 'деревня Большие Колпаны',\n",
       "       'деревня Горбунки', 'деревня Батово', 'деревня Заневка',\n",
       "       'деревня Иссад', 'Приморск', 'городской посёлок Фёдоровское',\n",
       "       'деревня Мистолово', 'Новая Ладога', 'поселок Зимитицы',\n",
       "       'поселок Барышево', 'деревня Разметелево',\n",
       "       'поселок городского типа имени Свердлова', 'деревня Пеники',\n",
       "       'поселок Рябово', 'деревня Пудомяги', 'поселок станции Корнево',\n",
       "       'деревня Низино', 'деревня Бегуницы', 'посёлок Поляны',\n",
       "       'городской посёлок Мга', 'поселок Елизаветино',\n",
       "       'посёлок городского типа Кузнечное', 'деревня Колтуши',\n",
       "       'поселок Запорожское', 'посёлок городского типа Рощино',\n",
       "       'деревня Гостилицы', 'деревня Малое Карлино',\n",
       "       'посёлок Мичуринское', 'посёлок городского типа имени Морозова',\n",
       "       'посёлок Песочный', 'посёлок Сосново', 'деревня Аро',\n",
       "       'поселок Ильичёво', 'посёлок городского типа Тайцы',\n",
       "       'деревня Малое Верево', 'деревня Извара', 'поселок станции Вещево',\n",
       "       'село Паша', 'деревня Калитино',\n",
       "       'посёлок городского типа Ульяновка', 'деревня Чудской Бор',\n",
       "       'поселок городского типа Дубровка', 'деревня Мины',\n",
       "       'поселок Войсковицы', 'посёлок городского типа имени Свердлова',\n",
       "       'деревня Коркино', 'посёлок Ропша',\n",
       "       'поселок городского типа Приладожский', 'посёлок Щеглово',\n",
       "       'посёлок Гаврилово', 'Лодейное Поле', 'деревня Рабитицы',\n",
       "       'поселок городского типа Никольский', 'деревня Кузьмолово',\n",
       "       'деревня Малые Колпаны', 'поселок Тельмана',\n",
       "       'посёлок Петро-Славянка', 'городской посёлок Назия',\n",
       "       'посёлок Репино', 'посёлок Ильичёво', 'поселок Углово',\n",
       "       'поселок Старая Малукса', 'садовое товарищество Рахья',\n",
       "       'поселок Аннино', 'поселок Победа', 'деревня Меньково',\n",
       "       'деревня Старые Бегуницы', 'посёлок Сапёрный', 'поселок Семрино',\n",
       "       'поселок Гаврилово', 'поселок Глажево', 'поселок Кобринское',\n",
       "       'деревня Гарболово', 'деревня Юкки',\n",
       "       'поселок станции Приветнинское', 'деревня Мануйлово',\n",
       "       'деревня Пчева', 'поселок Поляны', 'поселок Цвылёво',\n",
       "       'поселок Мельниково', 'посёлок Пудость', 'посёлок Усть-Луга',\n",
       "       'Светогорск', 'Любань', 'поселок Селезнёво',\n",
       "       'поселок городского типа Рябово', 'Каменногорск', 'деревня Кривко',\n",
       "       'поселок Глебычево', 'деревня Парицы', 'поселок Жилпосёлок',\n",
       "       'посёлок городского типа Мга', 'городской поселок Янино-1',\n",
       "       'посёлок Войскорово', 'село Никольское', 'посёлок Терволово',\n",
       "       'поселок Стеклянный', 'посёлок городского типа Важины',\n",
       "       'посёлок Мыза-Ивановка', 'село Русско-Высоцкое',\n",
       "       'поселок городского типа Лебяжье',\n",
       "       'поселок городского типа Форносово', 'село Старая Ладога',\n",
       "       'поселок Житково', 'городской посёлок Виллози', 'деревня Лампово',\n",
       "       'деревня Шпаньково', 'деревня Лаврики', 'посёлок Сумино',\n",
       "       'посёлок Возрождение', 'деревня Старосиверская',\n",
       "       'посёлок Кикерино', 'поселок Возрождение',\n",
       "       'деревня Старое Хинколово', 'посёлок Пригородный',\n",
       "       'посёлок Торфяное', 'городской посёлок Будогощь',\n",
       "       'поселок Суходолье', 'поселок Красная Долина', 'деревня Хапо-Ое',\n",
       "       'поселок городского типа Дружная Горка', 'поселок Лисий Нос',\n",
       "       'деревня Яльгелево', 'посёлок Стеклянный', 'село Рождествено',\n",
       "       'деревня Старополье', 'посёлок Левашово', 'деревня Сяськелево',\n",
       "       'деревня Камышовка',\n",
       "       'садоводческое некоммерческое товарищество Лесная Поляна',\n",
       "       'деревня Хязельки', 'поселок Жилгородок',\n",
       "       'посёлок городского типа Павлово', 'деревня Ялгино',\n",
       "       'поселок Новый Учхоз', 'городской посёлок Рощино',\n",
       "       'поселок Гончарово', 'поселок Почап', 'посёлок Сапёрное',\n",
       "       'посёлок Платформа 69-й километр', 'поселок Каложицы',\n",
       "       'деревня Фалилеево', 'деревня Пельгора',\n",
       "       'поселок городского типа Лесогорский', 'деревня Торошковичи',\n",
       "       'посёлок Белоостров', 'посёлок Алексеевка', 'поселок Серебрянский',\n",
       "       'поселок Лукаши', 'поселок Петровское', 'деревня Щеглово',\n",
       "       'поселок Мичуринское', 'деревня Тарасово', 'поселок Кингисеппский',\n",
       "       'посёлок при железнодорожной станции Вещево', 'поселок Ушаки',\n",
       "       'деревня Котлы', 'деревня Сижно', 'деревня Торосово',\n",
       "       'посёлок Форт Красная Горка', 'поселок городского типа Токсово',\n",
       "       'деревня Новолисино', 'посёлок станции Громово', 'деревня Глинка',\n",
       "       'посёлок Мельниково', 'поселок городского типа Назия',\n",
       "       'деревня Старая Пустошь', 'поселок Коммунары', 'поселок Починок',\n",
       "       'посёлок городского типа Вознесенье', 'деревня Разбегаево',\n",
       "       'посёлок городского типа Рябово', 'поселок Гладкое',\n",
       "       'посёлок при железнодорожной станции Приветнинское',\n",
       "       'поселок Тёсово-4', 'посёлок Жилгородок', 'деревня Бор',\n",
       "       'посёлок Коробицыно', 'деревня Большая Вруда', 'деревня Курковицы',\n",
       "       'посёлок Лисий Нос', 'городской посёлок Советский',\n",
       "       'посёлок Кобралово', 'деревня Суоранда', 'поселок Кобралово',\n",
       "       'поселок городского типа Кондратьево',\n",
       "       'коттеджный поселок Счастье', 'поселок Любань', 'деревня Реброво',\n",
       "       'деревня Зимитицы', 'деревня Тойворово', 'поселок Семиозерье',\n",
       "       'поселок Лесное', 'поселок Совхозный', 'поселок Усть-Луга',\n",
       "       'посёлок Ленинское', 'посёлок Суйда',\n",
       "       'посёлок городского типа Форносово', 'деревня Нижние Осельки',\n",
       "       'посёлок станции Свирь', 'поселок Перово', 'Высоцк',\n",
       "       'поселок Гарболово', 'село Шум', 'поселок Котельский',\n",
       "       'поселок станции Лужайка', 'деревня Большая Пустомержа',\n",
       "       'поселок Красносельское', 'деревня Вахнова Кара', 'деревня Пижма',\n",
       "       'коттеджный поселок Кивеннапа Север', 'поселок Коробицыно',\n",
       "       'поселок Ромашки', 'посёлок Перово', 'деревня Каськово',\n",
       "       'деревня Куровицы', 'посёлок Плоское', 'поселок Сумино',\n",
       "       'поселок городского типа Большая Ижора', 'поселок Кирпичное',\n",
       "       'деревня Ям-Тесово', 'деревня Раздолье', 'деревня Терпилицы',\n",
       "       'посёлок Шугозеро', 'деревня Ваганово', 'поселок Пушное',\n",
       "       'садовое товарищество Садко', 'посёлок Усть-Ижора',\n",
       "       'деревня Выскатка', 'городской посёлок Свирьстрой',\n",
       "       'поселок Громово', 'деревня Кисельня', 'посёлок Старая Малукса',\n",
       "       'деревня Трубников Бор', 'поселок Калитино',\n",
       "       'посёлок Высокоключевой', 'садовое товарищество Приладожский',\n",
       "       'посёлок Пансионат Зелёный Бор', 'деревня Ненимяки',\n",
       "       'поселок Пансионат Зелёный Бор', 'деревня Снегирёвка',\n",
       "       'деревня Рапполово', 'деревня Пустынка', 'поселок Рабитицы',\n",
       "       'деревня Большой Сабск', 'деревня Русско', 'деревня Лупполово',\n",
       "       'деревня Большое Рейзино', 'деревня Малая Романовка',\n",
       "       'поселок Дружноселье', 'поселок Пчевжа', 'поселок Володарское',\n",
       "       'деревня Нижняя', 'коттеджный посёлок Лесное', 'деревня Тихковицы',\n",
       "       'деревня Борисова Грива', 'посёлок Дзержинского'], dtype=object)"
      ]
     },
     "execution_count": 5,
     "metadata": {},
     "output_type": "execute_result"
    }
   ],
   "source": [
    "data['locality_name'].unique()"
   ]
  },
  {
   "cell_type": "markdown",
   "metadata": {},
   "source": [
    "Приведем записи в нижний регистр\n",
    "\n",
    "Заменим все буквы Ё на Е\n",
    "\n",
    "Уберем из названий \"поселок городского типа\" \n",
    "\n",
    "Уберем из названий слово \"поселок\"\n",
    "\n",
    "Уберем из названий \"село\" "
   ]
  },
  {
   "cell_type": "code",
   "execution_count": 6,
   "metadata": {},
   "outputs": [],
   "source": [
    "data['locality_name'] = (\n",
    "    data['locality_name']\n",
    "    .str.lower()\n",
    ")\n",
    "data['locality_name'] = (\n",
    "    data['locality_name']\n",
    "    .str\n",
    "    .replace('ё', 'е')\n",
    ")\n",
    "data['locality_name'] = data['locality_name'].str.replace('поселок городского типа', '', regex=False)\n",
    "data['locality_name'] = data['locality_name'].str.replace('поселок', '', regex=False)\n",
    "data['locality_name'] = data['locality_name'].str.replace('село', '', regex=False)\n",
    "data['locality_name'] = data['locality_name'].str.replace('деревня', '', regex=False)\n",
    "data['locality_name'] = (\n",
    "    data['locality_name']\n",
    "    .str.strip()\n",
    ")"
   ]
  },
  {
   "cell_type": "markdown",
   "metadata": {},
   "source": [
    "Еще раз посмотрим на названия населенных пунктов"
   ]
  },
  {
   "cell_type": "code",
   "execution_count": 7,
   "metadata": {
    "scrolled": true
   },
   "outputs": [
    {
     "data": {
      "text/plain": [
       "array(['санкт-петербург', 'шушары', 'городской  янино-1', 'парголово',\n",
       "       'мурино', 'ломоносов', 'сертолово', 'петергоф', 'пушкин',\n",
       "       'кудрово', 'коммунар', 'колпино', 'красный бор', 'гатчина',\n",
       "       'федоровское', 'выборг', 'кронштадт', 'кировск', 'новое девяткино',\n",
       "       'металлострой', 'лебяжье', 'сиверский', 'молодцово',\n",
       "       'кузьмоловский', 'садовое товарищество новая ропша', 'павловск',\n",
       "       'пикколово', 'всеволожск', 'волхов', 'кингисепп', 'приозерск',\n",
       "       'сестрорецк', 'куттузи', 'аннино', 'ефимовский', 'плодовое',\n",
       "       'заклинье', 'торковичи', 'первомайское', 'красное', 'понтонный',\n",
       "       'сясьстрой', 'старая', 'лесколово', 'новый свет', 'сланцы',\n",
       "       'путилово', 'ивангород', 'шлиссельбург', 'никольское',\n",
       "       'зеленогорск', 'сосновый бор', 'оржицы', 'кальтино', 'романовка',\n",
       "       'бугры', 'рощино', 'кириши', 'луга', 'волосово', 'отрадное',\n",
       "       'павлово', 'оредеж', 'копорье', 'молодежное', 'тихвин', 'победа',\n",
       "       'нурма', 'синявино', 'тосно', 'стрельна', 'бокситогорск',\n",
       "       'александровская', 'лопухинка', 'пикалево', 'терволово',\n",
       "       'советский', 'подпорожье', 'петровское', 'токсово', 'сельцо',\n",
       "       'вырица', 'кипень', 'келози', 'вартемяги', 'тельмана',\n",
       "       'севастьяново', 'городской  большая ижора', nan,\n",
       "       'городской  павлово', 'агалатово', 'новогорелово',\n",
       "       'городской  лесогорский', 'лаголово', 'цвелодубово', 'рахья',\n",
       "       'белогорка', 'заводской', 'городской  новоселье',\n",
       "       'большие колпаны', 'горбунки', 'батово', 'заневка', 'иссад',\n",
       "       'приморск', 'городской  федоровское', 'мистолово', 'новая ладога',\n",
       "       'зимитицы', 'барышево', 'разметелево', 'имени свердлова', 'пеники',\n",
       "       'рябово', 'пудомяги', 'станции корнево', 'низино', 'бегуницы',\n",
       "       'поляны', 'городской  мга', 'елизаветино', 'кузнечное', 'колтуши',\n",
       "       'запорожское', 'гостилицы', 'малое карлино', 'мичуринское',\n",
       "       'имени морозова', 'песочный', 'сосново', 'аро', 'ильичево',\n",
       "       'тайцы', 'малое верево', 'извара', 'станции вещево', 'паша',\n",
       "       'калитино', 'ульяновка', 'чудской бор', 'дубровка', 'мины',\n",
       "       'войсковицы', 'коркино', 'ропша', 'приладожский', 'щеглово',\n",
       "       'гаврилово', 'лодейное поле', 'рабитицы', 'никольский',\n",
       "       'кузьмолово', 'малые колпаны', 'петро-славянка',\n",
       "       'городской  назия', 'репино', 'углово', 'старая малукса',\n",
       "       'садовое товарищество рахья', 'меньково', 'старые бегуницы',\n",
       "       'саперный', 'семрино', 'глажево', 'кобринское', 'гарболово',\n",
       "       'юкки', 'станции приветнинское', 'мануйлово', 'пчева', 'цвылево',\n",
       "       'мельниково', 'пудость', 'усть-луга', 'светогорск', 'любань',\n",
       "       'селезнево', 'каменногорск', 'кривко', 'глебычево', 'парицы',\n",
       "       'жил', 'мга', 'войскорово', 'стеклянный', 'важины',\n",
       "       'мыза-ивановка', 'русско-высоцкое', 'форносово', 'старая ладога',\n",
       "       'житково', 'городской  виллози', 'лампово', 'шпаньково', 'лаврики',\n",
       "       'сумино', 'возрождение', 'старосиверская', 'кикерино',\n",
       "       'старое хинколово', 'пригородный', 'торфяное',\n",
       "       'городской  будогощь', 'суходолье', 'красная долина', 'хапо-ое',\n",
       "       'дружная горка', 'лисий нос', 'яльгелево', 'рождествено',\n",
       "       'старополье', 'левашово', 'сяськелево', 'камышовка',\n",
       "       'садоводческое некоммерческое товарищество лесная поляна',\n",
       "       'хязельки', 'жилгородок', 'ялгино', 'новый учхоз',\n",
       "       'городской  рощино', 'гончарово', 'почап', 'саперное',\n",
       "       'платформа 69-й километр', 'каложицы', 'фалилеево', 'пельгора',\n",
       "       'лесогорский', 'торошковичи', 'белоостров', 'алексеевка',\n",
       "       'серебрянский', 'лукаши', 'тарасово', 'кингисеппский',\n",
       "       'при железнодорожной станции вещево', 'ушаки', 'котлы', 'сижно',\n",
       "       'торосово', 'форт красная горка', 'новолисино', 'станции громово',\n",
       "       'глинка', 'назия', 'старая пустошь', 'коммунары', 'починок',\n",
       "       'вознесенье', 'разбегаево', 'гладкое',\n",
       "       'при железнодорожной станции приветнинское', 'тесово-4', 'бор',\n",
       "       'коробицыно', 'большая вруда', 'курковицы', 'городской  советский',\n",
       "       'кобралово', 'суоранда', 'кондратьево', 'коттеджный  счастье',\n",
       "       'реброво', 'тойворово', 'семиозерье', 'лесное', 'совхозный',\n",
       "       'ленинское', 'суйда', 'нижние осельки', 'станции свирь', 'перово',\n",
       "       'высоцк', 'шум', 'котельский', 'станции лужайка',\n",
       "       'большая пустомержа', 'красносельское', 'вахнова кара', 'пижма',\n",
       "       'коттеджный  кивеннапа север', 'ромашки', 'каськово', 'куровицы',\n",
       "       'плоское', 'большая ижора', 'кирпичное', 'ям-тесово', 'раздолье',\n",
       "       'терпилицы', 'шугозеро', 'ваганово', 'пушное',\n",
       "       'садовое товарищество садко', 'усть-ижора', 'выскатка',\n",
       "       'городской  свирьстрой', 'громово', 'кисельня', 'трубников бор',\n",
       "       'высокоключевой', 'садовое товарищество приладожский',\n",
       "       'пансионат зеленый бор', 'ненимяки', 'снегиревка', 'рапполово',\n",
       "       'пустынка', 'большой сабск', 'русско', 'лупполово',\n",
       "       'большое рейзино', 'малая романовка', 'дружноселье', 'пчевжа',\n",
       "       'володарское', 'нижняя', 'коттеджный  лесное', 'тихковицы',\n",
       "       'борисова грива', 'дзержинского'], dtype=object)"
      ]
     },
     "execution_count": 7,
     "metadata": {},
     "output_type": "execute_result"
    }
   ],
   "source": [
    "data['locality_name'].unique()"
   ]
  },
  {
   "cell_type": "markdown",
   "metadata": {},
   "source": [
    "#### Работа с явными дубликатами"
   ]
  },
  {
   "cell_type": "markdown",
   "metadata": {},
   "source": [
    "Проверим данные на наличие дублирующихся обьявлений"
   ]
  },
  {
   "cell_type": "code",
   "execution_count": 8,
   "metadata": {},
   "outputs": [
    {
     "data": {
      "text/plain": [
       "0"
      ]
     },
     "execution_count": 8,
     "metadata": {},
     "output_type": "execute_result"
    }
   ],
   "source": [
    "data.duplicated().sum()"
   ]
  },
  {
   "cell_type": "markdown",
   "metadata": {},
   "source": [
    "#### Обработаем пропуски"
   ]
  },
  {
   "cell_type": "markdown",
   "metadata": {
    "id": "7v3vAeTuAwb-"
   },
   "source": [
    "##### Посчитаем количество пропусков в каждом столбце"
   ]
  },
  {
   "cell_type": "code",
   "execution_count": 9,
   "metadata": {},
   "outputs": [
    {
     "name": "stdout",
     "output_type": "stream",
     "text": [
      "Пропуски в каждом столбце\n",
      "is_apartment            20924\n",
      "parks_nearest           15620\n",
      "ponds_nearest           14589\n",
      "balcony                 11519\n",
      "ceiling_height           9195\n",
      "airports_nearest         5542\n",
      "cityCenters_nearest      5519\n",
      "ponds_around3000         5518\n",
      "parks_around3000         5518\n",
      "days_exposition          3181\n",
      "kitchen_area             2278\n",
      "living_area              1903\n",
      "floors_total               86\n",
      "locality_name              49\n",
      "total_images                0\n",
      "last_price                  0\n",
      "studio                      0\n",
      "floor                       0\n",
      "rooms                       0\n",
      "first_day_exposition        0\n",
      "total_area                  0\n",
      "open_plan                   0\n",
      "dtype: int64\n"
     ]
    }
   ],
   "source": [
    "print(\"Пропуски в каждом столбце\")\n",
    "print(data.isna().sum().sort_values(ascending = False))"
   ]
  },
  {
   "cell_type": "code",
   "execution_count": 10,
   "metadata": {},
   "outputs": [
    {
     "name": "stdout",
     "output_type": "stream",
     "text": [
      "Доля пропусков в каждом столбце\n",
      "is_apartment            88.290645\n",
      "parks_nearest           65.909954\n",
      "ponds_nearest           61.559559\n",
      "balcony                 48.605426\n",
      "ceiling_height          38.799105\n",
      "airports_nearest        23.384953\n",
      "cityCenters_nearest     23.287902\n",
      "ponds_around3000        23.283683\n",
      "parks_around3000        23.283683\n",
      "days_exposition         13.422507\n",
      "kitchen_area             9.612220\n",
      "living_area              8.029875\n",
      "floors_total             0.362885\n",
      "locality_name            0.206760\n",
      "total_images             0.000000\n",
      "last_price               0.000000\n",
      "studio                   0.000000\n",
      "floor                    0.000000\n",
      "rooms                    0.000000\n",
      "first_day_exposition     0.000000\n",
      "total_area               0.000000\n",
      "open_plan                0.000000\n",
      "dtype: float64\n"
     ]
    }
   ],
   "source": [
    "print(\"Доля пропусков в каждом столбце\")\n",
    "print((data.isna().mean()*100).sort_values(ascending = False))"
   ]
  },
  {
   "cell_type": "markdown",
   "metadata": {},
   "source": [
    "##### is_apartment"
   ]
  },
  {
   "cell_type": "markdown",
   "metadata": {},
   "source": [
    "Пропуски в столбце **is_apartment** скорее всего обусловлены тем, что пользователи не стали указывать, что помещение не является апартаментами, а только отмечали **True**, если является"
   ]
  },
  {
   "cell_type": "code",
   "execution_count": 11,
   "metadata": {},
   "outputs": [
    {
     "data": {
      "text/plain": [
       "array([nan, False, True], dtype=object)"
      ]
     },
     "execution_count": 11,
     "metadata": {},
     "output_type": "execute_result"
    }
   ],
   "source": [
    "data['is_apartment'].unique()"
   ]
  },
  {
   "cell_type": "markdown",
   "metadata": {},
   "source": [
    "Заполним пропуски значениями **False**"
   ]
  },
  {
   "cell_type": "code",
   "execution_count": 12,
   "metadata": {},
   "outputs": [],
   "source": [
    "data['is_apartment'] = data['is_apartment'].fillna(False)"
   ]
  },
  {
   "cell_type": "markdown",
   "metadata": {},
   "source": [
    "Проверим, остались ли пропуски"
   ]
  },
  {
   "cell_type": "code",
   "execution_count": 13,
   "metadata": {},
   "outputs": [
    {
     "data": {
      "text/plain": [
       "0"
      ]
     },
     "execution_count": 13,
     "metadata": {},
     "output_type": "execute_result"
    }
   ],
   "source": [
    "data['is_apartment'].isna().sum()"
   ]
  },
  {
   "cell_type": "markdown",
   "metadata": {},
   "source": [
    "##### balcony"
   ]
  },
  {
   "cell_type": "markdown",
   "metadata": {},
   "source": [
    "Пропуски столбца **balcony** скорее всего обусловлены тем, что пользователь не стали указывать отсутствие балкона, и просто не заполнили поле\n",
    "\n",
    "Заполним пропуски начениями **0**"
   ]
  },
  {
   "cell_type": "code",
   "execution_count": 14,
   "metadata": {},
   "outputs": [],
   "source": [
    "data['balcony'] = data['balcony'].fillna(0)"
   ]
  },
  {
   "cell_type": "markdown",
   "metadata": {},
   "source": [
    "Проверим, остались ли пропуски"
   ]
  },
  {
   "cell_type": "code",
   "execution_count": 15,
   "metadata": {},
   "outputs": [
    {
     "data": {
      "text/plain": [
       "0"
      ]
     },
     "execution_count": 15,
     "metadata": {},
     "output_type": "execute_result"
    }
   ],
   "source": [
    "data['balcony'].isna().sum()"
   ]
  },
  {
   "cell_type": "markdown",
   "metadata": {},
   "source": [
    "##### locality_name\n"
   ]
  },
  {
   "cell_type": "markdown",
   "metadata": {},
   "source": [
    "Удалим строки о квартирах с неизвестной локацией"
   ]
  },
  {
   "cell_type": "code",
   "execution_count": 16,
   "metadata": {},
   "outputs": [],
   "source": [
    "data = data.dropna(subset = ['locality_name']).reset_index(drop=True)"
   ]
  },
  {
   "cell_type": "markdown",
   "metadata": {},
   "source": [
    "##### ceiling_height"
   ]
  },
  {
   "cell_type": "markdown",
   "metadata": {},
   "source": [
    "Выведем на экран 10 сетей квартир с самыми высокими потолками"
   ]
  },
  {
   "cell_type": "code",
   "execution_count": 17,
   "metadata": {
    "scrolled": true
   },
   "outputs": [
    {
     "data": {
      "text/plain": [
       "22822    100.0\n",
       "3144      32.0\n",
       "22291     32.0\n",
       "21334     27.5\n",
       "17825     27.0\n",
       "21780     27.0\n",
       "10755     27.0\n",
       "5238      27.0\n",
       "5797      27.0\n",
       "20440     27.0\n",
       "Name: ceiling_height, dtype: float64"
      ]
     },
     "execution_count": 17,
     "metadata": {},
     "output_type": "execute_result"
    }
   ],
   "source": [
    "data['ceiling_height'].sort_values(ascending = False).head(10)"
   ]
  },
  {
   "cell_type": "markdown",
   "metadata": {},
   "source": [
    "Заметим, что вряд ли квартиры с таким потолками существуют и скорее всего в данных закралась ошибка\n",
    "\n",
    "Логично предположить, что на самом деле это вещественные значения в 10 раз меньше"
   ]
  },
  {
   "cell_type": "code",
   "execution_count": 18,
   "metadata": {},
   "outputs": [],
   "source": [
    "data['ceiling_height'] = data['ceiling_height'].apply(lambda x: x / 10 if x > 10 else x)"
   ]
  },
  {
   "cell_type": "code",
   "execution_count": 19,
   "metadata": {},
   "outputs": [
    {
     "data": {
      "text/plain": [
       "22822    10.0\n",
       "5853      8.3\n",
       "17412     8.0\n",
       "15717     8.0\n",
       "3470      8.0\n",
       "20227     6.0\n",
       "21186     5.8\n",
       "1387      5.6\n",
       "7565      5.5\n",
       "1026      5.3\n",
       "Name: ceiling_height, dtype: float64"
      ]
     },
     "execution_count": 19,
     "metadata": {},
     "output_type": "execute_result"
    }
   ],
   "source": [
    "data['ceiling_height'].sort_values(ascending = False).head(10)"
   ]
  },
  {
   "cell_type": "markdown",
   "metadata": {},
   "source": [
    "Посчитаем для каждой локации количество пропусков и количество квартир в этой локации"
   ]
  },
  {
   "cell_type": "code",
   "execution_count": 20,
   "metadata": {},
   "outputs": [
    {
     "data": {
      "text/html": [
       "<div>\n",
       "<style scoped>\n",
       "    .dataframe tbody tr th:only-of-type {\n",
       "        vertical-align: middle;\n",
       "    }\n",
       "\n",
       "    .dataframe tbody tr th {\n",
       "        vertical-align: top;\n",
       "    }\n",
       "\n",
       "    .dataframe thead th {\n",
       "        text-align: right;\n",
       "    }\n",
       "</style>\n",
       "<table border=\"1\" class=\"dataframe\">\n",
       "  <thead>\n",
       "    <tr style=\"text-align: right;\">\n",
       "      <th></th>\n",
       "      <th>blanks</th>\n",
       "      <th>flat_count</th>\n",
       "    </tr>\n",
       "    <tr>\n",
       "      <th>locality_name</th>\n",
       "      <th></th>\n",
       "      <th></th>\n",
       "    </tr>\n",
       "  </thead>\n",
       "  <tbody>\n",
       "    <tr>\n",
       "      <th>агалатово</th>\n",
       "      <td>2.0</td>\n",
       "      <td>2</td>\n",
       "    </tr>\n",
       "    <tr>\n",
       "      <th>александровская</th>\n",
       "      <td>1.0</td>\n",
       "      <td>1</td>\n",
       "    </tr>\n",
       "    <tr>\n",
       "      <th>алексеевка</th>\n",
       "      <td>1.0</td>\n",
       "      <td>0</td>\n",
       "    </tr>\n",
       "    <tr>\n",
       "      <th>аннино</th>\n",
       "      <td>7.0</td>\n",
       "      <td>9</td>\n",
       "    </tr>\n",
       "    <tr>\n",
       "      <th>аро</th>\n",
       "      <td>3.0</td>\n",
       "      <td>0</td>\n",
       "    </tr>\n",
       "    <tr>\n",
       "      <th>...</th>\n",
       "      <td>...</td>\n",
       "      <td>...</td>\n",
       "    </tr>\n",
       "    <tr>\n",
       "      <th>щеглово</th>\n",
       "      <td>17.0</td>\n",
       "      <td>7</td>\n",
       "    </tr>\n",
       "    <tr>\n",
       "      <th>юкки</th>\n",
       "      <td>1.0</td>\n",
       "      <td>4</td>\n",
       "    </tr>\n",
       "    <tr>\n",
       "      <th>ялгино</th>\n",
       "      <td>0.0</td>\n",
       "      <td>1</td>\n",
       "    </tr>\n",
       "    <tr>\n",
       "      <th>яльгелево</th>\n",
       "      <td>2.0</td>\n",
       "      <td>4</td>\n",
       "    </tr>\n",
       "    <tr>\n",
       "      <th>ям-тесово</th>\n",
       "      <td>2.0</td>\n",
       "      <td>0</td>\n",
       "    </tr>\n",
       "  </tbody>\n",
       "</table>\n",
       "<p>319 rows × 2 columns</p>\n",
       "</div>"
      ],
      "text/plain": [
       "                 blanks  flat_count\n",
       "locality_name                      \n",
       "агалатово           2.0           2\n",
       "александровская     1.0           1\n",
       "алексеевка          1.0           0\n",
       "аннино              7.0           9\n",
       "аро                 3.0           0\n",
       "...                 ...         ...\n",
       "щеглово            17.0           7\n",
       "юкки                1.0           4\n",
       "ялгино              0.0           1\n",
       "яльгелево           2.0           4\n",
       "ям-тесово           2.0           0\n",
       "\n",
       "[319 rows x 2 columns]"
      ]
     },
     "execution_count": 20,
     "metadata": {},
     "output_type": "execute_result"
    }
   ],
   "source": [
    "location_stats = data.pivot_table(\n",
    "    index='locality_name',\n",
    "    values='ceiling_height',\n",
    "    aggfunc=[lambda x: x.isna().sum(), 'count']\n",
    ")\n",
    "location_stats.columns = ['blanks', 'flat_count']\n",
    "location_stats"
   ]
  },
  {
   "cell_type": "markdown",
   "metadata": {},
   "source": [
    "Если в локации невозможно посчитать медиану из-за отсутствия данных, заполним пропуски медианой для всех данных"
   ]
  },
  {
   "cell_type": "markdown",
   "metadata": {},
   "source": [
    "Заполним пропуски в этом столбце медианным значением для каждой локации"
   ]
  },
  {
   "cell_type": "code",
   "execution_count": 21,
   "metadata": {},
   "outputs": [],
   "source": [
    "for loc in data['locality_name'].unique():\n",
    "    if (location_stats.loc[loc, 'flat_count'] == 0):\n",
    "        data.loc[(data['locality_name'] == loc) & (data['ceiling_height'].isna()), 'ceiling_height'] = data['ceiling_height'].median()\n",
    "    else:\n",
    "        data.loc[(data['locality_name'] == loc) & (data['ceiling_height'].isna()), 'ceiling_height'] = data.loc[(data['locality_name'] == loc), 'ceiling_height'].median()"
   ]
  },
  {
   "cell_type": "markdown",
   "metadata": {},
   "source": [
    "##### Для заполнения пропусоков с столбцах kitchen_area и living_area найдем какое отношение в среднем составляет их площадь от общей площади квартиры"
   ]
  },
  {
   "cell_type": "markdown",
   "metadata": {},
   "source": [
    "Создадим новые столбцы со значением отношения жилой площади и кухни "
   ]
  },
  {
   "cell_type": "code",
   "execution_count": 22,
   "metadata": {},
   "outputs": [],
   "source": [
    "data['living_ratio'] = data['living_area'] / data['total_area']\n",
    "data['kitchen_ratio'] = data['kitchen_area'] / data['total_area']\n",
    "ratio_data = data.loc[(data['living_area'] != 0) & (data['kitchen_area'] != 0)]                                                    "
   ]
  },
  {
   "cell_type": "markdown",
   "metadata": {},
   "source": [
    "Найдем медиану медиан отношений для квартир с одинаковым количеством комнат"
   ]
  },
  {
   "cell_type": "code",
   "execution_count": 23,
   "metadata": {},
   "outputs": [
    {
     "data": {
      "text/plain": [
       "kitchen_ratio    0.102444\n",
       "living_ratio     0.659789\n",
       "dtype: float64"
      ]
     },
     "execution_count": 23,
     "metadata": {},
     "output_type": "execute_result"
    }
   ],
   "source": [
    "ratio = ratio_data.pivot_table(index = 'rooms', values = ['living_ratio', 'kitchen_ratio'], aggfunc = 'median').median()\n",
    "ratio"
   ]
  },
  {
   "cell_type": "markdown",
   "metadata": {},
   "source": [
    "#####  kitchen_area"
   ]
  },
  {
   "cell_type": "markdown",
   "metadata": {},
   "source": [
    "Заполним пропуски в этом столбце найденым медианным значением\n"
   ]
  },
  {
   "cell_type": "code",
   "execution_count": 24,
   "metadata": {},
   "outputs": [],
   "source": [
    "data.loc[data['kitchen_area'].isna(), 'kitchen_area'] = data.loc[data['kitchen_area'].isna(), 'total_area'] * ratio['kitchen_ratio']"
   ]
  },
  {
   "cell_type": "markdown",
   "metadata": {},
   "source": [
    "##### living_area"
   ]
  },
  {
   "cell_type": "markdown",
   "metadata": {},
   "source": [
    "Заполним пропуски в этом столбце найденым медианным значением"
   ]
  },
  {
   "cell_type": "code",
   "execution_count": 25,
   "metadata": {},
   "outputs": [],
   "source": [
    "data.loc[data['living_area'].isna(), 'living_area'] = data.loc[data['living_area'].isna(), 'total_area'] * ratio['living_ratio']"
   ]
  },
  {
   "cell_type": "markdown",
   "metadata": {},
   "source": [
    "#### Изменим типы данных столбцов"
   ]
  },
  {
   "cell_type": "markdown",
   "metadata": {},
   "source": [
    "##### first_day_exposition"
   ]
  },
  {
   "cell_type": "markdown",
   "metadata": {},
   "source": [
    "В столбце **first_day_exposition** изменим тип данных на DateTime для более удобного использования"
   ]
  },
  {
   "cell_type": "code",
   "execution_count": 26,
   "metadata": {},
   "outputs": [
    {
     "data": {
      "text/plain": [
       "0       2019-03-07\n",
       "1       2018-12-04\n",
       "2       2015-08-20\n",
       "3       2015-07-24\n",
       "4       2018-06-19\n",
       "           ...    \n",
       "23645   2017-03-21\n",
       "23646   2018-01-15\n",
       "23647   2018-02-11\n",
       "23648   2017-03-28\n",
       "23649   2017-07-21\n",
       "Name: first_day_exposition, Length: 23650, dtype: datetime64[ns]"
      ]
     },
     "execution_count": 26,
     "metadata": {},
     "output_type": "execute_result"
    }
   ],
   "source": [
    "data['first_day_exposition'] = pd.to_datetime(data['first_day_exposition'], format='%Y-%m-%dT%H:%M:%S')\n",
    "data['first_day_exposition']"
   ]
  },
  {
   "cell_type": "markdown",
   "metadata": {},
   "source": [
    "##### is_apartment"
   ]
  },
  {
   "cell_type": "markdown",
   "metadata": {},
   "source": [
    "Значения в столбце должны принимать значения *bool*, указывая является ли помещение апартаментами или нет"
   ]
  },
  {
   "cell_type": "code",
   "execution_count": 27,
   "metadata": {},
   "outputs": [
    {
     "data": {
      "text/plain": [
       "array([False,  True])"
      ]
     },
     "execution_count": 27,
     "metadata": {},
     "output_type": "execute_result"
    }
   ],
   "source": [
    "data['is_apartment'].unique()"
   ]
  },
  {
   "cell_type": "markdown",
   "metadata": {},
   "source": [
    "Еще раз проверим на соответствие типов данных"
   ]
  },
  {
   "cell_type": "code",
   "execution_count": 28,
   "metadata": {
    "scrolled": true
   },
   "outputs": [
    {
     "name": "stdout",
     "output_type": "stream",
     "text": [
      "<class 'pandas.core.frame.DataFrame'>\n",
      "RangeIndex: 23650 entries, 0 to 23649\n",
      "Data columns (total 24 columns):\n",
      " #   Column                Non-Null Count  Dtype         \n",
      "---  ------                --------------  -----         \n",
      " 0   total_images          23650 non-null  int64         \n",
      " 1   last_price            23650 non-null  float64       \n",
      " 2   total_area            23650 non-null  float64       \n",
      " 3   first_day_exposition  23650 non-null  datetime64[ns]\n",
      " 4   rooms                 23650 non-null  int64         \n",
      " 5   ceiling_height        23650 non-null  float64       \n",
      " 6   floors_total          23565 non-null  float64       \n",
      " 7   living_area           23650 non-null  float64       \n",
      " 8   floor                 23650 non-null  int64         \n",
      " 9   is_apartment          23650 non-null  bool          \n",
      " 10  studio                23650 non-null  bool          \n",
      " 11  open_plan             23650 non-null  bool          \n",
      " 12  kitchen_area          23650 non-null  float64       \n",
      " 13  balcony               23650 non-null  float64       \n",
      " 14  locality_name         23650 non-null  object        \n",
      " 15  airports_nearest      18116 non-null  float64       \n",
      " 16  cityCenters_nearest   18139 non-null  float64       \n",
      " 17  parks_around3000      18140 non-null  float64       \n",
      " 18  parks_nearest         8064 non-null   float64       \n",
      " 19  ponds_around3000      18140 non-null  float64       \n",
      " 20  ponds_nearest         9085 non-null   float64       \n",
      " 21  days_exposition       20470 non-null  float64       \n",
      " 22  living_ratio          21752 non-null  float64       \n",
      " 23  kitchen_ratio         21381 non-null  float64       \n",
      "dtypes: bool(3), datetime64[ns](1), float64(16), int64(3), object(1)\n",
      "memory usage: 3.9+ MB\n"
     ]
    }
   ],
   "source": [
    "data.info()"
   ]
  },
  {
   "cell_type": "markdown",
   "metadata": {
    "id": "QCcvyY6YAwb-"
   },
   "source": [
    "### Добавьте в таблицу новые столбцы"
   ]
  },
  {
   "cell_type": "markdown",
   "metadata": {
    "id": "Z8eJek3IAwb-"
   },
   "source": [
    "Добавим столбец с ценой квадратного метра для каждой строки"
   ]
  },
  {
   "cell_type": "code",
   "execution_count": 29,
   "metadata": {},
   "outputs": [],
   "source": [
    "data['m_price'] = round(data['last_price'] / data['total_area'], 2)"
   ]
  },
  {
   "cell_type": "markdown",
   "metadata": {},
   "source": [
    "Добавим столбец с днем недели публикации обьявления"
   ]
  },
  {
   "cell_type": "code",
   "execution_count": 30,
   "metadata": {},
   "outputs": [],
   "source": [
    "data['day_of_week'] = data['first_day_exposition'].dt.dayofweek"
   ]
  },
  {
   "cell_type": "markdown",
   "metadata": {},
   "source": [
    "Добавим столбец с названием месяца публикации обьявления"
   ]
  },
  {
   "cell_type": "code",
   "execution_count": 31,
   "metadata": {},
   "outputs": [
    {
     "name": "stdout",
     "output_type": "stream",
     "text": [
      "<class 'pandas.core.frame.DataFrame'>\n",
      "RangeIndex: 23650 entries, 0 to 23649\n",
      "Data columns (total 27 columns):\n",
      " #   Column                Non-Null Count  Dtype         \n",
      "---  ------                --------------  -----         \n",
      " 0   total_images          23650 non-null  int64         \n",
      " 1   last_price            23650 non-null  float64       \n",
      " 2   total_area            23650 non-null  float64       \n",
      " 3   first_day_exposition  23650 non-null  datetime64[ns]\n",
      " 4   rooms                 23650 non-null  int64         \n",
      " 5   ceiling_height        23650 non-null  float64       \n",
      " 6   floors_total          23565 non-null  float64       \n",
      " 7   living_area           23650 non-null  float64       \n",
      " 8   floor                 23650 non-null  int64         \n",
      " 9   is_apartment          23650 non-null  bool          \n",
      " 10  studio                23650 non-null  bool          \n",
      " 11  open_plan             23650 non-null  bool          \n",
      " 12  kitchen_area          23650 non-null  float64       \n",
      " 13  balcony               23650 non-null  float64       \n",
      " 14  locality_name         23650 non-null  object        \n",
      " 15  airports_nearest      18116 non-null  float64       \n",
      " 16  cityCenters_nearest   18139 non-null  float64       \n",
      " 17  parks_around3000      18140 non-null  float64       \n",
      " 18  parks_nearest         8064 non-null   float64       \n",
      " 19  ponds_around3000      18140 non-null  float64       \n",
      " 20  ponds_nearest         9085 non-null   float64       \n",
      " 21  days_exposition       20470 non-null  float64       \n",
      " 22  living_ratio          21752 non-null  float64       \n",
      " 23  kitchen_ratio         21381 non-null  float64       \n",
      " 24  m_price               23650 non-null  float64       \n",
      " 25  day_of_week           23650 non-null  int64         \n",
      " 26  month                 23650 non-null  int64         \n",
      "dtypes: bool(3), datetime64[ns](1), float64(17), int64(5), object(1)\n",
      "memory usage: 4.4+ MB\n"
     ]
    }
   ],
   "source": [
    "data['month'] = pd.DatetimeIndex(data['first_day_exposition']).month\n",
    "data.info()"
   ]
  },
  {
   "cell_type": "markdown",
   "metadata": {},
   "source": [
    "Добавим столбец с годом публикации обьявления"
   ]
  },
  {
   "cell_type": "code",
   "execution_count": 32,
   "metadata": {},
   "outputs": [],
   "source": [
    "data['year'] = pd.DatetimeIndex(data['first_day_exposition']).year"
   ]
  },
  {
   "cell_type": "markdown",
   "metadata": {},
   "source": [
    "Добавим столбец с типом этажа квартиры\n",
    "\n",
    "Для этого создадим функцию для категоризации типа этажа"
   ]
  },
  {
   "cell_type": "code",
   "execution_count": 33,
   "metadata": {},
   "outputs": [],
   "source": [
    "def floor_type(row):\n",
    "    max_floor = row['floors_total']\n",
    "    floor = row['floor']\n",
    "    if floor == 1:\n",
    "        return 'первый'\n",
    "    elif max_floor == floor:\n",
    "        return 'последний'\n",
    "    return 'другой'"
   ]
  },
  {
   "cell_type": "code",
   "execution_count": 34,
   "metadata": {},
   "outputs": [],
   "source": [
    "data['floor_type'] = data.apply(floor_type, axis = 1)"
   ]
  },
  {
   "cell_type": "markdown",
   "metadata": {},
   "source": [
    "Добавим столбец с расстоянием до центра города в километрах"
   ]
  },
  {
   "cell_type": "code",
   "execution_count": 35,
   "metadata": {},
   "outputs": [],
   "source": [
    "data['center_km'] = round(data['cityCenters_nearest'] / 1000)"
   ]
  },
  {
   "cell_type": "markdown",
   "metadata": {},
   "source": [
    "Посмотрим, как теперь выглядит наша таблица"
   ]
  },
  {
   "cell_type": "code",
   "execution_count": 36,
   "metadata": {
    "scrolled": true
   },
   "outputs": [
    {
     "data": {
      "text/html": [
       "<div>\n",
       "<style scoped>\n",
       "    .dataframe tbody tr th:only-of-type {\n",
       "        vertical-align: middle;\n",
       "    }\n",
       "\n",
       "    .dataframe tbody tr th {\n",
       "        vertical-align: top;\n",
       "    }\n",
       "\n",
       "    .dataframe thead th {\n",
       "        text-align: right;\n",
       "    }\n",
       "</style>\n",
       "<table border=\"1\" class=\"dataframe\">\n",
       "  <thead>\n",
       "    <tr style=\"text-align: right;\">\n",
       "      <th></th>\n",
       "      <th>total_images</th>\n",
       "      <th>last_price</th>\n",
       "      <th>total_area</th>\n",
       "      <th>first_day_exposition</th>\n",
       "      <th>rooms</th>\n",
       "      <th>ceiling_height</th>\n",
       "      <th>floors_total</th>\n",
       "      <th>living_area</th>\n",
       "      <th>floor</th>\n",
       "      <th>is_apartment</th>\n",
       "      <th>...</th>\n",
       "      <th>ponds_nearest</th>\n",
       "      <th>days_exposition</th>\n",
       "      <th>living_ratio</th>\n",
       "      <th>kitchen_ratio</th>\n",
       "      <th>m_price</th>\n",
       "      <th>day_of_week</th>\n",
       "      <th>month</th>\n",
       "      <th>year</th>\n",
       "      <th>floor_type</th>\n",
       "      <th>center_km</th>\n",
       "    </tr>\n",
       "  </thead>\n",
       "  <tbody>\n",
       "    <tr>\n",
       "      <th>0</th>\n",
       "      <td>20</td>\n",
       "      <td>13000000.0</td>\n",
       "      <td>108.0</td>\n",
       "      <td>2019-03-07</td>\n",
       "      <td>3</td>\n",
       "      <td>2.70</td>\n",
       "      <td>16.0</td>\n",
       "      <td>51.000000</td>\n",
       "      <td>8</td>\n",
       "      <td>False</td>\n",
       "      <td>...</td>\n",
       "      <td>755.0</td>\n",
       "      <td>NaN</td>\n",
       "      <td>0.472222</td>\n",
       "      <td>0.231481</td>\n",
       "      <td>120370.37</td>\n",
       "      <td>3</td>\n",
       "      <td>3</td>\n",
       "      <td>2019</td>\n",
       "      <td>другой</td>\n",
       "      <td>16.0</td>\n",
       "    </tr>\n",
       "    <tr>\n",
       "      <th>1</th>\n",
       "      <td>7</td>\n",
       "      <td>3350000.0</td>\n",
       "      <td>40.4</td>\n",
       "      <td>2018-12-04</td>\n",
       "      <td>1</td>\n",
       "      <td>2.63</td>\n",
       "      <td>11.0</td>\n",
       "      <td>18.600000</td>\n",
       "      <td>1</td>\n",
       "      <td>False</td>\n",
       "      <td>...</td>\n",
       "      <td>NaN</td>\n",
       "      <td>81.0</td>\n",
       "      <td>0.460396</td>\n",
       "      <td>0.272277</td>\n",
       "      <td>82920.79</td>\n",
       "      <td>1</td>\n",
       "      <td>12</td>\n",
       "      <td>2018</td>\n",
       "      <td>первый</td>\n",
       "      <td>19.0</td>\n",
       "    </tr>\n",
       "    <tr>\n",
       "      <th>2</th>\n",
       "      <td>10</td>\n",
       "      <td>5196000.0</td>\n",
       "      <td>56.0</td>\n",
       "      <td>2015-08-20</td>\n",
       "      <td>2</td>\n",
       "      <td>2.70</td>\n",
       "      <td>5.0</td>\n",
       "      <td>34.300000</td>\n",
       "      <td>4</td>\n",
       "      <td>False</td>\n",
       "      <td>...</td>\n",
       "      <td>574.0</td>\n",
       "      <td>558.0</td>\n",
       "      <td>0.612500</td>\n",
       "      <td>0.148214</td>\n",
       "      <td>92785.71</td>\n",
       "      <td>3</td>\n",
       "      <td>8</td>\n",
       "      <td>2015</td>\n",
       "      <td>другой</td>\n",
       "      <td>14.0</td>\n",
       "    </tr>\n",
       "    <tr>\n",
       "      <th>3</th>\n",
       "      <td>0</td>\n",
       "      <td>64900000.0</td>\n",
       "      <td>159.0</td>\n",
       "      <td>2015-07-24</td>\n",
       "      <td>3</td>\n",
       "      <td>2.70</td>\n",
       "      <td>14.0</td>\n",
       "      <td>104.906466</td>\n",
       "      <td>9</td>\n",
       "      <td>False</td>\n",
       "      <td>...</td>\n",
       "      <td>234.0</td>\n",
       "      <td>424.0</td>\n",
       "      <td>NaN</td>\n",
       "      <td>NaN</td>\n",
       "      <td>408176.10</td>\n",
       "      <td>4</td>\n",
       "      <td>7</td>\n",
       "      <td>2015</td>\n",
       "      <td>другой</td>\n",
       "      <td>7.0</td>\n",
       "    </tr>\n",
       "    <tr>\n",
       "      <th>4</th>\n",
       "      <td>2</td>\n",
       "      <td>10000000.0</td>\n",
       "      <td>100.0</td>\n",
       "      <td>2018-06-19</td>\n",
       "      <td>2</td>\n",
       "      <td>3.03</td>\n",
       "      <td>14.0</td>\n",
       "      <td>32.000000</td>\n",
       "      <td>13</td>\n",
       "      <td>False</td>\n",
       "      <td>...</td>\n",
       "      <td>48.0</td>\n",
       "      <td>121.0</td>\n",
       "      <td>0.320000</td>\n",
       "      <td>0.410000</td>\n",
       "      <td>100000.00</td>\n",
       "      <td>1</td>\n",
       "      <td>6</td>\n",
       "      <td>2018</td>\n",
       "      <td>другой</td>\n",
       "      <td>8.0</td>\n",
       "    </tr>\n",
       "  </tbody>\n",
       "</table>\n",
       "<p>5 rows × 30 columns</p>\n",
       "</div>"
      ],
      "text/plain": [
       "   total_images  last_price  total_area first_day_exposition  rooms  \\\n",
       "0            20  13000000.0       108.0           2019-03-07      3   \n",
       "1             7   3350000.0        40.4           2018-12-04      1   \n",
       "2            10   5196000.0        56.0           2015-08-20      2   \n",
       "3             0  64900000.0       159.0           2015-07-24      3   \n",
       "4             2  10000000.0       100.0           2018-06-19      2   \n",
       "\n",
       "   ceiling_height  floors_total  living_area  floor  is_apartment  ...  \\\n",
       "0            2.70          16.0    51.000000      8         False  ...   \n",
       "1            2.63          11.0    18.600000      1         False  ...   \n",
       "2            2.70           5.0    34.300000      4         False  ...   \n",
       "3            2.70          14.0   104.906466      9         False  ...   \n",
       "4            3.03          14.0    32.000000     13         False  ...   \n",
       "\n",
       "   ponds_nearest  days_exposition  living_ratio  kitchen_ratio    m_price  \\\n",
       "0          755.0              NaN      0.472222       0.231481  120370.37   \n",
       "1            NaN             81.0      0.460396       0.272277   82920.79   \n",
       "2          574.0            558.0      0.612500       0.148214   92785.71   \n",
       "3          234.0            424.0           NaN            NaN  408176.10   \n",
       "4           48.0            121.0      0.320000       0.410000  100000.00   \n",
       "\n",
       "   day_of_week  month  year  floor_type  center_km  \n",
       "0            3      3  2019      другой       16.0  \n",
       "1            1     12  2018      первый       19.0  \n",
       "2            3      8  2015      другой       14.0  \n",
       "3            4      7  2015      другой        7.0  \n",
       "4            1      6  2018      другой        8.0  \n",
       "\n",
       "[5 rows x 30 columns]"
      ]
     },
     "execution_count": 36,
     "metadata": {},
     "output_type": "execute_result"
    }
   ],
   "source": [
    "data.head()"
   ]
  },
  {
   "cell_type": "markdown",
   "metadata": {},
   "source": [
    "### Проведите исследовательский анализ данных"
   ]
  },
  {
   "cell_type": "markdown",
   "metadata": {},
   "source": [
    "#### last_price"
   ]
  },
  {
   "cell_type": "markdown",
   "metadata": {},
   "source": [
    "Построим гистограмму цен на квартиры"
   ]
  },
  {
   "cell_type": "code",
   "execution_count": 37,
   "metadata": {},
   "outputs": [
    {
     "data": {
      "text/plain": [
       "<function matplotlib.pyplot.show(close=None, block=None)>"
      ]
     },
     "execution_count": 37,
     "metadata": {},
     "output_type": "execute_result"
    },
    {
     "data": {
      "image/png": "[encoded data removed]",
      "text/plain": [
       "<Figure size 720x360 with 1 Axes>"
      ]
     },
     "metadata": {
      "needs_background": "light"
     },
     "output_type": "display_data"
    }
   ],
   "source": [
    "data['last_price'].hist(bins = 100, figsize = (10, 5))\n",
    "plt.ticklabel_format(style='plain',axis='x')\n",
    "plt.show"
   ]
  },
  {
   "cell_type": "markdown",
   "metadata": {},
   "source": [
    "Можно исключить слишком большие значения и посмотреть на остальные. "
   ]
  },
  {
   "cell_type": "code",
   "execution_count": 38,
   "metadata": {},
   "outputs": [
    {
     "data": {
      "text/plain": [
       "<function matplotlib.pyplot.show(close=None, block=None)>"
      ]
     },
     "execution_count": 38,
     "metadata": {},
     "output_type": "execute_result"
    },
    {
     "data": {
      "image/png": "[encoded data removed]",
      "text/plain": [
       "<Figure size 720x360 with 1 Axes>"
      ]
     },
     "metadata": {
      "needs_background": "light"
     },
     "output_type": "display_data"
    }
   ],
   "source": [
    "data['last_price'].hist(bins = 100, range = (0, 40000000), figsize = (10, 5))\n",
    "plt.ticklabel_format(style='plain',axis='x')\n",
    "plt.title('Распределение стоимости квартир')\n",
    "plt.xlabel('Цена кваритры (руб)')\n",
    "plt.ylabel('Количество объявлений')\n",
    "plt.show"
   ]
  },
  {
   "cell_type": "markdown",
   "metadata": {},
   "source": [
    "Нарисуем диаграмму размаха для цен на квартиры"
   ]
  },
  {
   "cell_type": "code",
   "execution_count": 39,
   "metadata": {
    "scrolled": true
   },
   "outputs": [
    {
     "data": {
      "text/plain": [
       "<function matplotlib.pyplot.show(close=None, block=None)>"
      ]
     },
     "execution_count": 39,
     "metadata": {},
     "output_type": "execute_result"
    },
    {
     "data": {
      "image/png": "[encoded data removed]",
      "text/plain": [
       "<Figure size 720x360 with 1 Axes>"
      ]
     },
     "metadata": {
      "needs_background": "light"
     },
     "output_type": "display_data"
    }
   ],
   "source": [
    "data.boxplot(column = 'last_price', figsize = (10, 5))\n",
    "plt.ticklabel_format(style='plain',axis='y')\n",
    "plt.show"
   ]
  },
  {
   "cell_type": "markdown",
   "metadata": {},
   "source": [
    "Найдем первый и третий квартили, а так же межквартильный размах"
   ]
  },
  {
   "cell_type": "code",
   "execution_count": 40,
   "metadata": {},
   "outputs": [
    {
     "data": {
      "text/plain": [
       "count    2.365000e+04\n",
       "mean     6.541127e+06\n",
       "std      1.089640e+07\n",
       "min      1.219000e+04\n",
       "25%      3.400000e+06\n",
       "50%      4.650000e+06\n",
       "75%      6.799000e+06\n",
       "max      7.630000e+08\n",
       "Name: last_price, dtype: float64"
      ]
     },
     "execution_count": 40,
     "metadata": {},
     "output_type": "execute_result"
    }
   ],
   "source": [
    "data['last_price'].describe()"
   ]
  },
  {
   "cell_type": "code",
   "execution_count": 41,
   "metadata": {},
   "outputs": [],
   "source": [
    "Q1 = data['last_price'].describe()['25%']\n",
    "Q3 = data['last_price'].describe()['75%']\n",
    "IQR = Q3 - Q1"
   ]
  },
  {
   "cell_type": "markdown",
   "metadata": {},
   "source": [
    "Найдем верхнюю и нижнюю границу размаха(в которые входят нормальные значения) и отфильтруем значения"
   ]
  },
  {
   "cell_type": "code",
   "execution_count": 42,
   "metadata": {},
   "outputs": [],
   "source": [
    "low_border = Q1 - 1.5 * IQR\n",
    "high_border = Q3 + 1.5 * IQR\n",
    "data_good_price = data.query('last_price > @low_border and last_price < @high_border')"
   ]
  },
  {
   "cell_type": "code",
   "execution_count": 43,
   "metadata": {
    "scrolled": true
   },
   "outputs": [
    {
     "data": {
      "image/png": "[encoded data removed]",
      "text/plain": [
       "<Figure size 720x360 with 1 Axes>"
      ]
     },
     "metadata": {
      "needs_background": "light"
     },
     "output_type": "display_data"
    }
   ],
   "source": [
    "data_good_price['last_price'].hist(bins = 50, figsize = (10, 5))\n",
    "plt.ticklabel_format(style='plain',axis='x')\n",
    "plt.title('Распределение стоимости квартир')\n",
    "plt.xlabel('Цена кваритры (руб)')\n",
    "plt.ylabel('Количество объявлений')\n",
    "plt.show()"
   ]
  },
  {
   "cell_type": "code",
   "execution_count": 44,
   "metadata": {},
   "outputs": [
    {
     "data": {
      "text/plain": [
       "19505    900.0\n",
       "12840    631.2\n",
       "3113     631.0\n",
       "15626    618.0\n",
       "5349     590.0\n",
       "         ...  \n",
       "19523     13.2\n",
       "19511     13.0\n",
       "17929     13.0\n",
       "19772     13.0\n",
       "19869     12.0\n",
       "Name: total_area, Length: 23650, dtype: float64"
      ]
     },
     "execution_count": 44,
     "metadata": {},
     "output_type": "execute_result"
    }
   ],
   "source": [
    "data['total_area'].sort_values(ascending = False)"
   ]
  },
  {
   "cell_type": "code",
   "execution_count": 45,
   "metadata": {},
   "outputs": [
    {
     "data": {
      "text/plain": [
       "<function matplotlib.pyplot.show(close=None, block=None)>"
      ]
     },
     "execution_count": 45,
     "metadata": {},
     "output_type": "execute_result"
    },
    {
     "data": {
      "image/png": "[encoded data removed]",
      "text/plain": [
       "<Figure size 720x360 with 1 Axes>"
      ]
     },
     "metadata": {
      "needs_background": "light"
     },
     "output_type": "display_data"
    }
   ],
   "source": [
    "data.boxplot(column = 'total_area', figsize = (10, 5))\n",
    "plt.ticklabel_format(style='plain',axis='y')\n",
    "plt.show"
   ]
  },
  {
   "cell_type": "markdown",
   "metadata": {},
   "source": [
    "Рассмотрим подробнее квартиры с большой общей площадью (> 150)"
   ]
  },
  {
   "cell_type": "code",
   "execution_count": 46,
   "metadata": {
    "scrolled": true
   },
   "outputs": [
    {
     "data": {
      "image/png": "[encoded data removed]",
      "text/plain": [
       "<Figure size 720x360 with 1 Axes>"
      ]
     },
     "metadata": {
      "needs_background": "light"
     },
     "output_type": "display_data"
    }
   ],
   "source": [
    "data[data['total_area'] > 150]['total_area'].hist(bins = 100, range = (150, 500), figsize = (10, 5))\n",
    "plt.title('Распределение площади квартир')\n",
    "plt.xlabel('Общая площадь кваритры (м)')\n",
    "plt.ylabel('Количество объявлений')\n",
    "plt.show()"
   ]
  },
  {
   "cell_type": "markdown",
   "metadata": {},
   "source": [
    "Квартир больше 300 м не очень много, исключим их"
   ]
  },
  {
   "cell_type": "code",
   "execution_count": 47,
   "metadata": {},
   "outputs": [],
   "source": [
    "good_data = data_good_price[data_good_price['total_area'] < 300]"
   ]
  },
  {
   "cell_type": "code",
   "execution_count": 48,
   "metadata": {},
   "outputs": [
    {
     "data": {
      "text/plain": [
       "array([[<AxesSubplot:title={'center':'total_images'}>,\n",
       "        <AxesSubplot:title={'center':'last_price'}>,\n",
       "        <AxesSubplot:title={'center':'total_area'}>,\n",
       "        <AxesSubplot:title={'center':'first_day_exposition'}>,\n",
       "        <AxesSubplot:title={'center':'rooms'}>],\n",
       "       [<AxesSubplot:title={'center':'ceiling_height'}>,\n",
       "        <AxesSubplot:title={'center':'floors_total'}>,\n",
       "        <AxesSubplot:title={'center':'living_area'}>,\n",
       "        <AxesSubplot:title={'center':'floor'}>,\n",
       "        <AxesSubplot:title={'center':'kitchen_area'}>],\n",
       "       [<AxesSubplot:title={'center':'balcony'}>,\n",
       "        <AxesSubplot:title={'center':'airports_nearest'}>,\n",
       "        <AxesSubplot:title={'center':'cityCenters_nearest'}>,\n",
       "        <AxesSubplot:title={'center':'parks_around3000'}>,\n",
       "        <AxesSubplot:title={'center':'parks_nearest'}>],\n",
       "       [<AxesSubplot:title={'center':'ponds_around3000'}>,\n",
       "        <AxesSubplot:title={'center':'ponds_nearest'}>,\n",
       "        <AxesSubplot:title={'center':'days_exposition'}>,\n",
       "        <AxesSubplot:title={'center':'living_ratio'}>,\n",
       "        <AxesSubplot:title={'center':'kitchen_ratio'}>],\n",
       "       [<AxesSubplot:title={'center':'m_price'}>,\n",
       "        <AxesSubplot:title={'center':'day_of_week'}>,\n",
       "        <AxesSubplot:title={'center':'month'}>,\n",
       "        <AxesSubplot:title={'center':'year'}>,\n",
       "        <AxesSubplot:title={'center':'center_km'}>]], dtype=object)"
      ]
     },
     "execution_count": 48,
     "metadata": {},
     "output_type": "execute_result"
    },
    {
     "data": {
      "image/png": "[encoded data removed]",
      "text/plain": [
       "<Figure size 1080x1440 with 25 Axes>"
      ]
     },
     "metadata": {
      "needs_background": "light"
     },
     "output_type": "display_data"
    }
   ],
   "source": [
    "good_data.hist(figsize=(15, 20))"
   ]
  },
  {
   "cell_type": "markdown",
   "metadata": {},
   "source": [
    "* **Общая площадь:**\n",
    "\n",
    "Это один из ключевых параметров, который напрямую влияет на цену объекта\n",
    "Большинство квартир с площадью до 60 $м^2$\n",
    "Распределение похоже на нормальное\n",
    "\n",
    "\n",
    "\n",
    "* **Жилая площадь:**\n",
    "\n",
    "Жилая площадь является параметров, который влияет на цену объекта. Он определяет количество комнат и общее пространство, доступное для проживания\n",
    "В среднем, соотношение жилой площади к общей площади составляет около 65%\n",
    "\n",
    "* **Площадь кухни:**\n",
    "\n",
    "Площадь кухни — важный фактор для покупателей. Большая кухня повышает привлекательность квартиры\n",
    "В среднем площадь кухни составляет около 10% от общей площади квартиры\n",
    "Распределение похоже на нормальное\n",
    "\n",
    "* **Цена объекта:**\n",
    "\n",
    "Основной показатель, зависящий от многих факторов\n",
    "Цена имеет тенденцию повышаться при увеличении близости к центру города и другим обьектам\n",
    "Распределение похоже на нормальное\n",
    "\n",
    "* **Количество комнат:**\n",
    "\n",
    "Это один из ключевых факторов, влияющих на выбор покупателей. Обычно, чем больше комнат, тем выше стоимость квартиры\n",
    "Число комнат также взаимосвязано с общей площадью квартиры\n",
    "Является категориальной переменной \n",
    "\n",
    "* **Высота потолков:**\n",
    "\n",
    "Высокие потолки обычно сооружаются в более дорогих обьектах\n",
    "Стандартная высота потолков в современных квартирах — около 2.5–2.7 метров(Как и показано на гистограме)\n",
    "В элитных квартирах она может быть выше 3 метров.\n",
    "\n",
    "* **Тип этажа квартиры («первый», «последний», «другой»):**\n",
    "\n",
    "Квартиры на первом и последнем этажах обычно менее популярны. Первый этаж часто ассоциируется с шумом и небезопасностью, а последний — с возможными проблемами с крышей и жарой в летний периодд\n",
    "«Другие» этажи чаще всего являются наиболее востребованными и дорогими\n",
    "\n",
    "* **Расстояние до центра города в метрах:**\n",
    "\n",
    "Это важный фактор, определяющий стоимость жилья. Чем ближе объект к центру города, тем выше его цена\n",
    "В центральных районах чаще всего более развитая инфраструктура, что также повышает стоимость квартир\n",
    "\n",
    "* **Расстояние до ближайшего парка:**\n",
    "\n",
    "Близость к зелёным зонам и паркам является плюсом для семей с детьми и тех, кто любит отдых на природе\n",
    "Объекты рядом с парками часто имеют более высокую стоимость, так как окружающая среда влияет на комфорт проживания"
   ]
  },
  {
   "cell_type": "markdown",
   "metadata": {},
   "source": [
    "#### Время продажи квартир"
   ]
  },
  {
   "cell_type": "markdown",
   "metadata": {},
   "source": [
    "Построим гистограмму распределения времени продажи квартир"
   ]
  },
  {
   "cell_type": "code",
   "execution_count": 49,
   "metadata": {},
   "outputs": [
    {
     "data": {
      "text/plain": [
       "45.0      875\n",
       "60.0      535\n",
       "7.0       225\n",
       "30.0      197\n",
       "4.0       164\n",
       "         ... \n",
       "1373.0      1\n",
       "999.0       1\n",
       "730.0       1\n",
       "529.0       1\n",
       "1174.0      1\n",
       "Name: days_exposition, Length: 1092, dtype: int64"
      ]
     },
     "execution_count": 49,
     "metadata": {},
     "output_type": "execute_result"
    }
   ],
   "source": [
    "good_data['days_exposition'].value_counts().sort_values(ascending = False)\n"
   ]
  },
  {
   "cell_type": "code",
   "execution_count": 50,
   "metadata": {
    "scrolled": true
   },
   "outputs": [
    {
     "data": {
      "image/png": "[encoded data removed]",
      "text/plain": [
       "<Figure size 720x360 with 1 Axes>"
      ]
     },
     "metadata": {
      "needs_background": "light"
     },
     "output_type": "display_data"
    }
   ],
   "source": [
    "data['days_exposition'].hist(bins=50, figsize = (10, 5))\n",
    "plt.title('Распределение времени продажи квартир')\n",
    "plt.xlabel('Продолжительность размещения объявления')\n",
    "plt.ylabel('Количество объявлений')\n",
    "plt.show()\n"
   ]
  },
  {
   "cell_type": "markdown",
   "metadata": {},
   "source": [
    "Расчитаем среднее и медиану"
   ]
  },
  {
   "cell_type": "code",
   "execution_count": 51,
   "metadata": {},
   "outputs": [
    {
     "name": "stdout",
     "output_type": "stream",
     "text": [
      "Среднее количество дней: 180.7531998045921\n",
      "Медиана: 95.0\n"
     ]
    }
   ],
   "source": [
    "mean_days = data['days_exposition'].mean()\n",
    "print(f'Среднее количество дней: {mean_days}')\n",
    "median_days = data['days_exposition'].median()\n",
    "print(f'Медиана: {median_days}')"
   ]
  },
  {
   "cell_type": "code",
   "execution_count": 52,
   "metadata": {},
   "outputs": [
    {
     "data": {
      "text/plain": [
       "count    20470.000000\n",
       "mean       180.753200\n",
       "std        219.777916\n",
       "min          1.000000\n",
       "25%         45.000000\n",
       "50%         95.000000\n",
       "75%        231.000000\n",
       "max       1580.000000\n",
       "Name: days_exposition, dtype: float64"
      ]
     },
     "execution_count": 52,
     "metadata": {},
     "output_type": "execute_result"
    }
   ],
   "source": [
    "data['days_exposition'].describe()"
   ]
  },
  {
   "cell_type": "markdown",
   "metadata": {},
   "source": [
    "Продажи можно разделить на несколько категорий:\n",
    "\n",
    "* Быстрые продажи — это продажи, которые закрылись быстрее, чем первый квартиль (25%)\n",
    "\n",
    "* Долгие продажи — это квартиры, которые находились в продаже больше чем третий квартиль (75%), что можно считать необычно долгим сроком\n",
    "\n",
    "* Остальные продажи между Q1 и Q3 — это \"нормальные\" продажи"
   ]
  },
  {
   "cell_type": "code",
   "execution_count": 53,
   "metadata": {},
   "outputs": [
    {
     "name": "stdout",
     "output_type": "stream",
     "text": [
      "Первый квартиль (25%): 45.00000000000001\n",
      "Третий квартиль (75%): 231.0\n"
     ]
    }
   ],
   "source": [
    "Q1 = data['days_exposition'].describe()['25%']\n",
    "print(f\"Первый квартиль (25%): {Q1}\")\n",
    "Q3 = data['days_exposition'].describe()['75%']\n",
    "print(f\"Третий квартиль (75%): {Q3}\")"
   ]
  },
  {
   "cell_type": "markdown",
   "metadata": {},
   "source": [
    "#### Факторы, которые больше всего влияют на общую стоимость объекта."
   ]
  },
  {
   "cell_type": "markdown",
   "metadata": {},
   "source": [
    "##### Зависимость цены от общей площади"
   ]
  },
  {
   "cell_type": "code",
   "execution_count": 80,
   "metadata": {},
   "outputs": [
    {
     "name": "stdout",
     "output_type": "stream",
     "text": [
      "<class 'pandas.core.frame.DataFrame'>\n",
      "Int64Index: 21595 entries, 1 to 23649\n",
      "Data columns (total 30 columns):\n",
      " #   Column                Non-Null Count  Dtype         \n",
      "---  ------                --------------  -----         \n",
      " 0   total_images          21595 non-null  int64         \n",
      " 1   last_price            21595 non-null  float64       \n",
      " 2   total_area            21595 non-null  float64       \n",
      " 3   first_day_exposition  21595 non-null  datetime64[ns]\n",
      " 4   rooms                 21595 non-null  int64         \n",
      " 5   ceiling_height        21595 non-null  float64       \n",
      " 6   floors_total          21522 non-null  float64       \n",
      " 7   living_area           21595 non-null  float64       \n",
      " 8   floor                 21595 non-null  int64         \n",
      " 9   is_apartment          21595 non-null  bool          \n",
      " 10  studio                21595 non-null  bool          \n",
      " 11  open_plan             21595 non-null  bool          \n",
      " 12  kitchen_area          21595 non-null  float64       \n",
      " 13  balcony               21595 non-null  float64       \n",
      " 14  locality_name         21595 non-null  object        \n",
      " 15  airports_nearest      16101 non-null  float64       \n",
      " 16  cityCenters_nearest   16112 non-null  float64       \n",
      " 17  parks_around3000      16113 non-null  float64       \n",
      " 18  parks_nearest         6714 non-null   float64       \n",
      " 19  ponds_around3000      16113 non-null  float64       \n",
      " 20  ponds_nearest         7753 non-null   float64       \n",
      " 21  days_exposition       18959 non-null  float64       \n",
      " 22  living_ratio          19911 non-null  float64       \n",
      " 23  kitchen_ratio         19530 non-null  float64       \n",
      " 24  m_price               21595 non-null  float64       \n",
      " 25  day_of_week           21595 non-null  int64         \n",
      " 26  month                 21595 non-null  int64         \n",
      " 27  year                  21595 non-null  int64         \n",
      " 28  floor_type            21595 non-null  object        \n",
      " 29  center_km             16112 non-null  float64       \n",
      "dtypes: bool(3), datetime64[ns](1), float64(18), int64(6), object(2)\n",
      "memory usage: 4.7+ MB\n"
     ]
    }
   ],
   "source": [
    "good_data.info()"
   ]
  },
  {
   "cell_type": "code",
   "execution_count": 55,
   "metadata": {},
   "outputs": [
    {
     "data": {
      "text/plain": [
       "<function matplotlib.pyplot.show(close=None, block=None)>"
      ]
     },
     "execution_count": 55,
     "metadata": {},
     "output_type": "execute_result"
    },
    {
     "data": {
      "image/png": "[encoded data removed]",
      "text/plain": [
       "<Figure size 432x288 with 1 Axes>"
      ]
     },
     "metadata": {
      "needs_background": "light"
     },
     "output_type": "display_data"
    }
   ],
   "source": [
    "#good_data.plot(x='total_area', y='last_price', kind='hexbin', gridsize=20, figsize=(8, 6), sharex=False, grid=True)\n",
    "good_data.plot(x='total_area', y='last_price', kind='scatter', alpha=0.03) \n",
    "plt.ticklabel_format(style='plain',axis='y')\n",
    "plt.show"
   ]
  },
  {
   "cell_type": "markdown",
   "metadata": {},
   "source": [
    "Расчитаем коэффициент корреляции Пирсона"
   ]
  },
  {
   "cell_type": "code",
   "execution_count": 56,
   "metadata": {
    "scrolled": true
   },
   "outputs": [
    {
     "name": "stdout",
     "output_type": "stream",
     "text": [
      "0.6964137335432395\n"
     ]
    }
   ],
   "source": [
    "print(good_data['total_area'].corr(good_data['last_price']))"
   ]
  },
  {
   "cell_type": "markdown",
   "metadata": {},
   "source": [
    "##### Зависимость цены от площади кухни"
   ]
  },
  {
   "cell_type": "code",
   "execution_count": 57,
   "metadata": {
    "scrolled": true
   },
   "outputs": [
    {
     "data": {
      "text/plain": [
       "<function matplotlib.pyplot.show(close=None, block=None)>"
      ]
     },
     "execution_count": 57,
     "metadata": {},
     "output_type": "execute_result"
    },
    {
     "data": {
      "image/png": "[encoded data removed]",
      "text/plain": [
       "<Figure size 432x288 with 1 Axes>"
      ]
     },
     "metadata": {
      "needs_background": "light"
     },
     "output_type": "display_data"
    }
   ],
   "source": [
    "good_data.plot(x='kitchen_area', y='last_price', kind='scatter', alpha=0.03) \n",
    "plt.ticklabel_format(style='plain',axis='y')\n",
    "plt.show"
   ]
  },
  {
   "cell_type": "code",
   "execution_count": 58,
   "metadata": {},
   "outputs": [
    {
     "name": "stdout",
     "output_type": "stream",
     "text": [
      "0.48435532299385825\n"
     ]
    }
   ],
   "source": [
    "print(good_data['kitchen_area'].corr(good_data['last_price']))"
   ]
  },
  {
   "cell_type": "markdown",
   "metadata": {},
   "source": [
    "##### Зависимость цены от жилой площади"
   ]
  },
  {
   "cell_type": "code",
   "execution_count": 59,
   "metadata": {},
   "outputs": [
    {
     "data": {
      "text/plain": [
       "<function matplotlib.pyplot.show(close=None, block=None)>"
      ]
     },
     "execution_count": 59,
     "metadata": {},
     "output_type": "execute_result"
    },
    {
     "data": {
      "image/png": "[encoded data removed]",
      "text/plain": [
       "<Figure size 432x288 with 1 Axes>"
      ]
     },
     "metadata": {
      "needs_background": "light"
     },
     "output_type": "display_data"
    }
   ],
   "source": [
    "good_data.plot(x='living_area', y='last_price', kind='scatter', alpha=0.03) \n",
    "plt.ticklabel_format(style='plain',axis='y')\n",
    "plt.show"
   ]
  },
  {
   "cell_type": "code",
   "execution_count": 60,
   "metadata": {},
   "outputs": [
    {
     "name": "stdout",
     "output_type": "stream",
     "text": [
      "0.5795364202494716\n"
     ]
    }
   ],
   "source": [
    "print(good_data['living_area'].corr(good_data['last_price']))"
   ]
  },
  {
   "cell_type": "markdown",
   "metadata": {},
   "source": [
    "##### Зависимость цены от количества комнат"
   ]
  },
  {
   "cell_type": "code",
   "execution_count": 61,
   "metadata": {
    "scrolled": true
   },
   "outputs": [
    {
     "data": {
      "text/plain": [
       "<function matplotlib.pyplot.show(close=None, block=None)>"
      ]
     },
     "execution_count": 61,
     "metadata": {},
     "output_type": "execute_result"
    },
    {
     "data": {
      "image/png": "[encoded data removed]",
      "text/plain": [
       "<Figure size 432x288 with 1 Axes>"
      ]
     },
     "metadata": {
      "needs_background": "light"
     },
     "output_type": "display_data"
    }
   ],
   "source": [
    "good_data.plot(x='rooms', y='last_price', kind='scatter', alpha=0.03) \n",
    "plt.ticklabel_format(style='plain',axis='y')\n",
    "plt.show"
   ]
  },
  {
   "cell_type": "code",
   "execution_count": 62,
   "metadata": {},
   "outputs": [
    {
     "name": "stdout",
     "output_type": "stream",
     "text": [
      "0.45166936653725925\n"
     ]
    }
   ],
   "source": [
    "print(good_data['rooms'].corr(good_data['last_price']))"
   ]
  },
  {
   "cell_type": "markdown",
   "metadata": {},
   "source": [
    "##### Зависимость цены от этажа, на котором расположена квартира"
   ]
  },
  {
   "cell_type": "code",
   "execution_count": 63,
   "metadata": {
    "scrolled": true
   },
   "outputs": [
    {
     "data": {
      "text/plain": [
       "<function matplotlib.pyplot.show(close=None, block=None)>"
      ]
     },
     "execution_count": 63,
     "metadata": {},
     "output_type": "execute_result"
    },
    {
     "data": {
      "image/png": "[encoded data removed]",
      "text/plain": [
       "<Figure size 432x288 with 1 Axes>"
      ]
     },
     "metadata": {
      "needs_background": "light"
     },
     "output_type": "display_data"
    }
   ],
   "source": [
    "good_data.plot(x='floor_type', y='last_price', kind='scatter', alpha=0.03) \n",
    "plt.ticklabel_format(style='plain',axis='y')\n",
    "plt.show"
   ]
  },
  {
   "cell_type": "markdown",
   "metadata": {},
   "source": [
    "##### Зависимость цены от количества комнат"
   ]
  },
  {
   "cell_type": "code",
   "execution_count": 64,
   "metadata": {
    "scrolled": true
   },
   "outputs": [
    {
     "data": {
      "text/plain": [
       "<function matplotlib.pyplot.show(close=None, block=None)>"
      ]
     },
     "execution_count": 64,
     "metadata": {},
     "output_type": "execute_result"
    },
    {
     "data": {
      "image/png": "[encoded data removed]",
      "text/plain": [
       "<Figure size 432x288 with 1 Axes>"
      ]
     },
     "metadata": {
      "needs_background": "light"
     },
     "output_type": "display_data"
    }
   ],
   "source": [
    "good_data.plot(x='rooms', y='last_price', kind='scatter', alpha=0.03) \n",
    "plt.ticklabel_format(style='plain',axis='y')\n",
    "plt.show"
   ]
  },
  {
   "cell_type": "code",
   "execution_count": 65,
   "metadata": {},
   "outputs": [
    {
     "name": "stdout",
     "output_type": "stream",
     "text": [
      "0.45166936653725925\n"
     ]
    }
   ],
   "source": [
    "print(good_data['rooms'].corr(good_data['last_price']))"
   ]
  },
  {
   "cell_type": "markdown",
   "metadata": {},
   "source": [
    "##### Зависимость цены от дня недели"
   ]
  },
  {
   "cell_type": "code",
   "execution_count": 66,
   "metadata": {
    "scrolled": true
   },
   "outputs": [
    {
     "data": {
      "text/plain": [
       "<function matplotlib.pyplot.show(close=None, block=None)>"
      ]
     },
     "execution_count": 66,
     "metadata": {},
     "output_type": "execute_result"
    },
    {
     "data": {
      "image/png": "[encoded data removed]",
      "text/plain": [
       "<Figure size 432x288 with 1 Axes>"
      ]
     },
     "metadata": {
      "needs_background": "light"
     },
     "output_type": "display_data"
    }
   ],
   "source": [
    "good_data.plot(x='day_of_week', y='last_price', kind='scatter', alpha=0.03) \n",
    "plt.ticklabel_format(style='plain',axis='y')\n",
    "plt.show"
   ]
  },
  {
   "cell_type": "code",
   "execution_count": 67,
   "metadata": {},
   "outputs": [
    {
     "name": "stdout",
     "output_type": "stream",
     "text": [
      "-0.014317450998509383\n"
     ]
    }
   ],
   "source": [
    "print(good_data['day_of_week'].corr(good_data['last_price']))"
   ]
  },
  {
   "cell_type": "markdown",
   "metadata": {},
   "source": [
    "##### Зависимость цены от месяца"
   ]
  },
  {
   "cell_type": "code",
   "execution_count": 68,
   "metadata": {
    "scrolled": true
   },
   "outputs": [
    {
     "data": {
      "text/plain": [
       "<function matplotlib.pyplot.show(close=None, block=None)>"
      ]
     },
     "execution_count": 68,
     "metadata": {},
     "output_type": "execute_result"
    },
    {
     "data": {
      "image/png": "[encoded data removed]",
      "text/plain": [
       "<Figure size 432x288 with 1 Axes>"
      ]
     },
     "metadata": {
      "needs_background": "light"
     },
     "output_type": "display_data"
    }
   ],
   "source": [
    "good_data.plot(x='month', y='last_price', kind='scatter', alpha=0.03) \n",
    "plt.ticklabel_format(style='plain',axis='y')\n",
    "plt.show"
   ]
  },
  {
   "cell_type": "code",
   "execution_count": 69,
   "metadata": {
    "scrolled": true
   },
   "outputs": [
    {
     "name": "stdout",
     "output_type": "stream",
     "text": [
      "0.005493279564072182\n"
     ]
    }
   ],
   "source": [
    "print(good_data['month'].corr(good_data['last_price']))"
   ]
  },
  {
   "cell_type": "markdown",
   "metadata": {},
   "source": [
    "##### Зависимость цены от года"
   ]
  },
  {
   "cell_type": "code",
   "execution_count": 70,
   "metadata": {},
   "outputs": [
    {
     "data": {
      "text/plain": [
       "<function matplotlib.pyplot.show(close=None, block=None)>"
      ]
     },
     "execution_count": 70,
     "metadata": {},
     "output_type": "execute_result"
    },
    {
     "data": {
      "image/png": "[encoded data removed]",
      "text/plain": [
       "<Figure size 432x288 with 1 Axes>"
      ]
     },
     "metadata": {
      "needs_background": "light"
     },
     "output_type": "display_data"
    }
   ],
   "source": [
    "good_data.plot(x='year', y='last_price', kind='scatter', alpha=0.03) \n",
    "plt.ticklabel_format(style='plain',axis='y')\n",
    "plt.show"
   ]
  },
  {
   "cell_type": "code",
   "execution_count": 71,
   "metadata": {
    "scrolled": true
   },
   "outputs": [
    {
     "name": "stdout",
     "output_type": "stream",
     "text": [
      "-0.0019753074303708296\n"
     ]
    }
   ],
   "source": [
    "print(good_data['year'].corr(good_data['last_price']))"
   ]
  },
  {
   "cell_type": "markdown",
   "metadata": {},
   "source": [
    "##### Вывод"
   ]
  },
  {
   "cell_type": "markdown",
   "metadata": {},
   "source": [
    "Заметим, что самым главным фактором ценообразования является общая площадь жилья, далее идут площадь кухни и жилая площадь, хотя они зависят от общей площади жилья\n",
    "\n",
    "Большинство дорогих квартир распоожены на \"средних этажах\"\n",
    "\n",
    "Так же стоимость зависит и от количетсва комнат, но более слабо\n",
    "\n",
    "Стоимость практически вообще не зависит от даты размещения обьявлния, но стоит аметить, что наибольшее количество квартир являются более новыми"
   ]
  },
  {
   "cell_type": "markdown",
   "metadata": {},
   "source": [
    "#### Посчитаем среднюю цену квадратного метра в 10 населённых пунктах с наибольшим числом объявлений"
   ]
  },
  {
   "cell_type": "markdown",
   "metadata": {},
   "source": [
    "Найдем 10 населённых пунктов с наибольшим числом объявлений"
   ]
  },
  {
   "cell_type": "code",
   "execution_count": 72,
   "metadata": {},
   "outputs": [
    {
     "data": {
      "text/plain": [
       "locality_name\n",
       "санкт-петербург    13737\n",
       "мурино               590\n",
       "кудрово              470\n",
       "шушары               440\n",
       "всеволожск           397\n",
       "пушкин               338\n",
       "колпино              336\n",
       "парголово            327\n",
       "гатчина              305\n",
       "выборг               236\n",
       "Name: locality_name, dtype: int64"
      ]
     },
     "execution_count": 72,
     "metadata": {},
     "output_type": "execute_result"
    }
   ],
   "source": [
    "localities_count = good_data.groupby('locality_name')['locality_name'].count().sort_values(ascending=False).head(10)\n",
    "localities_count"
   ]
  },
  {
   "cell_type": "code",
   "execution_count": 73,
   "metadata": {},
   "outputs": [
    {
     "data": {
      "text/plain": [
       "locality_name\n",
       "санкт-петербург    105425.271911\n",
       "пушкин             100290.598698\n",
       "кудрово             95152.072170\n",
       "парголово           90175.913089\n",
       "мурино              86087.512017\n",
       "шушары              78677.364318\n",
       "колпино             75185.478244\n",
       "гатчина             68421.902525\n",
       "всеволожск          67214.252620\n",
       "выборг              57932.878771\n",
       "Name: m_price, dtype: float64"
      ]
     },
     "execution_count": 73,
     "metadata": {},
     "output_type": "execute_result"
    }
   ],
   "source": [
    "locality_price_per_m = good_data[good_data['locality_name'].isin(localities_count.index)].groupby('locality_name')['m_price'].mean().sort_values(ascending=False)\n",
    "locality_price_per_m"
   ]
  },
  {
   "cell_type": "markdown",
   "metadata": {},
   "source": [
    "**Населенные пункты с самой высокой стоимостью**"
   ]
  },
  {
   "cell_type": "code",
   "execution_count": 74,
   "metadata": {},
   "outputs": [],
   "source": [
    "highest_price_locality = locality_price_per_m.head(1)"
   ]
  },
  {
   "cell_type": "markdown",
   "metadata": {},
   "source": [
    "**Населенные пункты с самой низкой стоимостью**"
   ]
  },
  {
   "cell_type": "code",
   "execution_count": 75,
   "metadata": {},
   "outputs": [],
   "source": [
    "lowest_price_locality = locality_price_per_m.tail(1)"
   ]
  },
  {
   "cell_type": "code",
   "execution_count": 76,
   "metadata": {},
   "outputs": [
    {
     "name": "stdout",
     "output_type": "stream",
     "text": [
      "Населенный пункт с самой высокой стоимостью за квадратный метр: locality_name\n",
      "санкт-петербург    105425.271911\n",
      "Name: m_price, dtype: float64\n",
      "\n",
      "Населенный пункт с самой низкой стоимостью за квадратный метр: locality_name\n",
      "выборг    57932.878771\n",
      "Name: m_price, dtype: float64\n"
     ]
    }
   ],
   "source": [
    "print(f'Населенный пункт с самой высокой стоимостью за квадратный метр: {highest_price_locality}')\n",
    "print()\n",
    "print(f'Населенный пункт с самой низкой стоимостью за квадратный метр: {lowest_price_locality}')\n"
   ]
  },
  {
   "cell_type": "markdown",
   "metadata": {},
   "source": [
    "#### Выделим квартиры в Санкт-Петербурге и вычислим их среднюю стоимость на разном удалении от центра"
   ]
  },
  {
   "cell_type": "markdown",
   "metadata": {},
   "source": [
    "Выделяем квартиры в Санкт-Петербурге"
   ]
  },
  {
   "cell_type": "code",
   "execution_count": 77,
   "metadata": {},
   "outputs": [],
   "source": [
    "spb_data = good_data[good_data['locality_name'] == 'санкт-петербург']"
   ]
  },
  {
   "cell_type": "markdown",
   "metadata": {},
   "source": [
    "Вычисленим среднюю стоимость квартир на разном расстоянии"
   ]
  },
  {
   "cell_type": "code",
   "execution_count": 78,
   "metadata": {},
   "outputs": [
    {
     "data": {
      "text/html": [
       "<div>\n",
       "<style scoped>\n",
       "    .dataframe tbody tr th:only-of-type {\n",
       "        vertical-align: middle;\n",
       "    }\n",
       "\n",
       "    .dataframe tbody tr th {\n",
       "        vertical-align: top;\n",
       "    }\n",
       "\n",
       "    .dataframe thead th {\n",
       "        text-align: right;\n",
       "    }\n",
       "</style>\n",
       "<table border=\"1\" class=\"dataframe\">\n",
       "  <thead>\n",
       "    <tr style=\"text-align: right;\">\n",
       "      <th></th>\n",
       "      <th>last_price</th>\n",
       "    </tr>\n",
       "    <tr>\n",
       "      <th>cityCenters_nearest</th>\n",
       "      <th></th>\n",
       "    </tr>\n",
       "  </thead>\n",
       "  <tbody>\n",
       "    <tr>\n",
       "      <th>208.0</th>\n",
       "      <td>5800000.0</td>\n",
       "    </tr>\n",
       "    <tr>\n",
       "      <th>215.0</th>\n",
       "      <td>10990000.0</td>\n",
       "    </tr>\n",
       "    <tr>\n",
       "      <th>287.0</th>\n",
       "      <td>9590000.0</td>\n",
       "    </tr>\n",
       "    <tr>\n",
       "      <th>291.0</th>\n",
       "      <td>11500000.0</td>\n",
       "    </tr>\n",
       "    <tr>\n",
       "      <th>329.0</th>\n",
       "      <td>7200000.0</td>\n",
       "    </tr>\n",
       "    <tr>\n",
       "      <th>...</th>\n",
       "      <td>...</td>\n",
       "    </tr>\n",
       "    <tr>\n",
       "      <th>28644.0</th>\n",
       "      <td>4775000.0</td>\n",
       "    </tr>\n",
       "    <tr>\n",
       "      <th>28806.0</th>\n",
       "      <td>4370000.0</td>\n",
       "    </tr>\n",
       "    <tr>\n",
       "      <th>29263.0</th>\n",
       "      <td>4850000.0</td>\n",
       "    </tr>\n",
       "    <tr>\n",
       "      <th>29343.0</th>\n",
       "      <td>4200000.0</td>\n",
       "    </tr>\n",
       "    <tr>\n",
       "      <th>29493.0</th>\n",
       "      <td>2450000.0</td>\n",
       "    </tr>\n",
       "  </tbody>\n",
       "</table>\n",
       "<p>5775 rows × 1 columns</p>\n",
       "</div>"
      ],
      "text/plain": [
       "                     last_price\n",
       "cityCenters_nearest            \n",
       "208.0                 5800000.0\n",
       "215.0                10990000.0\n",
       "287.0                 9590000.0\n",
       "291.0                11500000.0\n",
       "329.0                 7200000.0\n",
       "...                         ...\n",
       "28644.0               4775000.0\n",
       "28806.0               4370000.0\n",
       "29263.0               4850000.0\n",
       "29343.0               4200000.0\n",
       "29493.0               2450000.0\n",
       "\n",
       "[5775 rows x 1 columns]"
      ]
     },
     "execution_count": 78,
     "metadata": {},
     "output_type": "execute_result"
    }
   ],
   "source": [
    "\n",
    "avg_price = spb_data.pivot_table(\n",
    "    index='cityCenters_nearest', \n",
    "    values='last_price', \n",
    "    aggfunc='mean' \n",
    ")\n",
    "avg_price"
   ]
  },
  {
   "cell_type": "markdown",
   "metadata": {},
   "source": [
    "Построим график"
   ]
  },
  {
   "cell_type": "code",
   "execution_count": 79,
   "metadata": {},
   "outputs": [
    {
     "data": {
      "image/png": "[encoded data removed]",
      "text/plain": [
       "<Figure size 720x432 with 1 Axes>"
      ]
     },
     "metadata": {
      "needs_background": "light"
     },
     "output_type": "display_data"
    }
   ],
   "source": [
    "avg_price['last_price'].hist(bins=100, figsize=(10, 6))\n",
    "plt.title('Распределение средней стоимости квартир в зависимости от расстояния до центра Санкт-Петербурга')\n",
    "plt.xlabel('Средняя стоимость (рубли)')\n",
    "plt.ylabel('Удаленность от центра(км)')\n",
    "plt.ticklabel_format(style='plain',axis='x')\n",
    "plt.grid(True)\n",
    "plt.show()\n"
   ]
  },
  {
   "cell_type": "markdown",
   "metadata": {},
   "source": [
    "**Вывод**\n",
    "\n",
    "Чем ближе квартира к центру, тем выше её средняя стоимость\n",
    "Чем дальше от центра, тем ниже цена. Это можно заметить по постепенному снижению средней цены с увеличением расстояния от центра\n",
    "График показывает явную зависимость, где на расстоянии в несколько километров от центра стоимость заметно падает"
   ]
  },
  {
   "cell_type": "markdown",
   "metadata": {
    "id": "h7VpzkIDAwb-"
   },
   "source": [
    "### Напишите общий вывод"
   ]
  },
  {
   "cell_type": "markdown",
   "metadata": {},
   "source": [
    "В ходе проекта был проведен анализ факторов, влияющих на стоимость недвижимости в зависимости от различных параметров. Основными выводами можно считать:\n",
    "\n",
    "**Зависимость стоимости квартиры от общей площади:**\n",
    "\n",
    "Наблюдается очевидная положительная корреляция между общей площадью и стоимостью. Чем больше площадь квартиры, тем выше её стоимость.\n",
    "\n",
    "**Влияние жилой площади и площади кухни:**\n",
    "\n",
    "Жилая площадь оказывает значительное влияние на цену квартиры, однако зависимость менее выражена по сравнению с общей площадью\n",
    "Площадь кухни имеет меньший вклад в формирование цены, но также влияет, особенно в квартирах с большими площадями\n",
    "\n",
    "**Количество комнат:**\n",
    "\n",
    "Чем больше количество комнат в квартире, тем выше её стоимость. Однако эта зависимость не всегда линейна\n",
    "\n",
    "**Этаж, на котором расположена квартира:**\n",
    "\n",
    "Квартиры на первых и последних этажах, как правило, стоят дешевле по сравнению с квартирами, расположенными на средних этажах\n",
    "\n",
    "**Дата размещения объявления:**\n",
    "\n",
    "Выявлено, что в ремя года и дата размещения объявления почти не влияют на продажи квартир\n",
    "\n",
    "**Удаленность от центра города:**\n",
    "\n",
    "Наблюдается ярко выраженная зависимость: чем ближе квартира расположена к центру города, тем выше её стоимость. С удалением от центра средняя стоимость квадратного метра значительно снижается\n",
    "\n",
    "**Продолжительноть размещения обьявлений:**\n",
    "\n",
    "Среднее время продажи квартиры составляет определённое количество дней. Быстрые продажи происходят в течение нескольких месяцев, а необычно долгие — более трех месяцев"
   ]
  },
  {
   "cell_type": "code",
   "execution_count": null,
   "metadata": {},
   "outputs": [],
   "source": []
  }
 ],
 "metadata": {
  "ExecuteTimeLog": [
   {
    "duration": 3,
    "start_time": "2024-09-11T22:19:28.645Z"
   },
   {
    "duration": 122,
    "start_time": "2024-09-11T22:20:06.984Z"
   },
   {
    "duration": 14,
    "start_time": "2024-09-11T22:20:42.894Z"
   },
   {
    "duration": 2294,
    "start_time": "2024-09-11T22:23:26.850Z"
   },
   {
    "duration": 11,
    "start_time": "2024-09-11T22:47:00.567Z"
   },
   {
    "duration": 5,
    "start_time": "2024-09-11T22:50:20.115Z"
   },
   {
    "duration": 8,
    "start_time": "2024-09-11T22:51:29.191Z"
   },
   {
    "duration": 10,
    "start_time": "2024-09-11T22:51:46.266Z"
   },
   {
    "duration": 7,
    "start_time": "2024-09-11T22:51:52.251Z"
   },
   {
    "duration": 9,
    "start_time": "2024-09-11T22:52:06.331Z"
   },
   {
    "duration": 8,
    "start_time": "2024-09-11T22:52:32.883Z"
   },
   {
    "duration": 6,
    "start_time": "2024-09-11T22:52:40.453Z"
   },
   {
    "duration": 8,
    "start_time": "2024-09-11T22:52:47.189Z"
   },
   {
    "duration": 6,
    "start_time": "2024-09-11T22:52:48.750Z"
   },
   {
    "duration": 6,
    "start_time": "2024-09-11T22:53:06.873Z"
   },
   {
    "duration": 4,
    "start_time": "2024-09-11T22:53:10.657Z"
   },
   {
    "duration": 4,
    "start_time": "2024-09-11T22:55:45.353Z"
   },
   {
    "duration": 5,
    "start_time": "2024-09-11T22:56:20.835Z"
   },
   {
    "duration": 11,
    "start_time": "2024-09-11T22:56:38.727Z"
   },
   {
    "duration": 5,
    "start_time": "2024-09-11T22:56:44.607Z"
   },
   {
    "duration": 4,
    "start_time": "2024-09-11T22:57:27.896Z"
   },
   {
    "duration": 5,
    "start_time": "2024-09-11T22:57:28.637Z"
   },
   {
    "duration": 8,
    "start_time": "2024-09-11T23:08:01.419Z"
   },
   {
    "duration": 15,
    "start_time": "2024-09-11T23:08:17.314Z"
   },
   {
    "duration": 14,
    "start_time": "2024-09-11T23:08:42.423Z"
   },
   {
    "duration": 407,
    "start_time": "2024-09-11T23:10:45.870Z"
   },
   {
    "duration": 134,
    "start_time": "2024-09-11T23:10:46.279Z"
   },
   {
    "duration": 15,
    "start_time": "2024-09-11T23:10:46.414Z"
   },
   {
    "duration": 2238,
    "start_time": "2024-09-11T23:10:46.432Z"
   },
   {
    "duration": 9,
    "start_time": "2024-09-11T23:10:48.672Z"
   },
   {
    "duration": 17,
    "start_time": "2024-09-11T23:10:48.683Z"
   },
   {
    "duration": 6,
    "start_time": "2024-09-11T23:10:48.702Z"
   },
   {
    "duration": 13,
    "start_time": "2024-09-11T23:10:48.710Z"
   },
   {
    "duration": 4,
    "start_time": "2024-09-11T23:10:48.724Z"
   },
   {
    "duration": 6,
    "start_time": "2024-09-11T23:10:48.730Z"
   },
   {
    "duration": 11,
    "start_time": "2024-09-11T23:10:48.738Z"
   },
   {
    "duration": 5,
    "start_time": "2024-09-11T23:15:03.676Z"
   },
   {
    "duration": 16,
    "start_time": "2024-09-11T23:16:15.283Z"
   },
   {
    "duration": 7,
    "start_time": "2024-09-11T23:23:08.767Z"
   },
   {
    "duration": 48,
    "start_time": "2024-09-11T23:33:09.338Z"
   },
   {
    "duration": 73,
    "start_time": "2024-09-11T23:33:23.635Z"
   },
   {
    "duration": 46,
    "start_time": "2024-09-11T23:33:43.855Z"
   },
   {
    "duration": 47,
    "start_time": "2024-09-11T23:33:51.024Z"
   },
   {
    "duration": 24,
    "start_time": "2024-09-11T23:34:03.196Z"
   },
   {
    "duration": 18,
    "start_time": "2024-09-11T23:34:28.961Z"
   },
   {
    "duration": 8,
    "start_time": "2024-09-11T23:35:02.655Z"
   },
   {
    "duration": 17,
    "start_time": "2024-09-11T23:35:33.756Z"
   },
   {
    "duration": 8,
    "start_time": "2024-09-11T23:35:36.010Z"
   },
   {
    "duration": 27,
    "start_time": "2024-09-11T23:35:51.284Z"
   },
   {
    "duration": 8,
    "start_time": "2024-09-11T23:35:52.741Z"
   },
   {
    "duration": 19,
    "start_time": "2024-09-11T23:40:20.531Z"
   },
   {
    "duration": 8,
    "start_time": "2024-09-11T23:40:22.531Z"
   },
   {
    "duration": 404,
    "start_time": "2024-09-11T23:40:30.706Z"
   },
   {
    "duration": 132,
    "start_time": "2024-09-11T23:40:31.113Z"
   },
   {
    "duration": 14,
    "start_time": "2024-09-11T23:40:31.248Z"
   },
   {
    "duration": 2162,
    "start_time": "2024-09-11T23:40:31.264Z"
   },
   {
    "duration": 9,
    "start_time": "2024-09-11T23:40:33.427Z"
   },
   {
    "duration": 5,
    "start_time": "2024-09-11T23:40:33.438Z"
   },
   {
    "duration": 23,
    "start_time": "2024-09-11T23:40:33.444Z"
   },
   {
    "duration": 10,
    "start_time": "2024-09-11T23:40:33.468Z"
   },
   {
    "duration": 3,
    "start_time": "2024-09-11T23:40:33.480Z"
   },
   {
    "duration": 9,
    "start_time": "2024-09-11T23:40:33.484Z"
   },
   {
    "duration": 17,
    "start_time": "2024-09-11T23:40:33.494Z"
   },
   {
    "duration": 8,
    "start_time": "2024-09-11T23:40:33.512Z"
   },
   {
    "duration": 13,
    "start_time": "2024-09-11T23:40:33.522Z"
   },
   {
    "duration": 6,
    "start_time": "2024-09-11T23:40:33.537Z"
   },
   {
    "duration": 18,
    "start_time": "2024-09-11T23:40:33.544Z"
   },
   {
    "duration": 47,
    "start_time": "2024-09-11T23:40:33.563Z"
   },
   {
    "duration": 19,
    "start_time": "2024-09-11T23:40:45.917Z"
   },
   {
    "duration": 8,
    "start_time": "2024-09-11T23:40:50.418Z"
   },
   {
    "duration": 29,
    "start_time": "2024-09-11T23:41:32.393Z"
   },
   {
    "duration": 9,
    "start_time": "2024-09-11T23:41:34.189Z"
   },
   {
    "duration": 28,
    "start_time": "2024-09-11T23:41:43.379Z"
   },
   {
    "duration": 24,
    "start_time": "2024-09-11T23:41:49.333Z"
   },
   {
    "duration": 26,
    "start_time": "2024-09-11T23:41:51.403Z"
   },
   {
    "duration": 8,
    "start_time": "2024-09-11T23:41:52.358Z"
   },
   {
    "duration": 24,
    "start_time": "2024-09-11T23:42:58.676Z"
   },
   {
    "duration": 8,
    "start_time": "2024-09-11T23:43:00.094Z"
   },
   {
    "duration": 25,
    "start_time": "2024-09-11T23:43:03.707Z"
   },
   {
    "duration": 26,
    "start_time": "2024-09-11T23:43:04.787Z"
   },
   {
    "duration": 26,
    "start_time": "2024-09-11T23:43:06.816Z"
   },
   {
    "duration": 8,
    "start_time": "2024-09-11T23:43:07.770Z"
   },
   {
    "duration": 25,
    "start_time": "2024-09-11T23:43:36.816Z"
   },
   {
    "duration": 8,
    "start_time": "2024-09-11T23:43:37.820Z"
   },
   {
    "duration": 33,
    "start_time": "2024-09-11T23:44:10.987Z"
   },
   {
    "duration": 8,
    "start_time": "2024-09-11T23:44:12.078Z"
   },
   {
    "duration": 45,
    "start_time": "2024-09-11T23:45:01.897Z"
   },
   {
    "duration": 372,
    "start_time": "2024-09-11T23:45:31.350Z"
   },
   {
    "duration": 135,
    "start_time": "2024-09-11T23:45:31.724Z"
   },
   {
    "duration": 14,
    "start_time": "2024-09-11T23:45:31.861Z"
   },
   {
    "duration": 2181,
    "start_time": "2024-09-11T23:45:31.877Z"
   },
   {
    "duration": 9,
    "start_time": "2024-09-11T23:45:34.059Z"
   },
   {
    "duration": 5,
    "start_time": "2024-09-11T23:45:34.070Z"
   },
   {
    "duration": 6,
    "start_time": "2024-09-11T23:45:34.076Z"
   },
   {
    "duration": 12,
    "start_time": "2024-09-11T23:45:34.084Z"
   },
   {
    "duration": 9,
    "start_time": "2024-09-11T23:45:34.098Z"
   },
   {
    "duration": 4,
    "start_time": "2024-09-11T23:45:34.109Z"
   },
   {
    "duration": 11,
    "start_time": "2024-09-11T23:45:34.114Z"
   },
   {
    "duration": 4,
    "start_time": "2024-09-11T23:45:34.127Z"
   },
   {
    "duration": 13,
    "start_time": "2024-09-11T23:45:34.132Z"
   },
   {
    "duration": 6,
    "start_time": "2024-09-11T23:45:34.147Z"
   },
   {
    "duration": 87,
    "start_time": "2024-09-11T23:45:34.154Z"
   },
   {
    "duration": 7,
    "start_time": "2024-09-11T23:45:34.243Z"
   },
   {
    "duration": 52,
    "start_time": "2024-09-11T23:46:39.113Z"
   },
   {
    "duration": 8,
    "start_time": "2024-09-11T23:46:40.249Z"
   },
   {
    "duration": 60,
    "start_time": "2024-09-11T23:46:55.200Z"
   },
   {
    "duration": 60,
    "start_time": "2024-09-11T23:46:57.182Z"
   },
   {
    "duration": 7,
    "start_time": "2024-09-11T23:46:58.216Z"
   },
   {
    "duration": 368,
    "start_time": "2024-09-13T20:20:08.368Z"
   },
   {
    "duration": 360,
    "start_time": "2024-09-13T20:20:08.738Z"
   },
   {
    "duration": 14,
    "start_time": "2024-09-13T20:20:09.099Z"
   },
   {
    "duration": 2380,
    "start_time": "2024-09-13T20:20:09.115Z"
   },
   {
    "duration": 10,
    "start_time": "2024-09-13T20:20:11.497Z"
   },
   {
    "duration": 9,
    "start_time": "2024-09-13T20:20:11.508Z"
   },
   {
    "duration": 9,
    "start_time": "2024-09-13T20:20:11.518Z"
   },
   {
    "duration": 27,
    "start_time": "2024-09-13T20:20:11.528Z"
   },
   {
    "duration": 9,
    "start_time": "2024-09-13T20:20:11.556Z"
   },
   {
    "duration": 5,
    "start_time": "2024-09-13T20:20:11.567Z"
   },
   {
    "duration": 13,
    "start_time": "2024-09-13T20:20:11.573Z"
   },
   {
    "duration": 4,
    "start_time": "2024-09-13T20:20:11.587Z"
   },
   {
    "duration": 16,
    "start_time": "2024-09-13T20:20:11.592Z"
   },
   {
    "duration": 6,
    "start_time": "2024-09-13T20:20:11.609Z"
   },
   {
    "duration": 56,
    "start_time": "2024-09-13T20:20:11.617Z"
   },
   {
    "duration": 6,
    "start_time": "2024-09-13T20:20:11.675Z"
   },
   {
    "duration": 5,
    "start_time": "2024-09-13T20:33:08.927Z"
   },
   {
    "duration": 7,
    "start_time": "2024-09-13T20:37:12.997Z"
   },
   {
    "duration": 6,
    "start_time": "2024-09-13T20:37:46.622Z"
   },
   {
    "duration": 6,
    "start_time": "2024-09-13T20:39:19.045Z"
   },
   {
    "duration": 3,
    "start_time": "2024-09-13T21:04:37.270Z"
   },
   {
    "duration": 152,
    "start_time": "2024-09-13T21:10:46.677Z"
   },
   {
    "duration": 3,
    "start_time": "2024-09-13T21:12:58.876Z"
   },
   {
    "duration": 3,
    "start_time": "2024-09-13T21:13:02.130Z"
   },
   {
    "duration": 339,
    "start_time": "2024-09-13T21:13:03.262Z"
   },
   {
    "duration": 4,
    "start_time": "2024-09-13T21:18:45.576Z"
   },
   {
    "duration": 423,
    "start_time": "2024-09-13T21:18:50.000Z"
   },
   {
    "duration": 129,
    "start_time": "2024-09-13T21:18:50.424Z"
   },
   {
    "duration": 16,
    "start_time": "2024-09-13T21:18:50.555Z"
   },
   {
    "duration": 2156,
    "start_time": "2024-09-13T21:18:50.572Z"
   },
   {
    "duration": 14,
    "start_time": "2024-09-13T21:18:52.730Z"
   },
   {
    "duration": 7,
    "start_time": "2024-09-13T21:18:52.746Z"
   },
   {
    "duration": 20,
    "start_time": "2024-09-13T21:18:52.755Z"
   },
   {
    "duration": 8,
    "start_time": "2024-09-13T21:18:52.777Z"
   },
   {
    "duration": 4,
    "start_time": "2024-09-13T21:18:52.787Z"
   },
   {
    "duration": 5,
    "start_time": "2024-09-13T21:18:52.795Z"
   },
   {
    "duration": 15,
    "start_time": "2024-09-13T21:18:52.801Z"
   },
   {
    "duration": 3,
    "start_time": "2024-09-13T21:18:52.818Z"
   },
   {
    "duration": 13,
    "start_time": "2024-09-13T21:18:52.823Z"
   },
   {
    "duration": 6,
    "start_time": "2024-09-13T21:18:52.838Z"
   },
   {
    "duration": 128,
    "start_time": "2024-09-13T21:18:52.846Z"
   },
   {
    "duration": 7,
    "start_time": "2024-09-13T21:18:52.976Z"
   },
   {
    "duration": 16,
    "start_time": "2024-09-13T21:18:52.984Z"
   },
   {
    "duration": 8,
    "start_time": "2024-09-13T21:18:53.002Z"
   },
   {
    "duration": 6,
    "start_time": "2024-09-13T21:18:53.011Z"
   },
   {
    "duration": 5,
    "start_time": "2024-09-13T21:18:53.019Z"
   },
   {
    "duration": 3,
    "start_time": "2024-09-13T21:18:53.025Z"
   },
   {
    "duration": 292,
    "start_time": "2024-09-13T21:18:53.030Z"
   },
   {
    "duration": 4,
    "start_time": "2024-09-13T21:18:53.323Z"
   },
   {
    "duration": 33,
    "start_time": "2024-09-13T21:19:27.922Z"
   },
   {
    "duration": 4,
    "start_time": "2024-09-13T21:19:55.076Z"
   },
   {
    "duration": 23,
    "start_time": "2024-09-13T21:19:56.564Z"
   },
   {
    "duration": 7,
    "start_time": "2024-09-13T21:44:40.658Z"
   },
   {
    "duration": 6,
    "start_time": "2024-09-13T21:44:53.057Z"
   },
   {
    "duration": 6,
    "start_time": "2024-09-13T21:44:57.254Z"
   },
   {
    "duration": 7,
    "start_time": "2024-09-13T21:45:49.907Z"
   },
   {
    "duration": 212,
    "start_time": "2024-09-13T21:46:53.471Z"
   },
   {
    "duration": 46,
    "start_time": "2024-09-13T21:48:34.809Z"
   },
   {
    "duration": 72,
    "start_time": "2024-09-13T21:49:20.390Z"
   },
   {
    "duration": 9,
    "start_time": "2024-09-13T21:50:04.531Z"
   },
   {
    "duration": 272,
    "start_time": "2024-09-13T21:50:05.759Z"
   },
   {
    "duration": 7,
    "start_time": "2024-09-13T21:50:16.618Z"
   },
   {
    "duration": 9,
    "start_time": "2024-09-13T21:51:01.305Z"
   },
   {
    "duration": 7,
    "start_time": "2024-09-13T21:51:01.729Z"
   },
   {
    "duration": 3,
    "start_time": "2024-09-13T22:05:45.626Z"
   },
   {
    "duration": 48,
    "start_time": "2024-09-13T22:06:13.348Z"
   },
   {
    "duration": 64,
    "start_time": "2024-09-13T22:06:24.168Z"
   },
   {
    "duration": 78,
    "start_time": "2024-09-13T22:07:15.377Z"
   },
   {
    "duration": 48,
    "start_time": "2024-09-13T22:07:31.336Z"
   },
   {
    "duration": 510,
    "start_time": "2024-09-13T22:07:42.723Z"
   },
   {
    "duration": 1523,
    "start_time": "2024-09-13T22:07:53.555Z"
   },
   {
    "duration": 354,
    "start_time": "2024-09-13T22:08:07.463Z"
   },
   {
    "duration": 127,
    "start_time": "2024-09-13T22:08:07.819Z"
   },
   {
    "duration": 14,
    "start_time": "2024-09-13T22:08:07.947Z"
   },
   {
    "duration": 1976,
    "start_time": "2024-09-13T22:08:07.963Z"
   },
   {
    "duration": 10,
    "start_time": "2024-09-13T22:08:09.942Z"
   },
   {
    "duration": 6,
    "start_time": "2024-09-13T22:08:09.953Z"
   },
   {
    "duration": 5,
    "start_time": "2024-09-13T22:08:09.960Z"
   },
   {
    "duration": 5,
    "start_time": "2024-09-13T22:08:09.967Z"
   },
   {
    "duration": 3,
    "start_time": "2024-09-13T22:08:09.974Z"
   },
   {
    "duration": 5,
    "start_time": "2024-09-13T22:08:09.978Z"
   },
   {
    "duration": 24,
    "start_time": "2024-09-13T22:08:09.984Z"
   },
   {
    "duration": 4,
    "start_time": "2024-09-13T22:08:10.009Z"
   },
   {
    "duration": 24,
    "start_time": "2024-09-13T22:08:10.014Z"
   },
   {
    "duration": 6,
    "start_time": "2024-09-13T22:08:10.040Z"
   },
   {
    "duration": 64,
    "start_time": "2024-09-13T22:08:10.048Z"
   },
   {
    "duration": 7,
    "start_time": "2024-09-13T22:08:10.114Z"
   },
   {
    "duration": 15,
    "start_time": "2024-09-13T22:08:10.122Z"
   },
   {
    "duration": 7,
    "start_time": "2024-09-13T22:08:10.138Z"
   },
   {
    "duration": 8,
    "start_time": "2024-09-13T22:08:10.147Z"
   },
   {
    "duration": 5,
    "start_time": "2024-09-13T22:08:10.156Z"
   },
   {
    "duration": 3,
    "start_time": "2024-09-13T22:08:10.162Z"
   },
   {
    "duration": 288,
    "start_time": "2024-09-13T22:08:10.167Z"
   },
   {
    "duration": 4,
    "start_time": "2024-09-13T22:08:10.457Z"
   },
   {
    "duration": 24,
    "start_time": "2024-09-13T22:08:10.462Z"
   },
   {
    "duration": 24,
    "start_time": "2024-09-13T22:08:10.487Z"
   },
   {
    "duration": 8,
    "start_time": "2024-09-13T22:08:10.512Z"
   },
   {
    "duration": 6,
    "start_time": "2024-09-13T22:08:10.521Z"
   },
   {
    "duration": 1621,
    "start_time": "2024-09-13T22:08:10.528Z"
   },
   {
    "duration": 69,
    "start_time": "2024-09-13T22:08:29.373Z"
   },
   {
    "duration": 64,
    "start_time": "2024-09-13T22:09:05.687Z"
   },
   {
    "duration": 1230,
    "start_time": "2024-09-13T22:09:54.026Z"
   },
   {
    "duration": 52,
    "start_time": "2024-09-13T22:12:44.696Z"
   },
   {
    "duration": 59,
    "start_time": "2024-09-13T22:12:50.093Z"
   },
   {
    "duration": 57,
    "start_time": "2024-09-13T22:13:13.906Z"
   },
   {
    "duration": 56,
    "start_time": "2024-09-13T22:13:20.655Z"
   },
   {
    "duration": 59,
    "start_time": "2024-09-13T22:15:21.593Z"
   },
   {
    "duration": 62,
    "start_time": "2024-09-13T22:15:27.955Z"
   },
   {
    "duration": 47,
    "start_time": "2024-09-13T22:16:09.522Z"
   },
   {
    "duration": 22,
    "start_time": "2024-09-13T22:16:15.580Z"
   },
   {
    "duration": 7,
    "start_time": "2024-09-13T22:20:28.208Z"
   },
   {
    "duration": 8,
    "start_time": "2024-09-13T22:20:48.679Z"
   },
   {
    "duration": 7,
    "start_time": "2024-09-13T22:23:32.271Z"
   },
   {
    "duration": 177,
    "start_time": "2024-09-13T22:32:41.686Z"
   },
   {
    "duration": 355,
    "start_time": "2024-09-13T22:33:30.658Z"
   },
   {
    "duration": 131,
    "start_time": "2024-09-13T22:33:31.014Z"
   },
   {
    "duration": 13,
    "start_time": "2024-09-13T22:33:31.146Z"
   },
   {
    "duration": 2159,
    "start_time": "2024-09-13T22:33:31.161Z"
   },
   {
    "duration": 10,
    "start_time": "2024-09-13T22:33:33.322Z"
   },
   {
    "duration": 25,
    "start_time": "2024-09-13T22:33:33.333Z"
   },
   {
    "duration": 8,
    "start_time": "2024-09-13T22:33:33.359Z"
   },
   {
    "duration": 7,
    "start_time": "2024-09-13T22:33:33.368Z"
   },
   {
    "duration": 4,
    "start_time": "2024-09-13T22:33:33.376Z"
   },
   {
    "duration": 4,
    "start_time": "2024-09-13T22:33:33.382Z"
   },
   {
    "duration": 12,
    "start_time": "2024-09-13T22:33:33.388Z"
   },
   {
    "duration": 6,
    "start_time": "2024-09-13T22:33:33.402Z"
   },
   {
    "duration": 14,
    "start_time": "2024-09-13T22:33:33.409Z"
   },
   {
    "duration": 5,
    "start_time": "2024-09-13T22:33:33.425Z"
   },
   {
    "duration": 75,
    "start_time": "2024-09-13T22:33:33.432Z"
   },
   {
    "duration": 7,
    "start_time": "2024-09-13T22:33:33.509Z"
   },
   {
    "duration": 6,
    "start_time": "2024-09-13T22:33:33.518Z"
   },
   {
    "duration": 24,
    "start_time": "2024-09-13T22:33:33.525Z"
   },
   {
    "duration": 9,
    "start_time": "2024-09-13T22:33:33.550Z"
   },
   {
    "duration": 5,
    "start_time": "2024-09-13T22:33:33.560Z"
   },
   {
    "duration": 7,
    "start_time": "2024-09-13T22:33:33.567Z"
   },
   {
    "duration": 313,
    "start_time": "2024-09-13T22:33:33.576Z"
   },
   {
    "duration": 4,
    "start_time": "2024-09-13T22:33:33.891Z"
   },
   {
    "duration": 28,
    "start_time": "2024-09-13T22:33:33.896Z"
   },
   {
    "duration": 28,
    "start_time": "2024-09-13T22:33:33.926Z"
   },
   {
    "duration": 8,
    "start_time": "2024-09-13T22:33:33.956Z"
   },
   {
    "duration": 12,
    "start_time": "2024-09-13T22:33:33.965Z"
   },
   {
    "duration": 68,
    "start_time": "2024-09-13T22:33:33.981Z"
   },
   {
    "duration": 190,
    "start_time": "2024-09-13T22:33:34.050Z"
   },
   {
    "duration": 1079,
    "start_time": "2024-09-13T22:33:57.878Z"
   },
   {
    "duration": 9,
    "start_time": "2024-09-13T22:38:50.615Z"
   },
   {
    "duration": 15,
    "start_time": "2024-09-13T22:38:53.638Z"
   },
   {
    "duration": 4,
    "start_time": "2024-09-13T22:38:55.117Z"
   },
   {
    "duration": 14,
    "start_time": "2024-09-13T22:38:55.875Z"
   },
   {
    "duration": 8,
    "start_time": "2024-09-13T22:38:57.034Z"
   },
   {
    "duration": 56,
    "start_time": "2024-09-13T22:38:57.541Z"
   },
   {
    "duration": 9,
    "start_time": "2024-09-13T22:38:58.968Z"
   },
   {
    "duration": 4,
    "start_time": "2024-09-13T22:39:00.416Z"
   },
   {
    "duration": 5,
    "start_time": "2024-09-13T22:39:01.095Z"
   },
   {
    "duration": 5,
    "start_time": "2024-09-13T22:39:01.603Z"
   },
   {
    "duration": 5,
    "start_time": "2024-09-13T22:39:01.912Z"
   },
   {
    "duration": 3,
    "start_time": "2024-09-13T22:39:02.210Z"
   },
   {
    "duration": 359,
    "start_time": "2024-09-13T22:39:02.364Z"
   },
   {
    "duration": 4,
    "start_time": "2024-09-13T22:39:02.725Z"
   },
   {
    "duration": 24,
    "start_time": "2024-09-13T22:39:03.004Z"
   },
   {
    "duration": 7,
    "start_time": "2024-09-13T22:39:03.670Z"
   },
   {
    "duration": 8,
    "start_time": "2024-09-13T22:39:04.007Z"
   },
   {
    "duration": 7,
    "start_time": "2024-09-13T22:39:04.174Z"
   },
   {
    "duration": 64,
    "start_time": "2024-09-13T22:39:04.525Z"
   },
   {
    "duration": 1139,
    "start_time": "2024-09-13T22:39:06.016Z"
   },
   {
    "duration": 10,
    "start_time": "2024-09-13T22:41:41.700Z"
   },
   {
    "duration": 14,
    "start_time": "2024-09-13T22:41:47.470Z"
   },
   {
    "duration": 410,
    "start_time": "2024-09-13T22:41:52.001Z"
   },
   {
    "duration": 126,
    "start_time": "2024-09-13T22:41:52.413Z"
   },
   {
    "duration": 14,
    "start_time": "2024-09-13T22:41:52.541Z"
   },
   {
    "duration": 2096,
    "start_time": "2024-09-13T22:41:52.556Z"
   },
   {
    "duration": 9,
    "start_time": "2024-09-13T22:41:54.653Z"
   },
   {
    "duration": 15,
    "start_time": "2024-09-13T22:41:54.664Z"
   },
   {
    "duration": 13,
    "start_time": "2024-09-13T22:41:54.680Z"
   },
   {
    "duration": 4,
    "start_time": "2024-09-13T22:41:54.695Z"
   },
   {
    "duration": 3,
    "start_time": "2024-09-13T22:41:54.700Z"
   },
   {
    "duration": 4,
    "start_time": "2024-09-13T22:41:54.706Z"
   },
   {
    "duration": 13,
    "start_time": "2024-09-13T22:41:54.711Z"
   },
   {
    "duration": 10,
    "start_time": "2024-09-13T22:41:54.725Z"
   },
   {
    "duration": 4,
    "start_time": "2024-09-13T22:41:54.737Z"
   },
   {
    "duration": 12,
    "start_time": "2024-09-13T22:41:54.743Z"
   },
   {
    "duration": 6,
    "start_time": "2024-09-13T22:41:54.756Z"
   },
   {
    "duration": 86,
    "start_time": "2024-09-13T22:41:54.763Z"
   },
   {
    "duration": 8,
    "start_time": "2024-09-13T22:41:54.851Z"
   },
   {
    "duration": 4,
    "start_time": "2024-09-13T22:41:54.860Z"
   },
   {
    "duration": 5,
    "start_time": "2024-09-13T22:41:54.866Z"
   },
   {
    "duration": 4,
    "start_time": "2024-09-13T22:41:54.873Z"
   },
   {
    "duration": 29,
    "start_time": "2024-09-13T22:41:54.878Z"
   },
   {
    "duration": 3,
    "start_time": "2024-09-13T22:41:54.908Z"
   },
   {
    "duration": 295,
    "start_time": "2024-09-13T22:41:54.912Z"
   },
   {
    "duration": 3,
    "start_time": "2024-09-13T22:41:55.209Z"
   },
   {
    "duration": 25,
    "start_time": "2024-09-13T22:41:55.214Z"
   },
   {
    "duration": 6,
    "start_time": "2024-09-13T22:41:55.240Z"
   },
   {
    "duration": 8,
    "start_time": "2024-09-13T22:41:55.247Z"
   },
   {
    "duration": 6,
    "start_time": "2024-09-13T22:41:55.258Z"
   },
   {
    "duration": 92,
    "start_time": "2024-09-13T22:41:55.265Z"
   },
   {
    "duration": 1111,
    "start_time": "2024-09-13T22:41:55.358Z"
   },
   {
    "duration": 10,
    "start_time": "2024-09-13T22:42:32.267Z"
   },
   {
    "duration": 8,
    "start_time": "2024-09-13T22:42:34.472Z"
   },
   {
    "duration": 433,
    "start_time": "2024-09-13T22:43:14.791Z"
   },
   {
    "duration": 134,
    "start_time": "2024-09-13T22:43:15.226Z"
   },
   {
    "duration": 16,
    "start_time": "2024-09-13T22:43:15.361Z"
   },
   {
    "duration": 2145,
    "start_time": "2024-09-13T22:43:15.379Z"
   },
   {
    "duration": 9,
    "start_time": "2024-09-13T22:43:17.526Z"
   },
   {
    "duration": 14,
    "start_time": "2024-09-13T22:43:17.537Z"
   },
   {
    "duration": 7,
    "start_time": "2024-09-13T22:43:17.552Z"
   },
   {
    "duration": 12,
    "start_time": "2024-09-13T22:43:17.560Z"
   },
   {
    "duration": 12,
    "start_time": "2024-09-13T22:43:17.573Z"
   },
   {
    "duration": 5,
    "start_time": "2024-09-13T22:43:17.588Z"
   },
   {
    "duration": 13,
    "start_time": "2024-09-13T22:43:17.595Z"
   },
   {
    "duration": 11,
    "start_time": "2024-09-13T22:43:17.609Z"
   },
   {
    "duration": 15,
    "start_time": "2024-09-13T22:43:17.621Z"
   },
   {
    "duration": 32,
    "start_time": "2024-09-13T22:43:17.637Z"
   },
   {
    "duration": 17,
    "start_time": "2024-09-13T22:43:17.670Z"
   },
   {
    "duration": 59,
    "start_time": "2024-09-13T22:43:17.689Z"
   },
   {
    "duration": 8,
    "start_time": "2024-09-13T22:43:17.749Z"
   },
   {
    "duration": 7,
    "start_time": "2024-09-13T22:43:17.758Z"
   },
   {
    "duration": 18,
    "start_time": "2024-09-13T22:43:17.766Z"
   },
   {
    "duration": 5,
    "start_time": "2024-09-13T22:43:17.786Z"
   },
   {
    "duration": 5,
    "start_time": "2024-09-13T22:43:17.792Z"
   },
   {
    "duration": 2,
    "start_time": "2024-09-13T22:43:17.799Z"
   },
   {
    "duration": 302,
    "start_time": "2024-09-13T22:43:17.807Z"
   },
   {
    "duration": 4,
    "start_time": "2024-09-13T22:43:18.111Z"
   },
   {
    "duration": 24,
    "start_time": "2024-09-13T22:43:18.116Z"
   },
   {
    "duration": 5,
    "start_time": "2024-09-13T22:43:18.142Z"
   },
   {
    "duration": 25,
    "start_time": "2024-09-13T22:43:18.149Z"
   },
   {
    "duration": 6,
    "start_time": "2024-09-13T22:43:18.177Z"
   },
   {
    "duration": 82,
    "start_time": "2024-09-13T22:43:18.184Z"
   },
   {
    "duration": 1148,
    "start_time": "2024-09-13T22:43:18.267Z"
   },
   {
    "duration": 9,
    "start_time": "2024-09-13T22:43:39.603Z"
   },
   {
    "duration": 5,
    "start_time": "2024-09-13T22:52:46.819Z"
   },
   {
    "duration": 414,
    "start_time": "2024-09-13T22:52:52.396Z"
   },
   {
    "duration": 139,
    "start_time": "2024-09-13T22:52:52.812Z"
   },
   {
    "duration": 14,
    "start_time": "2024-09-13T22:52:52.955Z"
   },
   {
    "duration": 2030,
    "start_time": "2024-09-13T22:52:52.970Z"
   },
   {
    "duration": 10,
    "start_time": "2024-09-13T22:52:55.001Z"
   },
   {
    "duration": 8,
    "start_time": "2024-09-13T22:52:55.012Z"
   },
   {
    "duration": 18,
    "start_time": "2024-09-13T22:52:55.021Z"
   },
   {
    "duration": 11,
    "start_time": "2024-09-13T22:52:55.040Z"
   },
   {
    "duration": 13,
    "start_time": "2024-09-13T22:52:55.053Z"
   },
   {
    "duration": 8,
    "start_time": "2024-09-13T22:52:55.067Z"
   },
   {
    "duration": 13,
    "start_time": "2024-09-13T22:52:55.077Z"
   },
   {
    "duration": 11,
    "start_time": "2024-09-13T22:52:55.092Z"
   },
   {
    "duration": 11,
    "start_time": "2024-09-13T22:52:55.104Z"
   },
   {
    "duration": 14,
    "start_time": "2024-09-13T22:52:55.117Z"
   },
   {
    "duration": 16,
    "start_time": "2024-09-13T22:52:55.132Z"
   },
   {
    "duration": 64,
    "start_time": "2024-09-13T22:52:55.150Z"
   },
   {
    "duration": 8,
    "start_time": "2024-09-13T22:52:55.215Z"
   },
   {
    "duration": 9,
    "start_time": "2024-09-13T22:52:55.224Z"
   },
   {
    "duration": 10,
    "start_time": "2024-09-13T22:52:55.235Z"
   },
   {
    "duration": 8,
    "start_time": "2024-09-13T22:52:55.246Z"
   },
   {
    "duration": 8,
    "start_time": "2024-09-13T22:52:55.255Z"
   },
   {
    "duration": 3,
    "start_time": "2024-09-13T22:52:55.264Z"
   },
   {
    "duration": 295,
    "start_time": "2024-09-13T22:52:55.268Z"
   },
   {
    "duration": 4,
    "start_time": "2024-09-13T22:52:55.564Z"
   },
   {
    "duration": 37,
    "start_time": "2024-09-13T22:52:55.569Z"
   },
   {
    "duration": 7,
    "start_time": "2024-09-13T22:52:55.608Z"
   },
   {
    "duration": 8,
    "start_time": "2024-09-13T22:52:55.617Z"
   },
   {
    "duration": 29,
    "start_time": "2024-09-13T22:52:55.627Z"
   },
   {
    "duration": 92,
    "start_time": "2024-09-13T22:52:55.657Z"
   },
   {
    "duration": 1161,
    "start_time": "2024-09-13T22:52:55.751Z"
   },
   {
    "duration": 373,
    "start_time": "2024-09-13T23:04:12.941Z"
   },
   {
    "duration": 131,
    "start_time": "2024-09-13T23:04:13.316Z"
   },
   {
    "duration": 14,
    "start_time": "2024-09-13T23:04:13.449Z"
   },
   {
    "duration": 2118,
    "start_time": "2024-09-13T23:04:13.466Z"
   },
   {
    "duration": 10,
    "start_time": "2024-09-13T23:04:15.585Z"
   },
   {
    "duration": 6,
    "start_time": "2024-09-13T23:04:15.596Z"
   },
   {
    "duration": 19,
    "start_time": "2024-09-13T23:04:15.604Z"
   },
   {
    "duration": 26,
    "start_time": "2024-09-13T23:04:15.624Z"
   },
   {
    "duration": 4,
    "start_time": "2024-09-13T23:04:15.651Z"
   },
   {
    "duration": 4,
    "start_time": "2024-09-13T23:04:15.657Z"
   },
   {
    "duration": 61,
    "start_time": "2024-09-13T23:04:15.663Z"
   },
   {
    "duration": 33,
    "start_time": "2024-09-13T23:04:15.725Z"
   },
   {
    "duration": 8,
    "start_time": "2024-09-13T23:04:15.759Z"
   },
   {
    "duration": 16,
    "start_time": "2024-09-13T23:04:15.768Z"
   },
   {
    "duration": 6,
    "start_time": "2024-09-13T23:04:15.785Z"
   },
   {
    "duration": 56,
    "start_time": "2024-09-13T23:04:15.792Z"
   },
   {
    "duration": 7,
    "start_time": "2024-09-13T23:04:15.850Z"
   },
   {
    "duration": 13,
    "start_time": "2024-09-13T23:04:15.858Z"
   },
   {
    "duration": 33,
    "start_time": "2024-09-13T23:04:15.872Z"
   },
   {
    "duration": 27,
    "start_time": "2024-09-13T23:04:15.907Z"
   },
   {
    "duration": 75,
    "start_time": "2024-09-13T23:04:15.935Z"
   },
   {
    "duration": 1146,
    "start_time": "2024-09-13T23:04:16.012Z"
   },
   {
    "duration": 4,
    "start_time": "2024-09-13T23:04:17.159Z"
   },
   {
    "duration": 26,
    "start_time": "2024-09-13T23:04:17.164Z"
   },
   {
    "duration": 26,
    "start_time": "2024-09-13T23:04:17.192Z"
   },
   {
    "duration": 9,
    "start_time": "2024-09-13T23:04:17.219Z"
   },
   {
    "duration": 19,
    "start_time": "2024-09-13T23:04:17.230Z"
   },
   {
    "duration": 303,
    "start_time": "2024-09-13T23:04:17.252Z"
   },
   {
    "duration": 4,
    "start_time": "2024-09-13T23:04:17.557Z"
   },
   {
    "duration": 42,
    "start_time": "2024-09-13T23:04:17.562Z"
   },
   {
    "duration": 359,
    "start_time": "2024-09-13T23:04:39.253Z"
   },
   {
    "duration": 126,
    "start_time": "2024-09-13T23:04:39.614Z"
   },
   {
    "duration": 15,
    "start_time": "2024-09-13T23:04:39.741Z"
   },
   {
    "duration": 2066,
    "start_time": "2024-09-13T23:04:39.758Z"
   },
   {
    "duration": 11,
    "start_time": "2024-09-13T23:04:41.825Z"
   },
   {
    "duration": 32,
    "start_time": "2024-09-13T23:04:41.838Z"
   },
   {
    "duration": 7,
    "start_time": "2024-09-13T23:04:41.872Z"
   },
   {
    "duration": 6,
    "start_time": "2024-09-13T23:04:41.880Z"
   },
   {
    "duration": 7,
    "start_time": "2024-09-13T23:04:41.887Z"
   },
   {
    "duration": 12,
    "start_time": "2024-09-13T23:04:41.896Z"
   },
   {
    "duration": 14,
    "start_time": "2024-09-13T23:04:41.910Z"
   },
   {
    "duration": 10,
    "start_time": "2024-09-13T23:04:41.926Z"
   },
   {
    "duration": 11,
    "start_time": "2024-09-13T23:04:41.938Z"
   },
   {
    "duration": 31,
    "start_time": "2024-09-13T23:04:41.951Z"
   },
   {
    "duration": 7,
    "start_time": "2024-09-13T23:04:41.984Z"
   },
   {
    "duration": 63,
    "start_time": "2024-09-13T23:04:41.993Z"
   },
   {
    "duration": 9,
    "start_time": "2024-09-13T23:04:42.058Z"
   },
   {
    "duration": 7,
    "start_time": "2024-09-13T23:04:42.068Z"
   },
   {
    "duration": 11,
    "start_time": "2024-09-13T23:04:42.077Z"
   },
   {
    "duration": 7,
    "start_time": "2024-09-13T23:04:42.108Z"
   },
   {
    "duration": 68,
    "start_time": "2024-09-13T23:04:42.117Z"
   },
   {
    "duration": 1187,
    "start_time": "2024-09-13T23:04:42.187Z"
   },
   {
    "duration": 4,
    "start_time": "2024-09-13T23:04:43.376Z"
   },
   {
    "duration": 15,
    "start_time": "2024-09-13T23:04:43.381Z"
   },
   {
    "duration": 5,
    "start_time": "2024-09-13T23:04:43.397Z"
   },
   {
    "duration": 10,
    "start_time": "2024-09-13T23:04:43.403Z"
   },
   {
    "duration": 3,
    "start_time": "2024-09-13T23:04:43.414Z"
   },
   {
    "duration": 287,
    "start_time": "2024-09-13T23:04:43.420Z"
   },
   {
    "duration": 4,
    "start_time": "2024-09-13T23:04:43.708Z"
   },
   {
    "duration": 61,
    "start_time": "2024-09-13T23:04:43.713Z"
   },
   {
    "duration": 1232,
    "start_time": "2024-09-13T23:07:33.871Z"
   },
   {
    "duration": 65,
    "start_time": "2024-09-13T23:08:42.459Z"
   },
   {
    "duration": 61,
    "start_time": "2024-09-13T23:09:33.458Z"
   },
   {
    "duration": 68,
    "start_time": "2024-09-13T23:09:38.913Z"
   },
   {
    "duration": 4,
    "start_time": "2024-09-13T23:12:08.829Z"
   },
   {
    "duration": 5,
    "start_time": "2024-09-13T23:12:58.242Z"
   },
   {
    "duration": 1205,
    "start_time": "2024-09-13T23:13:00.145Z"
   },
   {
    "duration": 5,
    "start_time": "2024-09-13T23:13:58.902Z"
   },
   {
    "duration": 2,
    "start_time": "2024-09-13T23:16:42.880Z"
   },
   {
    "duration": 1326,
    "start_time": "2024-09-13T23:16:44.351Z"
   },
   {
    "duration": 77,
    "start_time": "2024-09-13T23:17:35.916Z"
   },
   {
    "duration": 1326,
    "start_time": "2024-09-13T23:19:00.246Z"
   },
   {
    "duration": 62,
    "start_time": "2024-09-13T23:20:41.202Z"
   },
   {
    "duration": 734,
    "start_time": "2024-09-13T23:20:45.087Z"
   },
   {
    "duration": 343,
    "start_time": "2024-09-13T23:20:58.357Z"
   },
   {
    "duration": 133,
    "start_time": "2024-09-13T23:20:58.701Z"
   },
   {
    "duration": 14,
    "start_time": "2024-09-13T23:20:58.835Z"
   },
   {
    "duration": 2013,
    "start_time": "2024-09-13T23:20:58.851Z"
   },
   {
    "duration": 6,
    "start_time": "2024-09-13T23:21:00.865Z"
   },
   {
    "duration": 75,
    "start_time": "2024-09-13T23:21:00.872Z"
   },
   {
    "duration": 6,
    "start_time": "2024-09-13T23:21:00.949Z"
   },
   {
    "duration": 9,
    "start_time": "2024-09-13T23:21:00.957Z"
   },
   {
    "duration": 11,
    "start_time": "2024-09-13T23:21:00.967Z"
   },
   {
    "duration": 20,
    "start_time": "2024-09-13T23:21:00.980Z"
   },
   {
    "duration": 7,
    "start_time": "2024-09-13T23:21:01.002Z"
   },
   {
    "duration": 28,
    "start_time": "2024-09-13T23:21:01.011Z"
   },
   {
    "duration": 16,
    "start_time": "2024-09-13T23:21:01.041Z"
   },
   {
    "duration": 20,
    "start_time": "2024-09-13T23:21:01.058Z"
   },
   {
    "duration": 10,
    "start_time": "2024-09-13T23:21:01.080Z"
   },
   {
    "duration": 4,
    "start_time": "2024-09-13T23:21:01.092Z"
   },
   {
    "duration": 12,
    "start_time": "2024-09-13T23:21:01.097Z"
   },
   {
    "duration": 14,
    "start_time": "2024-09-13T23:21:01.110Z"
   },
   {
    "duration": 11,
    "start_time": "2024-09-13T23:21:01.125Z"
   },
   {
    "duration": 7,
    "start_time": "2024-09-13T23:21:01.137Z"
   },
   {
    "duration": 76,
    "start_time": "2024-09-13T23:21:01.145Z"
   },
   {
    "duration": 1150,
    "start_time": "2024-09-13T23:21:01.223Z"
   },
   {
    "duration": 72,
    "start_time": "2024-09-13T23:21:02.374Z"
   },
   {
    "duration": 5,
    "start_time": "2024-09-13T23:21:02.447Z"
   },
   {
    "duration": 78,
    "start_time": "2024-09-13T23:21:02.453Z"
   },
   {
    "duration": 0,
    "start_time": "2024-09-13T23:21:02.533Z"
   },
   {
    "duration": 0,
    "start_time": "2024-09-13T23:21:02.535Z"
   },
   {
    "duration": 0,
    "start_time": "2024-09-13T23:21:02.536Z"
   },
   {
    "duration": 1,
    "start_time": "2024-09-13T23:21:02.537Z"
   },
   {
    "duration": 0,
    "start_time": "2024-09-13T23:21:02.539Z"
   },
   {
    "duration": 0,
    "start_time": "2024-09-13T23:21:02.540Z"
   },
   {
    "duration": 0,
    "start_time": "2024-09-13T23:21:02.541Z"
   },
   {
    "duration": 0,
    "start_time": "2024-09-13T23:21:02.542Z"
   },
   {
    "duration": 0,
    "start_time": "2024-09-13T23:21:02.544Z"
   },
   {
    "duration": 1216,
    "start_time": "2024-09-13T23:21:38.067Z"
   },
   {
    "duration": 1274,
    "start_time": "2024-09-13T23:26:23.281Z"
   },
   {
    "duration": 1110,
    "start_time": "2024-09-13T23:28:19.946Z"
   },
   {
    "duration": 8,
    "start_time": "2024-09-13T23:28:53.907Z"
   },
   {
    "duration": 416,
    "start_time": "2024-09-13T23:29:15.087Z"
   },
   {
    "duration": 130,
    "start_time": "2024-09-13T23:29:15.504Z"
   },
   {
    "duration": 14,
    "start_time": "2024-09-13T23:29:15.635Z"
   },
   {
    "duration": 2101,
    "start_time": "2024-09-13T23:29:15.651Z"
   },
   {
    "duration": 7,
    "start_time": "2024-09-13T23:29:17.753Z"
   },
   {
    "duration": 126,
    "start_time": "2024-09-13T23:29:17.761Z"
   },
   {
    "duration": 7,
    "start_time": "2024-09-13T23:29:17.889Z"
   },
   {
    "duration": 21,
    "start_time": "2024-09-13T23:29:17.897Z"
   },
   {
    "duration": 33,
    "start_time": "2024-09-13T23:29:17.920Z"
   },
   {
    "duration": 12,
    "start_time": "2024-09-13T23:29:17.955Z"
   },
   {
    "duration": 4,
    "start_time": "2024-09-13T23:29:17.968Z"
   },
   {
    "duration": 6,
    "start_time": "2024-09-13T23:29:17.974Z"
   },
   {
    "duration": 11,
    "start_time": "2024-09-13T23:29:17.981Z"
   },
   {
    "duration": 24,
    "start_time": "2024-09-13T23:29:17.994Z"
   },
   {
    "duration": 12,
    "start_time": "2024-09-13T23:29:18.019Z"
   },
   {
    "duration": 10,
    "start_time": "2024-09-13T23:29:18.033Z"
   },
   {
    "duration": 27,
    "start_time": "2024-09-13T23:29:18.044Z"
   },
   {
    "duration": 6,
    "start_time": "2024-09-13T23:29:18.072Z"
   },
   {
    "duration": 10,
    "start_time": "2024-09-13T23:29:18.079Z"
   },
   {
    "duration": 14,
    "start_time": "2024-09-13T23:29:18.090Z"
   },
   {
    "duration": 67,
    "start_time": "2024-09-13T23:29:18.107Z"
   },
   {
    "duration": 1136,
    "start_time": "2024-09-13T23:29:18.176Z"
   },
   {
    "duration": 64,
    "start_time": "2024-09-13T23:29:19.313Z"
   },
   {
    "duration": 1124,
    "start_time": "2024-09-13T23:29:19.379Z"
   },
   {
    "duration": 4,
    "start_time": "2024-09-13T23:29:20.504Z"
   },
   {
    "duration": 46,
    "start_time": "2024-09-13T23:29:20.509Z"
   },
   {
    "duration": 41,
    "start_time": "2024-09-13T23:29:20.557Z"
   },
   {
    "duration": 54,
    "start_time": "2024-09-13T23:29:20.601Z"
   },
   {
    "duration": 73,
    "start_time": "2024-09-13T23:29:20.656Z"
   },
   {
    "duration": 21,
    "start_time": "2024-09-13T23:29:20.731Z"
   },
   {
    "duration": 294,
    "start_time": "2024-09-13T23:29:20.753Z"
   },
   {
    "duration": 4,
    "start_time": "2024-09-13T23:29:21.048Z"
   },
   {
    "duration": 38,
    "start_time": "2024-09-13T23:29:21.054Z"
   },
   {
    "duration": 10,
    "start_time": "2024-09-13T23:29:21.666Z"
   },
   {
    "duration": 47,
    "start_time": "2024-09-13T23:32:06.390Z"
   },
   {
    "duration": 35,
    "start_time": "2024-09-13T23:32:10.855Z"
   },
   {
    "duration": 6,
    "start_time": "2024-09-13T23:32:45.374Z"
   },
   {
    "duration": 72,
    "start_time": "2024-09-13T23:45:45.693Z"
   },
   {
    "duration": 1360,
    "start_time": "2024-09-13T23:45:52.789Z"
   },
   {
    "duration": 1319,
    "start_time": "2024-09-13T23:46:35.428Z"
   },
   {
    "duration": 9,
    "start_time": "2024-09-13T23:46:55.350Z"
   },
   {
    "duration": 709,
    "start_time": "2024-09-13T23:48:08.558Z"
   },
   {
    "duration": 11,
    "start_time": "2024-09-13T23:48:19.369Z"
   },
   {
    "duration": 688,
    "start_time": "2024-09-13T23:50:03.496Z"
   },
   {
    "duration": 9,
    "start_time": "2024-09-13T23:50:12.581Z"
   },
   {
    "duration": 693,
    "start_time": "2024-09-13T23:52:06.288Z"
   },
   {
    "duration": 367,
    "start_time": "2024-09-13T23:52:16.959Z"
   },
   {
    "duration": 130,
    "start_time": "2024-09-13T23:52:17.327Z"
   },
   {
    "duration": 14,
    "start_time": "2024-09-13T23:52:17.458Z"
   },
   {
    "duration": 2031,
    "start_time": "2024-09-13T23:52:17.473Z"
   },
   {
    "duration": 6,
    "start_time": "2024-09-13T23:52:19.505Z"
   },
   {
    "duration": 62,
    "start_time": "2024-09-13T23:52:19.512Z"
   },
   {
    "duration": 7,
    "start_time": "2024-09-13T23:52:19.575Z"
   },
   {
    "duration": 25,
    "start_time": "2024-09-13T23:52:19.584Z"
   },
   {
    "duration": 5,
    "start_time": "2024-09-13T23:52:19.610Z"
   },
   {
    "duration": 9,
    "start_time": "2024-09-13T23:52:19.617Z"
   },
   {
    "duration": 6,
    "start_time": "2024-09-13T23:52:19.627Z"
   },
   {
    "duration": 4,
    "start_time": "2024-09-13T23:52:19.634Z"
   },
   {
    "duration": 5,
    "start_time": "2024-09-13T23:52:19.640Z"
   },
   {
    "duration": 21,
    "start_time": "2024-09-13T23:52:19.646Z"
   },
   {
    "duration": 25,
    "start_time": "2024-09-13T23:52:19.668Z"
   },
   {
    "duration": 17,
    "start_time": "2024-09-13T23:52:19.695Z"
   },
   {
    "duration": 7,
    "start_time": "2024-09-13T23:52:19.713Z"
   },
   {
    "duration": 63,
    "start_time": "2024-09-13T23:52:19.722Z"
   },
   {
    "duration": 1181,
    "start_time": "2024-09-13T23:52:19.787Z"
   },
   {
    "duration": 1303,
    "start_time": "2024-09-13T23:52:20.970Z"
   },
   {
    "duration": 1375,
    "start_time": "2024-09-13T23:52:22.275Z"
   },
   {
    "duration": 688,
    "start_time": "2024-09-13T23:52:23.652Z"
   },
   {
    "duration": 10,
    "start_time": "2024-09-13T23:52:24.342Z"
   },
   {
    "duration": 5,
    "start_time": "2024-09-13T23:52:24.353Z"
   },
   {
    "duration": 20,
    "start_time": "2024-09-13T23:52:24.359Z"
   },
   {
    "duration": 7,
    "start_time": "2024-09-13T23:52:24.381Z"
   },
   {
    "duration": 18,
    "start_time": "2024-09-13T23:52:24.390Z"
   },
   {
    "duration": 6,
    "start_time": "2024-09-13T23:52:24.410Z"
   },
   {
    "duration": 6,
    "start_time": "2024-09-13T23:52:24.417Z"
   },
   {
    "duration": 5,
    "start_time": "2024-09-13T23:52:24.424Z"
   },
   {
    "duration": 293,
    "start_time": "2024-09-13T23:52:24.431Z"
   },
   {
    "duration": 4,
    "start_time": "2024-09-13T23:52:24.726Z"
   },
   {
    "duration": 37,
    "start_time": "2024-09-13T23:52:24.731Z"
   },
   {
    "duration": 7,
    "start_time": "2024-09-13T23:55:43.050Z"
   },
   {
    "duration": 127,
    "start_time": "2024-09-13T23:56:10.336Z"
   },
   {
    "duration": 247,
    "start_time": "2024-09-13T23:57:40.110Z"
   },
   {
    "duration": 298,
    "start_time": "2024-09-13T23:59:27.689Z"
   },
   {
    "duration": 240,
    "start_time": "2024-09-13T23:59:34.171Z"
   },
   {
    "duration": 238,
    "start_time": "2024-09-13T23:59:37.988Z"
   },
   {
    "duration": 212,
    "start_time": "2024-09-13T23:59:47.557Z"
   },
   {
    "duration": 188,
    "start_time": "2024-09-14T00:02:07.627Z"
   },
   {
    "duration": 3,
    "start_time": "2024-09-14T00:02:26.052Z"
   },
   {
    "duration": 572,
    "start_time": "2024-09-14T00:02:29.660Z"
   },
   {
    "duration": 131,
    "start_time": "2024-09-14T00:02:30.233Z"
   },
   {
    "duration": 14,
    "start_time": "2024-09-14T00:02:30.365Z"
   },
   {
    "duration": 1899,
    "start_time": "2024-09-14T00:02:30.381Z"
   },
   {
    "duration": 6,
    "start_time": "2024-09-14T00:02:32.281Z"
   },
   {
    "duration": 85,
    "start_time": "2024-09-14T00:02:32.289Z"
   },
   {
    "duration": 10,
    "start_time": "2024-09-14T00:02:32.376Z"
   },
   {
    "duration": 30,
    "start_time": "2024-09-14T00:02:32.387Z"
   },
   {
    "duration": 37,
    "start_time": "2024-09-14T00:02:32.419Z"
   },
   {
    "duration": 27,
    "start_time": "2024-09-14T00:02:32.459Z"
   },
   {
    "duration": 37,
    "start_time": "2024-09-14T00:02:32.487Z"
   },
   {
    "duration": 29,
    "start_time": "2024-09-14T00:02:32.525Z"
   },
   {
    "duration": 25,
    "start_time": "2024-09-14T00:02:32.555Z"
   },
   {
    "duration": 28,
    "start_time": "2024-09-14T00:02:32.581Z"
   },
   {
    "duration": 28,
    "start_time": "2024-09-14T00:02:32.611Z"
   },
   {
    "duration": 24,
    "start_time": "2024-09-14T00:02:32.640Z"
   },
   {
    "duration": 42,
    "start_time": "2024-09-14T00:02:32.665Z"
   },
   {
    "duration": 91,
    "start_time": "2024-09-14T00:02:32.709Z"
   },
   {
    "duration": 1153,
    "start_time": "2024-09-14T00:02:32.801Z"
   },
   {
    "duration": 1280,
    "start_time": "2024-09-14T00:02:33.956Z"
   },
   {
    "duration": 1295,
    "start_time": "2024-09-14T00:02:35.237Z"
   },
   {
    "duration": 696,
    "start_time": "2024-09-14T00:02:36.533Z"
   },
   {
    "duration": 10,
    "start_time": "2024-09-14T00:02:37.230Z"
   },
   {
    "duration": 16,
    "start_time": "2024-09-14T00:02:37.242Z"
   },
   {
    "duration": 17,
    "start_time": "2024-09-14T00:02:37.259Z"
   },
   {
    "duration": 5,
    "start_time": "2024-09-14T00:02:37.278Z"
   },
   {
    "duration": 21,
    "start_time": "2024-09-14T00:02:37.285Z"
   },
   {
    "duration": 7,
    "start_time": "2024-09-14T00:02:37.309Z"
   },
   {
    "duration": 7,
    "start_time": "2024-09-14T00:02:37.318Z"
   },
   {
    "duration": 13,
    "start_time": "2024-09-14T00:02:37.327Z"
   },
   {
    "duration": 281,
    "start_time": "2024-09-14T00:02:37.342Z"
   },
   {
    "duration": 4,
    "start_time": "2024-09-14T00:02:37.624Z"
   },
   {
    "duration": 30,
    "start_time": "2024-09-14T00:02:37.629Z"
   },
   {
    "duration": 247,
    "start_time": "2024-09-14T00:02:37.660Z"
   },
   {
    "duration": 280,
    "start_time": "2024-09-14T00:02:37.909Z"
   },
   {
    "duration": 129,
    "start_time": "2024-09-14T00:02:38.322Z"
   },
   {
    "duration": 129,
    "start_time": "2024-09-14T00:04:14.461Z"
   },
   {
    "duration": 127,
    "start_time": "2024-09-14T00:07:12.666Z"
   },
   {
    "duration": 54,
    "start_time": "2024-09-14T09:33:00.932Z"
   },
   {
    "duration": 894,
    "start_time": "2024-09-14T09:33:07.249Z"
   },
   {
    "duration": 202,
    "start_time": "2024-09-14T09:33:08.145Z"
   },
   {
    "duration": 16,
    "start_time": "2024-09-14T09:33:08.348Z"
   },
   {
    "duration": 2235,
    "start_time": "2024-09-14T09:33:08.367Z"
   },
   {
    "duration": 7,
    "start_time": "2024-09-14T09:33:10.603Z"
   },
   {
    "duration": 83,
    "start_time": "2024-09-14T09:33:10.611Z"
   },
   {
    "duration": 7,
    "start_time": "2024-09-14T09:33:10.696Z"
   },
   {
    "duration": 18,
    "start_time": "2024-09-14T09:33:10.705Z"
   },
   {
    "duration": 17,
    "start_time": "2024-09-14T09:33:10.725Z"
   },
   {
    "duration": 29,
    "start_time": "2024-09-14T09:33:10.744Z"
   },
   {
    "duration": 27,
    "start_time": "2024-09-14T09:33:10.775Z"
   },
   {
    "duration": 16,
    "start_time": "2024-09-14T09:33:10.803Z"
   },
   {
    "duration": 27,
    "start_time": "2024-09-14T09:33:10.821Z"
   },
   {
    "duration": 22,
    "start_time": "2024-09-14T09:33:10.850Z"
   },
   {
    "duration": 8,
    "start_time": "2024-09-14T09:33:10.873Z"
   },
   {
    "duration": 12,
    "start_time": "2024-09-14T09:33:10.883Z"
   },
   {
    "duration": 20,
    "start_time": "2024-09-14T09:33:10.897Z"
   },
   {
    "duration": 98,
    "start_time": "2024-09-14T09:33:10.919Z"
   },
   {
    "duration": 1320,
    "start_time": "2024-09-14T09:33:11.018Z"
   },
   {
    "duration": 1611,
    "start_time": "2024-09-14T09:33:12.340Z"
   },
   {
    "duration": 1618,
    "start_time": "2024-09-14T09:33:13.954Z"
   },
   {
    "duration": 822,
    "start_time": "2024-09-14T09:33:15.574Z"
   },
   {
    "duration": 11,
    "start_time": "2024-09-14T09:33:16.398Z"
   },
   {
    "duration": 6,
    "start_time": "2024-09-14T09:33:16.411Z"
   },
   {
    "duration": 22,
    "start_time": "2024-09-14T09:33:16.419Z"
   },
   {
    "duration": 5,
    "start_time": "2024-09-14T09:33:16.442Z"
   },
   {
    "duration": 23,
    "start_time": "2024-09-14T09:33:16.448Z"
   },
   {
    "duration": 7,
    "start_time": "2024-09-14T09:33:16.474Z"
   },
   {
    "duration": 10,
    "start_time": "2024-09-14T09:33:16.482Z"
   },
   {
    "duration": 12,
    "start_time": "2024-09-14T09:33:16.494Z"
   },
   {
    "duration": 315,
    "start_time": "2024-09-14T09:33:16.507Z"
   },
   {
    "duration": 5,
    "start_time": "2024-09-14T09:33:16.824Z"
   },
   {
    "duration": 33,
    "start_time": "2024-09-14T09:33:16.830Z"
   },
   {
    "duration": 324,
    "start_time": "2024-09-14T09:33:16.865Z"
   },
   {
    "duration": 332,
    "start_time": "2024-09-14T09:33:17.191Z"
   },
   {
    "duration": 153,
    "start_time": "2024-09-14T09:33:17.525Z"
   },
   {
    "duration": 85,
    "start_time": "2024-09-14T09:33:17.679Z"
   },
   {
    "duration": 12,
    "start_time": "2024-09-14T09:33:24.975Z"
   },
   {
    "duration": 1062,
    "start_time": "2024-09-14T09:47:47.184Z"
   },
   {
    "duration": 5,
    "start_time": "2024-09-14T09:47:54.384Z"
   },
   {
    "duration": 6,
    "start_time": "2024-09-14T09:48:19.074Z"
   },
   {
    "duration": 19,
    "start_time": "2024-09-14T09:55:44.366Z"
   },
   {
    "duration": 9,
    "start_time": "2024-09-14T09:57:24.167Z"
   },
   {
    "duration": 18,
    "start_time": "2024-09-14T09:57:33.195Z"
   },
   {
    "duration": 15,
    "start_time": "2024-09-14T09:58:16.667Z"
   },
   {
    "duration": 16,
    "start_time": "2024-09-14T10:02:11.583Z"
   },
   {
    "duration": 6,
    "start_time": "2024-09-14T10:03:53.145Z"
   },
   {
    "duration": 5,
    "start_time": "2024-09-14T10:04:38.289Z"
   },
   {
    "duration": 7,
    "start_time": "2024-09-14T10:06:03.482Z"
   },
   {
    "duration": 6,
    "start_time": "2024-09-14T10:06:04.672Z"
   },
   {
    "duration": 803,
    "start_time": "2024-09-14T10:06:25.658Z"
   },
   {
    "duration": 16,
    "start_time": "2024-09-14T10:06:26.463Z"
   },
   {
    "duration": 5,
    "start_time": "2024-09-14T10:06:26.636Z"
   },
   {
    "duration": 20,
    "start_time": "2024-09-14T10:06:26.914Z"
   },
   {
    "duration": 4,
    "start_time": "2024-09-14T10:06:27.348Z"
   },
   {
    "duration": 6,
    "start_time": "2024-09-14T10:06:27.634Z"
   },
   {
    "duration": 5,
    "start_time": "2024-09-14T10:06:27.926Z"
   },
   {
    "duration": 6,
    "start_time": "2024-09-14T10:06:28.222Z"
   },
   {
    "duration": 3,
    "start_time": "2024-09-14T10:06:28.740Z"
   },
   {
    "duration": 281,
    "start_time": "2024-09-14T10:06:28.909Z"
   },
   {
    "duration": 4,
    "start_time": "2024-09-14T10:06:29.240Z"
   },
   {
    "duration": 30,
    "start_time": "2024-09-14T10:06:29.558Z"
   },
   {
    "duration": 268,
    "start_time": "2024-09-14T10:06:30.207Z"
   },
   {
    "duration": 240,
    "start_time": "2024-09-14T10:06:32.435Z"
   },
   {
    "duration": 125,
    "start_time": "2024-09-14T10:06:34.954Z"
   },
   {
    "duration": 282,
    "start_time": "2024-09-14T10:11:50.170Z"
   },
   {
    "duration": 8,
    "start_time": "2024-09-14T10:15:42.174Z"
   },
   {
    "duration": 13,
    "start_time": "2024-09-14T10:15:54.188Z"
   },
   {
    "duration": 3,
    "start_time": "2024-09-14T10:18:51.468Z"
   },
   {
    "duration": 12,
    "start_time": "2024-09-14T10:20:33.457Z"
   },
   {
    "duration": 253,
    "start_time": "2024-09-14T10:20:37.388Z"
   },
   {
    "duration": 42,
    "start_time": "2024-09-14T10:21:55.130Z"
   },
   {
    "duration": 1548,
    "start_time": "2024-09-14T10:22:55.657Z"
   },
   {
    "duration": 262,
    "start_time": "2024-09-14T10:23:04.914Z"
   },
   {
    "duration": 217,
    "start_time": "2024-09-14T10:28:58.464Z"
   },
   {
    "duration": 112,
    "start_time": "2024-09-14T10:44:59.500Z"
   },
   {
    "duration": 109,
    "start_time": "2024-09-14T10:45:44.237Z"
   },
   {
    "duration": 687,
    "start_time": "2024-09-14T10:54:08.801Z"
   },
   {
    "duration": 125,
    "start_time": "2024-09-14T10:54:09.489Z"
   },
   {
    "duration": 15,
    "start_time": "2024-09-14T10:54:09.616Z"
   },
   {
    "duration": 2076,
    "start_time": "2024-09-14T10:54:09.633Z"
   },
   {
    "duration": 7,
    "start_time": "2024-09-14T10:54:11.711Z"
   },
   {
    "duration": 78,
    "start_time": "2024-09-14T10:54:11.719Z"
   },
   {
    "duration": 9,
    "start_time": "2024-09-14T10:54:11.798Z"
   },
   {
    "duration": 38,
    "start_time": "2024-09-14T10:54:11.809Z"
   },
   {
    "duration": 21,
    "start_time": "2024-09-14T10:54:11.848Z"
   },
   {
    "duration": 16,
    "start_time": "2024-09-14T10:54:11.872Z"
   },
   {
    "duration": 25,
    "start_time": "2024-09-14T10:54:11.889Z"
   },
   {
    "duration": 33,
    "start_time": "2024-09-14T10:54:11.916Z"
   },
   {
    "duration": 33,
    "start_time": "2024-09-14T10:54:11.951Z"
   },
   {
    "duration": 34,
    "start_time": "2024-09-14T10:54:11.986Z"
   },
   {
    "duration": 15,
    "start_time": "2024-09-14T10:54:12.021Z"
   },
   {
    "duration": 13,
    "start_time": "2024-09-14T10:54:12.038Z"
   },
   {
    "duration": 26,
    "start_time": "2024-09-14T10:54:12.053Z"
   },
   {
    "duration": 86,
    "start_time": "2024-09-14T10:54:12.081Z"
   },
   {
    "duration": 1257,
    "start_time": "2024-09-14T10:54:12.169Z"
   },
   {
    "duration": 15,
    "start_time": "2024-09-14T10:54:13.428Z"
   },
   {
    "duration": 39,
    "start_time": "2024-09-14T10:54:13.445Z"
   },
   {
    "duration": 27,
    "start_time": "2024-09-14T10:54:13.486Z"
   },
   {
    "duration": 28,
    "start_time": "2024-09-14T10:54:13.514Z"
   },
   {
    "duration": 821,
    "start_time": "2024-09-14T10:54:13.543Z"
   },
   {
    "duration": 13,
    "start_time": "2024-09-14T10:54:14.366Z"
   },
   {
    "duration": 39,
    "start_time": "2024-09-14T10:54:14.381Z"
   },
   {
    "duration": 51,
    "start_time": "2024-09-14T10:54:14.422Z"
   },
   {
    "duration": 25,
    "start_time": "2024-09-14T10:54:14.477Z"
   },
   {
    "duration": 19,
    "start_time": "2024-09-14T10:54:14.503Z"
   },
   {
    "duration": 27,
    "start_time": "2024-09-14T10:54:14.523Z"
   },
   {
    "duration": 16,
    "start_time": "2024-09-14T10:54:14.552Z"
   },
   {
    "duration": 93,
    "start_time": "2024-09-14T10:54:14.569Z"
   },
   {
    "duration": 331,
    "start_time": "2024-09-14T10:54:14.664Z"
   },
   {
    "duration": 10,
    "start_time": "2024-09-14T10:54:14.996Z"
   },
   {
    "duration": 59,
    "start_time": "2024-09-14T10:54:15.007Z"
   },
   {
    "duration": 290,
    "start_time": "2024-09-14T10:54:15.068Z"
   },
   {
    "duration": 328,
    "start_time": "2024-09-14T10:54:15.361Z"
   },
   {
    "duration": 147,
    "start_time": "2024-09-14T10:54:15.690Z"
   },
   {
    "duration": 8,
    "start_time": "2024-09-14T10:54:15.839Z"
   },
   {
    "duration": 10,
    "start_time": "2024-09-14T10:54:15.849Z"
   },
   {
    "duration": 11,
    "start_time": "2024-09-14T10:54:15.861Z"
   },
   {
    "duration": 264,
    "start_time": "2024-09-14T10:54:15.874Z"
   },
   {
    "duration": 114,
    "start_time": "2024-09-14T10:54:16.140Z"
   },
   {
    "duration": 8,
    "start_time": "2024-09-14T10:54:48.092Z"
   },
   {
    "duration": 1255,
    "start_time": "2024-09-14T11:14:30.077Z"
   },
   {
    "duration": 140,
    "start_time": "2024-09-14T11:14:38.536Z"
   },
   {
    "duration": 241,
    "start_time": "2024-09-14T11:14:52.375Z"
   },
   {
    "duration": 239,
    "start_time": "2024-09-14T11:15:23.980Z"
   },
   {
    "duration": 357,
    "start_time": "2024-09-14T11:15:32.717Z"
   },
   {
    "duration": 273,
    "start_time": "2024-09-14T11:17:12.652Z"
   },
   {
    "duration": 290,
    "start_time": "2024-09-14T11:17:16.029Z"
   },
   {
    "duration": 103,
    "start_time": "2024-09-14T11:17:17.114Z"
   },
   {
    "duration": 752,
    "start_time": "2024-09-14T11:17:22.390Z"
   },
   {
    "duration": 138,
    "start_time": "2024-09-14T11:17:23.143Z"
   },
   {
    "duration": 23,
    "start_time": "2024-09-14T11:17:23.283Z"
   },
   {
    "duration": 2224,
    "start_time": "2024-09-14T11:17:23.309Z"
   },
   {
    "duration": 8,
    "start_time": "2024-09-14T11:17:25.535Z"
   },
   {
    "duration": 70,
    "start_time": "2024-09-14T11:17:25.545Z"
   },
   {
    "duration": 7,
    "start_time": "2024-09-14T11:17:25.617Z"
   },
   {
    "duration": 17,
    "start_time": "2024-09-14T11:17:25.626Z"
   },
   {
    "duration": 26,
    "start_time": "2024-09-14T11:17:25.644Z"
   },
   {
    "duration": 22,
    "start_time": "2024-09-14T11:17:25.672Z"
   },
   {
    "duration": 6,
    "start_time": "2024-09-14T11:17:25.696Z"
   },
   {
    "duration": 11,
    "start_time": "2024-09-14T11:17:25.704Z"
   },
   {
    "duration": 18,
    "start_time": "2024-09-14T11:17:25.716Z"
   },
   {
    "duration": 88,
    "start_time": "2024-09-14T11:17:25.736Z"
   },
   {
    "duration": 9,
    "start_time": "2024-09-14T11:17:25.826Z"
   },
   {
    "duration": 16,
    "start_time": "2024-09-14T11:17:25.837Z"
   },
   {
    "duration": 18,
    "start_time": "2024-09-14T11:17:25.854Z"
   },
   {
    "duration": 92,
    "start_time": "2024-09-14T11:17:25.873Z"
   },
   {
    "duration": 1368,
    "start_time": "2024-09-14T11:17:25.966Z"
   },
   {
    "duration": 14,
    "start_time": "2024-09-14T11:17:27.335Z"
   },
   {
    "duration": 16,
    "start_time": "2024-09-14T11:17:27.351Z"
   },
   {
    "duration": 6,
    "start_time": "2024-09-14T11:17:27.369Z"
   },
   {
    "duration": 28,
    "start_time": "2024-09-14T11:17:27.377Z"
   },
   {
    "duration": 831,
    "start_time": "2024-09-14T11:17:27.407Z"
   },
   {
    "duration": 13,
    "start_time": "2024-09-14T11:17:28.240Z"
   },
   {
    "duration": 43,
    "start_time": "2024-09-14T11:17:28.255Z"
   },
   {
    "duration": 40,
    "start_time": "2024-09-14T11:17:28.300Z"
   },
   {
    "duration": 27,
    "start_time": "2024-09-14T11:17:28.343Z"
   },
   {
    "duration": 23,
    "start_time": "2024-09-14T11:17:28.373Z"
   },
   {
    "duration": 34,
    "start_time": "2024-09-14T11:17:28.398Z"
   },
   {
    "duration": 11,
    "start_time": "2024-09-14T11:17:28.434Z"
   },
   {
    "duration": 6,
    "start_time": "2024-09-14T11:17:28.446Z"
   },
   {
    "duration": 332,
    "start_time": "2024-09-14T11:17:28.454Z"
   },
   {
    "duration": 5,
    "start_time": "2024-09-14T11:17:28.788Z"
   },
   {
    "duration": 35,
    "start_time": "2024-09-14T11:17:28.794Z"
   },
   {
    "duration": 129,
    "start_time": "2024-09-14T11:17:28.831Z"
   },
   {
    "duration": 279,
    "start_time": "2024-09-14T11:17:28.962Z"
   },
   {
    "duration": 365,
    "start_time": "2024-09-14T11:17:29.243Z"
   },
   {
    "duration": 259,
    "start_time": "2024-09-14T11:17:29.609Z"
   },
   {
    "duration": 157,
    "start_time": "2024-09-14T11:17:29.870Z"
   },
   {
    "duration": 9,
    "start_time": "2024-09-14T11:17:30.029Z"
   },
   {
    "duration": 34,
    "start_time": "2024-09-14T11:17:30.039Z"
   },
   {
    "duration": 11,
    "start_time": "2024-09-14T11:17:30.074Z"
   },
   {
    "duration": 276,
    "start_time": "2024-09-14T11:17:30.087Z"
   },
   {
    "duration": 8,
    "start_time": "2024-09-14T11:17:30.365Z"
   },
   {
    "duration": 137,
    "start_time": "2024-09-14T11:17:30.375Z"
   },
   {
    "duration": 267,
    "start_time": "2024-09-14T11:17:30.513Z"
   },
   {
    "duration": 11,
    "start_time": "2024-09-14T11:19:04.867Z"
   },
   {
    "duration": 689,
    "start_time": "2024-09-14T11:19:20.912Z"
   },
   {
    "duration": 143,
    "start_time": "2024-09-14T11:19:21.603Z"
   },
   {
    "duration": 16,
    "start_time": "2024-09-14T11:19:21.748Z"
   },
   {
    "duration": 2316,
    "start_time": "2024-09-14T11:19:21.766Z"
   },
   {
    "duration": 8,
    "start_time": "2024-09-14T11:19:24.083Z"
   },
   {
    "duration": 63,
    "start_time": "2024-09-14T11:19:24.093Z"
   },
   {
    "duration": 13,
    "start_time": "2024-09-14T11:19:24.158Z"
   },
   {
    "duration": 12,
    "start_time": "2024-09-14T11:19:24.173Z"
   },
   {
    "duration": 22,
    "start_time": "2024-09-14T11:19:24.187Z"
   },
   {
    "duration": 10,
    "start_time": "2024-09-14T11:19:24.213Z"
   },
   {
    "duration": 7,
    "start_time": "2024-09-14T11:19:24.224Z"
   },
   {
    "duration": 12,
    "start_time": "2024-09-14T11:19:24.233Z"
   },
   {
    "duration": 10,
    "start_time": "2024-09-14T11:19:24.247Z"
   },
   {
    "duration": 47,
    "start_time": "2024-09-14T11:19:24.258Z"
   },
   {
    "duration": 10,
    "start_time": "2024-09-14T11:19:24.307Z"
   },
   {
    "duration": 26,
    "start_time": "2024-09-14T11:19:24.320Z"
   },
   {
    "duration": 9,
    "start_time": "2024-09-14T11:19:24.349Z"
   },
   {
    "duration": 90,
    "start_time": "2024-09-14T11:19:24.361Z"
   },
   {
    "duration": 1392,
    "start_time": "2024-09-14T11:19:24.453Z"
   },
   {
    "duration": 14,
    "start_time": "2024-09-14T11:19:25.847Z"
   },
   {
    "duration": 20,
    "start_time": "2024-09-14T11:19:25.863Z"
   },
   {
    "duration": 23,
    "start_time": "2024-09-14T11:19:25.885Z"
   },
   {
    "duration": 9,
    "start_time": "2024-09-14T11:19:25.910Z"
   },
   {
    "duration": 878,
    "start_time": "2024-09-14T11:19:25.921Z"
   },
   {
    "duration": 19,
    "start_time": "2024-09-14T11:19:26.801Z"
   },
   {
    "duration": 5,
    "start_time": "2024-09-14T11:19:26.822Z"
   },
   {
    "duration": 19,
    "start_time": "2024-09-14T11:19:26.829Z"
   },
   {
    "duration": 7,
    "start_time": "2024-09-14T11:19:26.852Z"
   },
   {
    "duration": 11,
    "start_time": "2024-09-14T11:19:26.862Z"
   },
   {
    "duration": 31,
    "start_time": "2024-09-14T11:19:26.875Z"
   },
   {
    "duration": 7,
    "start_time": "2024-09-14T11:19:26.908Z"
   },
   {
    "duration": 5,
    "start_time": "2024-09-14T11:19:26.918Z"
   },
   {
    "duration": 357,
    "start_time": "2024-09-14T11:19:26.925Z"
   },
   {
    "duration": 5,
    "start_time": "2024-09-14T11:19:27.283Z"
   },
   {
    "duration": 49,
    "start_time": "2024-09-14T11:19:27.290Z"
   },
   {
    "duration": 153,
    "start_time": "2024-09-14T11:19:27.341Z"
   },
   {
    "duration": 281,
    "start_time": "2024-09-14T11:19:27.496Z"
   },
   {
    "duration": 364,
    "start_time": "2024-09-14T11:19:27.779Z"
   },
   {
    "duration": 265,
    "start_time": "2024-09-14T11:19:28.145Z"
   },
   {
    "duration": 153,
    "start_time": "2024-09-14T11:19:28.412Z"
   },
   {
    "duration": 10,
    "start_time": "2024-09-14T11:19:28.568Z"
   },
   {
    "duration": 28,
    "start_time": "2024-09-14T11:19:28.580Z"
   },
   {
    "duration": 12,
    "start_time": "2024-09-14T11:19:28.610Z"
   },
   {
    "duration": 217,
    "start_time": "2024-09-14T11:19:28.624Z"
   },
   {
    "duration": 8,
    "start_time": "2024-09-14T11:19:28.843Z"
   },
   {
    "duration": 134,
    "start_time": "2024-09-14T11:19:28.853Z"
   },
   {
    "duration": 277,
    "start_time": "2024-09-14T11:19:28.989Z"
   },
   {
    "duration": 393,
    "start_time": "2024-09-14T11:20:02.482Z"
   },
   {
    "duration": 273,
    "start_time": "2024-09-14T11:20:24.195Z"
   },
   {
    "duration": 289,
    "start_time": "2024-09-14T11:20:33.062Z"
   },
   {
    "duration": 245,
    "start_time": "2024-09-14T11:20:37.698Z"
   },
   {
    "duration": 293,
    "start_time": "2024-09-14T11:21:14.812Z"
   },
   {
    "duration": 271,
    "start_time": "2024-09-14T11:21:55.705Z"
   },
   {
    "duration": 11,
    "start_time": "2024-09-14T11:29:21.683Z"
   },
   {
    "duration": 349,
    "start_time": "2024-09-14T11:31:49.027Z"
   },
   {
    "duration": 277,
    "start_time": "2024-09-14T11:31:57.914Z"
   },
   {
    "duration": 299,
    "start_time": "2024-09-14T11:32:04.245Z"
   },
   {
    "duration": 66,
    "start_time": "2024-09-14T11:32:43.186Z"
   },
   {
    "duration": 86,
    "start_time": "2024-09-14T11:41:45.655Z"
   },
   {
    "duration": 9,
    "start_time": "2024-09-14T11:44:23.452Z"
   },
   {
    "duration": 259,
    "start_time": "2024-09-14T11:44:24.855Z"
   },
   {
    "duration": 10,
    "start_time": "2024-09-14T11:44:59.280Z"
   },
   {
    "duration": 688,
    "start_time": "2024-09-14T11:45:05.011Z"
   },
   {
    "duration": 142,
    "start_time": "2024-09-14T11:45:05.701Z"
   },
   {
    "duration": 17,
    "start_time": "2024-09-14T11:45:05.844Z"
   },
   {
    "duration": 2226,
    "start_time": "2024-09-14T11:45:05.864Z"
   },
   {
    "duration": 8,
    "start_time": "2024-09-14T11:45:08.092Z"
   },
   {
    "duration": 105,
    "start_time": "2024-09-14T11:45:08.101Z"
   },
   {
    "duration": 11,
    "start_time": "2024-09-14T11:45:08.208Z"
   },
   {
    "duration": 17,
    "start_time": "2024-09-14T11:45:08.222Z"
   },
   {
    "duration": 6,
    "start_time": "2024-09-14T11:45:08.241Z"
   },
   {
    "duration": 21,
    "start_time": "2024-09-14T11:45:08.250Z"
   },
   {
    "duration": 10,
    "start_time": "2024-09-14T11:45:08.273Z"
   },
   {
    "duration": 4,
    "start_time": "2024-09-14T11:45:08.285Z"
   },
   {
    "duration": 19,
    "start_time": "2024-09-14T11:45:08.290Z"
   },
   {
    "duration": 22,
    "start_time": "2024-09-14T11:45:08.311Z"
   },
   {
    "duration": 10,
    "start_time": "2024-09-14T11:45:08.336Z"
   },
   {
    "duration": 17,
    "start_time": "2024-09-14T11:45:08.348Z"
   },
   {
    "duration": 23,
    "start_time": "2024-09-14T11:45:08.368Z"
   },
   {
    "duration": 95,
    "start_time": "2024-09-14T11:45:08.404Z"
   },
   {
    "duration": 1311,
    "start_time": "2024-09-14T11:45:08.501Z"
   },
   {
    "duration": 16,
    "start_time": "2024-09-14T11:45:09.814Z"
   },
   {
    "duration": 50,
    "start_time": "2024-09-14T11:45:09.832Z"
   },
   {
    "duration": 7,
    "start_time": "2024-09-14T11:45:09.884Z"
   },
   {
    "duration": 7,
    "start_time": "2024-09-14T11:45:09.893Z"
   },
   {
    "duration": 806,
    "start_time": "2024-09-14T11:45:09.902Z"
   },
   {
    "duration": 13,
    "start_time": "2024-09-14T11:45:10.710Z"
   },
   {
    "duration": 27,
    "start_time": "2024-09-14T11:45:10.725Z"
   },
   {
    "duration": 16,
    "start_time": "2024-09-14T11:45:10.754Z"
   },
   {
    "duration": 5,
    "start_time": "2024-09-14T11:45:10.774Z"
   },
   {
    "duration": 9,
    "start_time": "2024-09-14T11:45:10.781Z"
   },
   {
    "duration": 15,
    "start_time": "2024-09-14T11:45:10.792Z"
   },
   {
    "duration": 6,
    "start_time": "2024-09-14T11:45:10.809Z"
   },
   {
    "duration": 11,
    "start_time": "2024-09-14T11:45:10.816Z"
   },
   {
    "duration": 352,
    "start_time": "2024-09-14T11:45:10.829Z"
   },
   {
    "duration": 6,
    "start_time": "2024-09-14T11:45:11.184Z"
   },
   {
    "duration": 49,
    "start_time": "2024-09-14T11:45:11.192Z"
   },
   {
    "duration": 307,
    "start_time": "2024-09-14T11:45:11.243Z"
   },
   {
    "duration": 413,
    "start_time": "2024-09-14T11:45:11.552Z"
   },
   {
    "duration": 157,
    "start_time": "2024-09-14T11:45:11.969Z"
   },
   {
    "duration": 12,
    "start_time": "2024-09-14T11:45:12.129Z"
   },
   {
    "duration": 12,
    "start_time": "2024-09-14T11:45:12.143Z"
   },
   {
    "duration": 13,
    "start_time": "2024-09-14T11:45:12.156Z"
   },
   {
    "duration": 240,
    "start_time": "2024-09-14T11:45:12.171Z"
   },
   {
    "duration": 10,
    "start_time": "2024-09-14T11:45:12.412Z"
   },
   {
    "duration": 131,
    "start_time": "2024-09-14T11:45:12.424Z"
   },
   {
    "duration": 291,
    "start_time": "2024-09-14T11:45:12.557Z"
   },
   {
    "duration": 12,
    "start_time": "2024-09-14T11:45:12.850Z"
   },
   {
    "duration": 319,
    "start_time": "2024-09-14T11:45:12.865Z"
   },
   {
    "duration": 55,
    "start_time": "2024-09-14T11:45:13.185Z"
   },
   {
    "duration": 12,
    "start_time": "2024-09-14T11:46:21.808Z"
   },
   {
    "duration": 6,
    "start_time": "2024-09-14T11:46:45.469Z"
   },
   {
    "duration": 5,
    "start_time": "2024-09-14T11:47:09.488Z"
   },
   {
    "duration": 11,
    "start_time": "2024-09-14T11:47:20.479Z"
   },
   {
    "duration": 127,
    "start_time": "2024-09-14T11:48:35.652Z"
   },
   {
    "duration": 87,
    "start_time": "2024-09-14T11:48:41.229Z"
   },
   {
    "duration": 17,
    "start_time": "2024-09-14T11:48:44.487Z"
   },
   {
    "duration": 172,
    "start_time": "2024-09-14T11:48:49.053Z"
   },
   {
    "duration": 41,
    "start_time": "2024-09-14T11:49:28.432Z"
   },
   {
    "duration": 15,
    "start_time": "2024-09-14T11:49:44.876Z"
   },
   {
    "duration": 3214,
    "start_time": "2024-09-14T12:14:44.693Z"
   },
   {
    "duration": 2867,
    "start_time": "2024-09-14T12:15:00.928Z"
   },
   {
    "duration": 646,
    "start_time": "2024-09-14T12:17:27.417Z"
   },
   {
    "duration": 127,
    "start_time": "2024-09-14T12:17:28.064Z"
   },
   {
    "duration": 21,
    "start_time": "2024-09-14T12:17:28.193Z"
   },
   {
    "duration": 2057,
    "start_time": "2024-09-14T12:17:28.216Z"
   },
   {
    "duration": 7,
    "start_time": "2024-09-14T12:17:30.275Z"
   },
   {
    "duration": 136,
    "start_time": "2024-09-14T12:17:30.284Z"
   },
   {
    "duration": 7,
    "start_time": "2024-09-14T12:17:30.422Z"
   },
   {
    "duration": 24,
    "start_time": "2024-09-14T12:17:30.430Z"
   },
   {
    "duration": 5,
    "start_time": "2024-09-14T12:17:30.456Z"
   },
   {
    "duration": 14,
    "start_time": "2024-09-14T12:17:30.464Z"
   },
   {
    "duration": 6,
    "start_time": "2024-09-14T12:17:30.480Z"
   },
   {
    "duration": 5,
    "start_time": "2024-09-14T12:17:30.488Z"
   },
   {
    "duration": 13,
    "start_time": "2024-09-14T12:17:30.495Z"
   },
   {
    "duration": 32,
    "start_time": "2024-09-14T12:17:30.510Z"
   },
   {
    "duration": 7,
    "start_time": "2024-09-14T12:17:30.543Z"
   },
   {
    "duration": 31,
    "start_time": "2024-09-14T12:17:30.552Z"
   },
   {
    "duration": 12,
    "start_time": "2024-09-14T12:17:30.584Z"
   },
   {
    "duration": 72,
    "start_time": "2024-09-14T12:17:30.597Z"
   },
   {
    "duration": 1325,
    "start_time": "2024-09-14T12:17:30.671Z"
   },
   {
    "duration": 19,
    "start_time": "2024-09-14T12:17:31.998Z"
   },
   {
    "duration": 15,
    "start_time": "2024-09-14T12:17:32.019Z"
   },
   {
    "duration": 7,
    "start_time": "2024-09-14T12:17:32.036Z"
   },
   {
    "duration": 17,
    "start_time": "2024-09-14T12:17:32.044Z"
   },
   {
    "duration": 19,
    "start_time": "2024-09-14T12:17:32.063Z"
   },
   {
    "duration": 4,
    "start_time": "2024-09-14T12:17:32.084Z"
   },
   {
    "duration": 15,
    "start_time": "2024-09-14T12:17:32.105Z"
   },
   {
    "duration": 4,
    "start_time": "2024-09-14T12:17:32.122Z"
   },
   {
    "duration": 14,
    "start_time": "2024-09-14T12:17:32.129Z"
   },
   {
    "duration": 5,
    "start_time": "2024-09-14T12:17:32.145Z"
   },
   {
    "duration": 6,
    "start_time": "2024-09-14T12:17:32.152Z"
   },
   {
    "duration": 3,
    "start_time": "2024-09-14T12:17:32.159Z"
   },
   {
    "duration": 338,
    "start_time": "2024-09-14T12:17:32.164Z"
   },
   {
    "duration": 5,
    "start_time": "2024-09-14T12:17:32.503Z"
   },
   {
    "duration": 26,
    "start_time": "2024-09-14T12:17:32.510Z"
   },
   {
    "duration": 286,
    "start_time": "2024-09-14T12:17:32.538Z"
   },
   {
    "duration": 385,
    "start_time": "2024-09-14T12:17:32.826Z"
   },
   {
    "duration": 156,
    "start_time": "2024-09-14T12:17:33.213Z"
   },
   {
    "duration": 12,
    "start_time": "2024-09-14T12:17:33.371Z"
   },
   {
    "duration": 24,
    "start_time": "2024-09-14T12:17:33.385Z"
   },
   {
    "duration": 27,
    "start_time": "2024-09-14T12:17:33.411Z"
   },
   {
    "duration": 229,
    "start_time": "2024-09-14T12:17:33.439Z"
   },
   {
    "duration": 10,
    "start_time": "2024-09-14T12:17:33.670Z"
   },
   {
    "duration": 135,
    "start_time": "2024-09-14T12:17:33.681Z"
   },
   {
    "duration": 269,
    "start_time": "2024-09-14T12:17:33.818Z"
   },
   {
    "duration": 18,
    "start_time": "2024-09-14T12:17:34.089Z"
   },
   {
    "duration": 3055,
    "start_time": "2024-09-14T12:17:34.109Z"
   },
   {
    "duration": 16,
    "start_time": "2024-09-14T12:36:27.335Z"
   },
   {
    "duration": 81,
    "start_time": "2024-09-14T14:38:19.286Z"
   },
   {
    "duration": 3017,
    "start_time": "2024-09-14T14:43:57.276Z"
   },
   {
    "duration": 225,
    "start_time": "2024-09-14T15:53:54.467Z"
   },
   {
    "duration": 397,
    "start_time": "2024-09-14T15:54:48.459Z"
   },
   {
    "duration": 82,
    "start_time": "2024-09-14T15:55:55.907Z"
   },
   {
    "duration": 9,
    "start_time": "2024-09-14T15:56:21.174Z"
   },
   {
    "duration": 8,
    "start_time": "2024-09-14T15:56:24.914Z"
   },
   {
    "duration": 8,
    "start_time": "2024-09-14T15:56:27.232Z"
   },
   {
    "duration": 8,
    "start_time": "2024-09-14T15:56:34.561Z"
   },
   {
    "duration": 9,
    "start_time": "2024-09-14T15:56:52.523Z"
   },
   {
    "duration": 7,
    "start_time": "2024-09-14T15:56:55.601Z"
   },
   {
    "duration": 9,
    "start_time": "2024-09-14T15:57:26.117Z"
   },
   {
    "duration": 238,
    "start_time": "2024-09-14T16:59:16.538Z"
   },
   {
    "duration": 218,
    "start_time": "2024-09-14T17:00:20.321Z"
   },
   {
    "duration": 7,
    "start_time": "2024-09-14T17:04:25.098Z"
   },
   {
    "duration": 6,
    "start_time": "2024-09-14T17:04:53.902Z"
   },
   {
    "duration": 15,
    "start_time": "2024-09-14T17:14:33.062Z"
   },
   {
    "duration": 257,
    "start_time": "2024-09-14T17:16:30.972Z"
   },
   {
    "duration": 269,
    "start_time": "2024-09-14T17:17:24.155Z"
   },
   {
    "duration": 293,
    "start_time": "2024-09-14T17:17:43.171Z"
   },
   {
    "duration": 291,
    "start_time": "2024-09-14T17:17:49.931Z"
   },
   {
    "duration": 313,
    "start_time": "2024-09-14T17:17:56.663Z"
   },
   {
    "duration": 262,
    "start_time": "2024-09-14T17:18:03.238Z"
   },
   {
    "duration": 267,
    "start_time": "2024-09-14T17:18:59.757Z"
   },
   {
    "duration": 287,
    "start_time": "2024-09-14T17:19:05.429Z"
   },
   {
    "duration": 282,
    "start_time": "2024-09-14T17:20:16.767Z"
   },
   {
    "duration": 195,
    "start_time": "2024-09-14T17:20:40.857Z"
   },
   {
    "duration": 197,
    "start_time": "2024-09-14T17:20:47.531Z"
   },
   {
    "duration": 5,
    "start_time": "2024-09-14T17:22:54.696Z"
   },
   {
    "duration": 229,
    "start_time": "2024-09-14T17:23:41.431Z"
   },
   {
    "duration": 6,
    "start_time": "2024-09-14T17:24:15.705Z"
   },
   {
    "duration": 241,
    "start_time": "2024-09-14T17:36:50.307Z"
   },
   {
    "duration": 5,
    "start_time": "2024-09-14T17:36:52.575Z"
   },
   {
    "duration": 193,
    "start_time": "2024-09-14T17:38:24.306Z"
   },
   {
    "duration": 5,
    "start_time": "2024-09-14T17:38:26.145Z"
   },
   {
    "duration": 184,
    "start_time": "2024-09-14T17:39:48.471Z"
   },
   {
    "duration": 388,
    "start_time": "2024-09-14T17:40:06.286Z"
   },
   {
    "duration": 513,
    "start_time": "2024-09-14T17:40:14.777Z"
   },
   {
    "duration": 5,
    "start_time": "2024-09-14T17:44:58.250Z"
   },
   {
    "duration": 4,
    "start_time": "2024-09-14T17:46:55.337Z"
   },
   {
    "duration": 5,
    "start_time": "2024-09-14T17:47:33.412Z"
   },
   {
    "duration": 4,
    "start_time": "2024-09-14T17:48:01.936Z"
   },
   {
    "duration": 180,
    "start_time": "2024-09-14T17:48:03.288Z"
   },
   {
    "duration": 187,
    "start_time": "2024-09-14T17:48:12.607Z"
   },
   {
    "duration": 9,
    "start_time": "2024-09-14T17:58:33.694Z"
   },
   {
    "duration": 9,
    "start_time": "2024-09-14T17:58:56.667Z"
   },
   {
    "duration": 711,
    "start_time": "2024-09-14T17:59:07.268Z"
   },
   {
    "duration": 148,
    "start_time": "2024-09-14T17:59:07.981Z"
   },
   {
    "duration": 22,
    "start_time": "2024-09-14T17:59:08.131Z"
   },
   {
    "duration": 2142,
    "start_time": "2024-09-14T17:59:08.155Z"
   },
   {
    "duration": 7,
    "start_time": "2024-09-14T17:59:10.299Z"
   },
   {
    "duration": 74,
    "start_time": "2024-09-14T17:59:10.307Z"
   },
   {
    "duration": 9,
    "start_time": "2024-09-14T17:59:10.382Z"
   },
   {
    "duration": 15,
    "start_time": "2024-09-14T17:59:10.392Z"
   },
   {
    "duration": 6,
    "start_time": "2024-09-14T17:59:10.409Z"
   },
   {
    "duration": 9,
    "start_time": "2024-09-14T17:59:10.417Z"
   },
   {
    "duration": 7,
    "start_time": "2024-09-14T17:59:10.428Z"
   },
   {
    "duration": 4,
    "start_time": "2024-09-14T17:59:10.437Z"
   },
   {
    "duration": 4,
    "start_time": "2024-09-14T17:59:10.442Z"
   },
   {
    "duration": 15,
    "start_time": "2024-09-14T17:59:10.448Z"
   },
   {
    "duration": 41,
    "start_time": "2024-09-14T17:59:10.465Z"
   },
   {
    "duration": 9,
    "start_time": "2024-09-14T17:59:10.508Z"
   },
   {
    "duration": 34,
    "start_time": "2024-09-14T17:59:10.519Z"
   },
   {
    "duration": 100,
    "start_time": "2024-09-14T17:59:10.555Z"
   },
   {
    "duration": 1290,
    "start_time": "2024-09-14T17:59:10.657Z"
   },
   {
    "duration": 16,
    "start_time": "2024-09-14T17:59:11.949Z"
   },
   {
    "duration": 14,
    "start_time": "2024-09-14T17:59:11.966Z"
   },
   {
    "duration": 5,
    "start_time": "2024-09-14T17:59:11.981Z"
   },
   {
    "duration": 6,
    "start_time": "2024-09-14T17:59:12.004Z"
   },
   {
    "duration": 11,
    "start_time": "2024-09-14T17:59:12.012Z"
   },
   {
    "duration": 10,
    "start_time": "2024-09-14T17:59:12.024Z"
   },
   {
    "duration": 17,
    "start_time": "2024-09-14T17:59:12.035Z"
   },
   {
    "duration": 6,
    "start_time": "2024-09-14T17:59:12.053Z"
   },
   {
    "duration": 13,
    "start_time": "2024-09-14T17:59:12.062Z"
   },
   {
    "duration": 31,
    "start_time": "2024-09-14T17:59:12.077Z"
   },
   {
    "duration": 6,
    "start_time": "2024-09-14T17:59:12.109Z"
   },
   {
    "duration": 3,
    "start_time": "2024-09-14T17:59:12.116Z"
   },
   {
    "duration": 314,
    "start_time": "2024-09-14T17:59:12.121Z"
   },
   {
    "duration": 4,
    "start_time": "2024-09-14T17:59:12.436Z"
   },
   {
    "duration": 25,
    "start_time": "2024-09-14T17:59:12.442Z"
   },
   {
    "duration": 288,
    "start_time": "2024-09-14T17:59:12.468Z"
   },
   {
    "duration": 415,
    "start_time": "2024-09-14T17:59:12.759Z"
   },
   {
    "duration": 138,
    "start_time": "2024-09-14T17:59:13.175Z"
   },
   {
    "duration": 9,
    "start_time": "2024-09-14T17:59:13.314Z"
   },
   {
    "duration": 14,
    "start_time": "2024-09-14T17:59:13.325Z"
   },
   {
    "duration": 11,
    "start_time": "2024-09-14T17:59:13.341Z"
   },
   {
    "duration": 204,
    "start_time": "2024-09-14T17:59:13.353Z"
   },
   {
    "duration": 8,
    "start_time": "2024-09-14T17:59:13.558Z"
   },
   {
    "duration": 123,
    "start_time": "2024-09-14T17:59:13.568Z"
   },
   {
    "duration": 257,
    "start_time": "2024-09-14T17:59:13.693Z"
   },
   {
    "duration": 8,
    "start_time": "2024-09-14T17:59:13.952Z"
   },
   {
    "duration": 2909,
    "start_time": "2024-09-14T17:59:13.961Z"
   },
   {
    "duration": 8,
    "start_time": "2024-09-14T17:59:16.872Z"
   },
   {
    "duration": 244,
    "start_time": "2024-09-14T17:59:16.882Z"
   },
   {
    "duration": 6,
    "start_time": "2024-09-14T17:59:17.127Z"
   },
   {
    "duration": 321,
    "start_time": "2024-09-14T17:59:17.134Z"
   },
   {
    "duration": 5,
    "start_time": "2024-09-14T17:59:17.457Z"
   },
   {
    "duration": 212,
    "start_time": "2024-09-14T17:59:17.464Z"
   },
   {
    "duration": 6,
    "start_time": "2024-09-14T17:59:17.678Z"
   },
   {
    "duration": 234,
    "start_time": "2024-09-14T17:59:17.687Z"
   },
   {
    "duration": 5,
    "start_time": "2024-09-14T17:59:17.922Z"
   },
   {
    "duration": 212,
    "start_time": "2024-09-14T17:59:17.928Z"
   },
   {
    "duration": 5,
    "start_time": "2024-09-14T17:59:18.141Z"
   },
   {
    "duration": 186,
    "start_time": "2024-09-14T17:59:18.147Z"
   },
   {
    "duration": 197,
    "start_time": "2024-09-14T17:59:18.335Z"
   },
   {
    "duration": 4,
    "start_time": "2024-09-14T17:59:18.534Z"
   },
   {
    "duration": 204,
    "start_time": "2024-09-14T17:59:18.539Z"
   },
   {
    "duration": 4,
    "start_time": "2024-09-14T17:59:18.744Z"
   },
   {
    "duration": 203,
    "start_time": "2024-09-14T17:59:18.750Z"
   },
   {
    "duration": 5,
    "start_time": "2024-09-14T17:59:18.954Z"
   },
   {
    "duration": 199,
    "start_time": "2024-09-14T17:59:18.961Z"
   },
   {
    "duration": 4,
    "start_time": "2024-09-14T17:59:19.162Z"
   },
   {
    "duration": 14,
    "start_time": "2024-09-14T17:59:19.168Z"
   },
   {
    "duration": 73,
    "start_time": "2024-09-14T17:59:52.087Z"
   },
   {
    "duration": 672,
    "start_time": "2024-09-14T17:59:55.860Z"
   },
   {
    "duration": 136,
    "start_time": "2024-09-14T17:59:56.534Z"
   },
   {
    "duration": 15,
    "start_time": "2024-09-14T17:59:56.672Z"
   },
   {
    "duration": 2172,
    "start_time": "2024-09-14T17:59:56.689Z"
   },
   {
    "duration": 7,
    "start_time": "2024-09-14T17:59:58.863Z"
   },
   {
    "duration": 90,
    "start_time": "2024-09-14T17:59:58.872Z"
   },
   {
    "duration": 7,
    "start_time": "2024-09-14T17:59:58.964Z"
   },
   {
    "duration": 17,
    "start_time": "2024-09-14T17:59:58.973Z"
   },
   {
    "duration": 19,
    "start_time": "2024-09-14T17:59:58.993Z"
   },
   {
    "duration": 24,
    "start_time": "2024-09-14T17:59:59.015Z"
   },
   {
    "duration": 12,
    "start_time": "2024-09-14T17:59:59.040Z"
   },
   {
    "duration": 5,
    "start_time": "2024-09-14T17:59:59.053Z"
   },
   {
    "duration": 5,
    "start_time": "2024-09-14T17:59:59.059Z"
   },
   {
    "duration": 16,
    "start_time": "2024-09-14T17:59:59.066Z"
   },
   {
    "duration": 8,
    "start_time": "2024-09-14T17:59:59.084Z"
   },
   {
    "duration": 10,
    "start_time": "2024-09-14T17:59:59.105Z"
   },
   {
    "duration": 19,
    "start_time": "2024-09-14T17:59:59.116Z"
   },
   {
    "duration": 78,
    "start_time": "2024-09-14T17:59:59.136Z"
   },
   {
    "duration": 1233,
    "start_time": "2024-09-14T17:59:59.216Z"
   },
   {
    "duration": 13,
    "start_time": "2024-09-14T18:00:00.451Z"
   },
   {
    "duration": 39,
    "start_time": "2024-09-14T18:00:00.465Z"
   },
   {
    "duration": 6,
    "start_time": "2024-09-14T18:00:00.505Z"
   },
   {
    "duration": 35,
    "start_time": "2024-09-14T18:00:00.512Z"
   },
   {
    "duration": 22,
    "start_time": "2024-09-14T18:00:00.549Z"
   },
   {
    "duration": 13,
    "start_time": "2024-09-14T18:00:00.572Z"
   },
   {
    "duration": 20,
    "start_time": "2024-09-14T18:00:00.587Z"
   },
   {
    "duration": 12,
    "start_time": "2024-09-14T18:00:00.609Z"
   },
   {
    "duration": 10,
    "start_time": "2024-09-14T18:00:00.625Z"
   },
   {
    "duration": 10,
    "start_time": "2024-09-14T18:00:00.637Z"
   },
   {
    "duration": 96,
    "start_time": "2024-09-14T18:00:00.649Z"
   },
   {
    "duration": 19,
    "start_time": "2024-09-14T18:00:00.746Z"
   },
   {
    "duration": 334,
    "start_time": "2024-09-14T18:00:00.766Z"
   },
   {
    "duration": 5,
    "start_time": "2024-09-14T18:00:01.102Z"
   },
   {
    "duration": 59,
    "start_time": "2024-09-14T18:00:01.108Z"
   },
   {
    "duration": 270,
    "start_time": "2024-09-14T18:00:01.169Z"
   },
   {
    "duration": 350,
    "start_time": "2024-09-14T18:00:01.441Z"
   },
   {
    "duration": 165,
    "start_time": "2024-09-14T18:00:01.793Z"
   },
   {
    "duration": 10,
    "start_time": "2024-09-14T18:00:01.959Z"
   },
   {
    "duration": 40,
    "start_time": "2024-09-14T18:00:01.971Z"
   },
   {
    "duration": 13,
    "start_time": "2024-09-14T18:00:02.013Z"
   },
   {
    "duration": 222,
    "start_time": "2024-09-14T18:00:02.027Z"
   },
   {
    "duration": 9,
    "start_time": "2024-09-14T18:00:02.250Z"
   },
   {
    "duration": 146,
    "start_time": "2024-09-14T18:00:02.260Z"
   },
   {
    "duration": 269,
    "start_time": "2024-09-14T18:00:02.408Z"
   },
   {
    "duration": 9,
    "start_time": "2024-09-14T18:00:02.678Z"
   },
   {
    "duration": 3013,
    "start_time": "2024-09-14T18:00:02.689Z"
   },
   {
    "duration": 8,
    "start_time": "2024-09-14T18:00:05.704Z"
   },
   {
    "duration": 253,
    "start_time": "2024-09-14T18:00:05.714Z"
   },
   {
    "duration": 6,
    "start_time": "2024-09-14T18:00:05.970Z"
   },
   {
    "duration": 354,
    "start_time": "2024-09-14T18:00:05.978Z"
   },
   {
    "duration": 5,
    "start_time": "2024-09-14T18:00:06.333Z"
   },
   {
    "duration": 207,
    "start_time": "2024-09-14T18:00:06.339Z"
   },
   {
    "duration": 4,
    "start_time": "2024-09-14T18:00:06.548Z"
   },
   {
    "duration": 212,
    "start_time": "2024-09-14T18:00:06.554Z"
   },
   {
    "duration": 5,
    "start_time": "2024-09-14T18:00:06.767Z"
   },
   {
    "duration": 282,
    "start_time": "2024-09-14T18:00:06.773Z"
   },
   {
    "duration": 5,
    "start_time": "2024-09-14T18:00:07.057Z"
   },
   {
    "duration": 183,
    "start_time": "2024-09-14T18:00:07.063Z"
   },
   {
    "duration": 217,
    "start_time": "2024-09-14T18:00:07.248Z"
   },
   {
    "duration": 5,
    "start_time": "2024-09-14T18:00:07.467Z"
   },
   {
    "duration": 245,
    "start_time": "2024-09-14T18:00:07.474Z"
   },
   {
    "duration": 5,
    "start_time": "2024-09-14T18:00:07.721Z"
   },
   {
    "duration": 217,
    "start_time": "2024-09-14T18:00:07.728Z"
   },
   {
    "duration": 5,
    "start_time": "2024-09-14T18:00:07.947Z"
   },
   {
    "duration": 226,
    "start_time": "2024-09-14T18:00:07.953Z"
   },
   {
    "duration": 5,
    "start_time": "2024-09-14T18:00:08.181Z"
   },
   {
    "duration": 100,
    "start_time": "2024-09-14T18:00:08.188Z"
   },
   {
    "duration": 14,
    "start_time": "2024-09-14T18:01:52.432Z"
   },
   {
    "duration": 14,
    "start_time": "2024-09-14T18:01:58.828Z"
   },
   {
    "duration": 14,
    "start_time": "2024-09-14T18:02:20.327Z"
   },
   {
    "duration": 12,
    "start_time": "2024-09-14T18:02:21.012Z"
   },
   {
    "duration": 3,
    "start_time": "2024-09-14T18:04:56.891Z"
   },
   {
    "duration": 3,
    "start_time": "2024-09-14T18:05:16.439Z"
   },
   {
    "duration": 5,
    "start_time": "2024-09-14T18:05:22.639Z"
   },
   {
    "duration": 6,
    "start_time": "2024-09-14T18:07:07.067Z"
   },
   {
    "duration": 5,
    "start_time": "2024-09-14T18:08:38.896Z"
   },
   {
    "duration": 157,
    "start_time": "2024-09-14T18:09:31.169Z"
   },
   {
    "duration": 82,
    "start_time": "2024-09-14T18:11:25.037Z"
   },
   {
    "duration": 12,
    "start_time": "2024-09-14T18:11:33.297Z"
   },
   {
    "duration": 11,
    "start_time": "2024-09-14T18:11:38.316Z"
   },
   {
    "duration": 14,
    "start_time": "2024-09-14T18:11:40.277Z"
   },
   {
    "duration": 742,
    "start_time": "2024-09-14T18:11:48.518Z"
   },
   {
    "duration": 129,
    "start_time": "2024-09-14T18:11:49.262Z"
   },
   {
    "duration": 15,
    "start_time": "2024-09-14T18:11:49.393Z"
   },
   {
    "duration": 2227,
    "start_time": "2024-09-14T18:11:49.410Z"
   },
   {
    "duration": 7,
    "start_time": "2024-09-14T18:11:51.639Z"
   },
   {
    "duration": 89,
    "start_time": "2024-09-14T18:11:51.648Z"
   },
   {
    "duration": 8,
    "start_time": "2024-09-14T18:11:51.739Z"
   },
   {
    "duration": 14,
    "start_time": "2024-09-14T18:11:51.750Z"
   },
   {
    "duration": 8,
    "start_time": "2024-09-14T18:11:51.766Z"
   },
   {
    "duration": 28,
    "start_time": "2024-09-14T18:11:51.777Z"
   },
   {
    "duration": 15,
    "start_time": "2024-09-14T18:11:51.807Z"
   },
   {
    "duration": 5,
    "start_time": "2024-09-14T18:11:51.824Z"
   },
   {
    "duration": 6,
    "start_time": "2024-09-14T18:11:51.831Z"
   },
   {
    "duration": 19,
    "start_time": "2024-09-14T18:11:51.839Z"
   },
   {
    "duration": 7,
    "start_time": "2024-09-14T18:11:51.859Z"
   },
   {
    "duration": 10,
    "start_time": "2024-09-14T18:11:51.868Z"
   },
   {
    "duration": 22,
    "start_time": "2024-09-14T18:11:51.906Z"
   },
   {
    "duration": 68,
    "start_time": "2024-09-14T18:11:51.930Z"
   },
   {
    "duration": 1248,
    "start_time": "2024-09-14T18:11:52.004Z"
   },
   {
    "duration": 12,
    "start_time": "2024-09-14T18:11:53.254Z"
   },
   {
    "duration": 41,
    "start_time": "2024-09-14T18:11:53.268Z"
   },
   {
    "duration": 7,
    "start_time": "2024-09-14T18:11:53.310Z"
   },
   {
    "duration": 6,
    "start_time": "2024-09-14T18:11:53.318Z"
   },
   {
    "duration": 17,
    "start_time": "2024-09-14T18:11:53.326Z"
   },
   {
    "duration": 5,
    "start_time": "2024-09-14T18:11:53.345Z"
   },
   {
    "duration": 16,
    "start_time": "2024-09-14T18:11:53.352Z"
   },
   {
    "duration": 35,
    "start_time": "2024-09-14T18:11:53.370Z"
   },
   {
    "duration": 6,
    "start_time": "2024-09-14T18:11:53.409Z"
   },
   {
    "duration": 13,
    "start_time": "2024-09-14T18:11:53.417Z"
   },
   {
    "duration": 5,
    "start_time": "2024-09-14T18:11:53.432Z"
   },
   {
    "duration": 3,
    "start_time": "2024-09-14T18:11:53.439Z"
   },
   {
    "duration": 331,
    "start_time": "2024-09-14T18:11:53.444Z"
   },
   {
    "duration": 5,
    "start_time": "2024-09-14T18:11:53.776Z"
   },
   {
    "duration": 35,
    "start_time": "2024-09-14T18:11:53.782Z"
   },
   {
    "duration": 307,
    "start_time": "2024-09-14T18:11:53.819Z"
   },
   {
    "duration": 345,
    "start_time": "2024-09-14T18:11:54.128Z"
   },
   {
    "duration": 142,
    "start_time": "2024-09-14T18:11:54.474Z"
   },
   {
    "duration": 8,
    "start_time": "2024-09-14T18:11:54.618Z"
   },
   {
    "duration": 9,
    "start_time": "2024-09-14T18:11:54.628Z"
   },
   {
    "duration": 11,
    "start_time": "2024-09-14T18:11:54.639Z"
   },
   {
    "duration": 224,
    "start_time": "2024-09-14T18:11:54.651Z"
   },
   {
    "duration": 9,
    "start_time": "2024-09-14T18:11:54.877Z"
   },
   {
    "duration": 128,
    "start_time": "2024-09-14T18:11:54.888Z"
   },
   {
    "duration": 266,
    "start_time": "2024-09-14T18:11:55.018Z"
   },
   {
    "duration": 9,
    "start_time": "2024-09-14T18:11:55.286Z"
   },
   {
    "duration": 2944,
    "start_time": "2024-09-14T18:11:55.305Z"
   },
   {
    "duration": 7,
    "start_time": "2024-09-14T18:11:58.251Z"
   },
   {
    "duration": 273,
    "start_time": "2024-09-14T18:11:58.259Z"
   },
   {
    "duration": 6,
    "start_time": "2024-09-14T18:11:58.534Z"
   },
   {
    "duration": 334,
    "start_time": "2024-09-14T18:11:58.542Z"
   },
   {
    "duration": 5,
    "start_time": "2024-09-14T18:11:58.877Z"
   },
   {
    "duration": 221,
    "start_time": "2024-09-14T18:11:58.884Z"
   },
   {
    "duration": 5,
    "start_time": "2024-09-14T18:11:59.107Z"
   },
   {
    "duration": 219,
    "start_time": "2024-09-14T18:11:59.113Z"
   },
   {
    "duration": 5,
    "start_time": "2024-09-14T18:11:59.334Z"
   },
   {
    "duration": 210,
    "start_time": "2024-09-14T18:11:59.341Z"
   },
   {
    "duration": 6,
    "start_time": "2024-09-14T18:11:59.553Z"
   },
   {
    "duration": 188,
    "start_time": "2024-09-14T18:11:59.561Z"
   },
   {
    "duration": 200,
    "start_time": "2024-09-14T18:11:59.751Z"
   },
   {
    "duration": 5,
    "start_time": "2024-09-14T18:11:59.953Z"
   },
   {
    "duration": 203,
    "start_time": "2024-09-14T18:11:59.960Z"
   },
   {
    "duration": 4,
    "start_time": "2024-09-14T18:12:00.165Z"
   },
   {
    "duration": 230,
    "start_time": "2024-09-14T18:12:00.171Z"
   },
   {
    "duration": 6,
    "start_time": "2024-09-14T18:12:00.405Z"
   },
   {
    "duration": 225,
    "start_time": "2024-09-14T18:12:00.412Z"
   },
   {
    "duration": 5,
    "start_time": "2024-09-14T18:12:00.639Z"
   },
   {
    "duration": 11,
    "start_time": "2024-09-14T18:12:00.646Z"
   },
   {
    "duration": 15,
    "start_time": "2024-09-14T18:12:00.659Z"
   },
   {
    "duration": 20,
    "start_time": "2024-09-14T18:12:00.676Z"
   },
   {
    "duration": 75,
    "start_time": "2024-09-14T18:12:00.706Z"
   },
   {
    "duration": 8,
    "start_time": "2024-09-14T18:12:00.782Z"
   },
   {
    "duration": 11,
    "start_time": "2024-09-14T18:12:00.792Z"
   },
   {
    "duration": 43,
    "start_time": "2024-09-14T18:12:00.805Z"
   },
   {
    "duration": 82,
    "start_time": "2024-09-14T18:12:00.850Z"
   },
   {
    "duration": 4,
    "start_time": "2024-09-14T18:12:22.012Z"
   },
   {
    "duration": 7,
    "start_time": "2024-09-14T18:12:48.122Z"
   },
   {
    "duration": 17,
    "start_time": "2024-09-14T18:12:49.549Z"
   },
   {
    "duration": 12,
    "start_time": "2024-09-14T18:13:01.370Z"
   },
   {
    "duration": 235,
    "start_time": "2024-09-14T18:13:30.738Z"
   },
   {
    "duration": 224,
    "start_time": "2024-09-14T18:13:46.089Z"
   },
   {
    "duration": 1207,
    "start_time": "2024-09-14T18:15:20.136Z"
   },
   {
    "duration": 1183,
    "start_time": "2024-09-14T18:15:24.113Z"
   },
   {
    "duration": 1226,
    "start_time": "2024-09-14T18:16:35.848Z"
   },
   {
    "duration": 1189,
    "start_time": "2024-09-14T18:17:38.392Z"
   },
   {
    "duration": 12,
    "start_time": "2024-09-14T18:17:53.278Z"
   },
   {
    "duration": 12,
    "start_time": "2024-09-14T18:18:01.227Z"
   },
   {
    "duration": 229,
    "start_time": "2024-09-14T18:19:22.536Z"
   },
   {
    "duration": 207,
    "start_time": "2024-09-14T18:20:21.187Z"
   },
   {
    "duration": 299,
    "start_time": "2024-09-14T18:22:56.608Z"
   },
   {
    "duration": 442,
    "start_time": "2024-09-14T18:23:37.757Z"
   },
   {
    "duration": 323,
    "start_time": "2024-09-14T18:24:42.788Z"
   },
   {
    "duration": 49,
    "start_time": "2024-09-15T19:55:10.445Z"
   },
   {
    "duration": 959,
    "start_time": "2024-09-15T19:55:18.403Z"
   },
   {
    "duration": 200,
    "start_time": "2024-09-15T19:55:19.364Z"
   },
   {
    "duration": 17,
    "start_time": "2024-09-15T19:55:19.566Z"
   },
   {
    "duration": 2252,
    "start_time": "2024-09-15T19:55:19.585Z"
   },
   {
    "duration": 8,
    "start_time": "2024-09-15T19:55:21.838Z"
   },
   {
    "duration": 101,
    "start_time": "2024-09-15T19:55:21.847Z"
   },
   {
    "duration": 9,
    "start_time": "2024-09-15T19:55:21.950Z"
   },
   {
    "duration": 17,
    "start_time": "2024-09-15T19:55:21.960Z"
   },
   {
    "duration": 15,
    "start_time": "2024-09-15T19:55:21.979Z"
   },
   {
    "duration": 27,
    "start_time": "2024-09-15T19:55:21.997Z"
   },
   {
    "duration": 15,
    "start_time": "2024-09-15T19:55:22.026Z"
   },
   {
    "duration": 4,
    "start_time": "2024-09-15T19:55:22.043Z"
   },
   {
    "duration": 11,
    "start_time": "2024-09-15T19:55:22.049Z"
   },
   {
    "duration": 18,
    "start_time": "2024-09-15T19:55:22.062Z"
   },
   {
    "duration": 8,
    "start_time": "2024-09-15T19:55:22.081Z"
   },
   {
    "duration": 10,
    "start_time": "2024-09-15T19:55:22.090Z"
   },
   {
    "duration": 14,
    "start_time": "2024-09-15T19:55:22.101Z"
   },
   {
    "duration": 95,
    "start_time": "2024-09-15T19:55:22.117Z"
   },
   {
    "duration": 1372,
    "start_time": "2024-09-15T19:55:22.214Z"
   },
   {
    "duration": 13,
    "start_time": "2024-09-15T19:55:23.587Z"
   },
   {
    "duration": 13,
    "start_time": "2024-09-15T19:55:23.602Z"
   },
   {
    "duration": 5,
    "start_time": "2024-09-15T19:55:23.617Z"
   },
   {
    "duration": 5,
    "start_time": "2024-09-15T19:55:23.624Z"
   },
   {
    "duration": 43,
    "start_time": "2024-09-15T19:55:23.631Z"
   },
   {
    "duration": 41,
    "start_time": "2024-09-15T19:55:23.676Z"
   },
   {
    "duration": 15,
    "start_time": "2024-09-15T19:55:23.719Z"
   },
   {
    "duration": 5,
    "start_time": "2024-09-15T19:55:23.735Z"
   },
   {
    "duration": 6,
    "start_time": "2024-09-15T19:55:23.744Z"
   },
   {
    "duration": 6,
    "start_time": "2024-09-15T19:55:23.752Z"
   },
   {
    "duration": 6,
    "start_time": "2024-09-15T19:55:23.760Z"
   },
   {
    "duration": 4,
    "start_time": "2024-09-15T19:55:23.768Z"
   },
   {
    "duration": 321,
    "start_time": "2024-09-15T19:55:23.773Z"
   },
   {
    "duration": 4,
    "start_time": "2024-09-15T19:55:24.096Z"
   },
   {
    "duration": 44,
    "start_time": "2024-09-15T19:55:24.102Z"
   },
   {
    "duration": 345,
    "start_time": "2024-09-15T19:55:24.148Z"
   },
   {
    "duration": 368,
    "start_time": "2024-09-15T19:55:24.495Z"
   },
   {
    "duration": 196,
    "start_time": "2024-09-15T19:55:24.865Z"
   },
   {
    "duration": 10,
    "start_time": "2024-09-15T19:55:25.063Z"
   },
   {
    "duration": 18,
    "start_time": "2024-09-15T19:55:25.075Z"
   },
   {
    "duration": 16,
    "start_time": "2024-09-15T19:55:25.095Z"
   },
   {
    "duration": 229,
    "start_time": "2024-09-15T19:55:25.113Z"
   },
   {
    "duration": 12,
    "start_time": "2024-09-15T19:55:25.344Z"
   },
   {
    "duration": 137,
    "start_time": "2024-09-15T19:55:25.358Z"
   },
   {
    "duration": 274,
    "start_time": "2024-09-15T19:55:25.497Z"
   },
   {
    "duration": 9,
    "start_time": "2024-09-15T19:55:25.773Z"
   },
   {
    "duration": 3094,
    "start_time": "2024-09-15T19:55:25.783Z"
   },
   {
    "duration": 9,
    "start_time": "2024-09-15T19:55:28.879Z"
   },
   {
    "duration": 251,
    "start_time": "2024-09-15T19:55:28.889Z"
   },
   {
    "duration": 16,
    "start_time": "2024-09-15T19:55:29.142Z"
   },
   {
    "duration": 12,
    "start_time": "2024-09-15T19:55:29.161Z"
   },
   {
    "duration": 365,
    "start_time": "2024-09-15T19:55:29.175Z"
   },
   {
    "duration": 13,
    "start_time": "2024-09-15T19:55:29.542Z"
   },
   {
    "duration": 222,
    "start_time": "2024-09-15T19:55:29.557Z"
   },
   {
    "duration": 5,
    "start_time": "2024-09-15T19:55:29.781Z"
   },
   {
    "duration": 226,
    "start_time": "2024-09-15T19:55:29.788Z"
   },
   {
    "duration": 6,
    "start_time": "2024-09-15T19:55:30.015Z"
   },
   {
    "duration": 243,
    "start_time": "2024-09-15T19:55:30.022Z"
   },
   {
    "duration": 5,
    "start_time": "2024-09-15T19:55:30.267Z"
   },
   {
    "duration": 275,
    "start_time": "2024-09-15T19:55:30.273Z"
   },
   {
    "duration": 221,
    "start_time": "2024-09-15T19:55:30.550Z"
   },
   {
    "duration": 5,
    "start_time": "2024-09-15T19:55:30.773Z"
   },
   {
    "duration": 251,
    "start_time": "2024-09-15T19:55:30.780Z"
   },
   {
    "duration": 6,
    "start_time": "2024-09-15T19:55:31.033Z"
   },
   {
    "duration": 243,
    "start_time": "2024-09-15T19:55:31.041Z"
   },
   {
    "duration": 5,
    "start_time": "2024-09-15T19:55:31.286Z"
   },
   {
    "duration": 221,
    "start_time": "2024-09-15T19:55:31.293Z"
   },
   {
    "duration": 4,
    "start_time": "2024-09-15T19:55:31.516Z"
   },
   {
    "duration": 33,
    "start_time": "2024-09-15T19:55:31.523Z"
   },
   {
    "duration": 20,
    "start_time": "2024-09-15T19:55:31.558Z"
   },
   {
    "duration": 35,
    "start_time": "2024-09-15T19:55:31.580Z"
   },
   {
    "duration": 9,
    "start_time": "2024-09-15T19:55:31.617Z"
   },
   {
    "duration": 16,
    "start_time": "2024-09-15T19:55:31.628Z"
   },
   {
    "duration": 14,
    "start_time": "2024-09-15T19:55:31.646Z"
   },
   {
    "duration": 19,
    "start_time": "2024-09-15T19:55:31.661Z"
   },
   {
    "duration": 376,
    "start_time": "2024-09-15T19:55:31.682Z"
   },
   {
    "duration": 88,
    "start_time": "2024-09-15T20:11:29.406Z"
   },
   {
    "duration": 75,
    "start_time": "2024-09-15T20:11:41.078Z"
   },
   {
    "duration": 91,
    "start_time": "2024-09-15T20:11:49.002Z"
   },
   {
    "duration": 12,
    "start_time": "2024-09-15T20:13:14.911Z"
   },
   {
    "duration": 14,
    "start_time": "2024-09-15T20:14:26.890Z"
   },
   {
    "duration": 13,
    "start_time": "2024-09-15T20:14:34.313Z"
   },
   {
    "duration": 17,
    "start_time": "2024-09-15T20:20:38.046Z"
   },
   {
    "duration": 11,
    "start_time": "2024-09-15T20:20:49.364Z"
   },
   {
    "duration": 18,
    "start_time": "2024-09-15T20:21:40.451Z"
   },
   {
    "duration": 89,
    "start_time": "2024-09-15T20:22:08.027Z"
   },
   {
    "duration": 17,
    "start_time": "2024-09-15T20:22:29.581Z"
   },
   {
    "duration": 16,
    "start_time": "2024-09-15T20:23:24.658Z"
   },
   {
    "duration": 10,
    "start_time": "2024-09-15T20:23:36.032Z"
   },
   {
    "duration": 12,
    "start_time": "2024-09-15T20:23:41.145Z"
   },
   {
    "duration": 315,
    "start_time": "2024-09-15T20:27:23.857Z"
   },
   {
    "duration": 292,
    "start_time": "2024-09-15T20:27:27.710Z"
   },
   {
    "duration": 563,
    "start_time": "2024-09-15T20:28:33.533Z"
   },
   {
    "duration": 328,
    "start_time": "2024-09-15T20:28:44.796Z"
   },
   {
    "duration": 318,
    "start_time": "2024-09-15T20:28:55.626Z"
   },
   {
    "duration": 299,
    "start_time": "2024-09-15T20:29:03.980Z"
   },
   {
    "duration": 309,
    "start_time": "2024-09-15T20:29:16.088Z"
   },
   {
    "duration": 330,
    "start_time": "2024-09-15T20:29:44.169Z"
   },
   {
    "duration": 494,
    "start_time": "2024-09-15T20:29:49.223Z"
   },
   {
    "duration": 327,
    "start_time": "2024-09-15T20:29:59.651Z"
   },
   {
    "duration": 177,
    "start_time": "2024-09-15T20:30:11.823Z"
   },
   {
    "duration": 164,
    "start_time": "2024-09-15T20:30:16.939Z"
   },
   {
    "duration": 223,
    "start_time": "2024-09-15T20:30:30.695Z"
   },
   {
    "duration": 145,
    "start_time": "2024-09-15T20:30:44.888Z"
   },
   {
    "duration": 294,
    "start_time": "2024-09-15T20:30:50.573Z"
   },
   {
    "duration": 266,
    "start_time": "2024-09-15T20:31:01.106Z"
   },
   {
    "duration": 314,
    "start_time": "2024-09-15T20:32:51.693Z"
   },
   {
    "duration": 262,
    "start_time": "2024-09-15T20:33:11.129Z"
   },
   {
    "duration": 430,
    "start_time": "2024-09-15T20:33:33.091Z"
   },
   {
    "duration": 222,
    "start_time": "2024-09-15T20:33:38.226Z"
   },
   {
    "duration": 293,
    "start_time": "2024-09-15T20:35:05.829Z"
   },
   {
    "duration": 74,
    "start_time": "2024-09-15T20:40:28.481Z"
   },
   {
    "duration": 33,
    "start_time": "2024-09-15T20:40:34.176Z"
   },
   {
    "duration": 28,
    "start_time": "2024-09-15T20:40:40.667Z"
   },
   {
    "duration": 718,
    "start_time": "2024-09-15T20:46:05.876Z"
   },
   {
    "duration": 160,
    "start_time": "2024-09-15T20:46:06.596Z"
   },
   {
    "duration": 18,
    "start_time": "2024-09-15T20:46:06.758Z"
   },
   {
    "duration": 2222,
    "start_time": "2024-09-15T20:46:06.778Z"
   },
   {
    "duration": 7,
    "start_time": "2024-09-15T20:46:09.002Z"
   },
   {
    "duration": 83,
    "start_time": "2024-09-15T20:46:09.011Z"
   },
   {
    "duration": 8,
    "start_time": "2024-09-15T20:46:09.095Z"
   },
   {
    "duration": 37,
    "start_time": "2024-09-15T20:46:09.105Z"
   },
   {
    "duration": 22,
    "start_time": "2024-09-15T20:46:09.143Z"
   },
   {
    "duration": 21,
    "start_time": "2024-09-15T20:46:09.168Z"
   },
   {
    "duration": 31,
    "start_time": "2024-09-15T20:46:09.191Z"
   },
   {
    "duration": 17,
    "start_time": "2024-09-15T20:46:09.223Z"
   },
   {
    "duration": 13,
    "start_time": "2024-09-15T20:46:09.241Z"
   },
   {
    "duration": 4,
    "start_time": "2024-09-15T20:46:09.256Z"
   },
   {
    "duration": 10,
    "start_time": "2024-09-15T20:46:09.261Z"
   },
   {
    "duration": 25,
    "start_time": "2024-09-15T20:46:09.272Z"
   },
   {
    "duration": 26,
    "start_time": "2024-09-15T20:46:09.298Z"
   },
   {
    "duration": 10,
    "start_time": "2024-09-15T20:46:09.325Z"
   },
   {
    "duration": 16,
    "start_time": "2024-09-15T20:46:09.337Z"
   },
   {
    "duration": 77,
    "start_time": "2024-09-15T20:46:09.355Z"
   },
   {
    "duration": 1398,
    "start_time": "2024-09-15T20:46:09.433Z"
   },
   {
    "duration": 13,
    "start_time": "2024-09-15T20:46:10.833Z"
   },
   {
    "duration": 14,
    "start_time": "2024-09-15T20:46:10.855Z"
   },
   {
    "duration": 14,
    "start_time": "2024-09-15T20:46:10.871Z"
   },
   {
    "duration": 30,
    "start_time": "2024-09-15T20:46:10.887Z"
   },
   {
    "duration": 22,
    "start_time": "2024-09-15T20:46:10.919Z"
   },
   {
    "duration": 9,
    "start_time": "2024-09-15T20:46:10.943Z"
   },
   {
    "duration": 14,
    "start_time": "2024-09-15T20:46:10.956Z"
   },
   {
    "duration": 6,
    "start_time": "2024-09-15T20:46:10.972Z"
   },
   {
    "duration": 21,
    "start_time": "2024-09-15T20:46:10.980Z"
   },
   {
    "duration": 9,
    "start_time": "2024-09-15T20:46:11.003Z"
   },
   {
    "duration": 24,
    "start_time": "2024-09-15T20:46:11.014Z"
   },
   {
    "duration": 14,
    "start_time": "2024-09-15T20:46:11.041Z"
   },
   {
    "duration": 370,
    "start_time": "2024-09-15T20:46:11.057Z"
   },
   {
    "duration": 5,
    "start_time": "2024-09-15T20:46:11.429Z"
   },
   {
    "duration": 59,
    "start_time": "2024-09-15T20:46:11.436Z"
   },
   {
    "duration": 275,
    "start_time": "2024-09-15T20:46:11.497Z"
   },
   {
    "duration": 411,
    "start_time": "2024-09-15T20:46:11.774Z"
   },
   {
    "duration": 162,
    "start_time": "2024-09-15T20:46:12.187Z"
   },
   {
    "duration": 9,
    "start_time": "2024-09-15T20:46:12.356Z"
   },
   {
    "duration": 77,
    "start_time": "2024-09-15T20:46:12.367Z"
   },
   {
    "duration": 17,
    "start_time": "2024-09-15T20:46:12.445Z"
   },
   {
    "duration": 251,
    "start_time": "2024-09-15T20:46:12.463Z"
   },
   {
    "duration": 11,
    "start_time": "2024-09-15T20:46:12.717Z"
   },
   {
    "duration": 138,
    "start_time": "2024-09-15T20:46:12.730Z"
   },
   {
    "duration": 317,
    "start_time": "2024-09-15T20:46:12.869Z"
   },
   {
    "duration": 9,
    "start_time": "2024-09-15T20:46:13.188Z"
   },
   {
    "duration": 3066,
    "start_time": "2024-09-15T20:46:13.199Z"
   },
   {
    "duration": 8,
    "start_time": "2024-09-15T20:46:16.266Z"
   },
   {
    "duration": 263,
    "start_time": "2024-09-15T20:46:16.275Z"
   },
   {
    "duration": 15,
    "start_time": "2024-09-15T20:46:16.540Z"
   },
   {
    "duration": 19,
    "start_time": "2024-09-15T20:46:16.557Z"
   },
   {
    "duration": 16,
    "start_time": "2024-09-15T20:46:16.578Z"
   },
   {
    "duration": 324,
    "start_time": "2024-09-15T20:46:16.596Z"
   },
   {
    "duration": 6,
    "start_time": "2024-09-15T20:46:16.921Z"
   },
   {
    "duration": 233,
    "start_time": "2024-09-15T20:46:16.929Z"
   },
   {
    "duration": 5,
    "start_time": "2024-09-15T20:46:17.165Z"
   },
   {
    "duration": 254,
    "start_time": "2024-09-15T20:46:17.173Z"
   },
   {
    "duration": 6,
    "start_time": "2024-09-15T20:46:17.428Z"
   },
   {
    "duration": 240,
    "start_time": "2024-09-15T20:46:17.435Z"
   },
   {
    "duration": 5,
    "start_time": "2024-09-15T20:46:17.677Z"
   },
   {
    "duration": 202,
    "start_time": "2024-09-15T20:46:17.684Z"
   },
   {
    "duration": 205,
    "start_time": "2024-09-15T20:46:17.887Z"
   },
   {
    "duration": 6,
    "start_time": "2024-09-15T20:46:18.094Z"
   },
   {
    "duration": 209,
    "start_time": "2024-09-15T20:46:18.102Z"
   },
   {
    "duration": 6,
    "start_time": "2024-09-15T20:46:18.313Z"
   },
   {
    "duration": 223,
    "start_time": "2024-09-15T20:46:18.321Z"
   },
   {
    "duration": 12,
    "start_time": "2024-09-15T20:46:18.546Z"
   },
   {
    "duration": 211,
    "start_time": "2024-09-15T20:46:18.560Z"
   },
   {
    "duration": 5,
    "start_time": "2024-09-15T20:46:18.773Z"
   },
   {
    "duration": 45,
    "start_time": "2024-09-15T20:46:18.779Z"
   },
   {
    "duration": 34,
    "start_time": "2024-09-15T20:46:18.826Z"
   },
   {
    "duration": 23,
    "start_time": "2024-09-15T20:46:18.862Z"
   },
   {
    "duration": 32,
    "start_time": "2024-09-15T20:46:18.887Z"
   },
   {
    "duration": 7,
    "start_time": "2024-09-15T20:46:18.920Z"
   },
   {
    "duration": 22,
    "start_time": "2024-09-15T20:46:18.929Z"
   },
   {
    "duration": 21,
    "start_time": "2024-09-15T20:46:18.952Z"
   },
   {
    "duration": 312,
    "start_time": "2024-09-15T20:46:18.974Z"
   },
   {
    "duration": 66,
    "start_time": "2024-09-23T22:16:35.527Z"
   },
   {
    "duration": 800,
    "start_time": "2024-09-23T22:16:39.687Z"
   },
   {
    "duration": 218,
    "start_time": "2024-09-23T22:16:40.490Z"
   },
   {
    "duration": 17,
    "start_time": "2024-09-23T22:16:40.710Z"
   },
   {
    "duration": 3210,
    "start_time": "2024-09-23T22:16:40.730Z"
   },
   {
    "duration": 8,
    "start_time": "2024-09-23T22:16:43.942Z"
   },
   {
    "duration": 225,
    "start_time": "2024-09-23T22:16:43.953Z"
   },
   {
    "duration": 14,
    "start_time": "2024-09-23T22:16:44.180Z"
   },
   {
    "duration": 90,
    "start_time": "2024-09-23T22:16:44.196Z"
   },
   {
    "duration": 95,
    "start_time": "2024-09-23T22:16:44.292Z"
   },
   {
    "duration": 25,
    "start_time": "2024-09-23T22:16:44.455Z"
   },
   {
    "duration": 10,
    "start_time": "2024-09-23T22:16:44.482Z"
   },
   {
    "duration": 15,
    "start_time": "2024-09-23T22:16:44.564Z"
   },
   {
    "duration": 22,
    "start_time": "2024-09-23T22:16:44.585Z"
   },
   {
    "duration": 48,
    "start_time": "2024-09-23T22:16:44.609Z"
   },
   {
    "duration": 29,
    "start_time": "2024-09-23T22:16:44.660Z"
   },
   {
    "duration": 68,
    "start_time": "2024-09-23T22:16:44.691Z"
   },
   {
    "duration": 13,
    "start_time": "2024-09-23T22:16:44.761Z"
   },
   {
    "duration": 16,
    "start_time": "2024-09-23T22:16:44.783Z"
   },
   {
    "duration": 75,
    "start_time": "2024-09-23T22:16:44.801Z"
   },
   {
    "duration": 205,
    "start_time": "2024-09-23T22:16:44.879Z"
   },
   {
    "duration": 4279,
    "start_time": "2024-09-23T22:16:45.090Z"
   },
   {
    "duration": 24,
    "start_time": "2024-09-23T22:16:49.371Z"
   },
   {
    "duration": 68,
    "start_time": "2024-09-23T22:16:49.397Z"
   },
   {
    "duration": 15,
    "start_time": "2024-09-23T22:16:49.467Z"
   },
   {
    "duration": 13,
    "start_time": "2024-09-23T22:16:49.484Z"
   },
   {
    "duration": 76,
    "start_time": "2024-09-23T22:16:49.499Z"
   },
   {
    "duration": 7,
    "start_time": "2024-09-23T22:16:49.577Z"
   },
   {
    "duration": 70,
    "start_time": "2024-09-23T22:16:49.590Z"
   },
   {
    "duration": 9,
    "start_time": "2024-09-23T22:16:49.662Z"
   },
   {
    "duration": 13,
    "start_time": "2024-09-23T22:16:49.673Z"
   },
   {
    "duration": 80,
    "start_time": "2024-09-23T22:16:49.694Z"
   },
   {
    "duration": 13,
    "start_time": "2024-09-23T22:16:49.776Z"
   },
   {
    "duration": 89,
    "start_time": "2024-09-23T22:16:49.792Z"
   },
   {
    "duration": 1002,
    "start_time": "2024-09-23T22:16:49.884Z"
   },
   {
    "duration": 6,
    "start_time": "2024-09-23T22:16:50.892Z"
   },
   {
    "duration": 92,
    "start_time": "2024-09-23T22:16:50.899Z"
   },
   {
    "duration": 1184,
    "start_time": "2024-09-23T22:16:50.994Z"
   },
   {
    "duration": 1780,
    "start_time": "2024-09-23T22:16:52.192Z"
   },
   {
    "duration": 719,
    "start_time": "2024-09-23T22:16:53.975Z"
   },
   {
    "duration": 18,
    "start_time": "2024-09-23T22:16:54.758Z"
   },
   {
    "duration": 14,
    "start_time": "2024-09-23T22:16:54.777Z"
   },
   {
    "duration": 81,
    "start_time": "2024-09-23T22:16:54.794Z"
   },
   {
    "duration": 889,
    "start_time": "2024-09-23T22:16:54.877Z"
   },
   {
    "duration": 13,
    "start_time": "2024-09-23T22:16:55.768Z"
   },
   {
    "duration": 494,
    "start_time": "2024-09-23T22:16:55.786Z"
   },
   {
    "duration": 996,
    "start_time": "2024-09-23T22:16:56.291Z"
   },
   {
    "duration": 10,
    "start_time": "2024-09-23T22:16:57.292Z"
   },
   {
    "duration": 5673,
    "start_time": "2024-09-23T22:16:57.355Z"
   },
   {
    "duration": 9,
    "start_time": "2024-09-23T22:17:03.030Z"
   },
   {
    "duration": 318,
    "start_time": "2024-09-23T22:17:03.041Z"
   },
   {
    "duration": 7,
    "start_time": "2024-09-23T22:17:03.361Z"
   },
   {
    "duration": 27,
    "start_time": "2024-09-23T22:17:03.370Z"
   },
   {
    "duration": 18,
    "start_time": "2024-09-23T22:17:03.399Z"
   },
   {
    "duration": 356,
    "start_time": "2024-09-23T22:17:03.419Z"
   },
   {
    "duration": 7,
    "start_time": "2024-09-23T22:17:03.784Z"
   },
   {
    "duration": 245,
    "start_time": "2024-09-23T22:17:03.793Z"
   },
   {
    "duration": 6,
    "start_time": "2024-09-23T22:17:04.040Z"
   },
   {
    "duration": 254,
    "start_time": "2024-09-23T22:17:04.055Z"
   },
   {
    "duration": 5,
    "start_time": "2024-09-23T22:17:04.311Z"
   },
   {
    "duration": 234,
    "start_time": "2024-09-23T22:17:04.318Z"
   },
   {
    "duration": 12,
    "start_time": "2024-09-23T22:17:04.554Z"
   },
   {
    "duration": 212,
    "start_time": "2024-09-23T22:17:04.572Z"
   },
   {
    "duration": 227,
    "start_time": "2024-09-23T22:17:04.786Z"
   },
   {
    "duration": 5,
    "start_time": "2024-09-23T22:17:05.015Z"
   },
   {
    "duration": 268,
    "start_time": "2024-09-23T22:17:05.022Z"
   },
   {
    "duration": 11,
    "start_time": "2024-09-23T22:17:05.296Z"
   },
   {
    "duration": 239,
    "start_time": "2024-09-23T22:17:05.309Z"
   },
   {
    "duration": 25,
    "start_time": "2024-09-23T22:17:05.550Z"
   },
   {
    "duration": 214,
    "start_time": "2024-09-23T22:17:05.582Z"
   },
   {
    "duration": 4,
    "start_time": "2024-09-23T22:17:05.798Z"
   },
   {
    "duration": 71,
    "start_time": "2024-09-23T22:17:05.804Z"
   },
   {
    "duration": 21,
    "start_time": "2024-09-23T22:17:05.881Z"
   },
   {
    "duration": 4,
    "start_time": "2024-09-23T22:17:05.904Z"
   },
   {
    "duration": 9,
    "start_time": "2024-09-23T22:17:05.955Z"
   },
   {
    "duration": 38,
    "start_time": "2024-09-23T22:17:05.967Z"
   },
   {
    "duration": 25,
    "start_time": "2024-09-23T22:17:06.006Z"
   },
   {
    "duration": 29,
    "start_time": "2024-09-23T22:17:06.058Z"
   },
   {
    "duration": 900,
    "start_time": "2024-09-23T22:17:06.091Z"
   },
   {
    "duration": 50,
    "start_time": "2024-09-24T18:30:37.776Z"
   },
   {
    "duration": 981,
    "start_time": "2024-09-24T18:30:48.540Z"
   },
   {
    "duration": 480,
    "start_time": "2024-09-24T18:30:49.522Z"
   },
   {
    "duration": 74,
    "start_time": "2024-09-24T18:30:50.004Z"
   },
   {
    "duration": 3159,
    "start_time": "2024-09-24T18:30:50.081Z"
   },
   {
    "duration": 7,
    "start_time": "2024-09-24T18:30:53.242Z"
   },
   {
    "duration": 85,
    "start_time": "2024-09-24T18:30:53.250Z"
   },
   {
    "duration": 8,
    "start_time": "2024-09-24T18:30:53.337Z"
   },
   {
    "duration": 45,
    "start_time": "2024-09-24T18:30:53.346Z"
   },
   {
    "duration": 9,
    "start_time": "2024-09-24T18:30:53.392Z"
   },
   {
    "duration": 10,
    "start_time": "2024-09-24T18:30:53.404Z"
   },
   {
    "duration": 9,
    "start_time": "2024-09-24T18:30:53.416Z"
   },
   {
    "duration": 8,
    "start_time": "2024-09-24T18:30:53.426Z"
   },
   {
    "duration": 5,
    "start_time": "2024-09-24T18:30:53.436Z"
   },
   {
    "duration": 6,
    "start_time": "2024-09-24T18:30:53.442Z"
   },
   {
    "duration": 37,
    "start_time": "2024-09-24T18:30:53.449Z"
   },
   {
    "duration": 12,
    "start_time": "2024-09-24T18:30:53.492Z"
   },
   {
    "duration": 8,
    "start_time": "2024-09-24T18:30:53.506Z"
   },
   {
    "duration": 10,
    "start_time": "2024-09-24T18:30:53.516Z"
   },
   {
    "duration": 9,
    "start_time": "2024-09-24T18:30:53.528Z"
   },
   {
    "duration": 106,
    "start_time": "2024-09-24T18:30:53.539Z"
   },
   {
    "duration": 1326,
    "start_time": "2024-09-24T18:30:53.647Z"
   },
   {
    "duration": 18,
    "start_time": "2024-09-24T18:30:54.975Z"
   },
   {
    "duration": 14,
    "start_time": "2024-09-24T18:30:54.994Z"
   },
   {
    "duration": 5,
    "start_time": "2024-09-24T18:30:55.010Z"
   },
   {
    "duration": 25,
    "start_time": "2024-09-24T18:30:55.017Z"
   },
   {
    "duration": 12,
    "start_time": "2024-09-24T18:30:55.044Z"
   },
   {
    "duration": 4,
    "start_time": "2024-09-24T18:30:55.058Z"
   },
   {
    "duration": 13,
    "start_time": "2024-09-24T18:30:55.091Z"
   },
   {
    "duration": 4,
    "start_time": "2024-09-24T18:30:55.105Z"
   },
   {
    "duration": 12,
    "start_time": "2024-09-24T18:30:55.110Z"
   },
   {
    "duration": 16,
    "start_time": "2024-09-24T18:30:55.123Z"
   },
   {
    "duration": 5,
    "start_time": "2024-09-24T18:30:55.141Z"
   },
   {
    "duration": 3,
    "start_time": "2024-09-24T18:30:55.148Z"
   },
   {
    "duration": 356,
    "start_time": "2024-09-24T18:30:55.153Z"
   },
   {
    "duration": 4,
    "start_time": "2024-09-24T18:30:55.511Z"
   },
   {
    "duration": 25,
    "start_time": "2024-09-24T18:30:55.517Z"
   },
   {
    "duration": 311,
    "start_time": "2024-09-24T18:30:55.544Z"
   },
   {
    "duration": 400,
    "start_time": "2024-09-24T18:30:55.857Z"
   },
   {
    "duration": 168,
    "start_time": "2024-09-24T18:30:56.259Z"
   },
   {
    "duration": 9,
    "start_time": "2024-09-24T18:30:56.429Z"
   },
   {
    "duration": 10,
    "start_time": "2024-09-24T18:30:56.440Z"
   },
   {
    "duration": 38,
    "start_time": "2024-09-24T18:30:56.451Z"
   },
   {
    "duration": 229,
    "start_time": "2024-09-24T18:30:56.491Z"
   },
   {
    "duration": 10,
    "start_time": "2024-09-24T18:30:56.722Z"
   },
   {
    "duration": 159,
    "start_time": "2024-09-24T18:30:56.734Z"
   },
   {
    "duration": 308,
    "start_time": "2024-09-24T18:30:56.895Z"
   },
   {
    "duration": 8,
    "start_time": "2024-09-24T18:30:57.204Z"
   },
   {
    "duration": 3053,
    "start_time": "2024-09-24T18:30:57.213Z"
   },
   {
    "duration": 22,
    "start_time": "2024-09-24T18:31:00.268Z"
   },
   {
    "duration": 264,
    "start_time": "2024-09-24T18:31:00.292Z"
   },
   {
    "duration": 5,
    "start_time": "2024-09-24T18:31:00.558Z"
   },
   {
    "duration": 102,
    "start_time": "2024-09-24T18:31:00.565Z"
   },
   {
    "duration": 15,
    "start_time": "2024-09-24T18:31:00.669Z"
   },
   {
    "duration": 22,
    "start_time": "2024-09-24T18:31:00.690Z"
   },
   {
    "duration": 301,
    "start_time": "2024-09-24T18:31:00.714Z"
   },
   {
    "duration": 5,
    "start_time": "2024-09-24T18:31:01.017Z"
   },
   {
    "duration": 245,
    "start_time": "2024-09-24T18:31:01.023Z"
   },
   {
    "duration": 17,
    "start_time": "2024-09-24T18:31:01.269Z"
   },
   {
    "duration": 230,
    "start_time": "2024-09-24T18:31:01.288Z"
   },
   {
    "duration": 6,
    "start_time": "2024-09-24T18:31:01.520Z"
   },
   {
    "duration": 222,
    "start_time": "2024-09-24T18:31:01.528Z"
   },
   {
    "duration": 6,
    "start_time": "2024-09-24T18:31:01.752Z"
   },
   {
    "duration": 206,
    "start_time": "2024-09-24T18:31:01.760Z"
   },
   {
    "duration": 222,
    "start_time": "2024-09-24T18:31:01.968Z"
   },
   {
    "duration": 4,
    "start_time": "2024-09-24T18:31:02.192Z"
   },
   {
    "duration": 234,
    "start_time": "2024-09-24T18:31:02.198Z"
   },
   {
    "duration": 5,
    "start_time": "2024-09-24T18:31:02.433Z"
   },
   {
    "duration": 231,
    "start_time": "2024-09-24T18:31:02.439Z"
   },
   {
    "duration": 15,
    "start_time": "2024-09-24T18:31:02.675Z"
   },
   {
    "duration": 224,
    "start_time": "2024-09-24T18:31:02.692Z"
   },
   {
    "duration": 5,
    "start_time": "2024-09-24T18:31:02.918Z"
   },
   {
    "duration": 10,
    "start_time": "2024-09-24T18:31:02.925Z"
   },
   {
    "duration": 13,
    "start_time": "2024-09-24T18:31:02.936Z"
   },
   {
    "duration": 3,
    "start_time": "2024-09-24T18:31:02.950Z"
   },
   {
    "duration": 6,
    "start_time": "2024-09-24T18:31:02.985Z"
   },
   {
    "duration": 9,
    "start_time": "2024-09-24T18:31:02.993Z"
   },
   {
    "duration": 45,
    "start_time": "2024-09-24T18:31:03.003Z"
   },
   {
    "duration": 37,
    "start_time": "2024-09-24T18:31:03.050Z"
   },
   {
    "duration": 321,
    "start_time": "2024-09-24T18:31:03.089Z"
   },
   {
    "duration": 15,
    "start_time": "2024-09-24T18:31:11.959Z"
   }
  ],
  "colab": {
   "provenance": []
  },
  "kernelspec": {
   "display_name": "Python 3 (ipykernel)",
   "language": "python",
   "name": "python3"
  },
  "language_info": {
   "codemirror_mode": {
    "name": "ipython",
    "version": 3
   },
   "file_extension": ".py",
   "mimetype": "text/x-python",
   "name": "python",
   "nbconvert_exporter": "python",
   "pygments_lexer": "ipython3",
   "version": "3.9.19"
  },
  "toc": {
   "base_numbering": 1,
   "nav_menu": {},
   "number_sections": true,
   "sideBar": true,
   "skip_h1_title": true,
   "title_cell": "Table of Contents",
   "title_sidebar": "Contents",
   "toc_cell": false,
   "toc_position": {},
   "toc_section_display": true,
   "toc_window_display": true
  }
 },
 "nbformat": 4,
 "nbformat_minor": 4
}
