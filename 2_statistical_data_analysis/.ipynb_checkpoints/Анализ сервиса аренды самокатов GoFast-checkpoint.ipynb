{
 "cells": [
  {
   "cell_type": "markdown",
   "id": "f84b966c",
   "metadata": {},
   "source": [
    "# Анализ сервиса аренды самокатов GoFast"
   ]
  },
  {
   "cell_type": "code",
   "execution_count": 1,
   "id": "72576667",
   "metadata": {},
   "outputs": [],
   "source": [
    "import pandas as pd\n",
    "import matplotlib.pyplot as plt\n",
    "import numpy as np\n",
    "from scipy import stats as st"
   ]
  },
  {
   "cell_type": "markdown",
   "id": "c6686c0b",
   "metadata": {},
   "source": [
    "# Введение"
   ]
  },
  {
   "cell_type": "markdown",
   "id": "98a3c695",
   "metadata": {},
   "source": [
    "Вам передали данные о некоторых пользователях из нескольких городов, а также об их поездках. Проанализируйте данные и проверьте некоторые гипотезы, которые могут помочь бизнесу вырасти."
   ]
  },
  {
   "cell_type": "markdown",
   "id": "4601fe10",
   "metadata": {},
   "source": [
    "**План работы для проекта**\n",
    "\n",
    "1. Сбор и подготовка данных\n",
    "\n",
    "+ **Загрузка данных:** информация о пользователях, поездках, подписках\n",
    "+ **Первичная обработка данных:** проверка на пропуски, дубликаты\n",
    "+ **Приведение данных к удобному для анализа виду:** корректировка форматов, объединение данных из разных источников\n",
    "\n",
    "2. Исследовательский анализ данных (EDA)\n",
    "\n",
    "+ **Описание данных о пользователях:** возраст, город, подписка\n",
    "+ **Анализ данных о поездках:** продолжительность, расстояние, распределение по дням недели\n",
    "+ **Визуализация данных:** построение графиков и распределений для понимания общей картины\n",
    "\n",
    "3. Проверка статистических гипотез\n",
    "\n",
    "+ Формулировка гипотез о различиях в поведении и доходах между пользователями с подпиской и без\n",
    "+ Выбор методов для проверки гипотез \n",
    "+ Проверка гипотез и интерпретация результатов\n",
    "\n",
    "4. Выводы по результатам исследования"
   ]
  },
  {
   "cell_type": "markdown",
   "id": "c42cbe00",
   "metadata": {},
   "source": [
    "#### Шаг 1. Загрузка данных"
   ]
  },
  {
   "cell_type": "markdown",
   "id": "85b58c71",
   "metadata": {},
   "source": [
    "Считаем и изучим данные"
   ]
  },
  {
   "cell_type": "markdown",
   "id": "4f47a316",
   "metadata": {},
   "source": [
    "Создадим функцию для более удобного изучения первичной информации"
   ]
  },
  {
   "cell_type": "code",
   "execution_count": 2,
   "id": "9a2d1cbc",
   "metadata": {},
   "outputs": [],
   "source": [
    "def data_info(dataset):\n",
    "    print(\"Первые строки датафрейма\")\n",
    "    print(dataset.head())\n",
    "    print()\n",
    "    print()\n",
    "    print('Первичная информация')\n",
    "    dataset.info()"
   ]
  },
  {
   "cell_type": "code",
   "execution_count": 3,
   "id": "eff9f206",
   "metadata": {},
   "outputs": [
    {
     "name": "stdout",
     "output_type": "stream",
     "text": [
      "Первые строки датафрейма\n",
      "   user_id        name  age            city subscription_type\n",
      "0        1        Кира   22          Тюмень             ultra\n",
      "1        2   Станислав   31            Омск             ultra\n",
      "2        3     Алексей   20          Москва             ultra\n",
      "3        4  Константин   26  Ростов-на-Дону             ultra\n",
      "4        5       Адель   28            Омск             ultra\n",
      "\n",
      "\n",
      "Первичная информация\n",
      "<class 'pandas.core.frame.DataFrame'>\n",
      "RangeIndex: 1565 entries, 0 to 1564\n",
      "Data columns (total 5 columns):\n",
      " #   Column             Non-Null Count  Dtype \n",
      "---  ------             --------------  ----- \n",
      " 0   user_id            1565 non-null   int64 \n",
      " 1   name               1565 non-null   object\n",
      " 2   age                1565 non-null   int64 \n",
      " 3   city               1565 non-null   object\n",
      " 4   subscription_type  1565 non-null   object\n",
      "dtypes: int64(2), object(3)\n",
      "memory usage: 61.3+ KB\n"
     ]
    }
   ],
   "source": [
    "data_users = pd.read_csv('users_go.csv')\n",
    "data_info(data_users)"
   ]
  },
  {
   "cell_type": "code",
   "execution_count": 4,
   "id": "cdcacf5e",
   "metadata": {},
   "outputs": [
    {
     "name": "stdout",
     "output_type": "stream",
     "text": [
      "Первые строки датафрейма\n",
      "   user_id     distance   duration       date\n",
      "0        1  4409.919140  25.599769 2021-01-01\n",
      "1        1  2617.592153  15.816871 2021-01-18\n",
      "2        1   754.159807   6.232113 2021-04-20\n",
      "3        1  2694.783254  18.511000 2021-08-11\n",
      "4        1  4028.687306  26.265803 2021-08-28\n",
      "\n",
      "\n",
      "Первичная информация\n",
      "<class 'pandas.core.frame.DataFrame'>\n",
      "RangeIndex: 18068 entries, 0 to 18067\n",
      "Data columns (total 4 columns):\n",
      " #   Column    Non-Null Count  Dtype         \n",
      "---  ------    --------------  -----         \n",
      " 0   user_id   18068 non-null  int64         \n",
      " 1   distance  18068 non-null  float64       \n",
      " 2   duration  18068 non-null  float64       \n",
      " 3   date      18068 non-null  datetime64[ns]\n",
      "dtypes: datetime64[ns](1), float64(2), int64(1)\n",
      "memory usage: 564.8 KB\n"
     ]
    }
   ],
   "source": [
    "data_rides = pd.read_csv('rides_go.csv', parse_dates=['date'])\n",
    "data_info(data_rides)"
   ]
  },
  {
   "cell_type": "code",
   "execution_count": 5,
   "id": "7b1abc9d",
   "metadata": {
    "scrolled": true
   },
   "outputs": [
    {
     "name": "stdout",
     "output_type": "stream",
     "text": [
      "Первые строки датафрейма\n",
      "  subscription_type  minute_price  start_ride_price  subscription_fee\n",
      "0              free             8                50                 0\n",
      "1             ultra             6                 0               199\n",
      "\n",
      "\n",
      "Первичная информация\n",
      "<class 'pandas.core.frame.DataFrame'>\n",
      "RangeIndex: 2 entries, 0 to 1\n",
      "Data columns (total 4 columns):\n",
      " #   Column             Non-Null Count  Dtype \n",
      "---  ------             --------------  ----- \n",
      " 0   subscription_type  2 non-null      object\n",
      " 1   minute_price       2 non-null      int64 \n",
      " 2   start_ride_price   2 non-null      int64 \n",
      " 3   subscription_fee   2 non-null      int64 \n",
      "dtypes: int64(3), object(1)\n",
      "memory usage: 192.0+ bytes\n"
     ]
    }
   ],
   "source": [
    "data_subs = pd.read_csv('subscriptions_go.csv')\n",
    "data_info(data_subs)"
   ]
  },
  {
   "cell_type": "markdown",
   "id": "e95ebca7",
   "metadata": {},
   "source": [
    "#### Шаг 2. Предобработка данных"
   ]
  },
  {
   "cell_type": "markdown",
   "id": "90d6b82b",
   "metadata": {},
   "source": [
    "##### Преобразуем столбец date в датафрейме data_rides к типу даты"
   ]
  },
  {
   "cell_type": "code",
   "execution_count": 6,
   "id": "69a187a1",
   "metadata": {},
   "outputs": [],
   "source": [
    "data_rides['date'] = pd.to_datetime(data_rides['date'])"
   ]
  },
  {
   "cell_type": "code",
   "execution_count": 7,
   "id": "d73b133e",
   "metadata": {},
   "outputs": [
    {
     "name": "stdout",
     "output_type": "stream",
     "text": [
      "Данные собраны за период с 2021-01-01 00:00:00 по 2021-12-30 00:00:00.\n"
     ]
    }
   ],
   "source": [
    "min_date = data_rides['date'].min()\n",
    "max_date = data_rides['date'].max()\n",
    "print(f\"Данные собраны за период с {min_date} по {max_date}.\")"
   ]
  },
  {
   "cell_type": "markdown",
   "id": "82bc0907",
   "metadata": {},
   "source": [
    "##### Добавим новый столбец month в таблице data_rides, который будет содержать номер месяца"
   ]
  },
  {
   "cell_type": "code",
   "execution_count": 8,
   "id": "a26c01b6",
   "metadata": {},
   "outputs": [],
   "source": [
    "data_rides['month'] = data_rides['date'].dt.month"
   ]
  },
  {
   "cell_type": "markdown",
   "id": "fe9bfd00",
   "metadata": {},
   "source": [
    "##### Проверка на наличие пропущенных значений и дубликатов"
   ]
  },
  {
   "cell_type": "code",
   "execution_count": 9,
   "id": "49d31ef9",
   "metadata": {},
   "outputs": [
    {
     "name": "stdout",
     "output_type": "stream",
     "text": [
      "data_users\n",
      "user_id              0\n",
      "name                 0\n",
      "age                  0\n",
      "city                 0\n",
      "subscription_type    0\n",
      "dtype: int64\n",
      "\n",
      "data_rides\n",
      "user_id     0\n",
      "distance    0\n",
      "duration    0\n",
      "date        0\n",
      "month       0\n",
      "dtype: int64\n",
      "\n",
      "data_subs\n",
      "subscription_type    0\n",
      "minute_price         0\n",
      "start_ride_price     0\n",
      "subscription_fee     0\n",
      "dtype: int64\n"
     ]
    }
   ],
   "source": [
    "print(\"data_users\")\n",
    "print(data_users.isnull().sum())\n",
    "print()\n",
    "print(\"data_rides\")\n",
    "print(data_rides.isnull().sum())\n",
    "print()\n",
    "print('data_subs')\n",
    "print(data_subs.isnull().sum())"
   ]
  },
  {
   "cell_type": "markdown",
   "id": "137bd378",
   "metadata": {},
   "source": [
    "Пропусков не обнаружено"
   ]
  },
  {
   "cell_type": "code",
   "execution_count": 10,
   "id": "22c40f81",
   "metadata": {},
   "outputs": [
    {
     "name": "stdout",
     "output_type": "stream",
     "text": [
      "data_users\n",
      "31\n",
      "\n",
      "data_rides\n",
      "0\n",
      "\n",
      "data_subs\n",
      "0\n"
     ]
    }
   ],
   "source": [
    "print(\"data_users\")\n",
    "print(data_users.duplicated().sum())\n",
    "print()\n",
    "print(\"data_rides\")\n",
    "print(data_rides.duplicated().sum())\n",
    "print()\n",
    "print('data_subs')\n",
    "print(data_subs.duplicated().sum())"
   ]
  },
  {
   "cell_type": "markdown",
   "id": "e80e5266",
   "metadata": {},
   "source": [
    "В таблице data_users есть дубликаты, удалим их"
   ]
  },
  {
   "cell_type": "code",
   "execution_count": 11,
   "id": "e04fe5c3",
   "metadata": {},
   "outputs": [],
   "source": [
    "data_users = data_users.drop_duplicates()"
   ]
  },
  {
   "cell_type": "markdown",
   "id": "23b1b6f1",
   "metadata": {},
   "source": [
    "##### Вывод"
   ]
  },
  {
   "cell_type": "markdown",
   "id": "f41f5853",
   "metadata": {},
   "source": [
    "* Столбец date в таблице data_rides успешно преобразован к формату даты. Данные охватывают период с 1 января 2021 года по 30 декабря 2021 года, то есть включают практически весь 2021 год\n",
    "\n",
    "* В таблицу data_rides добавлен новый столбец month, содержащий номер месяца для каждой поездки, что упростит дальнейший анализ данных по месяцам\n",
    "\n",
    "* Во всех таблицах (data_users, data_rides, data_subs) пропущенных значений не обнаружено, что говорит о полноте данных\n",
    "\n",
    "* В таблице data_users было обнаружено дубликаты, которые были успешно удалены. В остальных таблицах дубликаты отсутствуют\n",
    "\n",
    "**Итог:\n",
    "Данные успешно предобработаны, что позволяет перейти к дальнейшему анализу**"
   ]
  },
  {
   "cell_type": "markdown",
   "id": "212593c7",
   "metadata": {},
   "source": [
    "#### Шаг 3. Исследовательский анализ данных"
   ]
  },
  {
   "cell_type": "markdown",
   "id": "d9564634",
   "metadata": {},
   "source": [
    "##### Частота встречаемости городов"
   ]
  },
  {
   "cell_type": "markdown",
   "id": "fd44f1e3",
   "metadata": {},
   "source": [
    "Подсчитаем, сколько раз каждый город встречается в данных"
   ]
  },
  {
   "cell_type": "code",
   "execution_count": 12,
   "id": "3c701324",
   "metadata": {},
   "outputs": [],
   "source": [
    "city_counts = data_users['city'].value_counts(ascending=True)"
   ]
  },
  {
   "cell_type": "markdown",
   "id": "193bf8ba",
   "metadata": {},
   "source": [
    "Построим диагамму частоты встречаемости городов"
   ]
  },
  {
   "cell_type": "code",
   "execution_count": 13,
   "id": "315955b2",
   "metadata": {},
   "outputs": [
    {
     "data": {
      "image/png": "[encoded data removed]",
      "text/plain": [
       "<Figure size 720x432 with 1 Axes>"
      ]
     },
     "metadata": {
      "needs_background": "light"
     },
     "output_type": "display_data"
    }
   ],
   "source": [
    "city_counts.plot.barh(figsize=(10, 6))\n",
    "plt.title('Частота встречаемости городов')\n",
    "plt.ylabel('Города')\n",
    "plt.xlabel('Количество пользователей')\n",
    "plt.show()"
   ]
  },
  {
   "cell_type": "markdown",
   "id": "b74dfac3",
   "metadata": {},
   "source": [
    "Столбчатая диаграмма наглядно показывает, что ППятигорск самый популярный город среди пользователей"
   ]
  },
  {
   "cell_type": "code",
   "execution_count": 14,
   "id": "7e184743",
   "metadata": {},
   "outputs": [
    {
     "name": "stdout",
     "output_type": "stream",
     "text": [
      "Количество пользователей по городам:\n",
      "Пятигорск         219\n",
      "Екатеринбург      204\n",
      "Ростов-на-Дону    198\n",
      "Краснодар         193\n",
      "Сочи              189\n",
      "Омск              183\n",
      "Тюмень            180\n",
      "Москва            168\n",
      "Name: city, dtype: int64\n",
      "\n",
      "Максимальное количество пользователей: 219\n",
      "Минимальное количество пользователей: 168\n",
      "Разница в количестве пользователей: 51\n",
      "Процентное различие: 30.36%\n"
     ]
    }
   ],
   "source": [
    "city_counts = data_users['city'].value_counts()\n",
    "max_users = city_counts.max()\n",
    "min_users = city_counts.min()\n",
    "difference = max_users - min_users\n",
    "percentage_difference = (difference / min_users) * 100\n",
    "print(\"Количество пользователей по городам:\")\n",
    "print(city_counts)\n",
    "print(f\"\\nМаксимальное количество пользователей: {max_users}\")\n",
    "print(f\"Минимальное количество пользователей: {min_users}\")\n",
    "print(f\"Разница в количестве пользователей: {difference}\")\n",
    "print(f\"Процентное различие: {percentage_difference:.2f}%\")"
   ]
  },
  {
   "cell_type": "markdown",
   "id": "dd6a6e79",
   "metadata": {},
   "source": [
    "##### Соотношение пользователей с подпиской и без подписки"
   ]
  },
  {
   "cell_type": "markdown",
   "id": "60c709b1",
   "metadata": {},
   "source": [
    "Подсчитаем количество пользователей по типу подписки"
   ]
  },
  {
   "cell_type": "code",
   "execution_count": 15,
   "id": "113bc6dc",
   "metadata": {},
   "outputs": [
    {
     "data": {
      "text/plain": [
       "free     835\n",
       "ultra    699\n",
       "Name: subscription_type, dtype: int64"
      ]
     },
     "execution_count": 15,
     "metadata": {},
     "output_type": "execute_result"
    }
   ],
   "source": [
    "subs_count = data_users['subscription_type'].value_counts()\n",
    "subs_count"
   ]
  },
  {
   "cell_type": "markdown",
   "id": "287b6d03",
   "metadata": {},
   "source": [
    "Построим диагамму количества пользователей по типу подписки"
   ]
  },
  {
   "cell_type": "code",
   "execution_count": 16,
   "id": "377046c1",
   "metadata": {},
   "outputs": [
    {
     "data": {
      "image/png": "[encoded data removed]",
      "text/plain": [
       "<Figure size 720x432 with 1 Axes>"
      ]
     },
     "metadata": {},
     "output_type": "display_data"
    }
   ],
   "source": [
    "subs_count.plot.pie(figsize=(10, 6), autopct='%1.1f%%', textprops=dict(color='white',fontsize=16))\n",
    "plt.title('Соотношение пользователей с подпиской и без подписки')\n",
    "plt.ylabel('Тип подписки')  \n",
    "plt.show()"
   ]
  },
  {
   "cell_type": "markdown",
   "id": "6f82db57",
   "metadata": {},
   "source": [
    "Круговая диаграмма нагядно показывает, что больше половины людей пользуются сервисом пез подписки"
   ]
  },
  {
   "cell_type": "markdown",
   "id": "f6281c90",
   "metadata": {},
   "source": [
    "##### Возраст пользователей"
   ]
  },
  {
   "cell_type": "markdown",
   "id": "726e2a37",
   "metadata": {},
   "source": [
    "Построим гистограмму распределения ворастов пользователей"
   ]
  },
  {
   "cell_type": "code",
   "execution_count": 17,
   "id": "8c06f231",
   "metadata": {},
   "outputs": [
    {
     "data": {
      "image/png": "[encoded data removed]",
      "text/plain": [
       "<Figure size 720x432 with 1 Axes>"
      ]
     },
     "metadata": {
      "needs_background": "light"
     },
     "output_type": "display_data"
    }
   ],
   "source": [
    "data_users['age'].hist(bins=30, figsize=(10, 6))\n",
    "plt.title('Распределение возрастов пользователей')\n",
    "plt.xlabel('Возраст')\n",
    "plt.ylabel('Количество пользователей')\n",
    "plt.show()\n"
   ]
  },
  {
   "cell_type": "code",
   "execution_count": 18,
   "id": "e510b590",
   "metadata": {},
   "outputs": [
    {
     "data": {
      "text/plain": [
       "count    1534.000000\n",
       "mean       24.903520\n",
       "std         4.572367\n",
       "min        12.000000\n",
       "25%        22.000000\n",
       "50%        25.000000\n",
       "75%        28.000000\n",
       "max        43.000000\n",
       "Name: age, dtype: float64"
      ]
     },
     "execution_count": 18,
     "metadata": {},
     "output_type": "execute_result"
    }
   ],
   "source": [
    "data_users['age'].describe()"
   ]
  },
  {
   "cell_type": "markdown",
   "id": "cf4a5dd5",
   "metadata": {},
   "source": [
    "Сервисом пользуются люди от 12 до 43 лет, но средний возраст пользователей-25 лет"
   ]
  },
  {
   "cell_type": "code",
   "execution_count": 19,
   "id": "c8b1f443",
   "metadata": {},
   "outputs": [
    {
     "name": "stdout",
     "output_type": "stream",
     "text": [
      "Мода набора данных:  25\n"
     ]
    }
   ],
   "source": [
    "print('Мода набора данных: ', data_users['age'].mode()[0])"
   ]
  },
  {
   "cell_type": "code",
   "execution_count": 20,
   "id": "c99d4efb",
   "metadata": {},
   "outputs": [
    {
     "name": "stdout",
     "output_type": "stream",
     "text": [
      "Межквартильный размах возраста 6.0\n"
     ]
    }
   ],
   "source": [
    "age_q1 = np.percentile(data_users['age'], 25)\n",
    "age_q3 = np.percentile(data_users['age'], 75)\n",
    "age_iqr = age_q3 - age_q1\n",
    "print(f'Межквартильный размах возраста {age_iqr}')"
   ]
  },
  {
   "cell_type": "markdown",
   "id": "0a451f68",
   "metadata": {},
   "source": [
    "##### Расстояние, которое пользователь преодолел за одну поездку"
   ]
  },
  {
   "cell_type": "code",
   "execution_count": 21,
   "id": "afa1fcfb",
   "metadata": {},
   "outputs": [
    {
     "data": {
      "image/png": "[encoded data removed]",
      "text/plain": [
       "<Figure size 720x432 with 1 Axes>"
      ]
     },
     "metadata": {
      "needs_background": "light"
     },
     "output_type": "display_data"
    }
   ],
   "source": [
    "data_rides['distance'].hist(bins=30, figsize=(10, 6))\n",
    "plt.title('Распределение расстояний поездок')\n",
    "plt.xlabel('Расстояние (м)')\n",
    "plt.ylabel('Количество поездок')\n",
    "plt.grid(True)\n",
    "plt.show()"
   ]
  },
  {
   "cell_type": "code",
   "execution_count": 22,
   "id": "3b0c8eb6",
   "metadata": {},
   "outputs": [
    {
     "data": {
      "text/plain": [
       "count    18068.000000\n",
       "mean      3070.659976\n",
       "std       1116.831209\n",
       "min          0.855683\n",
       "25%       2543.226360\n",
       "50%       3133.609994\n",
       "75%       3776.222735\n",
       "max       7211.007745\n",
       "Name: distance, dtype: float64"
      ]
     },
     "execution_count": 22,
     "metadata": {},
     "output_type": "execute_result"
    }
   ],
   "source": [
    "data_rides['distance'].describe()"
   ]
  },
  {
   "cell_type": "markdown",
   "id": "a7bf2fcd",
   "metadata": {},
   "source": [
    "Средняя дальность поездок на самокатах - около трех километров, а максимальная дальность - больше 7 км"
   ]
  },
  {
   "cell_type": "code",
   "execution_count": 23,
   "id": "be9110cc",
   "metadata": {},
   "outputs": [
    {
     "name": "stdout",
     "output_type": "stream",
     "text": [
      "Межквартильный размах расстояний: 1232.9963753558854\n"
     ]
    }
   ],
   "source": [
    "distance_q1 = np.percentile(data_rides['distance'], 25)\n",
    "distance_q3 = np.percentile(data_rides['distance'], 75)\n",
    "distance_iqr = distance_q3 - distance_q1\n",
    "print(f'Межквартильный размах расстояний: {distance_iqr}')"
   ]
  },
  {
   "cell_type": "markdown",
   "id": "5d326381",
   "metadata": {},
   "source": [
    "##### Продолжительность поездок"
   ]
  },
  {
   "cell_type": "code",
   "execution_count": 24,
   "id": "788113cd",
   "metadata": {},
   "outputs": [
    {
     "data": {
      "image/png": "[encoded data removed]",
      "text/plain": [
       "<Figure size 720x432 with 1 Axes>"
      ]
     },
     "metadata": {
      "needs_background": "light"
     },
     "output_type": "display_data"
    }
   ],
   "source": [
    "data_rides['duration'].hist(bins=30, figsize=(10, 6))\n",
    "plt.title('Распределение продолжительности поездок')\n",
    "plt.xlabel('Продолжительность (мин)')\n",
    "plt.ylabel('Количество поездок')\n",
    "plt.grid(True)\n",
    "plt.show()"
   ]
  },
  {
   "cell_type": "code",
   "execution_count": 25,
   "id": "67af2217",
   "metadata": {},
   "outputs": [
    {
     "data": {
      "text/plain": [
       "count    18068.000000\n",
       "mean        17.805011\n",
       "std          6.091051\n",
       "min          0.500000\n",
       "25%         13.597563\n",
       "50%         17.678395\n",
       "75%         21.724800\n",
       "max         40.823963\n",
       "Name: duration, dtype: float64"
      ]
     },
     "execution_count": 25,
     "metadata": {},
     "output_type": "execute_result"
    }
   ],
   "source": [
    "data_rides['duration'].describe()"
   ]
  },
  {
   "cell_type": "markdown",
   "id": "94c00cdc",
   "metadata": {},
   "source": [
    "Средняя длительность поездок - около восемнадцати минут, а самая длительная поездка длилась почти 41 минуту"
   ]
  },
  {
   "cell_type": "code",
   "execution_count": 26,
   "id": "5e93bc82",
   "metadata": {},
   "outputs": [
    {
     "name": "stdout",
     "output_type": "stream",
     "text": [
      "Межквартильный размах продолжительности поездок: 8.127237170546415\n"
     ]
    }
   ],
   "source": [
    "duration_q1 = np.percentile(data_rides['duration'], 25)\n",
    "duration_q3 = np.percentile(data_rides['duration'], 75)\n",
    "duration_iqr = duration_q3 - duration_q1\n",
    "print(f'Межквартильный размах продолжительности поездок: {duration_iqr}')"
   ]
  },
  {
   "cell_type": "markdown",
   "id": "bedf77d5",
   "metadata": {},
   "source": [
    "**Промежуточный вывод о результатах выполнения исследовательских задач**\n",
    "\n",
    "+ **Частота встречаемости городов:**\n",
    "    Пятигорск является самым популярным городом среди пользователей.\n",
    "    Пользователи распределены неравномерно по городам, с заметными различиями в количестве пользователей\n",
    "    \n",
    "    \n",
    "+ **Соотношение пользователей с подпиской и без:**\n",
    "    Более 54% пользователей используют сервис без подписки, что может указывать на потенциал для увеличения числа платных подписок.\n",
    "    \n",
    "    \n",
    "+ **Возраст пользователей:**\n",
    "    Средний возраст пользователей составляет 25 лет.\n",
    "Возраст пользователей варьируется от 12 до 43 лет.\n",
    "Межквартильный размах по возрасту составляет 6 лет (разница между 25% и 75% составляет 22 и 28 лет соответственно).\n",
    "\n",
    "\n",
    "+ **Расстояние, преодолённое за одну поездку:**\n",
    "    Средняя дальность поездок составляет около 3 км, с диапазоном от 0.86 км до 7.21 км.\n",
    "Межквартильный размах по расстоянию составляет 1233 км (разница между 25% и 75% составляет 2543 км и 3776 км соответственно).\n",
    "\n",
    "\n",
    "+ **Продолжительность поездок:**\n",
    "    Средняя длительность поездок около 18 минут, с диапазоном от 0.5 до 41 минуты.\n",
    "Межквартильный размах по продолжительности составляет 8.1 минуты (разница между 25% и 75% составляет 13.6 и 21.7 минуты соответственно)."
   ]
  },
  {
   "cell_type": "markdown",
   "id": "4ef51331",
   "metadata": {},
   "source": [
    "#### Шаг 4. Объединение данных"
   ]
  },
  {
   "cell_type": "markdown",
   "id": "4e6d9f53",
   "metadata": {},
   "source": [
    "##### Объединение данных о пользователях, поездках и подписках"
   ]
  },
  {
   "cell_type": "markdown",
   "id": "75c80954",
   "metadata": {},
   "source": [
    "Обьединим данные о пользователях и поездках по столбцу user_id"
   ]
  },
  {
   "cell_type": "code",
   "execution_count": 27,
   "id": "4dbf93d1",
   "metadata": {},
   "outputs": [],
   "source": [
    "merged_data = pd.merge(data_rides, data_users, on='user_id')"
   ]
  },
  {
   "cell_type": "markdown",
   "id": "03f9adb9",
   "metadata": {},
   "source": [
    "Объединим полученный датафрейм с данными о подписках по столбцу subscription_type"
   ]
  },
  {
   "cell_type": "code",
   "execution_count": 28,
   "id": "38d4fb63",
   "metadata": {},
   "outputs": [],
   "source": [
    "merged_data = pd.merge(merged_data, data_subs, on='subscription_type')"
   ]
  },
  {
   "cell_type": "markdown",
   "id": "5c7cb366",
   "metadata": {},
   "source": [
    "Проверяем, что данные успешно объединены"
   ]
  },
  {
   "cell_type": "code",
   "execution_count": 29,
   "id": "c3eb906c",
   "metadata": {
    "scrolled": true
   },
   "outputs": [
    {
     "data": {
      "text/html": [
       "<div>\n",
       "<style scoped>\n",
       "    .dataframe tbody tr th:only-of-type {\n",
       "        vertical-align: middle;\n",
       "    }\n",
       "\n",
       "    .dataframe tbody tr th {\n",
       "        vertical-align: top;\n",
       "    }\n",
       "\n",
       "    .dataframe thead th {\n",
       "        text-align: right;\n",
       "    }\n",
       "</style>\n",
       "<table border=\"1\" class=\"dataframe\">\n",
       "  <thead>\n",
       "    <tr style=\"text-align: right;\">\n",
       "      <th></th>\n",
       "      <th>user_id</th>\n",
       "      <th>distance</th>\n",
       "      <th>duration</th>\n",
       "      <th>date</th>\n",
       "      <th>month</th>\n",
       "      <th>name</th>\n",
       "      <th>age</th>\n",
       "      <th>city</th>\n",
       "      <th>subscription_type</th>\n",
       "      <th>minute_price</th>\n",
       "      <th>start_ride_price</th>\n",
       "      <th>subscription_fee</th>\n",
       "    </tr>\n",
       "  </thead>\n",
       "  <tbody>\n",
       "    <tr>\n",
       "      <th>0</th>\n",
       "      <td>1</td>\n",
       "      <td>4409.919140</td>\n",
       "      <td>25.599769</td>\n",
       "      <td>2021-01-01</td>\n",
       "      <td>1</td>\n",
       "      <td>Кира</td>\n",
       "      <td>22</td>\n",
       "      <td>Тюмень</td>\n",
       "      <td>ultra</td>\n",
       "      <td>6</td>\n",
       "      <td>0</td>\n",
       "      <td>199</td>\n",
       "    </tr>\n",
       "    <tr>\n",
       "      <th>1</th>\n",
       "      <td>1</td>\n",
       "      <td>2617.592153</td>\n",
       "      <td>15.816871</td>\n",
       "      <td>2021-01-18</td>\n",
       "      <td>1</td>\n",
       "      <td>Кира</td>\n",
       "      <td>22</td>\n",
       "      <td>Тюмень</td>\n",
       "      <td>ultra</td>\n",
       "      <td>6</td>\n",
       "      <td>0</td>\n",
       "      <td>199</td>\n",
       "    </tr>\n",
       "    <tr>\n",
       "      <th>2</th>\n",
       "      <td>1</td>\n",
       "      <td>754.159807</td>\n",
       "      <td>6.232113</td>\n",
       "      <td>2021-04-20</td>\n",
       "      <td>4</td>\n",
       "      <td>Кира</td>\n",
       "      <td>22</td>\n",
       "      <td>Тюмень</td>\n",
       "      <td>ultra</td>\n",
       "      <td>6</td>\n",
       "      <td>0</td>\n",
       "      <td>199</td>\n",
       "    </tr>\n",
       "    <tr>\n",
       "      <th>3</th>\n",
       "      <td>1</td>\n",
       "      <td>2694.783254</td>\n",
       "      <td>18.511000</td>\n",
       "      <td>2021-08-11</td>\n",
       "      <td>8</td>\n",
       "      <td>Кира</td>\n",
       "      <td>22</td>\n",
       "      <td>Тюмень</td>\n",
       "      <td>ultra</td>\n",
       "      <td>6</td>\n",
       "      <td>0</td>\n",
       "      <td>199</td>\n",
       "    </tr>\n",
       "    <tr>\n",
       "      <th>4</th>\n",
       "      <td>1</td>\n",
       "      <td>4028.687306</td>\n",
       "      <td>26.265803</td>\n",
       "      <td>2021-08-28</td>\n",
       "      <td>8</td>\n",
       "      <td>Кира</td>\n",
       "      <td>22</td>\n",
       "      <td>Тюмень</td>\n",
       "      <td>ultra</td>\n",
       "      <td>6</td>\n",
       "      <td>0</td>\n",
       "      <td>199</td>\n",
       "    </tr>\n",
       "  </tbody>\n",
       "</table>\n",
       "</div>"
      ],
      "text/plain": [
       "   user_id     distance   duration       date  month  name  age    city  \\\n",
       "0        1  4409.919140  25.599769 2021-01-01      1  Кира   22  Тюмень   \n",
       "1        1  2617.592153  15.816871 2021-01-18      1  Кира   22  Тюмень   \n",
       "2        1   754.159807   6.232113 2021-04-20      4  Кира   22  Тюмень   \n",
       "3        1  2694.783254  18.511000 2021-08-11      8  Кира   22  Тюмень   \n",
       "4        1  4028.687306  26.265803 2021-08-28      8  Кира   22  Тюмень   \n",
       "\n",
       "  subscription_type  minute_price  start_ride_price  subscription_fee  \n",
       "0             ultra             6                 0               199  \n",
       "1             ultra             6                 0               199  \n",
       "2             ultra             6                 0               199  \n",
       "3             ultra             6                 0               199  \n",
       "4             ultra             6                 0               199  "
      ]
     },
     "execution_count": 29,
     "metadata": {},
     "output_type": "execute_result"
    }
   ],
   "source": [
    "merged_data.head()"
   ]
  },
  {
   "cell_type": "markdown",
   "id": "423d03bd",
   "metadata": {},
   "source": [
    "Проверим размерность до объединения и после у полученной таблицы"
   ]
  },
  {
   "cell_type": "code",
   "execution_count": 30,
   "id": "ae1fb878",
   "metadata": {},
   "outputs": [
    {
     "name": "stdout",
     "output_type": "stream",
     "text": [
      "Размерность данных о поездках: (18068, 5)\n",
      "Размерность данных о пользователях: (1534, 5)\n",
      "Размерность данных о подписках: (2, 4)\n",
      "Размерность после объединения: (18068, 12)\n",
      "Пропуски после объединения:\n",
      "user_id              0\n",
      "distance             0\n",
      "duration             0\n",
      "date                 0\n",
      "month                0\n",
      "name                 0\n",
      "age                  0\n",
      "city                 0\n",
      "subscription_type    0\n",
      "minute_price         0\n",
      "start_ride_price     0\n",
      "subscription_fee     0\n",
      "dtype: int64\n"
     ]
    }
   ],
   "source": [
    "initial_rides_shape = data_rides.shape\n",
    "initial_users_shape = data_users.shape\n",
    "initial_subs_shape = data_subs.shape\n",
    "\n",
    "final_shape = merged_data.shape\n",
    "\n",
    "missing_values = merged_data.isnull().sum()\n",
    "\n",
    "print(f'Размерность данных о поездках: {initial_rides_shape}')\n",
    "print(f'Размерность данных о пользователях: {initial_users_shape}')\n",
    "print(f'Размерность данных о подписках: {initial_subs_shape}')\n",
    "print(f'Размерность после объединения: {final_shape}')\n",
    "print('Пропуски после объединения:')\n",
    "print(missing_values)"
   ]
  },
  {
   "cell_type": "markdown",
   "id": "69a5866c",
   "metadata": {},
   "source": [
    "Размерность данных до объединения и после у полученной таблицы не изменилась\n",
    "(размерность данных о поездках == размерность после объединения)\n",
    "\n",
    "После объединения пропуски отсутствуют"
   ]
  },
  {
   "cell_type": "markdown",
   "id": "f5a565c7",
   "metadata": {},
   "source": [
    "##### Создание двух датафреймов по категориям пользователей"
   ]
  },
  {
   "cell_type": "markdown",
   "id": "4d85abf4",
   "metadata": {},
   "source": [
    "Создадим датафрейм для пользователей без подписки"
   ]
  },
  {
   "cell_type": "code",
   "execution_count": 31,
   "id": "9f933c95",
   "metadata": {},
   "outputs": [
    {
     "data": {
      "text/html": [
       "<div>\n",
       "<style scoped>\n",
       "    .dataframe tbody tr th:only-of-type {\n",
       "        vertical-align: middle;\n",
       "    }\n",
       "\n",
       "    .dataframe tbody tr th {\n",
       "        vertical-align: top;\n",
       "    }\n",
       "\n",
       "    .dataframe thead th {\n",
       "        text-align: right;\n",
       "    }\n",
       "</style>\n",
       "<table border=\"1\" class=\"dataframe\">\n",
       "  <thead>\n",
       "    <tr style=\"text-align: right;\">\n",
       "      <th></th>\n",
       "      <th>user_id</th>\n",
       "      <th>distance</th>\n",
       "      <th>duration</th>\n",
       "      <th>date</th>\n",
       "      <th>month</th>\n",
       "      <th>name</th>\n",
       "      <th>age</th>\n",
       "      <th>city</th>\n",
       "      <th>subscription_type</th>\n",
       "      <th>minute_price</th>\n",
       "      <th>start_ride_price</th>\n",
       "      <th>subscription_fee</th>\n",
       "    </tr>\n",
       "  </thead>\n",
       "  <tbody>\n",
       "    <tr>\n",
       "      <th>6500</th>\n",
       "      <td>700</td>\n",
       "      <td>2515.690719</td>\n",
       "      <td>14.944286</td>\n",
       "      <td>2021-01-02</td>\n",
       "      <td>1</td>\n",
       "      <td>Айдар</td>\n",
       "      <td>22</td>\n",
       "      <td>Омск</td>\n",
       "      <td>free</td>\n",
       "      <td>8</td>\n",
       "      <td>50</td>\n",
       "      <td>0</td>\n",
       "    </tr>\n",
       "    <tr>\n",
       "      <th>6501</th>\n",
       "      <td>700</td>\n",
       "      <td>846.932642</td>\n",
       "      <td>16.234663</td>\n",
       "      <td>2021-02-01</td>\n",
       "      <td>2</td>\n",
       "      <td>Айдар</td>\n",
       "      <td>22</td>\n",
       "      <td>Омск</td>\n",
       "      <td>free</td>\n",
       "      <td>8</td>\n",
       "      <td>50</td>\n",
       "      <td>0</td>\n",
       "    </tr>\n",
       "    <tr>\n",
       "      <th>6502</th>\n",
       "      <td>700</td>\n",
       "      <td>4004.434142</td>\n",
       "      <td>20.016628</td>\n",
       "      <td>2021-02-04</td>\n",
       "      <td>2</td>\n",
       "      <td>Айдар</td>\n",
       "      <td>22</td>\n",
       "      <td>Омск</td>\n",
       "      <td>free</td>\n",
       "      <td>8</td>\n",
       "      <td>50</td>\n",
       "      <td>0</td>\n",
       "    </tr>\n",
       "    <tr>\n",
       "      <th>6503</th>\n",
       "      <td>700</td>\n",
       "      <td>1205.911290</td>\n",
       "      <td>9.782872</td>\n",
       "      <td>2021-02-10</td>\n",
       "      <td>2</td>\n",
       "      <td>Айдар</td>\n",
       "      <td>22</td>\n",
       "      <td>Омск</td>\n",
       "      <td>free</td>\n",
       "      <td>8</td>\n",
       "      <td>50</td>\n",
       "      <td>0</td>\n",
       "    </tr>\n",
       "    <tr>\n",
       "      <th>6504</th>\n",
       "      <td>700</td>\n",
       "      <td>3047.379435</td>\n",
       "      <td>17.427673</td>\n",
       "      <td>2021-02-14</td>\n",
       "      <td>2</td>\n",
       "      <td>Айдар</td>\n",
       "      <td>22</td>\n",
       "      <td>Омск</td>\n",
       "      <td>free</td>\n",
       "      <td>8</td>\n",
       "      <td>50</td>\n",
       "      <td>0</td>\n",
       "    </tr>\n",
       "  </tbody>\n",
       "</table>\n",
       "</div>"
      ],
      "text/plain": [
       "      user_id     distance   duration       date  month   name  age  city  \\\n",
       "6500      700  2515.690719  14.944286 2021-01-02      1  Айдар   22  Омск   \n",
       "6501      700   846.932642  16.234663 2021-02-01      2  Айдар   22  Омск   \n",
       "6502      700  4004.434142  20.016628 2021-02-04      2  Айдар   22  Омск   \n",
       "6503      700  1205.911290   9.782872 2021-02-10      2  Айдар   22  Омск   \n",
       "6504      700  3047.379435  17.427673 2021-02-14      2  Айдар   22  Омск   \n",
       "\n",
       "     subscription_type  minute_price  start_ride_price  subscription_fee  \n",
       "6500              free             8                50                 0  \n",
       "6501              free             8                50                 0  \n",
       "6502              free             8                50                 0  \n",
       "6503              free             8                50                 0  \n",
       "6504              free             8                50                 0  "
      ]
     },
     "execution_count": 31,
     "metadata": {},
     "output_type": "execute_result"
    }
   ],
   "source": [
    "users_without_sub = merged_data[merged_data['subscription_type'] == 'free']\n",
    "users_without_sub.head()"
   ]
  },
  {
   "cell_type": "code",
   "execution_count": 32,
   "id": "2f7f7c6f",
   "metadata": {},
   "outputs": [
    {
     "name": "stdout",
     "output_type": "stream",
     "text": [
      "Размерность данных таблицы для пользователей без подписки (11568, 12)\n"
     ]
    }
   ],
   "source": [
    "print(f'Размерность данных таблицы для пользователей без подписки {users_without_sub.shape}')"
   ]
  },
  {
   "cell_type": "code",
   "execution_count": 33,
   "id": "8bc3a084",
   "metadata": {},
   "outputs": [
    {
     "data": {
      "text/plain": [
       "user_id              0\n",
       "distance             0\n",
       "duration             0\n",
       "date                 0\n",
       "month                0\n",
       "name                 0\n",
       "age                  0\n",
       "city                 0\n",
       "subscription_type    0\n",
       "minute_price         0\n",
       "start_ride_price     0\n",
       "subscription_fee     0\n",
       "dtype: int64"
      ]
     },
     "execution_count": 33,
     "metadata": {},
     "output_type": "execute_result"
    }
   ],
   "source": [
    "users_without_sub.isnull().sum()"
   ]
  },
  {
   "cell_type": "markdown",
   "id": "be6a5c79",
   "metadata": {},
   "source": [
    "Пропуски в данных отсутствуют"
   ]
  },
  {
   "cell_type": "markdown",
   "id": "92648134",
   "metadata": {},
   "source": [
    "Создадим датафрейм для пользователей с подпиской"
   ]
  },
  {
   "cell_type": "code",
   "execution_count": 34,
   "id": "15912c8d",
   "metadata": {},
   "outputs": [
    {
     "data": {
      "text/html": [
       "<div>\n",
       "<style scoped>\n",
       "    .dataframe tbody tr th:only-of-type {\n",
       "        vertical-align: middle;\n",
       "    }\n",
       "\n",
       "    .dataframe tbody tr th {\n",
       "        vertical-align: top;\n",
       "    }\n",
       "\n",
       "    .dataframe thead th {\n",
       "        text-align: right;\n",
       "    }\n",
       "</style>\n",
       "<table border=\"1\" class=\"dataframe\">\n",
       "  <thead>\n",
       "    <tr style=\"text-align: right;\">\n",
       "      <th></th>\n",
       "      <th>user_id</th>\n",
       "      <th>distance</th>\n",
       "      <th>duration</th>\n",
       "      <th>date</th>\n",
       "      <th>month</th>\n",
       "      <th>name</th>\n",
       "      <th>age</th>\n",
       "      <th>city</th>\n",
       "      <th>subscription_type</th>\n",
       "      <th>minute_price</th>\n",
       "      <th>start_ride_price</th>\n",
       "      <th>subscription_fee</th>\n",
       "    </tr>\n",
       "  </thead>\n",
       "  <tbody>\n",
       "    <tr>\n",
       "      <th>0</th>\n",
       "      <td>1</td>\n",
       "      <td>4409.919140</td>\n",
       "      <td>25.599769</td>\n",
       "      <td>2021-01-01</td>\n",
       "      <td>1</td>\n",
       "      <td>Кира</td>\n",
       "      <td>22</td>\n",
       "      <td>Тюмень</td>\n",
       "      <td>ultra</td>\n",
       "      <td>6</td>\n",
       "      <td>0</td>\n",
       "      <td>199</td>\n",
       "    </tr>\n",
       "    <tr>\n",
       "      <th>1</th>\n",
       "      <td>1</td>\n",
       "      <td>2617.592153</td>\n",
       "      <td>15.816871</td>\n",
       "      <td>2021-01-18</td>\n",
       "      <td>1</td>\n",
       "      <td>Кира</td>\n",
       "      <td>22</td>\n",
       "      <td>Тюмень</td>\n",
       "      <td>ultra</td>\n",
       "      <td>6</td>\n",
       "      <td>0</td>\n",
       "      <td>199</td>\n",
       "    </tr>\n",
       "    <tr>\n",
       "      <th>2</th>\n",
       "      <td>1</td>\n",
       "      <td>754.159807</td>\n",
       "      <td>6.232113</td>\n",
       "      <td>2021-04-20</td>\n",
       "      <td>4</td>\n",
       "      <td>Кира</td>\n",
       "      <td>22</td>\n",
       "      <td>Тюмень</td>\n",
       "      <td>ultra</td>\n",
       "      <td>6</td>\n",
       "      <td>0</td>\n",
       "      <td>199</td>\n",
       "    </tr>\n",
       "    <tr>\n",
       "      <th>3</th>\n",
       "      <td>1</td>\n",
       "      <td>2694.783254</td>\n",
       "      <td>18.511000</td>\n",
       "      <td>2021-08-11</td>\n",
       "      <td>8</td>\n",
       "      <td>Кира</td>\n",
       "      <td>22</td>\n",
       "      <td>Тюмень</td>\n",
       "      <td>ultra</td>\n",
       "      <td>6</td>\n",
       "      <td>0</td>\n",
       "      <td>199</td>\n",
       "    </tr>\n",
       "    <tr>\n",
       "      <th>4</th>\n",
       "      <td>1</td>\n",
       "      <td>4028.687306</td>\n",
       "      <td>26.265803</td>\n",
       "      <td>2021-08-28</td>\n",
       "      <td>8</td>\n",
       "      <td>Кира</td>\n",
       "      <td>22</td>\n",
       "      <td>Тюмень</td>\n",
       "      <td>ultra</td>\n",
       "      <td>6</td>\n",
       "      <td>0</td>\n",
       "      <td>199</td>\n",
       "    </tr>\n",
       "  </tbody>\n",
       "</table>\n",
       "</div>"
      ],
      "text/plain": [
       "   user_id     distance   duration       date  month  name  age    city  \\\n",
       "0        1  4409.919140  25.599769 2021-01-01      1  Кира   22  Тюмень   \n",
       "1        1  2617.592153  15.816871 2021-01-18      1  Кира   22  Тюмень   \n",
       "2        1   754.159807   6.232113 2021-04-20      4  Кира   22  Тюмень   \n",
       "3        1  2694.783254  18.511000 2021-08-11      8  Кира   22  Тюмень   \n",
       "4        1  4028.687306  26.265803 2021-08-28      8  Кира   22  Тюмень   \n",
       "\n",
       "  subscription_type  minute_price  start_ride_price  subscription_fee  \n",
       "0             ultra             6                 0               199  \n",
       "1             ultra             6                 0               199  \n",
       "2             ultra             6                 0               199  \n",
       "3             ultra             6                 0               199  \n",
       "4             ultra             6                 0               199  "
      ]
     },
     "execution_count": 34,
     "metadata": {},
     "output_type": "execute_result"
    }
   ],
   "source": [
    "users_with_sub = merged_data[merged_data['subscription_type'] != 'free']\n",
    "users_with_sub.head()"
   ]
  },
  {
   "cell_type": "code",
   "execution_count": 35,
   "id": "23fa64bf",
   "metadata": {
    "scrolled": true
   },
   "outputs": [
    {
     "name": "stdout",
     "output_type": "stream",
     "text": [
      "Размерность данных таблицы для пользователей без подписки (6500, 12)\n"
     ]
    }
   ],
   "source": [
    "print(f'Размерность данных таблицы для пользователей без подписки {users_with_sub.shape}')"
   ]
  },
  {
   "cell_type": "code",
   "execution_count": 36,
   "id": "871e28b5",
   "metadata": {},
   "outputs": [
    {
     "data": {
      "text/plain": [
       "user_id              0\n",
       "distance             0\n",
       "duration             0\n",
       "date                 0\n",
       "month                0\n",
       "name                 0\n",
       "age                  0\n",
       "city                 0\n",
       "subscription_type    0\n",
       "minute_price         0\n",
       "start_ride_price     0\n",
       "subscription_fee     0\n",
       "dtype: int64"
      ]
     },
     "execution_count": 36,
     "metadata": {},
     "output_type": "execute_result"
    }
   ],
   "source": [
    "users_with_sub.isnull().sum()"
   ]
  },
  {
   "cell_type": "markdown",
   "id": "848a002f",
   "metadata": {},
   "source": [
    "Пропуски в данных отсутствуют"
   ]
  },
  {
   "cell_type": "code",
   "execution_count": 37,
   "id": "a4586a5f",
   "metadata": {
    "scrolled": true
   },
   "outputs": [
    {
     "name": "stdout",
     "output_type": "stream",
     "text": [
      "Сумма размерностей полученных таблиц соответстует изначальной таблице\n"
     ]
    }
   ],
   "source": [
    "if users_with_sub.shape[0] + users_without_sub.shape[0] == merged_data.shape[0]:\n",
    "    print('Сумма размерностей полученных таблиц соответстует изначальной таблице')\n",
    "else:\n",
    "    print('Сумма размерностей полученных не соответстует изначальной таблице')"
   ]
  },
  {
   "cell_type": "markdown",
   "id": "65f0b89a",
   "metadata": {},
   "source": [
    "##### Визуализация информации о расстоянии и времени поездок"
   ]
  },
  {
   "cell_type": "markdown",
   "id": "e2a4f692",
   "metadata": {},
   "source": [
    "Расстояние для пользователей без подписки"
   ]
  },
  {
   "cell_type": "code",
   "execution_count": 38,
   "id": "346724ec",
   "metadata": {
    "collapsed": true,
    "jupyter": {
     "outputs_hidden": true
    },
    "scrolled": true
   },
   "outputs": [
    {
     "data": {
      "image/png": "[encoded data removed]",
      "text/plain": [
       "<Figure size 576x432 with 1 Axes>"
      ]
     },
     "metadata": {
      "needs_background": "light"
     },
     "output_type": "display_data"
    },
    {
     "data": {
      "image/png": "[encoded data removed]",
      "text/plain": [
       "<Figure size 576x432 with 1 Axes>"
      ]
     },
     "metadata": {
      "needs_background": "light"
     },
     "output_type": "display_data"
    }
   ],
   "source": [
    "#Расстояние для пользователей без подписки\n",
    "users_without_sub['distance'].hist(bins=30, figsize=(8, 6))\n",
    "plt.title('Распределение расстояний поездок')\n",
    "plt.xlabel('Расстояние (м)')\n",
    "plt.ylabel('Количество поездок')\n",
    "\n",
    "#Расстояние для пользователей с подпиской\n",
    "users_with_sub['distance'].hist(bins=30, figsize=(8, 6))\n",
    "plt.title('Распределение расстояний поездок')\n",
    "plt.xlabel('Расстояние (м)')\n",
    "plt.ylabel('Количество поездок')\n",
    "plt.tight_layout()\n",
    "plt.show()\n",
    "\n",
    "#Время для пользователей без подписки\n",
    "users_without_sub['duration'].hist(bins=30, figsize=(8, 6))\n",
    "plt.title('Распределение времени поездок')\n",
    "plt.xlabel('Время (мин)')\n",
    "plt.ylabel('Количество поездок')\n",
    "\n",
    "#Время для пользователей с подпиской\n",
    "users_with_sub['duration'].hist(bins=30, figsize=(8, 6))\n",
    "plt.title('Распределение времени поездок')\n",
    "plt.xlabel('Время (мин)')\n",
    "plt.ylabel('Количество поездок')\n",
    "plt.tight_layout()\n",
    "plt.show()"
   ]
  },
  {
   "cell_type": "code",
   "execution_count": 39,
   "id": "1f6eef71",
   "metadata": {},
   "outputs": [
    {
     "name": "stdout",
     "output_type": "stream",
     "text": [
      "Статистика расстояний для пользователей без подписки:\n",
      " count    11568.000000\n",
      "mean      3045.495282\n",
      "std       1246.173806\n",
      "min          0.855683\n",
      "25%       2366.562689\n",
      "50%       3114.648465\n",
      "75%       3905.697894\n",
      "max       7211.007745\n",
      "Name: distance, dtype: float64\n",
      "\n",
      "Статистика расстояний для пользователей с подпиской:\n",
      " count    6500.000000\n",
      "mean     3115.445388\n",
      "std       836.895330\n",
      "min       244.210438\n",
      "25%      2785.444017\n",
      "50%      3148.637229\n",
      "75%      3560.574425\n",
      "max      5699.769662\n",
      "Name: distance, dtype: float64\n",
      "\n",
      "- Среднее расстояние для пользователей без подписки составляет 3045.50 м,\n",
      "\tв то время как для пользователей с подпиской - 3115.45 м\n",
      "- Максимальное расстояние для пользователей без подписки достигает 7211.01 м,\n",
      "\tв то время как у пользователей с подпиской - 5699.77 м\n",
      "- Межквартильный размах расстояний для пользователей без подписки составляет 1539.14 м,\n",
      "\tа для пользователей с подпиской - 775.13 м\n",
      "\n",
      "- Средняя продолжительность поездок для пользователей без подписки составляет 17.39 мин, \n",
      "\tв то время как для подписчиков - 18.54 мин\n",
      "- Максимальная продолжительность поездок для пользователей без подписки составляет 34.95 мин, \n",
      "\tа для подписчиков - 40.82 мин\n",
      "- Межквартильный размах продолжительности поездок для пользователей без подписки составляет 8.64 мин, \n",
      "\tа для пользователей с подпиской - 7.36 мин\n"
     ]
    }
   ],
   "source": [
    "# Статистика по расстоянию\n",
    "distance_without_sub_stats = users_without_sub['distance'].describe()\n",
    "distance_with_sub_stats = users_with_sub['distance'].describe()\n",
    "\n",
    "# Статистика по времени\n",
    "duration_without_sub_stats = users_without_sub['duration'].describe()\n",
    "duration_with_sub_stats = users_with_sub['duration'].describe()\n",
    "\n",
    "# Межквартильный размах для расстояний\n",
    "distance_q1_without_sub = np.percentile(users_without_sub['distance'], 25)\n",
    "distance_q3_without_sub = np.percentile(users_without_sub['distance'], 75)\n",
    "distance_iqr_without_sub = distance_q3_without_sub - distance_q1_without_sub\n",
    "\n",
    "distance_q1_with_sub = np.percentile(users_with_sub['distance'], 25)\n",
    "distance_q3_with_sub = np.percentile(users_with_sub['distance'], 75)\n",
    "distance_iqr_with_sub = distance_q3_with_sub - distance_q1_with_sub\n",
    "\n",
    "# Межквартильный размах для продолжительности\n",
    "duration_q1_without_sub = np.percentile(users_without_sub['duration'], 25)\n",
    "duration_q3_without_sub = np.percentile(users_without_sub['duration'], 75)\n",
    "duration_iqr_without_sub = duration_q3_without_sub - duration_q1_without_sub\n",
    "\n",
    "duration_q1_with_sub = np.percentile(users_with_sub['duration'], 25)\n",
    "duration_q3_with_sub = np.percentile(users_with_sub['duration'], 75)\n",
    "duration_iqr_with_sub = duration_q3_with_sub - duration_q1_with_sub\n",
    "\n",
    "\n",
    "print(\"Статистика расстояний для пользователей без подписки:\\n\", distance_without_sub_stats)\n",
    "print(\"\\nСтатистика расстояний для пользователей с подпиской:\\n\", distance_with_sub_stats)\n",
    "\n",
    "print()\n",
    "print(f\"- Среднее расстояние для пользователей без подписки составляет {distance_without_sub_stats['mean']:.2f} м,\\\n",
    "\\n\\tв то время как для пользователей с подпиской - {distance_with_sub_stats['mean']:.2f} м\")\n",
    "print(f\"- Максимальное расстояние для пользователей без подписки достигает {distance_without_sub_stats['max']:.2f} м,\\\n",
    "\\n\\tв то время как у пользователей с подпиской - {distance_with_sub_stats['max']:.2f} м\")\n",
    "print(f\"- Межквартильный размах расстояний для пользователей без подписки составляет {distance_iqr_without_sub:.2f} м,\\\n",
    "\\n\\tа для пользователей с подпиской - {distance_iqr_with_sub:.2f} м\")\n",
    "print()\n",
    "print(f\"- Средняя продолжительность поездок для пользователей без подписки составляет \\\n",
    "{duration_without_sub_stats['mean']:.2f} мин, \\n\\tв то время как для подписчиков - {duration_with_sub_stats['mean']:.2f} мин\")\n",
    "print(f\"- Максимальная продолжительность поездок для пользователей без подписки составляет \\\n",
    "{duration_without_sub_stats['max']:.2f} мин, \\n\\tа для подписчиков - {duration_with_sub_stats['max']:.2f} мин\")\n",
    "print(f\"- Межквартильный размах продолжительности поездок для пользователей без подписки составляет \\\n",
    "{duration_iqr_without_sub:.2f} мин, \\n\\tа для пользователей с подпиской - {duration_iqr_with_sub:.2f} мин\")"
   ]
  },
  {
   "cell_type": "markdown",
   "id": "402d620f",
   "metadata": {},
   "source": [
    "#### Шаг 5. Подсчёт выручки"
   ]
  },
  {
   "cell_type": "markdown",
   "id": "570428fe",
   "metadata": {},
   "source": [
    "##### Агрегация данных о поездках"
   ]
  },
  {
   "cell_type": "markdown",
   "id": "e9f24132",
   "metadata": {},
   "source": [
    "Округляем продолжительность поездок \"потолком\""
   ]
  },
  {
   "cell_type": "code",
   "execution_count": 40,
   "id": "6ac0f744",
   "metadata": {},
   "outputs": [],
   "source": [
    "merged_data['duration'] = np.ceil(merged_data['duration'])"
   ]
  },
  {
   "cell_type": "markdown",
   "id": "ce02b250",
   "metadata": {},
   "source": [
    "Агрегируем данные по пользователю и месяцу"
   ]
  },
  {
   "cell_type": "code",
   "execution_count": 41,
   "id": "f9664b0d",
   "metadata": {
    "scrolled": true
   },
   "outputs": [
    {
     "data": {
      "text/html": [
       "<div>\n",
       "<style scoped>\n",
       "    .dataframe tbody tr th:only-of-type {\n",
       "        vertical-align: middle;\n",
       "    }\n",
       "\n",
       "    .dataframe tbody tr th {\n",
       "        vertical-align: top;\n",
       "    }\n",
       "\n",
       "    .dataframe thead th {\n",
       "        text-align: right;\n",
       "    }\n",
       "</style>\n",
       "<table border=\"1\" class=\"dataframe\">\n",
       "  <thead>\n",
       "    <tr style=\"text-align: right;\">\n",
       "      <th></th>\n",
       "      <th>user_id</th>\n",
       "      <th>month</th>\n",
       "      <th>total_distance</th>\n",
       "      <th>total_rides</th>\n",
       "      <th>total_duration</th>\n",
       "    </tr>\n",
       "  </thead>\n",
       "  <tbody>\n",
       "    <tr>\n",
       "      <th>0</th>\n",
       "      <td>1</td>\n",
       "      <td>1</td>\n",
       "      <td>7027.511294</td>\n",
       "      <td>2</td>\n",
       "      <td>42.0</td>\n",
       "    </tr>\n",
       "    <tr>\n",
       "      <th>1</th>\n",
       "      <td>1</td>\n",
       "      <td>4</td>\n",
       "      <td>754.159807</td>\n",
       "      <td>1</td>\n",
       "      <td>7.0</td>\n",
       "    </tr>\n",
       "    <tr>\n",
       "      <th>2</th>\n",
       "      <td>1</td>\n",
       "      <td>8</td>\n",
       "      <td>6723.470560</td>\n",
       "      <td>2</td>\n",
       "      <td>46.0</td>\n",
       "    </tr>\n",
       "    <tr>\n",
       "      <th>3</th>\n",
       "      <td>1</td>\n",
       "      <td>10</td>\n",
       "      <td>5809.911100</td>\n",
       "      <td>2</td>\n",
       "      <td>32.0</td>\n",
       "    </tr>\n",
       "    <tr>\n",
       "      <th>4</th>\n",
       "      <td>1</td>\n",
       "      <td>11</td>\n",
       "      <td>7003.499363</td>\n",
       "      <td>3</td>\n",
       "      <td>56.0</td>\n",
       "    </tr>\n",
       "  </tbody>\n",
       "</table>\n",
       "</div>"
      ],
      "text/plain": [
       "   user_id  month  total_distance  total_rides  total_duration\n",
       "0        1      1     7027.511294            2            42.0\n",
       "1        1      4      754.159807            1             7.0\n",
       "2        1      8     6723.470560            2            46.0\n",
       "3        1     10     5809.911100            2            32.0\n",
       "4        1     11     7003.499363            3            56.0"
      ]
     },
     "execution_count": 41,
     "metadata": {},
     "output_type": "execute_result"
    }
   ],
   "source": [
    "monthly_data = merged_data.groupby(['user_id', 'month']).agg(\n",
    "    total_distance=('distance', 'sum'),\n",
    "    total_rides=('user_id', 'count'),\n",
    "    total_duration=('duration', 'sum')\n",
    ").reset_index()\n",
    "monthly_data.head()"
   ]
  },
  {
   "cell_type": "markdown",
   "id": "3a97c3c4",
   "metadata": {},
   "source": [
    "Проверим агрегированные данные на пропуски"
   ]
  },
  {
   "cell_type": "code",
   "execution_count": 42,
   "id": "bbbc309f",
   "metadata": {},
   "outputs": [
    {
     "name": "stdout",
     "output_type": "stream",
     "text": [
      "Проверка на пропуски в агрегированных данных:\n",
      "user_id           0\n",
      "month             0\n",
      "total_distance    0\n",
      "total_rides       0\n",
      "total_duration    0\n",
      "dtype: int64\n"
     ]
    }
   ],
   "source": [
    "missing_values = monthly_data.isnull().sum()\n",
    "\n",
    "print(\"Проверка на пропуски в агрегированных данных:\")\n",
    "print(missing_values)"
   ]
  },
  {
   "cell_type": "markdown",
   "id": "f464362c",
   "metadata": {},
   "source": [
    "Пропуски в данных отсутствуют"
   ]
  },
  {
   "cell_type": "markdown",
   "id": "5bd6072e",
   "metadata": {},
   "source": [
    "##### Подсчёт помесячной выручки"
   ]
  },
  {
   "cell_type": "markdown",
   "id": "c4c11f2b",
   "metadata": {},
   "source": [
    "Создадим столбцы для стоимости минуты, старта поездки и подписки, которые соответствуют каждому пользователю"
   ]
  },
  {
   "cell_type": "code",
   "execution_count": 43,
   "id": "eda004fc",
   "metadata": {},
   "outputs": [
    {
     "data": {
      "text/html": [
       "<div>\n",
       "<style scoped>\n",
       "    .dataframe tbody tr th:only-of-type {\n",
       "        vertical-align: middle;\n",
       "    }\n",
       "\n",
       "    .dataframe tbody tr th {\n",
       "        vertical-align: top;\n",
       "    }\n",
       "\n",
       "    .dataframe thead th {\n",
       "        text-align: right;\n",
       "    }\n",
       "</style>\n",
       "<table border=\"1\" class=\"dataframe\">\n",
       "  <thead>\n",
       "    <tr style=\"text-align: right;\">\n",
       "      <th></th>\n",
       "      <th>user_id</th>\n",
       "      <th>month</th>\n",
       "      <th>total_distance</th>\n",
       "      <th>total_rides</th>\n",
       "      <th>total_duration</th>\n",
       "      <th>subscription_type</th>\n",
       "      <th>minute_price</th>\n",
       "      <th>start_ride_price</th>\n",
       "      <th>subscription_fee</th>\n",
       "    </tr>\n",
       "  </thead>\n",
       "  <tbody>\n",
       "    <tr>\n",
       "      <th>0</th>\n",
       "      <td>1</td>\n",
       "      <td>1</td>\n",
       "      <td>7027.511294</td>\n",
       "      <td>2</td>\n",
       "      <td>42.0</td>\n",
       "      <td>ultra</td>\n",
       "      <td>6</td>\n",
       "      <td>0</td>\n",
       "      <td>199</td>\n",
       "    </tr>\n",
       "    <tr>\n",
       "      <th>12</th>\n",
       "      <td>1</td>\n",
       "      <td>4</td>\n",
       "      <td>754.159807</td>\n",
       "      <td>1</td>\n",
       "      <td>7.0</td>\n",
       "      <td>ultra</td>\n",
       "      <td>6</td>\n",
       "      <td>0</td>\n",
       "      <td>199</td>\n",
       "    </tr>\n",
       "    <tr>\n",
       "      <th>24</th>\n",
       "      <td>1</td>\n",
       "      <td>8</td>\n",
       "      <td>6723.470560</td>\n",
       "      <td>2</td>\n",
       "      <td>46.0</td>\n",
       "      <td>ultra</td>\n",
       "      <td>6</td>\n",
       "      <td>0</td>\n",
       "      <td>199</td>\n",
       "    </tr>\n",
       "    <tr>\n",
       "      <th>36</th>\n",
       "      <td>1</td>\n",
       "      <td>10</td>\n",
       "      <td>5809.911100</td>\n",
       "      <td>2</td>\n",
       "      <td>32.0</td>\n",
       "      <td>ultra</td>\n",
       "      <td>6</td>\n",
       "      <td>0</td>\n",
       "      <td>199</td>\n",
       "    </tr>\n",
       "    <tr>\n",
       "      <th>48</th>\n",
       "      <td>1</td>\n",
       "      <td>11</td>\n",
       "      <td>7003.499363</td>\n",
       "      <td>3</td>\n",
       "      <td>56.0</td>\n",
       "      <td>ultra</td>\n",
       "      <td>6</td>\n",
       "      <td>0</td>\n",
       "      <td>199</td>\n",
       "    </tr>\n",
       "  </tbody>\n",
       "</table>\n",
       "</div>"
      ],
      "text/plain": [
       "    user_id  month  total_distance  total_rides  total_duration  \\\n",
       "0         1      1     7027.511294            2            42.0   \n",
       "12        1      4      754.159807            1             7.0   \n",
       "24        1      8     6723.470560            2            46.0   \n",
       "36        1     10     5809.911100            2            32.0   \n",
       "48        1     11     7003.499363            3            56.0   \n",
       "\n",
       "   subscription_type  minute_price  start_ride_price  subscription_fee  \n",
       "0              ultra             6                 0               199  \n",
       "12             ultra             6                 0               199  \n",
       "24             ultra             6                 0               199  \n",
       "36             ultra             6                 0               199  \n",
       "48             ultra             6                 0               199  "
      ]
     },
     "execution_count": 43,
     "metadata": {},
     "output_type": "execute_result"
    }
   ],
   "source": [
    "monthly_data = pd.merge(monthly_data, merged_data[['user_id', 'subscription_type', 'minute_price', \\\n",
    "                                                   'start_ride_price', 'subscription_fee']]).drop_duplicates()\n",
    "monthly_data.head()"
   ]
  },
  {
   "cell_type": "markdown",
   "id": "e4f11af9",
   "metadata": {},
   "source": [
    "Посчитаем выручку по формуле:\n",
    "\n",
    "Выручка = Стоимость старта поездки × Количество поездок + Стоимость минуты поездки × Общая продолжительность + Стоимость подписки"
   ]
  },
  {
   "cell_type": "code",
   "execution_count": 44,
   "id": "ec1cba7f",
   "metadata": {},
   "outputs": [
    {
     "data": {
      "text/html": [
       "<div>\n",
       "<style scoped>\n",
       "    .dataframe tbody tr th:only-of-type {\n",
       "        vertical-align: middle;\n",
       "    }\n",
       "\n",
       "    .dataframe tbody tr th {\n",
       "        vertical-align: top;\n",
       "    }\n",
       "\n",
       "    .dataframe thead th {\n",
       "        text-align: right;\n",
       "    }\n",
       "</style>\n",
       "<table border=\"1\" class=\"dataframe\">\n",
       "  <thead>\n",
       "    <tr style=\"text-align: right;\">\n",
       "      <th></th>\n",
       "      <th>user_id</th>\n",
       "      <th>month</th>\n",
       "      <th>total_distance</th>\n",
       "      <th>total_rides</th>\n",
       "      <th>total_duration</th>\n",
       "      <th>subscription_type</th>\n",
       "      <th>minute_price</th>\n",
       "      <th>start_ride_price</th>\n",
       "      <th>subscription_fee</th>\n",
       "      <th>monthly_revenue</th>\n",
       "    </tr>\n",
       "  </thead>\n",
       "  <tbody>\n",
       "    <tr>\n",
       "      <th>0</th>\n",
       "      <td>1</td>\n",
       "      <td>1</td>\n",
       "      <td>7027.511294</td>\n",
       "      <td>2</td>\n",
       "      <td>42.0</td>\n",
       "      <td>ultra</td>\n",
       "      <td>6</td>\n",
       "      <td>0</td>\n",
       "      <td>199</td>\n",
       "      <td>451.0</td>\n",
       "    </tr>\n",
       "    <tr>\n",
       "      <th>12</th>\n",
       "      <td>1</td>\n",
       "      <td>4</td>\n",
       "      <td>754.159807</td>\n",
       "      <td>1</td>\n",
       "      <td>7.0</td>\n",
       "      <td>ultra</td>\n",
       "      <td>6</td>\n",
       "      <td>0</td>\n",
       "      <td>199</td>\n",
       "      <td>241.0</td>\n",
       "    </tr>\n",
       "    <tr>\n",
       "      <th>24</th>\n",
       "      <td>1</td>\n",
       "      <td>8</td>\n",
       "      <td>6723.470560</td>\n",
       "      <td>2</td>\n",
       "      <td>46.0</td>\n",
       "      <td>ultra</td>\n",
       "      <td>6</td>\n",
       "      <td>0</td>\n",
       "      <td>199</td>\n",
       "      <td>475.0</td>\n",
       "    </tr>\n",
       "    <tr>\n",
       "      <th>36</th>\n",
       "      <td>1</td>\n",
       "      <td>10</td>\n",
       "      <td>5809.911100</td>\n",
       "      <td>2</td>\n",
       "      <td>32.0</td>\n",
       "      <td>ultra</td>\n",
       "      <td>6</td>\n",
       "      <td>0</td>\n",
       "      <td>199</td>\n",
       "      <td>391.0</td>\n",
       "    </tr>\n",
       "    <tr>\n",
       "      <th>48</th>\n",
       "      <td>1</td>\n",
       "      <td>11</td>\n",
       "      <td>7003.499363</td>\n",
       "      <td>3</td>\n",
       "      <td>56.0</td>\n",
       "      <td>ultra</td>\n",
       "      <td>6</td>\n",
       "      <td>0</td>\n",
       "      <td>199</td>\n",
       "      <td>535.0</td>\n",
       "    </tr>\n",
       "  </tbody>\n",
       "</table>\n",
       "</div>"
      ],
      "text/plain": [
       "    user_id  month  total_distance  total_rides  total_duration  \\\n",
       "0         1      1     7027.511294            2            42.0   \n",
       "12        1      4      754.159807            1             7.0   \n",
       "24        1      8     6723.470560            2            46.0   \n",
       "36        1     10     5809.911100            2            32.0   \n",
       "48        1     11     7003.499363            3            56.0   \n",
       "\n",
       "   subscription_type  minute_price  start_ride_price  subscription_fee  \\\n",
       "0              ultra             6                 0               199   \n",
       "12             ultra             6                 0               199   \n",
       "24             ultra             6                 0               199   \n",
       "36             ultra             6                 0               199   \n",
       "48             ultra             6                 0               199   \n",
       "\n",
       "    monthly_revenue  \n",
       "0             451.0  \n",
       "12            241.0  \n",
       "24            475.0  \n",
       "36            391.0  \n",
       "48            535.0  "
      ]
     },
     "execution_count": 44,
     "metadata": {},
     "output_type": "execute_result"
    }
   ],
   "source": [
    "monthly_data['monthly_revenue'] = (\n",
    "    monthly_data['start_ride_price'] * monthly_data['total_rides'] +\n",
    "    monthly_data['minute_price'] * monthly_data['total_duration'] +\n",
    "    monthly_data['subscription_fee']\n",
    ")\n",
    "monthly_data.head()"
   ]
  },
  {
   "cell_type": "code",
   "execution_count": 45,
   "id": "f45329d5",
   "metadata": {},
   "outputs": [
    {
     "data": {
      "text/plain": [
       "3878641.0"
      ]
     },
     "execution_count": 45,
     "metadata": {},
     "output_type": "execute_result"
    }
   ],
   "source": [
    "monthly_data['monthly_revenue'].sum()"
   ]
  },
  {
   "cell_type": "markdown",
   "id": "098094dc",
   "metadata": {},
   "source": [
    "Посчитаем какую выручку принесли пользователи с подпиской и пользователи без подписки"
   ]
  },
  {
   "cell_type": "code",
   "execution_count": 46,
   "id": "ef761f87",
   "metadata": {},
   "outputs": [
    {
     "name": "stdout",
     "output_type": "stream",
     "text": [
      "Пользователи с подпиской принесли 1644537.0\n",
      "Что составляет 42.4 процента от всей выручки\n",
      "\n",
      "Пользователи бее подписки принесли 2234104.0\n",
      "Что составляет 57.6 процента от всей выручки\n"
     ]
    }
   ],
   "source": [
    "print(f\"Пользователи с подпиской принесли {monthly_data[monthly_data['subscription_type'] == 'ultra']['monthly_revenue'].sum()}\")\n",
    "percentage_ultra_revenue = (monthly_data[monthly_data['subscription_type'] == 'ultra']['monthly_revenue'].sum() * 100 /\n",
    "                            monthly_data['monthly_revenue'].sum())\n",
    "print(f\"Что составляет {round(percentage_ultra_revenue, 1)} процента от всей выручки\")\n",
    "percentage_free_revenue = (monthly_data[monthly_data['subscription_type'] != 'ultra']['monthly_revenue'].sum() * 100 /\n",
    "                            monthly_data['monthly_revenue'].sum())\n",
    "print(f\"\\nПользователи бее подписки принесли {monthly_data[monthly_data['subscription_type'] != 'ultra']['monthly_revenue'].sum()}\")\n",
    "print(f\"Что составляет {round(percentage_free_revenue, 1)} процента от всей выручки\")"
   ]
  },
  {
   "cell_type": "markdown",
   "id": "41545ac0",
   "metadata": {},
   "source": [
    "#### Шаг 6. Проверка гипотез"
   ]
  },
  {
   "cell_type": "markdown",
   "id": "c346acc8",
   "metadata": {},
   "source": [
    "#####  Важно понять, тратят ли пользователи с подпиской больше времени на поездки? Если да, то пользователи с подпиской могут быть «выгоднее» для компании"
   ]
  },
  {
   "cell_type": "markdown",
   "id": "2fd4ba8d",
   "metadata": {},
   "source": [
    "**Гипотеза:** \n",
    "\n",
    "* H<sub>0</sub>\n",
    "Среднее время поездок пользователей с подпиской такое же, как и у среднее время поездок пользователей без подписки\n",
    "\n",
    "* H<sub>1</sub>\n",
    "Среднее время поездок пользователей с подпиской больше, чем среднее время поездок пользователей без подписки"
   ]
  },
  {
   "cell_type": "markdown",
   "id": "06978fcb",
   "metadata": {},
   "source": [
    "Чтобы проверить эту гипотезу, сравним среднюю продолжительность поездок для пользователей с подпиской и без подписки \n",
    "\n",
    "Используем двусторонний t-тест для независимых выборок, так как мы сравниваем две группы"
   ]
  },
  {
   "cell_type": "code",
   "execution_count": 47,
   "id": "52698822",
   "metadata": {},
   "outputs": [
    {
     "name": "stdout",
     "output_type": "stream",
     "text": [
      "p-value: 1.2804098316645618e-34\n",
      "Есть статистически значимое различие в продолжительности поездок между пользователями с подпиской и без\n"
     ]
    }
   ],
   "source": [
    "alpha = 0.05 # уровень статистической значимости\n",
    "results = st.ttest_ind(users_with_sub['duration'], users_without_sub['duration'], alternative='greater')\n",
    "print(f'p-value: {results.pvalue}')\n",
    "if results.pvalue < alpha:\n",
    "    print(\"Есть статистически значимое различие в продолжительности поездок между пользователями с подпиской и без\")\n",
    "else:\n",
    "    print(\"Нет статистически значимого различия в продолжительности поездок между пользователями с подпиской и без\")"
   ]
  },
  {
   "cell_type": "markdown",
   "id": "3fc461ce",
   "metadata": {},
   "source": [
    "Полученное значение p-value меньше заданного уровня значимости, поэтому можно отвергнуть нулевую гипотезу\n",
    "\n",
    "Есть основания говорить, что пользователи с подпиской тратят больше времени на поездки\n",
    "\n",
    "Это может быть выгодно для бизнеса, так как пользователи с подпиской могут генерировать больше доходов от использования сервиса, а так же подписчики, вероятно, более лояльны к сервису, что может привести к снижению оттока клиентов"
   ]
  },
  {
   "cell_type": "markdown",
   "id": "d2db4dd3",
   "metadata": {},
   "source": [
    "##### Расстояние одной поездки в 3130 метров — оптимальное с точки зрения износа самоката. Можно ли сказать, что среднее расстояние, которое проезжают пользователи с подпиской за одну поездку, не превышает 3130 метров?"
   ]
  },
  {
   "cell_type": "markdown",
   "id": "9898747e",
   "metadata": {},
   "source": [
    "**Гипотеза:** \n",
    "\n",
    "* H<sub>0</sub>\n",
    "Cреднее расстояние пользователей с подпиской за одну поездку равно 3130 метров\n",
    "\n",
    "* H<sub>1</sub>\n",
    "Cреднее расстояние пользователей с подпиской за одну поездку больше 3130 метров"
   ]
  },
  {
   "cell_type": "markdown",
   "id": "4603a18f",
   "metadata": {},
   "source": [
    "Здесь нужно проверить гипотезу о том, что среднее расстояние поездок пользователей с подпиской меньше или равно 3130 метров\n",
    "\n",
    "Для этого используем односторонний t-тест для одной выборки"
   ]
  },
  {
   "cell_type": "code",
   "execution_count": 48,
   "id": "e35cc3f7",
   "metadata": {
    "scrolled": true
   },
   "outputs": [
    {
     "name": "stdout",
     "output_type": "stream",
     "text": [
      "p-значение: 0.9195368847849785\n",
      "Нет оснований полагать, что среднее расстояние пользователей с подпиской больше 3130 метров\n"
     ]
    }
   ],
   "source": [
    "alpha = 0.05 # уровень статистической значимости\n",
    "mean_distance = 3130\n",
    "results = st.ttest_1samp(\n",
    "    users_with_sub['distance'], \n",
    "    mean_distance,\n",
    "      alternative='greater')\n",
    "print('p-значение:', results.pvalue)\n",
    "if results.pvalue < alpha:\n",
    "    print(\"Среднее расстояние пользователей с подпиской 3130 метров\")\n",
    "else:\n",
    "    print(\"Нет оснований полагать, что среднее расстояние пользователей с подпиской больше 3130 метров\")"
   ]
  },
  {
   "cell_type": "markdown",
   "id": "53afff60",
   "metadata": {},
   "source": [
    "Значит, действительно, пользователи с подпиской проезжают расстояние не больше оптимального"
   ]
  },
  {
   "cell_type": "markdown",
   "id": "c08cb7c6",
   "metadata": {},
   "source": [
    "##### Помесячная выручка от пользователей с подпиской выше, чем от пользователей без подписки"
   ]
  },
  {
   "cell_type": "markdown",
   "id": "29d69126",
   "metadata": {},
   "source": [
    "**Гипотеза:** \n",
    "\n",
    "* H<sub>0</sub>\n",
    "Средняя помесячная выручка от пользователей с подпиской такая же, как и у пользователей без подписки\n",
    "\n",
    "* H<sub>1</sub>\n",
    "СРедняя помесячная выручка от пользователей с подпиской выше, чем от пользователей без подписки"
   ]
  },
  {
   "cell_type": "markdown",
   "id": "3b015f81",
   "metadata": {},
   "source": [
    "Здесь мы хотим сравнить помесячную выручку пользователей с подпиской и без\n",
    "\n",
    "Поскольку мы сравниваем две группы, можно использовать двусторонний t-тест для независимых выборок"
   ]
  },
  {
   "cell_type": "markdown",
   "id": "9edd1e42",
   "metadata": {},
   "source": [
    "Посчитаем, какую выручку принесли пользователи с подпиской и без подписки кадый месяц"
   ]
  },
  {
   "cell_type": "code",
   "execution_count": 49,
   "id": "148b7654",
   "metadata": {},
   "outputs": [
    {
     "data": {
      "text/html": [
       "<div>\n",
       "<style scoped>\n",
       "    .dataframe tbody tr th:only-of-type {\n",
       "        vertical-align: middle;\n",
       "    }\n",
       "\n",
       "    .dataframe tbody tr th {\n",
       "        vertical-align: top;\n",
       "    }\n",
       "\n",
       "    .dataframe thead th {\n",
       "        text-align: right;\n",
       "    }\n",
       "</style>\n",
       "<table border=\"1\" class=\"dataframe\">\n",
       "  <thead>\n",
       "    <tr style=\"text-align: right;\">\n",
       "      <th>subscription_type</th>\n",
       "      <th>month</th>\n",
       "      <th>free</th>\n",
       "      <th>ultra</th>\n",
       "    </tr>\n",
       "  </thead>\n",
       "  <tbody>\n",
       "    <tr>\n",
       "      <th>0</th>\n",
       "      <td>1</td>\n",
       "      <td>323.083333</td>\n",
       "      <td>369.507692</td>\n",
       "    </tr>\n",
       "    <tr>\n",
       "      <th>1</th>\n",
       "      <td>2</td>\n",
       "      <td>313.527410</td>\n",
       "      <td>351.898305</td>\n",
       "    </tr>\n",
       "    <tr>\n",
       "      <th>2</th>\n",
       "      <td>3</td>\n",
       "      <td>336.715827</td>\n",
       "      <td>360.121212</td>\n",
       "    </tr>\n",
       "    <tr>\n",
       "      <th>3</th>\n",
       "      <td>4</td>\n",
       "      <td>335.620253</td>\n",
       "      <td>367.160428</td>\n",
       "    </tr>\n",
       "    <tr>\n",
       "      <th>4</th>\n",
       "      <td>5</td>\n",
       "      <td>328.150087</td>\n",
       "      <td>368.481481</td>\n",
       "    </tr>\n",
       "    <tr>\n",
       "      <th>5</th>\n",
       "      <td>6</td>\n",
       "      <td>326.220713</td>\n",
       "      <td>361.391960</td>\n",
       "    </tr>\n",
       "    <tr>\n",
       "      <th>6</th>\n",
       "      <td>7</td>\n",
       "      <td>329.249110</td>\n",
       "      <td>367.861538</td>\n",
       "    </tr>\n",
       "    <tr>\n",
       "      <th>7</th>\n",
       "      <td>8</td>\n",
       "      <td>331.178761</td>\n",
       "      <td>360.765625</td>\n",
       "    </tr>\n",
       "    <tr>\n",
       "      <th>8</th>\n",
       "      <td>9</td>\n",
       "      <td>335.701906</td>\n",
       "      <td>364.329577</td>\n",
       "    </tr>\n",
       "    <tr>\n",
       "      <th>9</th>\n",
       "      <td>10</td>\n",
       "      <td>330.469945</td>\n",
       "      <td>360.032258</td>\n",
       "    </tr>\n",
       "    <tr>\n",
       "      <th>10</th>\n",
       "      <td>11</td>\n",
       "      <td>322.659459</td>\n",
       "      <td>357.474576</td>\n",
       "    </tr>\n",
       "    <tr>\n",
       "      <th>11</th>\n",
       "      <td>12</td>\n",
       "      <td>330.600000</td>\n",
       "      <td>363.011080</td>\n",
       "    </tr>\n",
       "  </tbody>\n",
       "</table>\n",
       "</div>"
      ],
      "text/plain": [
       "subscription_type  month        free       ultra\n",
       "0                      1  323.083333  369.507692\n",
       "1                      2  313.527410  351.898305\n",
       "2                      3  336.715827  360.121212\n",
       "3                      4  335.620253  367.160428\n",
       "4                      5  328.150087  368.481481\n",
       "5                      6  326.220713  361.391960\n",
       "6                      7  329.249110  367.861538\n",
       "7                      8  331.178761  360.765625\n",
       "8                      9  335.701906  364.329577\n",
       "9                     10  330.469945  360.032258\n",
       "10                    11  322.659459  357.474576\n",
       "11                    12  330.600000  363.011080"
      ]
     },
     "execution_count": 49,
     "metadata": {},
     "output_type": "execute_result"
    }
   ],
   "source": [
    "monthly_revenue = monthly_data.pivot_table(\n",
    "    values='monthly_revenue',\n",
    "    index='month',\n",
    "    columns='subscription_type',\n",
    "    aggfunc='mean',\n",
    "    fill_value=0\n",
    ").reset_index()\n",
    "monthly_revenue"
   ]
  },
  {
   "cell_type": "code",
   "execution_count": 50,
   "id": "0399153b",
   "metadata": {},
   "outputs": [
    {
     "name": "stdout",
     "output_type": "stream",
     "text": [
      "Средняя выручка, которую приносит пользователь без подписки: 328.5980672488633\n",
      "Средняя выручка, которую приносит пользователь с подпиской: 362.6696445163377\n"
     ]
    }
   ],
   "source": [
    "free_mean = monthly_revenue['free'].mean()\n",
    "ultra_mean = monthly_revenue['ultra'].mean()\n",
    "print(f\"Средняя выручка, которую приносит пользователь без подписки: {free_mean}\")\n",
    "print(f\"Средняя выручка, которую приносит пользователь с подпиской: {ultra_mean}\")"
   ]
  },
  {
   "cell_type": "code",
   "execution_count": 51,
   "id": "e31bedb8",
   "metadata": {},
   "outputs": [
    {
     "name": "stdout",
     "output_type": "stream",
     "text": [
      "p-value: 1.8850394384715216e-31\n",
      "Отвергаем нулевую гипотезу\n"
     ]
    }
   ],
   "source": [
    "alpha = 0.05\n",
    "ultra_revenue = monthly_data[monthly_data['subscription_type'] == 'ultra']\n",
    "free_revenue = monthly_data[monthly_data['subscription_type'] != 'ultra']\n",
    "results = st.ttest_ind(ultra_revenue['monthly_revenue'], free_revenue['monthly_revenue'], alternative='greater')\n",
    "print(f'p-value: {results.pvalue}')\n",
    "\n",
    "if results.pvalue < alpha:\n",
    "    print(\"Отвергаем нулевую гипотезу\")\n",
    "else:\n",
    "    print(\"Не отвергаем нулевую гипотезу \")\n"
   ]
  },
  {
   "cell_type": "markdown",
   "id": "6ef24eab",
   "metadata": {},
   "source": [
    "Значит, действительно, есть основания полагать, что пользователи с подпиской приносят больше выручки ежемесячно"
   ]
  },
  {
   "cell_type": "markdown",
   "id": "d3b1009b",
   "metadata": {},
   "source": [
    "##### Техническая команда сервиса обновила сервера, с которыми взаимодействует мобильное приложение. Она надеется, что из-за этого количество обращений в техподдержку значимо снизилось. Некоторый файл содержит для каждого пользователя данные о количестве обращений до обновления и после него."
   ]
  },
  {
   "cell_type": "markdown",
   "id": "981d844e",
   "metadata": {},
   "source": [
    "В данном случае мы сравниваем связанные выборки — количество обращений до и после обновления для одного и того же пользователя\n",
    "\n",
    "Для этого используется t-тест для зависимых (парных) выборок "
   ]
  },
  {
   "cell_type": "markdown",
   "id": "677d7881",
   "metadata": {},
   "source": [
    "**Гипотеза:** \n",
    "\n",
    "* H<sub>0</sub>\n",
    "Количество обращений в техподдержку до обновления серверов равно количеству обращений после обновления серверов\n",
    "\n",
    "* H<sub>1</sub>\n",
    "Количество обращений в техподдержку после обновления серверов меньше, чем до обновления серверов\n"
   ]
  },
  {
   "cell_type": "code",
   "execution_count": 52,
   "id": "a907188d",
   "metadata": {},
   "outputs": [],
   "source": [
    "#предположим, есть столбцы 'before_calls' и 'after_calls'\n",
    "# support_data = pd.read_csv('/datasets/support_calls.csv')\n",
    "\n",
    "# Применяем парный t-тест для проверки изменения\n",
    "# results = st.ttest_rel(support_data['before_calls'], support_data['after_calls'], alternative='greater')\n",
    "\n",
    "# Выводим результат\n",
    "# print(f'p-value: {results.pvalue}')\n",
    "\n",
    "#if p_value < alpha:\n",
    "    #print(\"Отвергаем нулевую гипотезу о равенстве количества обращений\")\n",
    "#else:\n",
    "    #print(\"Не получилось отвергнуть нулевую гипотезу о равенстве равенстве количества обращений\")\n",
    "    \n",
    "# Если p_value < alpha, то мы отвергаем нулевую гипотезу о равенстве количества обращений, и значит есть основания полагать, что\n",
    "# количество обращений в техподдержку после обновления серверов меньше, чем до обновления серверов"
   ]
  },
  {
   "cell_type": "markdown",
   "id": "57913707",
   "metadata": {},
   "source": [
    "<div style>\n",
    "<font size=\"4\"><b></b></font>\n",
    "<font size=\"5\", color = \"black\">\n",
    "🤝"
   ]
  },
  {
   "cell_type": "markdown",
   "id": "bc6b1bfb",
   "metadata": {},
   "source": [
    "#### Вывод"
   ]
  },
  {
   "cell_type": "markdown",
   "id": "296cc782",
   "metadata": {},
   "source": [
    "В результате анализа были сделаны следующие выводы:\n",
    "\n",
    "+ Самым популярным городом среди пользователей сервиса оказался Пятигорск\n",
    "\n",
    "+ Большинство пользователей не используют подписку сервиса, что может указывать на потенциал для увеличения числа платных подписок, а значит и увеличения выручки\n",
    "\n",
    "+ Средний возраст пользователей сервиса составляет 25 лет, с диапазоном от 12 до 43 лет\n",
    "\n",
    "+ Есть основания полагать, что пользователи с подпиской тратят больше времени на поездки, что может указывать на возможность развития данного направления сервиса\n",
    "\n",
    "+ Среднее расстояние поездки для пользователей с подпиской оказалось не больше оптимальным с точки зрения износа самоката\n",
    "\n",
    "+ Есть основания полагать, что пользователи с подпиской приносят больше выручки ежемесячно, что может помочь бизнесу получать больше выгоды\n",
    "\n",
    "+ Общая выручка составила 3878641.0\n",
    "\n",
    "+ Пользователи с подпиской принесли 1644537.0, что составляет 42.4 процента от всей выручки, а пользователи бее подписки принесли 2234104.0, что составляет 57.6 процента от всей выручки\n",
    "\n",
    "+ Средняя выручка, которую приносит пользователь без подписки в месяц: 328.6, а средняя выручка, которую приносит пользователь с подпиской в месяц: 362.7"
   ]
  },
  {
   "cell_type": "markdown",
   "id": "30fe1cff",
   "metadata": {},
   "source": [
    "#### Рекомендация"
   ]
  },
  {
   "cell_type": "markdown",
   "id": "d0c96ad4",
   "metadata": {},
   "source": [
    "+ Данные показали, что пользователи с подпиской являются более «выгодными» для компании. Рекомендуется усилить продвижение подписки Ultra через маркетинговые кампании с акцентом на то, что подписчики получают более выгодные условия поездок\n",
    "\n",
    "\n",
    "+ Данные показали, что помесячная выручка от пользователей с подпиской выше, чем от тех, кто пользуется сервисом без подписки. Это указывает на важность развития базы подписчиков. Следует запускать регулярные акции, такие как скидки на первую подписку или дополнительные бонусы при покупке подписки на несколько месяцев\n",
    "\n",
    "\n",
    "+ Обновление серверов может снизить количество обращений в техническую поддержку, что повысит удовлетворенность пользователей. Рекомендуется проводить регулярные технические улучшения и следить за качеством работы мобильного приложения\n",
    "\n",
    "\n",
    "+ Данные показали, что пользователи неравномерно распределены по городам, рекомендуется изменить маркетинговые стратегии или условия обслуживания в городах с меньшим количеством пользователей"
   ]
  },
  {
   "cell_type": "code",
   "execution_count": null,
   "id": "95cd1d51",
   "metadata": {},
   "outputs": [],
   "source": []
  }
 ],
 "metadata": {
  "ExecuteTimeLog": [
   {
    "duration": 54,
    "start_time": "2024-09-21T23:54:02.740Z"
   },
   {
    "duration": 448,
    "start_time": "2024-09-21T23:54:09.993Z"
   },
   {
    "duration": 84,
    "start_time": "2024-09-21T23:54:10.443Z"
   },
   {
    "duration": 33,
    "start_time": "2024-09-21T23:54:16.169Z"
   },
   {
    "duration": 11,
    "start_time": "2024-09-21T23:58:59.356Z"
   },
   {
    "duration": 174,
    "start_time": "2024-09-21T23:59:30.078Z"
   },
   {
    "duration": 12,
    "start_time": "2024-09-21T23:59:42.604Z"
   },
   {
    "duration": 82,
    "start_time": "2024-09-21T23:59:56.206Z"
   },
   {
    "duration": 10,
    "start_time": "2024-09-22T00:00:06.681Z"
   },
   {
    "duration": 8,
    "start_time": "2024-09-22T00:19:08.145Z"
   },
   {
    "duration": 6,
    "start_time": "2024-09-22T00:19:21.373Z"
   },
   {
    "duration": 9,
    "start_time": "2024-09-22T00:24:11.879Z"
   },
   {
    "duration": 10,
    "start_time": "2024-09-22T00:24:47.014Z"
   },
   {
    "duration": 10,
    "start_time": "2024-09-22T00:25:16.328Z"
   },
   {
    "duration": 13,
    "start_time": "2024-09-22T00:26:56.399Z"
   },
   {
    "duration": 5,
    "start_time": "2024-09-22T00:28:38.584Z"
   },
   {
    "duration": 448,
    "start_time": "2024-09-22T00:33:50.874Z"
   },
   {
    "duration": 694,
    "start_time": "2024-09-22T00:33:55.611Z"
   },
   {
    "duration": 37,
    "start_time": "2024-09-22T00:33:56.307Z"
   },
   {
    "duration": 12,
    "start_time": "2024-09-22T00:33:56.346Z"
   },
   {
    "duration": 41,
    "start_time": "2024-09-22T00:33:56.360Z"
   },
   {
    "duration": 11,
    "start_time": "2024-09-22T00:33:56.402Z"
   },
   {
    "duration": 21,
    "start_time": "2024-09-22T00:33:56.414Z"
   },
   {
    "duration": 11,
    "start_time": "2024-09-22T00:33:56.436Z"
   },
   {
    "duration": 10,
    "start_time": "2024-09-22T00:33:56.448Z"
   },
   {
    "duration": 11,
    "start_time": "2024-09-22T00:33:56.459Z"
   },
   {
    "duration": 10,
    "start_time": "2024-09-22T00:33:56.472Z"
   },
   {
    "duration": 31,
    "start_time": "2024-09-22T00:33:56.483Z"
   },
   {
    "duration": 4,
    "start_time": "2024-09-22T00:33:56.516Z"
   },
   {
    "duration": 4,
    "start_time": "2024-09-22T00:35:25.755Z"
   },
   {
    "duration": 142,
    "start_time": "2024-09-22T00:38:10.585Z"
   },
   {
    "duration": 146,
    "start_time": "2024-09-22T00:38:39.830Z"
   },
   {
    "duration": 157,
    "start_time": "2024-09-22T00:38:49.666Z"
   },
   {
    "duration": 4,
    "start_time": "2024-09-22T00:39:54.323Z"
   },
   {
    "duration": 175,
    "start_time": "2024-09-22T00:39:55.190Z"
   },
   {
    "duration": 244,
    "start_time": "2024-09-22T00:42:23.121Z"
   },
   {
    "duration": 4,
    "start_time": "2024-09-22T00:44:07.139Z"
   },
   {
    "duration": 4,
    "start_time": "2024-09-22T00:47:33.380Z"
   },
   {
    "duration": 4,
    "start_time": "2024-09-22T00:47:41.161Z"
   },
   {
    "duration": 90,
    "start_time": "2024-09-22T00:48:13.998Z"
   },
   {
    "duration": 87,
    "start_time": "2024-09-22T00:48:43.450Z"
   },
   {
    "duration": 6,
    "start_time": "2024-09-22T00:54:06.504Z"
   },
   {
    "duration": 99,
    "start_time": "2024-09-22T00:59:06.161Z"
   },
   {
    "duration": 275,
    "start_time": "2024-09-22T01:02:35.304Z"
   },
   {
    "duration": 309,
    "start_time": "2024-09-22T01:02:50.093Z"
   },
   {
    "duration": 308,
    "start_time": "2024-09-22T01:03:11.386Z"
   },
   {
    "duration": 677,
    "start_time": "2024-09-22T01:03:19.717Z"
   },
   {
    "duration": 44,
    "start_time": "2024-09-22T01:03:20.396Z"
   },
   {
    "duration": 12,
    "start_time": "2024-09-22T01:03:20.442Z"
   },
   {
    "duration": 43,
    "start_time": "2024-09-22T01:03:20.457Z"
   },
   {
    "duration": 12,
    "start_time": "2024-09-22T01:03:20.502Z"
   },
   {
    "duration": 53,
    "start_time": "2024-09-22T01:03:20.516Z"
   },
   {
    "duration": 10,
    "start_time": "2024-09-22T01:03:20.570Z"
   },
   {
    "duration": 25,
    "start_time": "2024-09-22T01:03:20.582Z"
   },
   {
    "duration": 10,
    "start_time": "2024-09-22T01:03:20.608Z"
   },
   {
    "duration": 24,
    "start_time": "2024-09-22T01:03:20.620Z"
   },
   {
    "duration": 21,
    "start_time": "2024-09-22T01:03:20.646Z"
   },
   {
    "duration": 5,
    "start_time": "2024-09-22T01:03:20.669Z"
   },
   {
    "duration": 9,
    "start_time": "2024-09-22T01:03:20.675Z"
   },
   {
    "duration": 212,
    "start_time": "2024-09-22T01:03:20.685Z"
   },
   {
    "duration": 7,
    "start_time": "2024-09-22T01:03:20.899Z"
   },
   {
    "duration": 130,
    "start_time": "2024-09-22T01:03:20.907Z"
   },
   {
    "duration": 327,
    "start_time": "2024-09-22T01:03:21.039Z"
   },
   {
    "duration": 289,
    "start_time": "2024-09-22T01:03:33.745Z"
   },
   {
    "duration": 240,
    "start_time": "2024-09-22T01:03:48.314Z"
   },
   {
    "duration": 208,
    "start_time": "2024-09-22T01:03:51.577Z"
   },
   {
    "duration": 200,
    "start_time": "2024-09-22T01:04:45.415Z"
   },
   {
    "duration": 10,
    "start_time": "2024-09-22T01:05:42.322Z"
   },
   {
    "duration": 5,
    "start_time": "2024-09-22T01:17:51.461Z"
   },
   {
    "duration": 122,
    "start_time": "2024-09-22T01:18:33.093Z"
   },
   {
    "duration": 6,
    "start_time": "2024-09-22T01:18:41.137Z"
   },
   {
    "duration": 4,
    "start_time": "2024-09-22T01:25:12.280Z"
   },
   {
    "duration": 212,
    "start_time": "2024-09-22T01:27:22.025Z"
   },
   {
    "duration": 10,
    "start_time": "2024-09-22T01:40:58.262Z"
   },
   {
    "duration": 208,
    "start_time": "2024-09-22T01:56:24.872Z"
   },
   {
    "duration": 214,
    "start_time": "2024-09-22T01:56:58.425Z"
   },
   {
    "duration": 9,
    "start_time": "2024-09-22T01:58:51.438Z"
   },
   {
    "duration": 27,
    "start_time": "2024-09-22T02:06:18.986Z"
   },
   {
    "duration": 46,
    "start_time": "2024-09-22T11:18:53.640Z"
   },
   {
    "duration": 793,
    "start_time": "2024-09-22T11:19:05.681Z"
   },
   {
    "duration": 115,
    "start_time": "2024-09-22T11:19:06.476Z"
   },
   {
    "duration": 12,
    "start_time": "2024-09-22T11:19:06.592Z"
   },
   {
    "duration": 211,
    "start_time": "2024-09-22T11:19:06.606Z"
   },
   {
    "duration": 11,
    "start_time": "2024-09-22T11:19:06.818Z"
   },
   {
    "duration": 119,
    "start_time": "2024-09-22T11:19:06.830Z"
   },
   {
    "duration": 10,
    "start_time": "2024-09-22T11:19:06.950Z"
   },
   {
    "duration": 8,
    "start_time": "2024-09-22T11:19:06.962Z"
   },
   {
    "duration": 5,
    "start_time": "2024-09-22T11:19:06.971Z"
   },
   {
    "duration": 9,
    "start_time": "2024-09-22T11:19:06.978Z"
   },
   {
    "duration": 12,
    "start_time": "2024-09-22T11:19:06.989Z"
   },
   {
    "duration": 4,
    "start_time": "2024-09-22T11:19:07.002Z"
   },
   {
    "duration": 13,
    "start_time": "2024-09-22T11:19:07.008Z"
   },
   {
    "duration": 204,
    "start_time": "2024-09-22T11:19:07.022Z"
   },
   {
    "duration": 6,
    "start_time": "2024-09-22T11:19:07.228Z"
   },
   {
    "duration": 100,
    "start_time": "2024-09-22T11:19:07.235Z"
   },
   {
    "duration": 196,
    "start_time": "2024-09-22T11:19:07.337Z"
   },
   {
    "duration": 8,
    "start_time": "2024-09-22T11:19:07.535Z"
   },
   {
    "duration": 5,
    "start_time": "2024-09-22T11:19:07.552Z"
   },
   {
    "duration": 215,
    "start_time": "2024-09-22T11:19:07.558Z"
   },
   {
    "duration": 8,
    "start_time": "2024-09-22T11:19:07.774Z"
   },
   {
    "duration": 270,
    "start_time": "2024-09-22T11:19:07.784Z"
   },
   {
    "duration": 8,
    "start_time": "2024-09-22T11:19:08.055Z"
   },
   {
    "duration": 47,
    "start_time": "2024-09-22T11:19:08.064Z"
   },
   {
    "duration": 9,
    "start_time": "2024-09-22T11:19:08.112Z"
   },
   {
    "duration": 23,
    "start_time": "2024-09-22T11:19:08.122Z"
   },
   {
    "duration": 12,
    "start_time": "2024-09-22T11:24:39.301Z"
   },
   {
    "duration": 8,
    "start_time": "2024-09-22T11:26:14.632Z"
   },
   {
    "duration": 10,
    "start_time": "2024-09-22T11:26:15.030Z"
   },
   {
    "duration": 12,
    "start_time": "2024-09-22T11:26:15.439Z"
   },
   {
    "duration": 9,
    "start_time": "2024-09-22T11:26:59.975Z"
   },
   {
    "duration": 16,
    "start_time": "2024-09-22T11:27:08.959Z"
   },
   {
    "duration": 19,
    "start_time": "2024-09-22T11:27:48.710Z"
   },
   {
    "duration": 19,
    "start_time": "2024-09-22T11:27:58.773Z"
   },
   {
    "duration": 15,
    "start_time": "2024-09-22T11:28:51.783Z"
   },
   {
    "duration": 15,
    "start_time": "2024-09-22T11:28:56.148Z"
   },
   {
    "duration": 191,
    "start_time": "2024-09-22T11:52:56.393Z"
   },
   {
    "duration": 160,
    "start_time": "2024-09-22T11:53:16.617Z"
   },
   {
    "duration": 187,
    "start_time": "2024-09-22T11:53:39.597Z"
   },
   {
    "duration": 201,
    "start_time": "2024-09-22T11:54:26.762Z"
   },
   {
    "duration": 621,
    "start_time": "2024-09-22T11:59:16.445Z"
   },
   {
    "duration": 176,
    "start_time": "2024-09-22T12:00:32.968Z"
   },
   {
    "duration": 187,
    "start_time": "2024-09-22T12:01:22.742Z"
   },
   {
    "duration": 1159,
    "start_time": "2024-09-22T12:01:22.931Z"
   },
   {
    "duration": 512,
    "start_time": "2024-09-22T12:04:10.311Z"
   },
   {
    "duration": 809,
    "start_time": "2024-09-22T12:04:37.444Z"
   },
   {
    "duration": 865,
    "start_time": "2024-09-22T12:05:28.222Z"
   },
   {
    "duration": 1356,
    "start_time": "2024-09-22T12:06:03.580Z"
   },
   {
    "duration": 1302,
    "start_time": "2024-09-22T12:06:22.353Z"
   },
   {
    "duration": 871,
    "start_time": "2024-09-22T12:06:42.426Z"
   },
   {
    "duration": 816,
    "start_time": "2024-09-22T12:07:01.198Z"
   },
   {
    "duration": 2,
    "start_time": "2024-09-22T12:26:11.898Z"
   },
   {
    "duration": 4,
    "start_time": "2024-09-22T12:28:46.315Z"
   },
   {
    "duration": 25,
    "start_time": "2024-09-22T12:29:21.709Z"
   },
   {
    "duration": 27,
    "start_time": "2024-09-22T12:29:49.371Z"
   },
   {
    "duration": 22,
    "start_time": "2024-09-22T12:29:59.816Z"
   },
   {
    "duration": 23,
    "start_time": "2024-09-22T12:30:26.785Z"
   },
   {
    "duration": 23,
    "start_time": "2024-09-22T12:30:34.741Z"
   },
   {
    "duration": 55,
    "start_time": "2024-09-22T12:43:49.063Z"
   },
   {
    "duration": 25,
    "start_time": "2024-09-22T12:44:06.590Z"
   },
   {
    "duration": 233,
    "start_time": "2024-09-22T12:44:17.320Z"
   },
   {
    "duration": 342,
    "start_time": "2024-09-22T12:44:45.751Z"
   },
   {
    "duration": 600,
    "start_time": "2024-09-22T12:46:22.412Z"
   },
   {
    "duration": 113,
    "start_time": "2024-09-22T12:46:23.014Z"
   },
   {
    "duration": 11,
    "start_time": "2024-09-22T12:46:23.132Z"
   },
   {
    "duration": 233,
    "start_time": "2024-09-22T12:46:23.144Z"
   },
   {
    "duration": 11,
    "start_time": "2024-09-22T12:46:23.378Z"
   },
   {
    "duration": 76,
    "start_time": "2024-09-22T12:46:23.390Z"
   },
   {
    "duration": 9,
    "start_time": "2024-09-22T12:46:23.468Z"
   },
   {
    "duration": 13,
    "start_time": "2024-09-22T12:46:23.479Z"
   },
   {
    "duration": 23,
    "start_time": "2024-09-22T12:46:23.495Z"
   },
   {
    "duration": 20,
    "start_time": "2024-09-22T12:46:23.519Z"
   },
   {
    "duration": 11,
    "start_time": "2024-09-22T12:46:23.541Z"
   },
   {
    "duration": 5,
    "start_time": "2024-09-22T12:46:23.553Z"
   },
   {
    "duration": 13,
    "start_time": "2024-09-22T12:46:23.560Z"
   },
   {
    "duration": 172,
    "start_time": "2024-09-22T12:46:23.575Z"
   },
   {
    "duration": 6,
    "start_time": "2024-09-22T12:46:23.751Z"
   },
   {
    "duration": 95,
    "start_time": "2024-09-22T12:46:23.758Z"
   },
   {
    "duration": 229,
    "start_time": "2024-09-22T12:46:23.855Z"
   },
   {
    "duration": 8,
    "start_time": "2024-09-22T12:46:24.085Z"
   },
   {
    "duration": 13,
    "start_time": "2024-09-22T12:46:24.095Z"
   },
   {
    "duration": 200,
    "start_time": "2024-09-22T12:46:24.110Z"
   },
   {
    "duration": 9,
    "start_time": "2024-09-22T12:46:24.312Z"
   },
   {
    "duration": 270,
    "start_time": "2024-09-22T12:46:24.323Z"
   },
   {
    "duration": 9,
    "start_time": "2024-09-22T12:46:24.595Z"
   },
   {
    "duration": 9,
    "start_time": "2024-09-22T12:46:24.606Z"
   },
   {
    "duration": 10,
    "start_time": "2024-09-22T12:46:24.616Z"
   },
   {
    "duration": 33,
    "start_time": "2024-09-22T12:46:24.627Z"
   },
   {
    "duration": 15,
    "start_time": "2024-09-22T12:46:24.663Z"
   },
   {
    "duration": 13,
    "start_time": "2024-09-22T12:46:24.679Z"
   },
   {
    "duration": 812,
    "start_time": "2024-09-22T12:46:24.693Z"
   },
   {
    "duration": 3,
    "start_time": "2024-09-22T12:46:25.507Z"
   },
   {
    "duration": 23,
    "start_time": "2024-09-22T12:46:25.512Z"
   },
   {
    "duration": 88,
    "start_time": "2024-09-22T12:46:25.537Z"
   },
   {
    "duration": 14,
    "start_time": "2024-09-22T12:47:45.413Z"
   },
   {
    "duration": 490,
    "start_time": "2024-09-22T14:00:48.703Z"
   },
   {
    "duration": 5,
    "start_time": "2024-09-22T14:08:06.653Z"
   },
   {
    "duration": 5,
    "start_time": "2024-09-22T14:09:01.020Z"
   },
   {
    "duration": 5,
    "start_time": "2024-09-22T14:11:17.474Z"
   },
   {
    "duration": 5,
    "start_time": "2024-09-22T14:13:42.964Z"
   },
   {
    "duration": 5,
    "start_time": "2024-09-22T14:27:36.963Z"
   },
   {
    "duration": 6,
    "start_time": "2024-09-22T14:28:00.292Z"
   },
   {
    "duration": 5,
    "start_time": "2024-09-22T14:29:05.921Z"
   },
   {
    "duration": 5,
    "start_time": "2024-09-22T14:29:16.991Z"
   },
   {
    "duration": 5,
    "start_time": "2024-09-22T14:29:18.588Z"
   },
   {
    "duration": 102,
    "start_time": "2024-09-22T14:56:18.521Z"
   },
   {
    "duration": 10,
    "start_time": "2024-09-22T14:56:31.722Z"
   },
   {
    "duration": 21,
    "start_time": "2024-09-22T14:57:01.948Z"
   },
   {
    "duration": 14,
    "start_time": "2024-09-22T14:58:01.579Z"
   },
   {
    "duration": 19,
    "start_time": "2024-09-22T14:58:08.469Z"
   },
   {
    "duration": 13,
    "start_time": "2024-09-22T14:58:46.058Z"
   },
   {
    "duration": 11,
    "start_time": "2024-09-22T14:58:52.650Z"
   },
   {
    "duration": 15,
    "start_time": "2024-09-22T15:01:43.409Z"
   },
   {
    "duration": 5,
    "start_time": "2024-09-22T15:02:08.898Z"
   },
   {
    "duration": 5,
    "start_time": "2024-09-22T15:03:08.817Z"
   },
   {
    "duration": 5,
    "start_time": "2024-09-22T15:06:09.728Z"
   },
   {
    "duration": 15,
    "start_time": "2024-09-22T15:10:31.700Z"
   },
   {
    "duration": 9,
    "start_time": "2024-09-22T15:10:36.191Z"
   },
   {
    "duration": 18,
    "start_time": "2024-09-22T15:15:45.846Z"
   },
   {
    "duration": 8,
    "start_time": "2024-09-22T15:17:38.748Z"
   },
   {
    "duration": 4,
    "start_time": "2024-09-22T15:18:00.108Z"
   },
   {
    "duration": 10,
    "start_time": "2024-09-22T15:18:04.214Z"
   },
   {
    "duration": 8,
    "start_time": "2024-09-22T15:18:21.538Z"
   },
   {
    "duration": 9,
    "start_time": "2024-09-22T15:18:23.996Z"
   },
   {
    "duration": 8,
    "start_time": "2024-09-22T15:18:29.103Z"
   },
   {
    "duration": 1127,
    "start_time": "2024-09-22T15:18:34.394Z"
   },
   {
    "duration": 40,
    "start_time": "2024-09-22T15:18:35.523Z"
   },
   {
    "duration": 12,
    "start_time": "2024-09-22T15:18:35.564Z"
   },
   {
    "duration": 37,
    "start_time": "2024-09-22T15:18:35.578Z"
   },
   {
    "duration": 14,
    "start_time": "2024-09-22T15:18:35.617Z"
   },
   {
    "duration": 69,
    "start_time": "2024-09-22T15:18:35.633Z"
   },
   {
    "duration": 10,
    "start_time": "2024-09-22T15:18:35.703Z"
   },
   {
    "duration": 14,
    "start_time": "2024-09-22T15:18:35.714Z"
   },
   {
    "duration": 37,
    "start_time": "2024-09-22T15:18:35.729Z"
   },
   {
    "duration": 16,
    "start_time": "2024-09-22T15:18:35.769Z"
   },
   {
    "duration": 46,
    "start_time": "2024-09-22T15:18:35.786Z"
   },
   {
    "duration": 19,
    "start_time": "2024-09-22T15:18:35.834Z"
   },
   {
    "duration": 5,
    "start_time": "2024-09-22T15:18:35.855Z"
   },
   {
    "duration": 192,
    "start_time": "2024-09-22T15:18:35.862Z"
   },
   {
    "duration": 7,
    "start_time": "2024-09-22T15:18:36.056Z"
   },
   {
    "duration": 120,
    "start_time": "2024-09-22T15:18:36.065Z"
   },
   {
    "duration": 215,
    "start_time": "2024-09-22T15:18:36.187Z"
   },
   {
    "duration": 9,
    "start_time": "2024-09-22T15:18:36.404Z"
   },
   {
    "duration": 7,
    "start_time": "2024-09-22T15:18:36.414Z"
   },
   {
    "duration": 222,
    "start_time": "2024-09-22T15:18:36.423Z"
   },
   {
    "duration": 8,
    "start_time": "2024-09-22T15:18:36.651Z"
   },
   {
    "duration": 223,
    "start_time": "2024-09-22T15:18:36.661Z"
   },
   {
    "duration": 8,
    "start_time": "2024-09-22T15:18:36.886Z"
   },
   {
    "duration": 9,
    "start_time": "2024-09-22T15:18:36.895Z"
   },
   {
    "duration": 9,
    "start_time": "2024-09-22T15:18:36.905Z"
   },
   {
    "duration": 43,
    "start_time": "2024-09-22T15:18:36.916Z"
   },
   {
    "duration": 17,
    "start_time": "2024-09-22T15:18:36.961Z"
   },
   {
    "duration": 13,
    "start_time": "2024-09-22T15:18:36.981Z"
   },
   {
    "duration": 809,
    "start_time": "2024-09-22T15:18:36.996Z"
   },
   {
    "duration": 3,
    "start_time": "2024-09-22T15:18:37.807Z"
   },
   {
    "duration": 30,
    "start_time": "2024-09-22T15:18:37.812Z"
   },
   {
    "duration": 73,
    "start_time": "2024-09-22T15:18:37.852Z"
   },
   {
    "duration": 96,
    "start_time": "2024-09-22T15:18:37.927Z"
   },
   {
    "duration": 10,
    "start_time": "2024-09-22T15:18:38.024Z"
   },
   {
    "duration": 17,
    "start_time": "2024-09-22T15:18:38.035Z"
   },
   {
    "duration": 21,
    "start_time": "2024-09-22T15:18:38.053Z"
   },
   {
    "duration": 19,
    "start_time": "2024-09-22T15:18:38.075Z"
   },
   {
    "duration": 8,
    "start_time": "2024-09-22T15:18:38.095Z"
   },
   {
    "duration": 8,
    "start_time": "2024-09-22T15:18:38.105Z"
   },
   {
    "duration": 21,
    "start_time": "2024-09-22T15:18:38.114Z"
   },
   {
    "duration": 1003,
    "start_time": "2024-09-22T15:18:49.511Z"
   },
   {
    "duration": 38,
    "start_time": "2024-09-22T15:18:50.516Z"
   },
   {
    "duration": 11,
    "start_time": "2024-09-22T15:18:50.555Z"
   },
   {
    "duration": 42,
    "start_time": "2024-09-22T15:18:50.568Z"
   },
   {
    "duration": 12,
    "start_time": "2024-09-22T15:18:50.611Z"
   },
   {
    "duration": 42,
    "start_time": "2024-09-22T15:18:50.624Z"
   },
   {
    "duration": 18,
    "start_time": "2024-09-22T15:18:50.667Z"
   },
   {
    "duration": 75,
    "start_time": "2024-09-22T15:18:50.686Z"
   },
   {
    "duration": 14,
    "start_time": "2024-09-22T15:18:50.763Z"
   },
   {
    "duration": 13,
    "start_time": "2024-09-22T15:18:50.779Z"
   },
   {
    "duration": 24,
    "start_time": "2024-09-22T15:18:50.793Z"
   },
   {
    "duration": 5,
    "start_time": "2024-09-22T15:18:50.818Z"
   },
   {
    "duration": 4,
    "start_time": "2024-09-22T15:18:50.824Z"
   },
   {
    "duration": 175,
    "start_time": "2024-09-22T15:18:50.830Z"
   },
   {
    "duration": 6,
    "start_time": "2024-09-22T15:18:51.006Z"
   },
   {
    "duration": 165,
    "start_time": "2024-09-22T15:18:51.013Z"
   },
   {
    "duration": 183,
    "start_time": "2024-09-22T15:18:51.180Z"
   },
   {
    "duration": 8,
    "start_time": "2024-09-22T15:18:51.364Z"
   },
   {
    "duration": 3,
    "start_time": "2024-09-22T15:18:51.374Z"
   },
   {
    "duration": 222,
    "start_time": "2024-09-22T15:18:51.379Z"
   },
   {
    "duration": 8,
    "start_time": "2024-09-22T15:18:51.603Z"
   },
   {
    "duration": 280,
    "start_time": "2024-09-22T15:18:51.613Z"
   },
   {
    "duration": 8,
    "start_time": "2024-09-22T15:18:51.895Z"
   },
   {
    "duration": 19,
    "start_time": "2024-09-22T15:18:51.905Z"
   },
   {
    "duration": 14,
    "start_time": "2024-09-22T15:18:51.926Z"
   },
   {
    "duration": 19,
    "start_time": "2024-09-22T15:18:51.941Z"
   },
   {
    "duration": 18,
    "start_time": "2024-09-22T15:18:51.962Z"
   },
   {
    "duration": 14,
    "start_time": "2024-09-22T15:18:51.983Z"
   },
   {
    "duration": 792,
    "start_time": "2024-09-22T15:18:51.998Z"
   },
   {
    "duration": 3,
    "start_time": "2024-09-22T15:18:52.792Z"
   },
   {
    "duration": 28,
    "start_time": "2024-09-22T15:18:52.796Z"
   },
   {
    "duration": 83,
    "start_time": "2024-09-22T15:18:52.825Z"
   },
   {
    "duration": 88,
    "start_time": "2024-09-22T15:18:52.910Z"
   },
   {
    "duration": 95,
    "start_time": "2024-09-22T15:18:53.000Z"
   },
   {
    "duration": 11,
    "start_time": "2024-09-22T15:18:53.097Z"
   },
   {
    "duration": 19,
    "start_time": "2024-09-22T15:18:53.109Z"
   },
   {
    "duration": 16,
    "start_time": "2024-09-22T15:18:53.129Z"
   },
   {
    "duration": 22,
    "start_time": "2024-09-22T15:18:53.147Z"
   },
   {
    "duration": 17,
    "start_time": "2024-09-22T15:18:53.170Z"
   },
   {
    "duration": 65,
    "start_time": "2024-09-22T15:18:53.189Z"
   },
   {
    "duration": 5,
    "start_time": "2024-09-22T15:37:54.119Z"
   },
   {
    "duration": 5,
    "start_time": "2024-09-22T15:49:35.420Z"
   },
   {
    "duration": 1081,
    "start_time": "2024-09-22T16:13:58.466Z"
   },
   {
    "duration": 40,
    "start_time": "2024-09-22T16:13:59.551Z"
   },
   {
    "duration": 11,
    "start_time": "2024-09-22T16:13:59.593Z"
   },
   {
    "duration": 84,
    "start_time": "2024-09-22T16:13:59.606Z"
   },
   {
    "duration": 10,
    "start_time": "2024-09-22T16:13:59.691Z"
   },
   {
    "duration": 25,
    "start_time": "2024-09-22T16:13:59.703Z"
   },
   {
    "duration": 9,
    "start_time": "2024-09-22T16:13:59.730Z"
   },
   {
    "duration": 8,
    "start_time": "2024-09-22T16:13:59.740Z"
   },
   {
    "duration": 4,
    "start_time": "2024-09-22T16:13:59.750Z"
   },
   {
    "duration": 9,
    "start_time": "2024-09-22T16:13:59.757Z"
   },
   {
    "duration": 18,
    "start_time": "2024-09-22T16:13:59.767Z"
   },
   {
    "duration": 5,
    "start_time": "2024-09-22T16:13:59.786Z"
   },
   {
    "duration": 70,
    "start_time": "2024-09-22T16:13:59.792Z"
   },
   {
    "duration": 172,
    "start_time": "2024-09-22T16:13:59.864Z"
   },
   {
    "duration": 19,
    "start_time": "2024-09-22T16:14:00.038Z"
   },
   {
    "duration": 98,
    "start_time": "2024-09-22T16:14:00.059Z"
   },
   {
    "duration": 196,
    "start_time": "2024-09-22T16:14:00.158Z"
   },
   {
    "duration": 7,
    "start_time": "2024-09-22T16:14:00.355Z"
   },
   {
    "duration": 35,
    "start_time": "2024-09-22T16:14:00.364Z"
   },
   {
    "duration": 217,
    "start_time": "2024-09-22T16:14:00.400Z"
   },
   {
    "duration": 8,
    "start_time": "2024-09-22T16:14:00.618Z"
   },
   {
    "duration": 227,
    "start_time": "2024-09-22T16:14:00.628Z"
   },
   {
    "duration": 9,
    "start_time": "2024-09-22T16:14:00.856Z"
   },
   {
    "duration": 58,
    "start_time": "2024-09-22T16:14:00.866Z"
   },
   {
    "duration": 10,
    "start_time": "2024-09-22T16:14:00.925Z"
   },
   {
    "duration": 12,
    "start_time": "2024-09-22T16:14:00.936Z"
   },
   {
    "duration": 17,
    "start_time": "2024-09-22T16:14:00.949Z"
   },
   {
    "duration": 14,
    "start_time": "2024-09-22T16:14:00.969Z"
   },
   {
    "duration": 823,
    "start_time": "2024-09-22T16:14:00.985Z"
   },
   {
    "duration": 3,
    "start_time": "2024-09-22T16:14:01.810Z"
   },
   {
    "duration": 69,
    "start_time": "2024-09-22T16:14:01.815Z"
   },
   {
    "duration": 81,
    "start_time": "2024-09-22T16:14:01.885Z"
   },
   {
    "duration": 102,
    "start_time": "2024-09-22T16:14:01.968Z"
   },
   {
    "duration": 7,
    "start_time": "2024-09-22T16:14:02.072Z"
   },
   {
    "duration": 37,
    "start_time": "2024-09-22T16:14:02.081Z"
   },
   {
    "duration": 23,
    "start_time": "2024-09-22T16:14:02.120Z"
   },
   {
    "duration": 26,
    "start_time": "2024-09-22T16:14:02.145Z"
   },
   {
    "duration": 9,
    "start_time": "2024-09-22T16:14:02.173Z"
   },
   {
    "duration": 28,
    "start_time": "2024-09-22T16:14:02.184Z"
   },
   {
    "duration": 1155,
    "start_time": "2024-09-22T17:39:09.368Z"
   },
   {
    "duration": 83,
    "start_time": "2024-09-22T17:39:10.525Z"
   },
   {
    "duration": 11,
    "start_time": "2024-09-22T17:39:10.610Z"
   },
   {
    "duration": 161,
    "start_time": "2024-09-22T17:39:10.622Z"
   },
   {
    "duration": 14,
    "start_time": "2024-09-22T17:39:10.786Z"
   },
   {
    "duration": 73,
    "start_time": "2024-09-22T17:39:10.802Z"
   },
   {
    "duration": 11,
    "start_time": "2024-09-22T17:39:10.877Z"
   },
   {
    "duration": 8,
    "start_time": "2024-09-22T17:39:10.890Z"
   },
   {
    "duration": 6,
    "start_time": "2024-09-22T17:39:10.899Z"
   },
   {
    "duration": 9,
    "start_time": "2024-09-22T17:39:10.906Z"
   },
   {
    "duration": 17,
    "start_time": "2024-09-22T17:39:10.917Z"
   },
   {
    "duration": 7,
    "start_time": "2024-09-22T17:39:10.936Z"
   },
   {
    "duration": 3,
    "start_time": "2024-09-22T17:39:10.944Z"
   },
   {
    "duration": 169,
    "start_time": "2024-09-22T17:39:10.950Z"
   },
   {
    "duration": 6,
    "start_time": "2024-09-22T17:39:11.121Z"
   },
   {
    "duration": 196,
    "start_time": "2024-09-22T17:39:11.128Z"
   },
   {
    "duration": 180,
    "start_time": "2024-09-22T17:39:11.325Z"
   },
   {
    "duration": 7,
    "start_time": "2024-09-22T17:39:11.506Z"
   },
   {
    "duration": 15,
    "start_time": "2024-09-22T17:39:11.515Z"
   },
   {
    "duration": 200,
    "start_time": "2024-09-22T17:39:11.532Z"
   },
   {
    "duration": 13,
    "start_time": "2024-09-22T17:39:11.734Z"
   },
   {
    "duration": 214,
    "start_time": "2024-09-22T17:39:11.749Z"
   },
   {
    "duration": 8,
    "start_time": "2024-09-22T17:39:11.965Z"
   },
   {
    "duration": 9,
    "start_time": "2024-09-22T17:39:11.974Z"
   },
   {
    "duration": 8,
    "start_time": "2024-09-22T17:39:11.984Z"
   },
   {
    "duration": 11,
    "start_time": "2024-09-22T17:39:11.994Z"
   },
   {
    "duration": 41,
    "start_time": "2024-09-22T17:39:12.007Z"
   },
   {
    "duration": 14,
    "start_time": "2024-09-22T17:39:12.049Z"
   },
   {
    "duration": 835,
    "start_time": "2024-09-22T17:39:12.064Z"
   },
   {
    "duration": 3,
    "start_time": "2024-09-22T17:39:12.901Z"
   },
   {
    "duration": 26,
    "start_time": "2024-09-22T17:39:12.905Z"
   },
   {
    "duration": 81,
    "start_time": "2024-09-22T17:39:12.932Z"
   },
   {
    "duration": 99,
    "start_time": "2024-09-22T17:39:13.015Z"
   },
   {
    "duration": 6,
    "start_time": "2024-09-22T17:39:13.116Z"
   },
   {
    "duration": 73,
    "start_time": "2024-09-22T17:39:13.123Z"
   },
   {
    "duration": 84,
    "start_time": "2024-09-22T17:39:13.198Z"
   },
   {
    "duration": 18,
    "start_time": "2024-09-22T17:39:13.284Z"
   },
   {
    "duration": 10,
    "start_time": "2024-09-22T17:39:13.304Z"
   },
   {
    "duration": 6,
    "start_time": "2024-09-22T17:39:13.315Z"
   },
   {
    "duration": 6,
    "start_time": "2024-09-22T18:06:32.328Z"
   },
   {
    "duration": 6,
    "start_time": "2024-09-22T18:08:40.547Z"
   },
   {
    "duration": 21,
    "start_time": "2024-09-22T18:10:18.342Z"
   },
   {
    "duration": 1165,
    "start_time": "2024-09-22T18:13:01.992Z"
   },
   {
    "duration": 38,
    "start_time": "2024-09-22T18:13:03.159Z"
   },
   {
    "duration": 10,
    "start_time": "2024-09-22T18:13:03.199Z"
   },
   {
    "duration": 131,
    "start_time": "2024-09-22T18:13:03.210Z"
   },
   {
    "duration": 26,
    "start_time": "2024-09-22T18:13:03.343Z"
   },
   {
    "duration": 54,
    "start_time": "2024-09-22T18:13:03.371Z"
   },
   {
    "duration": 102,
    "start_time": "2024-09-22T18:13:03.426Z"
   },
   {
    "duration": 46,
    "start_time": "2024-09-22T18:13:03.530Z"
   },
   {
    "duration": 103,
    "start_time": "2024-09-22T18:13:03.578Z"
   },
   {
    "duration": 52,
    "start_time": "2024-09-22T18:13:03.683Z"
   },
   {
    "duration": 24,
    "start_time": "2024-09-22T18:13:03.737Z"
   },
   {
    "duration": 57,
    "start_time": "2024-09-22T18:13:03.762Z"
   },
   {
    "duration": 52,
    "start_time": "2024-09-22T18:13:03.820Z"
   },
   {
    "duration": 197,
    "start_time": "2024-09-22T18:13:03.875Z"
   },
   {
    "duration": 7,
    "start_time": "2024-09-22T18:13:04.073Z"
   },
   {
    "duration": 117,
    "start_time": "2024-09-22T18:13:04.081Z"
   },
   {
    "duration": 177,
    "start_time": "2024-09-22T18:13:04.200Z"
   },
   {
    "duration": 8,
    "start_time": "2024-09-22T18:13:04.379Z"
   },
   {
    "duration": 28,
    "start_time": "2024-09-22T18:13:04.388Z"
   },
   {
    "duration": 199,
    "start_time": "2024-09-22T18:13:04.418Z"
   },
   {
    "duration": 8,
    "start_time": "2024-09-22T18:13:04.619Z"
   },
   {
    "duration": 238,
    "start_time": "2024-09-22T18:13:04.628Z"
   },
   {
    "duration": 9,
    "start_time": "2024-09-22T18:13:04.868Z"
   },
   {
    "duration": 20,
    "start_time": "2024-09-22T18:13:04.878Z"
   },
   {
    "duration": 13,
    "start_time": "2024-09-22T18:13:04.900Z"
   },
   {
    "duration": 26,
    "start_time": "2024-09-22T18:13:04.915Z"
   },
   {
    "duration": 30,
    "start_time": "2024-09-22T18:13:04.943Z"
   },
   {
    "duration": 34,
    "start_time": "2024-09-22T18:13:04.974Z"
   },
   {
    "duration": 777,
    "start_time": "2024-09-22T18:13:05.010Z"
   },
   {
    "duration": 4,
    "start_time": "2024-09-22T18:13:05.788Z"
   },
   {
    "duration": 31,
    "start_time": "2024-09-22T18:13:05.793Z"
   },
   {
    "duration": 87,
    "start_time": "2024-09-22T18:13:05.825Z"
   },
   {
    "duration": 95,
    "start_time": "2024-09-22T18:13:05.914Z"
   },
   {
    "duration": 24,
    "start_time": "2024-09-22T18:13:06.011Z"
   },
   {
    "duration": 37,
    "start_time": "2024-09-22T18:13:06.037Z"
   },
   {
    "duration": 34,
    "start_time": "2024-09-22T18:13:06.075Z"
   },
   {
    "duration": 56,
    "start_time": "2024-09-22T18:13:06.111Z"
   },
   {
    "duration": 42,
    "start_time": "2024-09-22T18:13:06.169Z"
   },
   {
    "duration": 10,
    "start_time": "2024-09-22T18:13:06.212Z"
   },
   {
    "duration": 31,
    "start_time": "2024-09-22T18:13:06.224Z"
   },
   {
    "duration": 49,
    "start_time": "2024-09-22T21:53:47.323Z"
   },
   {
    "duration": 1287,
    "start_time": "2024-09-22T21:53:53.680Z"
   },
   {
    "duration": 87,
    "start_time": "2024-09-22T21:53:54.969Z"
   },
   {
    "duration": 12,
    "start_time": "2024-09-22T21:53:55.058Z"
   },
   {
    "duration": 182,
    "start_time": "2024-09-22T21:53:55.072Z"
   },
   {
    "duration": 13,
    "start_time": "2024-09-22T21:53:55.257Z"
   },
   {
    "duration": 111,
    "start_time": "2024-09-22T21:53:55.272Z"
   },
   {
    "duration": 12,
    "start_time": "2024-09-22T21:53:55.385Z"
   },
   {
    "duration": 34,
    "start_time": "2024-09-22T21:53:55.399Z"
   },
   {
    "duration": 26,
    "start_time": "2024-09-22T21:53:55.436Z"
   },
   {
    "duration": 10,
    "start_time": "2024-09-22T21:53:55.465Z"
   },
   {
    "duration": 12,
    "start_time": "2024-09-22T21:53:55.477Z"
   },
   {
    "duration": 6,
    "start_time": "2024-09-22T21:53:55.491Z"
   },
   {
    "duration": 11,
    "start_time": "2024-09-22T21:53:55.498Z"
   },
   {
    "duration": 182,
    "start_time": "2024-09-22T21:53:55.511Z"
   },
   {
    "duration": 5,
    "start_time": "2024-09-22T21:53:55.694Z"
   },
   {
    "duration": 107,
    "start_time": "2024-09-22T21:53:55.701Z"
   },
   {
    "duration": 179,
    "start_time": "2024-09-22T21:53:55.810Z"
   },
   {
    "duration": 8,
    "start_time": "2024-09-22T21:53:55.991Z"
   },
   {
    "duration": 56,
    "start_time": "2024-09-22T21:53:56.000Z"
   },
   {
    "duration": 205,
    "start_time": "2024-09-22T21:53:56.058Z"
   },
   {
    "duration": 9,
    "start_time": "2024-09-22T21:53:56.265Z"
   },
   {
    "duration": 221,
    "start_time": "2024-09-22T21:53:56.276Z"
   },
   {
    "duration": 10,
    "start_time": "2024-09-22T21:53:56.499Z"
   },
   {
    "duration": 10,
    "start_time": "2024-09-22T21:53:56.511Z"
   },
   {
    "duration": 88,
    "start_time": "2024-09-22T21:53:56.523Z"
   },
   {
    "duration": 38,
    "start_time": "2024-09-22T21:53:56.613Z"
   },
   {
    "duration": 24,
    "start_time": "2024-09-22T21:53:56.653Z"
   },
   {
    "duration": 18,
    "start_time": "2024-09-22T21:53:56.681Z"
   },
   {
    "duration": 899,
    "start_time": "2024-09-22T21:53:56.701Z"
   },
   {
    "duration": 5,
    "start_time": "2024-09-22T21:53:57.601Z"
   },
   {
    "duration": 43,
    "start_time": "2024-09-22T21:53:57.608Z"
   },
   {
    "duration": 72,
    "start_time": "2024-09-22T21:53:57.653Z"
   },
   {
    "duration": 27,
    "start_time": "2024-09-22T21:53:57.726Z"
   },
   {
    "duration": 5,
    "start_time": "2024-09-22T21:53:57.755Z"
   },
   {
    "duration": 7,
    "start_time": "2024-09-22T21:53:57.761Z"
   },
   {
    "duration": 6,
    "start_time": "2024-09-22T21:53:57.769Z"
   },
   {
    "duration": 19,
    "start_time": "2024-09-22T21:53:57.776Z"
   },
   {
    "duration": 16,
    "start_time": "2024-09-22T21:53:57.797Z"
   },
   {
    "duration": 13,
    "start_time": "2024-09-22T21:53:57.853Z"
   },
   {
    "duration": 9,
    "start_time": "2024-09-22T21:53:57.868Z"
   },
   {
    "duration": 47,
    "start_time": "2024-09-22T21:54:05.906Z"
   },
   {
    "duration": 44,
    "start_time": "2024-09-22T22:02:43.003Z"
   },
   {
    "duration": 13,
    "start_time": "2024-09-22T22:02:44.933Z"
   },
   {
    "duration": 48,
    "start_time": "2024-09-22T22:02:48.349Z"
   },
   {
    "duration": 11,
    "start_time": "2024-09-22T22:02:49.995Z"
   },
   {
    "duration": 32,
    "start_time": "2024-09-22T22:03:08.756Z"
   },
   {
    "duration": 3,
    "start_time": "2024-09-22T22:06:01.204Z"
   },
   {
    "duration": 38,
    "start_time": "2024-09-22T22:06:14.287Z"
   },
   {
    "duration": 3,
    "start_time": "2024-09-22T22:06:33.213Z"
   },
   {
    "duration": 37,
    "start_time": "2024-09-22T22:06:33.726Z"
   },
   {
    "duration": 3,
    "start_time": "2024-09-22T22:08:45.540Z"
   },
   {
    "duration": 38,
    "start_time": "2024-09-22T22:08:47.847Z"
   },
   {
    "duration": 3,
    "start_time": "2024-09-22T22:09:07.505Z"
   },
   {
    "duration": 37,
    "start_time": "2024-09-22T22:09:07.839Z"
   },
   {
    "duration": 49,
    "start_time": "2024-09-22T22:09:52.816Z"
   },
   {
    "duration": 36,
    "start_time": "2024-09-22T22:11:47.660Z"
   },
   {
    "duration": 3,
    "start_time": "2024-09-22T22:12:03.921Z"
   },
   {
    "duration": 38,
    "start_time": "2024-09-22T22:12:04.684Z"
   },
   {
    "duration": 41,
    "start_time": "2024-09-22T22:12:05.534Z"
   },
   {
    "duration": 37,
    "start_time": "2024-09-22T22:12:07.269Z"
   },
   {
    "duration": 96,
    "start_time": "2024-09-22T22:18:13.460Z"
   },
   {
    "duration": 5,
    "start_time": "2024-09-22T22:18:23.163Z"
   },
   {
    "duration": 154,
    "start_time": "2024-09-22T22:24:13.051Z"
   },
   {
    "duration": 143,
    "start_time": "2024-09-22T22:24:22.039Z"
   },
   {
    "duration": 96,
    "start_time": "2024-09-22T22:25:57.245Z"
   },
   {
    "duration": 85,
    "start_time": "2024-09-22T22:26:02.684Z"
   },
   {
    "duration": 88,
    "start_time": "2024-09-22T22:26:16.686Z"
   },
   {
    "duration": 83,
    "start_time": "2024-09-22T22:26:18.604Z"
   },
   {
    "duration": 87,
    "start_time": "2024-09-22T22:26:33.545Z"
   },
   {
    "duration": 82,
    "start_time": "2024-09-22T22:26:38.806Z"
   },
   {
    "duration": 89,
    "start_time": "2024-09-22T22:26:53.307Z"
   },
   {
    "duration": 89,
    "start_time": "2024-09-22T22:27:32.369Z"
   },
   {
    "duration": 90,
    "start_time": "2024-09-22T22:27:35.903Z"
   },
   {
    "duration": 8,
    "start_time": "2024-09-22T22:37:49.580Z"
   },
   {
    "duration": 94,
    "start_time": "2024-09-22T22:48:46.903Z"
   },
   {
    "duration": 6,
    "start_time": "2024-09-22T22:48:55.041Z"
   },
   {
    "duration": 6,
    "start_time": "2024-09-22T22:49:26.547Z"
   },
   {
    "duration": 6,
    "start_time": "2024-09-22T22:49:47.681Z"
   },
   {
    "duration": 6,
    "start_time": "2024-09-22T22:49:57.104Z"
   },
   {
    "duration": 14,
    "start_time": "2024-09-22T22:54:28.003Z"
   },
   {
    "duration": 4,
    "start_time": "2024-09-22T22:54:32.509Z"
   },
   {
    "duration": 4,
    "start_time": "2024-09-22T22:55:02.468Z"
   },
   {
    "duration": 5,
    "start_time": "2024-09-22T22:55:26.709Z"
   },
   {
    "duration": 5,
    "start_time": "2024-09-22T22:55:43.528Z"
   },
   {
    "duration": 15,
    "start_time": "2024-09-22T22:57:26.934Z"
   },
   {
    "duration": 12,
    "start_time": "2024-09-22T22:59:09.018Z"
   },
   {
    "duration": 16,
    "start_time": "2024-09-22T23:07:30.337Z"
   },
   {
    "duration": 10,
    "start_time": "2024-09-22T23:07:50.181Z"
   },
   {
    "duration": 14,
    "start_time": "2024-09-22T23:11:40.245Z"
   },
   {
    "duration": 4,
    "start_time": "2024-09-22T23:11:46.314Z"
   },
   {
    "duration": 3,
    "start_time": "2024-09-22T23:12:04.529Z"
   },
   {
    "duration": 12,
    "start_time": "2024-09-22T23:12:33.683Z"
   },
   {
    "duration": 16,
    "start_time": "2024-09-22T23:12:44.956Z"
   },
   {
    "duration": 4,
    "start_time": "2024-09-22T23:14:15.628Z"
   },
   {
    "duration": 7,
    "start_time": "2024-09-22T23:15:15.778Z"
   },
   {
    "duration": 8,
    "start_time": "2024-09-22T23:16:10.730Z"
   },
   {
    "duration": 4,
    "start_time": "2024-09-22T23:16:30.739Z"
   },
   {
    "duration": 9,
    "start_time": "2024-09-22T23:16:31.019Z"
   },
   {
    "duration": 15,
    "start_time": "2024-09-22T23:16:31.590Z"
   },
   {
    "duration": 4,
    "start_time": "2024-09-22T23:16:31.751Z"
   },
   {
    "duration": 9,
    "start_time": "2024-09-22T23:16:31.907Z"
   },
   {
    "duration": 3,
    "start_time": "2024-09-22T23:16:32.343Z"
   },
   {
    "duration": 4,
    "start_time": "2024-09-22T23:17:13.954Z"
   },
   {
    "duration": 22,
    "start_time": "2024-09-22T23:19:25.476Z"
   },
   {
    "duration": 20,
    "start_time": "2024-09-22T23:20:21.684Z"
   },
   {
    "duration": 99,
    "start_time": "2024-09-22T23:21:19.389Z"
   },
   {
    "duration": 79,
    "start_time": "2024-09-22T23:21:25.411Z"
   },
   {
    "duration": 80,
    "start_time": "2024-09-22T23:21:30.280Z"
   },
   {
    "duration": 19,
    "start_time": "2024-09-22T23:21:36.819Z"
   },
   {
    "duration": 20,
    "start_time": "2024-09-22T23:22:13.832Z"
   },
   {
    "duration": 22,
    "start_time": "2024-09-22T23:22:27.876Z"
   },
   {
    "duration": 20,
    "start_time": "2024-09-22T23:22:49.316Z"
   },
   {
    "duration": 21,
    "start_time": "2024-09-22T23:23:02.891Z"
   },
   {
    "duration": 19,
    "start_time": "2024-09-22T23:23:31.966Z"
   },
   {
    "duration": 19,
    "start_time": "2024-09-22T23:23:48.126Z"
   },
   {
    "duration": 25,
    "start_time": "2024-09-22T23:27:38.114Z"
   },
   {
    "duration": 24,
    "start_time": "2024-09-22T23:27:44.186Z"
   },
   {
    "duration": 26,
    "start_time": "2024-09-22T23:27:49.808Z"
   },
   {
    "duration": 27,
    "start_time": "2024-09-22T23:28:26.388Z"
   },
   {
    "duration": 33,
    "start_time": "2024-09-22T23:28:38.465Z"
   },
   {
    "duration": 3,
    "start_time": "2024-09-22T23:32:53.203Z"
   },
   {
    "duration": 6,
    "start_time": "2024-09-22T23:34:51.976Z"
   },
   {
    "duration": 80,
    "start_time": "2024-09-22T23:35:48.967Z"
   },
   {
    "duration": 23,
    "start_time": "2024-09-22T23:36:21.773Z"
   },
   {
    "duration": 23,
    "start_time": "2024-09-22T23:36:50.583Z"
   },
   {
    "duration": 4,
    "start_time": "2024-09-22T23:37:21.549Z"
   },
   {
    "duration": 20,
    "start_time": "2024-09-22T23:43:02.323Z"
   },
   {
    "duration": 18,
    "start_time": "2024-09-22T23:43:26.607Z"
   },
   {
    "duration": 5,
    "start_time": "2024-09-22T23:43:27.136Z"
   },
   {
    "duration": 1198,
    "start_time": "2024-09-22T23:49:09.989Z"
   },
   {
    "duration": 1192,
    "start_time": "2024-09-22T23:49:25.355Z"
   },
   {
    "duration": 1315,
    "start_time": "2024-09-22T23:49:31.038Z"
   },
   {
    "duration": 4,
    "start_time": "2024-09-22T23:49:39.483Z"
   },
   {
    "duration": 8,
    "start_time": "2024-09-22T23:52:57.719Z"
   },
   {
    "duration": 3,
    "start_time": "2024-09-22T23:59:02.439Z"
   },
   {
    "duration": 2,
    "start_time": "2024-09-22T23:59:33.151Z"
   },
   {
    "duration": 3,
    "start_time": "2024-09-23T00:04:17.982Z"
   },
   {
    "duration": 3,
    "start_time": "2024-09-23T00:04:27.995Z"
   },
   {
    "duration": 20,
    "start_time": "2024-09-23T00:25:57.730Z"
   },
   {
    "duration": 15,
    "start_time": "2024-09-23T00:26:02.577Z"
   },
   {
    "duration": 7,
    "start_time": "2024-09-23T00:26:16.711Z"
   },
   {
    "duration": 79,
    "start_time": "2024-09-23T00:27:04.254Z"
   },
   {
    "duration": 6,
    "start_time": "2024-09-23T00:28:20.140Z"
   },
   {
    "duration": 91,
    "start_time": "2024-09-23T00:28:27.539Z"
   },
   {
    "duration": 9,
    "start_time": "2024-09-23T00:29:00.800Z"
   },
   {
    "duration": 12,
    "start_time": "2024-09-23T00:29:48.412Z"
   },
   {
    "duration": 10,
    "start_time": "2024-09-23T00:31:11.184Z"
   },
   {
    "duration": 16,
    "start_time": "2024-09-23T00:32:26.453Z"
   },
   {
    "duration": 12,
    "start_time": "2024-09-23T00:32:35.441Z"
   },
   {
    "duration": 13,
    "start_time": "2024-09-23T00:32:46.422Z"
   },
   {
    "duration": 4,
    "start_time": "2024-09-23T00:36:06.257Z"
   },
   {
    "duration": 4,
    "start_time": "2024-09-23T00:37:27.038Z"
   },
   {
    "duration": 4,
    "start_time": "2024-09-23T00:37:36.943Z"
   },
   {
    "duration": 2172,
    "start_time": "2024-09-23T10:52:11.572Z"
   },
   {
    "duration": 3,
    "start_time": "2024-09-23T10:52:13.746Z"
   },
   {
    "duration": 123,
    "start_time": "2024-09-23T10:52:13.751Z"
   },
   {
    "duration": 202,
    "start_time": "2024-09-23T10:52:13.876Z"
   },
   {
    "duration": 84,
    "start_time": "2024-09-23T10:52:14.080Z"
   },
   {
    "duration": 13,
    "start_time": "2024-09-23T10:52:14.165Z"
   },
   {
    "duration": 48,
    "start_time": "2024-09-23T10:52:14.179Z"
   },
   {
    "duration": 6,
    "start_time": "2024-09-23T10:52:14.228Z"
   },
   {
    "duration": 11,
    "start_time": "2024-09-23T10:52:14.235Z"
   },
   {
    "duration": 12,
    "start_time": "2024-09-23T10:52:14.248Z"
   },
   {
    "duration": 5,
    "start_time": "2024-09-23T10:52:14.325Z"
   },
   {
    "duration": 14,
    "start_time": "2024-09-23T10:52:14.332Z"
   },
   {
    "duration": 379,
    "start_time": "2024-09-23T10:52:14.348Z"
   },
   {
    "duration": 7,
    "start_time": "2024-09-23T10:52:14.729Z"
   },
   {
    "duration": 6,
    "start_time": "2024-09-23T10:52:14.738Z"
   },
   {
    "duration": 204,
    "start_time": "2024-09-23T10:52:14.745Z"
   },
   {
    "duration": 392,
    "start_time": "2024-09-23T10:52:14.951Z"
   },
   {
    "duration": 8,
    "start_time": "2024-09-23T10:52:15.344Z"
   },
   {
    "duration": 5,
    "start_time": "2024-09-23T10:52:15.354Z"
   },
   {
    "duration": 67,
    "start_time": "2024-09-23T10:52:15.361Z"
   },
   {
    "duration": 406,
    "start_time": "2024-09-23T10:52:15.429Z"
   },
   {
    "duration": 10,
    "start_time": "2024-09-23T10:52:15.836Z"
   },
   {
    "duration": 5,
    "start_time": "2024-09-23T10:52:15.848Z"
   },
   {
    "duration": 474,
    "start_time": "2024-09-23T10:52:15.854Z"
   },
   {
    "duration": 9,
    "start_time": "2024-09-23T10:52:16.329Z"
   },
   {
    "duration": 5,
    "start_time": "2024-09-23T10:52:16.339Z"
   },
   {
    "duration": 9,
    "start_time": "2024-09-23T10:52:16.346Z"
   },
   {
    "duration": 72,
    "start_time": "2024-09-23T10:52:16.359Z"
   },
   {
    "duration": 14,
    "start_time": "2024-09-23T10:52:16.432Z"
   },
   {
    "duration": 11,
    "start_time": "2024-09-23T10:52:16.448Z"
   },
   {
    "duration": 80,
    "start_time": "2024-09-23T10:52:16.460Z"
   },
   {
    "duration": 21,
    "start_time": "2024-09-23T10:52:16.541Z"
   },
   {
    "duration": 62,
    "start_time": "2024-09-23T10:52:16.564Z"
   },
   {
    "duration": 16,
    "start_time": "2024-09-23T10:52:16.627Z"
   },
   {
    "duration": 8,
    "start_time": "2024-09-23T10:52:16.644Z"
   },
   {
    "duration": 7,
    "start_time": "2024-09-23T10:52:16.654Z"
   },
   {
    "duration": 64,
    "start_time": "2024-09-23T10:52:16.662Z"
   },
   {
    "duration": 1535,
    "start_time": "2024-09-23T10:52:16.728Z"
   },
   {
    "duration": 81,
    "start_time": "2024-09-23T10:52:18.265Z"
   },
   {
    "duration": 3,
    "start_time": "2024-09-23T10:52:18.347Z"
   },
   {
    "duration": 89,
    "start_time": "2024-09-23T10:52:18.351Z"
   },
   {
    "duration": 6,
    "start_time": "2024-09-23T10:52:18.441Z"
   },
   {
    "duration": 180,
    "start_time": "2024-09-23T10:52:18.448Z"
   },
   {
    "duration": 14,
    "start_time": "2024-09-23T10:52:18.630Z"
   },
   {
    "duration": 22,
    "start_time": "2024-09-23T10:52:18.646Z"
   },
   {
    "duration": 67,
    "start_time": "2024-09-23T10:52:18.669Z"
   },
   {
    "duration": 5,
    "start_time": "2024-09-23T10:52:18.738Z"
   },
   {
    "duration": 5,
    "start_time": "2024-09-23T10:52:18.744Z"
   },
   {
    "duration": 81,
    "start_time": "2024-09-23T10:52:18.751Z"
   },
   {
    "duration": 6,
    "start_time": "2024-09-23T10:52:18.834Z"
   },
   {
    "duration": 12,
    "start_time": "2024-09-23T10:52:18.842Z"
   },
   {
    "duration": 3,
    "start_time": "2024-09-23T10:52:18.856Z"
   },
   {
    "duration": 5,
    "start_time": "2024-09-23T10:59:51.742Z"
   },
   {
    "duration": 1171,
    "start_time": "2024-09-23T11:02:58.638Z"
   },
   {
    "duration": 3,
    "start_time": "2024-09-23T11:02:59.811Z"
   },
   {
    "duration": 45,
    "start_time": "2024-09-23T11:02:59.815Z"
   },
   {
    "duration": 43,
    "start_time": "2024-09-23T11:02:59.862Z"
   },
   {
    "duration": 26,
    "start_time": "2024-09-23T11:02:59.908Z"
   },
   {
    "duration": 72,
    "start_time": "2024-09-23T11:02:59.936Z"
   },
   {
    "duration": 36,
    "start_time": "2024-09-23T11:03:00.009Z"
   },
   {
    "duration": 16,
    "start_time": "2024-09-23T11:03:00.047Z"
   },
   {
    "duration": 12,
    "start_time": "2024-09-23T11:03:00.065Z"
   },
   {
    "duration": 11,
    "start_time": "2024-09-23T11:03:00.079Z"
   },
   {
    "duration": 9,
    "start_time": "2024-09-23T11:03:00.091Z"
   },
   {
    "duration": 29,
    "start_time": "2024-09-23T11:03:00.102Z"
   },
   {
    "duration": 218,
    "start_time": "2024-09-23T11:03:00.133Z"
   },
   {
    "duration": 8,
    "start_time": "2024-09-23T11:03:00.354Z"
   },
   {
    "duration": 26,
    "start_time": "2024-09-23T11:03:00.363Z"
   },
   {
    "duration": 95,
    "start_time": "2024-09-23T11:03:00.391Z"
   },
   {
    "duration": 195,
    "start_time": "2024-09-23T11:03:00.488Z"
   },
   {
    "duration": 8,
    "start_time": "2024-09-23T11:03:00.684Z"
   },
   {
    "duration": 28,
    "start_time": "2024-09-23T11:03:00.693Z"
   },
   {
    "duration": 50,
    "start_time": "2024-09-23T11:03:00.722Z"
   },
   {
    "duration": 209,
    "start_time": "2024-09-23T11:03:00.774Z"
   },
   {
    "duration": 8,
    "start_time": "2024-09-23T11:03:00.985Z"
   },
   {
    "duration": 5,
    "start_time": "2024-09-23T11:03:00.994Z"
   },
   {
    "duration": 218,
    "start_time": "2024-09-23T11:03:01.001Z"
   },
   {
    "duration": 8,
    "start_time": "2024-09-23T11:03:01.226Z"
   },
   {
    "duration": 6,
    "start_time": "2024-09-23T11:03:01.235Z"
   },
   {
    "duration": 9,
    "start_time": "2024-09-23T11:03:01.242Z"
   },
   {
    "duration": 22,
    "start_time": "2024-09-23T11:03:01.252Z"
   },
   {
    "duration": 13,
    "start_time": "2024-09-23T11:03:01.275Z"
   },
   {
    "duration": 39,
    "start_time": "2024-09-23T11:03:01.289Z"
   },
   {
    "duration": 19,
    "start_time": "2024-09-23T11:03:01.329Z"
   },
   {
    "duration": 3,
    "start_time": "2024-09-23T11:03:01.349Z"
   },
   {
    "duration": 32,
    "start_time": "2024-09-23T11:03:01.354Z"
   },
   {
    "duration": 26,
    "start_time": "2024-09-23T11:03:01.387Z"
   },
   {
    "duration": 67,
    "start_time": "2024-09-23T11:03:01.414Z"
   },
   {
    "duration": 14,
    "start_time": "2024-09-23T11:03:01.482Z"
   },
   {
    "duration": 34,
    "start_time": "2024-09-23T11:03:01.498Z"
   },
   {
    "duration": 919,
    "start_time": "2024-09-23T11:03:01.534Z"
   },
   {
    "duration": 31,
    "start_time": "2024-09-23T11:03:02.455Z"
   },
   {
    "duration": 4,
    "start_time": "2024-09-23T11:03:02.487Z"
   },
   {
    "duration": 51,
    "start_time": "2024-09-23T11:03:02.494Z"
   },
   {
    "duration": 39,
    "start_time": "2024-09-23T11:03:02.546Z"
   },
   {
    "duration": 77,
    "start_time": "2024-09-23T11:03:02.587Z"
   },
   {
    "duration": 15,
    "start_time": "2024-09-23T11:03:02.665Z"
   },
   {
    "duration": 50,
    "start_time": "2024-09-23T11:03:02.682Z"
   },
   {
    "duration": 24,
    "start_time": "2024-09-23T11:03:02.734Z"
   },
   {
    "duration": 25,
    "start_time": "2024-09-23T11:03:02.760Z"
   },
   {
    "duration": 29,
    "start_time": "2024-09-23T11:03:02.786Z"
   },
   {
    "duration": 58,
    "start_time": "2024-09-23T11:03:02.816Z"
   },
   {
    "duration": 20,
    "start_time": "2024-09-23T11:03:02.876Z"
   },
   {
    "duration": 30,
    "start_time": "2024-09-23T11:03:02.898Z"
   },
   {
    "duration": 37,
    "start_time": "2024-09-23T11:03:02.930Z"
   },
   {
    "duration": 1338,
    "start_time": "2024-09-23T16:32:37.600Z"
   },
   {
    "duration": 4,
    "start_time": "2024-09-23T16:32:38.939Z"
   },
   {
    "duration": 97,
    "start_time": "2024-09-23T16:32:38.944Z"
   },
   {
    "duration": 172,
    "start_time": "2024-09-23T16:32:39.043Z"
   },
   {
    "duration": 79,
    "start_time": "2024-09-23T16:32:39.216Z"
   },
   {
    "duration": 15,
    "start_time": "2024-09-23T16:32:39.297Z"
   },
   {
    "duration": 4,
    "start_time": "2024-09-23T16:32:39.314Z"
   },
   {
    "duration": 8,
    "start_time": "2024-09-23T16:32:39.319Z"
   },
   {
    "duration": 9,
    "start_time": "2024-09-23T16:32:39.328Z"
   },
   {
    "duration": 26,
    "start_time": "2024-09-23T16:32:39.340Z"
   },
   {
    "duration": 5,
    "start_time": "2024-09-23T16:32:39.367Z"
   },
   {
    "duration": 4,
    "start_time": "2024-09-23T16:32:39.373Z"
   },
   {
    "duration": 176,
    "start_time": "2024-09-23T16:32:39.378Z"
   },
   {
    "duration": 13,
    "start_time": "2024-09-23T16:32:39.556Z"
   },
   {
    "duration": 7,
    "start_time": "2024-09-23T16:32:39.570Z"
   },
   {
    "duration": 101,
    "start_time": "2024-09-23T16:32:39.578Z"
   },
   {
    "duration": 232,
    "start_time": "2024-09-23T16:32:39.681Z"
   },
   {
    "duration": 9,
    "start_time": "2024-09-23T16:32:39.914Z"
   },
   {
    "duration": 5,
    "start_time": "2024-09-23T16:32:39.924Z"
   },
   {
    "duration": 5,
    "start_time": "2024-09-23T16:32:39.930Z"
   },
   {
    "duration": 231,
    "start_time": "2024-09-23T16:32:39.937Z"
   },
   {
    "duration": 8,
    "start_time": "2024-09-23T16:32:40.169Z"
   },
   {
    "duration": 5,
    "start_time": "2024-09-23T16:32:40.179Z"
   },
   {
    "duration": 228,
    "start_time": "2024-09-23T16:32:40.185Z"
   },
   {
    "duration": 8,
    "start_time": "2024-09-23T16:32:40.415Z"
   },
   {
    "duration": 5,
    "start_time": "2024-09-23T16:32:40.424Z"
   },
   {
    "duration": 92,
    "start_time": "2024-09-23T16:32:40.430Z"
   },
   {
    "duration": 10,
    "start_time": "2024-09-23T16:32:40.526Z"
   },
   {
    "duration": 27,
    "start_time": "2024-09-23T16:32:40.537Z"
   },
   {
    "duration": 10,
    "start_time": "2024-09-23T16:32:40.566Z"
   },
   {
    "duration": 16,
    "start_time": "2024-09-23T16:32:40.578Z"
   },
   {
    "duration": 3,
    "start_time": "2024-09-23T16:32:40.596Z"
   },
   {
    "duration": 8,
    "start_time": "2024-09-23T16:32:40.601Z"
   },
   {
    "duration": 15,
    "start_time": "2024-09-23T16:32:40.610Z"
   },
   {
    "duration": 39,
    "start_time": "2024-09-23T16:32:40.626Z"
   },
   {
    "duration": 8,
    "start_time": "2024-09-23T16:32:40.667Z"
   },
   {
    "duration": 8,
    "start_time": "2024-09-23T16:32:40.677Z"
   },
   {
    "duration": 994,
    "start_time": "2024-09-23T16:32:40.686Z"
   },
   {
    "duration": 24,
    "start_time": "2024-09-23T16:32:41.681Z"
   },
   {
    "duration": 4,
    "start_time": "2024-09-23T16:32:41.706Z"
   },
   {
    "duration": 32,
    "start_time": "2024-09-23T16:32:41.711Z"
   },
   {
    "duration": 24,
    "start_time": "2024-09-23T16:32:41.745Z"
   },
   {
    "duration": 109,
    "start_time": "2024-09-23T16:32:41.771Z"
   },
   {
    "duration": 15,
    "start_time": "2024-09-23T16:32:41.881Z"
   },
   {
    "duration": 24,
    "start_time": "2024-09-23T16:32:41.898Z"
   },
   {
    "duration": 17,
    "start_time": "2024-09-23T16:32:41.924Z"
   },
   {
    "duration": 6,
    "start_time": "2024-09-23T16:32:41.943Z"
   },
   {
    "duration": 17,
    "start_time": "2024-09-23T16:32:41.951Z"
   },
   {
    "duration": 26,
    "start_time": "2024-09-23T16:32:41.969Z"
   },
   {
    "duration": 5,
    "start_time": "2024-09-23T16:32:41.997Z"
   },
   {
    "duration": 13,
    "start_time": "2024-09-23T16:32:42.004Z"
   },
   {
    "duration": 3,
    "start_time": "2024-09-23T16:32:42.019Z"
   },
   {
    "duration": 8,
    "start_time": "2024-09-23T16:32:42.023Z"
   },
   {
    "duration": 9,
    "start_time": "2024-09-23T16:32:42.065Z"
   },
   {
    "duration": 8,
    "start_time": "2024-09-23T16:32:42.075Z"
   },
   {
    "duration": 42,
    "start_time": "2024-09-23T16:32:42.085Z"
   },
   {
    "duration": 21,
    "start_time": "2024-09-23T16:32:42.128Z"
   },
   {
    "duration": 21,
    "start_time": "2024-09-23T16:32:42.151Z"
   },
   {
    "duration": 28,
    "start_time": "2024-09-23T16:32:42.173Z"
   },
   {
    "duration": 26,
    "start_time": "2024-09-23T16:32:42.203Z"
   },
   {
    "duration": 13,
    "start_time": "2024-09-23T16:32:42.231Z"
   },
   {
    "duration": 19,
    "start_time": "2024-09-23T16:32:42.247Z"
   },
   {
    "duration": 110,
    "start_time": "2024-09-23T16:32:42.268Z"
   },
   {
    "duration": 0,
    "start_time": "2024-09-23T16:32:42.380Z"
   },
   {
    "duration": 0,
    "start_time": "2024-09-23T16:32:42.381Z"
   },
   {
    "duration": 0,
    "start_time": "2024-09-23T16:32:42.383Z"
   },
   {
    "duration": 0,
    "start_time": "2024-09-23T16:32:42.384Z"
   },
   {
    "duration": 0,
    "start_time": "2024-09-23T16:32:42.386Z"
   },
   {
    "duration": 0,
    "start_time": "2024-09-23T16:32:42.387Z"
   },
   {
    "duration": 0,
    "start_time": "2024-09-23T16:32:42.389Z"
   },
   {
    "duration": 0,
    "start_time": "2024-09-23T16:32:42.391Z"
   },
   {
    "duration": 0,
    "start_time": "2024-09-23T16:32:42.392Z"
   },
   {
    "duration": 0,
    "start_time": "2024-09-23T16:32:42.394Z"
   },
   {
    "duration": 0,
    "start_time": "2024-09-23T16:32:42.396Z"
   },
   {
    "duration": 7,
    "start_time": "2024-09-23T16:33:46.235Z"
   },
   {
    "duration": 5,
    "start_time": "2024-09-23T16:34:06.861Z"
   },
   {
    "duration": 4,
    "start_time": "2024-09-23T16:34:07.815Z"
   },
   {
    "duration": 11,
    "start_time": "2024-09-23T16:34:08.967Z"
   },
   {
    "duration": 801,
    "start_time": "2024-09-23T16:34:10.132Z"
   },
   {
    "duration": 3,
    "start_time": "2024-09-23T16:34:10.936Z"
   },
   {
    "duration": 11,
    "start_time": "2024-09-23T16:34:12.118Z"
   },
   {
    "duration": 18,
    "start_time": "2024-09-23T16:34:12.301Z"
   },
   {
    "duration": 1103,
    "start_time": "2024-09-23T16:34:23.019Z"
   },
   {
    "duration": 3,
    "start_time": "2024-09-23T16:34:24.124Z"
   },
   {
    "duration": 48,
    "start_time": "2024-09-23T16:34:24.129Z"
   },
   {
    "duration": 42,
    "start_time": "2024-09-23T16:34:24.180Z"
   },
   {
    "duration": 24,
    "start_time": "2024-09-23T16:34:24.224Z"
   },
   {
    "duration": 14,
    "start_time": "2024-09-23T16:34:24.249Z"
   },
   {
    "duration": 6,
    "start_time": "2024-09-23T16:34:24.265Z"
   },
   {
    "duration": 6,
    "start_time": "2024-09-23T16:34:24.273Z"
   },
   {
    "duration": 9,
    "start_time": "2024-09-23T16:34:24.280Z"
   },
   {
    "duration": 11,
    "start_time": "2024-09-23T16:34:24.292Z"
   },
   {
    "duration": 4,
    "start_time": "2024-09-23T16:34:24.304Z"
   },
   {
    "duration": 3,
    "start_time": "2024-09-23T16:34:24.310Z"
   },
   {
    "duration": 208,
    "start_time": "2024-09-23T16:34:24.314Z"
   },
   {
    "duration": 7,
    "start_time": "2024-09-23T16:34:24.523Z"
   },
   {
    "duration": 8,
    "start_time": "2024-09-23T16:34:24.531Z"
   },
   {
    "duration": 100,
    "start_time": "2024-09-23T16:34:24.540Z"
   },
   {
    "duration": 235,
    "start_time": "2024-09-23T16:34:24.642Z"
   },
   {
    "duration": 9,
    "start_time": "2024-09-23T16:34:24.879Z"
   },
   {
    "duration": 18,
    "start_time": "2024-09-23T16:34:24.889Z"
   },
   {
    "duration": 7,
    "start_time": "2024-09-23T16:34:24.908Z"
   },
   {
    "duration": 237,
    "start_time": "2024-09-23T16:34:24.916Z"
   },
   {
    "duration": 16,
    "start_time": "2024-09-23T16:34:25.155Z"
   },
   {
    "duration": 5,
    "start_time": "2024-09-23T16:34:25.172Z"
   },
   {
    "duration": 250,
    "start_time": "2024-09-23T16:34:25.179Z"
   },
   {
    "duration": 11,
    "start_time": "2024-09-23T16:34:25.431Z"
   },
   {
    "duration": 6,
    "start_time": "2024-09-23T16:34:25.443Z"
   },
   {
    "duration": 13,
    "start_time": "2024-09-23T16:34:25.468Z"
   },
   {
    "duration": 11,
    "start_time": "2024-09-23T16:34:25.485Z"
   },
   {
    "duration": 13,
    "start_time": "2024-09-23T16:34:25.498Z"
   },
   {
    "duration": 11,
    "start_time": "2024-09-23T16:34:25.513Z"
   },
   {
    "duration": 46,
    "start_time": "2024-09-23T16:34:25.525Z"
   },
   {
    "duration": 5,
    "start_time": "2024-09-23T16:34:25.573Z"
   },
   {
    "duration": 8,
    "start_time": "2024-09-23T16:34:25.580Z"
   },
   {
    "duration": 16,
    "start_time": "2024-09-23T16:34:25.590Z"
   },
   {
    "duration": 3,
    "start_time": "2024-09-23T16:34:25.607Z"
   },
   {
    "duration": 9,
    "start_time": "2024-09-23T16:34:25.612Z"
   },
   {
    "duration": 3,
    "start_time": "2024-09-23T16:34:25.623Z"
   },
   {
    "duration": 932,
    "start_time": "2024-09-23T16:34:25.664Z"
   },
   {
    "duration": 24,
    "start_time": "2024-09-23T16:34:26.597Z"
   },
   {
    "duration": 10,
    "start_time": "2024-09-23T16:34:26.623Z"
   },
   {
    "duration": 31,
    "start_time": "2024-09-23T16:34:26.635Z"
   },
   {
    "duration": 5,
    "start_time": "2024-09-23T16:34:26.668Z"
   },
   {
    "duration": 75,
    "start_time": "2024-09-23T16:34:26.674Z"
   },
   {
    "duration": 15,
    "start_time": "2024-09-23T16:34:26.765Z"
   },
   {
    "duration": 6,
    "start_time": "2024-09-23T16:34:26.781Z"
   },
   {
    "duration": 14,
    "start_time": "2024-09-23T16:34:26.788Z"
   },
   {
    "duration": 6,
    "start_time": "2024-09-23T16:34:26.803Z"
   },
   {
    "duration": 88,
    "start_time": "2024-09-23T16:34:26.810Z"
   },
   {
    "duration": 22,
    "start_time": "2024-09-23T16:34:26.900Z"
   },
   {
    "duration": 5,
    "start_time": "2024-09-23T16:34:26.923Z"
   },
   {
    "duration": 9,
    "start_time": "2024-09-23T16:34:26.929Z"
   },
   {
    "duration": 3,
    "start_time": "2024-09-23T16:34:26.939Z"
   },
   {
    "duration": 8,
    "start_time": "2024-09-23T16:34:26.944Z"
   },
   {
    "duration": 16,
    "start_time": "2024-09-23T16:34:26.953Z"
   },
   {
    "duration": 6,
    "start_time": "2024-09-23T16:34:26.970Z"
   },
   {
    "duration": 15,
    "start_time": "2024-09-23T16:34:26.978Z"
   },
   {
    "duration": 15,
    "start_time": "2024-09-23T16:34:26.995Z"
   },
   {
    "duration": 56,
    "start_time": "2024-09-23T16:34:27.012Z"
   },
   {
    "duration": 22,
    "start_time": "2024-09-23T16:34:27.071Z"
   },
   {
    "duration": 15,
    "start_time": "2024-09-23T16:34:27.095Z"
   },
   {
    "duration": 7,
    "start_time": "2024-09-23T16:34:27.112Z"
   },
   {
    "duration": 17,
    "start_time": "2024-09-23T16:34:27.120Z"
   },
   {
    "duration": 7,
    "start_time": "2024-09-23T16:34:27.139Z"
   },
   {
    "duration": 18,
    "start_time": "2024-09-23T16:34:27.147Z"
   },
   {
    "duration": 16,
    "start_time": "2024-09-23T16:34:27.167Z"
   },
   {
    "duration": 815,
    "start_time": "2024-09-23T16:34:27.185Z"
   },
   {
    "duration": 4,
    "start_time": "2024-09-23T16:34:28.002Z"
   },
   {
    "duration": 15,
    "start_time": "2024-09-23T16:34:28.008Z"
   },
   {
    "duration": 19,
    "start_time": "2024-09-23T16:34:28.024Z"
   },
   {
    "duration": 29,
    "start_time": "2024-09-23T16:34:28.045Z"
   },
   {
    "duration": 9,
    "start_time": "2024-09-23T16:34:28.075Z"
   },
   {
    "duration": 877,
    "start_time": "2024-09-23T16:34:28.085Z"
   },
   {
    "duration": 7,
    "start_time": "2024-09-23T16:34:28.964Z"
   },
   {
    "duration": 2508,
    "start_time": "2024-09-23T22:16:44.270Z"
   },
   {
    "duration": 14,
    "start_time": "2024-09-23T22:16:46.783Z"
   },
   {
    "duration": 159,
    "start_time": "2024-09-23T22:16:46.808Z"
   },
   {
    "duration": 235,
    "start_time": "2024-09-23T22:16:46.972Z"
   },
   {
    "duration": 119,
    "start_time": "2024-09-23T22:16:47.209Z"
   },
   {
    "duration": 63,
    "start_time": "2024-09-23T22:16:47.331Z"
   },
   {
    "duration": 7,
    "start_time": "2024-09-23T22:16:47.399Z"
   },
   {
    "duration": 57,
    "start_time": "2024-09-23T22:16:47.408Z"
   },
   {
    "duration": 24,
    "start_time": "2024-09-23T22:16:47.467Z"
   },
   {
    "duration": 69,
    "start_time": "2024-09-23T22:16:47.501Z"
   },
   {
    "duration": 11,
    "start_time": "2024-09-23T22:16:47.572Z"
   },
   {
    "duration": 9,
    "start_time": "2024-09-23T22:16:47.594Z"
   },
   {
    "duration": 487,
    "start_time": "2024-09-23T22:16:47.608Z"
   },
   {
    "duration": 68,
    "start_time": "2024-09-23T22:16:48.097Z"
   },
   {
    "duration": 16,
    "start_time": "2024-09-23T22:16:48.167Z"
   },
   {
    "duration": 281,
    "start_time": "2024-09-23T22:16:48.189Z"
   },
   {
    "duration": 596,
    "start_time": "2024-09-23T22:16:48.472Z"
   },
   {
    "duration": 13,
    "start_time": "2024-09-23T22:16:49.070Z"
   },
   {
    "duration": 5,
    "start_time": "2024-09-23T22:16:49.089Z"
   },
   {
    "duration": 60,
    "start_time": "2024-09-23T22:16:49.096Z"
   },
   {
    "duration": 611,
    "start_time": "2024-09-23T22:16:49.162Z"
   },
   {
    "duration": 12,
    "start_time": "2024-09-23T22:16:49.775Z"
   },
   {
    "duration": 7,
    "start_time": "2024-09-23T22:16:49.789Z"
   },
   {
    "duration": 698,
    "start_time": "2024-09-23T22:16:49.798Z"
   },
   {
    "duration": 75,
    "start_time": "2024-09-23T22:16:50.500Z"
   },
   {
    "duration": 21,
    "start_time": "2024-09-23T22:16:50.580Z"
   },
   {
    "duration": 84,
    "start_time": "2024-09-23T22:16:50.604Z"
   },
   {
    "duration": 12,
    "start_time": "2024-09-23T22:16:50.696Z"
   },
   {
    "duration": 78,
    "start_time": "2024-09-23T22:16:50.710Z"
   },
   {
    "duration": 13,
    "start_time": "2024-09-23T22:16:50.793Z"
   },
   {
    "duration": 27,
    "start_time": "2024-09-23T22:16:50.856Z"
   },
   {
    "duration": 4,
    "start_time": "2024-09-23T22:16:50.893Z"
   },
   {
    "duration": 94,
    "start_time": "2024-09-23T22:16:50.899Z"
   },
   {
    "duration": 35,
    "start_time": "2024-09-23T22:16:50.995Z"
   },
   {
    "duration": 33,
    "start_time": "2024-09-23T22:16:51.032Z"
   },
   {
    "duration": 18,
    "start_time": "2024-09-23T22:16:51.067Z"
   },
   {
    "duration": 4,
    "start_time": "2024-09-23T22:16:51.087Z"
   },
   {
    "duration": 2981,
    "start_time": "2024-09-23T22:16:51.092Z"
   },
   {
    "duration": 102,
    "start_time": "2024-09-23T22:16:54.076Z"
   },
   {
    "duration": 5,
    "start_time": "2024-09-23T22:16:54.180Z"
   },
   {
    "duration": 105,
    "start_time": "2024-09-23T22:16:54.188Z"
   },
   {
    "duration": 66,
    "start_time": "2024-09-23T22:16:54.295Z"
   },
   {
    "duration": 303,
    "start_time": "2024-09-23T22:16:54.364Z"
   },
   {
    "duration": 85,
    "start_time": "2024-09-23T22:16:54.670Z"
   },
   {
    "duration": 12,
    "start_time": "2024-09-23T22:16:54.758Z"
   },
   {
    "duration": 87,
    "start_time": "2024-09-23T22:16:54.772Z"
   },
   {
    "duration": 98,
    "start_time": "2024-09-23T22:16:54.862Z"
   },
   {
    "duration": 11,
    "start_time": "2024-09-23T22:16:54.963Z"
   },
   {
    "duration": 112,
    "start_time": "2024-09-23T22:16:54.977Z"
   },
   {
    "duration": 10,
    "start_time": "2024-09-23T22:16:55.093Z"
   },
   {
    "duration": 15,
    "start_time": "2024-09-23T22:16:55.160Z"
   },
   {
    "duration": 9,
    "start_time": "2024-09-23T22:16:55.178Z"
   },
   {
    "duration": 75,
    "start_time": "2024-09-23T22:16:55.190Z"
   },
   {
    "duration": 101,
    "start_time": "2024-09-23T22:16:55.267Z"
   },
   {
    "duration": 15,
    "start_time": "2024-09-23T22:16:55.374Z"
   },
   {
    "duration": 102,
    "start_time": "2024-09-23T22:16:55.459Z"
   },
   {
    "duration": 25,
    "start_time": "2024-09-23T22:16:55.573Z"
   },
   {
    "duration": 77,
    "start_time": "2024-09-23T22:16:55.602Z"
   },
   {
    "duration": 28,
    "start_time": "2024-09-23T22:16:55.681Z"
   },
   {
    "duration": 62,
    "start_time": "2024-09-23T22:16:55.762Z"
   },
   {
    "duration": 8,
    "start_time": "2024-09-23T22:16:55.826Z"
   },
   {
    "duration": 27,
    "start_time": "2024-09-23T22:16:55.836Z"
   },
   {
    "duration": 27,
    "start_time": "2024-09-23T22:16:55.864Z"
   },
   {
    "duration": 20,
    "start_time": "2024-09-23T22:16:55.893Z"
   },
   {
    "duration": 12,
    "start_time": "2024-09-23T22:16:55.914Z"
   },
   {
    "duration": 2132,
    "start_time": "2024-09-23T22:16:55.928Z"
   },
   {
    "duration": 11,
    "start_time": "2024-09-23T22:16:58.075Z"
   },
   {
    "duration": 15,
    "start_time": "2024-09-23T22:16:58.094Z"
   },
   {
    "duration": 84,
    "start_time": "2024-09-23T22:16:58.111Z"
   },
   {
    "duration": 74,
    "start_time": "2024-09-23T22:16:58.197Z"
   },
   {
    "duration": 18,
    "start_time": "2024-09-23T22:16:58.286Z"
   },
   {
    "duration": 2776,
    "start_time": "2024-09-23T22:16:58.306Z"
   },
   {
    "duration": 10,
    "start_time": "2024-09-23T22:17:01.084Z"
   },
   {
    "duration": 1213,
    "start_time": "2024-09-24T23:41:08.737Z"
   },
   {
    "duration": 4,
    "start_time": "2024-09-24T23:41:09.951Z"
   },
   {
    "duration": 119,
    "start_time": "2024-09-24T23:41:09.956Z"
   },
   {
    "duration": 151,
    "start_time": "2024-09-24T23:41:10.077Z"
   },
   {
    "duration": 78,
    "start_time": "2024-09-24T23:41:10.229Z"
   },
   {
    "duration": 14,
    "start_time": "2024-09-24T23:41:10.309Z"
   },
   {
    "duration": 6,
    "start_time": "2024-09-24T23:41:10.324Z"
   },
   {
    "duration": 5,
    "start_time": "2024-09-24T23:41:10.331Z"
   },
   {
    "duration": 9,
    "start_time": "2024-09-24T23:41:10.338Z"
   },
   {
    "duration": 12,
    "start_time": "2024-09-24T23:41:10.349Z"
   },
   {
    "duration": 6,
    "start_time": "2024-09-24T23:41:10.375Z"
   },
   {
    "duration": 4,
    "start_time": "2024-09-24T23:41:10.382Z"
   },
   {
    "duration": 193,
    "start_time": "2024-09-24T23:41:10.387Z"
   },
   {
    "duration": 11,
    "start_time": "2024-09-24T23:41:10.582Z"
   },
   {
    "duration": 7,
    "start_time": "2024-09-24T23:41:10.594Z"
   },
   {
    "duration": 113,
    "start_time": "2024-09-24T23:41:10.603Z"
   },
   {
    "duration": 202,
    "start_time": "2024-09-24T23:41:10.718Z"
   },
   {
    "duration": 9,
    "start_time": "2024-09-24T23:41:10.921Z"
   },
   {
    "duration": 5,
    "start_time": "2024-09-24T23:41:10.931Z"
   },
   {
    "duration": 5,
    "start_time": "2024-09-24T23:41:10.937Z"
   },
   {
    "duration": 234,
    "start_time": "2024-09-24T23:41:10.944Z"
   },
   {
    "duration": 8,
    "start_time": "2024-09-24T23:41:11.180Z"
   },
   {
    "duration": 4,
    "start_time": "2024-09-24T23:41:11.190Z"
   },
   {
    "duration": 225,
    "start_time": "2024-09-24T23:41:11.196Z"
   },
   {
    "duration": 8,
    "start_time": "2024-09-24T23:41:11.423Z"
   },
   {
    "duration": 5,
    "start_time": "2024-09-24T23:41:11.433Z"
   },
   {
    "duration": 10,
    "start_time": "2024-09-24T23:41:11.439Z"
   },
   {
    "duration": 10,
    "start_time": "2024-09-24T23:41:11.478Z"
   },
   {
    "duration": 14,
    "start_time": "2024-09-24T23:41:11.490Z"
   },
   {
    "duration": 11,
    "start_time": "2024-09-24T23:41:11.505Z"
   },
   {
    "duration": 41,
    "start_time": "2024-09-24T23:41:11.518Z"
   },
   {
    "duration": 4,
    "start_time": "2024-09-24T23:41:11.560Z"
   },
   {
    "duration": 17,
    "start_time": "2024-09-24T23:41:11.565Z"
   },
   {
    "duration": 18,
    "start_time": "2024-09-24T23:41:11.583Z"
   },
   {
    "duration": 4,
    "start_time": "2024-09-24T23:41:11.602Z"
   },
   {
    "duration": 7,
    "start_time": "2024-09-24T23:41:11.608Z"
   },
   {
    "duration": 3,
    "start_time": "2024-09-24T23:41:11.617Z"
   },
   {
    "duration": 1003,
    "start_time": "2024-09-24T23:41:11.622Z"
   },
   {
    "duration": 28,
    "start_time": "2024-09-24T23:41:12.626Z"
   },
   {
    "duration": 3,
    "start_time": "2024-09-24T23:41:12.656Z"
   },
   {
    "duration": 35,
    "start_time": "2024-09-24T23:41:12.661Z"
   },
   {
    "duration": 6,
    "start_time": "2024-09-24T23:41:12.698Z"
   },
   {
    "duration": 84,
    "start_time": "2024-09-24T23:41:12.705Z"
   },
   {
    "duration": 14,
    "start_time": "2024-09-24T23:41:12.790Z"
   },
   {
    "duration": 4,
    "start_time": "2024-09-24T23:41:12.806Z"
   },
   {
    "duration": 68,
    "start_time": "2024-09-24T23:41:12.812Z"
   },
   {
    "duration": 5,
    "start_time": "2024-09-24T23:41:12.882Z"
   },
   {
    "duration": 9,
    "start_time": "2024-09-24T23:41:12.888Z"
   },
   {
    "duration": 21,
    "start_time": "2024-09-24T23:41:12.898Z"
   },
   {
    "duration": 5,
    "start_time": "2024-09-24T23:41:12.976Z"
   },
   {
    "duration": 9,
    "start_time": "2024-09-24T23:41:12.983Z"
   },
   {
    "duration": 3,
    "start_time": "2024-09-24T23:41:12.994Z"
   },
   {
    "duration": 8,
    "start_time": "2024-09-24T23:41:12.998Z"
   },
   {
    "duration": 9,
    "start_time": "2024-09-24T23:41:13.007Z"
   },
   {
    "duration": 6,
    "start_time": "2024-09-24T23:41:13.017Z"
   },
   {
    "duration": 17,
    "start_time": "2024-09-24T23:41:13.025Z"
   },
   {
    "duration": 39,
    "start_time": "2024-09-24T23:41:13.043Z"
   },
   {
    "duration": 49,
    "start_time": "2024-09-24T23:41:13.084Z"
   },
   {
    "duration": 53,
    "start_time": "2024-09-24T23:41:13.135Z"
   },
   {
    "duration": 28,
    "start_time": "2024-09-24T23:41:13.189Z"
   },
   {
    "duration": 6,
    "start_time": "2024-09-24T23:41:13.219Z"
   },
   {
    "duration": 60,
    "start_time": "2024-09-24T23:41:13.227Z"
   },
   {
    "duration": 5,
    "start_time": "2024-09-24T23:41:13.289Z"
   },
   {
    "duration": 13,
    "start_time": "2024-09-24T23:41:13.295Z"
   },
   {
    "duration": 82,
    "start_time": "2024-09-24T23:41:13.310Z"
   },
   {
    "duration": 792,
    "start_time": "2024-09-24T23:41:13.393Z"
   },
   {
    "duration": 3,
    "start_time": "2024-09-24T23:41:14.187Z"
   },
   {
    "duration": 21,
    "start_time": "2024-09-24T23:41:14.191Z"
   },
   {
    "duration": 20,
    "start_time": "2024-09-24T23:41:14.214Z"
   },
   {
    "duration": 11,
    "start_time": "2024-09-24T23:41:14.235Z"
   },
   {
    "duration": 29,
    "start_time": "2024-09-24T23:41:14.248Z"
   },
   {
    "duration": 873,
    "start_time": "2024-09-24T23:41:14.278Z"
   },
   {
    "duration": 6,
    "start_time": "2024-09-24T23:41:15.154Z"
   }
  ],
  "kernelspec": {
   "display_name": "Python 3 (ipykernel)",
   "language": "python",
   "name": "python3"
  },
  "language_info": {
   "codemirror_mode": {
    "name": "ipython",
    "version": 3
   },
   "file_extension": ".py",
   "mimetype": "text/x-python",
   "name": "python",
   "nbconvert_exporter": "python",
   "pygments_lexer": "ipython3",
   "version": "3.9.19"
  },
  "toc": {
   "base_numbering": 1,
   "nav_menu": {},
   "number_sections": true,
   "sideBar": true,
   "skip_h1_title": true,
   "title_cell": "Table of Contents",
   "title_sidebar": "Contents",
   "toc_cell": false,
   "toc_position": {
    "height": "479px",
    "left": "66px",
    "top": "110.525px",
    "width": "255px"
   },
   "toc_section_display": true,
   "toc_window_display": true
  }
 },
 "nbformat": 4,
 "nbformat_minor": 5
}
