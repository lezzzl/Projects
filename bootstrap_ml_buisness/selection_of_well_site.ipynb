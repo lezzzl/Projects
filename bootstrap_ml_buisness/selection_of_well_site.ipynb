{
 "cells": [
  {
   "cell_type": "code",
   "execution_count": 1,
   "metadata": {},
   "outputs": [
    {
     "name": "stdout",
     "output_type": "stream",
     "text": [
      "Collecting optuna\n",
      "  Downloading optuna-4.2.0-py3-none-any.whl (383 kB)\n",
      "\u001b[K     |████████████████████████████████| 383 kB 2.1 MB/s eta 0:00:01\n",
      "\u001b[?25hRequirement already satisfied: PyYAML in /opt/conda/lib/python3.9/site-packages (from optuna) (6.0)\n",
      "Requirement already satisfied: tqdm in /opt/conda/lib/python3.9/site-packages (from optuna) (4.61.2)\n",
      "Requirement already satisfied: packaging>=20.0 in /opt/conda/lib/python3.9/site-packages (from optuna) (21.3)\n",
      "Requirement already satisfied: numpy in /opt/conda/lib/python3.9/site-packages (from optuna) (1.21.1)\n",
      "Requirement already satisfied: alembic>=1.5.0 in /opt/conda/lib/python3.9/site-packages (from optuna) (1.6.5)\n",
      "Requirement already satisfied: sqlalchemy>=1.4.2 in /opt/conda/lib/python3.9/site-packages (from optuna) (1.4.20)\n",
      "Collecting colorlog\n",
      "  Downloading colorlog-6.9.0-py3-none-any.whl (11 kB)\n",
      "Requirement already satisfied: python-dateutil in /opt/conda/lib/python3.9/site-packages (from alembic>=1.5.0->optuna) (2.8.1)\n",
      "Requirement already satisfied: Mako in /opt/conda/lib/python3.9/site-packages (from alembic>=1.5.0->optuna) (1.1.4)\n",
      "Requirement already satisfied: python-editor>=0.3 in /opt/conda/lib/python3.9/site-packages (from alembic>=1.5.0->optuna) (1.0.4)\n",
      "Requirement already satisfied: pyparsing!=3.0.5,>=2.0.2 in /opt/conda/lib/python3.9/site-packages (from packaging>=20.0->optuna) (2.4.7)\n",
      "Requirement already satisfied: greenlet!=0.4.17 in /opt/conda/lib/python3.9/site-packages (from sqlalchemy>=1.4.2->optuna) (1.1.0)\n",
      "Requirement already satisfied: MarkupSafe>=0.9.2 in /opt/conda/lib/python3.9/site-packages (from Mako->alembic>=1.5.0->optuna) (2.1.1)\n",
      "Requirement already satisfied: six>=1.5 in /opt/conda/lib/python3.9/site-packages (from python-dateutil->alembic>=1.5.0->optuna) (1.16.0)\n",
      "Installing collected packages: colorlog, optuna\n",
      "Successfully installed colorlog-6.9.0 optuna-4.2.0\n",
      "Collecting optuna-integration[sklearn]\n",
      "  Downloading optuna_integration-4.2.1-py3-none-any.whl (97 kB)\n",
      "\u001b[K     |████████████████████████████████| 97 kB 2.9 MB/s eta 0:00:011\n",
      "\u001b[?25hRequirement already satisfied: optuna in /opt/conda/lib/python3.9/site-packages (from optuna-integration[sklearn]) (4.2.0)\n",
      "Requirement already satisfied: pandas in /opt/conda/lib/python3.9/site-packages (from optuna-integration[sklearn]) (1.2.4)\n",
      "Requirement already satisfied: scikit-learn in /opt/conda/lib/python3.9/site-packages (from optuna-integration[sklearn]) (0.24.1)\n",
      "Requirement already satisfied: scipy in /opt/conda/lib/python3.9/site-packages (from optuna-integration[sklearn]) (1.9.1)\n",
      "Requirement already satisfied: PyYAML in /opt/conda/lib/python3.9/site-packages (from optuna->optuna-integration[sklearn]) (6.0)\n",
      "Requirement already satisfied: sqlalchemy>=1.4.2 in /opt/conda/lib/python3.9/site-packages (from optuna->optuna-integration[sklearn]) (1.4.20)\n",
      "Requirement already satisfied: numpy in /opt/conda/lib/python3.9/site-packages (from optuna->optuna-integration[sklearn]) (1.21.1)\n",
      "Requirement already satisfied: packaging>=20.0 in /opt/conda/lib/python3.9/site-packages (from optuna->optuna-integration[sklearn]) (21.3)\n",
      "Requirement already satisfied: alembic>=1.5.0 in /opt/conda/lib/python3.9/site-packages (from optuna->optuna-integration[sklearn]) (1.6.5)\n",
      "Requirement already satisfied: tqdm in /opt/conda/lib/python3.9/site-packages (from optuna->optuna-integration[sklearn]) (4.61.2)\n",
      "Requirement already satisfied: colorlog in /opt/conda/lib/python3.9/site-packages (from optuna->optuna-integration[sklearn]) (6.9.0)\n",
      "Requirement already satisfied: Mako in /opt/conda/lib/python3.9/site-packages (from alembic>=1.5.0->optuna->optuna-integration[sklearn]) (1.1.4)\n",
      "Requirement already satisfied: python-editor>=0.3 in /opt/conda/lib/python3.9/site-packages (from alembic>=1.5.0->optuna->optuna-integration[sklearn]) (1.0.4)\n",
      "Requirement already satisfied: python-dateutil in /opt/conda/lib/python3.9/site-packages (from alembic>=1.5.0->optuna->optuna-integration[sklearn]) (2.8.1)\n",
      "Requirement already satisfied: pyparsing!=3.0.5,>=2.0.2 in /opt/conda/lib/python3.9/site-packages (from packaging>=20.0->optuna->optuna-integration[sklearn]) (2.4.7)\n",
      "Requirement already satisfied: greenlet!=0.4.17 in /opt/conda/lib/python3.9/site-packages (from sqlalchemy>=1.4.2->optuna->optuna-integration[sklearn]) (1.1.0)\n",
      "Requirement already satisfied: MarkupSafe>=0.9.2 in /opt/conda/lib/python3.9/site-packages (from Mako->alembic>=1.5.0->optuna->optuna-integration[sklearn]) (2.1.1)\n",
      "Requirement already satisfied: pytz>=2017.3 in /opt/conda/lib/python3.9/site-packages (from pandas->optuna-integration[sklearn]) (2021.1)\n",
      "Requirement already satisfied: six>=1.5 in /opt/conda/lib/python3.9/site-packages (from python-dateutil->alembic>=1.5.0->optuna->optuna-integration[sklearn]) (1.16.0)\n",
      "Requirement already satisfied: joblib>=0.11 in /opt/conda/lib/python3.9/site-packages (from scikit-learn->optuna-integration[sklearn]) (1.1.0)\n",
      "Requirement already satisfied: threadpoolctl>=2.0.0 in /opt/conda/lib/python3.9/site-packages (from scikit-learn->optuna-integration[sklearn]) (3.1.0)\n",
      "Installing collected packages: optuna-integration\n",
      "Successfully installed optuna-integration-4.2.1\n",
      "Collecting phik\n",
      "  Downloading phik-0.12.4-cp39-cp39-manylinux_2_17_x86_64.manylinux2014_x86_64.whl (686 kB)\n",
      "\u001b[K     |████████████████████████████████| 686 kB 2.1 MB/s eta 0:00:01\n",
      "\u001b[?25hRequirement already satisfied: numpy>=1.18.0 in /opt/conda/lib/python3.9/site-packages (from phik) (1.21.1)\n",
      "Requirement already satisfied: pandas>=0.25.1 in /opt/conda/lib/python3.9/site-packages (from phik) (1.2.4)\n",
      "Requirement already satisfied: joblib>=0.14.1 in /opt/conda/lib/python3.9/site-packages (from phik) (1.1.0)\n",
      "Requirement already satisfied: matplotlib>=2.2.3 in /opt/conda/lib/python3.9/site-packages (from phik) (3.3.4)\n",
      "Requirement already satisfied: scipy>=1.5.2 in /opt/conda/lib/python3.9/site-packages (from phik) (1.9.1)\n",
      "Requirement already satisfied: python-dateutil>=2.1 in /opt/conda/lib/python3.9/site-packages (from matplotlib>=2.2.3->phik) (2.8.1)\n",
      "Requirement already satisfied: kiwisolver>=1.0.1 in /opt/conda/lib/python3.9/site-packages (from matplotlib>=2.2.3->phik) (1.4.4)\n",
      "Requirement already satisfied: pyparsing!=2.0.4,!=2.1.2,!=2.1.6,>=2.0.3 in /opt/conda/lib/python3.9/site-packages (from matplotlib>=2.2.3->phik) (2.4.7)\n",
      "Requirement already satisfied: pillow>=6.2.0 in /opt/conda/lib/python3.9/site-packages (from matplotlib>=2.2.3->phik) (8.4.0)\n",
      "Requirement already satisfied: cycler>=0.10 in /opt/conda/lib/python3.9/site-packages (from matplotlib>=2.2.3->phik) (0.11.0)\n",
      "Requirement already satisfied: pytz>=2017.3 in /opt/conda/lib/python3.9/site-packages (from pandas>=0.25.1->phik) (2021.1)\n",
      "Requirement already satisfied: six>=1.5 in /opt/conda/lib/python3.9/site-packages (from python-dateutil>=2.1->matplotlib>=2.2.3->phik) (1.16.0)\n",
      "Installing collected packages: phik\n",
      "Successfully installed phik-0.12.4\n"
     ]
    }
   ],
   "source": [
    "!pip install optuna\n",
    "!pip install optuna-integration[sklearn]\n",
    "!pip install phik"
   ]
  },
  {
   "cell_type": "code",
   "execution_count": 2,
   "metadata": {},
   "outputs": [
    {
     "name": "stdout",
     "output_type": "stream",
     "text": [
      "Collecting scikit-learn==1.2.2\n",
      "  Downloading scikit_learn-1.2.2-cp39-cp39-manylinux_2_17_x86_64.manylinux2014_x86_64.whl (9.6 MB)\n",
      "\u001b[K     |████████████████████████████████| 9.6 MB 2.9 MB/s eta 0:00:01\n",
      "\u001b[?25hCollecting imbalanced-learn==0.11.0\n",
      "  Downloading imbalanced_learn-0.11.0-py3-none-any.whl (235 kB)\n",
      "\u001b[K     |████████████████████████████████| 235 kB 62.9 MB/s eta 0:00:01\n",
      "\u001b[?25hRequirement already satisfied: scipy>=1.3.2 in /opt/conda/lib/python3.9/site-packages (from scikit-learn==1.2.2) (1.9.1)\n",
      "Collecting joblib>=1.1.1\n",
      "  Downloading joblib-1.4.2-py3-none-any.whl (301 kB)\n",
      "\u001b[K     |████████████████████████████████| 301 kB 93.0 MB/s eta 0:00:01\n",
      "\u001b[?25hRequirement already satisfied: threadpoolctl>=2.0.0 in /opt/conda/lib/python3.9/site-packages (from scikit-learn==1.2.2) (3.1.0)\n",
      "Requirement already satisfied: numpy>=1.17.3 in /opt/conda/lib/python3.9/site-packages (from scikit-learn==1.2.2) (1.21.1)\n",
      "Installing collected packages: joblib, scikit-learn, imbalanced-learn\n",
      "  Attempting uninstall: joblib\n",
      "    Found existing installation: joblib 1.1.0\n",
      "    Uninstalling joblib-1.1.0:\n",
      "      Successfully uninstalled joblib-1.1.0\n",
      "  Attempting uninstall: scikit-learn\n",
      "    Found existing installation: scikit-learn 0.24.1\n",
      "    Uninstalling scikit-learn-0.24.1:\n",
      "      Successfully uninstalled scikit-learn-0.24.1\n",
      "Successfully installed imbalanced-learn-0.11.0 joblib-1.4.2 scikit-learn-1.2.2\n"
     ]
    }
   ],
   "source": [
    "!pip install scikit-learn==1.2.2 imbalanced-learn==0.11.0"
   ]
  },
  {
   "cell_type": "code",
   "execution_count": 3,
   "metadata": {},
   "outputs": [],
   "source": [
    "import numpy as np\n",
    "import pandas as pd\n",
    "import seaborn as sns\n",
    "import matplotlib.pyplot as plt\n",
    "from IPython.display import display\n",
    "from sklearn.model_selection import (train_test_split, RandomizedSearchCV,\n",
    "                                     GridSearchCV)\n",
    "from sklearn.preprocessing import (OneHotEncoder, LabelEncoder, OrdinalEncoder,\n",
    "                                   StandardScaler, MinMaxScaler)\n",
    "from sklearn.linear_model import LinearRegression, LogisticRegression, Ridge, Lasso\n",
    "from sklearn.metrics import (mean_absolute_error, r2_score, mean_squared_error,\n",
    "                             accuracy_score, roc_auc_score, confusion_matrix,\n",
    "                             recall_score, precision_score, make_scorer)\n",
    "from sklearn.impute import SimpleImputer\n",
    "from sklearn.compose import ColumnTransformer\n",
    "from sklearn.pipeline import Pipeline\n",
    "from sklearn.preprocessing import PolynomialFeatures, FunctionTransformer\n",
    "from sklearn.feature_selection import (SelectKBest, mutual_info_regression,\n",
    "                                       mutual_info_classif)\n",
    "from optuna import distributions\n",
    "from optuna.integration import OptunaSearchCV\n",
    "\n",
    "from phik.report import plot_correlation_matrix\n",
    "from phik import report\n",
    "import warnings\n",
    "warnings.filterwarnings(\"ignore\", category=FutureWarning)\n",
    "\n",
    "from imblearn.pipeline import Pipeline as ImbPipeline\n",
    "from imblearn.over_sampling import SMOTE\n",
    "from imblearn.over_sampling import ADASYN"
   ]
  },
  {
   "cell_type": "code",
   "execution_count": 4,
   "metadata": {},
   "outputs": [],
   "source": [
    "RANDOM_STATE = 42"
   ]
  },
  {
   "cell_type": "markdown",
   "metadata": {},
   "source": [
    "# Выбор локации для скважины"
   ]
  },
  {
   "cell_type": "markdown",
   "metadata": {},
   "source": [
    "## Введение"
   ]
  },
  {
   "cell_type": "markdown",
   "metadata": {},
   "source": [
    "Допустим, вы работаете в добывающей компании «ГлавРосГосНефть». Нужно решить, где бурить новую скважину.\n",
    "\n",
    "Вам предоставлены пробы нефти в трёх регионах: в каждом 10 000 месторождений, где измерили качество нефти и объём её запасов. Постройте модель машинного обучения, которая поможет определить регион, где добыча принесёт наибольшую прибыль. Проанализируйте возможную прибыль и риски техникой *Bootstrap.*\n",
    "\n",
    "Шаги для выбора локации:\n",
    "\n",
    "- В избранном регионе ищут месторождения, для каждого определяют значения признаков;\n",
    "- Строят модель и оценивают объём запасов;\n",
    "- Выбирают месторождения с самым высокими оценками значений. Количество месторождений зависит от бюджета компании и стоимости разработки одной скважины;\n",
    "- Прибыль равна суммарной прибыли отобранных месторождений."
   ]
  },
  {
   "cell_type": "markdown",
   "metadata": {},
   "source": [
    "## План работы"
   ]
  },
  {
   "cell_type": "markdown",
   "metadata": {},
   "source": [
    "1. Загрузка и подготовка данных\n",
    "\n",
    "2. Обучение и проверка модели для каждого региона\n",
    "\n",
    "3. Подготовка к расчёту прибыли\n",
    "\n",
    "4. Расчёт прибыли по выбранным скважинам\n",
    "\n",
    "5. Оценка рисков и прибыли для каждого региона\n"
   ]
  },
  {
   "cell_type": "markdown",
   "metadata": {},
   "source": [
    "## Загрузка и подготовка данных"
   ]
  },
  {
   "cell_type": "markdown",
   "metadata": {},
   "source": [
    "### Загрузка даных"
   ]
  },
  {
   "cell_type": "code",
   "execution_count": 5,
   "metadata": {},
   "outputs": [],
   "source": [
    "first_region = pd.read_csv('/datasets/geo_data_0.csv')\n",
    "second_region = pd.read_csv('/datasets/geo_data_1.csv')\n",
    "third_region = pd.read_csv('/datasets/geo_data_2.csv')\n",
    "datasets = [first_region, second_region, third_region]\n",
    "datasets_str = ['first_region', 'second_region', 'third_region']"
   ]
  },
  {
   "cell_type": "markdown",
   "metadata": {},
   "source": [
    "Создадим функцию для более подробного изучения первчиной информации"
   ]
  },
  {
   "cell_type": "code",
   "execution_count": 6,
   "metadata": {},
   "outputs": [],
   "source": [
    "def data_info(dataset):\n",
    "    print(\"Первые строки датафрейма\")\n",
    "    display(dataset.head())\n",
    "    print('\\n\\nПервичная информация')\n",
    "    dataset.info()\n",
    "    print('-' * 50)\n",
    "    print('\\n\\n')"
   ]
  },
  {
   "cell_type": "code",
   "execution_count": 7,
   "metadata": {},
   "outputs": [
    {
     "name": "stdout",
     "output_type": "stream",
     "text": [
      "first_region\n",
      "Первые строки датафрейма\n"
     ]
    },
    {
     "data": {
      "text/html": [
       "<div>\n",
       "<style scoped>\n",
       "    .dataframe tbody tr th:only-of-type {\n",
       "        vertical-align: middle;\n",
       "    }\n",
       "\n",
       "    .dataframe tbody tr th {\n",
       "        vertical-align: top;\n",
       "    }\n",
       "\n",
       "    .dataframe thead th {\n",
       "        text-align: right;\n",
       "    }\n",
       "</style>\n",
       "<table border=\"1\" class=\"dataframe\">\n",
       "  <thead>\n",
       "    <tr style=\"text-align: right;\">\n",
       "      <th></th>\n",
       "      <th>id</th>\n",
       "      <th>f0</th>\n",
       "      <th>f1</th>\n",
       "      <th>f2</th>\n",
       "      <th>product</th>\n",
       "    </tr>\n",
       "  </thead>\n",
       "  <tbody>\n",
       "    <tr>\n",
       "      <th>0</th>\n",
       "      <td>txEyH</td>\n",
       "      <td>0.705745</td>\n",
       "      <td>-0.497823</td>\n",
       "      <td>1.221170</td>\n",
       "      <td>105.280062</td>\n",
       "    </tr>\n",
       "    <tr>\n",
       "      <th>1</th>\n",
       "      <td>2acmU</td>\n",
       "      <td>1.334711</td>\n",
       "      <td>-0.340164</td>\n",
       "      <td>4.365080</td>\n",
       "      <td>73.037750</td>\n",
       "    </tr>\n",
       "    <tr>\n",
       "      <th>2</th>\n",
       "      <td>409Wp</td>\n",
       "      <td>1.022732</td>\n",
       "      <td>0.151990</td>\n",
       "      <td>1.419926</td>\n",
       "      <td>85.265647</td>\n",
       "    </tr>\n",
       "    <tr>\n",
       "      <th>3</th>\n",
       "      <td>iJLyR</td>\n",
       "      <td>-0.032172</td>\n",
       "      <td>0.139033</td>\n",
       "      <td>2.978566</td>\n",
       "      <td>168.620776</td>\n",
       "    </tr>\n",
       "    <tr>\n",
       "      <th>4</th>\n",
       "      <td>Xdl7t</td>\n",
       "      <td>1.988431</td>\n",
       "      <td>0.155413</td>\n",
       "      <td>4.751769</td>\n",
       "      <td>154.036647</td>\n",
       "    </tr>\n",
       "  </tbody>\n",
       "</table>\n",
       "</div>"
      ],
      "text/plain": [
       "      id        f0        f1        f2     product\n",
       "0  txEyH  0.705745 -0.497823  1.221170  105.280062\n",
       "1  2acmU  1.334711 -0.340164  4.365080   73.037750\n",
       "2  409Wp  1.022732  0.151990  1.419926   85.265647\n",
       "3  iJLyR -0.032172  0.139033  2.978566  168.620776\n",
       "4  Xdl7t  1.988431  0.155413  4.751769  154.036647"
      ]
     },
     "metadata": {},
     "output_type": "display_data"
    },
    {
     "name": "stdout",
     "output_type": "stream",
     "text": [
      "\n",
      "\n",
      "Первичная информация\n",
      "<class 'pandas.core.frame.DataFrame'>\n",
      "RangeIndex: 100000 entries, 0 to 99999\n",
      "Data columns (total 5 columns):\n",
      " #   Column   Non-Null Count   Dtype  \n",
      "---  ------   --------------   -----  \n",
      " 0   id       100000 non-null  object \n",
      " 1   f0       100000 non-null  float64\n",
      " 2   f1       100000 non-null  float64\n",
      " 3   f2       100000 non-null  float64\n",
      " 4   product  100000 non-null  float64\n",
      "dtypes: float64(4), object(1)\n",
      "memory usage: 3.8+ MB\n",
      "--------------------------------------------------\n",
      "\n",
      "\n",
      "\n",
      "second_region\n",
      "Первые строки датафрейма\n"
     ]
    },
    {
     "data": {
      "text/html": [
       "<div>\n",
       "<style scoped>\n",
       "    .dataframe tbody tr th:only-of-type {\n",
       "        vertical-align: middle;\n",
       "    }\n",
       "\n",
       "    .dataframe tbody tr th {\n",
       "        vertical-align: top;\n",
       "    }\n",
       "\n",
       "    .dataframe thead th {\n",
       "        text-align: right;\n",
       "    }\n",
       "</style>\n",
       "<table border=\"1\" class=\"dataframe\">\n",
       "  <thead>\n",
       "    <tr style=\"text-align: right;\">\n",
       "      <th></th>\n",
       "      <th>id</th>\n",
       "      <th>f0</th>\n",
       "      <th>f1</th>\n",
       "      <th>f2</th>\n",
       "      <th>product</th>\n",
       "    </tr>\n",
       "  </thead>\n",
       "  <tbody>\n",
       "    <tr>\n",
       "      <th>0</th>\n",
       "      <td>kBEdx</td>\n",
       "      <td>-15.001348</td>\n",
       "      <td>-8.276000</td>\n",
       "      <td>-0.005876</td>\n",
       "      <td>3.179103</td>\n",
       "    </tr>\n",
       "    <tr>\n",
       "      <th>1</th>\n",
       "      <td>62mP7</td>\n",
       "      <td>14.272088</td>\n",
       "      <td>-3.475083</td>\n",
       "      <td>0.999183</td>\n",
       "      <td>26.953261</td>\n",
       "    </tr>\n",
       "    <tr>\n",
       "      <th>2</th>\n",
       "      <td>vyE1P</td>\n",
       "      <td>6.263187</td>\n",
       "      <td>-5.948386</td>\n",
       "      <td>5.001160</td>\n",
       "      <td>134.766305</td>\n",
       "    </tr>\n",
       "    <tr>\n",
       "      <th>3</th>\n",
       "      <td>KcrkZ</td>\n",
       "      <td>-13.081196</td>\n",
       "      <td>-11.506057</td>\n",
       "      <td>4.999415</td>\n",
       "      <td>137.945408</td>\n",
       "    </tr>\n",
       "    <tr>\n",
       "      <th>4</th>\n",
       "      <td>AHL4O</td>\n",
       "      <td>12.702195</td>\n",
       "      <td>-8.147433</td>\n",
       "      <td>5.004363</td>\n",
       "      <td>134.766305</td>\n",
       "    </tr>\n",
       "  </tbody>\n",
       "</table>\n",
       "</div>"
      ],
      "text/plain": [
       "      id         f0         f1        f2     product\n",
       "0  kBEdx -15.001348  -8.276000 -0.005876    3.179103\n",
       "1  62mP7  14.272088  -3.475083  0.999183   26.953261\n",
       "2  vyE1P   6.263187  -5.948386  5.001160  134.766305\n",
       "3  KcrkZ -13.081196 -11.506057  4.999415  137.945408\n",
       "4  AHL4O  12.702195  -8.147433  5.004363  134.766305"
      ]
     },
     "metadata": {},
     "output_type": "display_data"
    },
    {
     "name": "stdout",
     "output_type": "stream",
     "text": [
      "\n",
      "\n",
      "Первичная информация\n",
      "<class 'pandas.core.frame.DataFrame'>\n",
      "RangeIndex: 100000 entries, 0 to 99999\n",
      "Data columns (total 5 columns):\n",
      " #   Column   Non-Null Count   Dtype  \n",
      "---  ------   --------------   -----  \n",
      " 0   id       100000 non-null  object \n",
      " 1   f0       100000 non-null  float64\n",
      " 2   f1       100000 non-null  float64\n",
      " 3   f2       100000 non-null  float64\n",
      " 4   product  100000 non-null  float64\n",
      "dtypes: float64(4), object(1)\n",
      "memory usage: 3.8+ MB\n",
      "--------------------------------------------------\n",
      "\n",
      "\n",
      "\n",
      "third_region\n",
      "Первые строки датафрейма\n"
     ]
    },
    {
     "data": {
      "text/html": [
       "<div>\n",
       "<style scoped>\n",
       "    .dataframe tbody tr th:only-of-type {\n",
       "        vertical-align: middle;\n",
       "    }\n",
       "\n",
       "    .dataframe tbody tr th {\n",
       "        vertical-align: top;\n",
       "    }\n",
       "\n",
       "    .dataframe thead th {\n",
       "        text-align: right;\n",
       "    }\n",
       "</style>\n",
       "<table border=\"1\" class=\"dataframe\">\n",
       "  <thead>\n",
       "    <tr style=\"text-align: right;\">\n",
       "      <th></th>\n",
       "      <th>id</th>\n",
       "      <th>f0</th>\n",
       "      <th>f1</th>\n",
       "      <th>f2</th>\n",
       "      <th>product</th>\n",
       "    </tr>\n",
       "  </thead>\n",
       "  <tbody>\n",
       "    <tr>\n",
       "      <th>0</th>\n",
       "      <td>fwXo0</td>\n",
       "      <td>-1.146987</td>\n",
       "      <td>0.963328</td>\n",
       "      <td>-0.828965</td>\n",
       "      <td>27.758673</td>\n",
       "    </tr>\n",
       "    <tr>\n",
       "      <th>1</th>\n",
       "      <td>WJtFt</td>\n",
       "      <td>0.262778</td>\n",
       "      <td>0.269839</td>\n",
       "      <td>-2.530187</td>\n",
       "      <td>56.069697</td>\n",
       "    </tr>\n",
       "    <tr>\n",
       "      <th>2</th>\n",
       "      <td>ovLUW</td>\n",
       "      <td>0.194587</td>\n",
       "      <td>0.289035</td>\n",
       "      <td>-5.586433</td>\n",
       "      <td>62.871910</td>\n",
       "    </tr>\n",
       "    <tr>\n",
       "      <th>3</th>\n",
       "      <td>q6cA6</td>\n",
       "      <td>2.236060</td>\n",
       "      <td>-0.553760</td>\n",
       "      <td>0.930038</td>\n",
       "      <td>114.572842</td>\n",
       "    </tr>\n",
       "    <tr>\n",
       "      <th>4</th>\n",
       "      <td>WPMUX</td>\n",
       "      <td>-0.515993</td>\n",
       "      <td>1.716266</td>\n",
       "      <td>5.899011</td>\n",
       "      <td>149.600746</td>\n",
       "    </tr>\n",
       "  </tbody>\n",
       "</table>\n",
       "</div>"
      ],
      "text/plain": [
       "      id        f0        f1        f2     product\n",
       "0  fwXo0 -1.146987  0.963328 -0.828965   27.758673\n",
       "1  WJtFt  0.262778  0.269839 -2.530187   56.069697\n",
       "2  ovLUW  0.194587  0.289035 -5.586433   62.871910\n",
       "3  q6cA6  2.236060 -0.553760  0.930038  114.572842\n",
       "4  WPMUX -0.515993  1.716266  5.899011  149.600746"
      ]
     },
     "metadata": {},
     "output_type": "display_data"
    },
    {
     "name": "stdout",
     "output_type": "stream",
     "text": [
      "\n",
      "\n",
      "Первичная информация\n",
      "<class 'pandas.core.frame.DataFrame'>\n",
      "RangeIndex: 100000 entries, 0 to 99999\n",
      "Data columns (total 5 columns):\n",
      " #   Column   Non-Null Count   Dtype  \n",
      "---  ------   --------------   -----  \n",
      " 0   id       100000 non-null  object \n",
      " 1   f0       100000 non-null  float64\n",
      " 2   f1       100000 non-null  float64\n",
      " 3   f2       100000 non-null  float64\n",
      " 4   product  100000 non-null  float64\n",
      "dtypes: float64(4), object(1)\n",
      "memory usage: 3.8+ MB\n",
      "--------------------------------------------------\n",
      "\n",
      "\n",
      "\n"
     ]
    }
   ],
   "source": [
    "for i, dataset in enumerate(datasets):\n",
    "    print(datasets_str[i])\n",
    "    data_info(dataset)"
   ]
  },
  {
   "cell_type": "markdown",
   "metadata": {},
   "source": [
    "### Поиск дубликатов"
   ]
  },
  {
   "cell_type": "code",
   "execution_count": 8,
   "metadata": {},
   "outputs": [
    {
     "name": "stdout",
     "output_type": "stream",
     "text": [
      "first_region: 10\n",
      "second_region: 4\n",
      "third_region: 4\n"
     ]
    }
   ],
   "source": [
    "for i, dataset in enumerate(datasets):\n",
    "    print(f\"{datasets_str[i]}: {dataset.duplicated(subset = ['id']).sum()}\")"
   ]
  },
  {
   "cell_type": "markdown",
   "metadata": {},
   "source": [
    "Удалим дубликаты с одинаковым уникальным идентификатором скважины"
   ]
  },
  {
   "cell_type": "code",
   "execution_count": 9,
   "metadata": {},
   "outputs": [
    {
     "name": "stdout",
     "output_type": "stream",
     "text": [
      "first_region: 0\n",
      "second_region: 0\n",
      "third_region: 0\n"
     ]
    }
   ],
   "source": [
    "for i, dataset in enumerate(datasets):\n",
    "    dataset.drop_duplicates(subset = ['id'], keep='first', inplace = True)\n",
    "    print(f\"{datasets_str[i]}: {dataset['id'].duplicated().sum()}\")"
   ]
  },
  {
   "cell_type": "code",
   "execution_count": 10,
   "metadata": {},
   "outputs": [],
   "source": [
    "for dataset in datasets:\n",
    "    dataset.set_index('id', inplace=True)"
   ]
  },
  {
   "cell_type": "markdown",
   "metadata": {},
   "source": [
    "### Вывод"
   ]
  },
  {
   "cell_type": "markdown",
   "metadata": {},
   "source": [
    "Удалены дубликаты"
   ]
  },
  {
   "cell_type": "markdown",
   "metadata": {},
   "source": [
    "## Исследовательский анализ данных"
   ]
  },
  {
   "cell_type": "markdown",
   "metadata": {},
   "source": [
    "Создадим функцию для исследования данных"
   ]
  },
  {
   "cell_type": "code",
   "execution_count": 11,
   "metadata": {},
   "outputs": [],
   "source": [
    "num_columns = (first_region.select_dtypes(include=['int64', 'float64']))"
   ]
  },
  {
   "cell_type": "code",
   "execution_count": 12,
   "metadata": {},
   "outputs": [],
   "source": [
    "datasets = [first_region, second_region, third_region]"
   ]
  },
  {
   "cell_type": "code",
   "execution_count": 13,
   "metadata": {},
   "outputs": [
    {
     "data": {
      "text/plain": [
       "['first_region', 'second_region', 'third_region']"
      ]
     },
     "execution_count": 13,
     "metadata": {},
     "output_type": "execute_result"
    }
   ],
   "source": [
    "datasets_str"
   ]
  },
  {
   "cell_type": "code",
   "execution_count": 14,
   "metadata": {
    "scrolled": false
   },
   "outputs": [
    {
     "name": "stdout",
     "output_type": "stream",
     "text": [
      "first_region\n",
      "                 f0            f1            f2       product\n",
      "count  99990.000000  99990.000000  99990.000000  99990.000000\n",
      "mean       0.500454      0.250141      2.502629     92.499684\n",
      "std        0.871844      0.504430      3.248149     44.288304\n",
      "min       -1.408605     -0.848218    -12.088328      0.000000\n",
      "25%       -0.072572     -0.200877      0.287784     56.497069\n",
      "50%        0.502405      0.250252      2.515969     91.847928\n",
      "75%        1.073626      0.700640      4.715035    128.563699\n",
      "max        2.362331      1.343769     16.003790    185.364347\n"
     ]
    },
    {
     "data": {
      "image/png": "[encoded data removed]",
      "text/plain": [
       "<Figure size 864x1296 with 8 Axes>"
      ]
     },
     "metadata": {
      "needs_background": "light"
     },
     "output_type": "display_data"
    },
    {
     "name": "stdout",
     "output_type": "stream",
     "text": [
      "\n",
      "-------------------\n",
      "second_region\n",
      "                 f0            f1            f2       product\n",
      "count  99996.000000  99996.000000  99996.000000  99996.000000\n",
      "mean       1.141209     -4.796608      2.494501     68.823916\n",
      "std        8.965815      5.119906      1.703579     45.944663\n",
      "min      -31.609576    -26.358598     -0.018144      0.000000\n",
      "25%       -6.298551     -8.267985      1.000021     26.953261\n",
      "50%        1.153055     -4.813172      2.011475     57.085625\n",
      "75%        8.620964     -1.332816      3.999904    107.813044\n",
      "max       29.421755     18.734063      5.019721    137.945408\n"
     ]
    },
    {
     "data": {
      "image/png": "[encoded data removed]",
      "text/plain": [
       "<Figure size 864x1296 with 8 Axes>"
      ]
     },
     "metadata": {
      "needs_background": "light"
     },
     "output_type": "display_data"
    },
    {
     "name": "stdout",
     "output_type": "stream",
     "text": [
      "\n",
      "-------------------\n",
      "third_region\n",
      "                 f0            f1            f2       product\n",
      "count  99996.000000  99996.000000  99996.000000  99996.000000\n",
      "mean       0.002002     -0.002159      2.495084     94.998342\n",
      "std        1.732052      1.730397      3.473482     44.749573\n",
      "min       -8.760004     -7.084020    -11.970335      0.000000\n",
      "25%       -1.162328     -1.174841      0.130269     59.450028\n",
      "50%        0.009424     -0.009661      2.484236     94.925026\n",
      "75%        1.158477      1.163523      4.858720    130.586815\n",
      "max        7.238262      7.844801     16.739402    190.029838\n"
     ]
    },
    {
     "data": {
      "image/png": "[encoded data removed]",
      "text/plain": [
       "<Figure size 864x1296 with 8 Axes>"
      ]
     },
     "metadata": {
      "needs_background": "light"
     },
     "output_type": "display_data"
    },
    {
     "name": "stdout",
     "output_type": "stream",
     "text": [
      "\n",
      "-------------------\n"
     ]
    }
   ],
   "source": [
    "for dataset, name in zip(datasets, datasets_str):\n",
    "    print(name)\n",
    "    print(dataset.describe())\n",
    "    fig, axes = plt.subplots(4, 2, figsize=(12, 18))\n",
    "    fig.suptitle(f'Распределение числовых признаков {name}', fontsize=14)\n",
    "    \n",
    "    for i, col in enumerate(num_columns):\n",
    "        dataset[col].plot.box(ax=axes[i][0])\n",
    "        axes[i][0].set_title(f'Диаграмма распределения {col}')\n",
    "        axes[i][0].grid(True)\n",
    "        axes[i][0].set_ylabel('Значение')\n",
    "        \n",
    "        dataset[col].plot.hist(bins=30, ax=axes[i][1])\n",
    "        axes[i][1].set_title(f'Гистограмма {col}')\n",
    "        axes[i][1].grid(True)\n",
    "        axes[i][1].set_ylabel('Частота')\n",
    "        axes[i][1].set_xlabel('Значение')\n",
    "    \n",
    "    plt.tight_layout(rect=[0, 0, 1, 0.97])\n",
    "    plt.show()\n",
    "    print(\"\\n-------------------\")"
   ]
  },
  {
   "cell_type": "code",
   "execution_count": 15,
   "metadata": {},
   "outputs": [
    {
     "name": "stdout",
     "output_type": "stream",
     "text": [
      "<class 'pandas.core.frame.DataFrame'>\n",
      "Index: 99990 entries, txEyH to 1CWhH\n",
      "Data columns (total 4 columns):\n",
      " #   Column   Non-Null Count  Dtype  \n",
      "---  ------   --------------  -----  \n",
      " 0   f0       99990 non-null  float64\n",
      " 1   f1       99990 non-null  float64\n",
      " 2   f2       99990 non-null  float64\n",
      " 3   product  99990 non-null  float64\n",
      "dtypes: float64(4)\n",
      "memory usage: 3.8+ MB\n"
     ]
    }
   ],
   "source": [
    "first_region.info()"
   ]
  },
  {
   "cell_type": "markdown",
   "metadata": {},
   "source": [
    "## Корреляционный анализ"
   ]
  },
  {
   "cell_type": "code",
   "execution_count": 16,
   "metadata": {
    "scrolled": false
   },
   "outputs": [
    {
     "data": {
      "image/png": "[encoded data removed]",
      "text/plain": [
       "<Figure size 576x432 with 2 Axes>"
      ]
     },
     "metadata": {
      "needs_background": "light"
     },
     "output_type": "display_data"
    },
    {
     "data": {
      "image/png": "[encoded data removed]",
      "text/plain": [
       "<Figure size 576x432 with 2 Axes>"
      ]
     },
     "metadata": {
      "needs_background": "light"
     },
     "output_type": "display_data"
    },
    {
     "data": {
      "image/png": "[encoded data removed]",
      "text/plain": [
       "<Figure size 576x432 with 2 Axes>"
      ]
     },
     "metadata": {
      "needs_background": "light"
     },
     "output_type": "display_data"
    }
   ],
   "source": [
    "\n",
    "interval_cols = ['f0','f1', 'f2', 'product']\n",
    "for dataset, name in zip(datasets, datasets_str):\n",
    "    phik_overview = dataset.phik_matrix(interval_cols=interval_cols)\n",
    "    plot_correlation_matrix(\n",
    "        phik_overview.values,\n",
    "        x_labels=phik_overview.columns,\n",
    "        y_labels=phik_overview.index,\n",
    "        vmin=0, vmax=1, color_map='coolwarm',\n",
    "        title=r'correlation $\\phi_K$',\n",
    "        figsize=(8, 6)\n",
    "    ) "
   ]
  },
  {
   "cell_type": "markdown",
   "metadata": {},
   "source": [
    "Заметим, что во втором регионе коэффициент корреляции между `f2` и целевым признаком `product` 0.98, что говорит об очень высокой зависимости"
   ]
  },
  {
   "cell_type": "markdown",
   "metadata": {},
   "source": [
    "## Обучение и проверка модели"
   ]
  },
  {
   "cell_type": "markdown",
   "metadata": {},
   "source": [
    "### Подготовка"
   ]
  },
  {
   "cell_type": "markdown",
   "metadata": {},
   "source": [
    "Разобьем данные каждого региона на обучающие и валидационные выборки"
   ]
  },
  {
   "cell_type": "code",
   "execution_count": 17,
   "metadata": {},
   "outputs": [],
   "source": [
    "TEST_SIZE = 0.25"
   ]
  },
  {
   "cell_type": "code",
   "execution_count": 18,
   "metadata": {},
   "outputs": [],
   "source": [
    "X_train_1, X_test_1, y_train_1, y_test_1 = train_test_split(\n",
    "    first_region.drop('product', axis=1),\n",
    "    first_region['product'],\n",
    "    test_size = TEST_SIZE, \n",
    "    random_state = RANDOM_STATE)\n",
    "\n",
    "X_train_2, X_test_2, y_train_2, y_test_2 = train_test_split(\n",
    "    second_region.drop('product', axis=1),\n",
    "    second_region['product'],\n",
    "    test_size = TEST_SIZE, \n",
    "    random_state = RANDOM_STATE)\n",
    "\n",
    "X_train_3, X_test_3, y_train_3, y_test_3 = train_test_split(\n",
    "    third_region.drop('product', axis=1),\n",
    "    third_region['product'],\n",
    "    test_size = TEST_SIZE, \n",
    "    random_state = RANDOM_STATE)"
   ]
  },
  {
   "cell_type": "markdown",
   "metadata": {},
   "source": [
    "Подготовтим пайплайн для предобработки и обучения"
   ]
  },
  {
   "cell_type": "code",
   "execution_count": 19,
   "metadata": {},
   "outputs": [],
   "source": [
    "num_columns = ['f0', 'f1', 'f2']"
   ]
  },
  {
   "cell_type": "code",
   "execution_count": 20,
   "metadata": {},
   "outputs": [],
   "source": [
    "num_pipe = Pipeline([\n",
    "    ('imputer', SimpleImputer(missing_values=np.nan, strategy='mean')),\n",
    "    ('scaler', MinMaxScaler())\n",
    "])\n",
    "target_scaler = FunctionTransformer(lambda y: MinMaxScaler().fit_transform(y.reshape(-1, 1)), validate=False)"
   ]
  },
  {
   "cell_type": "code",
   "execution_count": 21,
   "metadata": {},
   "outputs": [],
   "source": [
    "data_preprocessor = ColumnTransformer([\n",
    "    ('num', num_pipe, num_columns)\n",
    "])"
   ]
  },
  {
   "cell_type": "code",
   "execution_count": 22,
   "metadata": {},
   "outputs": [],
   "source": [
    "pipe_final = Pipeline([\n",
    "    ('preprocessor', data_preprocessor),\n",
    "    ('models', LinearRegression())\n",
    "])"
   ]
  },
  {
   "cell_type": "code",
   "execution_count": 23,
   "metadata": {},
   "outputs": [],
   "source": [
    "param_grid = [\n",
    "    {\n",
    "    'models': [LinearRegression()],\n",
    "    'preprocessor__num__scaler': [StandardScaler(), MinMaxScaler(), 'passthrough']\n",
    "    },\n",
    "    {\n",
    "    'models': [Ridge()],\n",
    "    'models__alpha': range(1, 5),\n",
    "    'preprocessor__num__scaler': [StandardScaler(), MinMaxScaler(), 'passthrough']\n",
    "    },\n",
    "    {\n",
    "    'models': [Lasso()],\n",
    "    'models__alpha': range(1, 5),\n",
    "    'preprocessor__num__scaler': [StandardScaler(), MinMaxScaler(), 'passthrough']\n",
    "    }\n",
    "    \n",
    "]"
   ]
  },
  {
   "cell_type": "markdown",
   "metadata": {},
   "source": [
    "### Первый регион"
   ]
  },
  {
   "cell_type": "code",
   "execution_count": 24,
   "metadata": {},
   "outputs": [
    {
     "data": {
      "text/html": [
       "<style>#sk-container-id-1 {color: black;background-color: white;}#sk-container-id-1 pre{padding: 0;}#sk-container-id-1 div.sk-toggleable {background-color: white;}#sk-container-id-1 label.sk-toggleable__label {cursor: pointer;display: block;width: 100%;margin-bottom: 0;padding: 0.3em;box-sizing: border-box;text-align: center;}#sk-container-id-1 label.sk-toggleable__label-arrow:before {content: \"▸\";float: left;margin-right: 0.25em;color: #696969;}#sk-container-id-1 label.sk-toggleable__label-arrow:hover:before {color: black;}#sk-container-id-1 div.sk-estimator:hover label.sk-toggleable__label-arrow:before {color: black;}#sk-container-id-1 div.sk-toggleable__content {max-height: 0;max-width: 0;overflow: hidden;text-align: left;background-color: #f0f8ff;}#sk-container-id-1 div.sk-toggleable__content pre {margin: 0.2em;color: black;border-radius: 0.25em;background-color: #f0f8ff;}#sk-container-id-1 input.sk-toggleable__control:checked~div.sk-toggleable__content {max-height: 200px;max-width: 100%;overflow: auto;}#sk-container-id-1 input.sk-toggleable__control:checked~label.sk-toggleable__label-arrow:before {content: \"▾\";}#sk-container-id-1 div.sk-estimator input.sk-toggleable__control:checked~label.sk-toggleable__label {background-color: #d4ebff;}#sk-container-id-1 div.sk-label input.sk-toggleable__control:checked~label.sk-toggleable__label {background-color: #d4ebff;}#sk-container-id-1 input.sk-hidden--visually {border: 0;clip: rect(1px 1px 1px 1px);clip: rect(1px, 1px, 1px, 1px);height: 1px;margin: -1px;overflow: hidden;padding: 0;position: absolute;width: 1px;}#sk-container-id-1 div.sk-estimator {font-family: monospace;background-color: #f0f8ff;border: 1px dotted black;border-radius: 0.25em;box-sizing: border-box;margin-bottom: 0.5em;}#sk-container-id-1 div.sk-estimator:hover {background-color: #d4ebff;}#sk-container-id-1 div.sk-parallel-item::after {content: \"\";width: 100%;border-bottom: 1px solid gray;flex-grow: 1;}#sk-container-id-1 div.sk-label:hover label.sk-toggleable__label {background-color: #d4ebff;}#sk-container-id-1 div.sk-serial::before {content: \"\";position: absolute;border-left: 1px solid gray;box-sizing: border-box;top: 0;bottom: 0;left: 50%;z-index: 0;}#sk-container-id-1 div.sk-serial {display: flex;flex-direction: column;align-items: center;background-color: white;padding-right: 0.2em;padding-left: 0.2em;position: relative;}#sk-container-id-1 div.sk-item {position: relative;z-index: 1;}#sk-container-id-1 div.sk-parallel {display: flex;align-items: stretch;justify-content: center;background-color: white;position: relative;}#sk-container-id-1 div.sk-item::before, #sk-container-id-1 div.sk-parallel-item::before {content: \"\";position: absolute;border-left: 1px solid gray;box-sizing: border-box;top: 0;bottom: 0;left: 50%;z-index: -1;}#sk-container-id-1 div.sk-parallel-item {display: flex;flex-direction: column;z-index: 1;position: relative;background-color: white;}#sk-container-id-1 div.sk-parallel-item:first-child::after {align-self: flex-end;width: 50%;}#sk-container-id-1 div.sk-parallel-item:last-child::after {align-self: flex-start;width: 50%;}#sk-container-id-1 div.sk-parallel-item:only-child::after {width: 0;}#sk-container-id-1 div.sk-dashed-wrapped {border: 1px dashed gray;margin: 0 0.4em 0.5em 0.4em;box-sizing: border-box;padding-bottom: 0.4em;background-color: white;}#sk-container-id-1 div.sk-label label {font-family: monospace;font-weight: bold;display: inline-block;line-height: 1.2em;}#sk-container-id-1 div.sk-label-container {text-align: center;}#sk-container-id-1 div.sk-container {/* jupyter's `normalize.less` sets `[hidden] { display: none; }` but bootstrap.min.css set `[hidden] { display: none !important; }` so we also need the `!important` here to be able to override the default hidden behavior on the sphinx rendered scikit-learn.org. See: https://github.com/scikit-learn/scikit-learn/issues/21755 */display: inline-block !important;position: relative;}#sk-container-id-1 div.sk-text-repr-fallback {display: none;}</style><div id=\"sk-container-id-1\" class=\"sk-top-container\"><div class=\"sk-text-repr-fallback\"><pre>RandomizedSearchCV(cv=10,\n",
       "                   estimator=Pipeline(steps=[(&#x27;preprocessor&#x27;,\n",
       "                                              ColumnTransformer(transformers=[(&#x27;num&#x27;,\n",
       "                                                                               Pipeline(steps=[(&#x27;imputer&#x27;,\n",
       "                                                                                                SimpleImputer()),\n",
       "                                                                                               (&#x27;scaler&#x27;,\n",
       "                                                                                                MinMaxScaler())]),\n",
       "                                                                               [&#x27;f0&#x27;,\n",
       "                                                                                &#x27;f1&#x27;,\n",
       "                                                                                &#x27;f2&#x27;])])),\n",
       "                                             (&#x27;models&#x27;, LinearRegression())]),\n",
       "                   n_jobs=-1,\n",
       "                   param_distributions=[{&#x27;models&#x27;: [LinearRegression()],\n",
       "                                         &#x27;preprocessor__num__scaler&#x27;: [StandardScaler(),\n",
       "                                                                       MinMaxScaler(),\n",
       "                                                                       &#x27;passthrough&#x27;]},\n",
       "                                        {&#x27;models&#x27;: [Ridge(alpha=3)],\n",
       "                                         &#x27;models__alpha&#x27;: range(1, 5),\n",
       "                                         &#x27;preprocessor__num__scaler&#x27;: [StandardScaler(),\n",
       "                                                                       MinMaxScaler(),\n",
       "                                                                       &#x27;passthrough&#x27;]},\n",
       "                                        {&#x27;models&#x27;: [Lasso()],\n",
       "                                         &#x27;models__alpha&#x27;: range(1, 5),\n",
       "                                         &#x27;preprocessor__num__scaler&#x27;: [StandardScaler(),\n",
       "                                                                       MinMaxScaler(),\n",
       "                                                                       &#x27;passthrough&#x27;]}],\n",
       "                   random_state=42, scoring=&#x27;neg_root_mean_squared_error&#x27;)</pre><b>In a Jupyter environment, please rerun this cell to show the HTML representation or trust the notebook. <br />On GitHub, the HTML representation is unable to render, please try loading this page with nbviewer.org.</b></div><div class=\"sk-container\" hidden><div class=\"sk-item sk-dashed-wrapped\"><div class=\"sk-label-container\"><div class=\"sk-label sk-toggleable\"><input class=\"sk-toggleable__control sk-hidden--visually\" id=\"sk-estimator-id-1\" type=\"checkbox\" ><label for=\"sk-estimator-id-1\" class=\"sk-toggleable__label sk-toggleable__label-arrow\">RandomizedSearchCV</label><div class=\"sk-toggleable__content\"><pre>RandomizedSearchCV(cv=10,\n",
       "                   estimator=Pipeline(steps=[(&#x27;preprocessor&#x27;,\n",
       "                                              ColumnTransformer(transformers=[(&#x27;num&#x27;,\n",
       "                                                                               Pipeline(steps=[(&#x27;imputer&#x27;,\n",
       "                                                                                                SimpleImputer()),\n",
       "                                                                                               (&#x27;scaler&#x27;,\n",
       "                                                                                                MinMaxScaler())]),\n",
       "                                                                               [&#x27;f0&#x27;,\n",
       "                                                                                &#x27;f1&#x27;,\n",
       "                                                                                &#x27;f2&#x27;])])),\n",
       "                                             (&#x27;models&#x27;, LinearRegression())]),\n",
       "                   n_jobs=-1,\n",
       "                   param_distributions=[{&#x27;models&#x27;: [LinearRegression()],\n",
       "                                         &#x27;preprocessor__num__scaler&#x27;: [StandardScaler(),\n",
       "                                                                       MinMaxScaler(),\n",
       "                                                                       &#x27;passthrough&#x27;]},\n",
       "                                        {&#x27;models&#x27;: [Ridge(alpha=3)],\n",
       "                                         &#x27;models__alpha&#x27;: range(1, 5),\n",
       "                                         &#x27;preprocessor__num__scaler&#x27;: [StandardScaler(),\n",
       "                                                                       MinMaxScaler(),\n",
       "                                                                       &#x27;passthrough&#x27;]},\n",
       "                                        {&#x27;models&#x27;: [Lasso()],\n",
       "                                         &#x27;models__alpha&#x27;: range(1, 5),\n",
       "                                         &#x27;preprocessor__num__scaler&#x27;: [StandardScaler(),\n",
       "                                                                       MinMaxScaler(),\n",
       "                                                                       &#x27;passthrough&#x27;]}],\n",
       "                   random_state=42, scoring=&#x27;neg_root_mean_squared_error&#x27;)</pre></div></div></div><div class=\"sk-parallel\"><div class=\"sk-parallel-item\"><div class=\"sk-item\"><div class=\"sk-label-container\"><div class=\"sk-label sk-toggleable\"><input class=\"sk-toggleable__control sk-hidden--visually\" id=\"sk-estimator-id-2\" type=\"checkbox\" ><label for=\"sk-estimator-id-2\" class=\"sk-toggleable__label sk-toggleable__label-arrow\">estimator: Pipeline</label><div class=\"sk-toggleable__content\"><pre>Pipeline(steps=[(&#x27;preprocessor&#x27;,\n",
       "                 ColumnTransformer(transformers=[(&#x27;num&#x27;,\n",
       "                                                  Pipeline(steps=[(&#x27;imputer&#x27;,\n",
       "                                                                   SimpleImputer()),\n",
       "                                                                  (&#x27;scaler&#x27;,\n",
       "                                                                   MinMaxScaler())]),\n",
       "                                                  [&#x27;f0&#x27;, &#x27;f1&#x27;, &#x27;f2&#x27;])])),\n",
       "                (&#x27;models&#x27;, LinearRegression())])</pre></div></div></div><div class=\"sk-serial\"><div class=\"sk-item\"><div class=\"sk-serial\"><div class=\"sk-item sk-dashed-wrapped\"><div class=\"sk-label-container\"><div class=\"sk-label sk-toggleable\"><input class=\"sk-toggleable__control sk-hidden--visually\" id=\"sk-estimator-id-3\" type=\"checkbox\" ><label for=\"sk-estimator-id-3\" class=\"sk-toggleable__label sk-toggleable__label-arrow\">preprocessor: ColumnTransformer</label><div class=\"sk-toggleable__content\"><pre>ColumnTransformer(transformers=[(&#x27;num&#x27;,\n",
       "                                 Pipeline(steps=[(&#x27;imputer&#x27;, SimpleImputer()),\n",
       "                                                 (&#x27;scaler&#x27;, MinMaxScaler())]),\n",
       "                                 [&#x27;f0&#x27;, &#x27;f1&#x27;, &#x27;f2&#x27;])])</pre></div></div></div><div class=\"sk-parallel\"><div class=\"sk-parallel-item\"><div class=\"sk-item\"><div class=\"sk-label-container\"><div class=\"sk-label sk-toggleable\"><input class=\"sk-toggleable__control sk-hidden--visually\" id=\"sk-estimator-id-4\" type=\"checkbox\" ><label for=\"sk-estimator-id-4\" class=\"sk-toggleable__label sk-toggleable__label-arrow\">num</label><div class=\"sk-toggleable__content\"><pre>[&#x27;f0&#x27;, &#x27;f1&#x27;, &#x27;f2&#x27;]</pre></div></div></div><div class=\"sk-serial\"><div class=\"sk-item\"><div class=\"sk-serial\"><div class=\"sk-item\"><div class=\"sk-estimator sk-toggleable\"><input class=\"sk-toggleable__control sk-hidden--visually\" id=\"sk-estimator-id-5\" type=\"checkbox\" ><label for=\"sk-estimator-id-5\" class=\"sk-toggleable__label sk-toggleable__label-arrow\">SimpleImputer</label><div class=\"sk-toggleable__content\"><pre>SimpleImputer()</pre></div></div></div><div class=\"sk-item\"><div class=\"sk-estimator sk-toggleable\"><input class=\"sk-toggleable__control sk-hidden--visually\" id=\"sk-estimator-id-6\" type=\"checkbox\" ><label for=\"sk-estimator-id-6\" class=\"sk-toggleable__label sk-toggleable__label-arrow\">MinMaxScaler</label><div class=\"sk-toggleable__content\"><pre>MinMaxScaler()</pre></div></div></div></div></div></div></div></div></div></div><div class=\"sk-item\"><div class=\"sk-estimator sk-toggleable\"><input class=\"sk-toggleable__control sk-hidden--visually\" id=\"sk-estimator-id-7\" type=\"checkbox\" ><label for=\"sk-estimator-id-7\" class=\"sk-toggleable__label sk-toggleable__label-arrow\">LinearRegression</label><div class=\"sk-toggleable__content\"><pre>LinearRegression()</pre></div></div></div></div></div></div></div></div></div></div></div></div>"
      ],
      "text/plain": [
       "RandomizedSearchCV(cv=10,\n",
       "                   estimator=Pipeline(steps=[('preprocessor',\n",
       "                                              ColumnTransformer(transformers=[('num',\n",
       "                                                                               Pipeline(steps=[('imputer',\n",
       "                                                                                                SimpleImputer()),\n",
       "                                                                                               ('scaler',\n",
       "                                                                                                MinMaxScaler())]),\n",
       "                                                                               ['f0',\n",
       "                                                                                'f1',\n",
       "                                                                                'f2'])])),\n",
       "                                             ('models', LinearRegression())]),\n",
       "                   n_jobs=-1,\n",
       "                   param_distributions=[{'models': [LinearRegression()],\n",
       "                                         'preprocessor__num__scaler': [StandardScaler(),\n",
       "                                                                       MinMaxScaler(),\n",
       "                                                                       'passthrough']},\n",
       "                                        {'models': [Ridge(alpha=3)],\n",
       "                                         'models__alpha': range(1, 5),\n",
       "                                         'preprocessor__num__scaler': [StandardScaler(),\n",
       "                                                                       MinMaxScaler(),\n",
       "                                                                       'passthrough']},\n",
       "                                        {'models': [Lasso()],\n",
       "                                         'models__alpha': range(1, 5),\n",
       "                                         'preprocessor__num__scaler': [StandardScaler(),\n",
       "                                                                       MinMaxScaler(),\n",
       "                                                                       'passthrough']}],\n",
       "                   random_state=42, scoring='neg_root_mean_squared_error')"
      ]
     },
     "execution_count": 24,
     "metadata": {},
     "output_type": "execute_result"
    }
   ],
   "source": [
    "randomized_search_1 = RandomizedSearchCV(\n",
    "    pipe_final, \n",
    "    param_grid, \n",
    "    cv=10,\n",
    "    scoring='neg_root_mean_squared_error',\n",
    "    random_state=RANDOM_STATE,\n",
    "    n_jobs=-1\n",
    ")\n",
    "randomized_search_1.fit(X_train_1, y_train_1)"
   ]
  },
  {
   "cell_type": "code",
   "execution_count": 25,
   "metadata": {},
   "outputs": [
    {
     "name": "stdout",
     "output_type": "stream",
     "text": [
      "Лучшая модель и её параметры:\n",
      "\n",
      " Pipeline(steps=[('preprocessor',\n",
      "                 ColumnTransformer(transformers=[('num',\n",
      "                                                  Pipeline(steps=[('imputer',\n",
      "                                                                   SimpleImputer()),\n",
      "                                                                  ('scaler',\n",
      "                                                                   'passthrough')]),\n",
      "                                                  ['f0', 'f1', 'f2'])])),\n",
      "                ('models', Ridge(alpha=3))])\n",
      "Метрика лучшей модели с кросс-валидацией: 37.69622930190594\n"
     ]
    }
   ],
   "source": [
    "print('Лучшая модель и её параметры:\\n\\n', randomized_search_1.best_estimator_)\n",
    "print ('Метрика лучшей модели с кросс-валидацией:', -randomized_search_1.best_score_)"
   ]
  },
  {
   "cell_type": "code",
   "execution_count": 26,
   "metadata": {
    "scrolled": true
   },
   "outputs": [
    {
     "name": "stdout",
     "output_type": "stream",
     "text": [
      "Средний запас предсказанного сырья: 92.60983044819855\n",
      "RMSE = 37.68508883499026\n"
     ]
    }
   ],
   "source": [
    "model_1 = randomized_search_1.best_estimator_\n",
    "y_pred_1 = model_1.predict(X_test_1)\n",
    "print(f\"Средний запас предсказанного сырья: {y_pred_1.mean()}\")\n",
    "print(f\"RMSE = {mean_squared_error(y_test_1, y_pred_1, squared=False)}\")"
   ]
  },
  {
   "cell_type": "markdown",
   "metadata": {},
   "source": [
    "### Второй регион"
   ]
  },
  {
   "cell_type": "code",
   "execution_count": 27,
   "metadata": {},
   "outputs": [
    {
     "data": {
      "text/html": [
       "<style>#sk-container-id-2 {color: black;background-color: white;}#sk-container-id-2 pre{padding: 0;}#sk-container-id-2 div.sk-toggleable {background-color: white;}#sk-container-id-2 label.sk-toggleable__label {cursor: pointer;display: block;width: 100%;margin-bottom: 0;padding: 0.3em;box-sizing: border-box;text-align: center;}#sk-container-id-2 label.sk-toggleable__label-arrow:before {content: \"▸\";float: left;margin-right: 0.25em;color: #696969;}#sk-container-id-2 label.sk-toggleable__label-arrow:hover:before {color: black;}#sk-container-id-2 div.sk-estimator:hover label.sk-toggleable__label-arrow:before {color: black;}#sk-container-id-2 div.sk-toggleable__content {max-height: 0;max-width: 0;overflow: hidden;text-align: left;background-color: #f0f8ff;}#sk-container-id-2 div.sk-toggleable__content pre {margin: 0.2em;color: black;border-radius: 0.25em;background-color: #f0f8ff;}#sk-container-id-2 input.sk-toggleable__control:checked~div.sk-toggleable__content {max-height: 200px;max-width: 100%;overflow: auto;}#sk-container-id-2 input.sk-toggleable__control:checked~label.sk-toggleable__label-arrow:before {content: \"▾\";}#sk-container-id-2 div.sk-estimator input.sk-toggleable__control:checked~label.sk-toggleable__label {background-color: #d4ebff;}#sk-container-id-2 div.sk-label input.sk-toggleable__control:checked~label.sk-toggleable__label {background-color: #d4ebff;}#sk-container-id-2 input.sk-hidden--visually {border: 0;clip: rect(1px 1px 1px 1px);clip: rect(1px, 1px, 1px, 1px);height: 1px;margin: -1px;overflow: hidden;padding: 0;position: absolute;width: 1px;}#sk-container-id-2 div.sk-estimator {font-family: monospace;background-color: #f0f8ff;border: 1px dotted black;border-radius: 0.25em;box-sizing: border-box;margin-bottom: 0.5em;}#sk-container-id-2 div.sk-estimator:hover {background-color: #d4ebff;}#sk-container-id-2 div.sk-parallel-item::after {content: \"\";width: 100%;border-bottom: 1px solid gray;flex-grow: 1;}#sk-container-id-2 div.sk-label:hover label.sk-toggleable__label {background-color: #d4ebff;}#sk-container-id-2 div.sk-serial::before {content: \"\";position: absolute;border-left: 1px solid gray;box-sizing: border-box;top: 0;bottom: 0;left: 50%;z-index: 0;}#sk-container-id-2 div.sk-serial {display: flex;flex-direction: column;align-items: center;background-color: white;padding-right: 0.2em;padding-left: 0.2em;position: relative;}#sk-container-id-2 div.sk-item {position: relative;z-index: 1;}#sk-container-id-2 div.sk-parallel {display: flex;align-items: stretch;justify-content: center;background-color: white;position: relative;}#sk-container-id-2 div.sk-item::before, #sk-container-id-2 div.sk-parallel-item::before {content: \"\";position: absolute;border-left: 1px solid gray;box-sizing: border-box;top: 0;bottom: 0;left: 50%;z-index: -1;}#sk-container-id-2 div.sk-parallel-item {display: flex;flex-direction: column;z-index: 1;position: relative;background-color: white;}#sk-container-id-2 div.sk-parallel-item:first-child::after {align-self: flex-end;width: 50%;}#sk-container-id-2 div.sk-parallel-item:last-child::after {align-self: flex-start;width: 50%;}#sk-container-id-2 div.sk-parallel-item:only-child::after {width: 0;}#sk-container-id-2 div.sk-dashed-wrapped {border: 1px dashed gray;margin: 0 0.4em 0.5em 0.4em;box-sizing: border-box;padding-bottom: 0.4em;background-color: white;}#sk-container-id-2 div.sk-label label {font-family: monospace;font-weight: bold;display: inline-block;line-height: 1.2em;}#sk-container-id-2 div.sk-label-container {text-align: center;}#sk-container-id-2 div.sk-container {/* jupyter's `normalize.less` sets `[hidden] { display: none; }` but bootstrap.min.css set `[hidden] { display: none !important; }` so we also need the `!important` here to be able to override the default hidden behavior on the sphinx rendered scikit-learn.org. See: https://github.com/scikit-learn/scikit-learn/issues/21755 */display: inline-block !important;position: relative;}#sk-container-id-2 div.sk-text-repr-fallback {display: none;}</style><div id=\"sk-container-id-2\" class=\"sk-top-container\"><div class=\"sk-text-repr-fallback\"><pre>RandomizedSearchCV(cv=10,\n",
       "                   estimator=Pipeline(steps=[(&#x27;preprocessor&#x27;,\n",
       "                                              ColumnTransformer(transformers=[(&#x27;num&#x27;,\n",
       "                                                                               Pipeline(steps=[(&#x27;imputer&#x27;,\n",
       "                                                                                                SimpleImputer()),\n",
       "                                                                                               (&#x27;scaler&#x27;,\n",
       "                                                                                                MinMaxScaler())]),\n",
       "                                                                               [&#x27;f0&#x27;,\n",
       "                                                                                &#x27;f1&#x27;,\n",
       "                                                                                &#x27;f2&#x27;])])),\n",
       "                                             (&#x27;models&#x27;, LinearRegression())]),\n",
       "                   n_jobs=-1,\n",
       "                   param_distributions=[{&#x27;models&#x27;: [LinearRegression()],\n",
       "                                         &#x27;preprocessor__num__scaler&#x27;: [StandardScaler(),\n",
       "                                                                       MinMaxScaler(),\n",
       "                                                                       &#x27;passthrough&#x27;]},\n",
       "                                        {&#x27;models&#x27;: [Ridge(alpha=3)],\n",
       "                                         &#x27;models__alpha&#x27;: range(1, 5),\n",
       "                                         &#x27;preprocessor__num__scaler&#x27;: [StandardScaler(),\n",
       "                                                                       MinMaxScaler(),\n",
       "                                                                       &#x27;passthrough&#x27;]},\n",
       "                                        {&#x27;models&#x27;: [Lasso()],\n",
       "                                         &#x27;models__alpha&#x27;: range(1, 5),\n",
       "                                         &#x27;preprocessor__num__scaler&#x27;: [StandardScaler(),\n",
       "                                                                       MinMaxScaler(),\n",
       "                                                                       &#x27;passthrough&#x27;]}],\n",
       "                   random_state=42, scoring=&#x27;neg_root_mean_squared_error&#x27;)</pre><b>In a Jupyter environment, please rerun this cell to show the HTML representation or trust the notebook. <br />On GitHub, the HTML representation is unable to render, please try loading this page with nbviewer.org.</b></div><div class=\"sk-container\" hidden><div class=\"sk-item sk-dashed-wrapped\"><div class=\"sk-label-container\"><div class=\"sk-label sk-toggleable\"><input class=\"sk-toggleable__control sk-hidden--visually\" id=\"sk-estimator-id-8\" type=\"checkbox\" ><label for=\"sk-estimator-id-8\" class=\"sk-toggleable__label sk-toggleable__label-arrow\">RandomizedSearchCV</label><div class=\"sk-toggleable__content\"><pre>RandomizedSearchCV(cv=10,\n",
       "                   estimator=Pipeline(steps=[(&#x27;preprocessor&#x27;,\n",
       "                                              ColumnTransformer(transformers=[(&#x27;num&#x27;,\n",
       "                                                                               Pipeline(steps=[(&#x27;imputer&#x27;,\n",
       "                                                                                                SimpleImputer()),\n",
       "                                                                                               (&#x27;scaler&#x27;,\n",
       "                                                                                                MinMaxScaler())]),\n",
       "                                                                               [&#x27;f0&#x27;,\n",
       "                                                                                &#x27;f1&#x27;,\n",
       "                                                                                &#x27;f2&#x27;])])),\n",
       "                                             (&#x27;models&#x27;, LinearRegression())]),\n",
       "                   n_jobs=-1,\n",
       "                   param_distributions=[{&#x27;models&#x27;: [LinearRegression()],\n",
       "                                         &#x27;preprocessor__num__scaler&#x27;: [StandardScaler(),\n",
       "                                                                       MinMaxScaler(),\n",
       "                                                                       &#x27;passthrough&#x27;]},\n",
       "                                        {&#x27;models&#x27;: [Ridge(alpha=3)],\n",
       "                                         &#x27;models__alpha&#x27;: range(1, 5),\n",
       "                                         &#x27;preprocessor__num__scaler&#x27;: [StandardScaler(),\n",
       "                                                                       MinMaxScaler(),\n",
       "                                                                       &#x27;passthrough&#x27;]},\n",
       "                                        {&#x27;models&#x27;: [Lasso()],\n",
       "                                         &#x27;models__alpha&#x27;: range(1, 5),\n",
       "                                         &#x27;preprocessor__num__scaler&#x27;: [StandardScaler(),\n",
       "                                                                       MinMaxScaler(),\n",
       "                                                                       &#x27;passthrough&#x27;]}],\n",
       "                   random_state=42, scoring=&#x27;neg_root_mean_squared_error&#x27;)</pre></div></div></div><div class=\"sk-parallel\"><div class=\"sk-parallel-item\"><div class=\"sk-item\"><div class=\"sk-label-container\"><div class=\"sk-label sk-toggleable\"><input class=\"sk-toggleable__control sk-hidden--visually\" id=\"sk-estimator-id-9\" type=\"checkbox\" ><label for=\"sk-estimator-id-9\" class=\"sk-toggleable__label sk-toggleable__label-arrow\">estimator: Pipeline</label><div class=\"sk-toggleable__content\"><pre>Pipeline(steps=[(&#x27;preprocessor&#x27;,\n",
       "                 ColumnTransformer(transformers=[(&#x27;num&#x27;,\n",
       "                                                  Pipeline(steps=[(&#x27;imputer&#x27;,\n",
       "                                                                   SimpleImputer()),\n",
       "                                                                  (&#x27;scaler&#x27;,\n",
       "                                                                   MinMaxScaler())]),\n",
       "                                                  [&#x27;f0&#x27;, &#x27;f1&#x27;, &#x27;f2&#x27;])])),\n",
       "                (&#x27;models&#x27;, LinearRegression())])</pre></div></div></div><div class=\"sk-serial\"><div class=\"sk-item\"><div class=\"sk-serial\"><div class=\"sk-item sk-dashed-wrapped\"><div class=\"sk-label-container\"><div class=\"sk-label sk-toggleable\"><input class=\"sk-toggleable__control sk-hidden--visually\" id=\"sk-estimator-id-10\" type=\"checkbox\" ><label for=\"sk-estimator-id-10\" class=\"sk-toggleable__label sk-toggleable__label-arrow\">preprocessor: ColumnTransformer</label><div class=\"sk-toggleable__content\"><pre>ColumnTransformer(transformers=[(&#x27;num&#x27;,\n",
       "                                 Pipeline(steps=[(&#x27;imputer&#x27;, SimpleImputer()),\n",
       "                                                 (&#x27;scaler&#x27;, MinMaxScaler())]),\n",
       "                                 [&#x27;f0&#x27;, &#x27;f1&#x27;, &#x27;f2&#x27;])])</pre></div></div></div><div class=\"sk-parallel\"><div class=\"sk-parallel-item\"><div class=\"sk-item\"><div class=\"sk-label-container\"><div class=\"sk-label sk-toggleable\"><input class=\"sk-toggleable__control sk-hidden--visually\" id=\"sk-estimator-id-11\" type=\"checkbox\" ><label for=\"sk-estimator-id-11\" class=\"sk-toggleable__label sk-toggleable__label-arrow\">num</label><div class=\"sk-toggleable__content\"><pre>[&#x27;f0&#x27;, &#x27;f1&#x27;, &#x27;f2&#x27;]</pre></div></div></div><div class=\"sk-serial\"><div class=\"sk-item\"><div class=\"sk-serial\"><div class=\"sk-item\"><div class=\"sk-estimator sk-toggleable\"><input class=\"sk-toggleable__control sk-hidden--visually\" id=\"sk-estimator-id-12\" type=\"checkbox\" ><label for=\"sk-estimator-id-12\" class=\"sk-toggleable__label sk-toggleable__label-arrow\">SimpleImputer</label><div class=\"sk-toggleable__content\"><pre>SimpleImputer()</pre></div></div></div><div class=\"sk-item\"><div class=\"sk-estimator sk-toggleable\"><input class=\"sk-toggleable__control sk-hidden--visually\" id=\"sk-estimator-id-13\" type=\"checkbox\" ><label for=\"sk-estimator-id-13\" class=\"sk-toggleable__label sk-toggleable__label-arrow\">MinMaxScaler</label><div class=\"sk-toggleable__content\"><pre>MinMaxScaler()</pre></div></div></div></div></div></div></div></div></div></div><div class=\"sk-item\"><div class=\"sk-estimator sk-toggleable\"><input class=\"sk-toggleable__control sk-hidden--visually\" id=\"sk-estimator-id-14\" type=\"checkbox\" ><label for=\"sk-estimator-id-14\" class=\"sk-toggleable__label sk-toggleable__label-arrow\">LinearRegression</label><div class=\"sk-toggleable__content\"><pre>LinearRegression()</pre></div></div></div></div></div></div></div></div></div></div></div></div>"
      ],
      "text/plain": [
       "RandomizedSearchCV(cv=10,\n",
       "                   estimator=Pipeline(steps=[('preprocessor',\n",
       "                                              ColumnTransformer(transformers=[('num',\n",
       "                                                                               Pipeline(steps=[('imputer',\n",
       "                                                                                                SimpleImputer()),\n",
       "                                                                                               ('scaler',\n",
       "                                                                                                MinMaxScaler())]),\n",
       "                                                                               ['f0',\n",
       "                                                                                'f1',\n",
       "                                                                                'f2'])])),\n",
       "                                             ('models', LinearRegression())]),\n",
       "                   n_jobs=-1,\n",
       "                   param_distributions=[{'models': [LinearRegression()],\n",
       "                                         'preprocessor__num__scaler': [StandardScaler(),\n",
       "                                                                       MinMaxScaler(),\n",
       "                                                                       'passthrough']},\n",
       "                                        {'models': [Ridge(alpha=3)],\n",
       "                                         'models__alpha': range(1, 5),\n",
       "                                         'preprocessor__num__scaler': [StandardScaler(),\n",
       "                                                                       MinMaxScaler(),\n",
       "                                                                       'passthrough']},\n",
       "                                        {'models': [Lasso()],\n",
       "                                         'models__alpha': range(1, 5),\n",
       "                                         'preprocessor__num__scaler': [StandardScaler(),\n",
       "                                                                       MinMaxScaler(),\n",
       "                                                                       'passthrough']}],\n",
       "                   random_state=42, scoring='neg_root_mean_squared_error')"
      ]
     },
     "execution_count": 27,
     "metadata": {},
     "output_type": "execute_result"
    }
   ],
   "source": [
    "randomized_search_2 = RandomizedSearchCV(\n",
    "    pipe_final, \n",
    "    param_grid, \n",
    "    cv=10,\n",
    "    scoring='neg_root_mean_squared_error',\n",
    "    random_state=RANDOM_STATE,\n",
    "    n_jobs=-1\n",
    ")\n",
    "randomized_search_2.fit(X_train_2, y_train_2)"
   ]
  },
  {
   "cell_type": "code",
   "execution_count": 28,
   "metadata": {},
   "outputs": [
    {
     "name": "stdout",
     "output_type": "stream",
     "text": [
      "Лучшая модель и её параметры:\n",
      "\n",
      " Pipeline(steps=[('preprocessor',\n",
      "                 ColumnTransformer(transformers=[('num',\n",
      "                                                  Pipeline(steps=[('imputer',\n",
      "                                                                   SimpleImputer()),\n",
      "                                                                  ('scaler',\n",
      "                                                                   StandardScaler())]),\n",
      "                                                  ['f0', 'f1', 'f2'])])),\n",
      "                ('models', LinearRegression())])\n",
      "Метрика лучшей модели с кросс-валидацией: 0.8895937454503166\n"
     ]
    }
   ],
   "source": [
    "print('Лучшая модель и её параметры:\\n\\n', randomized_search_2.best_estimator_)\n",
    "print ('Метрика лучшей модели с кросс-валидацией:', -randomized_search_2.best_score_)"
   ]
  },
  {
   "cell_type": "code",
   "execution_count": 29,
   "metadata": {
    "scrolled": true
   },
   "outputs": [
    {
     "name": "stdout",
     "output_type": "stream",
     "text": [
      "Средний запас предсказанного сырья: 68.57703454115173\n",
      "RMSE = 0.8928265978121422\n"
     ]
    }
   ],
   "source": [
    "model_2 = randomized_search_2.best_estimator_\n",
    "y_pred_2 = model_2.predict(X_test_2)\n",
    "print(f\"Средний запас предсказанного сырья: {y_pred_2.mean()}\")\n",
    "print(f\"RMSE = {mean_squared_error(y_test_2, y_pred_2, squared=False)}\")"
   ]
  },
  {
   "cell_type": "markdown",
   "metadata": {},
   "source": [
    "### Третий регион"
   ]
  },
  {
   "cell_type": "code",
   "execution_count": 30,
   "metadata": {},
   "outputs": [
    {
     "data": {
      "text/html": [
       "<style>#sk-container-id-3 {color: black;background-color: white;}#sk-container-id-3 pre{padding: 0;}#sk-container-id-3 div.sk-toggleable {background-color: white;}#sk-container-id-3 label.sk-toggleable__label {cursor: pointer;display: block;width: 100%;margin-bottom: 0;padding: 0.3em;box-sizing: border-box;text-align: center;}#sk-container-id-3 label.sk-toggleable__label-arrow:before {content: \"▸\";float: left;margin-right: 0.25em;color: #696969;}#sk-container-id-3 label.sk-toggleable__label-arrow:hover:before {color: black;}#sk-container-id-3 div.sk-estimator:hover label.sk-toggleable__label-arrow:before {color: black;}#sk-container-id-3 div.sk-toggleable__content {max-height: 0;max-width: 0;overflow: hidden;text-align: left;background-color: #f0f8ff;}#sk-container-id-3 div.sk-toggleable__content pre {margin: 0.2em;color: black;border-radius: 0.25em;background-color: #f0f8ff;}#sk-container-id-3 input.sk-toggleable__control:checked~div.sk-toggleable__content {max-height: 200px;max-width: 100%;overflow: auto;}#sk-container-id-3 input.sk-toggleable__control:checked~label.sk-toggleable__label-arrow:before {content: \"▾\";}#sk-container-id-3 div.sk-estimator input.sk-toggleable__control:checked~label.sk-toggleable__label {background-color: #d4ebff;}#sk-container-id-3 div.sk-label input.sk-toggleable__control:checked~label.sk-toggleable__label {background-color: #d4ebff;}#sk-container-id-3 input.sk-hidden--visually {border: 0;clip: rect(1px 1px 1px 1px);clip: rect(1px, 1px, 1px, 1px);height: 1px;margin: -1px;overflow: hidden;padding: 0;position: absolute;width: 1px;}#sk-container-id-3 div.sk-estimator {font-family: monospace;background-color: #f0f8ff;border: 1px dotted black;border-radius: 0.25em;box-sizing: border-box;margin-bottom: 0.5em;}#sk-container-id-3 div.sk-estimator:hover {background-color: #d4ebff;}#sk-container-id-3 div.sk-parallel-item::after {content: \"\";width: 100%;border-bottom: 1px solid gray;flex-grow: 1;}#sk-container-id-3 div.sk-label:hover label.sk-toggleable__label {background-color: #d4ebff;}#sk-container-id-3 div.sk-serial::before {content: \"\";position: absolute;border-left: 1px solid gray;box-sizing: border-box;top: 0;bottom: 0;left: 50%;z-index: 0;}#sk-container-id-3 div.sk-serial {display: flex;flex-direction: column;align-items: center;background-color: white;padding-right: 0.2em;padding-left: 0.2em;position: relative;}#sk-container-id-3 div.sk-item {position: relative;z-index: 1;}#sk-container-id-3 div.sk-parallel {display: flex;align-items: stretch;justify-content: center;background-color: white;position: relative;}#sk-container-id-3 div.sk-item::before, #sk-container-id-3 div.sk-parallel-item::before {content: \"\";position: absolute;border-left: 1px solid gray;box-sizing: border-box;top: 0;bottom: 0;left: 50%;z-index: -1;}#sk-container-id-3 div.sk-parallel-item {display: flex;flex-direction: column;z-index: 1;position: relative;background-color: white;}#sk-container-id-3 div.sk-parallel-item:first-child::after {align-self: flex-end;width: 50%;}#sk-container-id-3 div.sk-parallel-item:last-child::after {align-self: flex-start;width: 50%;}#sk-container-id-3 div.sk-parallel-item:only-child::after {width: 0;}#sk-container-id-3 div.sk-dashed-wrapped {border: 1px dashed gray;margin: 0 0.4em 0.5em 0.4em;box-sizing: border-box;padding-bottom: 0.4em;background-color: white;}#sk-container-id-3 div.sk-label label {font-family: monospace;font-weight: bold;display: inline-block;line-height: 1.2em;}#sk-container-id-3 div.sk-label-container {text-align: center;}#sk-container-id-3 div.sk-container {/* jupyter's `normalize.less` sets `[hidden] { display: none; }` but bootstrap.min.css set `[hidden] { display: none !important; }` so we also need the `!important` here to be able to override the default hidden behavior on the sphinx rendered scikit-learn.org. See: https://github.com/scikit-learn/scikit-learn/issues/21755 */display: inline-block !important;position: relative;}#sk-container-id-3 div.sk-text-repr-fallback {display: none;}</style><div id=\"sk-container-id-3\" class=\"sk-top-container\"><div class=\"sk-text-repr-fallback\"><pre>RandomizedSearchCV(cv=10,\n",
       "                   estimator=Pipeline(steps=[(&#x27;preprocessor&#x27;,\n",
       "                                              ColumnTransformer(transformers=[(&#x27;num&#x27;,\n",
       "                                                                               Pipeline(steps=[(&#x27;imputer&#x27;,\n",
       "                                                                                                SimpleImputer()),\n",
       "                                                                                               (&#x27;scaler&#x27;,\n",
       "                                                                                                MinMaxScaler())]),\n",
       "                                                                               [&#x27;f0&#x27;,\n",
       "                                                                                &#x27;f1&#x27;,\n",
       "                                                                                &#x27;f2&#x27;])])),\n",
       "                                             (&#x27;models&#x27;, LinearRegression())]),\n",
       "                   n_jobs=-1,\n",
       "                   param_distributions=[{&#x27;models&#x27;: [LinearRegression()],\n",
       "                                         &#x27;preprocessor__num__scaler&#x27;: [StandardScaler(),\n",
       "                                                                       MinMaxScaler(),\n",
       "                                                                       &#x27;passthrough&#x27;]},\n",
       "                                        {&#x27;models&#x27;: [Ridge(alpha=4)],\n",
       "                                         &#x27;models__alpha&#x27;: range(1, 5),\n",
       "                                         &#x27;preprocessor__num__scaler&#x27;: [StandardScaler(),\n",
       "                                                                       MinMaxScaler(),\n",
       "                                                                       &#x27;passthrough&#x27;]},\n",
       "                                        {&#x27;models&#x27;: [Lasso()],\n",
       "                                         &#x27;models__alpha&#x27;: range(1, 5),\n",
       "                                         &#x27;preprocessor__num__scaler&#x27;: [StandardScaler(),\n",
       "                                                                       MinMaxScaler(),\n",
       "                                                                       &#x27;passthrough&#x27;]}],\n",
       "                   random_state=42, scoring=&#x27;neg_root_mean_squared_error&#x27;)</pre><b>In a Jupyter environment, please rerun this cell to show the HTML representation or trust the notebook. <br />On GitHub, the HTML representation is unable to render, please try loading this page with nbviewer.org.</b></div><div class=\"sk-container\" hidden><div class=\"sk-item sk-dashed-wrapped\"><div class=\"sk-label-container\"><div class=\"sk-label sk-toggleable\"><input class=\"sk-toggleable__control sk-hidden--visually\" id=\"sk-estimator-id-15\" type=\"checkbox\" ><label for=\"sk-estimator-id-15\" class=\"sk-toggleable__label sk-toggleable__label-arrow\">RandomizedSearchCV</label><div class=\"sk-toggleable__content\"><pre>RandomizedSearchCV(cv=10,\n",
       "                   estimator=Pipeline(steps=[(&#x27;preprocessor&#x27;,\n",
       "                                              ColumnTransformer(transformers=[(&#x27;num&#x27;,\n",
       "                                                                               Pipeline(steps=[(&#x27;imputer&#x27;,\n",
       "                                                                                                SimpleImputer()),\n",
       "                                                                                               (&#x27;scaler&#x27;,\n",
       "                                                                                                MinMaxScaler())]),\n",
       "                                                                               [&#x27;f0&#x27;,\n",
       "                                                                                &#x27;f1&#x27;,\n",
       "                                                                                &#x27;f2&#x27;])])),\n",
       "                                             (&#x27;models&#x27;, LinearRegression())]),\n",
       "                   n_jobs=-1,\n",
       "                   param_distributions=[{&#x27;models&#x27;: [LinearRegression()],\n",
       "                                         &#x27;preprocessor__num__scaler&#x27;: [StandardScaler(),\n",
       "                                                                       MinMaxScaler(),\n",
       "                                                                       &#x27;passthrough&#x27;]},\n",
       "                                        {&#x27;models&#x27;: [Ridge(alpha=4)],\n",
       "                                         &#x27;models__alpha&#x27;: range(1, 5),\n",
       "                                         &#x27;preprocessor__num__scaler&#x27;: [StandardScaler(),\n",
       "                                                                       MinMaxScaler(),\n",
       "                                                                       &#x27;passthrough&#x27;]},\n",
       "                                        {&#x27;models&#x27;: [Lasso()],\n",
       "                                         &#x27;models__alpha&#x27;: range(1, 5),\n",
       "                                         &#x27;preprocessor__num__scaler&#x27;: [StandardScaler(),\n",
       "                                                                       MinMaxScaler(),\n",
       "                                                                       &#x27;passthrough&#x27;]}],\n",
       "                   random_state=42, scoring=&#x27;neg_root_mean_squared_error&#x27;)</pre></div></div></div><div class=\"sk-parallel\"><div class=\"sk-parallel-item\"><div class=\"sk-item\"><div class=\"sk-label-container\"><div class=\"sk-label sk-toggleable\"><input class=\"sk-toggleable__control sk-hidden--visually\" id=\"sk-estimator-id-16\" type=\"checkbox\" ><label for=\"sk-estimator-id-16\" class=\"sk-toggleable__label sk-toggleable__label-arrow\">estimator: Pipeline</label><div class=\"sk-toggleable__content\"><pre>Pipeline(steps=[(&#x27;preprocessor&#x27;,\n",
       "                 ColumnTransformer(transformers=[(&#x27;num&#x27;,\n",
       "                                                  Pipeline(steps=[(&#x27;imputer&#x27;,\n",
       "                                                                   SimpleImputer()),\n",
       "                                                                  (&#x27;scaler&#x27;,\n",
       "                                                                   MinMaxScaler())]),\n",
       "                                                  [&#x27;f0&#x27;, &#x27;f1&#x27;, &#x27;f2&#x27;])])),\n",
       "                (&#x27;models&#x27;, LinearRegression())])</pre></div></div></div><div class=\"sk-serial\"><div class=\"sk-item\"><div class=\"sk-serial\"><div class=\"sk-item sk-dashed-wrapped\"><div class=\"sk-label-container\"><div class=\"sk-label sk-toggleable\"><input class=\"sk-toggleable__control sk-hidden--visually\" id=\"sk-estimator-id-17\" type=\"checkbox\" ><label for=\"sk-estimator-id-17\" class=\"sk-toggleable__label sk-toggleable__label-arrow\">preprocessor: ColumnTransformer</label><div class=\"sk-toggleable__content\"><pre>ColumnTransformer(transformers=[(&#x27;num&#x27;,\n",
       "                                 Pipeline(steps=[(&#x27;imputer&#x27;, SimpleImputer()),\n",
       "                                                 (&#x27;scaler&#x27;, MinMaxScaler())]),\n",
       "                                 [&#x27;f0&#x27;, &#x27;f1&#x27;, &#x27;f2&#x27;])])</pre></div></div></div><div class=\"sk-parallel\"><div class=\"sk-parallel-item\"><div class=\"sk-item\"><div class=\"sk-label-container\"><div class=\"sk-label sk-toggleable\"><input class=\"sk-toggleable__control sk-hidden--visually\" id=\"sk-estimator-id-18\" type=\"checkbox\" ><label for=\"sk-estimator-id-18\" class=\"sk-toggleable__label sk-toggleable__label-arrow\">num</label><div class=\"sk-toggleable__content\"><pre>[&#x27;f0&#x27;, &#x27;f1&#x27;, &#x27;f2&#x27;]</pre></div></div></div><div class=\"sk-serial\"><div class=\"sk-item\"><div class=\"sk-serial\"><div class=\"sk-item\"><div class=\"sk-estimator sk-toggleable\"><input class=\"sk-toggleable__control sk-hidden--visually\" id=\"sk-estimator-id-19\" type=\"checkbox\" ><label for=\"sk-estimator-id-19\" class=\"sk-toggleable__label sk-toggleable__label-arrow\">SimpleImputer</label><div class=\"sk-toggleable__content\"><pre>SimpleImputer()</pre></div></div></div><div class=\"sk-item\"><div class=\"sk-estimator sk-toggleable\"><input class=\"sk-toggleable__control sk-hidden--visually\" id=\"sk-estimator-id-20\" type=\"checkbox\" ><label for=\"sk-estimator-id-20\" class=\"sk-toggleable__label sk-toggleable__label-arrow\">MinMaxScaler</label><div class=\"sk-toggleable__content\"><pre>MinMaxScaler()</pre></div></div></div></div></div></div></div></div></div></div><div class=\"sk-item\"><div class=\"sk-estimator sk-toggleable\"><input class=\"sk-toggleable__control sk-hidden--visually\" id=\"sk-estimator-id-21\" type=\"checkbox\" ><label for=\"sk-estimator-id-21\" class=\"sk-toggleable__label sk-toggleable__label-arrow\">LinearRegression</label><div class=\"sk-toggleable__content\"><pre>LinearRegression()</pre></div></div></div></div></div></div></div></div></div></div></div></div>"
      ],
      "text/plain": [
       "RandomizedSearchCV(cv=10,\n",
       "                   estimator=Pipeline(steps=[('preprocessor',\n",
       "                                              ColumnTransformer(transformers=[('num',\n",
       "                                                                               Pipeline(steps=[('imputer',\n",
       "                                                                                                SimpleImputer()),\n",
       "                                                                                               ('scaler',\n",
       "                                                                                                MinMaxScaler())]),\n",
       "                                                                               ['f0',\n",
       "                                                                                'f1',\n",
       "                                                                                'f2'])])),\n",
       "                                             ('models', LinearRegression())]),\n",
       "                   n_jobs=-1,\n",
       "                   param_distributions=[{'models': [LinearRegression()],\n",
       "                                         'preprocessor__num__scaler': [StandardScaler(),\n",
       "                                                                       MinMaxScaler(),\n",
       "                                                                       'passthrough']},\n",
       "                                        {'models': [Ridge(alpha=4)],\n",
       "                                         'models__alpha': range(1, 5),\n",
       "                                         'preprocessor__num__scaler': [StandardScaler(),\n",
       "                                                                       MinMaxScaler(),\n",
       "                                                                       'passthrough']},\n",
       "                                        {'models': [Lasso()],\n",
       "                                         'models__alpha': range(1, 5),\n",
       "                                         'preprocessor__num__scaler': [StandardScaler(),\n",
       "                                                                       MinMaxScaler(),\n",
       "                                                                       'passthrough']}],\n",
       "                   random_state=42, scoring='neg_root_mean_squared_error')"
      ]
     },
     "execution_count": 30,
     "metadata": {},
     "output_type": "execute_result"
    }
   ],
   "source": [
    "randomized_search_3 = RandomizedSearchCV(\n",
    "    pipe_final, \n",
    "    param_grid, \n",
    "    cv=10,\n",
    "    scoring='neg_root_mean_squared_error',\n",
    "    random_state=RANDOM_STATE,\n",
    "    n_jobs=-1\n",
    ")\n",
    "randomized_search_3.fit(X_train_3, y_train_3)"
   ]
  },
  {
   "cell_type": "code",
   "execution_count": 31,
   "metadata": {},
   "outputs": [
    {
     "name": "stdout",
     "output_type": "stream",
     "text": [
      "Лучшая модель и её параметры:\n",
      "\n",
      " Pipeline(steps=[('preprocessor',\n",
      "                 ColumnTransformer(transformers=[('num',\n",
      "                                                  Pipeline(steps=[('imputer',\n",
      "                                                                   SimpleImputer()),\n",
      "                                                                  ('scaler',\n",
      "                                                                   StandardScaler())]),\n",
      "                                                  ['f0', 'f1', 'f2'])])),\n",
      "                ('models', Ridge(alpha=4))])\n",
      "Метрика лучшей модели с кросс-валидацией: 40.048159811020476\n"
     ]
    }
   ],
   "source": [
    "print('Лучшая модель и её параметры:\\n\\n', randomized_search_3.best_estimator_)\n",
    "print ('Метрика лучшей модели с кросс-валидацией:', -randomized_search_3.best_score_)"
   ]
  },
  {
   "cell_type": "code",
   "execution_count": 32,
   "metadata": {},
   "outputs": [
    {
     "name": "stdout",
     "output_type": "stream",
     "text": [
      "Средний запас предсказанного сырья: 94.93478603297079\n",
      "RMSE = 40.08081854413154\n"
     ]
    }
   ],
   "source": [
    "model_3 = randomized_search_3.best_estimator_\n",
    "y_pred_3 = model_3.predict(X_test_3)\n",
    "print(f\"Средний запас предсказанного сырья: {y_pred_3.mean()}\")\n",
    "print(f\"RMSE = {mean_squared_error(y_test_3, y_pred_3, squared=False)}\")"
   ]
  },
  {
   "cell_type": "markdown",
   "metadata": {},
   "source": [
    "### Вывод"
   ]
  },
  {
   "cell_type": "markdown",
   "metadata": {},
   "source": [
    "Среднее отклонение моделей для 1 и 3 региона практически одинаковы, однако заметим, что RMSE Для второго региона очень мало из-за того, что прзнак `f2` имеет высокую корреляцию с целевым признаком\n",
    "\n",
    "Однако, несмотря на то, что RMSE Для второго региона очень мало, средние запасы во втором регионе составляют всего лишь 68.57, когда в 1 и 3 регионах запасы составляют 92.6 и 94.93 соответственно"
   ]
  },
  {
   "cell_type": "markdown",
   "metadata": {},
   "source": [
    "## Подготовка к расчёту прибыли"
   ]
  },
  {
   "cell_type": "code",
   "execution_count": 33,
   "metadata": {},
   "outputs": [],
   "source": [
    "budget = 10_000_000_000\n",
    "per_unit = 450_000\n",
    "num_to_choose = 200"
   ]
  },
  {
   "cell_type": "markdown",
   "metadata": {},
   "source": [
    "Бюджет на разработку скважин в регионе — 10 млрд рублей.\n",
    "\n",
    "При нынешних ценах один баррель сырья приносит 450 рублей дохода. Доход с каждой единицы продукта составляет 450 тыс. рублей, поскольку объём указан в тысячах баррелей.\n"
   ]
  },
  {
   "cell_type": "code",
   "execution_count": 34,
   "metadata": {},
   "outputs": [
    {
     "name": "stdout",
     "output_type": "stream",
     "text": [
      "Безубыточный обьем сырья для разработки скважины 111.11\n"
     ]
    }
   ],
   "source": [
    "# Безубыточный обьем сырья для разработки скважины\n",
    "print(f\"Безубыточный обьем сырья для разработки скважины {round(budget / per_unit / num_to_choose, 2)}\")"
   ]
  },
  {
   "cell_type": "markdown",
   "metadata": {},
   "source": [
    "Для всех регионов средний запас меньше безубыточного объёма сырья\n",
    "\n",
    "Второй регион имеет средний запас 68.57 тыс. баррелей, что ниже, чем в первом (92.6 тыс. баррелей) и третьем регионах (94.93 тыс. баррелей)."
   ]
  },
  {
   "cell_type": "code",
   "execution_count": 35,
   "metadata": {},
   "outputs": [],
   "source": [
    "y_test_1 = pd.Series(y_test_1.reset_index(drop=True))\n",
    "y_pred_1 = pd.Series(y_pred_1)\n",
    "\n",
    "y_test_2 = pd.Series(y_test_2.reset_index(drop=True))\n",
    "y_pred_2 = pd.Series(y_pred_2)\n",
    "\n",
    "y_test_3 = pd.Series(y_test_3.reset_index(drop=True))\n",
    "y_pred_3 = pd.Series(y_pred_3)"
   ]
  },
  {
   "cell_type": "code",
   "execution_count": 36,
   "metadata": {},
   "outputs": [
    {
     "data": {
      "text/plain": [
       "(0        119.813252\n",
       " 1        133.296862\n",
       " 2         25.310435\n",
       " 3         65.422491\n",
       " 4        140.851476\n",
       "             ...    \n",
       " 24993    106.423368\n",
       " 24994    109.320665\n",
       " 24995     81.920694\n",
       " 24996    147.910750\n",
       " 24997    120.497955\n",
       " Name: product, Length: 24998, dtype: float64,\n",
       " 0        127.487893\n",
       " 1        116.463812\n",
       " 2         66.042243\n",
       " 3         45.010931\n",
       " 4        124.536767\n",
       "             ...    \n",
       " 24993    105.377604\n",
       " 24994    110.380796\n",
       " 24995     64.840244\n",
       " 24996     92.865415\n",
       " 24997     97.137524\n",
       " Length: 24998, dtype: float64)"
      ]
     },
     "execution_count": 36,
     "metadata": {},
     "output_type": "execute_result"
    }
   ],
   "source": [
    "y_test_1, y_pred_1"
   ]
  },
  {
   "cell_type": "markdown",
   "metadata": {},
   "source": [
    "## Расчёт прибыли и рисков "
   ]
  },
  {
   "cell_type": "markdown",
   "metadata": {},
   "source": [
    "Напишем функцию для расчета прибыли по выбранным скважинам"
   ]
  },
  {
   "cell_type": "code",
   "execution_count": 37,
   "metadata": {},
   "outputs": [],
   "source": [
    "def revenue(target, preds):\n",
    "    preds_sorted = preds.sort_values(ascending=False)\n",
    "    selected = target[preds_sorted.index][:num_to_choose]\n",
    "    return round(selected.sum() * per_unit - budget,2)"
   ]
  },
  {
   "cell_type": "code",
   "execution_count": 38,
   "metadata": {
    "scrolled": false
   },
   "outputs": [
    {
     "name": "stdout",
     "output_type": "stream",
     "text": [
      "Прибыль с 1 региона 3468529787.42\n",
      "Прибыль с 2 региона 2415086696.68\n",
      "Прибыль с 3 региона 2396613000.94\n"
     ]
    }
   ],
   "source": [
    "print(f\"Прибыль с 1 региона {revenue(y_test_1, y_pred_1)}\")\n",
    "print(f\"Прибыль с 2 региона {revenue(y_test_2, y_pred_2)}\")\n",
    "print(f\"Прибыль с 3 региона {revenue(y_test_3, y_pred_3)}\")"
   ]
  },
  {
   "cell_type": "markdown",
   "metadata": {},
   "source": [
    "Применим bootstrap"
   ]
  },
  {
   "cell_type": "code",
   "execution_count": 39,
   "metadata": {},
   "outputs": [],
   "source": [
    "from numpy.random import RandomState"
   ]
  },
  {
   "cell_type": "code",
   "execution_count": 40,
   "metadata": {},
   "outputs": [],
   "source": [
    "\n",
    "def bootstrap(target, preds, n_samples=1000, sample_size=500):\n",
    "    values = []\n",
    "    state = RandomState(12345) \n",
    "    for i in range(n_samples):\n",
    "        target_subsample = target.sample(sample_size, replace=True, random_state=state)\n",
    "        preds_subsample = preds[target_subsample.index]   \n",
    "        values.append(revenue(target_subsample, preds_subsample))\n",
    "\n",
    "    values = np.array(values)\n",
    "\n",
    "    # Средняя прибыль\n",
    "    mean_profit = np.mean(values)\n",
    "\n",
    "    # 95%-й доверительный интервал\n",
    "    lower_bound = np.percentile(values, 2.5)\n",
    "    upper_bound = np.percentile(values, 97.5)\n",
    "\n",
    "    # Риск убытков (процент выборок, где прибыль < 0)\n",
    "    risk_of_loss = np.mean(values < 0)\n",
    "\n",
    "    print(f\"Средняя прибыль: {mean_profit:.2f}\")\n",
    "    print(f\"95%-й доверительный интервал: ({lower_bound:.2f}, {upper_bound:.2f})\")\n",
    "    print(f\"Риск убытков: {risk_of_loss:.2%}\")\n",
    "\n",
    "    #return mean_profit, (lower_bound, upper_bound), risk_of_loss"
   ]
  },
  {
   "cell_type": "code",
   "execution_count": 41,
   "metadata": {},
   "outputs": [
    {
     "name": "stdout",
     "output_type": "stream",
     "text": [
      "Средняя прибыль: 447498475.58\n",
      "95%-й доверительный интервал: (-91012463.00, 997543755.91)\n",
      "Риск убытков: 5.30%\n"
     ]
    }
   ],
   "source": [
    "bootstrap(y_test_1, y_pred_1)"
   ]
  },
  {
   "cell_type": "code",
   "execution_count": 42,
   "metadata": {},
   "outputs": [
    {
     "name": "stdout",
     "output_type": "stream",
     "text": [
      "Средняя прибыль: 491068525.64\n",
      "95%-й доверительный интервал: (95228849.67, 960072434.74)\n",
      "Риск убытков: 0.70%\n"
     ]
    }
   ],
   "source": [
    "bootstrap(y_test_2, y_pred_2)"
   ]
  },
  {
   "cell_type": "code",
   "execution_count": 43,
   "metadata": {},
   "outputs": [
    {
     "name": "stdout",
     "output_type": "stream",
     "text": [
      "Средняя прибыль: 383786040.13\n",
      "95%-й доверительный интервал: (-180217703.84, 916980805.32)\n",
      "Риск убытков: 7.80%\n"
     ]
    }
   ],
   "source": [
    "bootstrap(y_test_3, y_pred_3)"
   ]
  },
  {
   "cell_type": "markdown",
   "metadata": {},
   "source": [
    "### Вывод"
   ]
  },
  {
   "cell_type": "markdown",
   "metadata": {},
   "source": [
    "**Выводы и рекомендации**  \n",
    "\n",
    "**Анализ регионов**  \n",
    "**Первый регион**  \n",
    "- **Средняя прибыль:** 447.5 млн  \n",
    "- **95%-й доверительный интервал:** (-91.0 млн, 997.5 млн)  \n",
    "- **Риск убытков:** 5.3%  \n",
    "\n",
    "**Второй регион**  \n",
    "- **Средняя прибыль:** 491.1 млн  \n",
    "- **95%-й доверительный интервал:** (95.2 млн, 960.1 млн)  \n",
    "- **Риск убытков:** 0.7%  \n",
    "\n",
    "**Третий регион**  \n",
    "- **Средняя прибыль:** 383.8 млн  \n",
    "- **95%-й доверительный интервал:** (-180.2 млн, 916.9 млн)  \n",
    "- **Риск убытков:** 7.8%  \n",
    "\n",
    "**Оценка рисков**  \n",
    "Согласно условиям, рассматриваем только регионы, где **риск убытков < 2.5%**.  \n",
    " **Первый регион (5.3%)** и **третий регион (7.8%)** исключаются, так как их риски выше допустимого.  \n",
    " **Второй регион (0.7%)** проходит отбор, так как вероятность убытков минимальна.  \n",
    "\n",
    "**Окончательный выбор региона**  \n",
    " **Рекомендуемый регион для разработки: Второй регион.**  \n",
    "\n",
    "**Причины выбора:**  \n",
    " Самый низкий риск убытков (**0.7%**).   \n",
    " Стабильность прогнозов из-за высокой корреляции `f2` с целевым признаком.  "
   ]
  },
  {
   "cell_type": "markdown",
   "metadata": {},
   "source": [
    "## Вывод"
   ]
  },
  {
   "cell_type": "markdown",
   "metadata": {},
   "source": [
    "\n",
    "1. **Задача** Построить модель машинного обучения, которая поможет определить регион, где добыча принесёт наибольшую прибыль\n",
    "\n",
    "2. В исходных данных удалены дубликаты\n",
    "3. Для поиска лучшей модели был собран пайплайн, который включает в себя преодобработку данных, а также само обучение, далее запущен рандомизированных поиск с подбором гиперпараметров для модели LinearRegression() и с регуляризацией RIdge и Lasso: \n",
    "4. \n",
    "    + Лучшей моделью для 1 региона оказалось Ridge(alpha=3)\n",
    "    + Лучшей моделью для 2 региона оказалось LinearRegression()\n",
    "    + Лучшей моделью для 3 региона оказалось Ridge(alpha=4)\n",
    "\n",
    "5. Посчитаны риски и прибыль для каждого региона:\n",
    "    + **Окончательный выбор региона**  \n",
    "     **Рекомендуемый регион для разработки: Второй регион.** "
   ]
  }
 ],
 "metadata": {
  "ExecuteTimeLog": [
   {
    "duration": 15489,
    "start_time": "2025-01-29T16:10:20.250Z"
   },
   {
    "duration": 28205,
    "start_time": "2025-01-29T16:10:45.845Z"
   },
   {
    "duration": 1627,
    "start_time": "2025-01-29T16:12:32.480Z"
   },
   {
    "duration": 12,
    "start_time": "2025-01-29T16:12:34.109Z"
   },
   {
    "duration": 7,
    "start_time": "2025-01-29T16:12:39.851Z"
   },
   {
    "duration": 3,
    "start_time": "2025-01-29T16:12:40.169Z"
   },
   {
    "duration": 427,
    "start_time": "2025-01-29T16:20:25.808Z"
   },
   {
    "duration": 4,
    "start_time": "2025-01-29T16:24:32.266Z"
   },
   {
    "duration": 159,
    "start_time": "2025-01-29T16:24:42.905Z"
   },
   {
    "duration": 451,
    "start_time": "2025-01-29T16:24:46.233Z"
   },
   {
    "duration": 3,
    "start_time": "2025-01-29T16:24:46.803Z"
   },
   {
    "duration": 82,
    "start_time": "2025-01-29T16:24:47.164Z"
   },
   {
    "duration": 143,
    "start_time": "2025-01-29T18:34:04.824Z"
   },
   {
    "duration": 50,
    "start_time": "2025-01-29T18:34:29.162Z"
   },
   {
    "duration": 71,
    "start_time": "2025-01-29T18:37:06.401Z"
   },
   {
    "duration": 56,
    "start_time": "2025-01-29T18:37:53.246Z"
   },
   {
    "duration": 36,
    "start_time": "2025-01-29T18:37:55.528Z"
   },
   {
    "duration": 65,
    "start_time": "2025-01-29T18:37:56.392Z"
   },
   {
    "duration": 51,
    "start_time": "2025-01-29T18:39:04.850Z"
   },
   {
    "duration": 99,
    "start_time": "2025-01-29T18:39:32.037Z"
   },
   {
    "duration": 105,
    "start_time": "2025-01-29T18:40:07.265Z"
   },
   {
    "duration": 5,
    "start_time": "2025-01-29T18:44:32.350Z"
   },
   {
    "duration": 4,
    "start_time": "2025-01-29T18:45:01.546Z"
   },
   {
    "duration": 7,
    "start_time": "2025-01-29T18:49:06.067Z"
   },
   {
    "duration": 3,
    "start_time": "2025-01-29T18:49:06.342Z"
   },
   {
    "duration": 4053,
    "start_time": "2025-01-29T18:49:07.032Z"
   },
   {
    "duration": 4245,
    "start_time": "2025-01-29T18:49:46.203Z"
   },
   {
    "duration": 4271,
    "start_time": "2025-01-29T18:50:15.711Z"
   },
   {
    "duration": 4276,
    "start_time": "2025-01-29T18:50:33.965Z"
   },
   {
    "duration": 4733,
    "start_time": "2025-01-29T18:50:49.651Z"
   },
   {
    "duration": 5063,
    "start_time": "2025-01-29T18:51:36.217Z"
   },
   {
    "duration": 5080,
    "start_time": "2025-01-29T18:53:02.073Z"
   },
   {
    "duration": 5855,
    "start_time": "2025-01-29T18:55:44.441Z"
   },
   {
    "duration": 5249,
    "start_time": "2025-01-29T19:01:53.051Z"
   },
   {
    "duration": 30,
    "start_time": "2025-01-29T19:06:19.198Z"
   },
   {
    "duration": 8,
    "start_time": "2025-01-29T19:06:39.426Z"
   },
   {
    "duration": 3,
    "start_time": "2025-01-29T19:06:39.652Z"
   },
   {
    "duration": 18,
    "start_time": "2025-01-29T19:06:40.407Z"
   },
   {
    "duration": 1049,
    "start_time": "2025-01-29T19:06:41.255Z"
   },
   {
    "duration": 12,
    "start_time": "2025-01-29T19:07:58.326Z"
   },
   {
    "duration": 8,
    "start_time": "2025-01-29T19:08:18.617Z"
   },
   {
    "duration": 6,
    "start_time": "2025-01-29T19:08:18.828Z"
   },
   {
    "duration": 4,
    "start_time": "2025-01-29T19:08:18.996Z"
   },
   {
    "duration": 1026,
    "start_time": "2025-01-29T19:08:19.528Z"
   },
   {
    "duration": 5478,
    "start_time": "2025-01-29T19:11:34.252Z"
   },
   {
    "duration": 5566,
    "start_time": "2025-01-29T19:12:27.736Z"
   },
   {
    "duration": 5924,
    "start_time": "2025-01-29T19:13:11.780Z"
   },
   {
    "duration": 5889,
    "start_time": "2025-01-29T19:13:34.135Z"
   },
   {
    "duration": 5753,
    "start_time": "2025-01-29T19:13:41.286Z"
   },
   {
    "duration": 1246,
    "start_time": "2025-01-29T19:17:09.817Z"
   },
   {
    "duration": 1072,
    "start_time": "2025-01-29T19:17:54.951Z"
   },
   {
    "duration": 8871,
    "start_time": "2025-01-29T19:18:20.409Z"
   },
   {
    "duration": 2855,
    "start_time": "2025-01-29T19:18:29.283Z"
   },
   {
    "duration": 1802,
    "start_time": "2025-01-29T19:18:32.140Z"
   },
   {
    "duration": 3,
    "start_time": "2025-01-29T19:18:33.946Z"
   },
   {
    "duration": 489,
    "start_time": "2025-01-29T19:18:33.952Z"
   },
   {
    "duration": 3,
    "start_time": "2025-01-29T19:18:34.443Z"
   },
   {
    "duration": 94,
    "start_time": "2025-01-29T19:18:34.448Z"
   },
   {
    "duration": 54,
    "start_time": "2025-01-29T19:18:34.543Z"
   },
   {
    "duration": 138,
    "start_time": "2025-01-29T19:18:34.609Z"
   },
   {
    "duration": 10,
    "start_time": "2025-01-29T19:18:34.748Z"
   },
   {
    "duration": 83,
    "start_time": "2025-01-29T19:18:34.760Z"
   },
   {
    "duration": 4,
    "start_time": "2025-01-29T19:18:34.844Z"
   },
   {
    "duration": 5,
    "start_time": "2025-01-29T19:18:34.850Z"
   },
   {
    "duration": 5988,
    "start_time": "2025-01-29T19:18:34.858Z"
   },
   {
    "duration": 1059,
    "start_time": "2025-01-29T19:18:40.848Z"
   },
   {
    "duration": 1278,
    "start_time": "2025-01-29T19:20:25.792Z"
   },
   {
    "duration": 1206,
    "start_time": "2025-01-29T19:21:15.467Z"
   },
   {
    "duration": 12,
    "start_time": "2025-01-29T19:21:30.390Z"
   },
   {
    "duration": 805,
    "start_time": "2025-01-29T19:23:39.480Z"
   },
   {
    "duration": 2671,
    "start_time": "2025-01-29T19:23:51.786Z"
   },
   {
    "duration": 2181,
    "start_time": "2025-01-29T19:24:06.019Z"
   },
   {
    "duration": 2550,
    "start_time": "2025-01-29T19:24:18.237Z"
   },
   {
    "duration": 2637,
    "start_time": "2025-01-29T19:24:27.338Z"
   },
   {
    "duration": 2617,
    "start_time": "2025-01-29T19:25:32.648Z"
   },
   {
    "duration": 2198,
    "start_time": "2025-01-29T19:25:50.209Z"
   },
   {
    "duration": 7,
    "start_time": "2025-01-29T19:33:10.717Z"
   },
   {
    "duration": 145,
    "start_time": "2025-01-29T19:34:15.518Z"
   },
   {
    "duration": 3,
    "start_time": "2025-01-29T19:41:19.059Z"
   },
   {
    "duration": 6,
    "start_time": "2025-01-29T19:41:22.730Z"
   },
   {
    "duration": 11,
    "start_time": "2025-01-29T19:41:45.718Z"
   },
   {
    "duration": 3,
    "start_time": "2025-01-29T19:42:57.953Z"
   },
   {
    "duration": 3,
    "start_time": "2025-01-29T19:42:58.098Z"
   },
   {
    "duration": 12,
    "start_time": "2025-01-29T19:43:08.693Z"
   },
   {
    "duration": 3,
    "start_time": "2025-01-29T19:43:32.788Z"
   },
   {
    "duration": 2,
    "start_time": "2025-01-29T19:49:45.178Z"
   },
   {
    "duration": 24,
    "start_time": "2025-01-29T19:52:12.117Z"
   },
   {
    "duration": 16,
    "start_time": "2025-01-29T19:52:28.413Z"
   },
   {
    "duration": 3,
    "start_time": "2025-01-29T19:52:49.368Z"
   },
   {
    "duration": 5,
    "start_time": "2025-01-29T19:52:49.681Z"
   },
   {
    "duration": 15,
    "start_time": "2025-01-29T19:53:10.636Z"
   },
   {
    "duration": 55,
    "start_time": "2025-01-29T19:55:34.716Z"
   },
   {
    "duration": 3,
    "start_time": "2025-01-29T19:56:55.397Z"
   },
   {
    "duration": 36,
    "start_time": "2025-01-29T19:56:55.833Z"
   },
   {
    "duration": 3,
    "start_time": "2025-01-29T19:58:16.241Z"
   },
   {
    "duration": 3,
    "start_time": "2025-01-29T19:58:16.402Z"
   },
   {
    "duration": 2,
    "start_time": "2025-01-29T19:58:16.559Z"
   },
   {
    "duration": 3,
    "start_time": "2025-01-29T19:58:16.705Z"
   },
   {
    "duration": 3,
    "start_time": "2025-01-29T19:58:17.151Z"
   },
   {
    "duration": 2525,
    "start_time": "2025-01-29T19:58:17.807Z"
   },
   {
    "duration": 6,
    "start_time": "2025-01-29T20:00:13.008Z"
   },
   {
    "duration": 10,
    "start_time": "2025-01-29T20:00:13.315Z"
   },
   {
    "duration": 2,
    "start_time": "2025-01-29T20:00:13.658Z"
   },
   {
    "duration": 2,
    "start_time": "2025-01-29T20:00:14.098Z"
   },
   {
    "duration": 9,
    "start_time": "2025-01-29T20:00:14.828Z"
   },
   {
    "duration": 6015,
    "start_time": "2025-01-29T20:00:15.560Z"
   },
   {
    "duration": 12,
    "start_time": "2025-01-29T20:00:21.577Z"
   },
   {
    "duration": 6,
    "start_time": "2025-01-29T20:02:56.569Z"
   },
   {
    "duration": 52,
    "start_time": "2025-01-29T20:03:27.920Z"
   },
   {
    "duration": 5902,
    "start_time": "2025-01-29T20:03:28.270Z"
   },
   {
    "duration": 12,
    "start_time": "2025-01-29T20:03:34.173Z"
   },
   {
    "duration": 67,
    "start_time": "2025-01-29T20:06:52.902Z"
   },
   {
    "duration": 61,
    "start_time": "2025-01-29T20:06:59.410Z"
   },
   {
    "duration": 113,
    "start_time": "2025-01-29T20:07:04.029Z"
   },
   {
    "duration": 4,
    "start_time": "2025-01-29T20:07:07.981Z"
   },
   {
    "duration": 23092,
    "start_time": "2025-01-29T20:07:08.878Z"
   },
   {
    "duration": 9,
    "start_time": "2025-01-29T20:07:31.971Z"
   },
   {
    "duration": 13,
    "start_time": "2025-01-29T20:10:02.169Z"
   },
   {
    "duration": 66,
    "start_time": "2025-01-29T20:11:30.754Z"
   },
   {
    "duration": 23,
    "start_time": "2025-01-29T20:11:43.303Z"
   },
   {
    "duration": 6688,
    "start_time": "2025-01-31T14:10:00.855Z"
   },
   {
    "duration": 0,
    "start_time": "2025-01-31T14:10:07.545Z"
   },
   {
    "duration": 8,
    "start_time": "2025-01-31T14:10:09.949Z"
   },
   {
    "duration": 11577,
    "start_time": "2025-02-01T20:28:37.569Z"
   },
   {
    "duration": 9270,
    "start_time": "2025-02-01T20:28:49.148Z"
   },
   {
    "duration": 1598,
    "start_time": "2025-02-01T20:28:58.419Z"
   },
   {
    "duration": 2,
    "start_time": "2025-02-01T20:29:00.019Z"
   },
   {
    "duration": 442,
    "start_time": "2025-02-01T20:29:00.023Z"
   },
   {
    "duration": 3,
    "start_time": "2025-02-01T20:29:00.467Z"
   },
   {
    "duration": 83,
    "start_time": "2025-02-01T20:29:00.472Z"
   },
   {
    "duration": 74,
    "start_time": "2025-02-01T20:29:00.557Z"
   },
   {
    "duration": 114,
    "start_time": "2025-02-01T20:29:00.632Z"
   },
   {
    "duration": 10,
    "start_time": "2025-02-01T20:29:00.748Z"
   },
   {
    "duration": 12,
    "start_time": "2025-02-01T20:29:00.759Z"
   },
   {
    "duration": 4,
    "start_time": "2025-02-01T20:29:00.772Z"
   },
   {
    "duration": 7,
    "start_time": "2025-02-01T20:29:00.777Z"
   },
   {
    "duration": 5555,
    "start_time": "2025-02-01T20:29:00.786Z"
   },
   {
    "duration": 10,
    "start_time": "2025-02-01T20:29:06.343Z"
   },
   {
    "duration": 2527,
    "start_time": "2025-02-01T20:29:06.354Z"
   },
   {
    "duration": 3,
    "start_time": "2025-02-01T20:29:08.883Z"
   },
   {
    "duration": 125,
    "start_time": "2025-02-01T20:29:08.888Z"
   },
   {
    "duration": 3,
    "start_time": "2025-02-01T20:29:09.014Z"
   },
   {
    "duration": 13,
    "start_time": "2025-02-01T20:29:09.019Z"
   },
   {
    "duration": 4,
    "start_time": "2025-02-01T20:29:09.033Z"
   },
   {
    "duration": 20,
    "start_time": "2025-02-01T20:29:09.038Z"
   },
   {
    "duration": 5,
    "start_time": "2025-02-01T20:29:09.059Z"
   },
   {
    "duration": 23973,
    "start_time": "2025-02-01T20:29:09.065Z"
   },
   {
    "duration": 11,
    "start_time": "2025-02-01T20:29:33.041Z"
   },
   {
    "duration": 299,
    "start_time": "2025-02-01T20:29:33.053Z"
   },
   {
    "duration": 16,
    "start_time": "2025-02-01T20:30:48.531Z"
   },
   {
    "duration": 22064,
    "start_time": "2025-02-01T20:33:00.823Z"
   },
   {
    "duration": 25,
    "start_time": "2025-02-01T20:33:22.889Z"
   },
   {
    "duration": 17,
    "start_time": "2025-02-01T20:33:54.007Z"
   },
   {
    "duration": 22899,
    "start_time": "2025-02-01T20:34:59.674Z"
   },
   {
    "duration": 10,
    "start_time": "2025-02-01T20:35:22.575Z"
   },
   {
    "duration": 34,
    "start_time": "2025-02-01T20:35:22.586Z"
   },
   {
    "duration": 3,
    "start_time": "2025-02-01T20:36:02.976Z"
   },
   {
    "duration": 92,
    "start_time": "2025-02-01T20:36:03.006Z"
   },
   {
    "duration": 2,
    "start_time": "2025-02-01T20:36:03.100Z"
   },
   {
    "duration": 22,
    "start_time": "2025-02-01T20:36:03.113Z"
   },
   {
    "duration": 4,
    "start_time": "2025-02-01T20:36:03.137Z"
   },
   {
    "duration": 3,
    "start_time": "2025-02-01T20:36:03.170Z"
   },
   {
    "duration": 18,
    "start_time": "2025-02-01T20:36:03.202Z"
   },
   {
    "duration": 22594,
    "start_time": "2025-02-01T20:36:03.275Z"
   },
   {
    "duration": 10,
    "start_time": "2025-02-01T20:36:25.871Z"
   },
   {
    "duration": 37,
    "start_time": "2025-02-01T20:36:25.883Z"
   },
   {
    "duration": 23522,
    "start_time": "2025-02-01T20:36:25.923Z"
   },
   {
    "duration": 12,
    "start_time": "2025-02-01T20:36:49.446Z"
   },
   {
    "duration": 53,
    "start_time": "2025-02-01T20:36:49.459Z"
   },
   {
    "duration": 21637,
    "start_time": "2025-02-01T20:36:49.514Z"
   },
   {
    "duration": 11,
    "start_time": "2025-02-01T20:37:11.152Z"
   },
   {
    "duration": 47,
    "start_time": "2025-02-01T20:37:11.165Z"
   },
   {
    "duration": 13,
    "start_time": "2025-02-01T20:41:37.796Z"
   },
   {
    "duration": 10,
    "start_time": "2025-02-01T20:41:49.226Z"
   },
   {
    "duration": 11,
    "start_time": "2025-02-01T20:41:57.534Z"
   },
   {
    "duration": 3,
    "start_time": "2025-02-01T21:44:58.226Z"
   },
   {
    "duration": 6,
    "start_time": "2025-02-01T21:45:28.854Z"
   },
   {
    "duration": 5,
    "start_time": "2025-02-01T21:46:09.579Z"
   },
   {
    "duration": 4,
    "start_time": "2025-02-01T21:47:09.423Z"
   },
   {
    "duration": 3,
    "start_time": "2025-02-01T21:51:01.768Z"
   },
   {
    "duration": 15,
    "start_time": "2025-02-01T22:01:20.519Z"
   },
   {
    "duration": 9,
    "start_time": "2025-02-01T22:03:24.188Z"
   },
   {
    "duration": 14,
    "start_time": "2025-02-01T22:03:29.724Z"
   },
   {
    "duration": 14,
    "start_time": "2025-02-01T22:03:36.399Z"
   },
   {
    "duration": 11,
    "start_time": "2025-02-01T22:07:17.362Z"
   },
   {
    "duration": 11,
    "start_time": "2025-02-01T22:07:39.030Z"
   },
   {
    "duration": 14,
    "start_time": "2025-02-01T22:07:57.649Z"
   },
   {
    "duration": 19,
    "start_time": "2025-02-01T22:08:09.153Z"
   },
   {
    "duration": 7781,
    "start_time": "2025-02-01T22:08:23.364Z"
   },
   {
    "duration": 2607,
    "start_time": "2025-02-01T22:08:31.147Z"
   },
   {
    "duration": 1363,
    "start_time": "2025-02-01T22:08:33.756Z"
   },
   {
    "duration": 2,
    "start_time": "2025-02-01T22:08:35.121Z"
   },
   {
    "duration": 431,
    "start_time": "2025-02-01T22:08:35.125Z"
   },
   {
    "duration": 3,
    "start_time": "2025-02-01T22:08:35.558Z"
   },
   {
    "duration": 89,
    "start_time": "2025-02-01T22:08:35.562Z"
   },
   {
    "duration": 72,
    "start_time": "2025-02-01T22:08:35.653Z"
   },
   {
    "duration": 117,
    "start_time": "2025-02-01T22:08:35.727Z"
   },
   {
    "duration": 11,
    "start_time": "2025-02-01T22:08:35.845Z"
   },
   {
    "duration": 18,
    "start_time": "2025-02-01T22:08:35.858Z"
   },
   {
    "duration": 4,
    "start_time": "2025-02-01T22:08:35.878Z"
   },
   {
    "duration": 15,
    "start_time": "2025-02-01T22:08:35.883Z"
   },
   {
    "duration": 5201,
    "start_time": "2025-02-01T22:08:35.900Z"
   },
   {
    "duration": 14,
    "start_time": "2025-02-01T22:08:41.103Z"
   },
   {
    "duration": 2030,
    "start_time": "2025-02-01T22:08:41.118Z"
   },
   {
    "duration": 3,
    "start_time": "2025-02-01T22:08:43.149Z"
   },
   {
    "duration": 136,
    "start_time": "2025-02-01T22:08:43.154Z"
   },
   {
    "duration": 3,
    "start_time": "2025-02-01T22:08:43.291Z"
   },
   {
    "duration": 8,
    "start_time": "2025-02-01T22:08:43.296Z"
   },
   {
    "duration": 3,
    "start_time": "2025-02-01T22:08:43.309Z"
   },
   {
    "duration": 2,
    "start_time": "2025-02-01T22:08:43.314Z"
   },
   {
    "duration": 3,
    "start_time": "2025-02-01T22:08:43.318Z"
   },
   {
    "duration": 23534,
    "start_time": "2025-02-01T22:08:43.323Z"
   },
   {
    "duration": 10,
    "start_time": "2025-02-01T22:09:06.859Z"
   },
   {
    "duration": 41,
    "start_time": "2025-02-01T22:09:06.870Z"
   },
   {
    "duration": 22647,
    "start_time": "2025-02-01T22:09:06.913Z"
   },
   {
    "duration": 11,
    "start_time": "2025-02-01T22:09:29.562Z"
   },
   {
    "duration": 41,
    "start_time": "2025-02-01T22:09:29.575Z"
   },
   {
    "duration": 21304,
    "start_time": "2025-02-01T22:09:29.618Z"
   },
   {
    "duration": 13,
    "start_time": "2025-02-01T22:09:50.924Z"
   },
   {
    "duration": 76,
    "start_time": "2025-02-01T22:09:50.939Z"
   },
   {
    "duration": 99,
    "start_time": "2025-02-01T22:09:51.017Z"
   },
   {
    "duration": 12,
    "start_time": "2025-02-01T22:09:51.118Z"
   },
   {
    "duration": 48,
    "start_time": "2025-02-01T22:09:51.132Z"
   },
   {
    "duration": 2,
    "start_time": "2025-02-01T22:11:25.805Z"
   },
   {
    "duration": 5,
    "start_time": "2025-02-01T22:11:41.324Z"
   },
   {
    "duration": 3,
    "start_time": "2025-02-01T22:12:00.639Z"
   },
   {
    "duration": 4,
    "start_time": "2025-02-01T22:12:01.072Z"
   },
   {
    "duration": 129,
    "start_time": "2025-02-01T22:15:40.386Z"
   },
   {
    "duration": 5,
    "start_time": "2025-02-01T22:15:44.372Z"
   },
   {
    "duration": 3,
    "start_time": "2025-02-01T22:16:39.595Z"
   },
   {
    "duration": 5,
    "start_time": "2025-02-01T22:16:40.199Z"
   },
   {
    "duration": 13,
    "start_time": "2025-02-01T22:18:50.358Z"
   },
   {
    "duration": 254,
    "start_time": "2025-02-01T22:19:36.856Z"
   },
   {
    "duration": 82,
    "start_time": "2025-02-01T22:19:37.237Z"
   },
   {
    "duration": 4,
    "start_time": "2025-02-01T22:19:38.229Z"
   },
   {
    "duration": 5,
    "start_time": "2025-02-01T22:19:38.579Z"
   },
   {
    "duration": 2,
    "start_time": "2025-02-01T22:19:49.624Z"
   },
   {
    "duration": 5,
    "start_time": "2025-02-01T22:19:49.962Z"
   },
   {
    "duration": 9,
    "start_time": "2025-02-01T22:20:01.486Z"
   },
   {
    "duration": 63,
    "start_time": "2025-02-01T22:23:59.990Z"
   },
   {
    "duration": 7870,
    "start_time": "2025-02-01T22:25:32.989Z"
   },
   {
    "duration": 2646,
    "start_time": "2025-02-01T22:25:40.861Z"
   },
   {
    "duration": 1398,
    "start_time": "2025-02-01T22:25:43.509Z"
   },
   {
    "duration": 3,
    "start_time": "2025-02-01T22:25:44.909Z"
   },
   {
    "duration": 432,
    "start_time": "2025-02-01T22:25:44.914Z"
   },
   {
    "duration": 4,
    "start_time": "2025-02-01T22:25:45.347Z"
   },
   {
    "duration": 87,
    "start_time": "2025-02-01T22:25:45.352Z"
   },
   {
    "duration": 71,
    "start_time": "2025-02-01T22:25:45.440Z"
   },
   {
    "duration": 135,
    "start_time": "2025-02-01T22:25:45.513Z"
   },
   {
    "duration": 11,
    "start_time": "2025-02-01T22:25:45.649Z"
   },
   {
    "duration": 6,
    "start_time": "2025-02-01T22:25:45.662Z"
   },
   {
    "duration": 6,
    "start_time": "2025-02-01T22:25:45.670Z"
   },
   {
    "duration": 11,
    "start_time": "2025-02-01T22:25:45.678Z"
   },
   {
    "duration": 5372,
    "start_time": "2025-02-01T22:25:45.691Z"
   },
   {
    "duration": 10,
    "start_time": "2025-02-01T22:25:51.065Z"
   },
   {
    "duration": 2077,
    "start_time": "2025-02-01T22:25:51.077Z"
   },
   {
    "duration": 3,
    "start_time": "2025-02-01T22:25:53.156Z"
   },
   {
    "duration": 161,
    "start_time": "2025-02-01T22:25:53.161Z"
   },
   {
    "duration": 160,
    "start_time": "2025-02-01T22:25:53.324Z"
   },
   {
    "duration": 0,
    "start_time": "2025-02-01T22:25:53.486Z"
   },
   {
    "duration": 0,
    "start_time": "2025-02-01T22:25:53.487Z"
   },
   {
    "duration": 0,
    "start_time": "2025-02-01T22:25:53.488Z"
   },
   {
    "duration": 0,
    "start_time": "2025-02-01T22:25:53.488Z"
   },
   {
    "duration": 0,
    "start_time": "2025-02-01T22:25:53.489Z"
   },
   {
    "duration": 0,
    "start_time": "2025-02-01T22:25:53.490Z"
   },
   {
    "duration": 0,
    "start_time": "2025-02-01T22:25:53.492Z"
   },
   {
    "duration": 0,
    "start_time": "2025-02-01T22:25:53.508Z"
   },
   {
    "duration": 0,
    "start_time": "2025-02-01T22:25:53.510Z"
   },
   {
    "duration": 0,
    "start_time": "2025-02-01T22:25:53.510Z"
   },
   {
    "duration": 0,
    "start_time": "2025-02-01T22:25:53.511Z"
   },
   {
    "duration": 0,
    "start_time": "2025-02-01T22:25:53.512Z"
   },
   {
    "duration": 0,
    "start_time": "2025-02-01T22:25:53.514Z"
   },
   {
    "duration": 0,
    "start_time": "2025-02-01T22:25:53.515Z"
   },
   {
    "duration": 0,
    "start_time": "2025-02-01T22:25:53.516Z"
   },
   {
    "duration": 0,
    "start_time": "2025-02-01T22:25:53.517Z"
   },
   {
    "duration": 0,
    "start_time": "2025-02-01T22:25:53.518Z"
   },
   {
    "duration": 0,
    "start_time": "2025-02-01T22:25:53.519Z"
   },
   {
    "duration": 0,
    "start_time": "2025-02-01T22:25:53.520Z"
   },
   {
    "duration": 0,
    "start_time": "2025-02-01T22:25:53.521Z"
   },
   {
    "duration": 11,
    "start_time": "2025-02-01T22:28:39.082Z"
   },
   {
    "duration": 6,
    "start_time": "2025-02-01T22:28:59.127Z"
   },
   {
    "duration": 4,
    "start_time": "2025-02-01T22:29:07.909Z"
   },
   {
    "duration": 91,
    "start_time": "2025-02-01T22:32:51.737Z"
   },
   {
    "duration": 3,
    "start_time": "2025-02-01T22:32:52.037Z"
   },
   {
    "duration": 3,
    "start_time": "2025-02-01T22:32:52.197Z"
   },
   {
    "duration": 2,
    "start_time": "2025-02-01T22:32:52.365Z"
   },
   {
    "duration": 2,
    "start_time": "2025-02-01T22:32:52.534Z"
   },
   {
    "duration": 4,
    "start_time": "2025-02-01T22:32:53.249Z"
   },
   {
    "duration": 921,
    "start_time": "2025-02-01T22:32:54.001Z"
   },
   {
    "duration": 0,
    "start_time": "2025-02-01T22:32:54.924Z"
   },
   {
    "duration": 0,
    "start_time": "2025-02-01T22:32:54.925Z"
   },
   {
    "duration": 2,
    "start_time": "2025-02-01T22:35:43.505Z"
   },
   {
    "duration": 82,
    "start_time": "2025-02-01T22:35:43.655Z"
   },
   {
    "duration": 9,
    "start_time": "2025-02-01T22:35:43.982Z"
   },
   {
    "duration": 3,
    "start_time": "2025-02-01T22:35:45.381Z"
   },
   {
    "duration": 4,
    "start_time": "2025-02-01T22:35:45.734Z"
   },
   {
    "duration": 2,
    "start_time": "2025-02-01T22:35:46.335Z"
   },
   {
    "duration": 3,
    "start_time": "2025-02-01T22:35:46.679Z"
   },
   {
    "duration": 3,
    "start_time": "2025-02-01T22:35:47.203Z"
   },
   {
    "duration": 984,
    "start_time": "2025-02-01T22:35:47.715Z"
   },
   {
    "duration": 0,
    "start_time": "2025-02-01T22:35:48.701Z"
   },
   {
    "duration": 0,
    "start_time": "2025-02-01T22:35:48.703Z"
   },
   {
    "duration": 0,
    "start_time": "2025-02-01T22:35:48.710Z"
   },
   {
    "duration": 12,
    "start_time": "2025-02-01T22:35:48.712Z"
   },
   {
    "duration": 16,
    "start_time": "2025-02-01T22:35:48.844Z"
   },
   {
    "duration": 8112,
    "start_time": "2025-02-01T22:36:01.221Z"
   },
   {
    "duration": 2845,
    "start_time": "2025-02-01T22:36:09.335Z"
   },
   {
    "duration": 1449,
    "start_time": "2025-02-01T22:36:12.183Z"
   },
   {
    "duration": 4,
    "start_time": "2025-02-01T22:36:13.634Z"
   },
   {
    "duration": 424,
    "start_time": "2025-02-01T22:36:13.640Z"
   },
   {
    "duration": 3,
    "start_time": "2025-02-01T22:36:14.066Z"
   },
   {
    "duration": 86,
    "start_time": "2025-02-01T22:36:14.071Z"
   },
   {
    "duration": 74,
    "start_time": "2025-02-01T22:36:14.158Z"
   },
   {
    "duration": 124,
    "start_time": "2025-02-01T22:36:14.234Z"
   },
   {
    "duration": 10,
    "start_time": "2025-02-01T22:36:14.361Z"
   },
   {
    "duration": 10,
    "start_time": "2025-02-01T22:36:14.373Z"
   },
   {
    "duration": 7,
    "start_time": "2025-02-01T22:36:14.385Z"
   },
   {
    "duration": 17,
    "start_time": "2025-02-01T22:36:14.393Z"
   },
   {
    "duration": 5341,
    "start_time": "2025-02-01T22:36:14.412Z"
   },
   {
    "duration": 10,
    "start_time": "2025-02-01T22:36:19.755Z"
   },
   {
    "duration": 2080,
    "start_time": "2025-02-01T22:36:19.766Z"
   },
   {
    "duration": 2,
    "start_time": "2025-02-01T22:36:21.849Z"
   },
   {
    "duration": 142,
    "start_time": "2025-02-01T22:36:21.853Z"
   },
   {
    "duration": 14,
    "start_time": "2025-02-01T22:36:21.996Z"
   },
   {
    "duration": 14,
    "start_time": "2025-02-01T22:36:22.011Z"
   },
   {
    "duration": 8,
    "start_time": "2025-02-01T22:36:22.027Z"
   },
   {
    "duration": 4,
    "start_time": "2025-02-01T22:36:22.037Z"
   },
   {
    "duration": 5,
    "start_time": "2025-02-01T22:36:22.042Z"
   },
   {
    "duration": 5,
    "start_time": "2025-02-01T22:36:22.048Z"
   },
   {
    "duration": 1319,
    "start_time": "2025-02-01T22:36:22.054Z"
   },
   {
    "duration": 0,
    "start_time": "2025-02-01T22:36:23.376Z"
   },
   {
    "duration": 0,
    "start_time": "2025-02-01T22:36:23.377Z"
   },
   {
    "duration": 0,
    "start_time": "2025-02-01T22:36:23.378Z"
   },
   {
    "duration": 0,
    "start_time": "2025-02-01T22:36:23.379Z"
   },
   {
    "duration": 0,
    "start_time": "2025-02-01T22:36:23.380Z"
   },
   {
    "duration": 0,
    "start_time": "2025-02-01T22:36:23.381Z"
   },
   {
    "duration": 0,
    "start_time": "2025-02-01T22:36:23.382Z"
   },
   {
    "duration": 0,
    "start_time": "2025-02-01T22:36:23.383Z"
   },
   {
    "duration": 0,
    "start_time": "2025-02-01T22:36:23.384Z"
   },
   {
    "duration": 0,
    "start_time": "2025-02-01T22:36:23.385Z"
   },
   {
    "duration": 0,
    "start_time": "2025-02-01T22:36:23.386Z"
   },
   {
    "duration": 0,
    "start_time": "2025-02-01T22:36:23.387Z"
   },
   {
    "duration": 0,
    "start_time": "2025-02-01T22:36:23.388Z"
   },
   {
    "duration": 0,
    "start_time": "2025-02-01T22:36:23.389Z"
   },
   {
    "duration": 3,
    "start_time": "2025-02-01T22:37:00.797Z"
   },
   {
    "duration": 3,
    "start_time": "2025-02-01T22:37:00.966Z"
   },
   {
    "duration": 3,
    "start_time": "2025-02-01T22:37:01.110Z"
   },
   {
    "duration": 3,
    "start_time": "2025-02-01T22:37:01.239Z"
   },
   {
    "duration": 4,
    "start_time": "2025-02-01T22:37:01.472Z"
   },
   {
    "duration": 23434,
    "start_time": "2025-02-01T22:37:02.295Z"
   },
   {
    "duration": 12,
    "start_time": "2025-02-01T22:37:25.731Z"
   },
   {
    "duration": 67,
    "start_time": "2025-02-01T22:37:25.744Z"
   },
   {
    "duration": 22675,
    "start_time": "2025-02-01T22:37:25.813Z"
   },
   {
    "duration": 24,
    "start_time": "2025-02-01T22:37:48.490Z"
   },
   {
    "duration": 94,
    "start_time": "2025-02-01T22:37:48.515Z"
   },
   {
    "duration": 22001,
    "start_time": "2025-02-01T22:37:48.612Z"
   },
   {
    "duration": 12,
    "start_time": "2025-02-01T22:38:10.615Z"
   },
   {
    "duration": 85,
    "start_time": "2025-02-01T22:38:10.628Z"
   },
   {
    "duration": 86,
    "start_time": "2025-02-01T22:38:47.033Z"
   },
   {
    "duration": 11,
    "start_time": "2025-02-01T22:38:47.178Z"
   },
   {
    "duration": 2,
    "start_time": "2025-02-01T22:38:47.479Z"
   },
   {
    "duration": 3,
    "start_time": "2025-02-01T22:38:47.623Z"
   },
   {
    "duration": 2,
    "start_time": "2025-02-01T22:38:47.759Z"
   },
   {
    "duration": 3,
    "start_time": "2025-02-01T22:38:47.906Z"
   },
   {
    "duration": 4,
    "start_time": "2025-02-01T22:38:48.051Z"
   },
   {
    "duration": 21820,
    "start_time": "2025-02-01T22:38:48.449Z"
   },
   {
    "duration": 9,
    "start_time": "2025-02-01T22:39:10.271Z"
   },
   {
    "duration": 29,
    "start_time": "2025-02-01T22:39:10.282Z"
   },
   {
    "duration": 22255,
    "start_time": "2025-02-01T22:39:10.315Z"
   },
   {
    "duration": 12,
    "start_time": "2025-02-01T22:39:32.571Z"
   },
   {
    "duration": 27,
    "start_time": "2025-02-01T22:39:32.584Z"
   },
   {
    "duration": 21755,
    "start_time": "2025-02-01T22:39:32.613Z"
   },
   {
    "duration": 11,
    "start_time": "2025-02-01T22:39:54.370Z"
   },
   {
    "duration": 34,
    "start_time": "2025-02-01T22:39:54.383Z"
   },
   {
    "duration": 13,
    "start_time": "2025-02-01T22:40:13.648Z"
   },
   {
    "duration": 3,
    "start_time": "2025-02-01T22:40:13.918Z"
   },
   {
    "duration": 4,
    "start_time": "2025-02-01T22:40:14.047Z"
   },
   {
    "duration": 3,
    "start_time": "2025-02-01T22:40:14.187Z"
   },
   {
    "duration": 3,
    "start_time": "2025-02-01T22:40:14.320Z"
   },
   {
    "duration": 80,
    "start_time": "2025-02-01T22:40:34.283Z"
   },
   {
    "duration": 13,
    "start_time": "2025-02-01T22:40:34.445Z"
   },
   {
    "duration": 2,
    "start_time": "2025-02-01T22:40:35.046Z"
   },
   {
    "duration": 3,
    "start_time": "2025-02-01T22:40:35.190Z"
   },
   {
    "duration": 3,
    "start_time": "2025-02-01T22:40:35.315Z"
   },
   {
    "duration": 3,
    "start_time": "2025-02-01T22:40:35.824Z"
   },
   {
    "duration": 4,
    "start_time": "2025-02-01T22:40:35.858Z"
   },
   {
    "duration": 22327,
    "start_time": "2025-02-01T22:40:35.928Z"
   },
   {
    "duration": 10,
    "start_time": "2025-02-01T22:40:58.257Z"
   },
   {
    "duration": 143,
    "start_time": "2025-02-01T22:40:58.268Z"
   },
   {
    "duration": 21861,
    "start_time": "2025-02-01T22:40:58.414Z"
   },
   {
    "duration": 11,
    "start_time": "2025-02-01T22:41:20.277Z"
   },
   {
    "duration": 28,
    "start_time": "2025-02-01T22:41:20.289Z"
   },
   {
    "duration": 21052,
    "start_time": "2025-02-01T22:41:20.319Z"
   },
   {
    "duration": 11,
    "start_time": "2025-02-01T22:41:41.373Z"
   },
   {
    "duration": 28,
    "start_time": "2025-02-01T22:41:41.386Z"
   },
   {
    "duration": 3,
    "start_time": "2025-02-01T22:41:57.746Z"
   },
   {
    "duration": 125,
    "start_time": "2025-02-01T22:44:27.587Z"
   },
   {
    "duration": 14,
    "start_time": "2025-02-01T22:44:28.405Z"
   },
   {
    "duration": 281,
    "start_time": "2025-02-01T22:44:44.031Z"
   },
   {
    "duration": 248,
    "start_time": "2025-02-01T22:44:44.315Z"
   },
   {
    "duration": 9,
    "start_time": "2025-02-01T22:44:45.044Z"
   },
   {
    "duration": 3,
    "start_time": "2025-02-01T22:44:56.627Z"
   },
   {
    "duration": 5,
    "start_time": "2025-02-01T22:44:57.451Z"
   },
   {
    "duration": 78,
    "start_time": "2025-02-01T22:45:48.170Z"
   },
   {
    "duration": 10,
    "start_time": "2025-02-01T22:45:48.521Z"
   },
   {
    "duration": 152,
    "start_time": "2025-02-01T22:45:56.562Z"
   },
   {
    "duration": 161,
    "start_time": "2025-02-01T22:45:56.814Z"
   },
   {
    "duration": 9,
    "start_time": "2025-02-01T22:45:57.047Z"
   },
   {
    "duration": 3,
    "start_time": "2025-02-01T22:46:01.099Z"
   },
   {
    "duration": 5,
    "start_time": "2025-02-01T22:46:01.752Z"
   },
   {
    "duration": 2,
    "start_time": "2025-02-01T22:46:37.254Z"
   },
   {
    "duration": 90,
    "start_time": "2025-02-01T22:46:37.488Z"
   },
   {
    "duration": 2,
    "start_time": "2025-02-01T22:46:37.902Z"
   },
   {
    "duration": 3,
    "start_time": "2025-02-01T22:46:38.231Z"
   },
   {
    "duration": 4,
    "start_time": "2025-02-01T22:46:38.371Z"
   },
   {
    "duration": 3,
    "start_time": "2025-02-01T22:46:38.682Z"
   },
   {
    "duration": 7,
    "start_time": "2025-02-01T22:46:38.843Z"
   },
   {
    "duration": 3,
    "start_time": "2025-02-01T22:46:39.002Z"
   },
   {
    "duration": 22319,
    "start_time": "2025-02-01T22:46:39.542Z"
   },
   {
    "duration": 48,
    "start_time": "2025-02-01T22:47:01.862Z"
   },
   {
    "duration": 98,
    "start_time": "2025-02-01T22:47:01.912Z"
   },
   {
    "duration": 22069,
    "start_time": "2025-02-01T22:47:02.014Z"
   },
   {
    "duration": 11,
    "start_time": "2025-02-01T22:47:24.085Z"
   },
   {
    "duration": 33,
    "start_time": "2025-02-01T22:47:24.097Z"
   },
   {
    "duration": 22256,
    "start_time": "2025-02-01T22:47:24.211Z"
   },
   {
    "duration": 11,
    "start_time": "2025-02-01T22:47:46.468Z"
   },
   {
    "duration": 37,
    "start_time": "2025-02-01T22:47:46.481Z"
   },
   {
    "duration": 3,
    "start_time": "2025-02-01T22:47:46.616Z"
   },
   {
    "duration": 192,
    "start_time": "2025-02-01T22:47:46.621Z"
   },
   {
    "duration": 251,
    "start_time": "2025-02-01T22:47:46.815Z"
   },
   {
    "duration": 10,
    "start_time": "2025-02-01T22:47:47.068Z"
   },
   {
    "duration": 8,
    "start_time": "2025-02-01T22:47:47.079Z"
   },
   {
    "duration": 22,
    "start_time": "2025-02-01T22:47:47.089Z"
   },
   {
    "duration": 3,
    "start_time": "2025-02-01T22:48:41.330Z"
   },
   {
    "duration": 5,
    "start_time": "2025-02-01T22:48:41.597Z"
   },
   {
    "duration": 4,
    "start_time": "2025-02-01T22:52:15.815Z"
   },
   {
    "duration": 54,
    "start_time": "2025-02-01T22:54:18.028Z"
   },
   {
    "duration": 3,
    "start_time": "2025-02-01T22:56:28.575Z"
   },
   {
    "duration": 143,
    "start_time": "2025-02-01T22:56:28.697Z"
   },
   {
    "duration": 3,
    "start_time": "2025-02-01T22:56:29.244Z"
   },
   {
    "duration": 3,
    "start_time": "2025-02-01T22:56:29.276Z"
   },
   {
    "duration": 2,
    "start_time": "2025-02-01T22:56:29.308Z"
   },
   {
    "duration": 3,
    "start_time": "2025-02-01T22:56:29.338Z"
   },
   {
    "duration": 3,
    "start_time": "2025-02-01T22:56:29.372Z"
   },
   {
    "duration": 23674,
    "start_time": "2025-02-01T22:56:29.442Z"
   },
   {
    "duration": 11,
    "start_time": "2025-02-01T22:56:53.118Z"
   },
   {
    "duration": 89,
    "start_time": "2025-02-01T22:56:53.130Z"
   },
   {
    "duration": 22143,
    "start_time": "2025-02-01T22:56:53.222Z"
   },
   {
    "duration": 11,
    "start_time": "2025-02-01T22:57:15.367Z"
   },
   {
    "duration": 39,
    "start_time": "2025-02-01T22:57:15.380Z"
   },
   {
    "duration": 21301,
    "start_time": "2025-02-01T22:57:15.511Z"
   },
   {
    "duration": 12,
    "start_time": "2025-02-01T22:57:36.814Z"
   },
   {
    "duration": 82,
    "start_time": "2025-02-01T22:57:36.829Z"
   },
   {
    "duration": 95,
    "start_time": "2025-02-01T22:57:36.915Z"
   },
   {
    "duration": 19,
    "start_time": "2025-02-01T22:57:37.011Z"
   },
   {
    "duration": 28,
    "start_time": "2025-02-01T22:57:37.031Z"
   },
   {
    "duration": 10,
    "start_time": "2025-02-01T22:57:37.061Z"
   },
   {
    "duration": 2,
    "start_time": "2025-02-01T22:57:37.073Z"
   },
   {
    "duration": 33,
    "start_time": "2025-02-01T22:57:37.077Z"
   },
   {
    "duration": 3,
    "start_time": "2025-02-01T23:08:00.779Z"
   },
   {
    "duration": 3,
    "start_time": "2025-02-01T23:08:22.470Z"
   },
   {
    "duration": 4,
    "start_time": "2025-02-01T23:08:22.660Z"
   },
   {
    "duration": 4,
    "start_time": "2025-02-01T23:14:24.684Z"
   },
   {
    "duration": 15,
    "start_time": "2025-02-01T23:14:25.008Z"
   },
   {
    "duration": 5,
    "start_time": "2025-02-01T23:14:40.308Z"
   },
   {
    "duration": 3,
    "start_time": "2025-02-01T23:14:41.075Z"
   },
   {
    "duration": 16,
    "start_time": "2025-02-01T23:14:41.838Z"
   },
   {
    "duration": 2,
    "start_time": "2025-02-01T23:14:58.467Z"
   },
   {
    "duration": 8,
    "start_time": "2025-02-01T23:15:02.517Z"
   },
   {
    "duration": 945,
    "start_time": "2025-02-01T23:15:25.056Z"
   },
   {
    "duration": 896,
    "start_time": "2025-02-01T23:15:27.698Z"
   },
   {
    "duration": 15,
    "start_time": "2025-02-01T23:15:53.717Z"
   },
   {
    "duration": 2,
    "start_time": "2025-02-01T23:16:01.322Z"
   },
   {
    "duration": 74,
    "start_time": "2025-02-01T23:16:01.831Z"
   },
   {
    "duration": 2,
    "start_time": "2025-02-01T23:16:01.907Z"
   },
   {
    "duration": 8,
    "start_time": "2025-02-01T23:16:01.930Z"
   },
   {
    "duration": 2,
    "start_time": "2025-02-01T23:16:01.965Z"
   },
   {
    "duration": 3,
    "start_time": "2025-02-01T23:16:01.996Z"
   },
   {
    "duration": 7,
    "start_time": "2025-02-01T23:16:02.033Z"
   },
   {
    "duration": 23049,
    "start_time": "2025-02-01T23:16:02.098Z"
   },
   {
    "duration": 9,
    "start_time": "2025-02-01T23:16:25.149Z"
   },
   {
    "duration": 151,
    "start_time": "2025-02-01T23:16:25.159Z"
   },
   {
    "duration": 21853,
    "start_time": "2025-02-01T23:16:25.313Z"
   },
   {
    "duration": 12,
    "start_time": "2025-02-01T23:16:47.167Z"
   },
   {
    "duration": 32,
    "start_time": "2025-02-01T23:16:47.180Z"
   },
   {
    "duration": 22362,
    "start_time": "2025-02-01T23:16:47.215Z"
   },
   {
    "duration": 12,
    "start_time": "2025-02-01T23:17:09.579Z"
   },
   {
    "duration": 32,
    "start_time": "2025-02-01T23:17:09.593Z"
   },
   {
    "duration": 4,
    "start_time": "2025-02-01T23:17:09.713Z"
   },
   {
    "duration": 5,
    "start_time": "2025-02-01T23:17:09.810Z"
   },
   {
    "duration": 6,
    "start_time": "2025-02-01T23:17:09.817Z"
   },
   {
    "duration": 18,
    "start_time": "2025-02-01T23:17:26.035Z"
   },
   {
    "duration": 3,
    "start_time": "2025-02-01T23:17:34.909Z"
   },
   {
    "duration": 88,
    "start_time": "2025-02-01T23:17:35.424Z"
   },
   {
    "duration": 3,
    "start_time": "2025-02-01T23:17:35.515Z"
   },
   {
    "duration": 39,
    "start_time": "2025-02-01T23:17:35.522Z"
   },
   {
    "duration": 7,
    "start_time": "2025-02-01T23:17:35.565Z"
   },
   {
    "duration": 4,
    "start_time": "2025-02-01T23:17:35.586Z"
   },
   {
    "duration": 6,
    "start_time": "2025-02-01T23:17:35.619Z"
   },
   {
    "duration": 22474,
    "start_time": "2025-02-01T23:17:35.691Z"
   },
   {
    "duration": 10,
    "start_time": "2025-02-01T23:17:58.167Z"
   },
   {
    "duration": 40,
    "start_time": "2025-02-01T23:17:58.179Z"
   },
   {
    "duration": 22625,
    "start_time": "2025-02-01T23:17:58.309Z"
   },
   {
    "duration": 11,
    "start_time": "2025-02-01T23:18:20.935Z"
   },
   {
    "duration": 65,
    "start_time": "2025-02-01T23:18:20.948Z"
   },
   {
    "duration": 22230,
    "start_time": "2025-02-01T23:18:21.015Z"
   },
   {
    "duration": 12,
    "start_time": "2025-02-01T23:18:43.247Z"
   },
   {
    "duration": 51,
    "start_time": "2025-02-01T23:18:43.261Z"
   },
   {
    "duration": 94,
    "start_time": "2025-02-01T23:18:43.316Z"
   },
   {
    "duration": 4,
    "start_time": "2025-02-01T23:18:43.412Z"
   },
   {
    "duration": 17,
    "start_time": "2025-02-01T23:18:43.417Z"
   },
   {
    "duration": 3,
    "start_time": "2025-02-01T23:18:50.236Z"
   },
   {
    "duration": 27,
    "start_time": "2025-02-01T23:18:51.047Z"
   },
   {
    "duration": 4,
    "start_time": "2025-02-01T23:19:01.239Z"
   },
   {
    "duration": 32,
    "start_time": "2025-02-01T23:19:01.891Z"
   },
   {
    "duration": 4,
    "start_time": "2025-02-01T23:19:06.732Z"
   },
   {
    "duration": 3,
    "start_time": "2025-02-01T23:24:27.923Z"
   },
   {
    "duration": 5,
    "start_time": "2025-02-01T23:24:28.326Z"
   },
   {
    "duration": 11,
    "start_time": "2025-02-01T23:24:48.359Z"
   },
   {
    "duration": 3,
    "start_time": "2025-02-01T23:25:00.192Z"
   },
   {
    "duration": 5,
    "start_time": "2025-02-01T23:25:00.411Z"
   },
   {
    "duration": 14,
    "start_time": "2025-02-01T23:25:01.091Z"
   },
   {
    "duration": 3,
    "start_time": "2025-02-01T23:25:14.225Z"
   },
   {
    "duration": 5,
    "start_time": "2025-02-01T23:25:14.708Z"
   },
   {
    "duration": 23,
    "start_time": "2025-02-01T23:25:15.278Z"
   },
   {
    "duration": 7,
    "start_time": "2025-02-01T23:28:40.376Z"
   },
   {
    "duration": 5,
    "start_time": "2025-02-01T23:29:11.533Z"
   },
   {
    "duration": 9,
    "start_time": "2025-02-01T23:29:12.323Z"
   },
   {
    "duration": 3,
    "start_time": "2025-02-01T23:29:19.173Z"
   },
   {
    "duration": 18,
    "start_time": "2025-02-01T23:29:19.497Z"
   },
   {
    "duration": 3,
    "start_time": "2025-02-01T23:29:20.827Z"
   },
   {
    "duration": 5,
    "start_time": "2025-02-01T23:29:21.243Z"
   },
   {
    "duration": 1448,
    "start_time": "2025-02-01T23:29:21.707Z"
   },
   {
    "duration": 6,
    "start_time": "2025-02-01T23:29:55.360Z"
   },
   {
    "duration": 1412,
    "start_time": "2025-02-01T23:29:55.636Z"
   },
   {
    "duration": 1380,
    "start_time": "2025-02-01T23:30:03.439Z"
   },
   {
    "duration": 3,
    "start_time": "2025-02-01T23:30:13.377Z"
   },
   {
    "duration": 5,
    "start_time": "2025-02-01T23:30:13.721Z"
   },
   {
    "duration": 1375,
    "start_time": "2025-02-01T23:30:14.194Z"
   },
   {
    "duration": 2,
    "start_time": "2025-02-01T23:31:09.088Z"
   },
   {
    "duration": 5,
    "start_time": "2025-02-01T23:31:09.401Z"
   },
   {
    "duration": 1398,
    "start_time": "2025-02-01T23:31:10.696Z"
   },
   {
    "duration": 1389,
    "start_time": "2025-02-01T23:31:14.221Z"
   },
   {
    "duration": 1395,
    "start_time": "2025-02-01T23:31:26.778Z"
   },
   {
    "duration": 1393,
    "start_time": "2025-02-01T23:31:36.028Z"
   },
   {
    "duration": 66,
    "start_time": "2025-02-01T23:37:50.382Z"
   },
   {
    "duration": 7918,
    "start_time": "2025-02-01T23:42:02.594Z"
   },
   {
    "duration": 10306,
    "start_time": "2025-02-02T02:14:26.262Z"
   },
   {
    "duration": 6675,
    "start_time": "2025-02-02T02:14:36.570Z"
   },
   {
    "duration": 1672,
    "start_time": "2025-02-02T02:14:43.247Z"
   },
   {
    "duration": 2,
    "start_time": "2025-02-02T02:14:44.921Z"
   },
   {
    "duration": 430,
    "start_time": "2025-02-02T02:14:44.925Z"
   },
   {
    "duration": 4,
    "start_time": "2025-02-02T02:14:45.357Z"
   },
   {
    "duration": 98,
    "start_time": "2025-02-02T02:14:45.362Z"
   },
   {
    "duration": 52,
    "start_time": "2025-02-02T02:14:45.462Z"
   },
   {
    "duration": 115,
    "start_time": "2025-02-02T02:14:45.515Z"
   },
   {
    "duration": 30,
    "start_time": "2025-02-02T02:14:45.632Z"
   },
   {
    "duration": 44,
    "start_time": "2025-02-02T02:14:45.663Z"
   },
   {
    "duration": 29,
    "start_time": "2025-02-02T02:14:45.709Z"
   },
   {
    "duration": 86,
    "start_time": "2025-02-02T02:14:45.740Z"
   },
   {
    "duration": 5049,
    "start_time": "2025-02-02T02:14:45.830Z"
   },
   {
    "duration": 9,
    "start_time": "2025-02-02T02:14:50.881Z"
   },
   {
    "duration": 1928,
    "start_time": "2025-02-02T02:14:50.892Z"
   },
   {
    "duration": 2,
    "start_time": "2025-02-02T02:14:52.822Z"
   },
   {
    "duration": 168,
    "start_time": "2025-02-02T02:14:52.825Z"
   },
   {
    "duration": 3,
    "start_time": "2025-02-02T02:14:52.995Z"
   },
   {
    "duration": 15,
    "start_time": "2025-02-02T02:14:53.000Z"
   },
   {
    "duration": 11,
    "start_time": "2025-02-02T02:14:53.017Z"
   },
   {
    "duration": 12,
    "start_time": "2025-02-02T02:14:53.029Z"
   },
   {
    "duration": 26,
    "start_time": "2025-02-02T02:14:53.043Z"
   },
   {
    "duration": 21439,
    "start_time": "2025-02-02T02:14:53.071Z"
   },
   {
    "duration": 10,
    "start_time": "2025-02-02T02:15:14.511Z"
   },
   {
    "duration": 39,
    "start_time": "2025-02-02T02:15:14.522Z"
   },
   {
    "duration": 23244,
    "start_time": "2025-02-02T02:15:14.564Z"
   },
   {
    "duration": 11,
    "start_time": "2025-02-02T02:15:37.810Z"
   },
   {
    "duration": 62,
    "start_time": "2025-02-02T02:15:37.823Z"
   },
   {
    "duration": 23156,
    "start_time": "2025-02-02T02:15:37.950Z"
   },
   {
    "duration": 11,
    "start_time": "2025-02-02T02:16:01.108Z"
   },
   {
    "duration": 31,
    "start_time": "2025-02-02T02:16:01.121Z"
   },
   {
    "duration": 97,
    "start_time": "2025-02-02T02:16:01.156Z"
   },
   {
    "duration": 19,
    "start_time": "2025-02-02T02:16:01.255Z"
   },
   {
    "duration": 7,
    "start_time": "2025-02-02T02:16:01.276Z"
   },
   {
    "duration": 9,
    "start_time": "2025-02-02T02:16:01.348Z"
   },
   {
    "duration": 17,
    "start_time": "2025-02-02T02:16:01.359Z"
   },
   {
    "duration": 3,
    "start_time": "2025-02-02T02:16:01.377Z"
   },
   {
    "duration": 20,
    "start_time": "2025-02-02T02:16:01.381Z"
   },
   {
    "duration": 1405,
    "start_time": "2025-02-02T02:16:01.402Z"
   },
   {
    "duration": 1357,
    "start_time": "2025-02-02T02:16:02.810Z"
   },
   {
    "duration": 1316,
    "start_time": "2025-02-02T02:16:04.169Z"
   },
   {
    "duration": 8,
    "start_time": "2025-02-02T08:25:22.870Z"
   },
   {
    "duration": 3,
    "start_time": "2025-02-02T08:25:23.495Z"
   },
   {
    "duration": 45,
    "start_time": "2025-02-02T08:25:27.201Z"
   },
   {
    "duration": 10264,
    "start_time": "2025-02-02T08:26:13.111Z"
   },
   {
    "duration": 7269,
    "start_time": "2025-02-02T08:26:23.377Z"
   },
   {
    "duration": 1625,
    "start_time": "2025-02-02T08:26:30.648Z"
   },
   {
    "duration": 3,
    "start_time": "2025-02-02T08:26:32.274Z"
   },
   {
    "duration": 414,
    "start_time": "2025-02-02T08:26:32.279Z"
   },
   {
    "duration": 2,
    "start_time": "2025-02-02T08:26:32.695Z"
   },
   {
    "duration": 83,
    "start_time": "2025-02-02T08:26:32.699Z"
   },
   {
    "duration": 91,
    "start_time": "2025-02-02T08:26:32.783Z"
   },
   {
    "duration": 123,
    "start_time": "2025-02-02T08:26:32.876Z"
   },
   {
    "duration": 10,
    "start_time": "2025-02-02T08:26:33.001Z"
   },
   {
    "duration": 26,
    "start_time": "2025-02-02T08:26:33.012Z"
   },
   {
    "duration": 5,
    "start_time": "2025-02-02T08:26:33.040Z"
   },
   {
    "duration": 5,
    "start_time": "2025-02-02T08:26:33.047Z"
   },
   {
    "duration": 5683,
    "start_time": "2025-02-02T08:26:33.056Z"
   },
   {
    "duration": 11,
    "start_time": "2025-02-02T08:26:38.740Z"
   },
   {
    "duration": 2142,
    "start_time": "2025-02-02T08:26:38.753Z"
   },
   {
    "duration": 3,
    "start_time": "2025-02-02T08:26:40.897Z"
   },
   {
    "duration": 138,
    "start_time": "2025-02-02T08:26:40.902Z"
   },
   {
    "duration": 4,
    "start_time": "2025-02-02T08:26:41.041Z"
   },
   {
    "duration": 5,
    "start_time": "2025-02-02T08:26:41.046Z"
   },
   {
    "duration": 4,
    "start_time": "2025-02-02T08:26:41.053Z"
   },
   {
    "duration": 4,
    "start_time": "2025-02-02T08:26:41.058Z"
   },
   {
    "duration": 5,
    "start_time": "2025-02-02T08:26:41.064Z"
   },
   {
    "duration": 23264,
    "start_time": "2025-02-02T08:26:41.071Z"
   },
   {
    "duration": 11,
    "start_time": "2025-02-02T08:27:04.337Z"
   },
   {
    "duration": 84,
    "start_time": "2025-02-02T08:27:04.350Z"
   },
   {
    "duration": 21731,
    "start_time": "2025-02-02T08:27:04.436Z"
   },
   {
    "duration": 12,
    "start_time": "2025-02-02T08:27:26.169Z"
   },
   {
    "duration": 57,
    "start_time": "2025-02-02T08:27:26.182Z"
   },
   {
    "duration": 21733,
    "start_time": "2025-02-02T08:27:26.242Z"
   },
   {
    "duration": 12,
    "start_time": "2025-02-02T08:27:47.976Z"
   },
   {
    "duration": 47,
    "start_time": "2025-02-02T08:27:47.990Z"
   },
   {
    "duration": 93,
    "start_time": "2025-02-02T08:27:48.040Z"
   },
   {
    "duration": 3,
    "start_time": "2025-02-02T08:27:48.135Z"
   },
   {
    "duration": 8,
    "start_time": "2025-02-02T08:27:48.140Z"
   },
   {
    "duration": 11,
    "start_time": "2025-02-02T08:27:48.149Z"
   },
   {
    "duration": 7,
    "start_time": "2025-02-02T08:27:48.161Z"
   },
   {
    "duration": 40,
    "start_time": "2025-02-02T08:27:48.170Z"
   },
   {
    "duration": 2,
    "start_time": "2025-02-02T08:27:48.212Z"
   },
   {
    "duration": 17,
    "start_time": "2025-02-02T08:27:48.216Z"
   },
   {
    "duration": 1358,
    "start_time": "2025-02-02T08:27:48.238Z"
   },
   {
    "duration": 1391,
    "start_time": "2025-02-02T08:27:49.597Z"
   },
   {
    "duration": 1380,
    "start_time": "2025-02-02T08:27:50.990Z"
   }
  ],
  "kernelspec": {
   "display_name": "Python 3 (ipykernel)",
   "language": "python",
   "name": "python3"
  },
  "language_info": {
   "codemirror_mode": {
    "name": "ipython",
    "version": 3
   },
   "file_extension": ".py",
   "mimetype": "text/x-python",
   "name": "python",
   "nbconvert_exporter": "python",
   "pygments_lexer": "ipython3",
   "version": "3.9.21"
  },
  "toc": {
   "base_numbering": 1,
   "nav_menu": {},
   "number_sections": true,
   "sideBar": true,
   "skip_h1_title": true,
   "title_cell": "Table of Contents",
   "title_sidebar": "Contents",
   "toc_cell": false,
   "toc_position": {},
   "toc_section_display": true,
   "toc_window_display": false
  }
 },
 "nbformat": 4,
 "nbformat_minor": 2
}
